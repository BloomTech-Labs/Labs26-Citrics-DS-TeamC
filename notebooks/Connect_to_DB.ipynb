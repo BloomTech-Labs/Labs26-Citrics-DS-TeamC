{
  "nbformat": 4,
  "nbformat_minor": 0,
  "metadata": {
    "colab": {
      "name": "Connect_to_DB.ipynb",
      "provenance": [],
      "collapsed_sections": [],
      "authorship_tag": "ABX9TyOwIB1bDZVryJ7QhMC1xc/2",
      "include_colab_link": true
    },
    "kernelspec": {
      "name": "python3",
      "display_name": "Python 3"
    }
  },
  "cells": [
    {
      "cell_type": "markdown",
      "metadata": {
        "id": "view-in-github",
        "colab_type": "text"
      },
      "source": [
        "<a href=\"https://colab.research.google.com/github/Lambda-School-Labs/Labs26-Citrics-DS-TeamC/blob/mtoce/notebooks/Connect_to_DB.ipynb\" target=\"_parent\"><img src=\"https://colab.research.google.com/assets/colab-badge.svg\" alt=\"Open In Colab\"/></a>"
      ]
    },
    {
      "cell_type": "code",
      "metadata": {
        "id": "17fqSwLOf8FX"
      },
      "source": [
        "import pandas as pd\n",
        "import psycopg2\n",
        "from sqlalchemy import create_engine\n",
        "from sqlalchemy.types import Integer, Float, Text, String, DateTime\n",
        "\n",
        "def create_db_uri():\n",
        "    DB_FLAVOR = \"postgres\"\n",
        "    DB_PYTHON_LIBRARY = \"psycopg2\"\n",
        "    DB_HOST = \"citrics-ds-teamc.cav8gkdxva9e.us-east-1.rds.amazonaws.com\"\n",
        "    DB_NAME = \"postgres\"\n",
        "    DB_USER = \"postgres\"\n",
        "    DB_PASS = \"UM*3tAe<ns!q!nG3\"\n",
        "    DB_PORT = \"5432\"\n",
        "    DB_URI = DB_FLAVOR + \"+\" + DB_PYTHON_LIBRARY + \"://\" + DB_USER + \":\" + DB_PASS + \"@\" + DB_HOST + \":\" + DB_PORT + \"/\" + DB_NAME\n",
        "    return DB_URI\n",
        "    \n",
        "DB_URI = create_db_uri()"
      ],
      "execution_count": 7,
      "outputs": []
    },
    {
      "cell_type": "code",
      "metadata": {
        "id": "lciQAYZSuaIk"
      },
      "source": [
        "# CONNECTION Engine with SQLAlchemy\n",
        "engine = create_engine(DB_URI, echo=True)"
      ],
      "execution_count": 8,
      "outputs": []
    },
    {
      "cell_type": "code",
      "metadata": {
        "id": "kmXI3IO4uc8Q",
        "outputId": "29771367-1d56-46fc-fb10-21fc29210696",
        "colab": {
          "base_uri": "https://localhost:8080/",
          "height": 338
        }
      },
      "source": [
        "_list = [\"Albany, NY\", \"Sacramento, CA\", \"Austin, TX\"]\n",
        "def sql_query(user_queried_citystates):\n",
        "    '''\n",
        "    Create a SQL query to grab only the user queried cities' data from the weather table in the DB.\n",
        "    Output: subset grouped DF by month and city with only queried cities\n",
        "    '''\n",
        "\n",
        "    # GET SQL weather table\n",
        "    list_length = len(user_queried_citystates)\n",
        "\n",
        "    if list_length == 1:\n",
        "        city1 = user_queried_citystates[0]\n",
        "        weather = pd.read_sql(f\"SELECT * FROM weather WHERE 'City_State' IN ('{city1}')\", con=engine, parse_dates=['created_at', 'updated_at'])\n",
        "    elif list_length == 2:\n",
        "        city1 = user_queried_citystates[0]\n",
        "        city2 = user_queried_citystates[1]\n",
        "        weather = pd.read_sql(f\"SELECT * FROM weather WHERE 'City_State' IN ('{city1}', '{city2}')\", con=engine, parse_dates=['created_at', 'updated_at'])\n",
        "    elif list_length == 3:\n",
        "        city1 = user_queried_citystates[0]\n",
        "        city2 = user_queried_citystates[1]\n",
        "        city3 = user_queried_citystates[2]\n",
        "        weather = pd.read_sql(f\"SELECT * FROM weather WHERE 'City_State' IN ('{city1}', '{city2}', '{city3}')\", con=engine, parse_dates=['created_at', 'updated_at'])\n",
        "    else:\n",
        "        raise Exception(\"Please pass a list of 1-3 City_States\")\n",
        "    \n",
        "    print(weather.head())\n",
        "    # create day, month, year columns from date_time column\n",
        "    weather['date_time'] = pd.to_datetime(weather['date_time'], infer_datetime_format=True)\n",
        "    weather['year'] = weather['date_time'].dt.year\n",
        "    weather['month'] = weather['date_time'].dt.month\n",
        "    weather['day'] = weather['date_time'].dt.day\n",
        "    # params=(user_queried_citystates[0], user_queried_citystates[1], user_queried_citystates[2])\n",
        "    # GROUP weather data based on month and city\n",
        "    grpW = weather.groupby(['month', 'City_State'], as_index=False).mean()\n",
        "\n",
        "    # user_input = ['Albany, NY', 'Sacramento, CA', 'Austin, TX']   # user searched list of cities\n",
        "    months = ['January', 'February', 'March', 'April', 'May', 'June', 'July', 'August', 'September', 'October', 'November', 'December']\n",
        "\n",
        "    # Set subset of grouped df for only these city-states\n",
        "    subsetW = grpW[grpW['City_State'].isin(user_queried_citystates)]\n",
        "\n",
        "    return subsetW\n",
        "# call query function to get grouped frames from DB\n",
        "subsetW = sql_query(_list)\n",
        "\n",
        "subsetW.head()"
      ],
      "execution_count": 10,
      "outputs": [
        {
          "output_type": "stream",
          "text": [
            "2020-10-15 19:27:12,889 INFO sqlalchemy.engine.base.Engine select version()\n",
            "2020-10-15 19:27:12,890 INFO sqlalchemy.engine.base.Engine {}\n",
            "2020-10-15 19:27:12,918 INFO sqlalchemy.engine.base.Engine select current_schema()\n",
            "2020-10-15 19:27:12,919 INFO sqlalchemy.engine.base.Engine {}\n",
            "2020-10-15 19:27:12,947 INFO sqlalchemy.engine.base.Engine SELECT CAST('test plain returns' AS VARCHAR(60)) AS anon_1\n",
            "2020-10-15 19:27:12,948 INFO sqlalchemy.engine.base.Engine {}\n",
            "2020-10-15 19:27:12,963 INFO sqlalchemy.engine.base.Engine SELECT CAST('test unicode returns' AS VARCHAR(60)) AS anon_1\n",
            "2020-10-15 19:27:12,964 INFO sqlalchemy.engine.base.Engine {}\n",
            "2020-10-15 19:27:12,979 INFO sqlalchemy.engine.base.Engine show standard_conforming_strings\n",
            "2020-10-15 19:27:12,981 INFO sqlalchemy.engine.base.Engine {}\n",
            "2020-10-15 19:27:13,009 INFO sqlalchemy.engine.base.Engine select relname from pg_class c join pg_namespace n on n.oid=c.relnamespace where pg_catalog.pg_table_is_visible(c.oid) and relname=%(name)s\n",
            "2020-10-15 19:27:13,010 INFO sqlalchemy.engine.base.Engine {'name': \"SELECT * FROM weather WHERE 'City_State' IN ('Albany, NY', 'Sacramento, CA', 'Austin, TX')\"}\n",
            "2020-10-15 19:27:13,054 INFO sqlalchemy.engine.base.OptionEngine SELECT * FROM weather WHERE 'City_State' IN ('Albany, NY', 'Sacramento, CA', 'Austin, TX')\n",
            "2020-10-15 19:27:13,055 INFO sqlalchemy.engine.base.OptionEngine {}\n",
            "Empty DataFrame\n",
            "Columns: [id, pop, City_State, MaxTempF, FeelsLikeF, MinTempF, Precip_mm, TotalSnow_cm, UVindex, Humidity, WindSpeed_kmph, date_time]\n",
            "Index: []\n"
          ],
          "name": "stdout"
        },
        {
          "output_type": "execute_result",
          "data": {
            "text/html": [
              "<div>\n",
              "<style scoped>\n",
              "    .dataframe tbody tr th:only-of-type {\n",
              "        vertical-align: middle;\n",
              "    }\n",
              "\n",
              "    .dataframe tbody tr th {\n",
              "        vertical-align: top;\n",
              "    }\n",
              "\n",
              "    .dataframe thead th {\n",
              "        text-align: right;\n",
              "    }\n",
              "</style>\n",
              "<table border=\"1\" class=\"dataframe\">\n",
              "  <thead>\n",
              "    <tr style=\"text-align: right;\">\n",
              "      <th></th>\n",
              "      <th>month</th>\n",
              "      <th>City_State</th>\n",
              "      <th>year</th>\n",
              "      <th>day</th>\n",
              "    </tr>\n",
              "  </thead>\n",
              "  <tbody>\n",
              "  </tbody>\n",
              "</table>\n",
              "</div>"
            ],
            "text/plain": [
              "Empty DataFrame\n",
              "Columns: [month, City_State, year, day]\n",
              "Index: []"
            ]
          },
          "metadata": {
            "tags": []
          },
          "execution_count": 10
        }
      ]
    },
    {
      "cell_type": "code",
      "metadata": {
        "id": "GVWwXXsSuk8J"
      },
      "source": [
        "# create line chart with color var as the city-state\n",
        "fig = px.line(subsetW, x='month', y='FeelsLikeF', \n",
        "            labels={'FeelsLikeF': 'Temperature (\\N{DEGREE SIGN}F)', 'month': 'Month'}, \n",
        "            color='City_State', title=f'Monthly Average Temperature for Queried Cities').for_each_trace(lambda t: t.update(name=t.name.split(\"=\")[1]))\n",
        "# fig.layout.title.Font(\"Balto\")\n",
        "# fig.update_layout(tickmode='array',tickvals=months)\n",
        "# fig.update_layout(legend=dict(yanchor=\"top\",y=0.99,xanchor=\"left\",x=0.01))    # legend inside graph top left\n",
        "fig.update_layout(legend=dict(orientation=\"h\", yanchor=\"bottom\", y=1.02, xanchor=\"right\", x=1), # legend above graph top right\n",
        "              xaxis = dict(\n",
        "                  tickmode = 'array',\n",
        "                  tick0 = 1,\n",
        "                  dtick = 1,\n",
        "                  tickvals = [1, 2, 3, 4, 5, 6, 7, 8, 9, 10, 11, 12],\n",
        "                  ticktext = months\n",
        "              ))   # ticks for every month\n",
        "# fig.show()\n",
        "temp_json = fig.to_json()"
      ],
      "execution_count": null,
      "outputs": []
    },
    {
      "cell_type": "code",
      "metadata": {
        "id": "XpKoDnAYf9cA",
        "outputId": "1d2f38b8-a2ca-4a73-b10e-97e32263842b",
        "colab": {
          "base_uri": "https://localhost:8080/",
          "height": 85
        }
      },
      "source": [
        "weather_sql = pd.read_sql(\n",
        "    \"SELECT * FROM weather\",\n",
        "    con=engine,\n",
        "    parse_dates=[\n",
        "        'created_at',\n",
        "        'updated_at'\n",
        "    ]\n",
        ")"
      ],
      "execution_count": 11,
      "outputs": [
        {
          "output_type": "stream",
          "text": [
            "2020-10-15 19:28:09,346 INFO sqlalchemy.engine.base.Engine select relname from pg_class c join pg_namespace n on n.oid=c.relnamespace where pg_catalog.pg_table_is_visible(c.oid) and relname=%(name)s\n",
            "2020-10-15 19:28:09,349 INFO sqlalchemy.engine.base.Engine {'name': 'SELECT * FROM weather'}\n",
            "2020-10-15 19:28:09,391 INFO sqlalchemy.engine.base.OptionEngine SELECT * FROM weather\n",
            "2020-10-15 19:28:09,393 INFO sqlalchemy.engine.base.OptionEngine {}\n"
          ],
          "name": "stdout"
        }
      ]
    },
    {
      "cell_type": "code",
      "metadata": {
        "id": "MfT4uHfQgGeQ",
        "outputId": "c30e30c2-064b-410c-aeb0-9017bf4775c1",
        "colab": {
          "base_uri": "https://localhost:8080/",
          "height": 204
        }
      },
      "source": [
        "weather_sql.head()"
      ],
      "execution_count": 45,
      "outputs": [
        {
          "output_type": "execute_result",
          "data": {
            "text/html": [
              "<div>\n",
              "<style scoped>\n",
              "    .dataframe tbody tr th:only-of-type {\n",
              "        vertical-align: middle;\n",
              "    }\n",
              "\n",
              "    .dataframe tbody tr th {\n",
              "        vertical-align: top;\n",
              "    }\n",
              "\n",
              "    .dataframe thead th {\n",
              "        text-align: right;\n",
              "    }\n",
              "</style>\n",
              "<table border=\"1\" class=\"dataframe\">\n",
              "  <thead>\n",
              "    <tr style=\"text-align: right;\">\n",
              "      <th></th>\n",
              "      <th>id</th>\n",
              "      <th>pop</th>\n",
              "      <th>City_State</th>\n",
              "      <th>MaxTempF</th>\n",
              "      <th>FeelsLikeF</th>\n",
              "      <th>MinTempF</th>\n",
              "      <th>Precip_mm</th>\n",
              "      <th>TotalSnow_cm</th>\n",
              "      <th>UVindex</th>\n",
              "      <th>Humidity</th>\n",
              "      <th>WindSpeed_kmph</th>\n",
              "      <th>date_time</th>\n",
              "    </tr>\n",
              "  </thead>\n",
              "  <tbody>\n",
              "    <tr>\n",
              "      <th>0</th>\n",
              "      <td>0</td>\n",
              "      <td>8336817</td>\n",
              "      <td>New York City, NY</td>\n",
              "      <td>33.8</td>\n",
              "      <td>19.4</td>\n",
              "      <td>21.2</td>\n",
              "      <td>0.0</td>\n",
              "      <td>0.0</td>\n",
              "      <td>2</td>\n",
              "      <td>44</td>\n",
              "      <td>16</td>\n",
              "      <td>2015-01-01</td>\n",
              "    </tr>\n",
              "    <tr>\n",
              "      <th>1</th>\n",
              "      <td>0</td>\n",
              "      <td>8336817</td>\n",
              "      <td>New York City, NY</td>\n",
              "      <td>39.2</td>\n",
              "      <td>26.6</td>\n",
              "      <td>28.4</td>\n",
              "      <td>0.0</td>\n",
              "      <td>0.0</td>\n",
              "      <td>1</td>\n",
              "      <td>65</td>\n",
              "      <td>13</td>\n",
              "      <td>2015-01-02</td>\n",
              "    </tr>\n",
              "    <tr>\n",
              "      <th>2</th>\n",
              "      <td>0</td>\n",
              "      <td>8336817</td>\n",
              "      <td>New York City, NY</td>\n",
              "      <td>37.4</td>\n",
              "      <td>26.6</td>\n",
              "      <td>26.6</td>\n",
              "      <td>6.5</td>\n",
              "      <td>0.0</td>\n",
              "      <td>1</td>\n",
              "      <td>80</td>\n",
              "      <td>10</td>\n",
              "      <td>2015-01-03</td>\n",
              "    </tr>\n",
              "    <tr>\n",
              "      <th>3</th>\n",
              "      <td>0</td>\n",
              "      <td>8336817</td>\n",
              "      <td>New York City, NY</td>\n",
              "      <td>46.4</td>\n",
              "      <td>39.2</td>\n",
              "      <td>37.4</td>\n",
              "      <td>0.9</td>\n",
              "      <td>0.0</td>\n",
              "      <td>2</td>\n",
              "      <td>95</td>\n",
              "      <td>12</td>\n",
              "      <td>2015-01-04</td>\n",
              "    </tr>\n",
              "    <tr>\n",
              "      <th>4</th>\n",
              "      <td>0</td>\n",
              "      <td>8336817</td>\n",
              "      <td>New York City, NY</td>\n",
              "      <td>39.2</td>\n",
              "      <td>19.4</td>\n",
              "      <td>19.4</td>\n",
              "      <td>0.0</td>\n",
              "      <td>0.0</td>\n",
              "      <td>2</td>\n",
              "      <td>59</td>\n",
              "      <td>22</td>\n",
              "      <td>2015-01-05</td>\n",
              "    </tr>\n",
              "  </tbody>\n",
              "</table>\n",
              "</div>"
            ],
            "text/plain": [
              "   id      pop         City_State  ...  Humidity  WindSpeed_kmph  date_time\n",
              "0   0  8336817  New York City, NY  ...        44              16 2015-01-01\n",
              "1   0  8336817  New York City, NY  ...        65              13 2015-01-02\n",
              "2   0  8336817  New York City, NY  ...        80              10 2015-01-03\n",
              "3   0  8336817  New York City, NY  ...        95              12 2015-01-04\n",
              "4   0  8336817  New York City, NY  ...        59              22 2015-01-05\n",
              "\n",
              "[5 rows x 12 columns]"
            ]
          },
          "metadata": {
            "tags": []
          },
          "execution_count": 45
        }
      ]
    },
    {
      "cell_type": "code",
      "metadata": {
        "id": "3qUkpv-4gLJV",
        "outputId": "383d7d97-0044-46c6-fb50-cee21b8f6246",
        "colab": {
          "base_uri": "https://localhost:8080/",
          "height": 85
        }
      },
      "source": [
        "query = 'SELECT * FROM weather WHERE \"City_State\" IN (%(city1)s)'\n",
        "df = pd.read_sql(sql = query, columns = \"City_State\", params={\"city1\":_list[0]}, con=engine, parse_dates=['created_at', 'updated_at'])"
      ],
      "execution_count": 42,
      "outputs": [
        {
          "output_type": "stream",
          "text": [
            "2020-10-15 19:53:28,625 INFO sqlalchemy.engine.base.Engine select relname from pg_class c join pg_namespace n on n.oid=c.relnamespace where pg_catalog.pg_table_is_visible(c.oid) and relname=%(name)s\n",
            "2020-10-15 19:53:28,626 INFO sqlalchemy.engine.base.Engine {'name': 'SELECT * FROM weather WHERE \"City_State\" IN (%(city1)s)'}\n",
            "2020-10-15 19:53:28,670 INFO sqlalchemy.engine.base.OptionEngine SELECT * FROM weather WHERE \"City_State\" IN (%(city1)s)\n",
            "2020-10-15 19:53:28,671 INFO sqlalchemy.engine.base.OptionEngine {'city1': 'Albany, NY'}\n"
          ],
          "name": "stdout"
        }
      ]
    },
    {
      "cell_type": "code",
      "metadata": {
        "id": "hIKRPaW-vKg8",
        "outputId": "ed9441a5-fc77-4a52-b05f-42fa50961e98",
        "colab": {
          "base_uri": "https://localhost:8080/",
          "height": 204
        }
      },
      "source": [
        "df.head()"
      ],
      "execution_count": 46,
      "outputs": [
        {
          "output_type": "execute_result",
          "data": {
            "text/html": [
              "<div>\n",
              "<style scoped>\n",
              "    .dataframe tbody tr th:only-of-type {\n",
              "        vertical-align: middle;\n",
              "    }\n",
              "\n",
              "    .dataframe tbody tr th {\n",
              "        vertical-align: top;\n",
              "    }\n",
              "\n",
              "    .dataframe thead th {\n",
              "        text-align: right;\n",
              "    }\n",
              "</style>\n",
              "<table border=\"1\" class=\"dataframe\">\n",
              "  <thead>\n",
              "    <tr style=\"text-align: right;\">\n",
              "      <th></th>\n",
              "      <th>id</th>\n",
              "      <th>pop</th>\n",
              "      <th>City_State</th>\n",
              "      <th>MaxTempF</th>\n",
              "      <th>FeelsLikeF</th>\n",
              "      <th>MinTempF</th>\n",
              "      <th>Precip_mm</th>\n",
              "      <th>TotalSnow_cm</th>\n",
              "      <th>UVindex</th>\n",
              "      <th>Humidity</th>\n",
              "      <th>WindSpeed_kmph</th>\n",
              "      <th>date_time</th>\n",
              "    </tr>\n",
              "  </thead>\n",
              "  <tbody>\n",
              "    <tr>\n",
              "      <th>0</th>\n",
              "      <td>285</td>\n",
              "      <td>96460</td>\n",
              "      <td>Albany, NY</td>\n",
              "      <td>82.4</td>\n",
              "      <td>69.8</td>\n",
              "      <td>57.2</td>\n",
              "      <td>0.3</td>\n",
              "      <td>0.0</td>\n",
              "      <td>6</td>\n",
              "      <td>77</td>\n",
              "      <td>6</td>\n",
              "      <td>2016-08-18</td>\n",
              "    </tr>\n",
              "    <tr>\n",
              "      <th>1</th>\n",
              "      <td>285</td>\n",
              "      <td>96460</td>\n",
              "      <td>Albany, NY</td>\n",
              "      <td>26.6</td>\n",
              "      <td>10.4</td>\n",
              "      <td>17.6</td>\n",
              "      <td>0.0</td>\n",
              "      <td>0.0</td>\n",
              "      <td>2</td>\n",
              "      <td>50</td>\n",
              "      <td>18</td>\n",
              "      <td>2015-01-01</td>\n",
              "    </tr>\n",
              "    <tr>\n",
              "      <th>2</th>\n",
              "      <td>285</td>\n",
              "      <td>96460</td>\n",
              "      <td>Albany, NY</td>\n",
              "      <td>28.4</td>\n",
              "      <td>17.6</td>\n",
              "      <td>21.2</td>\n",
              "      <td>7.9</td>\n",
              "      <td>1.5</td>\n",
              "      <td>2</td>\n",
              "      <td>76</td>\n",
              "      <td>12</td>\n",
              "      <td>2015-01-03</td>\n",
              "    </tr>\n",
              "    <tr>\n",
              "      <th>3</th>\n",
              "      <td>285</td>\n",
              "      <td>96460</td>\n",
              "      <td>Albany, NY</td>\n",
              "      <td>39.2</td>\n",
              "      <td>28.4</td>\n",
              "      <td>30.2</td>\n",
              "      <td>3.7</td>\n",
              "      <td>0.0</td>\n",
              "      <td>1</td>\n",
              "      <td>96</td>\n",
              "      <td>15</td>\n",
              "      <td>2015-01-04</td>\n",
              "    </tr>\n",
              "    <tr>\n",
              "      <th>4</th>\n",
              "      <td>285</td>\n",
              "      <td>96460</td>\n",
              "      <td>Albany, NY</td>\n",
              "      <td>33.8</td>\n",
              "      <td>8.6</td>\n",
              "      <td>12.2</td>\n",
              "      <td>0.3</td>\n",
              "      <td>0.0</td>\n",
              "      <td>1</td>\n",
              "      <td>61</td>\n",
              "      <td>29</td>\n",
              "      <td>2015-01-05</td>\n",
              "    </tr>\n",
              "  </tbody>\n",
              "</table>\n",
              "</div>"
            ],
            "text/plain": [
              "    id    pop  City_State  ...  Humidity  WindSpeed_kmph  date_time\n",
              "0  285  96460  Albany, NY  ...        77               6 2016-08-18\n",
              "1  285  96460  Albany, NY  ...        50              18 2015-01-01\n",
              "2  285  96460  Albany, NY  ...        76              12 2015-01-03\n",
              "3  285  96460  Albany, NY  ...        96              15 2015-01-04\n",
              "4  285  96460  Albany, NY  ...        61              29 2015-01-05\n",
              "\n",
              "[5 rows x 12 columns]"
            ]
          },
          "metadata": {
            "tags": []
          },
          "execution_count": 46
        }
      ]
    },
    {
      "cell_type": "markdown",
      "metadata": {
        "id": "cuoKmKXOF0JK"
      },
      "source": [
        "## Insert COVID table"
      ]
    },
    {
      "cell_type": "code",
      "metadata": {
        "id": "fWhUKM3jHASE",
        "outputId": "84ed08b2-9479-4cc0-b00f-97c5f7f0d1b7",
        "colab": {
          "base_uri": "https://localhost:8080/",
          "height": 34
        }
      },
      "source": [
        "# MOUNT Drive\n",
        "from google.colab import drive\n",
        "drive.mount('/content/drive')"
      ],
      "execution_count": 48,
      "outputs": [
        {
          "output_type": "stream",
          "text": [
            "Mounted at /content/drive\n"
          ],
          "name": "stdout"
        }
      ]
    },
    {
      "cell_type": "code",
      "metadata": {
        "id": "B7edOLkNz7EJ",
        "outputId": "4a6c0d27-0dc1-45a1-99bb-b9b922eba175",
        "colab": {
          "base_uri": "https://localhost:8080/",
          "height": 204
        }
      },
      "source": [
        "base_path = '/content/drive/My Drive/lambda_school/driftly_data/'\n",
        "covid = pd.read_csv(base_path + 'covid_data/covid_merge.csv')\n",
        "covid.head()"
      ],
      "execution_count": 51,
      "outputs": [
        {
          "output_type": "execute_result",
          "data": {
            "text/html": [
              "<div>\n",
              "<style scoped>\n",
              "    .dataframe tbody tr th:only-of-type {\n",
              "        vertical-align: middle;\n",
              "    }\n",
              "\n",
              "    .dataframe tbody tr th {\n",
              "        vertical-align: top;\n",
              "    }\n",
              "\n",
              "    .dataframe thead th {\n",
              "        text-align: right;\n",
              "    }\n",
              "</style>\n",
              "<table border=\"1\" class=\"dataframe\">\n",
              "  <thead>\n",
              "    <tr style=\"text-align: right;\">\n",
              "      <th></th>\n",
              "      <th>seconds_since_epoch</th>\n",
              "      <th>tested</th>\n",
              "      <th>positive</th>\n",
              "      <th>deaths</th>\n",
              "      <th>postal</th>\n",
              "      <th>date</th>\n",
              "      <th>year</th>\n",
              "      <th>month</th>\n",
              "      <th>day</th>\n",
              "    </tr>\n",
              "  </thead>\n",
              "  <tbody>\n",
              "    <tr>\n",
              "      <th>0</th>\n",
              "      <td>1588293736</td>\n",
              "      <td>19562</td>\n",
              "      <td>355</td>\n",
              "      <td>9</td>\n",
              "      <td>AK</td>\n",
              "      <td>2020-05-01 00:42:16</td>\n",
              "      <td>2020</td>\n",
              "      <td>5</td>\n",
              "      <td>1</td>\n",
              "    </tr>\n",
              "    <tr>\n",
              "      <th>1</th>\n",
              "      <td>1588372862</td>\n",
              "      <td>19562</td>\n",
              "      <td>364</td>\n",
              "      <td>9</td>\n",
              "      <td>AK</td>\n",
              "      <td>2020-05-01 22:41:02</td>\n",
              "      <td>2020</td>\n",
              "      <td>5</td>\n",
              "      <td>1</td>\n",
              "    </tr>\n",
              "    <tr>\n",
              "      <th>2</th>\n",
              "      <td>1588390979</td>\n",
              "      <td>20325</td>\n",
              "      <td>364</td>\n",
              "      <td>9</td>\n",
              "      <td>AK</td>\n",
              "      <td>2020-05-02 03:42:59</td>\n",
              "      <td>2020</td>\n",
              "      <td>5</td>\n",
              "      <td>2</td>\n",
              "    </tr>\n",
              "    <tr>\n",
              "      <th>3</th>\n",
              "      <td>1588445522</td>\n",
              "      <td>20325</td>\n",
              "      <td>365</td>\n",
              "      <td>9</td>\n",
              "      <td>AK</td>\n",
              "      <td>2020-05-02 18:52:02</td>\n",
              "      <td>2020</td>\n",
              "      <td>5</td>\n",
              "      <td>2</td>\n",
              "    </tr>\n",
              "    <tr>\n",
              "      <th>4</th>\n",
              "      <td>1588466696</td>\n",
              "      <td>21399</td>\n",
              "      <td>365</td>\n",
              "      <td>9</td>\n",
              "      <td>AK</td>\n",
              "      <td>2020-05-03 00:44:56</td>\n",
              "      <td>2020</td>\n",
              "      <td>5</td>\n",
              "      <td>3</td>\n",
              "    </tr>\n",
              "  </tbody>\n",
              "</table>\n",
              "</div>"
            ],
            "text/plain": [
              "   seconds_since_epoch  tested  positive  ...  year month day\n",
              "0           1588293736   19562       355  ...  2020     5   1\n",
              "1           1588372862   19562       364  ...  2020     5   1\n",
              "2           1588390979   20325       364  ...  2020     5   2\n",
              "3           1588445522   20325       365  ...  2020     5   2\n",
              "4           1588466696   21399       365  ...  2020     5   3\n",
              "\n",
              "[5 rows x 9 columns]"
            ]
          },
          "metadata": {
            "tags": []
          },
          "execution_count": 51
        }
      ]
    },
    {
      "cell_type": "code",
      "metadata": {
        "id": "YmQr8IIyIKqY",
        "outputId": "c7ac0d24-c1fc-4756-eb71-d19c627e157a",
        "colab": {
          "base_uri": "https://localhost:8080/",
          "height": 187
        }
      },
      "source": [
        "covid.dtypes"
      ],
      "execution_count": 54,
      "outputs": [
        {
          "output_type": "execute_result",
          "data": {
            "text/plain": [
              "seconds_since_epoch     int64\n",
              "tested                  int64\n",
              "positive                int64\n",
              "deaths                  int64\n",
              "postal                 object\n",
              "date                   object\n",
              "year                    int64\n",
              "month                   int64\n",
              "day                     int64\n",
              "dtype: object"
            ]
          },
          "metadata": {
            "tags": []
          },
          "execution_count": 54
        }
      ]
    },
    {
      "cell_type": "code",
      "metadata": {
        "id": "YggciDiyz7_0",
        "outputId": "0a6f0d93-6926-45e0-dcaf-a06684620c24",
        "colab": {
          "base_uri": "https://localhost:8080/",
          "height": 751
        }
      },
      "source": [
        "table_name = 'covid'\n",
        "\n",
        "covid.to_sql(table_name, engine, if_exists='replace', index=False, chunksize=500,\n",
        "            dtype={\n",
        "                'seconds_since_epoch': Integer,\n",
        "                'tested': Integer,\n",
        "                'positive': Integer,\n",
        "                'deaths': Integer,\n",
        "                'postal': String,\n",
        "                'date': DateTime,\n",
        "                'year': Integer,\n",
        "                'month': Integer,\n",
        "                'day': Integer\n",
        "            })"
      ],
      "execution_count": 55,
      "outputs": [
        {
          "output_type": "stream",
          "text": [
            "2020-10-15 21:21:55,543 INFO sqlalchemy.engine.base.Engine select relname from pg_class c join pg_namespace n on n.oid=c.relnamespace where pg_catalog.pg_table_is_visible(c.oid) and relname=%(name)s\n",
            "2020-10-15 21:21:55,544 INFO sqlalchemy.engine.base.Engine {'name': 'covid'}\n",
            "2020-10-15 21:21:55,717 INFO sqlalchemy.engine.base.Engine \n",
            "CREATE TABLE covid (\n",
            "\tseconds_since_epoch INTEGER, \n",
            "\ttested INTEGER, \n",
            "\tpositive INTEGER, \n",
            "\tdeaths INTEGER, \n",
            "\tpostal VARCHAR, \n",
            "\tdate TIMESTAMP WITHOUT TIME ZONE, \n",
            "\tyear INTEGER, \n",
            "\tmonth INTEGER, \n",
            "\tday INTEGER\n",
            ")\n",
            "\n",
            "\n",
            "2020-10-15 21:21:55,718 INFO sqlalchemy.engine.base.Engine {}\n",
            "2020-10-15 21:21:55,789 INFO sqlalchemy.engine.base.Engine COMMIT\n",
            "2020-10-15 21:21:55,810 INFO sqlalchemy.engine.base.Engine BEGIN (implicit)\n",
            "2020-10-15 21:21:55,818 INFO sqlalchemy.engine.base.Engine INSERT INTO covid (seconds_since_epoch, tested, positive, deaths, postal, date, year, month, day) VALUES (%(seconds_since_epoch)s, %(tested)s, %(positive)s, %(deaths)s, %(postal)s, %(date)s, %(year)s, %(month)s, %(day)s)\n",
            "2020-10-15 21:21:55,819 INFO sqlalchemy.engine.base.Engine ({'seconds_since_epoch': 1588293736, 'tested': 19562, 'positive': 355, 'deaths': 9, 'postal': 'AK', 'date': '2020-05-01 00:42:16', 'year': 2020, 'month': 5, 'day': 1}, {'seconds_since_epoch': 1588372862, 'tested': 19562, 'positive': 364, 'deaths': 9, 'postal': 'AK', 'date': '2020-05-01 22:41:02', 'year': 2020, 'month': 5, 'day': 1}, {'seconds_since_epoch': 1588390979, 'tested': 20325, 'positive': 364, 'deaths': 9, 'postal': 'AK', 'date': '2020-05-02 03:42:59', 'year': 2020, 'month': 5, 'day': 2}, {'seconds_since_epoch': 1588445522, 'tested': 20325, 'positive': 365, 'deaths': 9, 'postal': 'AK', 'date': '2020-05-02 18:52:02', 'year': 2020, 'month': 5, 'day': 2}, {'seconds_since_epoch': 1588466696, 'tested': 21399, 'positive': 365, 'deaths': 9, 'postal': 'AK', 'date': '2020-05-03 00:44:56', 'year': 2020, 'month': 5, 'day': 3}, {'seconds_since_epoch': 1588548782, 'tested': 21399, 'positive': 368, 'deaths': 9, 'postal': 'AK', 'date': '2020-05-03 23:33:02', 'year': 2020, 'month': 5, 'day': 3}, {'seconds_since_epoch': 1588566059, 'tested': 21578, 'positive': 368, 'deaths': 9, 'postal': 'AK', 'date': '2020-05-04 04:20:59', 'year': 2020, 'month': 5, 'day': 4}, {'seconds_since_epoch': 1588622342, 'tested': 21578, 'positive': 370, 'deaths': 9, 'postal': 'AK', 'date': '2020-05-04 19:59:02', 'year': 2020, 'month': 5, 'day': 4}  ... displaying 10 of 500 total bound parameter sets ...  {'seconds_since_epoch': 1595574019, 'tested': 467726, 'positive': 42314, 'deaths': 1598, 'postal': 'CO', 'date': '2020-07-24 07:00:19', 'year': 2020, 'month': 7, 'day': 24}, {'seconds_since_epoch': 1595661021, 'tested': 476586, 'positive': 42980, 'deaths': 1598, 'postal': 'CO', 'date': '2020-07-25 07:10:21', 'year': 2020, 'month': 7, 'day': 25})\n",
            "2020-10-15 21:22:02,523 INFO sqlalchemy.engine.base.Engine INSERT INTO covid (seconds_since_epoch, tested, positive, deaths, postal, date, year, month, day) VALUES (%(seconds_since_epoch)s, %(tested)s, %(positive)s, %(deaths)s, %(postal)s, %(date)s, %(year)s, %(month)s, %(day)s)\n",
            "2020-10-15 21:22:02,524 INFO sqlalchemy.engine.base.Engine ({'seconds_since_epoch': 1595747687, 'tested': 487235, 'positive': 43789, 'deaths': 1598, 'postal': 'CO', 'date': '2020-07-26 07:14:47', 'year': 2020, 'month': 7, 'day': 26}, {'seconds_since_epoch': 1595813033, 'tested': 494626, 'positive': 44336, 'deaths': 1598, 'postal': 'CO', 'date': '2020-07-27 01:23:53', 'year': 2020, 'month': 7, 'day': 27}, {'seconds_since_epoch': 1595913469, 'tested': 497265, 'positive': 44565, 'deaths': 1598, 'postal': 'CO', 'date': '2020-07-28 05:17:49', 'year': 2020, 'month': 7, 'day': 28}, {'seconds_since_epoch': 1595994155, 'tested': 509012, 'positive': 45314, 'deaths': 1598, 'postal': 'CO', 'date': '2020-07-29 03:42:35', 'year': 2020, 'month': 7, 'day': 29}, {'seconds_since_epoch': 1596086557, 'tested': 516502, 'positive': 45796, 'deaths': 1598, 'postal': 'CO', 'date': '2020-07-30 05:22:37', 'year': 2020, 'month': 7, 'day': 30}, {'seconds_since_epoch': 1596168831, 'tested': 523174, 'positive': 46204, 'deaths': 1598, 'postal': 'CO', 'date': '2020-07-31 04:13:51', 'year': 2020, 'month': 7, 'day': 31}, {'seconds_since_epoch': 1596260056, 'tested': 530220, 'positive': 46809, 'deaths': 1598, 'postal': 'CO', 'date': '2020-08-01 05:34:16', 'year': 2020, 'month': 8, 'day': 1}, {'seconds_since_epoch': 1596383894, 'tested': 537382, 'positive': 47267, 'deaths': 1598, 'postal': 'CO', 'date': '2020-08-02 15:58:14', 'year': 2020, 'month': 8, 'day': 2}  ... displaying 10 of 500 total bound parameter sets ...  {'seconds_since_epoch': 1589993582, 'tested': 402940, 'positive': 38889, 'deaths': 1684, 'postal': 'GA', 'date': '2020-05-20 16:53:02', 'year': 2020, 'month': 5, 'day': 20}, {'seconds_since_epoch': 1589997062, 'tested': 402940, 'positive': 39647, 'deaths': 1687, 'postal': 'GA', 'date': '2020-05-20 17:51:02', 'year': 2020, 'month': 5, 'day': 20})\n",
            "2020-10-15 21:22:09,239 INFO sqlalchemy.engine.base.Engine INSERT INTO covid (seconds_since_epoch, tested, positive, deaths, postal, date, year, month, day) VALUES (%(seconds_since_epoch)s, %(tested)s, %(positive)s, %(deaths)s, %(postal)s, %(date)s, %(year)s, %(month)s, %(day)s)\n",
            "2020-10-15 21:22:09,240 INFO sqlalchemy.engine.base.Engine ({'seconds_since_epoch': 1590027603, 'tested': 402940, 'positive': 39801, 'deaths': 1697, 'postal': 'GA', 'date': '2020-05-21 02:20:03', 'year': 2020, 'month': 5, 'day': 21}, {'seconds_since_epoch': 1590074702, 'tested': 404207, 'positive': 40157, 'deaths': 1724, 'postal': 'GA', 'date': '2020-05-21 15:25:02', 'year': 2020, 'month': 5, 'day': 21}, {'seconds_since_epoch': 1590116371, 'tested': 407748, 'positive': 40663, 'deaths': 1775, 'postal': 'GA', 'date': '2020-05-22 02:59:31', 'year': 2020, 'month': 5, 'day': 22}, {'seconds_since_epoch': 1590176522, 'tested': 427249, 'positive': 41218, 'deaths': 1785, 'postal': 'GA', 'date': '2020-05-22 19:42:02', 'year': 2020, 'month': 5, 'day': 22}, {'seconds_since_epoch': 1590220142, 'tested': 427249, 'positive': 41482, 'deaths': 1808, 'postal': 'GA', 'date': '2020-05-23 07:49:02', 'year': 2020, 'month': 5, 'day': 23}, {'seconds_since_epoch': 1590270482, 'tested': 453537, 'positive': 42132, 'deaths': 1811, 'postal': 'GA', 'date': '2020-05-23 21:48:02', 'year': 2020, 'month': 5, 'day': 23}, {'seconds_since_epoch': 1590348543, 'tested': 481954, 'positive': 42838, 'deaths': 1824, 'postal': 'GA', 'date': '2020-05-24 19:29:03', 'year': 2020, 'month': 5, 'day': 24}, {'seconds_since_epoch': 1590369890, 'tested': 492184, 'positive': 42902, 'deaths': 1827, 'postal': 'GA', 'date': '2020-05-25 01:24:50', 'year': 2020, 'month': 5, 'day': 25}  ... displaying 10 of 500 total bound parameter sets ...  {'seconds_since_epoch': 1590348543, 'tested': 220801, 'positive': 31376, 'deaths': 1824, 'postal': 'IN', 'date': '2020-05-24 19:29:03', 'year': 2020, 'month': 5, 'day': 24}, {'seconds_since_epoch': 1590427082, 'tested': 226251, 'positive': 31715, 'deaths': 1832, 'postal': 'IN', 'date': '2020-05-25 17:18:02', 'year': 2020, 'month': 5, 'day': 25})\n",
            "2020-10-15 21:22:15,930 INFO sqlalchemy.engine.base.Engine INSERT INTO covid (seconds_since_epoch, tested, positive, deaths, postal, date, year, month, day) VALUES (%(seconds_since_epoch)s, %(tested)s, %(positive)s, %(deaths)s, %(postal)s, %(date)s, %(year)s, %(month)s, %(day)s)\n",
            "2020-10-15 21:22:15,933 INFO sqlalchemy.engine.base.Engine ({'seconds_since_epoch': 1590516122, 'tested': 230749, 'positive': 32078, 'deaths': 1850, 'postal': 'IN', 'date': '2020-05-26 18:02:02', 'year': 2020, 'month': 5, 'day': 26}, {'seconds_since_epoch': 1590607502, 'tested': 235333, 'positive': 32437, 'deaths': 1871, 'postal': 'IN', 'date': '2020-05-27 19:25:02', 'year': 2020, 'month': 5, 'day': 27}, {'seconds_since_epoch': 1590735542, 'tested': 242287, 'positive': 33068, 'deaths': 1907, 'postal': 'IN', 'date': '2020-05-29 06:59:02', 'year': 2020, 'month': 5, 'day': 29}, {'seconds_since_epoch': 1590771122, 'tested': 248713, 'positive': 33558, 'deaths': 1946, 'postal': 'IN', 'date': '2020-05-29 16:52:02', 'year': 2020, 'month': 5, 'day': 29}, {'seconds_since_epoch': 1590866282, 'tested': 256395, 'positive': 34211, 'deaths': 1958, 'postal': 'IN', 'date': '2020-05-30 19:18:02', 'year': 2020, 'month': 5, 'day': 30}, {'seconds_since_epoch': 1590958502, 'tested': 261546, 'positive': 34574, 'deaths': 1967, 'postal': 'IN', 'date': '2020-05-31 20:55:02', 'year': 2020, 'month': 5, 'day': 31}, {'seconds_since_epoch': 1591045262, 'tested': 265896, 'positive': 34830, 'deaths': 1976, 'postal': 'IN', 'date': '2020-06-01 21:01:02', 'year': 2020, 'month': 6, 'day': 1}, {'seconds_since_epoch': 1591121324, 'tested': 271919, 'positive': 35237, 'deaths': 2022, 'postal': 'IN', 'date': '2020-06-02 18:08:44', 'year': 2020, 'month': 6, 'day': 2}  ... displaying 10 of 500 total bound parameter sets ...  {'seconds_since_epoch': 1600143544, 'tested': 103061, 'positive': 4903, 'deaths': 136, 'postal': 'ME', 'date': '2020-09-15 04:19:04', 'year': 2020, 'month': 9, 'day': 15}, {'seconds_since_epoch': 1600749394, 'tested': 103061, 'positive': 5106, 'deaths': 140, 'postal': 'ME', 'date': '2020-09-22 04:36:34', 'year': 2020, 'month': 9, 'day': 22})\n",
            "2020-10-15 21:22:22,592 INFO sqlalchemy.engine.base.Engine INSERT INTO covid (seconds_since_epoch, tested, positive, deaths, postal, date, year, month, day) VALUES (%(seconds_since_epoch)s, %(tested)s, %(positive)s, %(deaths)s, %(postal)s, %(date)s, %(year)s, %(month)s, %(day)s)\n",
            "2020-10-15 21:22:22,593 INFO sqlalchemy.engine.base.Engine ({'seconds_since_epoch': 1601358688, 'tested': 103061, 'positive': 5300, 'deaths': 140, 'postal': 'ME', 'date': '2020-09-29 05:51:28', 'year': 2020, 'month': 9, 'day': 29}, {'seconds_since_epoch': 1588293736, 'tested': 114359, 'positive': 21742, 'deaths': 1140, 'postal': 'MD', 'date': '2020-05-01 00:42:16', 'year': 2020, 'month': 5, 'day': 1}, {'seconds_since_epoch': 1588390979, 'tested': 120983, 'positive': 23472, 'deaths': 1192, 'postal': 'MD', 'date': '2020-05-02 03:42:59', 'year': 2020, 'month': 5, 'day': 2}, {'seconds_since_epoch': 1588466696, 'tested': 125522, 'positive': 24473, 'deaths': 1251, 'postal': 'MD', 'date': '2020-05-03 00:44:56', 'year': 2020, 'month': 5, 'day': 3}, {'seconds_since_epoch': 1588527024, 'tested': 132794, 'positive': 25462, 'deaths': 1251, 'postal': 'MD', 'date': '2020-05-03 17:30:24', 'year': 2020, 'month': 5, 'day': 3}, {'seconds_since_epoch': 1588602602, 'tested': 136995, 'positive': 26408, 'deaths': 1251, 'postal': 'MD', 'date': '2020-05-04 14:30:02', 'year': 2020, 'month': 5, 'day': 4}, {'seconds_since_epoch': 1588644542, 'tested': 136995, 'positive': 26408, 'deaths': 1317, 'postal': 'MD', 'date': '2020-05-05 02:09:02', 'year': 2020, 'month': 5, 'day': 5}, {'seconds_since_epoch': 1588692242, 'tested': 140103, 'positive': 27117, 'deaths': 1317, 'postal': 'MD', 'date': '2020-05-05 15:24:02', 'year': 2020, 'month': 5, 'day': 5}  ... displaying 10 of 500 total bound parameter sets ...  {'seconds_since_epoch': 1591382014, 'tested': 201670, 'positive': 16769, 'deaths': 803, 'postal': 'MS', 'date': '2020-06-05 18:33:34', 'year': 2020, 'month': 6, 'day': 5}, {'seconds_since_epoch': 1591575844, 'tested': 212148, 'positive': 17270, 'deaths': 817, 'postal': 'MS', 'date': '2020-06-08 00:24:04', 'year': 2020, 'month': 6, 'day': 8})\n",
            "2020-10-15 21:22:29,188 INFO sqlalchemy.engine.base.Engine INSERT INTO covid (seconds_since_epoch, tested, positive, deaths, postal, date, year, month, day) VALUES (%(seconds_since_epoch)s, %(tested)s, %(positive)s, %(deaths)s, %(postal)s, %(date)s, %(year)s, %(month)s, %(day)s)\n",
            "2020-10-15 21:22:29,189 INFO sqlalchemy.engine.base.Engine ({'seconds_since_epoch': 1591634102, 'tested': 217229, 'positive': 17768, 'deaths': 837, 'postal': 'MS', 'date': '2020-06-08 16:35:02', 'year': 2020, 'month': 6, 'day': 8}, {'seconds_since_epoch': 1591767235, 'tested': 217229, 'positive': 18109, 'deaths': 847, 'postal': 'MS', 'date': '2020-06-10 05:33:55', 'year': 2020, 'month': 6, 'day': 10}, {'seconds_since_epoch': 1591859710, 'tested': 223195, 'positive': 18483, 'deaths': 868, 'postal': 'MS', 'date': '2020-06-11 07:15:10', 'year': 2020, 'month': 6, 'day': 11}, {'seconds_since_epoch': 1591994337, 'tested': 223195, 'positive': 19091, 'deaths': 881, 'postal': 'MS', 'date': '2020-06-12 20:38:57', 'year': 2020, 'month': 6, 'day': 12}, {'seconds_since_epoch': 1592076211, 'tested': 223195, 'positive': 19348, 'deaths': 889, 'postal': 'MS', 'date': '2020-06-13 19:23:31', 'year': 2020, 'month': 6, 'day': 13}, {'seconds_since_epoch': 1592179639, 'tested': 235583, 'positive': 19516, 'deaths': 891, 'postal': 'MS', 'date': '2020-06-15 00:07:19', 'year': 2020, 'month': 6, 'day': 15}, {'seconds_since_epoch': 1592263325, 'tested': 240664, 'positive': 19799, 'deaths': 895, 'postal': 'MS', 'date': '2020-06-15 23:22:05', 'year': 2020, 'month': 6, 'day': 15}, {'seconds_since_epoch': 1592326953, 'tested': 240664, 'positive': 20152, 'deaths': 915, 'postal': 'MS', 'date': '2020-06-16 17:02:33', 'year': 2020, 'month': 6, 'day': 16}  ... displaying 10 of 500 total bound parameter sets ...  {'seconds_since_epoch': 1598252084, 'tested': 208627, 'positive': 6429, 'deaths': 90, 'postal': 'MT', 'date': '2020-08-24 06:54:44', 'year': 2020, 'month': 8, 'day': 24}, {'seconds_since_epoch': 1598338791, 'tested': 233673, 'positive': 6489, 'deaths': 91, 'postal': 'MT', 'date': '2020-08-25 06:59:51', 'year': 2020, 'month': 8, 'day': 25})\n",
            "2020-10-15 21:22:35,877 INFO sqlalchemy.engine.base.Engine INSERT INTO covid (seconds_since_epoch, tested, positive, deaths, postal, date, year, month, day) VALUES (%(seconds_since_epoch)s, %(tested)s, %(positive)s, %(deaths)s, %(postal)s, %(date)s, %(year)s, %(month)s, %(day)s)\n",
            "2020-10-15 21:22:35,878 INFO sqlalchemy.engine.base.Engine ({'seconds_since_epoch': 1598496839, 'tested': 238260, 'positive': 6785, 'deaths': 98, 'postal': 'MT', 'date': '2020-08-27 02:53:59', 'year': 2020, 'month': 8, 'day': 27}, {'seconds_since_epoch': 1598736981, 'tested': 245381, 'positive': 7251, 'deaths': 104, 'postal': 'MT', 'date': '2020-08-29 21:36:21', 'year': 2020, 'month': 8, 'day': 29}, {'seconds_since_epoch': 1598856999, 'tested': 246661, 'positive': 7340, 'deaths': 104, 'postal': 'MT', 'date': '2020-08-31 06:56:39', 'year': 2020, 'month': 8, 'day': 31}, {'seconds_since_epoch': 1598929265, 'tested': 250238, 'positive': 7421, 'deaths': 104, 'postal': 'MT', 'date': '2020-09-01 03:01:05', 'year': 2020, 'month': 9, 'day': 1}, {'seconds_since_epoch': 1599031786, 'tested': 252296, 'positive': 7509, 'deaths': 105, 'postal': 'MT', 'date': '2020-09-02 07:29:46', 'year': 2020, 'month': 9, 'day': 2}, {'seconds_since_epoch': 1599111717, 'tested': 253873, 'positive': 7691, 'deaths': 109, 'postal': 'MT', 'date': '2020-09-03 05:41:57', 'year': 2020, 'month': 9, 'day': 3}, {'seconds_since_epoch': 1599201211, 'tested': 255660, 'positive': 7871, 'deaths': 111, 'postal': 'MT', 'date': '2020-09-04 06:33:31', 'year': 2020, 'month': 9, 'day': 4}, {'seconds_since_epoch': 1599280188, 'tested': 259988, 'positive': 8019, 'deaths': 114, 'postal': 'MT', 'date': '2020-09-05 04:29:48', 'year': 2020, 'month': 9, 'day': 5}  ... displaying 10 of 500 total bound parameter sets ...  {'seconds_since_epoch': 1595661021, 'tested': 505177, 'positive': 18475, 'deaths': 601, 'postal': 'NM', 'date': '2020-07-25 07:10:21', 'year': 2020, 'month': 7, 'day': 25}, {'seconds_since_epoch': 1595747687, 'tested': 512425, 'positive': 18788, 'deaths': 607, 'postal': 'NM', 'date': '2020-07-26 07:14:47', 'year': 2020, 'month': 7, 'day': 26})\n",
            "2020-10-15 21:22:42,654 INFO sqlalchemy.engine.base.Engine INSERT INTO covid (seconds_since_epoch, tested, positive, deaths, postal, date, year, month, day) VALUES (%(seconds_since_epoch)s, %(tested)s, %(positive)s, %(deaths)s, %(postal)s, %(date)s, %(year)s, %(month)s, %(day)s)\n",
            "2020-10-15 21:22:42,655 INFO sqlalchemy.engine.base.Engine ({'seconds_since_epoch': 1595813033, 'tested': 520718, 'positive': 19042, 'deaths': 614, 'postal': 'NM', 'date': '2020-07-27 01:23:53', 'year': 2020, 'month': 7, 'day': 27}, {'seconds_since_epoch': 1595913469, 'tested': 528890, 'positive': 19502, 'deaths': 619, 'postal': 'NM', 'date': '2020-07-28 05:17:49', 'year': 2020, 'month': 7, 'day': 28}, {'seconds_since_epoch': 1595994155, 'tested': 536853, 'positive': 19791, 'deaths': 626, 'postal': 'NM', 'date': '2020-07-29 03:42:35', 'year': 2020, 'month': 7, 'day': 29}, {'seconds_since_epoch': 1596086557, 'tested': 544611, 'positive': 20136, 'deaths': 632, 'postal': 'NM', 'date': '2020-07-30 05:22:37', 'year': 2020, 'month': 7, 'day': 30}, {'seconds_since_epoch': 1596168831, 'tested': 551637, 'positive': 20388, 'deaths': 635, 'postal': 'NM', 'date': '2020-07-31 04:13:51', 'year': 2020, 'month': 7, 'day': 31}, {'seconds_since_epoch': 1596260056, 'tested': 558012, 'positive': 20600, 'deaths': 642, 'postal': 'NM', 'date': '2020-08-01 05:34:16', 'year': 2020, 'month': 8, 'day': 1}, {'seconds_since_epoch': 1596383894, 'tested': 565886, 'positive': 20796, 'deaths': 651, 'postal': 'NM', 'date': '2020-08-02 15:58:14', 'year': 2020, 'month': 8, 'day': 2}, {'seconds_since_epoch': 1596415679, 'tested': 574253, 'positive': 21016, 'deaths': 654, 'postal': 'NM', 'date': '2020-08-03 00:47:59', 'year': 2020, 'month': 8, 'day': 3}  ... displaying 10 of 500 total bound parameter sets ...  {'seconds_since_epoch': 1590611582, 'tested': 179842, 'positive': 6229, 'deaths': 322, 'postal': 'OK', 'date': '2020-05-27 20:33:02', 'year': 2020, 'month': 5, 'day': 27}, {'seconds_since_epoch': 1590685562, 'tested': 183632, 'positive': 6229, 'deaths': 322, 'postal': 'OK', 'date': '2020-05-28 17:06:02', 'year': 2020, 'month': 5, 'day': 28})\n",
            "2020-10-15 21:22:49,384 INFO sqlalchemy.engine.base.Engine INSERT INTO covid (seconds_since_epoch, tested, positive, deaths, postal, date, year, month, day) VALUES (%(seconds_since_epoch)s, %(tested)s, %(positive)s, %(deaths)s, %(postal)s, %(date)s, %(year)s, %(month)s, %(day)s)\n",
            "2020-10-15 21:22:49,385 INFO sqlalchemy.engine.base.Engine ({'seconds_since_epoch': 1590735542, 'tested': 183632, 'positive': 6270, 'deaths': 326, 'postal': 'OK', 'date': '2020-05-29 06:59:02', 'year': 2020, 'month': 5, 'day': 29}, {'seconds_since_epoch': 1590757982, 'tested': 188665, 'positive': 6270, 'deaths': 326, 'postal': 'OK', 'date': '2020-05-29 13:13:02', 'year': 2020, 'month': 5, 'day': 29}, {'seconds_since_epoch': 1590771122, 'tested': 188665, 'positive': 6338, 'deaths': 329, 'postal': 'OK', 'date': '2020-05-29 16:52:02', 'year': 2020, 'month': 5, 'day': 29}, {'seconds_since_epoch': 1590866282, 'tested': 194496, 'positive': 6418, 'deaths': 334, 'postal': 'OK', 'date': '2020-05-30 19:18:02', 'year': 2020, 'month': 5, 'day': 30}, {'seconds_since_epoch': 1590957902, 'tested': 194496, 'positive': 6506, 'deaths': 334, 'postal': 'OK', 'date': '2020-05-31 20:45:02', 'year': 2020, 'month': 5, 'day': 31}, {'seconds_since_epoch': 1591045262, 'tested': 194496, 'positive': 6573, 'deaths': 334, 'postal': 'OK', 'date': '2020-06-01 21:01:02', 'year': 2020, 'month': 6, 'day': 1}, {'seconds_since_epoch': 1591121324, 'tested': 194496, 'positive': 6692, 'deaths': 339, 'postal': 'OK', 'date': '2020-06-02 18:08:44', 'year': 2020, 'month': 6, 'day': 2}, {'seconds_since_epoch': 1591246544, 'tested': 194496, 'positive': 6805, 'deaths': 341, 'postal': 'OK', 'date': '2020-06-04 04:55:44', 'year': 2020, 'month': 6, 'day': 4}  ... displaying 10 of 500 total bound parameter sets ...  {'seconds_since_epoch': 1589831762, 'tested': 337428, 'positive': 17388, 'deaths': 298, 'postal': 'TN', 'date': '2020-05-18 19:56:02', 'year': 2020, 'month': 5, 'day': 18}, {'seconds_since_epoch': 1589925870, 'tested': 346123, 'positive': 18378, 'deaths': 305, 'postal': 'TN', 'date': '2020-05-19 22:04:30', 'year': 2020, 'month': 5, 'day': 19})\n",
            "2020-10-15 21:22:56,086 INFO sqlalchemy.engine.base.Engine INSERT INTO covid (seconds_since_epoch, tested, positive, deaths, postal, date, year, month, day) VALUES (%(seconds_since_epoch)s, %(tested)s, %(positive)s, %(deaths)s, %(postal)s, %(date)s, %(year)s, %(month)s, %(day)s)\n",
            "2020-10-15 21:22:56,087 INFO sqlalchemy.engine.base.Engine ({'seconds_since_epoch': 1590006183, 'tested': 346123, 'positive': 18532, 'deaths': 309, 'postal': 'TN', 'date': '2020-05-20 20:23:03', 'year': 2020, 'month': 5, 'day': 20}, {'seconds_since_epoch': 1590116371, 'tested': 360583, 'positive': 18532, 'deaths': 313, 'postal': 'TN', 'date': '2020-05-22 02:59:31', 'year': 2020, 'month': 5, 'day': 22}, {'seconds_since_epoch': 1590180182, 'tested': 360583, 'positive': 18532, 'deaths': 315, 'postal': 'TN', 'date': '2020-05-22 20:43:02', 'year': 2020, 'month': 5, 'day': 22}, {'seconds_since_epoch': 1590270782, 'tested': 373758, 'positive': 19789, 'deaths': 315, 'postal': 'TN', 'date': '2020-05-23 21:53:02', 'year': 2020, 'month': 5, 'day': 23}, {'seconds_since_epoch': 1590348543, 'tested': 383576, 'positive': 20145, 'deaths': 336, 'postal': 'TN', 'date': '2020-05-24 19:29:03', 'year': 2020, 'month': 5, 'day': 24}, {'seconds_since_epoch': 1590435122, 'tested': 396219, 'positive': 20607, 'deaths': 338, 'postal': 'TN', 'date': '2020-05-25 19:32:02', 'year': 2020, 'month': 5, 'day': 25}, {'seconds_since_epoch': 1590528063, 'tested': 396219, 'positive': 20965, 'deaths': 338, 'postal': 'TN', 'date': '2020-05-26 21:21:03', 'year': 2020, 'month': 5, 'day': 26}, {'seconds_since_epoch': 1590611582, 'tested': 409630, 'positive': 21306, 'deaths': 353, 'postal': 'TN', 'date': '2020-05-27 20:33:02', 'year': 2020, 'month': 5, 'day': 27}  ... displaying 10 of 500 total bound parameter sets ...  {'seconds_since_epoch': 1593583472, 'tested': 557275, 'positive': 32824, 'deaths': 1332, 'postal': 'WA', 'date': '2020-07-01 06:04:32', 'year': 2020, 'month': 7, 'day': 1}, {'seconds_since_epoch': 1593666193, 'tested': 571964, 'positive': 33435, 'deaths': 1339, 'postal': 'WA', 'date': '2020-07-02 05:03:13', 'year': 2020, 'month': 7, 'day': 2})\n",
            "2020-10-15 21:23:02,824 INFO sqlalchemy.engine.base.Engine INSERT INTO covid (seconds_since_epoch, tested, positive, deaths, postal, date, year, month, day) VALUES (%(seconds_since_epoch)s, %(tested)s, %(positive)s, %(deaths)s, %(postal)s, %(date)s, %(year)s, %(month)s, %(day)s)\n",
            "2020-10-15 21:23:02,825 INFO sqlalchemy.engine.base.Engine ({'seconds_since_epoch': 1593812190, 'tested': 584989, 'positive': 34151, 'deaths': 1342, 'postal': 'WA', 'date': '2020-07-03 21:36:30', 'year': 2020, 'month': 7, 'day': 3}, {'seconds_since_epoch': 1593925857, 'tested': 599975, 'positive': 34778, 'deaths': 1352, 'postal': 'WA', 'date': '2020-07-05 05:10:57', 'year': 2020, 'month': 7, 'day': 5}, {'seconds_since_epoch': 1593981573, 'tested': 607276, 'positive': 35247, 'deaths': 1354, 'postal': 'WA', 'date': '2020-07-05 20:39:33', 'year': 2020, 'month': 7, 'day': 5}, {'seconds_since_epoch': 1594144612, 'tested': 629256, 'positive': 36985, 'deaths': 1370, 'postal': 'WA', 'date': '2020-07-07 17:56:52', 'year': 2020, 'month': 7, 'day': 7}, {'seconds_since_epoch': 1594270842, 'tested': 645072, 'positive': 37941, 'deaths': 1394, 'postal': 'WA', 'date': '2020-07-09 05:00:42', 'year': 2020, 'month': 7, 'day': 9}, {'seconds_since_epoch': 1594345799, 'tested': 660330, 'positive': 38581, 'deaths': 1409, 'postal': 'WA', 'date': '2020-07-10 01:49:59', 'year': 2020, 'month': 7, 'day': 10}, {'seconds_since_epoch': 1594442994, 'tested': 668466, 'positive': 39218, 'deaths': 1424, 'postal': 'WA', 'date': '2020-07-11 04:49:54', 'year': 2020, 'month': 7, 'day': 11}, {'seconds_since_epoch': 1594674493, 'tested': 686005, 'positive': 40656, 'deaths': 1438, 'postal': 'WA', 'date': '2020-07-13 21:08:13', 'year': 2020, 'month': 7, 'day': 13}  ... displaying 10 of 336 total bound parameter sets ...  {'seconds_since_epoch': 1601358689, 'tested': 134738, 'positive': 5754, 'deaths': 50, 'postal': 'WY', 'date': '2020-09-29 05:51:29', 'year': 2020, 'month': 9, 'day': 29}, {'seconds_since_epoch': 1601612021, 'tested': 134738, 'positive': 5754, 'deaths': 53, 'postal': 'WY', 'date': '2020-10-02 04:13:41', 'year': 2020, 'month': 10, 'day': 2})\n",
            "2020-10-15 21:23:07,300 INFO sqlalchemy.engine.base.Engine COMMIT\n"
          ],
          "name": "stdout"
        }
      ]
    },
    {
      "cell_type": "code",
      "metadata": {
        "id": "lEFsL-oA7BgJ",
        "outputId": "51a6c780-2905-4a04-9d26-762a244e7319",
        "colab": {
          "base_uri": "https://localhost:8080/",
          "height": 272
        }
      },
      "source": [
        "covid_sql = pd.read_sql(\n",
        "    \"SELECT * FROM covid\",\n",
        "    con=engine,\n",
        "    parse_dates=[\n",
        "        'created_at',\n",
        "        'updated_at'\n",
        "    ]\n",
        ")\n",
        "\n",
        "covid_sql.head()"
      ],
      "execution_count": 56,
      "outputs": [
        {
          "output_type": "stream",
          "text": [
            "2020-10-15 21:23:50,742 INFO sqlalchemy.engine.base.Engine select relname from pg_class c join pg_namespace n on n.oid=c.relnamespace where pg_catalog.pg_table_is_visible(c.oid) and relname=%(name)s\n",
            "2020-10-15 21:23:50,744 INFO sqlalchemy.engine.base.Engine {'name': 'SELECT * FROM covid'}\n",
            "2020-10-15 21:23:50,786 INFO sqlalchemy.engine.base.OptionEngine SELECT * FROM covid\n",
            "2020-10-15 21:23:50,786 INFO sqlalchemy.engine.base.OptionEngine {}\n"
          ],
          "name": "stdout"
        },
        {
          "output_type": "execute_result",
          "data": {
            "text/html": [
              "<div>\n",
              "<style scoped>\n",
              "    .dataframe tbody tr th:only-of-type {\n",
              "        vertical-align: middle;\n",
              "    }\n",
              "\n",
              "    .dataframe tbody tr th {\n",
              "        vertical-align: top;\n",
              "    }\n",
              "\n",
              "    .dataframe thead th {\n",
              "        text-align: right;\n",
              "    }\n",
              "</style>\n",
              "<table border=\"1\" class=\"dataframe\">\n",
              "  <thead>\n",
              "    <tr style=\"text-align: right;\">\n",
              "      <th></th>\n",
              "      <th>seconds_since_epoch</th>\n",
              "      <th>tested</th>\n",
              "      <th>positive</th>\n",
              "      <th>deaths</th>\n",
              "      <th>postal</th>\n",
              "      <th>date</th>\n",
              "      <th>year</th>\n",
              "      <th>month</th>\n",
              "      <th>day</th>\n",
              "    </tr>\n",
              "  </thead>\n",
              "  <tbody>\n",
              "    <tr>\n",
              "      <th>0</th>\n",
              "      <td>1588293736</td>\n",
              "      <td>19562</td>\n",
              "      <td>355</td>\n",
              "      <td>9</td>\n",
              "      <td>AK</td>\n",
              "      <td>2020-05-01 00:42:16</td>\n",
              "      <td>2020</td>\n",
              "      <td>5</td>\n",
              "      <td>1</td>\n",
              "    </tr>\n",
              "    <tr>\n",
              "      <th>1</th>\n",
              "      <td>1588372862</td>\n",
              "      <td>19562</td>\n",
              "      <td>364</td>\n",
              "      <td>9</td>\n",
              "      <td>AK</td>\n",
              "      <td>2020-05-01 22:41:02</td>\n",
              "      <td>2020</td>\n",
              "      <td>5</td>\n",
              "      <td>1</td>\n",
              "    </tr>\n",
              "    <tr>\n",
              "      <th>2</th>\n",
              "      <td>1588390979</td>\n",
              "      <td>20325</td>\n",
              "      <td>364</td>\n",
              "      <td>9</td>\n",
              "      <td>AK</td>\n",
              "      <td>2020-05-02 03:42:59</td>\n",
              "      <td>2020</td>\n",
              "      <td>5</td>\n",
              "      <td>2</td>\n",
              "    </tr>\n",
              "    <tr>\n",
              "      <th>3</th>\n",
              "      <td>1588445522</td>\n",
              "      <td>20325</td>\n",
              "      <td>365</td>\n",
              "      <td>9</td>\n",
              "      <td>AK</td>\n",
              "      <td>2020-05-02 18:52:02</td>\n",
              "      <td>2020</td>\n",
              "      <td>5</td>\n",
              "      <td>2</td>\n",
              "    </tr>\n",
              "    <tr>\n",
              "      <th>4</th>\n",
              "      <td>1588466696</td>\n",
              "      <td>21399</td>\n",
              "      <td>365</td>\n",
              "      <td>9</td>\n",
              "      <td>AK</td>\n",
              "      <td>2020-05-03 00:44:56</td>\n",
              "      <td>2020</td>\n",
              "      <td>5</td>\n",
              "      <td>3</td>\n",
              "    </tr>\n",
              "  </tbody>\n",
              "</table>\n",
              "</div>"
            ],
            "text/plain": [
              "   seconds_since_epoch  tested  positive  ...  year month day\n",
              "0           1588293736   19562       355  ...  2020     5   1\n",
              "1           1588372862   19562       364  ...  2020     5   1\n",
              "2           1588390979   20325       364  ...  2020     5   2\n",
              "3           1588445522   20325       365  ...  2020     5   2\n",
              "4           1588466696   21399       365  ...  2020     5   3\n",
              "\n",
              "[5 rows x 9 columns]"
            ]
          },
          "metadata": {
            "tags": []
          },
          "execution_count": 56
        }
      ]
    },
    {
      "cell_type": "code",
      "metadata": {
        "id": "eMiptyc3JczW"
      },
      "source": [
        ""
      ],
      "execution_count": null,
      "outputs": []
    }
  ]
}