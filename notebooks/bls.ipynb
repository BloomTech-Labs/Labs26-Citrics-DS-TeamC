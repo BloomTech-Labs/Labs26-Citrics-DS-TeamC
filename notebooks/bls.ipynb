{
 "metadata": {
  "language_info": {
   "codemirror_mode": {
    "name": "ipython",
    "version": 3
   },
   "file_extension": ".py",
   "mimetype": "text/x-python",
   "name": "python",
   "nbconvert_exporter": "python",
   "pygments_lexer": "ipython3",
   "version": "3.7.0-final"
  },
  "orig_nbformat": 2,
  "kernelspec": {
   "name": "u4-s1-nlp",
   "display_name": "U4-S1-NLP (Python3)"
  }
 },
 "nbformat": 4,
 "nbformat_minor": 2,
 "cells": [
  {
   "cell_type": "code",
   "execution_count": 1,
   "metadata": {},
   "outputs": [],
   "source": [
    "import pandas as pd\n",
    "import numpy as np\n",
    "import matplotlib.pyplot as plt\n",
    "import json\n",
    "import os\n",
    "import requests"
   ]
  },
  {
   "cell_type": "code",
   "execution_count": 2,
   "metadata": {},
   "outputs": [],
   "source": [
    "import urllib.request\n",
    "import urllib"
   ]
  },
  {
   "cell_type": "code",
   "execution_count": 3,
   "metadata": {},
   "outputs": [],
   "source": [
    "def qcewCreateDataRows(csv):\n",
    "    dataRows = []\n",
    "    try: dataLines = csv.decode().split('\\r\\n')\n",
    "    except er: dataLines = csv.split('\\r\\n');\n",
    "    for row in dataLines:\n",
    "        dataRows.append(row.split(','))\n",
    "    return dataRows"
   ]
  },
  {
   "cell_type": "code",
   "execution_count": 4,
   "metadata": {},
   "outputs": [],
   "source": [
    "def qcewGetAreaData(year,qtr,area):\n",
    "    urlPath = \"http://data.bls.gov/cew/data/api/[YEAR]/[QTR]/area/[AREA].csv\"\n",
    "    urlPath = urlPath.replace(\"[YEAR]\",year)\n",
    "    urlPath = urlPath.replace(\"[QTR]\",qtr.lower())\n",
    "    urlPath = urlPath.replace(\"[AREA]\",area.upper())\n",
    "    httpStream = urllib.request.urlopen(urlPath)\n",
    "    csv = httpStream.read()\n",
    "    httpStream.close()\n",
    "    return qcewCreateDataRows(csv)"
   ]
  },
  {
   "cell_type": "code",
   "execution_count": 5,
   "metadata": {},
   "outputs": [],
   "source": [
    "def qcewGetIndustryData(year,qtr,industry):\n",
    "    urlPath = \"http://data.bls.gov/cew/data/api/[YEAR]/[QTR]/industry/[IND].csv\"\n",
    "    urlPath = urlPath.replace(\"[YEAR]\",year)\n",
    "    urlPath = urlPath.replace(\"[QTR]\",qtr.lower())\n",
    "    urlPath = urlPath.replace(\"[IND]\",industry)\n",
    "    httpStream = urllib.request.urlopen(urlPath)\n",
    "    csv = httpStream.read()\n",
    "    httpStream.close()\n",
    "    return qcewCreateDataRows(csv)"
   ]
  },
  {
   "cell_type": "code",
   "execution_count": 6,
   "metadata": {},
   "outputs": [],
   "source": [
    "def qcewGetSizeData(year,size):\n",
    "    urlPath = \"http://data.bls.gov/cew/data/api/[YEAR]/1/size/[SIZE].csv\"\n",
    "    urlPath = urlPath.replace(\"[YEAR]\",year)\n",
    "    urlPath = urlPath.replace(\"[SIZE]\",size)\n",
    "    httpStream = urllib.request.urlopen(urlPath)\n",
    "    csv = httpStream.read()\n",
    "    httpStream.close()\n",
    "    return qcewCreateDataRows(csv)"
   ]
  },
  {
   "cell_type": "code",
   "execution_count": 7,
   "metadata": {},
   "outputs": [],
   "source": [
    "Michigan_Data = qcewGetAreaData(\"2015\",\"1\",\"26000\")\n",
    "Auto_Manufacturing = qcewGetIndustryData(\"2015\",\"1\",\"3361\")\n",
    "SizeData = qcewGetSizeData(\"2015\",\"6\")"
   ]
  },
  {
   "cell_type": "code",
   "execution_count": 8,
   "metadata": {
    "tags": []
   },
   "outputs": [
    {
     "output_type": "stream",
     "name": "stdout",
     "text": "\"1022\"\n"
    }
   ],
   "source": [
    "print(Michigan_Data[5][2])"
   ]
  },
  {
   "cell_type": "code",
   "execution_count": 9,
   "metadata": {
    "tags": []
   },
   "outputs": [
    {
     "output_type": "stream",
     "name": "stdout",
     "text": "\"01000\"\n"
    }
   ],
   "source": [
    "# prints the area_fips in row 1.\n",
    "# remember row zero contains field names\n",
    "print(Auto_Manufacturing[1][0])"
   ]
  },
  {
   "cell_type": "code",
   "execution_count": 10,
   "metadata": {
    "tags": []
   },
   "outputs": [
    {
     "output_type": "stream",
     "name": "stdout",
     "text": "\"5\"\n"
    }
   ],
   "source": [
    "# prints the own_code in row 1.\n",
    "# remember row zero contains field names\n",
    "print(SizeData[1][1])"
   ]
  },
  {
   "cell_type": "code",
   "execution_count": null,
   "metadata": {},
   "outputs": [],
   "source": []
  },
  {
   "cell_type": "code",
   "execution_count": 11,
   "metadata": {
    "tags": []
   },
   "outputs": [
    {
     "output_type": "stream",
     "name": "stdout",
     "text": "Collecting blsconnectNote: you may need to restart the kernel to use updated packages.\n  Downloading blsconnect-0.9.1-py3-none-any.whl (15 kB)\nInstalling collected packages: blsconnect\nSuccessfully installed blsconnect-0.9.1\n\n"
    }
   ],
   "source": [
    "pip install -U blsconnect"
   ]
  },
  {
   "cell_type": "code",
   "execution_count": 12,
   "metadata": {},
   "outputs": [],
   "source": [
    "api_key = 'd7c0ebba465a4848afbcfb17a9238452'"
   ]
  },
  {
   "cell_type": "code",
   "execution_count": 13,
   "metadata": {},
   "outputs": [
    {
     "output_type": "execute_result",
     "data": {
      "text/plain": "   year period periodName  LASST120000000000003  LASST130000000000003  \\\n0  2010    M01    January                  11.3                  10.5   \n1  2010    M02   February                  11.2                  10.6   \n2  2010    M03      March                  11.2                  10.6   \n3  2010    M04      April                  11.1                  10.5   \n4  2010    M05        May                  11.0                  10.4   \n\n   LASST360000000000003  LASST340000000000003  LNS14000000  \n0                   8.9                   9.8          9.8  \n1                   8.8                   9.7          9.8  \n2                   8.8                   9.7          9.9  \n3                   8.7                   9.6          9.9  \n4                   8.6                   9.5          9.6  ",
      "text/html": "<div>\n<style scoped>\n    .dataframe tbody tr th:only-of-type {\n        vertical-align: middle;\n    }\n\n    .dataframe tbody tr th {\n        vertical-align: top;\n    }\n\n    .dataframe thead th {\n        text-align: right;\n    }\n</style>\n<table border=\"1\" class=\"dataframe\">\n  <thead>\n    <tr style=\"text-align: right;\">\n      <th></th>\n      <th>year</th>\n      <th>period</th>\n      <th>periodName</th>\n      <th>LASST120000000000003</th>\n      <th>LASST130000000000003</th>\n      <th>LASST360000000000003</th>\n      <th>LASST340000000000003</th>\n      <th>LNS14000000</th>\n    </tr>\n  </thead>\n  <tbody>\n    <tr>\n      <th>0</th>\n      <td>2010</td>\n      <td>M01</td>\n      <td>January</td>\n      <td>11.3</td>\n      <td>10.5</td>\n      <td>8.9</td>\n      <td>9.8</td>\n      <td>9.8</td>\n    </tr>\n    <tr>\n      <th>1</th>\n      <td>2010</td>\n      <td>M02</td>\n      <td>February</td>\n      <td>11.2</td>\n      <td>10.6</td>\n      <td>8.8</td>\n      <td>9.7</td>\n      <td>9.8</td>\n    </tr>\n    <tr>\n      <th>2</th>\n      <td>2010</td>\n      <td>M03</td>\n      <td>March</td>\n      <td>11.2</td>\n      <td>10.6</td>\n      <td>8.8</td>\n      <td>9.7</td>\n      <td>9.9</td>\n    </tr>\n    <tr>\n      <th>3</th>\n      <td>2010</td>\n      <td>M04</td>\n      <td>April</td>\n      <td>11.1</td>\n      <td>10.5</td>\n      <td>8.7</td>\n      <td>9.6</td>\n      <td>9.9</td>\n    </tr>\n    <tr>\n      <th>4</th>\n      <td>2010</td>\n      <td>M05</td>\n      <td>May</td>\n      <td>11.0</td>\n      <td>10.4</td>\n      <td>8.6</td>\n      <td>9.5</td>\n      <td>9.6</td>\n    </tr>\n  </tbody>\n</table>\n</div>"
     },
     "metadata": {},
     "execution_count": 13
    }
   ],
   "source": [
    "from blsconnect import RequestBLS, bls_search\n",
    "\n",
    "MY_API_KEY = 'd7c0ebba465a4848afbcfb17a9238452'\n",
    "bls = RequestBLS(key=MY_API_KEY)\n",
    "\n",
    "# Get seasonally-adjusted unemployment rates for Florida, Georgia, and all U.S.\n",
    "series_names = bls_search(data=\"U3\",\n",
    "                          state=[\"FL\", \"GA\", \"NY\", \"NJ\", \"US\"],\n",
    "                          sa=True)\n",
    "\n",
    "df = bls.series(series_names,\n",
    "                start_year=2010,\n",
    "                end_year=2019)\n",
    "\n",
    "df.head()"
   ]
  },
  {
   "cell_type": "code",
   "execution_count": 14,
   "metadata": {},
   "outputs": [
    {
     "output_type": "execute_result",
     "data": {
      "text/plain": "     year period periodName  Florida  LASST130000000000003  \\\n0    2010    M01    January     11.3                  10.5   \n1    2010    M02   February     11.2                  10.6   \n2    2010    M03      March     11.2                  10.6   \n3    2010    M04      April     11.1                  10.5   \n4    2010    M05        May     11.0                  10.4   \n..    ...    ...        ...      ...                   ...   \n115  2019    M08     August      3.0                   3.3   \n116  2019    M09  September      2.9                   3.2   \n117  2019    M10    October      2.9                   3.2   \n118  2019    M11   November      2.8                   3.1   \n119  2019    M12   December      2.9                   3.1   \n\n     LASST360000000000003  LASST340000000000003  LNS14000000  \n0                     8.9                   9.8          9.8  \n1                     8.8                   9.7          9.8  \n2                     8.8                   9.7          9.9  \n3                     8.7                   9.6          9.9  \n4                     8.6                   9.5          9.6  \n..                    ...                   ...          ...  \n115                   3.9                   3.5          3.7  \n116                   3.9                   3.6          3.5  \n117                   3.9                   3.7          3.6  \n118                   3.9                   3.7          3.5  \n119                   3.9                   3.7          3.5  \n\n[120 rows x 8 columns]",
      "text/html": "<div>\n<style scoped>\n    .dataframe tbody tr th:only-of-type {\n        vertical-align: middle;\n    }\n\n    .dataframe tbody tr th {\n        vertical-align: top;\n    }\n\n    .dataframe thead th {\n        text-align: right;\n    }\n</style>\n<table border=\"1\" class=\"dataframe\">\n  <thead>\n    <tr style=\"text-align: right;\">\n      <th></th>\n      <th>year</th>\n      <th>period</th>\n      <th>periodName</th>\n      <th>Florida</th>\n      <th>LASST130000000000003</th>\n      <th>LASST360000000000003</th>\n      <th>LASST340000000000003</th>\n      <th>LNS14000000</th>\n    </tr>\n  </thead>\n  <tbody>\n    <tr>\n      <th>0</th>\n      <td>2010</td>\n      <td>M01</td>\n      <td>January</td>\n      <td>11.3</td>\n      <td>10.5</td>\n      <td>8.9</td>\n      <td>9.8</td>\n      <td>9.8</td>\n    </tr>\n    <tr>\n      <th>1</th>\n      <td>2010</td>\n      <td>M02</td>\n      <td>February</td>\n      <td>11.2</td>\n      <td>10.6</td>\n      <td>8.8</td>\n      <td>9.7</td>\n      <td>9.8</td>\n    </tr>\n    <tr>\n      <th>2</th>\n      <td>2010</td>\n      <td>M03</td>\n      <td>March</td>\n      <td>11.2</td>\n      <td>10.6</td>\n      <td>8.8</td>\n      <td>9.7</td>\n      <td>9.9</td>\n    </tr>\n    <tr>\n      <th>3</th>\n      <td>2010</td>\n      <td>M04</td>\n      <td>April</td>\n      <td>11.1</td>\n      <td>10.5</td>\n      <td>8.7</td>\n      <td>9.6</td>\n      <td>9.9</td>\n    </tr>\n    <tr>\n      <th>4</th>\n      <td>2010</td>\n      <td>M05</td>\n      <td>May</td>\n      <td>11.0</td>\n      <td>10.4</td>\n      <td>8.6</td>\n      <td>9.5</td>\n      <td>9.6</td>\n    </tr>\n    <tr>\n      <th>...</th>\n      <td>...</td>\n      <td>...</td>\n      <td>...</td>\n      <td>...</td>\n      <td>...</td>\n      <td>...</td>\n      <td>...</td>\n      <td>...</td>\n    </tr>\n    <tr>\n      <th>115</th>\n      <td>2019</td>\n      <td>M08</td>\n      <td>August</td>\n      <td>3.0</td>\n      <td>3.3</td>\n      <td>3.9</td>\n      <td>3.5</td>\n      <td>3.7</td>\n    </tr>\n    <tr>\n      <th>116</th>\n      <td>2019</td>\n      <td>M09</td>\n      <td>September</td>\n      <td>2.9</td>\n      <td>3.2</td>\n      <td>3.9</td>\n      <td>3.6</td>\n      <td>3.5</td>\n    </tr>\n    <tr>\n      <th>117</th>\n      <td>2019</td>\n      <td>M10</td>\n      <td>October</td>\n      <td>2.9</td>\n      <td>3.2</td>\n      <td>3.9</td>\n      <td>3.7</td>\n      <td>3.6</td>\n    </tr>\n    <tr>\n      <th>118</th>\n      <td>2019</td>\n      <td>M11</td>\n      <td>November</td>\n      <td>2.8</td>\n      <td>3.1</td>\n      <td>3.9</td>\n      <td>3.7</td>\n      <td>3.5</td>\n    </tr>\n    <tr>\n      <th>119</th>\n      <td>2019</td>\n      <td>M12</td>\n      <td>December</td>\n      <td>2.9</td>\n      <td>3.1</td>\n      <td>3.9</td>\n      <td>3.7</td>\n      <td>3.5</td>\n    </tr>\n  </tbody>\n</table>\n<p>120 rows × 8 columns</p>\n</div>"
     },
     "metadata": {},
     "execution_count": 14
    }
   ],
   "source": [
    "df.rename(columns={\"LASST120000000000003\": \"Florida\"})"
   ]
  },
  {
   "cell_type": "code",
   "execution_count": 15,
   "metadata": {},
   "outputs": [
    {
     "output_type": "error",
     "ename": "ModuleNotFoundError",
     "evalue": "No module named 'prettytable'",
     "traceback": [
      "\u001b[1;31m---------------------------------------------------------------------------\u001b[0m",
      "\u001b[1;31mModuleNotFoundError\u001b[0m                       Traceback (most recent call last)",
      "\u001b[1;32m<ipython-input-15-a97668209b2f>\u001b[0m in \u001b[0;36m<module>\u001b[1;34m\u001b[0m\n\u001b[0;32m      1\u001b[0m \u001b[1;32mimport\u001b[0m \u001b[0mrequests\u001b[0m\u001b[1;33m\u001b[0m\u001b[0m\n\u001b[0;32m      2\u001b[0m \u001b[1;32mimport\u001b[0m \u001b[0mjson\u001b[0m\u001b[1;33m\u001b[0m\u001b[0m\n\u001b[1;32m----> 3\u001b[1;33m \u001b[1;32mimport\u001b[0m \u001b[0mprettytable\u001b[0m\u001b[1;33m\u001b[0m\u001b[0m\n\u001b[0m\u001b[0;32m      4\u001b[0m \u001b[0mheaders\u001b[0m \u001b[1;33m=\u001b[0m \u001b[1;33m{\u001b[0m\u001b[1;34m'Content-type'\u001b[0m\u001b[1;33m:\u001b[0m \u001b[1;34m'application/json'\u001b[0m\u001b[1;33m}\u001b[0m\u001b[1;33m\u001b[0m\u001b[0m\n\u001b[0;32m      5\u001b[0m \u001b[0mdata\u001b[0m \u001b[1;33m=\u001b[0m \u001b[0mjson\u001b[0m\u001b[1;33m.\u001b[0m\u001b[0mdumps\u001b[0m\u001b[1;33m(\u001b[0m\u001b[1;33m{\u001b[0m\u001b[1;34m\"seriesid\"\u001b[0m\u001b[1;33m:\u001b[0m \u001b[1;33m[\u001b[0m\u001b[1;34m'CUUR0000SA0'\u001b[0m\u001b[1;33m,\u001b[0m\u001b[1;34m'SUUR0000SA0'\u001b[0m\u001b[1;33m]\u001b[0m\u001b[1;33m,\u001b[0m\u001b[1;34m\"startyear\"\u001b[0m\u001b[1;33m:\u001b[0m\u001b[1;34m\"2011\"\u001b[0m\u001b[1;33m,\u001b[0m \u001b[1;34m\"endyear\"\u001b[0m\u001b[1;33m:\u001b[0m\u001b[1;34m\"2014\"\u001b[0m\u001b[1;33m}\u001b[0m\u001b[1;33m)\u001b[0m\u001b[1;33m\u001b[0m\u001b[0m\n",
      "\u001b[1;31mModuleNotFoundError\u001b[0m: No module named 'prettytable'"
     ]
    }
   ],
   "source": [
    "import requests\n",
    "import json\n",
    "import prettytable\n",
    "headers = {'Content-type': 'application/json'}\n",
    "data = json.dumps({\"seriesid\": ['CUUR0000SA0','SUUR0000SA0'],\"startyear\":\"2011\", \"endyear\":\"2014\"})\n",
    "p = requests.post('https://api.bls.gov/publicAPI/v2/timeseries/data/', data=data, headers=headers)\n",
    "json_data = json.loads(p.text)\n",
    "for series in json_data['Results']['series']:\n",
    "    x=prettytable.PrettyTable([\"series id\",\"year\",\"period\",\"value\",\"footnotes\"])\n",
    "    seriesId = series['seriesID']\n",
    "    for item in series['data']:\n",
    "        year = item['year']\n",
    "        period = item['period']\n",
    "        value = item['value']\n",
    "        footnotes=\"\"\n",
    "        for footnote in item['footnotes']:\n",
    "            if footnote:\n",
    "                footnotes = footnotes + footnote['text'] + ','\n",
    "        if 'M01' <= period <= 'M12':\n",
    "            x.add_row([seriesId,year,period,value,footnotes[0:-1]])\n",
    "    output = open(seriesId + '.txt','w')\n",
    "    output.write (x.get_string())\n",
    "    output.close()"
   ]
  }
 ]
}