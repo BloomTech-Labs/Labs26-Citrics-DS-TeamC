{
 "metadata": {
  "language_info": {
   "codemirror_mode": {
    "name": "ipython",
    "version": 3
   },
   "file_extension": ".py",
   "mimetype": "text/x-python",
   "name": "python",
   "nbconvert_exporter": "python",
   "pygments_lexer": "ipython3",
   "version": "3.7.9-final"
  },
  "orig_nbformat": 2,
  "kernelspec": {
   "name": "python_defaultSpec_1599248750305",
   "display_name": "Python 3.7.9 64-bit ('labs': conda)"
  }
 },
 "nbformat": 4,
 "nbformat_minor": 2,
 "cells": [
  {
   "cell_type": "code",
   "execution_count": 4,
   "metadata": {},
   "outputs": [],
   "source": [
    "# PACKAGES\n",
    "import pandas as pd\n",
    "import numpy as np\n",
    "import matplotlib.pyplot as plt\n",
    "import json\n",
    "import urllib.request\n",
    "import urllib\n",
    "import urllib.parse\n",
    "import os\n",
    "import requests\n",
    "from datetime import datetime\n",
    "# import prettytable\n",
    "# import seaborn as sns\n",
    "# import plotly.express as px"
   ]
  },
  {
   "cell_type": "code",
   "execution_count": 5,
   "metadata": {
    "tags": []
   },
   "outputs": [
    {
     "output_type": "stream",
     "name": "stdout",
     "text": "Collecting wwo-histNote: you may need to restart the kernel to use updated packages.\n  Using cached wwo_hist-0.0.5-py3-none-any.whl (4.6 kB)\nInstalling collected packages: wwo-hist\nSuccessfully installed wwo-hist-0.0.5\n\n"
    }
   ],
   "source": [
    "pip install wwo-hist"
   ]
  },
  {
   "cell_type": "code",
   "execution_count": 7,
   "metadata": {},
   "outputs": [],
   "source": [
    "from wwo_hist import retrieve_hist_data"
   ]
  },
  {
   "cell_type": "code",
   "execution_count": 8,
   "metadata": {},
   "outputs": [],
   "source": [
    "## For local use only\n",
    "# import os\n",
    "# os.chdir(\".\\YOUR_PATH\")"
   ]
  },
  {
   "cell_type": "code",
   "execution_count": 45,
   "metadata": {},
   "outputs": [
    {
     "output_type": "execute_result",
     "data": {
      "text/plain": "50"
     },
     "metadata": {},
     "execution_count": 45
    }
   ],
   "source": [
    "capitals_list = ['Albany','Annapolis','Atlanta','Augusta','Austin','Baton_Rouge','Bismarck','Boise','Boston','Carson_City','Charleston','Cheyenne','Columbia','Columbus','Concord','Denver','Des_Moines','Dover','Frankfort','Harrisburg','Hartford','Helena','Honolulu','Indianapolis','Jackson','Jefferson_City','Juneau','Lansing','Lincoln','LittleRock','Madison','Montgomery','Montpelier','Nashville','Oklahoma_City','Olympia','Phoenix','Pierre','Providence','Raleigh','Richmond','Sacramento','Saint_Paul','Salem','Salt_Lake_City','Santa_Fe_USA','Springfield','Tallahassee','Topeka','Trenton']\n",
    "\n",
    "states_list = ['Alabama','Alaska','Arizona','Arkansas','California','Colorado','Connecticut','Delaware','Florida','Georgia','Hawaii','Idaho','Illinois','Indiana','Iowa','Kansas','Kentucky','Louisiana','Maine','Maryland','Massachusetts','Michigan','Minnesota','Mississippi','Missouri','Montana','Nebraska','Nevada','New_Hampshire','New_Jersey','New Mexico','New_York','North_Carolina','North_Dakota','Ohio','Oklahoma','Oregon','Pennsylvania','Rhode_Island','South_Carolina','South_Dakota','Tennessee','Texas','Utah','Vermont','Virginia','Washington','West_Virginia','Wisconsin','Wyoming']\n",
    "len(capitals_list)"
   ]
  },
  {
   "cell_type": "code",
   "execution_count": 47,
   "metadata": {},
   "outputs": [
    {
     "output_type": "execute_result",
     "data": {
      "text/plain": "27"
     },
     "metadata": {},
     "execution_count": 47
    }
   ],
   "source": [
    "# Got stopped because of query limit and need to query these cities still as of 9/08\n",
    "capitals_list_retry = ['Albany','Austin','Bismarck','Carson_City','Charleston','Cheyenne','Columbia','Columbus','Concord','Harrisburg','Helena','Jackson','Jefferson_City','Lincoln','Madison','Montpelier','Nashville','Oklahoma_City','Olympia','Pierre','Providence','Raleigh','Richmond','Saint_Paul','Salem','Salt_Lake_City','Santa_Fe_USA','Trenton']\n",
    "len(capitals_list_retry)"
   ]
  },
  {
   "cell_type": "code",
   "execution_count": 52,
   "metadata": {
    "tags": []
   },
   "outputs": [
    {
     "output_type": "stream",
     "name": "stdout",
     "text": "\n\nRetrieving weather data for Austin\n\n\nCurrently retrieving data for Austin: from 2015-01-01 to 2015-01-31\n"
    },
    {
     "output_type": "error",
     "ename": "HTTPError",
     "evalue": "HTTP Error 403: Forbidden",
     "traceback": [
      "\u001b[1;31m---------------------------------------------------------------------------\u001b[0m",
      "\u001b[1;31mHTTPError\u001b[0m                                 Traceback (most recent call last)",
      "\u001b[1;32m<ipython-input-52-7d2d35256aae>\u001b[0m in \u001b[0;36m<module>\u001b[1;34m\u001b[0m\n\u001b[0;32m     14\u001b[0m                                 \u001b[0mlocation_label\u001b[0m \u001b[1;33m=\u001b[0m \u001b[1;32mFalse\u001b[0m\u001b[1;33m,\u001b[0m\u001b[1;33m\u001b[0m\u001b[1;33m\u001b[0m\u001b[0m\n\u001b[0;32m     15\u001b[0m                                 \u001b[0mexport_csv\u001b[0m \u001b[1;33m=\u001b[0m \u001b[1;32mTrue\u001b[0m\u001b[1;33m,\u001b[0m\u001b[1;33m\u001b[0m\u001b[1;33m\u001b[0m\u001b[0m\n\u001b[1;32m---> 16\u001b[1;33m                                 store_df = True)\n\u001b[0m",
      "\u001b[1;32m~\\anaconda3\\envs\\labs\\lib\\site-packages\\wwo_hist\\__init__.py\u001b[0m in \u001b[0;36mretrieve_hist_data\u001b[1;34m(api_key, location_list, start_date, end_date, frequency, location_label, export_csv, store_df, response_cache_path)\u001b[0m\n\u001b[0;32m    117\u001b[0m     \u001b[1;32mfor\u001b[0m \u001b[0mlocation\u001b[0m \u001b[1;32min\u001b[0m \u001b[0mlocation_list\u001b[0m\u001b[1;33m:\u001b[0m\u001b[1;33m\u001b[0m\u001b[1;33m\u001b[0m\u001b[0m\n\u001b[0;32m    118\u001b[0m         \u001b[0mprint\u001b[0m\u001b[1;33m(\u001b[0m\u001b[1;34m'\\n\\nRetrieving weather data for '\u001b[0m \u001b[1;33m+\u001b[0m \u001b[0mlocation\u001b[0m \u001b[1;33m+\u001b[0m \u001b[1;34m'\\n\\n'\u001b[0m\u001b[1;33m)\u001b[0m\u001b[1;33m\u001b[0m\u001b[1;33m\u001b[0m\u001b[0m\n\u001b[1;32m--> 119\u001b[1;33m         \u001b[0mdf_this_city\u001b[0m \u001b[1;33m=\u001b[0m \u001b[0mretrieve_this_location\u001b[0m\u001b[1;33m(\u001b[0m\u001b[0mapi_key\u001b[0m\u001b[1;33m,\u001b[0m \u001b[0mlocation\u001b[0m\u001b[1;33m,\u001b[0m \u001b[0mstart_date\u001b[0m\u001b[1;33m,\u001b[0m \u001b[0mend_date\u001b[0m\u001b[1;33m,\u001b[0m \u001b[0mfrequency\u001b[0m\u001b[1;33m,\u001b[0m \u001b[0mresponse_cache_path\u001b[0m\u001b[1;33m)\u001b[0m\u001b[1;33m\u001b[0m\u001b[1;33m\u001b[0m\u001b[0m\n\u001b[0m\u001b[0;32m    120\u001b[0m \u001b[1;33m\u001b[0m\u001b[0m\n\u001b[0;32m    121\u001b[0m         \u001b[1;32mif\u001b[0m \u001b[1;33m(\u001b[0m\u001b[0mlocation_label\u001b[0m \u001b[1;33m==\u001b[0m \u001b[1;32mTrue\u001b[0m\u001b[1;33m)\u001b[0m\u001b[1;33m:\u001b[0m\u001b[1;33m\u001b[0m\u001b[1;33m\u001b[0m\u001b[0m\n",
      "\u001b[1;32m~\\anaconda3\\envs\\labs\\lib\\site-packages\\wwo_hist\\__init__.py\u001b[0m in \u001b[0;36mretrieve_this_location\u001b[1;34m(api_key, location, start_date, end_date, frequency, response_cache_path)\u001b[0m\n\u001b[0;32m     93\u001b[0m             url_page = 'http://api.worldweatheronline.com/premium/v1/past-weather.ashx?key=' + api_key + '&q=' + location + '&format=json&date=' + start_d + '&enddate=' + end_d + '&tp=' + str(\n\u001b[0;32m     94\u001b[0m                 frequency)\n\u001b[1;32m---> 95\u001b[1;33m             \u001b[0mjson_page\u001b[0m \u001b[1;33m=\u001b[0m \u001b[0murllib\u001b[0m\u001b[1;33m.\u001b[0m\u001b[0mrequest\u001b[0m\u001b[1;33m.\u001b[0m\u001b[0murlopen\u001b[0m\u001b[1;33m(\u001b[0m\u001b[0murl_page\u001b[0m\u001b[1;33m,\u001b[0m \u001b[0mtimeout\u001b[0m\u001b[1;33m=\u001b[0m\u001b[1;36m10\u001b[0m\u001b[1;33m)\u001b[0m\u001b[1;33m\u001b[0m\u001b[1;33m\u001b[0m\u001b[0m\n\u001b[0m\u001b[0;32m     96\u001b[0m             \u001b[0mjson_data\u001b[0m \u001b[1;33m=\u001b[0m \u001b[0mjson\u001b[0m\u001b[1;33m.\u001b[0m\u001b[0mloads\u001b[0m\u001b[1;33m(\u001b[0m\u001b[0mjson_page\u001b[0m\u001b[1;33m.\u001b[0m\u001b[0mread\u001b[0m\u001b[1;33m(\u001b[0m\u001b[1;33m)\u001b[0m\u001b[1;33m.\u001b[0m\u001b[0mdecode\u001b[0m\u001b[1;33m(\u001b[0m\u001b[1;33m)\u001b[0m\u001b[1;33m)\u001b[0m\u001b[1;33m\u001b[0m\u001b[1;33m\u001b[0m\u001b[0m\n\u001b[0;32m     97\u001b[0m \u001b[1;33m\u001b[0m\u001b[0m\n",
      "\u001b[1;32m~\\anaconda3\\envs\\labs\\lib\\urllib\\request.py\u001b[0m in \u001b[0;36murlopen\u001b[1;34m(url, data, timeout, cafile, capath, cadefault, context)\u001b[0m\n\u001b[0;32m    220\u001b[0m     \u001b[1;32melse\u001b[0m\u001b[1;33m:\u001b[0m\u001b[1;33m\u001b[0m\u001b[1;33m\u001b[0m\u001b[0m\n\u001b[0;32m    221\u001b[0m         \u001b[0mopener\u001b[0m \u001b[1;33m=\u001b[0m \u001b[0m_opener\u001b[0m\u001b[1;33m\u001b[0m\u001b[1;33m\u001b[0m\u001b[0m\n\u001b[1;32m--> 222\u001b[1;33m     \u001b[1;32mreturn\u001b[0m \u001b[0mopener\u001b[0m\u001b[1;33m.\u001b[0m\u001b[0mopen\u001b[0m\u001b[1;33m(\u001b[0m\u001b[0murl\u001b[0m\u001b[1;33m,\u001b[0m \u001b[0mdata\u001b[0m\u001b[1;33m,\u001b[0m \u001b[0mtimeout\u001b[0m\u001b[1;33m)\u001b[0m\u001b[1;33m\u001b[0m\u001b[1;33m\u001b[0m\u001b[0m\n\u001b[0m\u001b[0;32m    223\u001b[0m \u001b[1;33m\u001b[0m\u001b[0m\n\u001b[0;32m    224\u001b[0m \u001b[1;32mdef\u001b[0m \u001b[0minstall_opener\u001b[0m\u001b[1;33m(\u001b[0m\u001b[0mopener\u001b[0m\u001b[1;33m)\u001b[0m\u001b[1;33m:\u001b[0m\u001b[1;33m\u001b[0m\u001b[1;33m\u001b[0m\u001b[0m\n",
      "\u001b[1;32m~\\anaconda3\\envs\\labs\\lib\\urllib\\request.py\u001b[0m in \u001b[0;36mopen\u001b[1;34m(self, fullurl, data, timeout)\u001b[0m\n\u001b[0;32m    529\u001b[0m         \u001b[1;32mfor\u001b[0m \u001b[0mprocessor\u001b[0m \u001b[1;32min\u001b[0m \u001b[0mself\u001b[0m\u001b[1;33m.\u001b[0m\u001b[0mprocess_response\u001b[0m\u001b[1;33m.\u001b[0m\u001b[0mget\u001b[0m\u001b[1;33m(\u001b[0m\u001b[0mprotocol\u001b[0m\u001b[1;33m,\u001b[0m \u001b[1;33m[\u001b[0m\u001b[1;33m]\u001b[0m\u001b[1;33m)\u001b[0m\u001b[1;33m:\u001b[0m\u001b[1;33m\u001b[0m\u001b[1;33m\u001b[0m\u001b[0m\n\u001b[0;32m    530\u001b[0m             \u001b[0mmeth\u001b[0m \u001b[1;33m=\u001b[0m \u001b[0mgetattr\u001b[0m\u001b[1;33m(\u001b[0m\u001b[0mprocessor\u001b[0m\u001b[1;33m,\u001b[0m \u001b[0mmeth_name\u001b[0m\u001b[1;33m)\u001b[0m\u001b[1;33m\u001b[0m\u001b[1;33m\u001b[0m\u001b[0m\n\u001b[1;32m--> 531\u001b[1;33m             \u001b[0mresponse\u001b[0m \u001b[1;33m=\u001b[0m \u001b[0mmeth\u001b[0m\u001b[1;33m(\u001b[0m\u001b[0mreq\u001b[0m\u001b[1;33m,\u001b[0m \u001b[0mresponse\u001b[0m\u001b[1;33m)\u001b[0m\u001b[1;33m\u001b[0m\u001b[1;33m\u001b[0m\u001b[0m\n\u001b[0m\u001b[0;32m    532\u001b[0m \u001b[1;33m\u001b[0m\u001b[0m\n\u001b[0;32m    533\u001b[0m         \u001b[1;32mreturn\u001b[0m \u001b[0mresponse\u001b[0m\u001b[1;33m\u001b[0m\u001b[1;33m\u001b[0m\u001b[0m\n",
      "\u001b[1;32m~\\anaconda3\\envs\\labs\\lib\\urllib\\request.py\u001b[0m in \u001b[0;36mhttp_response\u001b[1;34m(self, request, response)\u001b[0m\n\u001b[0;32m    639\u001b[0m         \u001b[1;32mif\u001b[0m \u001b[1;32mnot\u001b[0m \u001b[1;33m(\u001b[0m\u001b[1;36m200\u001b[0m \u001b[1;33m<=\u001b[0m \u001b[0mcode\u001b[0m \u001b[1;33m<\u001b[0m \u001b[1;36m300\u001b[0m\u001b[1;33m)\u001b[0m\u001b[1;33m:\u001b[0m\u001b[1;33m\u001b[0m\u001b[1;33m\u001b[0m\u001b[0m\n\u001b[0;32m    640\u001b[0m             response = self.parent.error(\n\u001b[1;32m--> 641\u001b[1;33m                 'http', request, response, code, msg, hdrs)\n\u001b[0m\u001b[0;32m    642\u001b[0m \u001b[1;33m\u001b[0m\u001b[0m\n\u001b[0;32m    643\u001b[0m         \u001b[1;32mreturn\u001b[0m \u001b[0mresponse\u001b[0m\u001b[1;33m\u001b[0m\u001b[1;33m\u001b[0m\u001b[0m\n",
      "\u001b[1;32m~\\anaconda3\\envs\\labs\\lib\\urllib\\request.py\u001b[0m in \u001b[0;36merror\u001b[1;34m(self, proto, *args)\u001b[0m\n\u001b[0;32m    567\u001b[0m         \u001b[1;32mif\u001b[0m \u001b[0mhttp_err\u001b[0m\u001b[1;33m:\u001b[0m\u001b[1;33m\u001b[0m\u001b[1;33m\u001b[0m\u001b[0m\n\u001b[0;32m    568\u001b[0m             \u001b[0margs\u001b[0m \u001b[1;33m=\u001b[0m \u001b[1;33m(\u001b[0m\u001b[0mdict\u001b[0m\u001b[1;33m,\u001b[0m \u001b[1;34m'default'\u001b[0m\u001b[1;33m,\u001b[0m \u001b[1;34m'http_error_default'\u001b[0m\u001b[1;33m)\u001b[0m \u001b[1;33m+\u001b[0m \u001b[0morig_args\u001b[0m\u001b[1;33m\u001b[0m\u001b[1;33m\u001b[0m\u001b[0m\n\u001b[1;32m--> 569\u001b[1;33m             \u001b[1;32mreturn\u001b[0m \u001b[0mself\u001b[0m\u001b[1;33m.\u001b[0m\u001b[0m_call_chain\u001b[0m\u001b[1;33m(\u001b[0m\u001b[1;33m*\u001b[0m\u001b[0margs\u001b[0m\u001b[1;33m)\u001b[0m\u001b[1;33m\u001b[0m\u001b[1;33m\u001b[0m\u001b[0m\n\u001b[0m\u001b[0;32m    570\u001b[0m \u001b[1;33m\u001b[0m\u001b[0m\n\u001b[0;32m    571\u001b[0m \u001b[1;31m# XXX probably also want an abstract factory that knows when it makes\u001b[0m\u001b[1;33m\u001b[0m\u001b[1;33m\u001b[0m\u001b[1;33m\u001b[0m\u001b[0m\n",
      "\u001b[1;32m~\\anaconda3\\envs\\labs\\lib\\urllib\\request.py\u001b[0m in \u001b[0;36m_call_chain\u001b[1;34m(self, chain, kind, meth_name, *args)\u001b[0m\n\u001b[0;32m    501\u001b[0m         \u001b[1;32mfor\u001b[0m \u001b[0mhandler\u001b[0m \u001b[1;32min\u001b[0m \u001b[0mhandlers\u001b[0m\u001b[1;33m:\u001b[0m\u001b[1;33m\u001b[0m\u001b[1;33m\u001b[0m\u001b[0m\n\u001b[0;32m    502\u001b[0m             \u001b[0mfunc\u001b[0m \u001b[1;33m=\u001b[0m \u001b[0mgetattr\u001b[0m\u001b[1;33m(\u001b[0m\u001b[0mhandler\u001b[0m\u001b[1;33m,\u001b[0m \u001b[0mmeth_name\u001b[0m\u001b[1;33m)\u001b[0m\u001b[1;33m\u001b[0m\u001b[1;33m\u001b[0m\u001b[0m\n\u001b[1;32m--> 503\u001b[1;33m             \u001b[0mresult\u001b[0m \u001b[1;33m=\u001b[0m \u001b[0mfunc\u001b[0m\u001b[1;33m(\u001b[0m\u001b[1;33m*\u001b[0m\u001b[0margs\u001b[0m\u001b[1;33m)\u001b[0m\u001b[1;33m\u001b[0m\u001b[1;33m\u001b[0m\u001b[0m\n\u001b[0m\u001b[0;32m    504\u001b[0m             \u001b[1;32mif\u001b[0m \u001b[0mresult\u001b[0m \u001b[1;32mis\u001b[0m \u001b[1;32mnot\u001b[0m \u001b[1;32mNone\u001b[0m\u001b[1;33m:\u001b[0m\u001b[1;33m\u001b[0m\u001b[1;33m\u001b[0m\u001b[0m\n\u001b[0;32m    505\u001b[0m                 \u001b[1;32mreturn\u001b[0m \u001b[0mresult\u001b[0m\u001b[1;33m\u001b[0m\u001b[1;33m\u001b[0m\u001b[0m\n",
      "\u001b[1;32m~\\anaconda3\\envs\\labs\\lib\\urllib\\request.py\u001b[0m in \u001b[0;36mhttp_error_default\u001b[1;34m(self, req, fp, code, msg, hdrs)\u001b[0m\n\u001b[0;32m    647\u001b[0m \u001b[1;32mclass\u001b[0m \u001b[0mHTTPDefaultErrorHandler\u001b[0m\u001b[1;33m(\u001b[0m\u001b[0mBaseHandler\u001b[0m\u001b[1;33m)\u001b[0m\u001b[1;33m:\u001b[0m\u001b[1;33m\u001b[0m\u001b[1;33m\u001b[0m\u001b[0m\n\u001b[0;32m    648\u001b[0m     \u001b[1;32mdef\u001b[0m \u001b[0mhttp_error_default\u001b[0m\u001b[1;33m(\u001b[0m\u001b[0mself\u001b[0m\u001b[1;33m,\u001b[0m \u001b[0mreq\u001b[0m\u001b[1;33m,\u001b[0m \u001b[0mfp\u001b[0m\u001b[1;33m,\u001b[0m \u001b[0mcode\u001b[0m\u001b[1;33m,\u001b[0m \u001b[0mmsg\u001b[0m\u001b[1;33m,\u001b[0m \u001b[0mhdrs\u001b[0m\u001b[1;33m)\u001b[0m\u001b[1;33m:\u001b[0m\u001b[1;33m\u001b[0m\u001b[1;33m\u001b[0m\u001b[0m\n\u001b[1;32m--> 649\u001b[1;33m         \u001b[1;32mraise\u001b[0m \u001b[0mHTTPError\u001b[0m\u001b[1;33m(\u001b[0m\u001b[0mreq\u001b[0m\u001b[1;33m.\u001b[0m\u001b[0mfull_url\u001b[0m\u001b[1;33m,\u001b[0m \u001b[0mcode\u001b[0m\u001b[1;33m,\u001b[0m \u001b[0mmsg\u001b[0m\u001b[1;33m,\u001b[0m \u001b[0mhdrs\u001b[0m\u001b[1;33m,\u001b[0m \u001b[0mfp\u001b[0m\u001b[1;33m)\u001b[0m\u001b[1;33m\u001b[0m\u001b[1;33m\u001b[0m\u001b[0m\n\u001b[0m\u001b[0;32m    650\u001b[0m \u001b[1;33m\u001b[0m\u001b[0m\n\u001b[0;32m    651\u001b[0m \u001b[1;32mclass\u001b[0m \u001b[0mHTTPRedirectHandler\u001b[0m\u001b[1;33m(\u001b[0m\u001b[0mBaseHandler\u001b[0m\u001b[1;33m)\u001b[0m\u001b[1;33m:\u001b[0m\u001b[1;33m\u001b[0m\u001b[1;33m\u001b[0m\u001b[0m\n",
      "\u001b[1;31mHTTPError\u001b[0m: HTTP Error 403: Forbidden"
     ]
    }
   ],
   "source": [
    "# USING THE API\n",
    "#########################################################\n",
    "frequency = 24  # time between each data row (hours) - max of 24\n",
    "start_date = '01-JAN-2015'\n",
    "end_date = '31-DEC-2018'\n",
    "#api_key = '831e61eaec474f5ca63202520200309'\n",
    "new_api_key = 'ddd3168a425b434f828201815200309'\n",
    "location_list = capitals_list_retry\n",
    "hist_weather_data = retrieve_hist_data(new_api_key,\n",
    "                                location_list,\n",
    "                                start_date,\n",
    "                                end_date,\n",
    "                                frequency,\n",
    "                                location_label = False,\n",
    "                                export_csv = True,\n",
    "                                store_df = True)"
   ]
  },
  {
   "cell_type": "code",
   "execution_count": 13,
   "metadata": {},
   "outputs": [
    {
     "output_type": "execute_result",
     "data": {
      "text/plain": "    date_time  maxtempC  mintempC  totalSnow_cm  sunHour  uvIndex  \\\n0  2019-01-01         7         4           0.0      6.9        2   \n1  2019-01-02         0        -6           0.0      8.7        2   \n2  2019-01-03         2        -4           0.0      6.9        1   \n3  2019-01-04         2        -1           0.0      8.7        2   \n4  2019-01-05         2         0           0.0      3.4        1   \n\n   moon_illumination  moonrise   moonset   sunrise  ... WindGustKmph  \\\n0                 26  04:01 AM  02:42 PM  08:25 AM  ...           34   \n1                 19  05:05 AM  03:17 PM  08:25 AM  ...           14   \n2                 11  06:07 AM  03:55 PM  08:25 AM  ...           21   \n3                  4  07:05 AM  04:38 PM  08:25 AM  ...           13   \n4                  0  07:59 AM  05:26 PM  08:25 AM  ...           13   \n\n   cloudcover  humidity  precipMM  pressure  tempC  visibility  winddirDegree  \\\n0          58        76      13.7      1009      7           9            303   \n1          22        57       0.0      1021      0          10            164   \n2          52        60       0.2      1019      2          10            299   \n3           6        79       0.0      1005      2          10            154   \n4          61        83       5.2      1004      2           8            334   \n\n   windspeedKmph  location  \n0             13    Albany  \n1             12    Albany  \n2              9    Albany  \n3              9    Albany  \n4              7    Albany  \n\n[5 rows x 25 columns]",
      "text/html": "<div>\n<style scoped>\n    .dataframe tbody tr th:only-of-type {\n        vertical-align: middle;\n    }\n\n    .dataframe tbody tr th {\n        vertical-align: top;\n    }\n\n    .dataframe thead th {\n        text-align: right;\n    }\n</style>\n<table border=\"1\" class=\"dataframe\">\n  <thead>\n    <tr style=\"text-align: right;\">\n      <th></th>\n      <th>date_time</th>\n      <th>maxtempC</th>\n      <th>mintempC</th>\n      <th>totalSnow_cm</th>\n      <th>sunHour</th>\n      <th>uvIndex</th>\n      <th>moon_illumination</th>\n      <th>moonrise</th>\n      <th>moonset</th>\n      <th>sunrise</th>\n      <th>...</th>\n      <th>WindGustKmph</th>\n      <th>cloudcover</th>\n      <th>humidity</th>\n      <th>precipMM</th>\n      <th>pressure</th>\n      <th>tempC</th>\n      <th>visibility</th>\n      <th>winddirDegree</th>\n      <th>windspeedKmph</th>\n      <th>location</th>\n    </tr>\n  </thead>\n  <tbody>\n    <tr>\n      <th>0</th>\n      <td>2019-01-01</td>\n      <td>7</td>\n      <td>4</td>\n      <td>0.0</td>\n      <td>6.9</td>\n      <td>2</td>\n      <td>26</td>\n      <td>04:01 AM</td>\n      <td>02:42 PM</td>\n      <td>08:25 AM</td>\n      <td>...</td>\n      <td>34</td>\n      <td>58</td>\n      <td>76</td>\n      <td>13.7</td>\n      <td>1009</td>\n      <td>7</td>\n      <td>9</td>\n      <td>303</td>\n      <td>13</td>\n      <td>Albany</td>\n    </tr>\n    <tr>\n      <th>1</th>\n      <td>2019-01-02</td>\n      <td>0</td>\n      <td>-6</td>\n      <td>0.0</td>\n      <td>8.7</td>\n      <td>2</td>\n      <td>19</td>\n      <td>05:05 AM</td>\n      <td>03:17 PM</td>\n      <td>08:25 AM</td>\n      <td>...</td>\n      <td>14</td>\n      <td>22</td>\n      <td>57</td>\n      <td>0.0</td>\n      <td>1021</td>\n      <td>0</td>\n      <td>10</td>\n      <td>164</td>\n      <td>12</td>\n      <td>Albany</td>\n    </tr>\n    <tr>\n      <th>2</th>\n      <td>2019-01-03</td>\n      <td>2</td>\n      <td>-4</td>\n      <td>0.0</td>\n      <td>6.9</td>\n      <td>1</td>\n      <td>11</td>\n      <td>06:07 AM</td>\n      <td>03:55 PM</td>\n      <td>08:25 AM</td>\n      <td>...</td>\n      <td>21</td>\n      <td>52</td>\n      <td>60</td>\n      <td>0.2</td>\n      <td>1019</td>\n      <td>2</td>\n      <td>10</td>\n      <td>299</td>\n      <td>9</td>\n      <td>Albany</td>\n    </tr>\n    <tr>\n      <th>3</th>\n      <td>2019-01-04</td>\n      <td>2</td>\n      <td>-1</td>\n      <td>0.0</td>\n      <td>8.7</td>\n      <td>2</td>\n      <td>4</td>\n      <td>07:05 AM</td>\n      <td>04:38 PM</td>\n      <td>08:25 AM</td>\n      <td>...</td>\n      <td>13</td>\n      <td>6</td>\n      <td>79</td>\n      <td>0.0</td>\n      <td>1005</td>\n      <td>2</td>\n      <td>10</td>\n      <td>154</td>\n      <td>9</td>\n      <td>Albany</td>\n    </tr>\n    <tr>\n      <th>4</th>\n      <td>2019-01-05</td>\n      <td>2</td>\n      <td>0</td>\n      <td>0.0</td>\n      <td>3.4</td>\n      <td>1</td>\n      <td>0</td>\n      <td>07:59 AM</td>\n      <td>05:26 PM</td>\n      <td>08:25 AM</td>\n      <td>...</td>\n      <td>13</td>\n      <td>61</td>\n      <td>83</td>\n      <td>5.2</td>\n      <td>1004</td>\n      <td>2</td>\n      <td>8</td>\n      <td>334</td>\n      <td>7</td>\n      <td>Albany</td>\n    </tr>\n  </tbody>\n</table>\n<p>5 rows × 25 columns</p>\n</div>"
     },
     "metadata": {},
     "execution_count": 13
    }
   ],
   "source": [
    "# Load in .csv files and concatenate into one dataframe, then make a function for when we pull in all 5-years of data\n",
    "albany = pd.read_csv('Albany.csv')\n",
    "albany.head()"
   ]
  },
  {
   "cell_type": "code",
   "execution_count": 39,
   "metadata": {},
   "outputs": [
    {
     "output_type": "execute_result",
     "data": {
      "text/plain": "    date_time  maxtempC  mintempC  totalSnow_cm  FeelsLikeC  cloudcover  \\\n0  2019-01-01         7         4           0.0           1          58   \n1  2019-01-02         0        -6           0.0          -5          22   \n2  2019-01-03         2        -4           0.0          -5          52   \n3  2019-01-04         2        -1           0.0          -1           6   \n4  2019-01-05         2         0           0.0          -1          61   \n\n   humidity  precipMM  windspeedKmph location  \n0        76      13.7             13   Albany  \n1        57       0.0             12   Albany  \n2        60       0.2              9   Albany  \n3        79       0.0              9   Albany  \n4        83       5.2              7   Albany  ",
      "text/html": "<div>\n<style scoped>\n    .dataframe tbody tr th:only-of-type {\n        vertical-align: middle;\n    }\n\n    .dataframe tbody tr th {\n        vertical-align: top;\n    }\n\n    .dataframe thead th {\n        text-align: right;\n    }\n</style>\n<table border=\"1\" class=\"dataframe\">\n  <thead>\n    <tr style=\"text-align: right;\">\n      <th></th>\n      <th>date_time</th>\n      <th>maxtempC</th>\n      <th>mintempC</th>\n      <th>totalSnow_cm</th>\n      <th>FeelsLikeC</th>\n      <th>cloudcover</th>\n      <th>humidity</th>\n      <th>precipMM</th>\n      <th>windspeedKmph</th>\n      <th>location</th>\n    </tr>\n  </thead>\n  <tbody>\n    <tr>\n      <th>0</th>\n      <td>2019-01-01</td>\n      <td>7</td>\n      <td>4</td>\n      <td>0.0</td>\n      <td>1</td>\n      <td>58</td>\n      <td>76</td>\n      <td>13.7</td>\n      <td>13</td>\n      <td>Albany</td>\n    </tr>\n    <tr>\n      <th>1</th>\n      <td>2019-01-02</td>\n      <td>0</td>\n      <td>-6</td>\n      <td>0.0</td>\n      <td>-5</td>\n      <td>22</td>\n      <td>57</td>\n      <td>0.0</td>\n      <td>12</td>\n      <td>Albany</td>\n    </tr>\n    <tr>\n      <th>2</th>\n      <td>2019-01-03</td>\n      <td>2</td>\n      <td>-4</td>\n      <td>0.0</td>\n      <td>-5</td>\n      <td>52</td>\n      <td>60</td>\n      <td>0.2</td>\n      <td>9</td>\n      <td>Albany</td>\n    </tr>\n    <tr>\n      <th>3</th>\n      <td>2019-01-04</td>\n      <td>2</td>\n      <td>-1</td>\n      <td>0.0</td>\n      <td>-1</td>\n      <td>6</td>\n      <td>79</td>\n      <td>0.0</td>\n      <td>9</td>\n      <td>Albany</td>\n    </tr>\n    <tr>\n      <th>4</th>\n      <td>2019-01-05</td>\n      <td>2</td>\n      <td>0</td>\n      <td>0.0</td>\n      <td>-1</td>\n      <td>61</td>\n      <td>83</td>\n      <td>5.2</td>\n      <td>7</td>\n      <td>Albany</td>\n    </tr>\n  </tbody>\n</table>\n</div>"
     },
     "metadata": {},
     "execution_count": 39
    }
   ],
   "source": [
    "df = albany.copy()\n",
    "df = df.drop(['winddirDegree', 'visibility', 'pressure', 'moonrise', 'moonset', 'sunrise', 'sunset', 'DewPointC', 'HeatIndexC', 'WindChillC', 'WindGustKmph', 'sunHour', 'uvIndex', 'moon_illumination', 'tempC'], axis=1)\n",
    "df.head()"
   ]
  },
  {
   "cell_type": "code",
   "execution_count": 40,
   "metadata": {
    "tags": []
   },
   "outputs": [
    {
     "output_type": "execute_result",
     "data": {
      "text/plain": "    location  maxtempC  mintempC  FeelsLikeC  precipMM  totalSnow_cm  \\\n0     Albany         7         4           1      13.7           0.0   \n1     Albany         0        -6          -5       0.0           0.0   \n2     Albany         2        -4          -5       0.2           0.0   \n3     Albany         2        -1          -1       0.0           0.0   \n4     Albany         2         0          -1       5.2           0.0   \n..       ...       ...       ...         ...       ...           ...   \n361   Albany         5         0          -1       0.0           0.0   \n362   Albany         4        -1           0      10.8           0.0   \n363   Albany         5         1           1      40.1           0.0   \n364   Albany         4         0           0       2.1           0.3   \n365   Albany         2        -2          -4       0.0           0.0   \n\n     windspeedKmph  humidity  cloudcover   date_time  \n0               13        76          58  2019-01-01  \n1               12        57          22  2019-01-02  \n2                9        60          52  2019-01-03  \n3                9        79           6  2019-01-04  \n4                7        83          61  2019-01-05  \n..             ...       ...         ...         ...  \n361             10        83          51  2019-12-28  \n362              4        85          48  2019-12-29  \n363              8        93          97  2019-12-30  \n364              6        90          91  2019-12-31  \n365             10        70          40  2020-01-01  \n\n[366 rows x 10 columns]",
      "text/html": "<div>\n<style scoped>\n    .dataframe tbody tr th:only-of-type {\n        vertical-align: middle;\n    }\n\n    .dataframe tbody tr th {\n        vertical-align: top;\n    }\n\n    .dataframe thead th {\n        text-align: right;\n    }\n</style>\n<table border=\"1\" class=\"dataframe\">\n  <thead>\n    <tr style=\"text-align: right;\">\n      <th></th>\n      <th>location</th>\n      <th>maxtempC</th>\n      <th>mintempC</th>\n      <th>FeelsLikeC</th>\n      <th>precipMM</th>\n      <th>totalSnow_cm</th>\n      <th>windspeedKmph</th>\n      <th>humidity</th>\n      <th>cloudcover</th>\n      <th>date_time</th>\n    </tr>\n  </thead>\n  <tbody>\n    <tr>\n      <th>0</th>\n      <td>Albany</td>\n      <td>7</td>\n      <td>4</td>\n      <td>1</td>\n      <td>13.7</td>\n      <td>0.0</td>\n      <td>13</td>\n      <td>76</td>\n      <td>58</td>\n      <td>2019-01-01</td>\n    </tr>\n    <tr>\n      <th>1</th>\n      <td>Albany</td>\n      <td>0</td>\n      <td>-6</td>\n      <td>-5</td>\n      <td>0.0</td>\n      <td>0.0</td>\n      <td>12</td>\n      <td>57</td>\n      <td>22</td>\n      <td>2019-01-02</td>\n    </tr>\n    <tr>\n      <th>2</th>\n      <td>Albany</td>\n      <td>2</td>\n      <td>-4</td>\n      <td>-5</td>\n      <td>0.2</td>\n      <td>0.0</td>\n      <td>9</td>\n      <td>60</td>\n      <td>52</td>\n      <td>2019-01-03</td>\n    </tr>\n    <tr>\n      <th>3</th>\n      <td>Albany</td>\n      <td>2</td>\n      <td>-1</td>\n      <td>-1</td>\n      <td>0.0</td>\n      <td>0.0</td>\n      <td>9</td>\n      <td>79</td>\n      <td>6</td>\n      <td>2019-01-04</td>\n    </tr>\n    <tr>\n      <th>4</th>\n      <td>Albany</td>\n      <td>2</td>\n      <td>0</td>\n      <td>-1</td>\n      <td>5.2</td>\n      <td>0.0</td>\n      <td>7</td>\n      <td>83</td>\n      <td>61</td>\n      <td>2019-01-05</td>\n    </tr>\n    <tr>\n      <th>...</th>\n      <td>...</td>\n      <td>...</td>\n      <td>...</td>\n      <td>...</td>\n      <td>...</td>\n      <td>...</td>\n      <td>...</td>\n      <td>...</td>\n      <td>...</td>\n      <td>...</td>\n    </tr>\n    <tr>\n      <th>361</th>\n      <td>Albany</td>\n      <td>5</td>\n      <td>0</td>\n      <td>-1</td>\n      <td>0.0</td>\n      <td>0.0</td>\n      <td>10</td>\n      <td>83</td>\n      <td>51</td>\n      <td>2019-12-28</td>\n    </tr>\n    <tr>\n      <th>362</th>\n      <td>Albany</td>\n      <td>4</td>\n      <td>-1</td>\n      <td>0</td>\n      <td>10.8</td>\n      <td>0.0</td>\n      <td>4</td>\n      <td>85</td>\n      <td>48</td>\n      <td>2019-12-29</td>\n    </tr>\n    <tr>\n      <th>363</th>\n      <td>Albany</td>\n      <td>5</td>\n      <td>1</td>\n      <td>1</td>\n      <td>40.1</td>\n      <td>0.0</td>\n      <td>8</td>\n      <td>93</td>\n      <td>97</td>\n      <td>2019-12-30</td>\n    </tr>\n    <tr>\n      <th>364</th>\n      <td>Albany</td>\n      <td>4</td>\n      <td>0</td>\n      <td>0</td>\n      <td>2.1</td>\n      <td>0.3</td>\n      <td>6</td>\n      <td>90</td>\n      <td>91</td>\n      <td>2019-12-31</td>\n    </tr>\n    <tr>\n      <th>365</th>\n      <td>Albany</td>\n      <td>2</td>\n      <td>-2</td>\n      <td>-4</td>\n      <td>0.0</td>\n      <td>0.0</td>\n      <td>10</td>\n      <td>70</td>\n      <td>40</td>\n      <td>2020-01-01</td>\n    </tr>\n  </tbody>\n</table>\n<p>366 rows × 10 columns</p>\n</div>"
     },
     "metadata": {},
     "execution_count": 40
    }
   ],
   "source": [
    "cols = list(df)\n",
    "# print(len(cols))\n",
    "cols.insert(0, cols.pop(cols.index('location')))\n",
    "cols.insert(9, cols.pop(cols.index('date_time')))\n",
    "cols.insert(3, cols.pop(cols.index('precipMM')))\n",
    "cols.insert(5, cols.pop(cols.index('windspeedKmph')))\n",
    "cols.insert(6, cols.pop(cols.index('humidity')))\n",
    "cols.insert(7, cols.pop(cols.index('cloudcover')))\n",
    "cols.insert(3, cols.pop(cols.index('FeelsLikeC')))\n",
    "df = df.loc[:, cols]\n",
    "df"
   ]
  },
  {
   "cell_type": "code",
   "execution_count": null,
   "metadata": {},
   "outputs": [],
   "source": []
  },
  {
   "cell_type": "code",
   "execution_count": null,
   "metadata": {},
   "outputs": [],
   "source": [
    "def clean(DataFrame):\n",
    "    X = DataFrame.copy()\n",
    "    X = X.drop(['winddirDegree', 'visibility', 'pressure', 'moonrise',                           'moonset', 'sunrise', 'sunset', 'DewPointC', 'HeatIndexC',                       'WindChillC', 'WindGustKmph', 'sunHour', 'uvIndex',                              'moon_illumination', 'tempC'], axis=1)\n",
    "\n",
    "    cols = list(X)\n",
    "    # print(len(cols))\n",
    "    cols.insert(0, cols.pop(cols.index('location')))\n",
    "    cols.insert(9, cols.pop(cols.index('date_time')))\n",
    "    cols.insert(3, cols.pop(cols.index('precipMM')))\n",
    "    cols.insert(5, cols.pop(cols.index('windspeedKmph')))\n",
    "    cols.insert(6, cols.pop(cols.index('humidity')))\n",
    "    cols.insert(7, cols.pop(cols.index('cloudcover')))\n",
    "    cols.insert(3, cols.pop(cols.index('FeelsLikeC')))\n",
    "    X = X.loc[:, cols]\n",
    "\n",
    "    return X"
   ]
  },
  {
   "cell_type": "code",
   "execution_count": null,
   "metadata": {},
   "outputs": [],
   "source": []
  }
 ]
}