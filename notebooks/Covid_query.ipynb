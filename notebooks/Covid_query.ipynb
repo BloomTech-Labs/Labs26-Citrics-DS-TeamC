{
  "nbformat": 4,
  "nbformat_minor": 0,
  "metadata": {
    "colab": {
      "name": "Covid_query.ipynb",
      "provenance": [],
      "toc_visible": true,
      "authorship_tag": "ABX9TyOUj+0ze+J/keL49JsFNNNd",
      "include_colab_link": true
    },
    "kernelspec": {
      "name": "python3",
      "display_name": "Python 3"
    }
  },
  "cells": [
    {
      "cell_type": "markdown",
      "metadata": {
        "id": "view-in-github",
        "colab_type": "text"
      },
      "source": [
        "<a href=\"https://colab.research.google.com/github/Lambda-School-Labs/Labs26-Citrics-DS-TeamC/blob/mtoce/notebooks/Covid_query.ipynb\" target=\"_parent\"><img src=\"https://colab.research.google.com/assets/colab-badge.svg\" alt=\"Open In Colab\"/></a>"
      ]
    },
    {
      "cell_type": "markdown",
      "metadata": {
        "id": "HMT8Z4Q7axTO"
      },
      "source": [
        "# COVID-19 Notebook for Citrics Team C (Driftly)"
      ]
    },
    {
      "cell_type": "markdown",
      "metadata": {
        "id": "Ovudurula6bc"
      },
      "source": [
        "# Install Packages"
      ]
    },
    {
      "cell_type": "code",
      "metadata": {
        "id": "iVzjVnlcarry"
      },
      "source": [
        "import pandas as pd\n",
        "import numpy as np\n",
        "import requests\n",
        "from io import StringIO\n",
        "import time\n",
        "import datetime\n",
        "import glob     # loading in .csvs\n",
        "# import plotly.express as px\n",
        "# from sodapy import Socrata    # for querying the API"
      ],
      "execution_count": 1,
      "outputs": []
    },
    {
      "cell_type": "code",
      "metadata": {
        "id": "tW_hwIODlQ8c",
        "outputId": "419f0a03-d076-4fe4-e222-aea1973b0e51",
        "colab": {
          "base_uri": "https://localhost:8080/",
          "height": 34
        }
      },
      "source": [
        "# MOUNT google drive\n",
        "from google.colab import drive\n",
        "drive.mount('/content/drive')"
      ],
      "execution_count": 2,
      "outputs": [
        {
          "output_type": "stream",
          "text": [
            "Mounted at /content/drive\n"
          ],
          "name": "stdout"
        }
      ]
    },
    {
      "cell_type": "markdown",
      "metadata": {
        "id": "xzBcQv9kbHEx"
      },
      "source": [
        "# Query the Data\n",
        "\n",
        "- Downloaded all 50 states of data from [Coronavirus API](https://coronavirusapi.com/) using the link at the bottom to query for each state based on it's postal code.\n",
        "\n",
        "- Link to query the data: http://coronavirusapi.com/getTimeSeries/(2 letter state abbreviation)"
      ]
    },
    {
      "cell_type": "code",
      "metadata": {
        "id": "PGx4hWecxHgh",
        "outputId": "bfce9b7d-8325-407a-dfa1-f13345c0ddd1",
        "colab": {
          "base_uri": "https://localhost:8080/",
          "height": 34
        }
      },
      "source": [
        "# LOAD in postal's dict\n",
        "postals_dict = {'Alabama': 'AL','Alaska': 'AK','Arizona': 'AZ','Arkansas': 'AR','California': 'CA','Colorado': 'CO','Connecticut': 'CT','Delaware': 'DE','District of Columbia': 'DC','Florida': 'FL','Georgia': 'GA','Hawaii': 'HI','Idaho': 'ID','Illinois': 'IL','Indiana': 'IN','Iowa': 'IA','Kansas': 'KS','Kentucky': 'KY','Louisiana': 'LA','Maine': 'ME','Maryland': 'MD','Massachusetts': 'MA','Michigan': 'MI','Minnesota': 'MN','Mississippi': 'MS','Missouri': 'MO','Montana': 'MT','Nebraska': 'NE','Nevada': 'NV','New Hampshire': 'NH','New Jersey': 'NJ','New Mexico': 'NM','New York': 'NY','North Carolina': 'NC','North Dakota': 'ND','Ohio': 'OH','Oklahoma': 'OK','Oregon': 'OR','Pennsylvania': 'PA','Rhode Island': 'RI','South Carolina': 'SC','South Dakota': 'SD','Tennessee': 'TN','Texas': 'TX','Utah': 'UT','Vermont': 'VT','Virginia': 'VA','Washington': 'WA','West Virginia': 'WV','Wisconsin': 'WI','Wyoming': 'WY'}\n",
        "postals_list = list(postals_dict.values())\n",
        "print(len(postals_list))"
      ],
      "execution_count": 3,
      "outputs": [
        {
          "output_type": "stream",
          "text": [
            "51\n"
          ],
          "name": "stdout"
        }
      ]
    },
    {
      "cell_type": "code",
      "metadata": {
        "id": "lz4ZB1eJxh3w"
      },
      "source": [
        "def clean(df):\n",
        "  '''\n",
        "  Converts seconds since epoch into the actual date and creates year, month, and\n",
        "  day columns from date.\n",
        "  '''\n",
        "  # create date col from seconds since epoch col\n",
        "  df['date'] = pd.to_datetime(df['seconds_since_Epoch'], unit='s')\n",
        "  # create year, month, day cols from date col\n",
        "  df['year'] = pd.DatetimeIndex(df['date']).year\n",
        "  df['month'] = pd.DatetimeIndex(df['date']).month\n",
        "  df['day'] = pd.DatetimeIndex(df['date']).day\n",
        "  return df"
      ],
      "execution_count": 24,
      "outputs": []
    },
    {
      "cell_type": "code",
      "metadata": {
        "id": "JxhKxoMuxhul"
      },
      "source": [
        "# FUNCTIONALIZE querying the data so we can grab all 50 states' data at what intervals we want\n",
        "def query_and_store_covid_data():\n",
        "  '''\n",
        "  Loops through all state postal codes, querying the coronavirus API or each one.\n",
        "  Converts each to a dataframe, cleans it, and exports to a new csv.\n",
        "  '''\n",
        "  # LOOP over all state-postals\n",
        "  for idx in range(len(postals_list)):\n",
        "    base_url = 'http://coronavirusapi.com/getTimeSeries/'\n",
        "    r = requests.get(base_url + postals_list[idx])    # base url + postal code\n",
        "    bytes_data = r.content                # stores bytes data to variable\n",
        "    s = str(bytes_data, 'utf-8')          # convert bytes data to a usable string\n",
        "    data = StringIO(s)\n",
        "    df = pd.read_csv(data)                # read in object as a dataframe\n",
        "    df['postal'] = postals_list[idx]      # create 'postal' column\n",
        "    df = clean(df)\n",
        "    # SAVE to .csv inside google drive folder\n",
        "    df.to_csv('/content/drive/My Drive/lambda_school/driftly_data/covid_data/covid_data_updated/' + postals_list[idx] + '.csv')\n",
        "query_and_store_covid_data()"
      ],
      "execution_count": 25,
      "outputs": []
    },
    {
      "cell_type": "code",
      "metadata": {
        "id": "IU40Fa7LbK_X",
        "outputId": "237ecf22-e418-4faf-8851-62af1d4344d4",
        "colab": {
          "base_uri": "https://localhost:8080/",
          "height": 204
        }
      },
      "source": [
        "# LOAD in .CSVs from google collab folder\n",
        "load_path = r'/content/drive/My Drive/lambda_school/driftly_data/covid_data/covid_data_updated'\n",
        "export_path = r'/content/drive/My Drive/lambda_school/driftly_data/covid_data/covid_data.csv'\n",
        "def load_and_concat(load_path, export_path):\n",
        "  all_files = glob.glob(path + \"/*.csv\")\n",
        "  list_to_concat = []\n",
        "  # Loop over all files in folder\n",
        "  for filename in all_files:\n",
        "      df = pd.read_csv(filename, index_col=None, header=0)\n",
        "      list_to_concat.append(df)\n",
        "  # concatenate .csvs into one DF\n",
        "  df = pd.concat(list_to_concat, axis=0, ignore_index=True)\n",
        "  df = df.drop('Unnamed: 0', axis=1)\n",
        "  df.to_csv(export_path)\n",
        "  return df\n",
        "df = load_and_concat(load_path, export_path)\n",
        "df.head()"
      ],
      "execution_count": 33,
      "outputs": [
        {
          "output_type": "execute_result",
          "data": {
            "text/html": [
              "<div>\n",
              "<style scoped>\n",
              "    .dataframe tbody tr th:only-of-type {\n",
              "        vertical-align: middle;\n",
              "    }\n",
              "\n",
              "    .dataframe tbody tr th {\n",
              "        vertical-align: top;\n",
              "    }\n",
              "\n",
              "    .dataframe thead th {\n",
              "        text-align: right;\n",
              "    }\n",
              "</style>\n",
              "<table border=\"1\" class=\"dataframe\">\n",
              "  <thead>\n",
              "    <tr style=\"text-align: right;\">\n",
              "      <th></th>\n",
              "      <th>seconds_since_Epoch</th>\n",
              "      <th>tested</th>\n",
              "      <th>positive</th>\n",
              "      <th>deaths</th>\n",
              "      <th>postal</th>\n",
              "      <th>date</th>\n",
              "      <th>year</th>\n",
              "      <th>month</th>\n",
              "      <th>day</th>\n",
              "    </tr>\n",
              "  </thead>\n",
              "  <tbody>\n",
              "    <tr>\n",
              "      <th>0</th>\n",
              "      <td>1588293736</td>\n",
              "      <td>19562</td>\n",
              "      <td>355</td>\n",
              "      <td>9</td>\n",
              "      <td>AK</td>\n",
              "      <td>2020-05-01 00:42:16</td>\n",
              "      <td>2020</td>\n",
              "      <td>5</td>\n",
              "      <td>1</td>\n",
              "    </tr>\n",
              "    <tr>\n",
              "      <th>1</th>\n",
              "      <td>1588372862</td>\n",
              "      <td>19562</td>\n",
              "      <td>364</td>\n",
              "      <td>9</td>\n",
              "      <td>AK</td>\n",
              "      <td>2020-05-01 22:41:02</td>\n",
              "      <td>2020</td>\n",
              "      <td>5</td>\n",
              "      <td>1</td>\n",
              "    </tr>\n",
              "    <tr>\n",
              "      <th>2</th>\n",
              "      <td>1588390979</td>\n",
              "      <td>20325</td>\n",
              "      <td>364</td>\n",
              "      <td>9</td>\n",
              "      <td>AK</td>\n",
              "      <td>2020-05-02 03:42:59</td>\n",
              "      <td>2020</td>\n",
              "      <td>5</td>\n",
              "      <td>2</td>\n",
              "    </tr>\n",
              "    <tr>\n",
              "      <th>3</th>\n",
              "      <td>1588445522</td>\n",
              "      <td>20325</td>\n",
              "      <td>365</td>\n",
              "      <td>9</td>\n",
              "      <td>AK</td>\n",
              "      <td>2020-05-02 18:52:02</td>\n",
              "      <td>2020</td>\n",
              "      <td>5</td>\n",
              "      <td>2</td>\n",
              "    </tr>\n",
              "    <tr>\n",
              "      <th>4</th>\n",
              "      <td>1588466696</td>\n",
              "      <td>21399</td>\n",
              "      <td>365</td>\n",
              "      <td>9</td>\n",
              "      <td>AK</td>\n",
              "      <td>2020-05-03 00:44:56</td>\n",
              "      <td>2020</td>\n",
              "      <td>5</td>\n",
              "      <td>3</td>\n",
              "    </tr>\n",
              "  </tbody>\n",
              "</table>\n",
              "</div>"
            ],
            "text/plain": [
              "   seconds_since_Epoch  tested  positive  ...  year month day\n",
              "0           1588293736   19562       355  ...  2020     5   1\n",
              "1           1588372862   19562       364  ...  2020     5   1\n",
              "2           1588390979   20325       364  ...  2020     5   2\n",
              "3           1588445522   20325       365  ...  2020     5   2\n",
              "4           1588466696   21399       365  ...  2020     5   3\n",
              "\n",
              "[5 rows x 9 columns]"
            ]
          },
          "metadata": {
            "tags": []
          },
          "execution_count": 33
        }
      ]
    },
    {
      "cell_type": "code",
      "metadata": {
        "id": "kbmoKN6_Bofb",
        "outputId": "a1827b77-88a4-48dd-a609-d2a5c58bf0df",
        "colab": {
          "base_uri": "https://localhost:8080/",
          "height": 120
        }
      },
      "source": [
        "# CONVERT dataframe to JSON object\n",
        "def create_covid_json(df):\n",
        "  grpd_avg = df.groupby('postal').mean()\n",
        "  grpd_avg = grpd_avg.drop(['seconds_since_Epoch','year', 'month', 'day'], axis=1)\n",
        "  avg_json = grpd_avg.to_json(orient='index')\n",
        "  return avg_json\n",
        "avg_json = create_covid_json(df)\n",
        "avg_json"
      ],
      "execution_count": 43,
      "outputs": [
        {
          "output_type": "execute_result",
          "data": {
            "application/vnd.google.colaboratory.intrinsic+json": {
              "type": "string"
            },
            "text/plain": [
              "'{\"AK\":{\"tested\":101194.1470588235,\"positive\":1030.2941176471,\"deaths\":14.2941176471},\"AL\":{\"tested\":358771.4265402844,\"positive\":44907.5687203791,\"deaths\":994.8293838863},\"AR\":{\"tested\":229584.2753623188,\"positive\":16518.652173913,\"deaths\":235.6666666667},\"AZ\":{\"tested\":721558.1752577319,\"positive\":93395.7628865979,\"deaths\":2182.3917525773},\"CA\":{\"tested\":6022203.9189189188,\"positive\":360479.2972972973,\"deaths\":7693.7027027027},\"CO\":{\"tested\":335332.9649122807,\"positive\":34315.9736842105,\"deaths\":1463.5614035088},\"CT\":{\"tested\":394123.7794117647,\"positive\":42083.2352941177,\"deaths\":3795.2941176471},\"DC\":{\"tested\":135301.3969465649,\"positive\":10529.4885496183,\"deaths\":518.0992366412},\"DE\":{\"tested\":87644.78125,\"positive\":10107.75,\"deaths\":386.40625},\"FL\":{\"tested\":2619268.1739130435,\"positive\":308108.0289855073,\"deaths\":5898.6956521739},\"GA\":{\"tested\":723217.5974842767,\"positive\":81104.2955974843,\"deaths\":2327.9245283019},\"HI\":{\"tested\":70864.5949367089,\"positive\":1375.2151898734,\"deaths\":22.5696202532},\"IA\":{\"tested\":235554.0153846154,\"positive\":25748.2923076923,\"deaths\":575.7384615385},\"ID\":{\"tested\":65969.7549668874,\"positive\":14568.8741721854,\"deaths\":174.1986754967},\"IL\":{\"tested\":2369913.0193548389,\"positive\":161703.8064516129,\"deaths\":6645.3290322581},\"IN\":{\"tested\":640366.1557377049,\"positive\":57080.1967213115,\"deaths\":2412.4098360656},\"KS\":{\"tested\":162974.7916666667,\"positive\":16117.1666666667,\"deaths\":256.8333333333},\"KY\":{\"tested\":592070.5447761194,\"positive\":28909.223880597,\"deaths\":695.671641791},\"LA\":{\"tested\":682671.9784946237,\"positive\":61594.0215053763,\"deaths\":2992.7311827957},\"MA\":{\"tested\":730109.3414634146,\"positive\":96441.4268292683,\"deaths\":6775.9146341463},\"MD\":{\"tested\":740505.8445945946,\"positive\":75204.277027027,\"deaths\":3030.9391891892},\"ME\":{\"tested\":59915.0625,\"positive\":2596.984375,\"deaths\":90.859375},\"MI\":{\"tested\":911902.5662650602,\"positive\":65325.7590361446,\"deaths\":5501.9759036145},\"MN\":{\"tested\":861265.7142857143,\"positive\":47451.9931972789,\"deaths\":1415.0204081633},\"MO\":{\"tested\":307572.0256410256,\"positive\":21968.6025641026,\"deaths\":796.358974359},\"MS\":{\"tested\":388976.9716312057,\"positive\":45896.1134751773,\"deaths\":1469.134751773},\"MT\":{\"tested\":132412.7591240876,\"positive\":3420.299270073,\"deaths\":54.4306569343},\"NC\":{\"tested\":788045.0151515151,\"positive\":55862.8333333333,\"deaths\":1169.6666666667},\"ND\":{\"tested\":96683.2685185185,\"positive\":4338.1666666667,\"deaths\":78.5740740741},\"NE\":{\"tested\":133187.6025641026,\"positive\":15589.3974358974,\"deaths\":197.9615384615},\"NH\":{\"tested\":91220.7123287671,\"positive\":5853.7534246575,\"deaths\":340.5479452055},\"NJ\":{\"tested\":1209007.0568181819,\"positive\":163678.6477272727,\"deaths\":12158.2840909091},\"NM\":{\"tested\":333378.8910891089,\"positive\":12265.1386138614,\"deaths\":454.3762376238},\"NV\":{\"tested\":235135.9743589743,\"positive\":16410.8461538462,\"deaths\":480.0641025641},\"NY\":{\"tested\":3947208.5327102803,\"positive\":387428.523364486,\"deaths\":24113.6822429907},\"OH\":{\"tested\":408879.2049689441,\"positive\":68652.1304347826,\"deaths\":2855.4906832298},\"OK\":{\"tested\":379378.7006369427,\"positive\":28883.152866242,\"deaths\":509.1082802548},\"OR\":{\"tested\":193758.2,\"positive\":7896.8769230769,\"deaths\":196.6},\"PA\":{\"tested\":680754.9210526316,\"positive\":80418.5394736842,\"deaths\":5639.1578947368},\"RI\":{\"tested\":208958.2083333333,\"positive\":15205.0555555556,\"deaths\":735.2083333333},\"SC\":{\"tested\":285896.8117647059,\"positive\":28235.4117647059,\"deaths\":732.6235294118},\"SD\":{\"tested\":61207.203125,\"positive\":6094.3125,\"deaths\":74.78125},\"TN\":{\"tested\":1010974.1803278689,\"positive\":66228.3852459016,\"deaths\":779.2213114754},\"TX\":{\"tested\":2848128.8175182482,\"positive\":316316.3284671533,\"deaths\":5957.102189781},\"UT\":{\"tested\":292841.4492753623,\"positive\":17615.2463768116,\"deaths\":151.6231884058},\"VA\":{\"tested\":509215.3432835821,\"positive\":52224.3134328358,\"deaths\":1458.3134328358},\"VT\":{\"tested\":50990.6935483871,\"positive\":1112.8870967742,\"deaths\":54.7419354839},\"WA\":{\"tested\":562235.90625,\"positive\":32862.3541666667,\"deaths\":1256.4375},\"WI\":{\"tested\":434653.2205882353,\"positive\":26919.6911764706,\"deaths\":648.0441176471},\"WV\":{\"tested\":132340.4675324675,\"positive\":2869.2727272727,\"deaths\":84.7532467532},\"WY\":{\"tested\":56950.3544303797,\"positive\":1678.3544303797,\"deaths\":22.3481012658}}'"
            ]
          },
          "metadata": {
            "tags": []
          },
          "execution_count": 43
        }
      ]
    }
  ]
}