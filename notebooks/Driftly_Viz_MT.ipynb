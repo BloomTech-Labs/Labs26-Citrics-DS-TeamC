{
  "nbformat": 4,
  "nbformat_minor": 0,
  "metadata": {
    "colab": {
      "name": "Driftly_Viz_MT.ipynb",
      "provenance": [],
      "authorship_tag": "ABX9TyMtWWZVYDoEd8BR7fZa3qMo",
      "include_colab_link": true
    },
    "kernelspec": {
      "name": "python3",
      "display_name": "Python 3"
    },
    "accelerator": "GPU"
  },
  "cells": [
    {
      "cell_type": "markdown",
      "metadata": {
        "id": "view-in-github",
        "colab_type": "text"
      },
      "source": [
        "<a href=\"https://colab.research.google.com/github/Lambda-School-Labs/Labs26-Citrics-DS-TeamC/blob/mtoce/notebooks/Driftly_Viz_MT.ipynb\" target=\"_parent\"><img src=\"https://colab.research.google.com/assets/colab-badge.svg\" alt=\"Open In Colab\"/></a>"
      ]
    },
    {
      "cell_type": "markdown",
      "metadata": {
        "id": "gq-wNw5pDnxX"
      },
      "source": [
        "# Driftly Time Series Visualizations Notebook\n",
        "\n"
      ]
    },
    {
      "cell_type": "markdown",
      "metadata": {
        "id": "5qISVm-nDuL6"
      },
      "source": [
        "## Import Packages, Mount Drive, and Load in .CSVs"
      ]
    },
    {
      "cell_type": "code",
      "metadata": {
        "id": "AD6D2mR0L89c",
        "outputId": "cb3324b3-f620-469c-ae50-1b008dbf86f3",
        "colab": {
          "base_uri": "https://localhost:8080/",
          "height": 255
        }
      },
      "source": [
        "pip install plotly-express"
      ],
      "execution_count": 1,
      "outputs": [
        {
          "output_type": "stream",
          "text": [
            "Collecting plotly-express\n",
            "  Downloading https://files.pythonhosted.org/packages/d4/d6/8a2906f51e073a4be80cab35cfa10e7a34853e60f3ed5304ac470852a08d/plotly_express-0.4.1-py2.py3-none-any.whl\n",
            "Requirement already satisfied: scipy>=0.18 in /usr/local/lib/python3.6/dist-packages (from plotly-express) (1.4.1)\n",
            "Requirement already satisfied: plotly>=4.1.0 in /usr/local/lib/python3.6/dist-packages (from plotly-express) (4.4.1)\n",
            "Requirement already satisfied: numpy>=1.11 in /usr/local/lib/python3.6/dist-packages (from plotly-express) (1.18.5)\n",
            "Requirement already satisfied: pandas>=0.20.0 in /usr/local/lib/python3.6/dist-packages (from plotly-express) (1.1.2)\n",
            "Requirement already satisfied: statsmodels>=0.9.0 in /usr/local/lib/python3.6/dist-packages (from plotly-express) (0.10.2)\n",
            "Requirement already satisfied: patsy>=0.5 in /usr/local/lib/python3.6/dist-packages (from plotly-express) (0.5.1)\n",
            "Requirement already satisfied: six in /usr/local/lib/python3.6/dist-packages (from plotly>=4.1.0->plotly-express) (1.15.0)\n",
            "Requirement already satisfied: retrying>=1.3.3 in /usr/local/lib/python3.6/dist-packages (from plotly>=4.1.0->plotly-express) (1.3.3)\n",
            "Requirement already satisfied: pytz>=2017.2 in /usr/local/lib/python3.6/dist-packages (from pandas>=0.20.0->plotly-express) (2018.9)\n",
            "Requirement already satisfied: python-dateutil>=2.7.3 in /usr/local/lib/python3.6/dist-packages (from pandas>=0.20.0->plotly-express) (2.8.1)\n",
            "Installing collected packages: plotly-express\n",
            "Successfully installed plotly-express-0.4.1\n"
          ],
          "name": "stdout"
        }
      ]
    },
    {
      "cell_type": "code",
      "metadata": {
        "id": "9R8aoQn5Dcqf"
      },
      "source": [
        "# IMPORT packages\n",
        "import pandas as pd\n",
        "import json\n",
        "import plotly.express as px"
      ],
      "execution_count": 2,
      "outputs": []
    },
    {
      "cell_type": "code",
      "metadata": {
        "id": "drSxyC5TDnDY",
        "outputId": "3b33a61f-e059-42ab-e64f-93ad8d0fb69f",
        "colab": {
          "base_uri": "https://localhost:8080/",
          "height": 34
        }
      },
      "source": [
        "# MOUNT Drive\n",
        "from google.colab import drive\n",
        "drive.mount('/content/drive')"
      ],
      "execution_count": 3,
      "outputs": [
        {
          "output_type": "stream",
          "text": [
            "Mounted at /content/drive\n"
          ],
          "name": "stdout"
        }
      ]
    },
    {
      "cell_type": "code",
      "metadata": {
        "id": "koTX-bkWD7oK"
      },
      "source": [
        "# LOAD in .CSV files\n",
        "base_path = '/content/drive/My Drive/lambda_school/driftly_data/'\n",
        "\n",
        "weather = pd.read_csv(base_path + 'weather_data/weather_df_final.csv')\n",
        "housing = pd.read_csv(base_path + 'housing_data/housing_data_final.csv')\n",
        "jobs = pd.read_csv(base_path + 'jobs_data/final_jobs_df.csv')\n",
        "covid = pd.read_csv(base_path + 'covid_data/covid_data.csv')"
      ],
      "execution_count": 4,
      "outputs": []
    },
    {
      "cell_type": "code",
      "metadata": {
        "id": "doXoVhNbHono",
        "outputId": "a2804f6a-64d0-416c-9732-34944f4c13ba",
        "colab": {
          "base_uri": "https://localhost:8080/",
          "height": 326
        }
      },
      "source": [
        "weather.head()"
      ],
      "execution_count": 5,
      "outputs": [
        {
          "output_type": "execute_result",
          "data": {
            "text/html": [
              "<div>\n",
              "<style scoped>\n",
              "    .dataframe tbody tr th:only-of-type {\n",
              "        vertical-align: middle;\n",
              "    }\n",
              "\n",
              "    .dataframe tbody tr th {\n",
              "        vertical-align: top;\n",
              "    }\n",
              "\n",
              "    .dataframe thead th {\n",
              "        text-align: right;\n",
              "    }\n",
              "</style>\n",
              "<table border=\"1\" class=\"dataframe\">\n",
              "  <thead>\n",
              "    <tr style=\"text-align: right;\">\n",
              "      <th></th>\n",
              "      <th>Unnamed: 0</th>\n",
              "      <th>City</th>\n",
              "      <th>Postal</th>\n",
              "      <th>City_State</th>\n",
              "      <th>MaxTempF</th>\n",
              "      <th>FeelsLikeF</th>\n",
              "      <th>MinTempF</th>\n",
              "      <th>MaxTempC</th>\n",
              "      <th>FeelsLikeC</th>\n",
              "      <th>MinTempC</th>\n",
              "      <th>Precip_mm</th>\n",
              "      <th>TotalSnow_cm</th>\n",
              "      <th>UVindex</th>\n",
              "      <th>DewPointC</th>\n",
              "      <th>HeatIndexC</th>\n",
              "      <th>WindChillC</th>\n",
              "      <th>WindGust_kmph</th>\n",
              "      <th>CloudCover</th>\n",
              "      <th>Humidity</th>\n",
              "      <th>Pressure</th>\n",
              "      <th>Visibility</th>\n",
              "      <th>WindSpeed_kmph</th>\n",
              "      <th>year</th>\n",
              "      <th>month</th>\n",
              "      <th>day</th>\n",
              "      <th>date_time</th>\n",
              "    </tr>\n",
              "  </thead>\n",
              "  <tbody>\n",
              "    <tr>\n",
              "      <th>0</th>\n",
              "      <td>0</td>\n",
              "      <td>Alpharetta</td>\n",
              "      <td>GA</td>\n",
              "      <td>Alpharetta, GA</td>\n",
              "      <td>51.8</td>\n",
              "      <td>39.2</td>\n",
              "      <td>30.2</td>\n",
              "      <td>11</td>\n",
              "      <td>4</td>\n",
              "      <td>-1</td>\n",
              "      <td>0.0</td>\n",
              "      <td>0.0</td>\n",
              "      <td>2</td>\n",
              "      <td>-5</td>\n",
              "      <td>5</td>\n",
              "      <td>4</td>\n",
              "      <td>12</td>\n",
              "      <td>27</td>\n",
              "      <td>47</td>\n",
              "      <td>1027</td>\n",
              "      <td>10</td>\n",
              "      <td>7</td>\n",
              "      <td>2015</td>\n",
              "      <td>1</td>\n",
              "      <td>1</td>\n",
              "      <td>2015-01-01</td>\n",
              "    </tr>\n",
              "    <tr>\n",
              "      <th>1</th>\n",
              "      <td>1</td>\n",
              "      <td>Alpharetta</td>\n",
              "      <td>GA</td>\n",
              "      <td>Alpharetta, GA</td>\n",
              "      <td>51.8</td>\n",
              "      <td>44.6</td>\n",
              "      <td>41.0</td>\n",
              "      <td>11</td>\n",
              "      <td>7</td>\n",
              "      <td>5</td>\n",
              "      <td>1.0</td>\n",
              "      <td>0.0</td>\n",
              "      <td>3</td>\n",
              "      <td>6</td>\n",
              "      <td>8</td>\n",
              "      <td>7</td>\n",
              "      <td>11</td>\n",
              "      <td>69</td>\n",
              "      <td>89</td>\n",
              "      <td>1026</td>\n",
              "      <td>9</td>\n",
              "      <td>7</td>\n",
              "      <td>2015</td>\n",
              "      <td>1</td>\n",
              "      <td>2</td>\n",
              "      <td>2015-01-02</td>\n",
              "    </tr>\n",
              "    <tr>\n",
              "      <th>2</th>\n",
              "      <td>2</td>\n",
              "      <td>Alpharetta</td>\n",
              "      <td>GA</td>\n",
              "      <td>Alpharetta, GA</td>\n",
              "      <td>55.4</td>\n",
              "      <td>46.4</td>\n",
              "      <td>46.4</td>\n",
              "      <td>13</td>\n",
              "      <td>8</td>\n",
              "      <td>8</td>\n",
              "      <td>0.0</td>\n",
              "      <td>0.0</td>\n",
              "      <td>2</td>\n",
              "      <td>9</td>\n",
              "      <td>10</td>\n",
              "      <td>8</td>\n",
              "      <td>27</td>\n",
              "      <td>97</td>\n",
              "      <td>96</td>\n",
              "      <td>1023</td>\n",
              "      <td>8</td>\n",
              "      <td>17</td>\n",
              "      <td>2015</td>\n",
              "      <td>1</td>\n",
              "      <td>3</td>\n",
              "      <td>2015-01-03</td>\n",
              "    </tr>\n",
              "    <tr>\n",
              "      <th>3</th>\n",
              "      <td>3</td>\n",
              "      <td>Alpharetta</td>\n",
              "      <td>GA</td>\n",
              "      <td>Alpharetta, GA</td>\n",
              "      <td>60.8</td>\n",
              "      <td>53.6</td>\n",
              "      <td>44.6</td>\n",
              "      <td>16</td>\n",
              "      <td>12</td>\n",
              "      <td>7</td>\n",
              "      <td>10.5</td>\n",
              "      <td>0.0</td>\n",
              "      <td>3</td>\n",
              "      <td>12</td>\n",
              "      <td>13</td>\n",
              "      <td>12</td>\n",
              "      <td>27</td>\n",
              "      <td>67</td>\n",
              "      <td>93</td>\n",
              "      <td>1020</td>\n",
              "      <td>8</td>\n",
              "      <td>18</td>\n",
              "      <td>2015</td>\n",
              "      <td>1</td>\n",
              "      <td>4</td>\n",
              "      <td>2015-01-04</td>\n",
              "    </tr>\n",
              "    <tr>\n",
              "      <th>4</th>\n",
              "      <td>4</td>\n",
              "      <td>Alpharetta</td>\n",
              "      <td>GA</td>\n",
              "      <td>Alpharetta, GA</td>\n",
              "      <td>44.6</td>\n",
              "      <td>32.0</td>\n",
              "      <td>33.8</td>\n",
              "      <td>7</td>\n",
              "      <td>0</td>\n",
              "      <td>1</td>\n",
              "      <td>0.0</td>\n",
              "      <td>0.0</td>\n",
              "      <td>2</td>\n",
              "      <td>-1</td>\n",
              "      <td>3</td>\n",
              "      <td>0</td>\n",
              "      <td>22</td>\n",
              "      <td>11</td>\n",
              "      <td>74</td>\n",
              "      <td>1032</td>\n",
              "      <td>10</td>\n",
              "      <td>15</td>\n",
              "      <td>2015</td>\n",
              "      <td>1</td>\n",
              "      <td>5</td>\n",
              "      <td>2015-01-05</td>\n",
              "    </tr>\n",
              "  </tbody>\n",
              "</table>\n",
              "</div>"
            ],
            "text/plain": [
              "   Unnamed: 0        City Postal      City_State  ...  year  month  day   date_time\n",
              "0           0  Alpharetta     GA  Alpharetta, GA  ...  2015      1    1  2015-01-01\n",
              "1           1  Alpharetta     GA  Alpharetta, GA  ...  2015      1    2  2015-01-02\n",
              "2           2  Alpharetta     GA  Alpharetta, GA  ...  2015      1    3  2015-01-03\n",
              "3           3  Alpharetta     GA  Alpharetta, GA  ...  2015      1    4  2015-01-04\n",
              "4           4  Alpharetta     GA  Alpharetta, GA  ...  2015      1    5  2015-01-05\n",
              "\n",
              "[5 rows x 26 columns]"
            ]
          },
          "metadata": {
            "tags": []
          },
          "execution_count": 5
        }
      ]
    },
    {
      "cell_type": "code",
      "metadata": {
        "id": "BypCdxN5Hosc"
      },
      "source": [
        "# Create subset DFs for two cities (Albany, Hartford) to test with\n",
        "# grp = weather.groupby('month')\n",
        "weather['City'] = weather['City_State']\n",
        "weather['MidTempF'] = (weather['MaxTempF'] + weather['MinTempF']) / 2\n",
        "weather['MidTempC'] = (weather['MaxTempC'] + weather['MinTempC']) / 2\n",
        "albW = weather[(weather['City_State']=='Albany, NY') | (weather['City_State']=='Hartford, CT')]\n",
        "albH = housing[housing['city_state']=='Albany, NY']\n",
        "albJ = jobs[jobs['postal']=='NY']\n",
        "# hartW = weather[weather['City_State']=='Hartford, CT']\n",
        "# hartH = housing[housing['city_state']=='Hartford, CT']\n",
        "# hartJ = jobs[jobs['postal']=='CT']"
      ],
      "execution_count": 6,
      "outputs": []
    },
    {
      "cell_type": "code",
      "metadata": {
        "id": "4hpCDlWDLWv9"
      },
      "source": [
        "# albW.tail()"
      ],
      "execution_count": 7,
      "outputs": []
    },
    {
      "cell_type": "code",
      "metadata": {
        "id": "TM5EcVLbzEJV",
        "outputId": "06704bf9-70a1-4fd0-faa4-09e79d5b2f8d",
        "colab": {
          "base_uri": "https://localhost:8080/",
          "height": 258
        }
      },
      "source": [
        "grpW = weather.groupby(['month', 'City_State'], as_index=False).mean()\n",
        "grpW.head()"
      ],
      "execution_count": 31,
      "outputs": [
        {
          "output_type": "execute_result",
          "data": {
            "text/html": [
              "<div>\n",
              "<style scoped>\n",
              "    .dataframe tbody tr th:only-of-type {\n",
              "        vertical-align: middle;\n",
              "    }\n",
              "\n",
              "    .dataframe tbody tr th {\n",
              "        vertical-align: top;\n",
              "    }\n",
              "\n",
              "    .dataframe thead th {\n",
              "        text-align: right;\n",
              "    }\n",
              "</style>\n",
              "<table border=\"1\" class=\"dataframe\">\n",
              "  <thead>\n",
              "    <tr style=\"text-align: right;\">\n",
              "      <th></th>\n",
              "      <th>month</th>\n",
              "      <th>City_State</th>\n",
              "      <th>Unnamed: 0</th>\n",
              "      <th>MaxTempF</th>\n",
              "      <th>FeelsLikeF</th>\n",
              "      <th>MinTempF</th>\n",
              "      <th>MaxTempC</th>\n",
              "      <th>FeelsLikeC</th>\n",
              "      <th>MinTempC</th>\n",
              "      <th>Precip_mm</th>\n",
              "      <th>TotalSnow_cm</th>\n",
              "      <th>UVindex</th>\n",
              "      <th>DewPointC</th>\n",
              "      <th>HeatIndexC</th>\n",
              "      <th>WindChillC</th>\n",
              "      <th>WindGust_kmph</th>\n",
              "      <th>CloudCover</th>\n",
              "      <th>Humidity</th>\n",
              "      <th>Pressure</th>\n",
              "      <th>Visibility</th>\n",
              "      <th>WindSpeed_kmph</th>\n",
              "      <th>year</th>\n",
              "      <th>day</th>\n",
              "      <th>MidTempF</th>\n",
              "      <th>MidTempC</th>\n",
              "    </tr>\n",
              "  </thead>\n",
              "  <tbody>\n",
              "    <tr>\n",
              "      <th>0</th>\n",
              "      <td>1</td>\n",
              "      <td>Akron, OH</td>\n",
              "      <td>17171.078125</td>\n",
              "      <td>31.142188</td>\n",
              "      <td>17.178125</td>\n",
              "      <td>18.542187</td>\n",
              "      <td>-0.476562</td>\n",
              "      <td>-8.234375</td>\n",
              "      <td>-7.476562</td>\n",
              "      <td>2.484375</td>\n",
              "      <td>0.671094</td>\n",
              "      <td>1.359375</td>\n",
              "      <td>-6.179688</td>\n",
              "      <td>-3.687500</td>\n",
              "      <td>-8.234375</td>\n",
              "      <td>21.039062</td>\n",
              "      <td>76.437500</td>\n",
              "      <td>83.882812</td>\n",
              "      <td>1020.382812</td>\n",
              "      <td>7.031250</td>\n",
              "      <td>13.375000</td>\n",
              "      <td>2016.976562</td>\n",
              "      <td>16.039062</td>\n",
              "      <td>24.842187</td>\n",
              "      <td>-3.976562</td>\n",
              "    </tr>\n",
              "    <tr>\n",
              "      <th>1</th>\n",
              "      <td>1</td>\n",
              "      <td>Alameda, CA</td>\n",
              "      <td>15353.600000</td>\n",
              "      <td>56.816774</td>\n",
              "      <td>50.801290</td>\n",
              "      <td>46.469677</td>\n",
              "      <td>13.787097</td>\n",
              "      <td>10.445161</td>\n",
              "      <td>8.038710</td>\n",
              "      <td>1.314194</td>\n",
              "      <td>0.000000</td>\n",
              "      <td>3.425806</td>\n",
              "      <td>6.522581</td>\n",
              "      <td>11.193548</td>\n",
              "      <td>10.445161</td>\n",
              "      <td>15.070968</td>\n",
              "      <td>38.574194</td>\n",
              "      <td>74.316129</td>\n",
              "      <td>1019.748387</td>\n",
              "      <td>9.670968</td>\n",
              "      <td>9.264516</td>\n",
              "      <td>2017.000000</td>\n",
              "      <td>16.000000</td>\n",
              "      <td>51.643226</td>\n",
              "      <td>10.912903</td>\n",
              "    </tr>\n",
              "    <tr>\n",
              "      <th>2</th>\n",
              "      <td>1</td>\n",
              "      <td>Albany, NY</td>\n",
              "      <td>13519.466165</td>\n",
              "      <td>28.075188</td>\n",
              "      <td>15.190977</td>\n",
              "      <td>16.882707</td>\n",
              "      <td>-2.180451</td>\n",
              "      <td>-9.338346</td>\n",
              "      <td>-8.398496</td>\n",
              "      <td>2.512782</td>\n",
              "      <td>0.701504</td>\n",
              "      <td>1.436090</td>\n",
              "      <td>-8.661654</td>\n",
              "      <td>-5.142857</td>\n",
              "      <td>-9.338346</td>\n",
              "      <td>16.977444</td>\n",
              "      <td>58.458647</td>\n",
              "      <td>77.518797</td>\n",
              "      <td>1018.248120</td>\n",
              "      <td>8.315789</td>\n",
              "      <td>11.030075</td>\n",
              "      <td>2016.977444</td>\n",
              "      <td>16.105263</td>\n",
              "      <td>22.478947</td>\n",
              "      <td>-5.289474</td>\n",
              "    </tr>\n",
              "    <tr>\n",
              "      <th>3</th>\n",
              "      <td>1</td>\n",
              "      <td>Albuquerque, NM</td>\n",
              "      <td>11732.527132</td>\n",
              "      <td>43.469767</td>\n",
              "      <td>30.172093</td>\n",
              "      <td>27.618605</td>\n",
              "      <td>6.372093</td>\n",
              "      <td>-1.015504</td>\n",
              "      <td>-2.434109</td>\n",
              "      <td>0.541085</td>\n",
              "      <td>0.210078</td>\n",
              "      <td>2.046512</td>\n",
              "      <td>-6.124031</td>\n",
              "      <td>1.705426</td>\n",
              "      <td>-1.015504</td>\n",
              "      <td>17.108527</td>\n",
              "      <td>19.713178</td>\n",
              "      <td>59.224806</td>\n",
              "      <td>1021.651163</td>\n",
              "      <td>9.674419</td>\n",
              "      <td>10.325581</td>\n",
              "      <td>2017.085271</td>\n",
              "      <td>15.798450</td>\n",
              "      <td>35.544186</td>\n",
              "      <td>1.968992</td>\n",
              "    </tr>\n",
              "    <tr>\n",
              "      <th>4</th>\n",
              "      <td>1</td>\n",
              "      <td>Alexandria, VA</td>\n",
              "      <td>9886.540741</td>\n",
              "      <td>40.706667</td>\n",
              "      <td>29.560000</td>\n",
              "      <td>27.626667</td>\n",
              "      <td>4.837037</td>\n",
              "      <td>-1.355556</td>\n",
              "      <td>-2.429630</td>\n",
              "      <td>1.834074</td>\n",
              "      <td>0.122222</td>\n",
              "      <td>1.881481</td>\n",
              "      <td>-3.488889</td>\n",
              "      <td>1.740741</td>\n",
              "      <td>-1.355556</td>\n",
              "      <td>18.600000</td>\n",
              "      <td>46.051852</td>\n",
              "      <td>70.629630</td>\n",
              "      <td>1019.962963</td>\n",
              "      <td>8.525926</td>\n",
              "      <td>12.014815</td>\n",
              "      <td>2017.029630</td>\n",
              "      <td>16.118519</td>\n",
              "      <td>34.166667</td>\n",
              "      <td>1.203704</td>\n",
              "    </tr>\n",
              "  </tbody>\n",
              "</table>\n",
              "</div>"
            ],
            "text/plain": [
              "   month       City_State    Unnamed: 0  ...        day   MidTempF   MidTempC\n",
              "0      1        Akron, OH  17171.078125  ...  16.039062  24.842187  -3.976562\n",
              "1      1      Alameda, CA  15353.600000  ...  16.000000  51.643226  10.912903\n",
              "2      1       Albany, NY  13519.466165  ...  16.105263  22.478947  -5.289474\n",
              "3      1  Albuquerque, NM  11732.527132  ...  15.798450  35.544186   1.968992\n",
              "4      1   Alexandria, VA   9886.540741  ...  16.118519  34.166667   1.203704\n",
              "\n",
              "[5 rows x 25 columns]"
            ]
          },
          "metadata": {
            "tags": []
          },
          "execution_count": 31
        }
      ]
    },
    {
      "cell_type": "code",
      "metadata": {
        "id": "A5ns0m1c0V5u",
        "outputId": "fd2b3a09-8a6e-43c9-f3ca-6542de388ca6",
        "colab": {
          "base_uri": "https://localhost:8080/",
          "height": 542
        }
      },
      "source": [
        "user_input = [\"Albany, NY\", \"Sacramento, CA\", \"Austin, TX\"]   # user searched list of cities\n",
        "months = ['January', 'February', 'March', 'April', 'May', 'June', 'July', 'August', 'September', 'October', 'November', 'December']\n",
        "# Set subset of grouped df for only these city-states\n",
        "subsetW = grpW[grpW['City_State'].isin(user_input)]\n",
        "# create line chart with color var as the city-state\n",
        "fig = px.line(subsetW, x='month', y='MidTempF', \n",
        "              labels={'MidTempF': 'Temperature (\\N{DEGREE SIGN}F)', 'month': 'Month'}, \n",
        "              color='City_State', title=f'Monthly Average Temperature for Queried Cities').for_each_trace(lambda t: t.update(name=t.name.split(\"=\")[1]))\n",
        "# fig.layout.title.Font(\"Balto\")\n",
        "# fig.update_layout(tickmode='array',tickvals=months)\n",
        "# fig.update_layout(legend=dict(yanchor=\"top\",y=0.99,xanchor=\"left\",x=0.01))    # legend inside graph top left\n",
        "fig.update_layout(legend=dict(orientation=\"h\",yanchor=\"bottom\",y=1.02,xanchor=\"right\",x=1), # legend above graph top right\n",
        "                  xaxis = dict(\n",
        "                      tickmode = 'array',\n",
        "                      tick0 = 1,\n",
        "                      dtick = 1,\n",
        "                      tickvals = [1, 2, 3, 4, 5, 6, 7, 8, 9, 10, 11, 12],\n",
        "                      ticktext = ['January', 'Februrary', 'March', 'April', 'May', 'June', 'July', 'August', 'September', 'October', 'November', 'December']\n",
        "                  ))   # ticks for every month\n",
        "fig.show()"
      ],
      "execution_count": 40,
      "outputs": [
        {
          "output_type": "display_data",
          "data": {
            "text/html": [
              "<html>\n",
              "<head><meta charset=\"utf-8\" /></head>\n",
              "<body>\n",
              "    <div>\n",
              "            <script src=\"https://cdnjs.cloudflare.com/ajax/libs/mathjax/2.7.5/MathJax.js?config=TeX-AMS-MML_SVG\"></script><script type=\"text/javascript\">if (window.MathJax) {MathJax.Hub.Config({SVG: {font: \"STIX-Web\"}});}</script>\n",
              "                <script type=\"text/javascript\">window.PlotlyConfig = {MathJaxConfig: 'local'};</script>\n",
              "        <script src=\"https://cdn.plot.ly/plotly-latest.min.js\"></script>    \n",
              "            <div id=\"27a28d8c-bdc1-4594-b796-f393d7e69826\" class=\"plotly-graph-div\" style=\"height:525px; width:100%;\"></div>\n",
              "            <script type=\"text/javascript\">\n",
              "                \n",
              "                    window.PLOTLYENV=window.PLOTLYENV || {};\n",
              "                    \n",
              "                if (document.getElementById(\"27a28d8c-bdc1-4594-b796-f393d7e69826\")) {\n",
              "                    Plotly.newPlot(\n",
              "                        '27a28d8c-bdc1-4594-b796-f393d7e69826',\n",
              "                        [{\"hoverlabel\": {\"namelength\": 0}, \"hovertemplate\": \"City_State=Albany, NY<br>Month=%{x}<br>Temperature (\\u00b0F)=%{y}\", \"legendgroup\": \"City_State=Albany, NY\", \"line\": {\"color\": \"#636efa\", \"dash\": \"solid\"}, \"mode\": \"lines\", \"name\": \"Albany, NY\", \"showlegend\": true, \"type\": \"scatter\", \"x\": [1, 2, 3, 4, 5, 6, 7, 8, 9, 10, 11, 12], \"xaxis\": \"x\", \"y\": [22.478947368421046, 24.2528, 31.183571428571426, 44.56029411764708, 57.673684210526346, 63.890000000000036, 70.57806451612902, 69.44580645161292, 63.37837837837838, 51.52818791946311, 37.829545454545446, 29.430645161290325], \"yaxis\": \"y\"}, {\"hoverlabel\": {\"namelength\": 0}, \"hovertemplate\": \"City_State=Austin, TX<br>Month=%{x}<br>Temperature (\\u00b0F)=%{y}\", \"legendgroup\": \"City_State=Austin, TX\", \"line\": {\"color\": \"#EF553B\", \"dash\": \"solid\"}, \"mode\": \"lines\", \"name\": \"Austin, TX\", \"showlegend\": true, \"type\": \"scatter\", \"x\": [1, 2, 3, 4, 5, 6, 7, 8, 9, 10, 11, 12], \"xaxis\": \"x\", \"y\": [50.76200000000001, 56.94565217391305, 62.158709677419345, 68.26399999999997, 75.43806451612906, 81.602, 85.52387096774197, 85.28580645161286, 80.69121621621628, 71.27272727272731, 61.11013513513508, 54.742763157894736], \"yaxis\": \"y\"}, {\"hoverlabel\": {\"namelength\": 0}, \"hovertemplate\": \"City_State=Sacramento, CA<br>Month=%{x}<br>Temperature (\\u00b0F)=%{y}\", \"legendgroup\": \"City_State=Sacramento, CA\", \"line\": {\"color\": \"#00cc96\", \"dash\": \"solid\"}, \"mode\": \"lines\", \"name\": \"Sacramento, CA\", \"showlegend\": true, \"type\": \"scatter\", \"x\": [1, 2, 3, 4, 5, 6, 7, 8, 9, 10, 11, 12], \"xaxis\": \"x\", \"y\": [49.27516778523489, 51.96423357664233, 55.20258064516129, 60.30200000000003, 65.68322580645162, 75.49399999999999, 78.52129032258068, 77.79548387096774, 75.43108108108109, 67.76623376623374, 56.81, 49.75342465753423], \"yaxis\": \"y\"}],\n",
              "                        {\"legend\": {\"orientation\": \"h\", \"tracegroupgap\": 0, \"x\": 1, \"xanchor\": \"right\", \"y\": 1.02, \"yanchor\": \"bottom\"}, \"template\": {\"data\": {\"bar\": [{\"error_x\": {\"color\": \"#2a3f5f\"}, \"error_y\": {\"color\": \"#2a3f5f\"}, \"marker\": {\"line\": {\"color\": \"#E5ECF6\", \"width\": 0.5}}, \"type\": \"bar\"}], \"barpolar\": [{\"marker\": {\"line\": {\"color\": \"#E5ECF6\", \"width\": 0.5}}, \"type\": \"barpolar\"}], \"carpet\": [{\"aaxis\": {\"endlinecolor\": \"#2a3f5f\", \"gridcolor\": \"white\", \"linecolor\": \"white\", \"minorgridcolor\": \"white\", \"startlinecolor\": \"#2a3f5f\"}, \"baxis\": {\"endlinecolor\": \"#2a3f5f\", \"gridcolor\": \"white\", \"linecolor\": \"white\", \"minorgridcolor\": \"white\", \"startlinecolor\": \"#2a3f5f\"}, \"type\": \"carpet\"}], \"choropleth\": [{\"colorbar\": {\"outlinewidth\": 0, \"ticks\": \"\"}, \"type\": \"choropleth\"}], \"contour\": [{\"colorbar\": {\"outlinewidth\": 0, \"ticks\": \"\"}, \"colorscale\": [[0.0, \"#0d0887\"], [0.1111111111111111, \"#46039f\"], [0.2222222222222222, \"#7201a8\"], [0.3333333333333333, \"#9c179e\"], [0.4444444444444444, \"#bd3786\"], [0.5555555555555556, \"#d8576b\"], [0.6666666666666666, \"#ed7953\"], [0.7777777777777778, \"#fb9f3a\"], [0.8888888888888888, \"#fdca26\"], [1.0, \"#f0f921\"]], \"type\": \"contour\"}], \"contourcarpet\": [{\"colorbar\": {\"outlinewidth\": 0, \"ticks\": \"\"}, \"type\": \"contourcarpet\"}], \"heatmap\": [{\"colorbar\": {\"outlinewidth\": 0, \"ticks\": \"\"}, \"colorscale\": [[0.0, \"#0d0887\"], [0.1111111111111111, \"#46039f\"], [0.2222222222222222, \"#7201a8\"], [0.3333333333333333, \"#9c179e\"], [0.4444444444444444, \"#bd3786\"], [0.5555555555555556, \"#d8576b\"], [0.6666666666666666, \"#ed7953\"], [0.7777777777777778, \"#fb9f3a\"], [0.8888888888888888, \"#fdca26\"], [1.0, \"#f0f921\"]], \"type\": \"heatmap\"}], \"heatmapgl\": [{\"colorbar\": {\"outlinewidth\": 0, \"ticks\": \"\"}, \"colorscale\": [[0.0, \"#0d0887\"], [0.1111111111111111, \"#46039f\"], [0.2222222222222222, \"#7201a8\"], [0.3333333333333333, \"#9c179e\"], [0.4444444444444444, \"#bd3786\"], [0.5555555555555556, \"#d8576b\"], [0.6666666666666666, \"#ed7953\"], [0.7777777777777778, \"#fb9f3a\"], [0.8888888888888888, \"#fdca26\"], [1.0, \"#f0f921\"]], \"type\": \"heatmapgl\"}], \"histogram\": [{\"marker\": {\"colorbar\": {\"outlinewidth\": 0, \"ticks\": \"\"}}, \"type\": \"histogram\"}], \"histogram2d\": [{\"colorbar\": {\"outlinewidth\": 0, \"ticks\": \"\"}, \"colorscale\": [[0.0, \"#0d0887\"], [0.1111111111111111, \"#46039f\"], [0.2222222222222222, \"#7201a8\"], [0.3333333333333333, \"#9c179e\"], [0.4444444444444444, \"#bd3786\"], [0.5555555555555556, \"#d8576b\"], [0.6666666666666666, \"#ed7953\"], [0.7777777777777778, \"#fb9f3a\"], [0.8888888888888888, \"#fdca26\"], [1.0, \"#f0f921\"]], \"type\": \"histogram2d\"}], \"histogram2dcontour\": [{\"colorbar\": {\"outlinewidth\": 0, \"ticks\": \"\"}, \"colorscale\": [[0.0, \"#0d0887\"], [0.1111111111111111, \"#46039f\"], [0.2222222222222222, \"#7201a8\"], [0.3333333333333333, \"#9c179e\"], [0.4444444444444444, \"#bd3786\"], [0.5555555555555556, \"#d8576b\"], [0.6666666666666666, \"#ed7953\"], [0.7777777777777778, \"#fb9f3a\"], [0.8888888888888888, \"#fdca26\"], [1.0, \"#f0f921\"]], \"type\": \"histogram2dcontour\"}], \"mesh3d\": [{\"colorbar\": {\"outlinewidth\": 0, \"ticks\": \"\"}, \"type\": \"mesh3d\"}], \"parcoords\": [{\"line\": {\"colorbar\": {\"outlinewidth\": 0, \"ticks\": \"\"}}, \"type\": \"parcoords\"}], \"pie\": [{\"automargin\": true, \"type\": \"pie\"}], \"scatter\": [{\"marker\": {\"colorbar\": {\"outlinewidth\": 0, \"ticks\": \"\"}}, \"type\": \"scatter\"}], \"scatter3d\": [{\"line\": {\"colorbar\": {\"outlinewidth\": 0, \"ticks\": \"\"}}, \"marker\": {\"colorbar\": {\"outlinewidth\": 0, \"ticks\": \"\"}}, \"type\": \"scatter3d\"}], \"scattercarpet\": [{\"marker\": {\"colorbar\": {\"outlinewidth\": 0, \"ticks\": \"\"}}, \"type\": \"scattercarpet\"}], \"scattergeo\": [{\"marker\": {\"colorbar\": {\"outlinewidth\": 0, \"ticks\": \"\"}}, \"type\": \"scattergeo\"}], \"scattergl\": [{\"marker\": {\"colorbar\": {\"outlinewidth\": 0, \"ticks\": \"\"}}, \"type\": \"scattergl\"}], \"scattermapbox\": [{\"marker\": {\"colorbar\": {\"outlinewidth\": 0, \"ticks\": \"\"}}, \"type\": \"scattermapbox\"}], \"scatterpolar\": [{\"marker\": {\"colorbar\": {\"outlinewidth\": 0, \"ticks\": \"\"}}, \"type\": \"scatterpolar\"}], \"scatterpolargl\": [{\"marker\": {\"colorbar\": {\"outlinewidth\": 0, \"ticks\": \"\"}}, \"type\": \"scatterpolargl\"}], \"scatterternary\": [{\"marker\": {\"colorbar\": {\"outlinewidth\": 0, \"ticks\": \"\"}}, \"type\": \"scatterternary\"}], \"surface\": [{\"colorbar\": {\"outlinewidth\": 0, \"ticks\": \"\"}, \"colorscale\": [[0.0, \"#0d0887\"], [0.1111111111111111, \"#46039f\"], [0.2222222222222222, \"#7201a8\"], [0.3333333333333333, \"#9c179e\"], [0.4444444444444444, \"#bd3786\"], [0.5555555555555556, \"#d8576b\"], [0.6666666666666666, \"#ed7953\"], [0.7777777777777778, \"#fb9f3a\"], [0.8888888888888888, \"#fdca26\"], [1.0, \"#f0f921\"]], \"type\": \"surface\"}], \"table\": [{\"cells\": {\"fill\": {\"color\": \"#EBF0F8\"}, \"line\": {\"color\": \"white\"}}, \"header\": {\"fill\": {\"color\": \"#C8D4E3\"}, \"line\": {\"color\": \"white\"}}, \"type\": \"table\"}]}, \"layout\": {\"annotationdefaults\": {\"arrowcolor\": \"#2a3f5f\", \"arrowhead\": 0, \"arrowwidth\": 1}, \"coloraxis\": {\"colorbar\": {\"outlinewidth\": 0, \"ticks\": \"\"}}, \"colorscale\": {\"diverging\": [[0, \"#8e0152\"], [0.1, \"#c51b7d\"], [0.2, \"#de77ae\"], [0.3, \"#f1b6da\"], [0.4, \"#fde0ef\"], [0.5, \"#f7f7f7\"], [0.6, \"#e6f5d0\"], [0.7, \"#b8e186\"], [0.8, \"#7fbc41\"], [0.9, \"#4d9221\"], [1, \"#276419\"]], \"sequential\": [[0.0, \"#0d0887\"], [0.1111111111111111, \"#46039f\"], [0.2222222222222222, \"#7201a8\"], [0.3333333333333333, \"#9c179e\"], [0.4444444444444444, \"#bd3786\"], [0.5555555555555556, \"#d8576b\"], [0.6666666666666666, \"#ed7953\"], [0.7777777777777778, \"#fb9f3a\"], [0.8888888888888888, \"#fdca26\"], [1.0, \"#f0f921\"]], \"sequentialminus\": [[0.0, \"#0d0887\"], [0.1111111111111111, \"#46039f\"], [0.2222222222222222, \"#7201a8\"], [0.3333333333333333, \"#9c179e\"], [0.4444444444444444, \"#bd3786\"], [0.5555555555555556, \"#d8576b\"], [0.6666666666666666, \"#ed7953\"], [0.7777777777777778, \"#fb9f3a\"], [0.8888888888888888, \"#fdca26\"], [1.0, \"#f0f921\"]]}, \"colorway\": [\"#636efa\", \"#EF553B\", \"#00cc96\", \"#ab63fa\", \"#FFA15A\", \"#19d3f3\", \"#FF6692\", \"#B6E880\", \"#FF97FF\", \"#FECB52\"], \"font\": {\"color\": \"#2a3f5f\"}, \"geo\": {\"bgcolor\": \"white\", \"lakecolor\": \"white\", \"landcolor\": \"#E5ECF6\", \"showlakes\": true, \"showland\": true, \"subunitcolor\": \"white\"}, \"hoverlabel\": {\"align\": \"left\"}, \"hovermode\": \"closest\", \"mapbox\": {\"style\": \"light\"}, \"paper_bgcolor\": \"white\", \"plot_bgcolor\": \"#E5ECF6\", \"polar\": {\"angularaxis\": {\"gridcolor\": \"white\", \"linecolor\": \"white\", \"ticks\": \"\"}, \"bgcolor\": \"#E5ECF6\", \"radialaxis\": {\"gridcolor\": \"white\", \"linecolor\": \"white\", \"ticks\": \"\"}}, \"scene\": {\"xaxis\": {\"backgroundcolor\": \"#E5ECF6\", \"gridcolor\": \"white\", \"gridwidth\": 2, \"linecolor\": \"white\", \"showbackground\": true, \"ticks\": \"\", \"zerolinecolor\": \"white\"}, \"yaxis\": {\"backgroundcolor\": \"#E5ECF6\", \"gridcolor\": \"white\", \"gridwidth\": 2, \"linecolor\": \"white\", \"showbackground\": true, \"ticks\": \"\", \"zerolinecolor\": \"white\"}, \"zaxis\": {\"backgroundcolor\": \"#E5ECF6\", \"gridcolor\": \"white\", \"gridwidth\": 2, \"linecolor\": \"white\", \"showbackground\": true, \"ticks\": \"\", \"zerolinecolor\": \"white\"}}, \"shapedefaults\": {\"line\": {\"color\": \"#2a3f5f\"}}, \"ternary\": {\"aaxis\": {\"gridcolor\": \"white\", \"linecolor\": \"white\", \"ticks\": \"\"}, \"baxis\": {\"gridcolor\": \"white\", \"linecolor\": \"white\", \"ticks\": \"\"}, \"bgcolor\": \"#E5ECF6\", \"caxis\": {\"gridcolor\": \"white\", \"linecolor\": \"white\", \"ticks\": \"\"}}, \"title\": {\"x\": 0.05}, \"xaxis\": {\"automargin\": true, \"gridcolor\": \"white\", \"linecolor\": \"white\", \"ticks\": \"\", \"title\": {\"standoff\": 15}, \"zerolinecolor\": \"white\", \"zerolinewidth\": 2}, \"yaxis\": {\"automargin\": true, \"gridcolor\": \"white\", \"linecolor\": \"white\", \"ticks\": \"\", \"title\": {\"standoff\": 15}, \"zerolinecolor\": \"white\", \"zerolinewidth\": 2}}}, \"title\": {\"text\": \"Monthly Average Temperature for Queried Cities\"}, \"xaxis\": {\"anchor\": \"y\", \"domain\": [0.0, 1.0], \"dtick\": 1, \"tick0\": 1, \"tickmode\": \"array\", \"ticktext\": [\"January\", \"Februrary\", \"March\", \"April\", \"May\", \"June\", \"July\", \"August\", \"September\", \"October\", \"November\", \"December\"], \"tickvals\": [1, 2, 3, 4, 5, 6, 7, 8, 9, 10, 11, 12], \"title\": {\"text\": \"Month\"}}, \"yaxis\": {\"anchor\": \"x\", \"domain\": [0.0, 1.0], \"title\": {\"text\": \"Temperature (\\u00b0F)\"}}},\n",
              "                        {\"responsive\": true}\n",
              "                    ).then(function(){\n",
              "                            \n",
              "var gd = document.getElementById('27a28d8c-bdc1-4594-b796-f393d7e69826');\n",
              "var x = new MutationObserver(function (mutations, observer) {{\n",
              "        var display = window.getComputedStyle(gd).display;\n",
              "        if (!display || display === 'none') {{\n",
              "            console.log([gd, 'removed!']);\n",
              "            Plotly.purge(gd);\n",
              "            observer.disconnect();\n",
              "        }}\n",
              "}});\n",
              "\n",
              "// Listen for the removal of the full notebook cells\n",
              "var notebookContainer = gd.closest('#notebook-container');\n",
              "if (notebookContainer) {{\n",
              "    x.observe(notebookContainer, {childList: true});\n",
              "}}\n",
              "\n",
              "// Listen for the clearing of the current output cell\n",
              "var outputEl = gd.closest('.output');\n",
              "if (outputEl) {{\n",
              "    x.observe(outputEl, {childList: true});\n",
              "}}\n",
              "\n",
              "                        })\n",
              "                };\n",
              "                \n",
              "            </script>\n",
              "        </div>\n",
              "</body>\n",
              "</html>"
            ]
          },
          "metadata": {
            "tags": []
          }
        }
      ]
    },
    {
      "cell_type": "code",
      "metadata": {
        "id": "Odpc5frfHx2D",
        "outputId": "39d057c4-a7e5-4a27-b680-51c6503d0519",
        "colab": {
          "base_uri": "https://localhost:8080/",
          "height": 103
        }
      },
      "source": [
        "fig.to_json()"
      ],
      "execution_count": 10,
      "outputs": [
        {
          "output_type": "execute_result",
          "data": {
            "application/vnd.google.colaboratory.intrinsic+json": {
              "type": "string"
            },
            "text/plain": [
              "'{\"data\":[{\"hoverlabel\":{\"namelength\":0},\"hovertemplate\":\"City=Albany, NY<br>Month=%{x}<br>Temperature (\\\\u00b0F)=%{y}\",\"legendgroup\":\"City=Albany, NY\",\"line\":{\"color\":\"#636efa\",\"dash\":\"solid\"},\"mode\":\"lines\",\"name\":\"Albany, NY\",\"showlegend\":true,\"type\":\"scatter\",\"x\":[1,2,3,4,5,6,7,8,9,10,11,12],\"xaxis\":\"x\",\"y\":[22.478947368421046,24.2528,31.183571428571426,44.56029411764708,57.673684210526346,63.890000000000036,70.57806451612902,69.44580645161292,63.37837837837838,51.52818791946311,37.829545454545446,29.430645161290325],\"yaxis\":\"y\"},{\"hoverlabel\":{\"namelength\":0},\"hovertemplate\":\"City=Austin, TX<br>Month=%{x}<br>Temperature (\\\\u00b0F)=%{y}\",\"legendgroup\":\"City=Austin, TX\",\"line\":{\"color\":\"#EF553B\",\"dash\":\"solid\"},\"mode\":\"lines\",\"name\":\"Austin, TX\",\"showlegend\":true,\"type\":\"scatter\",\"x\":[1,2,3,4,5,6,7,8,9,10,11,12],\"xaxis\":\"x\",\"y\":[50.76200000000001,56.94565217391305,62.158709677419345,68.26399999999997,75.43806451612906,81.602,85.52387096774197,85.28580645161286,80.69121621621628,71.27272727272731,61.11013513513508,54.742763157894736],\"yaxis\":\"y\"},{\"hoverlabel\":{\"namelength\":0},\"hovertemplate\":\"City=Sacramento, CA<br>Month=%{x}<br>Temperature (\\\\u00b0F)=%{y}\",\"legendgroup\":\"City=Sacramento, CA\",\"line\":{\"color\":\"#00cc96\",\"dash\":\"solid\"},\"mode\":\"lines\",\"name\":\"Sacramento, CA\",\"showlegend\":true,\"type\":\"scatter\",\"x\":[1,2,3,4,5,6,7,8,9,10,11,12],\"xaxis\":\"x\",\"y\":[49.27516778523489,51.96423357664233,55.20258064516129,60.30200000000003,65.68322580645162,75.49399999999999,78.52129032258068,77.79548387096774,75.43108108108109,67.76623376623374,56.81,49.75342465753423],\"yaxis\":\"y\"}],\"layout\":{\"legend\":{\"orientation\":\"h\",\"tracegroupgap\":0,\"x\":1,\"xanchor\":\"right\",\"y\":1.02,\"yanchor\":\"bottom\"},\"template\":{\"data\":{\"bar\":[{\"error_x\":{\"color\":\"#2a3f5f\"},\"error_y\":{\"color\":\"#2a3f5f\"},\"marker\":{\"line\":{\"color\":\"#E5ECF6\",\"width\":0.5}},\"type\":\"bar\"}],\"barpolar\":[{\"marker\":{\"line\":{\"color\":\"#E5ECF6\",\"width\":0.5}},\"type\":\"barpolar\"}],\"carpet\":[{\"aaxis\":{\"endlinecolor\":\"#2a3f5f\",\"gridcolor\":\"white\",\"linecolor\":\"white\",\"minorgridcolor\":\"white\",\"startlinecolor\":\"#2a3f5f\"},\"baxis\":{\"endlinecolor\":\"#2a3f5f\",\"gridcolor\":\"white\",\"linecolor\":\"white\",\"minorgridcolor\":\"white\",\"startlinecolor\":\"#2a3f5f\"},\"type\":\"carpet\"}],\"choropleth\":[{\"colorbar\":{\"outlinewidth\":0,\"ticks\":\"\"},\"type\":\"choropleth\"}],\"contour\":[{\"colorbar\":{\"outlinewidth\":0,\"ticks\":\"\"},\"colorscale\":[[0.0,\"#0d0887\"],[0.1111111111111111,\"#46039f\"],[0.2222222222222222,\"#7201a8\"],[0.3333333333333333,\"#9c179e\"],[0.4444444444444444,\"#bd3786\"],[0.5555555555555556,\"#d8576b\"],[0.6666666666666666,\"#ed7953\"],[0.7777777777777778,\"#fb9f3a\"],[0.8888888888888888,\"#fdca26\"],[1.0,\"#f0f921\"]],\"type\":\"contour\"}],\"contourcarpet\":[{\"colorbar\":{\"outlinewidth\":0,\"ticks\":\"\"},\"type\":\"contourcarpet\"}],\"heatmap\":[{\"colorbar\":{\"outlinewidth\":0,\"ticks\":\"\"},\"colorscale\":[[0.0,\"#0d0887\"],[0.1111111111111111,\"#46039f\"],[0.2222222222222222,\"#7201a8\"],[0.3333333333333333,\"#9c179e\"],[0.4444444444444444,\"#bd3786\"],[0.5555555555555556,\"#d8576b\"],[0.6666666666666666,\"#ed7953\"],[0.7777777777777778,\"#fb9f3a\"],[0.8888888888888888,\"#fdca26\"],[1.0,\"#f0f921\"]],\"type\":\"heatmap\"}],\"heatmapgl\":[{\"colorbar\":{\"outlinewidth\":0,\"ticks\":\"\"},\"colorscale\":[[0.0,\"#0d0887\"],[0.1111111111111111,\"#46039f\"],[0.2222222222222222,\"#7201a8\"],[0.3333333333333333,\"#9c179e\"],[0.4444444444444444,\"#bd3786\"],[0.5555555555555556,\"#d8576b\"],[0.6666666666666666,\"#ed7953\"],[0.7777777777777778,\"#fb9f3a\"],[0.8888888888888888,\"#fdca26\"],[1.0,\"#f0f921\"]],\"type\":\"heatmapgl\"}],\"histogram\":[{\"marker\":{\"colorbar\":{\"outlinewidth\":0,\"ticks\":\"\"}},\"type\":\"histogram\"}],\"histogram2d\":[{\"colorbar\":{\"outlinewidth\":0,\"ticks\":\"\"},\"colorscale\":[[0.0,\"#0d0887\"],[0.1111111111111111,\"#46039f\"],[0.2222222222222222,\"#7201a8\"],[0.3333333333333333,\"#9c179e\"],[0.4444444444444444,\"#bd3786\"],[0.5555555555555556,\"#d8576b\"],[0.6666666666666666,\"#ed7953\"],[0.7777777777777778,\"#fb9f3a\"],[0.8888888888888888,\"#fdca26\"],[1.0,\"#f0f921\"]],\"type\":\"histogram2d\"}],\"histogram2dcontour\":[{\"colorbar\":{\"outlinewidth\":0,\"ticks\":\"\"},\"colorscale\":[[0.0,\"#0d0887\"],[0.1111111111111111,\"#46039f\"],[0.2222222222222222,\"#7201a8\"],[0.3333333333333333,\"#9c179e\"],[0.4444444444444444,\"#bd3786\"],[0.5555555555555556,\"#d8576b\"],[0.6666666666666666,\"#ed7953\"],[0.7777777777777778,\"#fb9f3a\"],[0.8888888888888888,\"#fdca26\"],[1.0,\"#f0f921\"]],\"type\":\"histogram2dcontour\"}],\"mesh3d\":[{\"colorbar\":{\"outlinewidth\":0,\"ticks\":\"\"},\"type\":\"mesh3d\"}],\"parcoords\":[{\"line\":{\"colorbar\":{\"outlinewidth\":0,\"ticks\":\"\"}},\"type\":\"parcoords\"}],\"pie\":[{\"automargin\":true,\"type\":\"pie\"}],\"scatter\":[{\"marker\":{\"colorbar\":{\"outlinewidth\":0,\"ticks\":\"\"}},\"type\":\"scatter\"}],\"scatter3d\":[{\"line\":{\"colorbar\":{\"outlinewidth\":0,\"ticks\":\"\"}},\"marker\":{\"colorbar\":{\"outlinewidth\":0,\"ticks\":\"\"}},\"type\":\"scatter3d\"}],\"scattercarpet\":[{\"marker\":{\"colorbar\":{\"outlinewidth\":0,\"ticks\":\"\"}},\"type\":\"scattercarpet\"}],\"scattergeo\":[{\"marker\":{\"colorbar\":{\"outlinewidth\":0,\"ticks\":\"\"}},\"type\":\"scattergeo\"}],\"scattergl\":[{\"marker\":{\"colorbar\":{\"outlinewidth\":0,\"ticks\":\"\"}},\"type\":\"scattergl\"}],\"scattermapbox\":[{\"marker\":{\"colorbar\":{\"outlinewidth\":0,\"ticks\":\"\"}},\"type\":\"scattermapbox\"}],\"scatterpolar\":[{\"marker\":{\"colorbar\":{\"outlinewidth\":0,\"ticks\":\"\"}},\"type\":\"scatterpolar\"}],\"scatterpolargl\":[{\"marker\":{\"colorbar\":{\"outlinewidth\":0,\"ticks\":\"\"}},\"type\":\"scatterpolargl\"}],\"scatterternary\":[{\"marker\":{\"colorbar\":{\"outlinewidth\":0,\"ticks\":\"\"}},\"type\":\"scatterternary\"}],\"surface\":[{\"colorbar\":{\"outlinewidth\":0,\"ticks\":\"\"},\"colorscale\":[[0.0,\"#0d0887\"],[0.1111111111111111,\"#46039f\"],[0.2222222222222222,\"#7201a8\"],[0.3333333333333333,\"#9c179e\"],[0.4444444444444444,\"#bd3786\"],[0.5555555555555556,\"#d8576b\"],[0.6666666666666666,\"#ed7953\"],[0.7777777777777778,\"#fb9f3a\"],[0.8888888888888888,\"#fdca26\"],[1.0,\"#f0f921\"]],\"type\":\"surface\"}],\"table\":[{\"cells\":{\"fill\":{\"color\":\"#EBF0F8\"},\"line\":{\"color\":\"white\"}},\"header\":{\"fill\":{\"color\":\"#C8D4E3\"},\"line\":{\"color\":\"white\"}},\"type\":\"table\"}]},\"layout\":{\"annotationdefaults\":{\"arrowcolor\":\"#2a3f5f\",\"arrowhead\":0,\"arrowwidth\":1},\"coloraxis\":{\"colorbar\":{\"outlinewidth\":0,\"ticks\":\"\"}},\"colorscale\":{\"diverging\":[[0,\"#8e0152\"],[0.1,\"#c51b7d\"],[0.2,\"#de77ae\"],[0.3,\"#f1b6da\"],[0.4,\"#fde0ef\"],[0.5,\"#f7f7f7\"],[0.6,\"#e6f5d0\"],[0.7,\"#b8e186\"],[0.8,\"#7fbc41\"],[0.9,\"#4d9221\"],[1,\"#276419\"]],\"sequential\":[[0.0,\"#0d0887\"],[0.1111111111111111,\"#46039f\"],[0.2222222222222222,\"#7201a8\"],[0.3333333333333333,\"#9c179e\"],[0.4444444444444444,\"#bd3786\"],[0.5555555555555556,\"#d8576b\"],[0.6666666666666666,\"#ed7953\"],[0.7777777777777778,\"#fb9f3a\"],[0.8888888888888888,\"#fdca26\"],[1.0,\"#f0f921\"]],\"sequentialminus\":[[0.0,\"#0d0887\"],[0.1111111111111111,\"#46039f\"],[0.2222222222222222,\"#7201a8\"],[0.3333333333333333,\"#9c179e\"],[0.4444444444444444,\"#bd3786\"],[0.5555555555555556,\"#d8576b\"],[0.6666666666666666,\"#ed7953\"],[0.7777777777777778,\"#fb9f3a\"],[0.8888888888888888,\"#fdca26\"],[1.0,\"#f0f921\"]]},\"colorway\":[\"#636efa\",\"#EF553B\",\"#00cc96\",\"#ab63fa\",\"#FFA15A\",\"#19d3f3\",\"#FF6692\",\"#B6E880\",\"#FF97FF\",\"#FECB52\"],\"font\":{\"color\":\"#2a3f5f\"},\"geo\":{\"bgcolor\":\"white\",\"lakecolor\":\"white\",\"landcolor\":\"#E5ECF6\",\"showlakes\":true,\"showland\":true,\"subunitcolor\":\"white\"},\"hoverlabel\":{\"align\":\"left\"},\"hovermode\":\"closest\",\"mapbox\":{\"style\":\"light\"},\"paper_bgcolor\":\"white\",\"plot_bgcolor\":\"#E5ECF6\",\"polar\":{\"angularaxis\":{\"gridcolor\":\"white\",\"linecolor\":\"white\",\"ticks\":\"\"},\"bgcolor\":\"#E5ECF6\",\"radialaxis\":{\"gridcolor\":\"white\",\"linecolor\":\"white\",\"ticks\":\"\"}},\"scene\":{\"xaxis\":{\"backgroundcolor\":\"#E5ECF6\",\"gridcolor\":\"white\",\"gridwidth\":2,\"linecolor\":\"white\",\"showbackground\":true,\"ticks\":\"\",\"zerolinecolor\":\"white\"},\"yaxis\":{\"backgroundcolor\":\"#E5ECF6\",\"gridcolor\":\"white\",\"gridwidth\":2,\"linecolor\":\"white\",\"showbackground\":true,\"ticks\":\"\",\"zerolinecolor\":\"white\"},\"zaxis\":{\"backgroundcolor\":\"#E5ECF6\",\"gridcolor\":\"white\",\"gridwidth\":2,\"linecolor\":\"white\",\"showbackground\":true,\"ticks\":\"\",\"zerolinecolor\":\"white\"}},\"shapedefaults\":{\"line\":{\"color\":\"#2a3f5f\"}},\"ternary\":{\"aaxis\":{\"gridcolor\":\"white\",\"linecolor\":\"white\",\"ticks\":\"\"},\"baxis\":{\"gridcolor\":\"white\",\"linecolor\":\"white\",\"ticks\":\"\"},\"bgcolor\":\"#E5ECF6\",\"caxis\":{\"gridcolor\":\"white\",\"linecolor\":\"white\",\"ticks\":\"\"}},\"title\":{\"x\":0.05},\"xaxis\":{\"automargin\":true,\"gridcolor\":\"white\",\"linecolor\":\"white\",\"ticks\":\"\",\"title\":{\"standoff\":15},\"zerolinecolor\":\"white\",\"zerolinewidth\":2},\"yaxis\":{\"automargin\":true,\"gridcolor\":\"white\",\"linecolor\":\"white\",\"ticks\":\"\",\"title\":{\"standoff\":15},\"zerolinecolor\":\"white\",\"zerolinewidth\":2}}},\"title\":{\"text\":\"Monthly Average Temperature for Queried Cities\"},\"xaxis\":{\"anchor\":\"y\",\"domain\":[0.0,1.0],\"dtick\":1,\"tick0\":1,\"tickmode\":\"array\",\"ticktext\":[\"January\",\"Februrary\",\"March\",\"April\",\"May\",\"June\",\"July\",\"August\",\"September\",\"October\",\"November\",\"December\"],\"tickvals\":[1,2,3,4,5,6,7,8,9,10,11,12],\"title\":{\"text\":\"Month\"}},\"yaxis\":{\"anchor\":\"x\",\"domain\":[0.0,1.0],\"title\":{\"text\":\"Temperature (\\\\u00b0F)\"}}}}'"
            ]
          },
          "metadata": {
            "tags": []
          },
          "execution_count": 10
        }
      ]
    },
    {
      "cell_type": "code",
      "metadata": {
        "id": "BL3iWPe9Hoqk",
        "outputId": "b8ff333e-d95e-4e51-e0dc-de261a24525c",
        "colab": {
          "base_uri": "https://localhost:8080/",
          "height": 204
        }
      },
      "source": [
        "housing = pd.read_csv(base_path + 'housing_data/housing_data_final.csv')\n",
        "housing.head()"
      ],
      "execution_count": 11,
      "outputs": [
        {
          "output_type": "execute_result",
          "data": {
            "text/html": [
              "<div>\n",
              "<style scoped>\n",
              "    .dataframe tbody tr th:only-of-type {\n",
              "        vertical-align: middle;\n",
              "    }\n",
              "\n",
              "    .dataframe tbody tr th {\n",
              "        vertical-align: top;\n",
              "    }\n",
              "\n",
              "    .dataframe thead th {\n",
              "        text-align: right;\n",
              "    }\n",
              "</style>\n",
              "<table border=\"1\" class=\"dataframe\">\n",
              "  <thead>\n",
              "    <tr style=\"text-align: right;\">\n",
              "      <th></th>\n",
              "      <th>Unnamed: 0</th>\n",
              "      <th>date</th>\n",
              "      <th>indicator_id</th>\n",
              "      <th>region_id</th>\n",
              "      <th>city</th>\n",
              "      <th>postal</th>\n",
              "      <th>city_state</th>\n",
              "      <th>value</th>\n",
              "    </tr>\n",
              "  </thead>\n",
              "  <tbody>\n",
              "    <tr>\n",
              "      <th>0</th>\n",
              "      <td>0</td>\n",
              "      <td>1996-01-31</td>\n",
              "      <td>Z1BR</td>\n",
              "      <td>19307</td>\n",
              "      <td>Melbourne</td>\n",
              "      <td>FL</td>\n",
              "      <td>Melbourne, FL</td>\n",
              "      <td>39,446.0</td>\n",
              "    </tr>\n",
              "    <tr>\n",
              "      <th>1</th>\n",
              "      <td>1</td>\n",
              "      <td>1996-01-31</td>\n",
              "      <td>Z1BR</td>\n",
              "      <td>42150</td>\n",
              "      <td>Hawthorne</td>\n",
              "      <td>CA</td>\n",
              "      <td>Hawthorne, CA</td>\n",
              "      <td>192,693.0</td>\n",
              "    </tr>\n",
              "    <tr>\n",
              "      <th>2</th>\n",
              "      <td>2</td>\n",
              "      <td>1996-01-31</td>\n",
              "      <td>Z1BR</td>\n",
              "      <td>47426</td>\n",
              "      <td>Rockford</td>\n",
              "      <td>IL</td>\n",
              "      <td>Rockford, IL</td>\n",
              "      <td>38,978.0</td>\n",
              "    </tr>\n",
              "    <tr>\n",
              "      <th>3</th>\n",
              "      <td>3</td>\n",
              "      <td>1996-01-31</td>\n",
              "      <td>Z1BR</td>\n",
              "      <td>4099</td>\n",
              "      <td>Cincinnati</td>\n",
              "      <td>OH</td>\n",
              "      <td>Cincinnati, OH</td>\n",
              "      <td>60,979.0</td>\n",
              "    </tr>\n",
              "    <tr>\n",
              "      <th>4</th>\n",
              "      <td>4</td>\n",
              "      <td>1996-01-31</td>\n",
              "      <td>Z1BR</td>\n",
              "      <td>20313</td>\n",
              "      <td>Saint Paul</td>\n",
              "      <td>MN</td>\n",
              "      <td>Saint Paul, MN</td>\n",
              "      <td>48,446.0</td>\n",
              "    </tr>\n",
              "  </tbody>\n",
              "</table>\n",
              "</div>"
            ],
            "text/plain": [
              "   Unnamed: 0        date indicator_id  ...  postal      city_state      value\n",
              "0           0  1996-01-31         Z1BR  ...      FL   Melbourne, FL   39,446.0\n",
              "1           1  1996-01-31         Z1BR  ...      CA   Hawthorne, CA  192,693.0\n",
              "2           2  1996-01-31         Z1BR  ...      IL    Rockford, IL   38,978.0\n",
              "3           3  1996-01-31         Z1BR  ...      OH  Cincinnati, OH   60,979.0\n",
              "4           4  1996-01-31         Z1BR  ...      MN  Saint Paul, MN   48,446.0\n",
              "\n",
              "[5 rows x 8 columns]"
            ]
          },
          "metadata": {
            "tags": []
          },
          "execution_count": 11
        }
      ]
    },
    {
      "cell_type": "code",
      "metadata": {
        "id": "O5tymgP9GjsE",
        "outputId": "8e5d08c8-d9c0-484d-b97c-0e35149648b6",
        "colab": {
          "base_uri": "https://localhost:8080/",
          "height": 204
        }
      },
      "source": [
        "housing['City'] = housing['city_state']\n",
        "housing.head()"
      ],
      "execution_count": 12,
      "outputs": [
        {
          "output_type": "execute_result",
          "data": {
            "text/html": [
              "<div>\n",
              "<style scoped>\n",
              "    .dataframe tbody tr th:only-of-type {\n",
              "        vertical-align: middle;\n",
              "    }\n",
              "\n",
              "    .dataframe tbody tr th {\n",
              "        vertical-align: top;\n",
              "    }\n",
              "\n",
              "    .dataframe thead th {\n",
              "        text-align: right;\n",
              "    }\n",
              "</style>\n",
              "<table border=\"1\" class=\"dataframe\">\n",
              "  <thead>\n",
              "    <tr style=\"text-align: right;\">\n",
              "      <th></th>\n",
              "      <th>Unnamed: 0</th>\n",
              "      <th>date</th>\n",
              "      <th>indicator_id</th>\n",
              "      <th>region_id</th>\n",
              "      <th>city</th>\n",
              "      <th>postal</th>\n",
              "      <th>city_state</th>\n",
              "      <th>value</th>\n",
              "      <th>City</th>\n",
              "    </tr>\n",
              "  </thead>\n",
              "  <tbody>\n",
              "    <tr>\n",
              "      <th>0</th>\n",
              "      <td>0</td>\n",
              "      <td>1996-01-31</td>\n",
              "      <td>Z1BR</td>\n",
              "      <td>19307</td>\n",
              "      <td>Melbourne</td>\n",
              "      <td>FL</td>\n",
              "      <td>Melbourne, FL</td>\n",
              "      <td>39,446.0</td>\n",
              "      <td>Melbourne, FL</td>\n",
              "    </tr>\n",
              "    <tr>\n",
              "      <th>1</th>\n",
              "      <td>1</td>\n",
              "      <td>1996-01-31</td>\n",
              "      <td>Z1BR</td>\n",
              "      <td>42150</td>\n",
              "      <td>Hawthorne</td>\n",
              "      <td>CA</td>\n",
              "      <td>Hawthorne, CA</td>\n",
              "      <td>192,693.0</td>\n",
              "      <td>Hawthorne, CA</td>\n",
              "    </tr>\n",
              "    <tr>\n",
              "      <th>2</th>\n",
              "      <td>2</td>\n",
              "      <td>1996-01-31</td>\n",
              "      <td>Z1BR</td>\n",
              "      <td>47426</td>\n",
              "      <td>Rockford</td>\n",
              "      <td>IL</td>\n",
              "      <td>Rockford, IL</td>\n",
              "      <td>38,978.0</td>\n",
              "      <td>Rockford, IL</td>\n",
              "    </tr>\n",
              "    <tr>\n",
              "      <th>3</th>\n",
              "      <td>3</td>\n",
              "      <td>1996-01-31</td>\n",
              "      <td>Z1BR</td>\n",
              "      <td>4099</td>\n",
              "      <td>Cincinnati</td>\n",
              "      <td>OH</td>\n",
              "      <td>Cincinnati, OH</td>\n",
              "      <td>60,979.0</td>\n",
              "      <td>Cincinnati, OH</td>\n",
              "    </tr>\n",
              "    <tr>\n",
              "      <th>4</th>\n",
              "      <td>4</td>\n",
              "      <td>1996-01-31</td>\n",
              "      <td>Z1BR</td>\n",
              "      <td>20313</td>\n",
              "      <td>Saint Paul</td>\n",
              "      <td>MN</td>\n",
              "      <td>Saint Paul, MN</td>\n",
              "      <td>48,446.0</td>\n",
              "      <td>Saint Paul, MN</td>\n",
              "    </tr>\n",
              "  </tbody>\n",
              "</table>\n",
              "</div>"
            ],
            "text/plain": [
              "   Unnamed: 0        date  ...      value            City\n",
              "0           0  1996-01-31  ...   39,446.0   Melbourne, FL\n",
              "1           1  1996-01-31  ...  192,693.0   Hawthorne, CA\n",
              "2           2  1996-01-31  ...   38,978.0    Rockford, IL\n",
              "3           3  1996-01-31  ...   60,979.0  Cincinnati, OH\n",
              "4           4  1996-01-31  ...   48,446.0  Saint Paul, MN\n",
              "\n",
              "[5 rows x 9 columns]"
            ]
          },
          "metadata": {
            "tags": []
          },
          "execution_count": 12
        }
      ]
    },
    {
      "cell_type": "code",
      "metadata": {
        "id": "mYVJG3jcHwzM"
      },
      "source": [
        "# grpH = housing.groupby(['date', 'City'], as_index=False).mean()\n",
        "# grpH.head()"
      ],
      "execution_count": 13,
      "outputs": []
    },
    {
      "cell_type": "code",
      "metadata": {
        "id": "R8JsDworGWHC",
        "outputId": "4ae0d1ff-2f37-493b-b7dc-824048cf0d5b",
        "colab": {
          "base_uri": "https://localhost:8080/",
          "height": 542
        }
      },
      "source": [
        "\n",
        "user_input = ['Albany, NY', 'Sacramento, CA', 'Austin, TX']   # user searched list of cities\n",
        "months = ['January', 'February', 'March', 'April', 'May', 'June', 'July', 'August', 'September', 'October', 'November', 'December']\n",
        "# Set subset of grouped df for only these city-states\n",
        "subsetH = housing[housing['City'].isin(user_input)]\n",
        "# create line chart with color var as the city-state\n",
        "fig = px.line(subsetH, x='date', y='value', labels = {'value': 'Value ($)', 'date': 'Date'},\n",
        "              color='City', title=f'Cost for 1 Bedroom Units Over Time in {user_input}').for_each_trace(lambda t: t.update(name=t.name.split(\"=\")[1]))\n",
        "# fig.layout.title.Font(\"Balto\")\n",
        "# fig.update_layout(tickmode='array',tickvals=months)\n",
        "# fig.update_layout(legend=dict(yanchor=\"top\",y=0.99,xanchor=\"left\",x=0.01))    # legend inside graph top left\n",
        "fig.update_layout(legend=dict(orientation=\"h\",yanchor=\"bottom\",y=1.02,xanchor=\"right\",x=1))   # legend above graph top right\n",
        "fig.show()"
      ],
      "execution_count": 14,
      "outputs": [
        {
          "output_type": "display_data",
          "data": {
            "text/html": [
              "<html>\n",
              "<head><meta charset=\"utf-8\" /></head>\n",
              "<body>\n",
              "    <div>\n",
              "            <script src=\"https://cdnjs.cloudflare.com/ajax/libs/mathjax/2.7.5/MathJax.js?config=TeX-AMS-MML_SVG\"></script><script type=\"text/javascript\">if (window.MathJax) {MathJax.Hub.Config({SVG: {font: \"STIX-Web\"}});}</script>\n",
              "                <script type=\"text/javascript\">window.PlotlyConfig = {MathJaxConfig: 'local'};</script>\n",
              "        <script src=\"https://cdn.plot.ly/plotly-latest.min.js\"></script>    \n",
              "            <div id=\"3bbacbfa-0cea-48e3-b24d-c1cd96da7109\" class=\"plotly-graph-div\" style=\"height:525px; width:100%;\"></div>\n",
              "            <script type=\"text/javascript\">\n",
              "                \n",
              "                    window.PLOTLYENV=window.PLOTLYENV || {};\n",
              "                    \n",
              "                if (document.getElementById(\"3bbacbfa-0cea-48e3-b24d-c1cd96da7109\")) {\n",
              "                    Plotly.newPlot(\n",
              "                        '3bbacbfa-0cea-48e3-b24d-c1cd96da7109',\n",
              "                        [{\"hoverlabel\": {\"namelength\": 0}, \"hovertemplate\": \"City=Sacramento, CA<br>Date=%{x}<br>Value ($)=%{y}\", \"legendgroup\": \"City=Sacramento, CA\", \"line\": {\"color\": \"#636efa\", \"dash\": \"solid\"}, \"mode\": \"lines\", \"name\": \"Sacramento, CA\", \"showlegend\": true, \"type\": \"scatter\", \"x\": [\"1996-01-31\", \"1996-02-29\", \"1996-03-31\", \"1996-04-30\", \"1996-05-31\", \"1996-06-30\", \"1996-07-31\", \"1996-08-31\", \"1996-09-30\", \"1996-10-31\", \"1996-11-30\", \"1996-12-31\", \"1997-01-31\", \"1997-02-28\", \"1997-03-31\", \"1997-04-30\", \"1997-05-31\", \"1997-06-30\", \"1997-07-31\", \"1997-08-31\", \"1997-09-30\", \"1997-10-31\", \"1997-11-30\", \"1997-12-31\", \"1998-01-31\", \"1998-02-28\", \"1998-03-31\", \"1998-04-30\", \"1998-05-31\", \"1998-06-30\", \"1998-07-31\", \"1998-08-31\", \"1998-09-30\", \"1998-10-31\", \"1998-11-30\", \"1998-12-31\", \"1999-01-31\", \"1999-02-28\", \"1999-03-31\", \"1999-04-30\", \"1999-05-31\", \"1999-06-30\", \"1999-07-31\", \"1999-08-31\", \"1999-09-30\", \"1999-10-31\", \"1999-11-30\", \"1999-12-31\", \"2000-01-31\", \"2000-02-29\", \"2000-03-31\", \"2000-04-30\", \"2000-05-31\", \"2000-06-30\", \"2000-07-31\", \"2000-08-31\", \"2000-09-30\", \"2000-10-31\", \"2000-11-30\", \"2000-12-31\", \"2001-01-31\", \"2001-02-28\", \"2001-03-31\", \"2001-04-30\", \"2001-05-31\", \"2001-06-30\", \"2001-07-31\", \"2001-08-31\", \"2001-09-30\", \"2001-10-31\", \"2001-11-30\", \"2001-12-31\", \"2002-01-31\", \"2002-02-28\", \"2002-03-31\", \"2002-04-30\", \"2002-05-31\", \"2002-06-30\", \"2002-07-31\", \"2002-08-31\", \"2002-09-30\", \"2002-10-31\", \"2002-11-30\", \"2002-12-31\", \"2003-01-31\", \"2003-02-28\", \"2003-03-31\", \"2003-04-30\", \"2003-05-31\", \"2003-06-30\", \"2003-07-31\", \"2003-08-31\", \"2003-09-30\", \"2003-10-31\", \"2003-11-30\", \"2003-12-31\", \"2004-01-31\", \"2004-02-29\", \"2004-03-31\", \"2004-04-30\", \"2004-05-31\", \"2004-06-30\", \"2004-07-31\", \"2004-08-31\", \"2004-09-30\", \"2004-10-31\", \"2004-11-30\", \"2004-12-31\", \"2005-01-31\", \"2005-02-28\", \"2005-03-31\", \"2005-04-30\", \"2005-05-31\", \"2005-06-30\", \"2005-07-31\", \"2005-08-31\", \"2005-09-30\", \"2005-10-31\", \"2005-11-30\", \"2005-12-31\", \"2006-01-31\", \"2006-02-28\", \"2006-03-31\", \"2006-04-30\", \"2006-05-31\", \"2006-06-30\", \"2006-07-31\", \"2006-08-31\", \"2006-09-30\", \"2006-10-31\", \"2006-11-30\", \"2006-12-31\", \"2007-01-31\", \"2007-02-28\", \"2007-03-31\", \"2007-04-30\", \"2007-05-31\", \"2007-06-30\", \"2007-07-31\", \"2007-08-31\", \"2007-09-30\", \"2007-10-31\", \"2007-11-30\", \"2007-12-31\", \"2008-01-31\", \"2008-02-29\", \"2008-03-31\", \"2008-04-30\", \"2008-05-31\", \"2008-06-30\", \"2008-07-31\", \"2008-08-31\", \"2008-09-30\", \"2008-10-31\", \"2008-11-30\", \"2008-12-31\", \"2009-01-31\", \"2009-02-28\", \"2009-03-31\", \"2009-04-30\", \"2009-05-31\", \"2009-06-30\", \"2009-07-31\", \"2009-08-31\", \"2009-09-30\", \"2009-10-31\", \"2009-11-30\", \"2009-12-31\", \"2010-01-31\", \"2010-02-28\", \"2010-03-31\", \"2010-04-30\", \"2010-05-31\", \"2010-06-30\", \"2010-07-31\", \"2010-08-31\", \"2010-09-30\", \"2010-10-31\", \"2010-11-30\", \"2010-12-31\", \"2011-01-31\", \"2011-02-28\", \"2011-03-31\", \"2011-04-30\", \"2011-05-31\", \"2011-06-30\", \"2011-07-31\", \"2011-08-31\", \"2011-09-30\", \"2011-10-31\", \"2011-11-30\", \"2011-12-31\", \"2012-01-31\", \"2012-02-29\", \"2012-03-31\", \"2012-04-30\", \"2012-05-31\", \"2012-06-30\", \"2012-07-31\", \"2012-08-31\", \"2012-09-30\", \"2012-10-31\", \"2012-11-30\", \"2012-12-31\", \"2013-01-31\", \"2013-02-28\", \"2013-03-31\", \"2013-04-30\", \"2013-05-31\", \"2013-06-30\", \"2013-07-31\", \"2013-08-31\", \"2013-09-30\", \"2013-10-31\", \"2013-11-30\", \"2013-12-31\", \"2014-01-31\", \"2014-02-28\", \"2014-03-31\", \"2014-04-30\", \"2014-05-31\", \"2014-06-30\", \"2014-07-31\", \"2014-08-31\", \"2014-09-30\", \"2014-10-31\", \"2014-11-30\", \"2014-12-31\", \"2015-01-31\", \"2015-02-28\", \"2015-03-31\", \"2015-04-30\", \"2015-05-31\", \"2015-06-30\", \"2015-07-31\", \"2015-08-31\", \"2015-09-30\", \"2015-10-31\", \"2015-11-30\", \"2015-12-31\", \"2016-01-31\", \"2016-02-29\", \"2016-03-31\", \"2016-04-30\", \"2016-05-31\", \"2016-06-30\", \"2016-07-31\", \"2016-08-31\", \"2016-09-30\", \"2016-10-31\", \"2016-11-30\", \"2016-12-31\", \"2017-01-31\", \"2017-02-28\", \"2017-03-31\", \"2017-04-30\", \"2017-05-31\", \"2017-06-30\", \"2017-07-31\", \"2017-08-31\", \"2017-09-30\", \"2017-10-31\", \"2017-11-30\", \"2017-12-31\", \"2018-01-31\", \"2018-02-28\", \"2018-03-31\", \"2018-04-30\", \"2018-05-31\", \"2018-06-30\", \"2018-07-31\", \"2018-08-31\", \"2018-09-30\", \"2018-10-31\", \"2018-11-30\", \"2018-12-31\", \"2019-01-31\", \"2019-02-28\", \"2019-03-31\", \"2019-04-30\", \"2019-05-31\", \"2019-06-30\", \"2019-07-31\", \"2019-08-31\", \"2019-09-30\", \"2019-10-31\", \"2019-11-30\", \"2019-12-31\", \"2020-01-31\", \"2020-02-29\", \"2020-03-31\", \"2020-04-30\", \"2020-05-31\", \"2020-06-30\", \"2020-07-31\"], \"xaxis\": \"x\", \"y\": [\"73,384.0\", \"72,665.0\", \"72,175.0\", \"71,533.0\", \"70,853.0\", \"69,936.0\", \"68,966.0\", \"68,531.0\", \"68,457.0\", \"68,521.0\", \"68,664.0\", \"68,831.0\", \"68,748.0\", \"68,662.0\", \"68,796.0\", \"68,604.0\", \"68,778.0\", \"69,220.0\", \"69,760.0\", \"69,527.0\", \"68,760.0\", \"68,003.0\", \"67,309.0\", \"66,922.0\", \"66,975.0\", \"67,521.0\", \"67,836.0\", \"68,089.0\", \"68,072.0\", \"68,287.0\", \"68,819.0\", \"69,716.0\", \"71,060.0\", \"72,159.0\", \"73,251.0\", \"73,990.0\", \"74,710.0\", \"75,213.0\", \"75,380.0\", \"75,486.0\", \"75,649.0\", \"76,080.0\", \"76,033.0\", \"75,991.0\", \"75,632.0\", \"75,792.0\", \"75,887.0\", \"75,997.0\", \"76,189.0\", \"76,464.0\", \"77,232.0\", \"77,967.0\", \"78,789.0\", \"79,216.0\", \"80,136.0\", \"81,155.0\", \"82,578.0\", \"83,862.0\", \"85,264.0\", \"86,798.0\", \"88,373.0\", \"89,874.0\", \"91,466.0\", \"93,266.0\", \"95,068.0\", \"96,898.0\", \"98,386.0\", \"99,486.0\", \"100,247.0\", \"100,981.0\", \"101,775.0\", \"103,092.0\", \"104,394.0\", \"106,338.0\", \"107,813.0\", \"109,381.0\", \"110,862.0\", \"112,888.0\", \"115,196.0\", \"117,921.0\", \"120,966.0\", \"124,164.0\", \"127,977.0\", \"131,265.0\", \"134,362.0\", \"136,400.0\", \"138,944.0\", \"142,173.0\", \"145,453.0\", \"148,220.0\", \"150,232.0\", \"152,538.0\", \"154,802.0\", \"157,405.0\", \"159,458.0\", \"161,701.0\", \"163,942.0\", \"166,615.0\", \"169,644.0\", \"171,831.0\", \"174,768.0\", \"177,981.0\", \"182,815.0\", \"187,662.0\", \"192,217.0\", \"196,347.0\", \"200,376.0\", \"204,447.0\", \"209,121.0\", \"214,121.0\", \"218,598.0\", \"222,594.0\", \"225,974.0\", \"229,424.0\", \"231,754.0\", \"233,558.0\", \"236,104.0\", \"239,678.0\", \"242,220.0\", \"244,003.0\", \"243,853.0\", \"243,609.0\", \"242,679.0\", \"243,105.0\", \"243,291.0\", \"243,826.0\", \"243,324.0\", \"242,488.0\", \"239,981.0\", \"236,123.0\", \"233,227.0\", \"229,473.0\", \"226,340.0\", \"223,029.0\", \"221,718.0\", \"220,076.0\", \"217,365.0\", \"212,662.0\", \"208,899.0\", \"205,212.0\", \"202,084.0\", \"196,971.0\", \"192,262.0\", \"189,325.0\", \"187,973.0\", \"185,567.0\", \"180,805.0\", \"174,336.0\", \"168,299.0\", \"163,808.0\", \"159,697.0\", \"155,630.0\", \"151,385.0\", \"149,510.0\", \"147,170.0\", \"144,564.0\", \"140,793.0\", \"138,135.0\", \"135,663.0\", \"134,509.0\", \"133,786.0\", \"133,003.0\", \"131,429.0\", \"130,096.0\", \"129,948.0\", \"129,362.0\", \"128,097.0\", \"125,480.0\", \"123,003.0\", \"120,806.0\", \"119,665.0\", \"118,724.0\", \"118,024.0\", \"116,970.0\", \"115,891.0\", \"114,266.0\", \"111,785.0\", \"109,583.0\", \"108,330.0\", \"108,504.0\", \"108,873.0\", \"108,638.0\", \"107,640.0\", \"105,856.0\", \"103,820.0\", \"102,329.0\", \"101,485.0\", \"101,265.0\", \"100,761.0\", \"99,632.0\", \"98,702.0\", \"97,744.0\", \"97,039.0\", \"96,581.0\", \"96,464.0\", \"97,180.0\", \"97,693.0\", \"97,843.0\", \"98,100.0\", \"98,577.0\", \"100,038.0\", \"102,011.0\", \"104,094.0\", \"106,322.0\", \"108,887.0\", \"111,597.0\", \"114,772.0\", \"118,181.0\", \"122,511.0\", \"127,022.0\", \"130,845.0\", \"133,527.0\", \"135,720.0\", \"138,450.0\", \"140,987.0\", \"143,797.0\", \"145,462.0\", \"146,995.0\", \"147,794.0\", \"148,027.0\", \"147,923.0\", \"148,321.0\", \"150,750.0\", \"154,618.0\", \"158,353.0\", \"159,877.0\", \"160,864.0\", \"160,384.0\", \"161,565.0\", \"163,230.0\", \"165,852.0\", \"167,809.0\", \"169,196.0\", \"170,309.0\", \"170,961.0\", \"171,388.0\", \"172,527.0\", \"174,820.0\", \"177,352.0\", \"180,499.0\", \"182,515.0\", \"183,872.0\", \"185,023.0\", \"187,472.0\", \"190,650.0\", \"193,082.0\", \"194,125.0\", \"195,629.0\", \"196,908.0\", \"199,353.0\", \"201,756.0\", \"204,438.0\", \"207,663.0\", \"211,197.0\", \"214,806.0\", \"217,532.0\", \"219,694.0\", \"222,824.0\", \"226,255.0\", \"229,142.0\", \"231,331.0\", \"233,099.0\", \"234,912.0\", \"237,038.0\", \"239,682.0\", \"242,540.0\", \"244,233.0\", \"244,836.0\", \"246,274.0\", \"248,375.0\", \"250,553.0\", \"251,095.0\", \"251,296.0\", \"251,888.0\", \"252,882.0\", \"253,673.0\", \"252,731.0\", \"251,711.0\", \"250,887.0\", \"251,877.0\", \"253,233.0\", \"254,400.0\", \"255,667.0\", \"257,489.0\", \"259,726.0\", \"261,397.0\", \"262,535.0\", \"263,321.0\", \"264,896.0\", \"266,191.0\", \"267,762.0\", \"268,467.0\", \"264,126.0\", \"264,830.0\", \"267,215.0\"], \"yaxis\": \"y\"}, {\"hoverlabel\": {\"namelength\": 0}, \"hovertemplate\": \"City=Austin, TX<br>Date=%{x}<br>Value ($)=%{y}\", \"legendgroup\": \"City=Austin, TX\", \"line\": {\"color\": \"#EF553B\", \"dash\": \"solid\"}, \"mode\": \"lines\", \"name\": \"Austin, TX\", \"showlegend\": true, \"type\": \"scatter\", \"x\": [\"1996-01-31\", \"1996-02-29\", \"1996-03-31\", \"1996-04-30\", \"1996-05-31\", \"1996-06-30\", \"1996-07-31\", \"1996-08-31\", \"1996-09-30\", \"1996-10-31\", \"1996-11-30\", \"1996-12-31\", \"1997-01-31\", \"1997-02-28\", \"1997-03-31\", \"1997-04-30\", \"1997-05-31\", \"1997-06-30\", \"1997-07-31\", \"1997-08-31\", \"1997-09-30\", \"1997-10-31\", \"1997-11-30\", \"1997-12-31\", \"1998-01-31\", \"1998-02-28\", \"1998-03-31\", \"1998-04-30\", \"1998-05-31\", \"1998-06-30\", \"1998-07-31\", \"1998-08-31\", \"1998-09-30\", \"1998-10-31\", \"1998-11-30\", \"1998-12-31\", \"1999-01-31\", \"1999-02-28\", \"1999-03-31\", \"1999-04-30\", \"1999-05-31\", \"1999-06-30\", \"1999-07-31\", \"1999-08-31\", \"1999-09-30\", \"1999-10-31\", \"1999-11-30\", \"1999-12-31\", \"2000-01-31\", \"2000-02-29\", \"2000-03-31\", \"2000-04-30\", \"2000-05-31\", \"2000-06-30\", \"2000-07-31\", \"2000-08-31\", \"2000-09-30\", \"2000-10-31\", \"2000-11-30\", \"2000-12-31\", \"2001-01-31\", \"2001-02-28\", \"2001-03-31\", \"2001-04-30\", \"2001-05-31\", \"2001-06-30\", \"2001-07-31\", \"2001-08-31\", \"2001-09-30\", \"2001-10-31\", \"2001-11-30\", \"2001-12-31\", \"2002-01-31\", \"2002-02-28\", \"2002-03-31\", \"2002-04-30\", \"2002-05-31\", \"2002-06-30\", \"2002-07-31\", \"2002-08-31\", \"2002-09-30\", \"2002-10-31\", \"2002-11-30\", \"2002-12-31\", \"2003-01-31\", \"2003-02-28\", \"2003-03-31\", \"2003-04-30\", \"2003-05-31\", \"2003-06-30\", \"2003-07-31\", \"2003-08-31\", \"2003-09-30\", \"2003-10-31\", \"2003-11-30\", \"2003-12-31\", \"2004-01-31\", \"2004-02-29\", \"2004-03-31\", \"2004-04-30\", \"2004-05-31\", \"2004-06-30\", \"2004-07-31\", \"2004-08-31\", \"2004-09-30\", \"2004-10-31\", \"2004-11-30\", \"2004-12-31\", \"2005-01-31\", \"2005-02-28\", \"2005-03-31\", \"2005-04-30\", \"2005-05-31\", \"2005-06-30\", \"2005-07-31\", \"2005-08-31\", \"2005-09-30\", \"2005-10-31\", \"2005-11-30\", \"2005-12-31\", \"2006-01-31\", \"2006-02-28\", \"2006-03-31\", \"2006-04-30\", \"2006-05-31\", \"2006-06-30\", \"2006-07-31\", \"2006-08-31\", \"2006-09-30\", \"2006-10-31\", \"2006-11-30\", \"2006-12-31\", \"2007-01-31\", \"2007-02-28\", \"2007-03-31\", \"2007-04-30\", \"2007-05-31\", \"2007-06-30\", \"2007-07-31\", \"2007-08-31\", \"2007-09-30\", \"2007-10-31\", \"2007-11-30\", \"2007-12-31\", \"2008-01-31\", \"2008-02-29\", \"2008-03-31\", \"2008-04-30\", \"2008-05-31\", \"2008-06-30\", \"2008-07-31\", \"2008-08-31\", \"2008-09-30\", \"2008-10-31\", \"2008-11-30\", \"2008-12-31\", \"2009-01-31\", \"2009-02-28\", \"2009-03-31\", \"2009-04-30\", \"2009-05-31\", \"2009-06-30\", \"2009-07-31\", \"2009-08-31\", \"2009-09-30\", \"2009-10-31\", \"2009-11-30\", \"2009-12-31\", \"2010-01-31\", \"2010-02-28\", \"2010-03-31\", \"2010-04-30\", \"2010-05-31\", \"2010-06-30\", \"2010-07-31\", \"2010-08-31\", \"2010-09-30\", \"2010-10-31\", \"2010-11-30\", \"2010-12-31\", \"2011-01-31\", \"2011-02-28\", \"2011-03-31\", \"2011-04-30\", \"2011-05-31\", \"2011-06-30\", \"2011-07-31\", \"2011-08-31\", \"2011-09-30\", \"2011-10-31\", \"2011-11-30\", \"2011-12-31\", \"2012-01-31\", \"2012-02-29\", \"2012-03-31\", \"2012-04-30\", \"2012-05-31\", \"2012-06-30\", \"2012-07-31\", \"2012-08-31\", \"2012-09-30\", \"2012-10-31\", \"2012-11-30\", \"2012-12-31\", \"2013-01-31\", \"2013-02-28\", \"2013-03-31\", \"2013-04-30\", \"2013-05-31\", \"2013-06-30\", \"2013-07-31\", \"2013-08-31\", \"2013-09-30\", \"2013-10-31\", \"2013-11-30\", \"2013-12-31\", \"2014-01-31\", \"2014-02-28\", \"2014-03-31\", \"2014-04-30\", \"2014-05-31\", \"2014-06-30\", \"2014-07-31\", \"2014-08-31\", \"2014-09-30\", \"2014-10-31\", \"2014-11-30\", \"2014-12-31\", \"2015-01-31\", \"2015-02-28\", \"2015-03-31\", \"2015-04-30\", \"2015-05-31\", \"2015-06-30\", \"2015-07-31\", \"2015-08-31\", \"2015-09-30\", \"2015-10-31\", \"2015-11-30\", \"2015-12-31\", \"2016-01-31\", \"2016-02-29\", \"2016-03-31\", \"2016-04-30\", \"2016-05-31\", \"2016-06-30\", \"2016-07-31\", \"2016-08-31\", \"2016-09-30\", \"2016-10-31\", \"2016-11-30\", \"2016-12-31\", \"2017-01-31\", \"2017-02-28\", \"2017-03-31\", \"2017-04-30\", \"2017-05-31\", \"2017-06-30\", \"2017-07-31\", \"2017-08-31\", \"2017-09-30\", \"2017-10-31\", \"2017-11-30\", \"2017-12-31\", \"2018-01-31\", \"2018-02-28\", \"2018-03-31\", \"2018-04-30\", \"2018-05-31\", \"2018-06-30\", \"2018-07-31\", \"2018-08-31\", \"2018-09-30\", \"2018-10-31\", \"2018-11-30\", \"2018-12-31\", \"2019-01-31\", \"2019-02-28\", \"2019-03-31\", \"2019-04-30\", \"2019-05-31\", \"2019-06-30\", \"2019-07-31\", \"2019-08-31\", \"2019-09-30\", \"2019-10-31\", \"2019-11-30\", \"2019-12-31\", \"2020-01-31\", \"2020-02-29\", \"2020-03-31\", \"2020-04-30\", \"2020-05-31\", \"2020-06-30\", \"2020-07-31\"], \"xaxis\": \"x\", \"y\": [\"151,797.0\", \"151,397.0\", \"149,950.0\", \"148,615.0\", \"147,273.0\", \"147,383.0\", \"147,281.0\", \"148,144.0\", \"148,795.0\", \"148,874.0\", \"147,990.0\", \"148,091.0\", \"148,564.0\", \"149,434.0\", \"150,743.0\", \"152,117.0\", \"153,493.0\", \"153,202.0\", \"152,579.0\", \"150,992.0\", \"149,220.0\", \"148,969.0\", \"150,813.0\", \"152,105.0\", \"153,422.0\", \"153,428.0\", \"154,926.0\", \"155,088.0\", \"155,428.0\", \"156,040.0\", \"157,146.0\", \"158,051.0\", \"160,056.0\", \"161,570.0\", \"162,305.0\", \"161,368.0\", \"159,656.0\", \"158,679.0\", \"157,283.0\", \"155,804.0\", \"155,078.0\", \"153,515.0\", \"154,628.0\", \"155,460.0\", \"156,565.0\", \"156,411.0\", \"155,893.0\", \"156,797.0\", \"157,950.0\", \"159,744.0\", \"161,525.0\", \"164,739.0\", \"167,368.0\", \"170,763.0\", \"171,279.0\", \"173,427.0\", \"174,695.0\", \"177,085.0\", \"178,024.0\", \"178,607.0\", \"179,081.0\", \"179,499.0\", \"180,266.0\", \"179,361.0\", \"178,066.0\", \"176,127.0\", \"175,936.0\", \"175,471.0\", \"174,866.0\", \"174,442.0\", \"174,804.0\", \"175,432.0\", \"175,573.0\", \"175,064.0\", \"174,505.0\", \"175,350.0\", \"177,165.0\", \"179,369.0\", \"180,237.0\", \"181,263.0\", \"182,487.0\", \"183,369.0\", \"183,863.0\", \"183,660.0\", \"184,457.0\", \"185,363.0\", \"186,099.0\", \"185,780.0\", \"184,213.0\", \"182,998.0\", \"182,480.0\", \"180,347.0\", \"177,991.0\", \"174,595.0\", \"172,826.0\", \"171,450.0\", \"170,496.0\", \"170,298.0\", \"170,622.0\", \"170,842.0\", \"171,476.0\", \"171,844.0\", \"172,394.0\", \"174,469.0\", \"176,310.0\", \"179,541.0\", \"181,289.0\", \"183,643.0\", \"184,959.0\", \"186,455.0\", \"186,542.0\", \"188,064.0\", \"189,190.0\", \"190,659.0\", \"191,411.0\", \"191,351.0\", \"192,362.0\", \"192,508.0\", \"193,389.0\", \"193,024.0\", \"192,619.0\", \"191,410.0\", \"191,274.0\", \"189,958.0\", \"189,617.0\", \"188,790.0\", \"189,115.0\", \"189,403.0\", \"189,564.0\", \"189,709.0\", \"189,724.0\", \"190,180.0\", \"191,292.0\", \"192,512.0\", \"193,526.0\", \"194,545.0\", \"195,385.0\", \"196,744.0\", \"197,421.0\", \"198,506.0\", \"199,243.0\", \"200,586.0\", \"201,848.0\", \"202,708.0\", \"203,025.0\", \"202,764.0\", \"202,810.0\", \"202,833.0\", \"202,708.0\", \"201,621.0\", \"200,730.0\", \"199,722.0\", \"198,190.0\", \"195,932.0\", \"192,814.0\", \"190,862.0\", \"189,361.0\", \"188,737.0\", \"187,293.0\", \"185,940.0\", \"184,393.0\", \"183,625.0\", \"182,828.0\", \"181,620.0\", \"180,591.0\", \"180,132.0\", \"181,187.0\", \"181,668.0\", \"181,446.0\", \"180,661.0\", \"180,457.0\", \"180,325.0\", \"180,601.0\", \"180,362.0\", \"179,845.0\", \"179,247.0\", \"179,054.0\", \"178,923.0\", \"178,253.0\", \"177,411.0\", \"176,776.0\", \"176,282.0\", \"175,686.0\", \"175,066.0\", \"174,116.0\", \"173,694.0\", \"173,597.0\", \"174,259.0\", \"174,513.0\", \"174,471.0\", \"174,354.0\", \"174,371.0\", \"175,108.0\", \"176,029.0\", \"177,340.0\", \"178,398.0\", \"179,559.0\", \"180,881.0\", \"182,194.0\", \"183,414.0\", \"184,264.0\", \"185,143.0\", \"185,766.0\", \"187,422.0\", \"188,770.0\", \"190,630.0\", \"191,955.0\", \"194,382.0\", \"196,689.0\", \"198,701.0\", \"200,302.0\", \"201,492.0\", \"203,470.0\", \"205,660.0\", \"208,516.0\", \"210,200.0\", \"211,839.0\", \"212,987.0\", \"214,878.0\", \"216,544.0\", \"218,487.0\", \"220,039.0\", \"221,302.0\", \"222,905.0\", \"225,021.0\", \"227,224.0\", \"228,783.0\", \"230,087.0\", \"231,639.0\", \"233,535.0\", \"235,165.0\", \"236,096.0\", \"237,113.0\", \"238,787.0\", \"241,738.0\", \"244,405.0\", \"246,118.0\", \"247,086.0\", \"248,499.0\", \"250,790.0\", \"253,290.0\", \"255,133.0\", \"256,418.0\", \"257,606.0\", \"258,765.0\", \"259,941.0\", \"260,779.0\", \"261,666.0\", \"262,804.0\", \"264,832.0\", \"267,027.0\", \"268,722.0\", \"269,132.0\", \"269,595.0\", \"270,811.0\", \"272,705.0\", \"274,350.0\", \"274,999.0\", \"275,404.0\", \"275,888.0\", \"277,096.0\", \"278,056.0\", \"279,155.0\", \"280,122.0\", \"281,194.0\", \"282,205.0\", \"282,925.0\", \"283,111.0\", \"283,464.0\", \"285,036.0\", \"286,990.0\", \"289,079.0\", \"289,585.0\", \"290,968.0\", \"291,195.0\", \"292,767.0\", \"294,290.0\", \"296,959.0\", \"297,907.0\", \"298,223.0\", \"298,069.0\", \"298,552.0\", \"299,386.0\", \"300,087.0\", \"301,308.0\", \"301,877.0\", \"303,315.0\", \"303,949.0\", \"304,919.0\", \"305,128.0\", \"306,760.0\", \"309,111.0\", \"308,451.0\", \"310,515.0\", \"312,401.0\"], \"yaxis\": \"y\"}, {\"hoverlabel\": {\"namelength\": 0}, \"hovertemplate\": \"City=Albany, NY<br>Date=%{x}<br>Value ($)=%{y}\", \"legendgroup\": \"City=Albany, NY\", \"line\": {\"color\": \"#00cc96\", \"dash\": \"solid\"}, \"mode\": \"lines\", \"name\": \"Albany, NY\", \"showlegend\": true, \"type\": \"scatter\", \"x\": [\"1996-01-31\", \"1996-02-29\", \"1996-03-31\", \"1996-04-30\", \"1996-05-31\", \"1996-06-30\", \"1996-07-31\", \"1996-08-31\", \"1996-09-30\", \"1996-10-31\", \"1996-11-30\", \"1996-12-31\", \"1997-01-31\", \"1997-02-28\", \"1997-03-31\", \"1997-04-30\", \"1997-05-31\", \"1997-06-30\", \"1997-07-31\", \"1997-08-31\", \"1997-09-30\", \"1997-10-31\", \"1997-11-30\", \"1997-12-31\", \"1998-01-31\", \"1998-02-28\", \"1998-03-31\", \"1998-04-30\", \"1998-05-31\", \"1998-06-30\", \"1998-07-31\", \"1998-08-31\", \"1998-09-30\", \"1998-10-31\", \"1998-11-30\", \"1998-12-31\", \"1999-01-31\", \"1999-02-28\", \"1999-03-31\", \"1999-04-30\", \"1999-05-31\", \"1999-06-30\", \"1999-07-31\", \"1999-08-31\", \"1999-09-30\", \"1999-10-31\", \"1999-11-30\", \"1999-12-31\", \"2000-01-31\", \"2000-02-29\", \"2000-03-31\", \"2000-04-30\", \"2000-05-31\", \"2000-06-30\", \"2000-07-31\", \"2000-08-31\", \"2000-09-30\", \"2000-10-31\", \"2000-11-30\", \"2000-12-31\", \"2001-01-31\", \"2001-02-28\", \"2001-03-31\", \"2001-04-30\", \"2001-05-31\", \"2001-06-30\", \"2001-07-31\", \"2001-08-31\", \"2001-09-30\", \"2001-10-31\", \"2001-11-30\", \"2001-12-31\", \"2002-01-31\", \"2002-02-28\", \"2002-03-31\", \"2002-04-30\", \"2002-05-31\", \"2002-06-30\", \"2002-07-31\", \"2002-08-31\", \"2002-09-30\", \"2002-10-31\", \"2002-11-30\", \"2002-12-31\", \"2003-01-31\", \"2003-02-28\", \"2003-03-31\", \"2003-04-30\", \"2003-05-31\", \"2003-06-30\", \"2003-07-31\", \"2003-08-31\", \"2003-09-30\", \"2003-10-31\", \"2003-11-30\", \"2003-12-31\", \"2004-01-31\", \"2004-02-29\", \"2004-03-31\", \"2004-04-30\", \"2004-05-31\", \"2004-06-30\", \"2004-07-31\", \"2004-08-31\", \"2004-09-30\", \"2004-10-31\", \"2004-11-30\", \"2004-12-31\", \"2005-01-31\", \"2005-02-28\", \"2005-03-31\", \"2005-04-30\", \"2005-05-31\", \"2005-06-30\", \"2005-07-31\", \"2005-08-31\", \"2005-09-30\", \"2005-10-31\", \"2005-11-30\", \"2005-12-31\", \"2006-01-31\", \"2006-02-28\", \"2006-03-31\", \"2006-04-30\", \"2006-05-31\", \"2006-06-30\", \"2006-07-31\", \"2006-08-31\", \"2006-09-30\", \"2006-10-31\", \"2006-11-30\", \"2006-12-31\", \"2007-01-31\", \"2007-02-28\", \"2007-03-31\", \"2007-04-30\", \"2007-05-31\", \"2007-06-30\", \"2007-07-31\", \"2007-08-31\", \"2007-09-30\", \"2007-10-31\", \"2007-11-30\", \"2007-12-31\", \"2008-01-31\", \"2008-02-29\", \"2008-03-31\", \"2008-04-30\", \"2008-05-31\", \"2008-06-30\", \"2008-07-31\", \"2008-08-31\", \"2008-09-30\", \"2008-10-31\", \"2008-11-30\", \"2008-12-31\", \"2009-01-31\", \"2009-02-28\", \"2009-03-31\", \"2009-04-30\", \"2009-05-31\", \"2009-06-30\", \"2009-07-31\", \"2009-08-31\", \"2009-09-30\", \"2009-10-31\", \"2009-11-30\", \"2009-12-31\", \"2010-01-31\", \"2010-02-28\", \"2010-03-31\", \"2010-04-30\", \"2010-05-31\", \"2010-06-30\", \"2010-07-31\", \"2010-08-31\", \"2010-09-30\", \"2010-10-31\", \"2010-11-30\", \"2010-12-31\", \"2011-01-31\", \"2011-02-28\", \"2011-03-31\", \"2011-04-30\", \"2011-05-31\", \"2011-06-30\", \"2011-07-31\", \"2011-08-31\", \"2011-09-30\", \"2011-10-31\", \"2011-11-30\", \"2011-12-31\", \"2012-01-31\", \"2012-02-29\", \"2012-03-31\", \"2012-04-30\", \"2012-05-31\", \"2012-06-30\", \"2012-07-31\", \"2012-08-31\", \"2012-09-30\", \"2012-10-31\", \"2012-11-30\", \"2012-12-31\", \"2013-01-31\", \"2013-02-28\", \"2013-03-31\", \"2013-04-30\", \"2013-05-31\", \"2013-06-30\", \"2013-07-31\", \"2013-08-31\", \"2013-09-30\", \"2013-10-31\", \"2013-11-30\", \"2013-12-31\", \"2014-01-31\", \"2014-02-28\", \"2014-03-31\", \"2014-04-30\", \"2014-05-31\", \"2014-06-30\", \"2014-07-31\", \"2014-08-31\", \"2014-09-30\", \"2014-10-31\", \"2014-11-30\", \"2014-12-31\", \"2015-01-31\", \"2015-02-28\", \"2015-03-31\", \"2015-04-30\", \"2015-05-31\", \"2015-06-30\", \"2015-07-31\", \"2015-08-31\", \"2015-09-30\", \"2015-10-31\", \"2015-11-30\", \"2015-12-31\", \"2016-01-31\", \"2016-02-29\", \"2016-03-31\", \"2016-04-30\", \"2016-05-31\", \"2016-06-30\", \"2016-07-31\", \"2016-08-31\", \"2016-09-30\", \"2016-10-31\", \"2016-11-30\", \"2016-12-31\", \"2017-01-31\", \"2017-02-28\", \"2017-03-31\", \"2017-04-30\", \"2017-05-31\", \"2017-06-30\", \"2017-07-31\", \"2017-08-31\", \"2017-09-30\", \"2017-10-31\", \"2017-11-30\", \"2017-12-31\", \"2018-01-31\", \"2018-02-28\", \"2018-03-31\", \"2018-04-30\", \"2018-05-31\", \"2018-06-30\", \"2018-07-31\", \"2018-08-31\", \"2018-09-30\", \"2018-10-31\", \"2018-11-30\", \"2018-12-31\", \"2019-01-31\", \"2019-02-28\", \"2019-03-31\", \"2019-04-30\", \"2019-05-31\", \"2019-06-30\", \"2019-07-31\", \"2019-08-31\", \"2019-09-30\", \"2019-10-31\", \"2019-11-30\", \"2019-12-31\", \"2020-01-31\", \"2020-02-29\", \"2020-03-31\", \"2020-04-30\", \"2020-05-31\", \"2020-06-30\", \"2020-07-31\"], \"xaxis\": \"x\", \"y\": [\"120,921.0\", \"121,198.0\", \"120,390.0\", \"120,078.0\", \"119,395.0\", \"119,150.0\", \"117,635.0\", \"116,853.0\", \"116,720.0\", \"117,320.0\", \"117,444.0\", \"117,375.0\", \"116,834.0\", \"115,304.0\", \"114,569.0\", \"113,737.0\", \"113,886.0\", \"114,005.0\", \"115,343.0\", \"115,733.0\", \"114,609.0\", \"112,271.0\", \"109,723.0\", \"107,058.0\", \"105,294.0\", \"104,737.0\", \"104,751.0\", \"103,816.0\", \"101,919.0\", \"99,038.0\", \"96,857.0\", \"94,886.0\", \"94,063.0\", \"93,576.0\", \"94,303.0\", \"95,317.0\", \"96,062.0\", \"96,377.0\", \"96,352.0\", \"96,532.0\", \"96,917.0\", \"97,761.0\", \"98,247.0\", \"98,122.0\", \"97,473.0\", \"96,970.0\", \"96,505.0\", \"96,831.0\", \"96,715.0\", \"95,634.0\", \"93,134.0\", \"90,507.0\", \"88,958.0\", \"88,040.0\", \"87,683.0\", \"87,850.0\", \"88,285.0\", \"87,971.0\", \"86,783.0\", \"84,871.0\", \"83,271.0\", \"83,207.0\", \"84,484.0\", \"86,812.0\", \"87,774.0\", \"89,066.0\", \"89,543.0\", \"90,382.0\", \"89,970.0\", \"89,705.0\", \"89,427.0\", \"89,441.0\", \"89,695.0\", \"89,688.0\", \"89,497.0\", \"89,233.0\", \"89,231.0\", \"88,427.0\", \"88,106.0\", \"87,776.0\", \"89,021.0\", \"90,192.0\", \"91,365.0\", \"92,272.0\", \"93,187.0\", \"93,964.0\", \"94,625.0\", \"94,500.0\", \"95,220.0\", \"95,842.0\", \"96,143.0\", \"95,495.0\", \"94,366.0\", \"94,135.0\", \"94,772.0\", \"96,317.0\", \"97,258.0\", \"97,235.0\", \"96,690.0\", \"96,855.0\", \"97,444.0\", \"98,536.0\", \"99,676.0\", \"100,935.0\", \"102,360.0\", \"103,548.0\", \"104,749.0\", \"105,289.0\", \"106,587.0\", \"108,642.0\", \"110,628.0\", \"111,968.0\", \"112,187.0\", \"113,106.0\", \"114,264.0\", \"116,094.0\", \"117,312.0\", \"118,356.0\", \"118,679.0\", \"119,029.0\", \"118,969.0\", \"119,438.0\", \"120,851.0\", \"122,762.0\", \"125,200.0\", \"126,994.0\", \"128,156.0\", \"128,319.0\", \"128,516.0\", \"129,121.0\", \"130,601.0\", \"132,418.0\", \"134,339.0\", \"135,486.0\", \"136,725.0\", \"137,826.0\", \"138,868.0\", \"139,684.0\", \"141,023.0\", \"143,151.0\", \"144,899.0\", \"146,036.0\", \"146,371.0\", \"146,110.0\", \"145,153.0\", \"143,774.0\", \"142,265.0\", \"141,178.0\", \"140,458.0\", \"138,254.0\", \"136,138.0\", \"134,863.0\", \"136,447.0\", \"137,790.0\", \"138,211.0\", \"137,956.0\", \"138,063.0\", \"139,177.0\", \"138,987.0\", \"137,985.0\", \"135,633.0\", \"135,450.0\", \"135,384.0\", \"134,713.0\", \"132,070.0\", \"129,989.0\", \"129,211.0\", \"128,919.0\", \"128,589.0\", \"127,346.0\", \"127,145.0\", \"127,388.0\", \"128,844.0\", \"129,882.0\", \"130,734.0\", \"130,556.0\", \"129,658.0\", \"128,918.0\", \"128,638.0\", \"128,932.0\", \"128,770.0\", \"128,859.0\", \"128,619.0\", \"128,491.0\", \"127,980.0\", \"126,995.0\", \"124,977.0\", \"124,144.0\", \"123,859.0\", \"123,292.0\", \"121,229.0\", \"118,874.0\", \"117,684.0\", \"116,937.0\", \"116,665.0\", \"115,614.0\", \"114,127.0\", \"112,513.0\", \"112,993.0\", \"113,492.0\", \"114,608.0\", \"115,158.0\", \"116,359.0\", \"117,205.0\", \"117,371.0\", \"117,284.0\", \"116,900.0\", \"117,651.0\", \"118,964.0\", \"120,400.0\", \"120,632.0\", \"120,267.0\", \"119,448.0\", \"118,704.0\", \"117,887.0\", \"117,529.0\", \"117,535.0\", \"117,860.0\", \"118,249.0\", \"118,243.0\", \"118,367.0\", \"118,912.0\", \"118,866.0\", \"118,594.0\", \"117,348.0\", \"116,812.0\", \"116,538.0\", \"116,793.0\", \"117,070.0\", \"116,911.0\", \"116,638.0\", \"115,926.0\", \"114,962.0\", \"113,678.0\", \"112,689.0\", \"112,280.0\", \"112,678.0\", \"112,988.0\", \"112,846.0\", \"113,047.0\", \"112,978.0\", \"112,958.0\", \"112,102.0\", \"111,267.0\", \"109,926.0\", \"108,310.0\", \"107,525.0\", \"107,216.0\", \"107,618.0\", \"108,240.0\", \"109,897.0\", \"109,669.0\", \"108,841.0\", \"107,517.0\", \"107,765.0\", \"108,704.0\", \"110,998.0\", \"114,324.0\", \"117,336.0\", \"119,446.0\", \"120,626.0\", \"121,015.0\", \"120,072.0\", \"119,880.0\", \"120,850.0\", \"122,905.0\", \"123,970.0\", \"124,892.0\", \"125,118.0\", \"125,436.0\", \"124,973.0\", \"125,637.0\", \"126,423.0\", \"127,253.0\", \"127,811.0\", \"129,066.0\", \"130,552.0\", \"132,180.0\", \"133,412.0\", \"133,863.0\", \"132,918.0\", \"131,127.0\", \"130,009.0\", \"128,624.0\", \"127,492.0\", \"126,574.0\", \"126,287.0\", \"125,489.0\", \"124,069.0\", \"122,115.0\", \"120,599.0\", \"119,505.0\", \"121,503.0\", \"122,226.0\", \"123,593.0\"], \"yaxis\": \"y\"}],\n",
              "                        {\"legend\": {\"orientation\": \"h\", \"tracegroupgap\": 0, \"x\": 1, \"xanchor\": \"right\", \"y\": 1.02, \"yanchor\": \"bottom\"}, \"template\": {\"data\": {\"bar\": [{\"error_x\": {\"color\": \"#2a3f5f\"}, \"error_y\": {\"color\": \"#2a3f5f\"}, \"marker\": {\"line\": {\"color\": \"#E5ECF6\", \"width\": 0.5}}, \"type\": \"bar\"}], \"barpolar\": [{\"marker\": {\"line\": {\"color\": \"#E5ECF6\", \"width\": 0.5}}, \"type\": \"barpolar\"}], \"carpet\": [{\"aaxis\": {\"endlinecolor\": \"#2a3f5f\", \"gridcolor\": \"white\", \"linecolor\": \"white\", \"minorgridcolor\": \"white\", \"startlinecolor\": \"#2a3f5f\"}, \"baxis\": {\"endlinecolor\": \"#2a3f5f\", \"gridcolor\": \"white\", \"linecolor\": \"white\", \"minorgridcolor\": \"white\", \"startlinecolor\": \"#2a3f5f\"}, \"type\": \"carpet\"}], \"choropleth\": [{\"colorbar\": {\"outlinewidth\": 0, \"ticks\": \"\"}, \"type\": \"choropleth\"}], \"contour\": [{\"colorbar\": {\"outlinewidth\": 0, \"ticks\": \"\"}, \"colorscale\": [[0.0, \"#0d0887\"], [0.1111111111111111, \"#46039f\"], [0.2222222222222222, \"#7201a8\"], [0.3333333333333333, \"#9c179e\"], [0.4444444444444444, \"#bd3786\"], [0.5555555555555556, \"#d8576b\"], [0.6666666666666666, \"#ed7953\"], [0.7777777777777778, \"#fb9f3a\"], [0.8888888888888888, \"#fdca26\"], [1.0, \"#f0f921\"]], \"type\": \"contour\"}], \"contourcarpet\": [{\"colorbar\": {\"outlinewidth\": 0, \"ticks\": \"\"}, \"type\": \"contourcarpet\"}], \"heatmap\": [{\"colorbar\": {\"outlinewidth\": 0, \"ticks\": \"\"}, \"colorscale\": [[0.0, \"#0d0887\"], [0.1111111111111111, \"#46039f\"], [0.2222222222222222, \"#7201a8\"], [0.3333333333333333, \"#9c179e\"], [0.4444444444444444, \"#bd3786\"], [0.5555555555555556, \"#d8576b\"], [0.6666666666666666, \"#ed7953\"], [0.7777777777777778, \"#fb9f3a\"], [0.8888888888888888, \"#fdca26\"], [1.0, \"#f0f921\"]], \"type\": \"heatmap\"}], \"heatmapgl\": [{\"colorbar\": {\"outlinewidth\": 0, \"ticks\": \"\"}, \"colorscale\": [[0.0, \"#0d0887\"], [0.1111111111111111, \"#46039f\"], [0.2222222222222222, \"#7201a8\"], [0.3333333333333333, \"#9c179e\"], [0.4444444444444444, \"#bd3786\"], [0.5555555555555556, \"#d8576b\"], [0.6666666666666666, \"#ed7953\"], [0.7777777777777778, \"#fb9f3a\"], [0.8888888888888888, \"#fdca26\"], [1.0, \"#f0f921\"]], \"type\": \"heatmapgl\"}], \"histogram\": [{\"marker\": {\"colorbar\": {\"outlinewidth\": 0, \"ticks\": \"\"}}, \"type\": \"histogram\"}], \"histogram2d\": [{\"colorbar\": {\"outlinewidth\": 0, \"ticks\": \"\"}, \"colorscale\": [[0.0, \"#0d0887\"], [0.1111111111111111, \"#46039f\"], [0.2222222222222222, \"#7201a8\"], [0.3333333333333333, \"#9c179e\"], [0.4444444444444444, \"#bd3786\"], [0.5555555555555556, \"#d8576b\"], [0.6666666666666666, \"#ed7953\"], [0.7777777777777778, \"#fb9f3a\"], [0.8888888888888888, \"#fdca26\"], [1.0, \"#f0f921\"]], \"type\": \"histogram2d\"}], \"histogram2dcontour\": [{\"colorbar\": {\"outlinewidth\": 0, \"ticks\": \"\"}, \"colorscale\": [[0.0, \"#0d0887\"], [0.1111111111111111, \"#46039f\"], [0.2222222222222222, \"#7201a8\"], [0.3333333333333333, \"#9c179e\"], [0.4444444444444444, \"#bd3786\"], [0.5555555555555556, \"#d8576b\"], [0.6666666666666666, \"#ed7953\"], [0.7777777777777778, \"#fb9f3a\"], [0.8888888888888888, \"#fdca26\"], [1.0, \"#f0f921\"]], \"type\": \"histogram2dcontour\"}], \"mesh3d\": [{\"colorbar\": {\"outlinewidth\": 0, \"ticks\": \"\"}, \"type\": \"mesh3d\"}], \"parcoords\": [{\"line\": {\"colorbar\": {\"outlinewidth\": 0, \"ticks\": \"\"}}, \"type\": \"parcoords\"}], \"pie\": [{\"automargin\": true, \"type\": \"pie\"}], \"scatter\": [{\"marker\": {\"colorbar\": {\"outlinewidth\": 0, \"ticks\": \"\"}}, \"type\": \"scatter\"}], \"scatter3d\": [{\"line\": {\"colorbar\": {\"outlinewidth\": 0, \"ticks\": \"\"}}, \"marker\": {\"colorbar\": {\"outlinewidth\": 0, \"ticks\": \"\"}}, \"type\": \"scatter3d\"}], \"scattercarpet\": [{\"marker\": {\"colorbar\": {\"outlinewidth\": 0, \"ticks\": \"\"}}, \"type\": \"scattercarpet\"}], \"scattergeo\": [{\"marker\": {\"colorbar\": {\"outlinewidth\": 0, \"ticks\": \"\"}}, \"type\": \"scattergeo\"}], \"scattergl\": [{\"marker\": {\"colorbar\": {\"outlinewidth\": 0, \"ticks\": \"\"}}, \"type\": \"scattergl\"}], \"scattermapbox\": [{\"marker\": {\"colorbar\": {\"outlinewidth\": 0, \"ticks\": \"\"}}, \"type\": \"scattermapbox\"}], \"scatterpolar\": [{\"marker\": {\"colorbar\": {\"outlinewidth\": 0, \"ticks\": \"\"}}, \"type\": \"scatterpolar\"}], \"scatterpolargl\": [{\"marker\": {\"colorbar\": {\"outlinewidth\": 0, \"ticks\": \"\"}}, \"type\": \"scatterpolargl\"}], \"scatterternary\": [{\"marker\": {\"colorbar\": {\"outlinewidth\": 0, \"ticks\": \"\"}}, \"type\": \"scatterternary\"}], \"surface\": [{\"colorbar\": {\"outlinewidth\": 0, \"ticks\": \"\"}, \"colorscale\": [[0.0, \"#0d0887\"], [0.1111111111111111, \"#46039f\"], [0.2222222222222222, \"#7201a8\"], [0.3333333333333333, \"#9c179e\"], [0.4444444444444444, \"#bd3786\"], [0.5555555555555556, \"#d8576b\"], [0.6666666666666666, \"#ed7953\"], [0.7777777777777778, \"#fb9f3a\"], [0.8888888888888888, \"#fdca26\"], [1.0, \"#f0f921\"]], \"type\": \"surface\"}], \"table\": [{\"cells\": {\"fill\": {\"color\": \"#EBF0F8\"}, \"line\": {\"color\": \"white\"}}, \"header\": {\"fill\": {\"color\": \"#C8D4E3\"}, \"line\": {\"color\": \"white\"}}, \"type\": \"table\"}]}, \"layout\": {\"annotationdefaults\": {\"arrowcolor\": \"#2a3f5f\", \"arrowhead\": 0, \"arrowwidth\": 1}, \"coloraxis\": {\"colorbar\": {\"outlinewidth\": 0, \"ticks\": \"\"}}, \"colorscale\": {\"diverging\": [[0, \"#8e0152\"], [0.1, \"#c51b7d\"], [0.2, \"#de77ae\"], [0.3, \"#f1b6da\"], [0.4, \"#fde0ef\"], [0.5, \"#f7f7f7\"], [0.6, \"#e6f5d0\"], [0.7, \"#b8e186\"], [0.8, \"#7fbc41\"], [0.9, \"#4d9221\"], [1, \"#276419\"]], \"sequential\": [[0.0, \"#0d0887\"], [0.1111111111111111, \"#46039f\"], [0.2222222222222222, \"#7201a8\"], [0.3333333333333333, \"#9c179e\"], [0.4444444444444444, \"#bd3786\"], [0.5555555555555556, \"#d8576b\"], [0.6666666666666666, \"#ed7953\"], [0.7777777777777778, \"#fb9f3a\"], [0.8888888888888888, \"#fdca26\"], [1.0, \"#f0f921\"]], \"sequentialminus\": [[0.0, \"#0d0887\"], [0.1111111111111111, \"#46039f\"], [0.2222222222222222, \"#7201a8\"], [0.3333333333333333, \"#9c179e\"], [0.4444444444444444, \"#bd3786\"], [0.5555555555555556, \"#d8576b\"], [0.6666666666666666, \"#ed7953\"], [0.7777777777777778, \"#fb9f3a\"], [0.8888888888888888, \"#fdca26\"], [1.0, \"#f0f921\"]]}, \"colorway\": [\"#636efa\", \"#EF553B\", \"#00cc96\", \"#ab63fa\", \"#FFA15A\", \"#19d3f3\", \"#FF6692\", \"#B6E880\", \"#FF97FF\", \"#FECB52\"], \"font\": {\"color\": \"#2a3f5f\"}, \"geo\": {\"bgcolor\": \"white\", \"lakecolor\": \"white\", \"landcolor\": \"#E5ECF6\", \"showlakes\": true, \"showland\": true, \"subunitcolor\": \"white\"}, \"hoverlabel\": {\"align\": \"left\"}, \"hovermode\": \"closest\", \"mapbox\": {\"style\": \"light\"}, \"paper_bgcolor\": \"white\", \"plot_bgcolor\": \"#E5ECF6\", \"polar\": {\"angularaxis\": {\"gridcolor\": \"white\", \"linecolor\": \"white\", \"ticks\": \"\"}, \"bgcolor\": \"#E5ECF6\", \"radialaxis\": {\"gridcolor\": \"white\", \"linecolor\": \"white\", \"ticks\": \"\"}}, \"scene\": {\"xaxis\": {\"backgroundcolor\": \"#E5ECF6\", \"gridcolor\": \"white\", \"gridwidth\": 2, \"linecolor\": \"white\", \"showbackground\": true, \"ticks\": \"\", \"zerolinecolor\": \"white\"}, \"yaxis\": {\"backgroundcolor\": \"#E5ECF6\", \"gridcolor\": \"white\", \"gridwidth\": 2, \"linecolor\": \"white\", \"showbackground\": true, \"ticks\": \"\", \"zerolinecolor\": \"white\"}, \"zaxis\": {\"backgroundcolor\": \"#E5ECF6\", \"gridcolor\": \"white\", \"gridwidth\": 2, \"linecolor\": \"white\", \"showbackground\": true, \"ticks\": \"\", \"zerolinecolor\": \"white\"}}, \"shapedefaults\": {\"line\": {\"color\": \"#2a3f5f\"}}, \"ternary\": {\"aaxis\": {\"gridcolor\": \"white\", \"linecolor\": \"white\", \"ticks\": \"\"}, \"baxis\": {\"gridcolor\": \"white\", \"linecolor\": \"white\", \"ticks\": \"\"}, \"bgcolor\": \"#E5ECF6\", \"caxis\": {\"gridcolor\": \"white\", \"linecolor\": \"white\", \"ticks\": \"\"}}, \"title\": {\"x\": 0.05}, \"xaxis\": {\"automargin\": true, \"gridcolor\": \"white\", \"linecolor\": \"white\", \"ticks\": \"\", \"title\": {\"standoff\": 15}, \"zerolinecolor\": \"white\", \"zerolinewidth\": 2}, \"yaxis\": {\"automargin\": true, \"gridcolor\": \"white\", \"linecolor\": \"white\", \"ticks\": \"\", \"title\": {\"standoff\": 15}, \"zerolinecolor\": \"white\", \"zerolinewidth\": 2}}}, \"title\": {\"text\": \"Cost for 1 Bedroom Units Over Time in ['Albany, NY', 'Sacramento, CA', 'Austin, TX']\"}, \"xaxis\": {\"anchor\": \"y\", \"domain\": [0.0, 1.0], \"title\": {\"text\": \"Date\"}}, \"yaxis\": {\"anchor\": \"x\", \"domain\": [0.0, 1.0], \"title\": {\"text\": \"Value ($)\"}}},\n",
              "                        {\"responsive\": true}\n",
              "                    ).then(function(){\n",
              "                            \n",
              "var gd = document.getElementById('3bbacbfa-0cea-48e3-b24d-c1cd96da7109');\n",
              "var x = new MutationObserver(function (mutations, observer) {{\n",
              "        var display = window.getComputedStyle(gd).display;\n",
              "        if (!display || display === 'none') {{\n",
              "            console.log([gd, 'removed!']);\n",
              "            Plotly.purge(gd);\n",
              "            observer.disconnect();\n",
              "        }}\n",
              "}});\n",
              "\n",
              "// Listen for the removal of the full notebook cells\n",
              "var notebookContainer = gd.closest('#notebook-container');\n",
              "if (notebookContainer) {{\n",
              "    x.observe(notebookContainer, {childList: true});\n",
              "}}\n",
              "\n",
              "// Listen for the clearing of the current output cell\n",
              "var outputEl = gd.closest('.output');\n",
              "if (outputEl) {{\n",
              "    x.observe(outputEl, {childList: true});\n",
              "}}\n",
              "\n",
              "                        })\n",
              "                };\n",
              "                \n",
              "            </script>\n",
              "        </div>\n",
              "</body>\n",
              "</html>"
            ]
          },
          "metadata": {
            "tags": []
          }
        }
      ]
    },
    {
      "cell_type": "code",
      "metadata": {
        "id": "Fw8_CFn8GWFS",
        "outputId": "b09c7754-1b9a-421d-ca1d-a26d54c72a05",
        "colab": {
          "base_uri": "https://localhost:8080/",
          "height": 103
        }
      },
      "source": [
        "fig.to_json()"
      ],
      "execution_count": 15,
      "outputs": [
        {
          "output_type": "execute_result",
          "data": {
            "application/vnd.google.colaboratory.intrinsic+json": {
              "type": "string"
            },
            "text/plain": [
              "'{\"data\":[{\"hoverlabel\":{\"namelength\":0},\"hovertemplate\":\"City=Sacramento, CA<br>Date=%{x}<br>Value ($)=%{y}\",\"legendgroup\":\"City=Sacramento, CA\",\"line\":{\"color\":\"#636efa\",\"dash\":\"solid\"},\"mode\":\"lines\",\"name\":\"Sacramento, CA\",\"showlegend\":true,\"type\":\"scatter\",\"x\":[\"1996-01-31\",\"1996-02-29\",\"1996-03-31\",\"1996-04-30\",\"1996-05-31\",\"1996-06-30\",\"1996-07-31\",\"1996-08-31\",\"1996-09-30\",\"1996-10-31\",\"1996-11-30\",\"1996-12-31\",\"1997-01-31\",\"1997-02-28\",\"1997-03-31\",\"1997-04-30\",\"1997-05-31\",\"1997-06-30\",\"1997-07-31\",\"1997-08-31\",\"1997-09-30\",\"1997-10-31\",\"1997-11-30\",\"1997-12-31\",\"1998-01-31\",\"1998-02-28\",\"1998-03-31\",\"1998-04-30\",\"1998-05-31\",\"1998-06-30\",\"1998-07-31\",\"1998-08-31\",\"1998-09-30\",\"1998-10-31\",\"1998-11-30\",\"1998-12-31\",\"1999-01-31\",\"1999-02-28\",\"1999-03-31\",\"1999-04-30\",\"1999-05-31\",\"1999-06-30\",\"1999-07-31\",\"1999-08-31\",\"1999-09-30\",\"1999-10-31\",\"1999-11-30\",\"1999-12-31\",\"2000-01-31\",\"2000-02-29\",\"2000-03-31\",\"2000-04-30\",\"2000-05-31\",\"2000-06-30\",\"2000-07-31\",\"2000-08-31\",\"2000-09-30\",\"2000-10-31\",\"2000-11-30\",\"2000-12-31\",\"2001-01-31\",\"2001-02-28\",\"2001-03-31\",\"2001-04-30\",\"2001-05-31\",\"2001-06-30\",\"2001-07-31\",\"2001-08-31\",\"2001-09-30\",\"2001-10-31\",\"2001-11-30\",\"2001-12-31\",\"2002-01-31\",\"2002-02-28\",\"2002-03-31\",\"2002-04-30\",\"2002-05-31\",\"2002-06-30\",\"2002-07-31\",\"2002-08-31\",\"2002-09-30\",\"2002-10-31\",\"2002-11-30\",\"2002-12-31\",\"2003-01-31\",\"2003-02-28\",\"2003-03-31\",\"2003-04-30\",\"2003-05-31\",\"2003-06-30\",\"2003-07-31\",\"2003-08-31\",\"2003-09-30\",\"2003-10-31\",\"2003-11-30\",\"2003-12-31\",\"2004-01-31\",\"2004-02-29\",\"2004-03-31\",\"2004-04-30\",\"2004-05-31\",\"2004-06-30\",\"2004-07-31\",\"2004-08-31\",\"2004-09-30\",\"2004-10-31\",\"2004-11-30\",\"2004-12-31\",\"2005-01-31\",\"2005-02-28\",\"2005-03-31\",\"2005-04-30\",\"2005-05-31\",\"2005-06-30\",\"2005-07-31\",\"2005-08-31\",\"2005-09-30\",\"2005-10-31\",\"2005-11-30\",\"2005-12-31\",\"2006-01-31\",\"2006-02-28\",\"2006-03-31\",\"2006-04-30\",\"2006-05-31\",\"2006-06-30\",\"2006-07-31\",\"2006-08-31\",\"2006-09-30\",\"2006-10-31\",\"2006-11-30\",\"2006-12-31\",\"2007-01-31\",\"2007-02-28\",\"2007-03-31\",\"2007-04-30\",\"2007-05-31\",\"2007-06-30\",\"2007-07-31\",\"2007-08-31\",\"2007-09-30\",\"2007-10-31\",\"2007-11-30\",\"2007-12-31\",\"2008-01-31\",\"2008-02-29\",\"2008-03-31\",\"2008-04-30\",\"2008-05-31\",\"2008-06-30\",\"2008-07-31\",\"2008-08-31\",\"2008-09-30\",\"2008-10-31\",\"2008-11-30\",\"2008-12-31\",\"2009-01-31\",\"2009-02-28\",\"2009-03-31\",\"2009-04-30\",\"2009-05-31\",\"2009-06-30\",\"2009-07-31\",\"2009-08-31\",\"2009-09-30\",\"2009-10-31\",\"2009-11-30\",\"2009-12-31\",\"2010-01-31\",\"2010-02-28\",\"2010-03-31\",\"2010-04-30\",\"2010-05-31\",\"2010-06-30\",\"2010-07-31\",\"2010-08-31\",\"2010-09-30\",\"2010-10-31\",\"2010-11-30\",\"2010-12-31\",\"2011-01-31\",\"2011-02-28\",\"2011-03-31\",\"2011-04-30\",\"2011-05-31\",\"2011-06-30\",\"2011-07-31\",\"2011-08-31\",\"2011-09-30\",\"2011-10-31\",\"2011-11-30\",\"2011-12-31\",\"2012-01-31\",\"2012-02-29\",\"2012-03-31\",\"2012-04-30\",\"2012-05-31\",\"2012-06-30\",\"2012-07-31\",\"2012-08-31\",\"2012-09-30\",\"2012-10-31\",\"2012-11-30\",\"2012-12-31\",\"2013-01-31\",\"2013-02-28\",\"2013-03-31\",\"2013-04-30\",\"2013-05-31\",\"2013-06-30\",\"2013-07-31\",\"2013-08-31\",\"2013-09-30\",\"2013-10-31\",\"2013-11-30\",\"2013-12-31\",\"2014-01-31\",\"2014-02-28\",\"2014-03-31\",\"2014-04-30\",\"2014-05-31\",\"2014-06-30\",\"2014-07-31\",\"2014-08-31\",\"2014-09-30\",\"2014-10-31\",\"2014-11-30\",\"2014-12-31\",\"2015-01-31\",\"2015-02-28\",\"2015-03-31\",\"2015-04-30\",\"2015-05-31\",\"2015-06-30\",\"2015-07-31\",\"2015-08-31\",\"2015-09-30\",\"2015-10-31\",\"2015-11-30\",\"2015-12-31\",\"2016-01-31\",\"2016-02-29\",\"2016-03-31\",\"2016-04-30\",\"2016-05-31\",\"2016-06-30\",\"2016-07-31\",\"2016-08-31\",\"2016-09-30\",\"2016-10-31\",\"2016-11-30\",\"2016-12-31\",\"2017-01-31\",\"2017-02-28\",\"2017-03-31\",\"2017-04-30\",\"2017-05-31\",\"2017-06-30\",\"2017-07-31\",\"2017-08-31\",\"2017-09-30\",\"2017-10-31\",\"2017-11-30\",\"2017-12-31\",\"2018-01-31\",\"2018-02-28\",\"2018-03-31\",\"2018-04-30\",\"2018-05-31\",\"2018-06-30\",\"2018-07-31\",\"2018-08-31\",\"2018-09-30\",\"2018-10-31\",\"2018-11-30\",\"2018-12-31\",\"2019-01-31\",\"2019-02-28\",\"2019-03-31\",\"2019-04-30\",\"2019-05-31\",\"2019-06-30\",\"2019-07-31\",\"2019-08-31\",\"2019-09-30\",\"2019-10-31\",\"2019-11-30\",\"2019-12-31\",\"2020-01-31\",\"2020-02-29\",\"2020-03-31\",\"2020-04-30\",\"2020-05-31\",\"2020-06-30\",\"2020-07-31\"],\"xaxis\":\"x\",\"y\":[\"73,384.0\",\"72,665.0\",\"72,175.0\",\"71,533.0\",\"70,853.0\",\"69,936.0\",\"68,966.0\",\"68,531.0\",\"68,457.0\",\"68,521.0\",\"68,664.0\",\"68,831.0\",\"68,748.0\",\"68,662.0\",\"68,796.0\",\"68,604.0\",\"68,778.0\",\"69,220.0\",\"69,760.0\",\"69,527.0\",\"68,760.0\",\"68,003.0\",\"67,309.0\",\"66,922.0\",\"66,975.0\",\"67,521.0\",\"67,836.0\",\"68,089.0\",\"68,072.0\",\"68,287.0\",\"68,819.0\",\"69,716.0\",\"71,060.0\",\"72,159.0\",\"73,251.0\",\"73,990.0\",\"74,710.0\",\"75,213.0\",\"75,380.0\",\"75,486.0\",\"75,649.0\",\"76,080.0\",\"76,033.0\",\"75,991.0\",\"75,632.0\",\"75,792.0\",\"75,887.0\",\"75,997.0\",\"76,189.0\",\"76,464.0\",\"77,232.0\",\"77,967.0\",\"78,789.0\",\"79,216.0\",\"80,136.0\",\"81,155.0\",\"82,578.0\",\"83,862.0\",\"85,264.0\",\"86,798.0\",\"88,373.0\",\"89,874.0\",\"91,466.0\",\"93,266.0\",\"95,068.0\",\"96,898.0\",\"98,386.0\",\"99,486.0\",\"100,247.0\",\"100,981.0\",\"101,775.0\",\"103,092.0\",\"104,394.0\",\"106,338.0\",\"107,813.0\",\"109,381.0\",\"110,862.0\",\"112,888.0\",\"115,196.0\",\"117,921.0\",\"120,966.0\",\"124,164.0\",\"127,977.0\",\"131,265.0\",\"134,362.0\",\"136,400.0\",\"138,944.0\",\"142,173.0\",\"145,453.0\",\"148,220.0\",\"150,232.0\",\"152,538.0\",\"154,802.0\",\"157,405.0\",\"159,458.0\",\"161,701.0\",\"163,942.0\",\"166,615.0\",\"169,644.0\",\"171,831.0\",\"174,768.0\",\"177,981.0\",\"182,815.0\",\"187,662.0\",\"192,217.0\",\"196,347.0\",\"200,376.0\",\"204,447.0\",\"209,121.0\",\"214,121.0\",\"218,598.0\",\"222,594.0\",\"225,974.0\",\"229,424.0\",\"231,754.0\",\"233,558.0\",\"236,104.0\",\"239,678.0\",\"242,220.0\",\"244,003.0\",\"243,853.0\",\"243,609.0\",\"242,679.0\",\"243,105.0\",\"243,291.0\",\"243,826.0\",\"243,324.0\",\"242,488.0\",\"239,981.0\",\"236,123.0\",\"233,227.0\",\"229,473.0\",\"226,340.0\",\"223,029.0\",\"221,718.0\",\"220,076.0\",\"217,365.0\",\"212,662.0\",\"208,899.0\",\"205,212.0\",\"202,084.0\",\"196,971.0\",\"192,262.0\",\"189,325.0\",\"187,973.0\",\"185,567.0\",\"180,805.0\",\"174,336.0\",\"168,299.0\",\"163,808.0\",\"159,697.0\",\"155,630.0\",\"151,385.0\",\"149,510.0\",\"147,170.0\",\"144,564.0\",\"140,793.0\",\"138,135.0\",\"135,663.0\",\"134,509.0\",\"133,786.0\",\"133,003.0\",\"131,429.0\",\"130,096.0\",\"129,948.0\",\"129,362.0\",\"128,097.0\",\"125,480.0\",\"123,003.0\",\"120,806.0\",\"119,665.0\",\"118,724.0\",\"118,024.0\",\"116,970.0\",\"115,891.0\",\"114,266.0\",\"111,785.0\",\"109,583.0\",\"108,330.0\",\"108,504.0\",\"108,873.0\",\"108,638.0\",\"107,640.0\",\"105,856.0\",\"103,820.0\",\"102,329.0\",\"101,485.0\",\"101,265.0\",\"100,761.0\",\"99,632.0\",\"98,702.0\",\"97,744.0\",\"97,039.0\",\"96,581.0\",\"96,464.0\",\"97,180.0\",\"97,693.0\",\"97,843.0\",\"98,100.0\",\"98,577.0\",\"100,038.0\",\"102,011.0\",\"104,094.0\",\"106,322.0\",\"108,887.0\",\"111,597.0\",\"114,772.0\",\"118,181.0\",\"122,511.0\",\"127,022.0\",\"130,845.0\",\"133,527.0\",\"135,720.0\",\"138,450.0\",\"140,987.0\",\"143,797.0\",\"145,462.0\",\"146,995.0\",\"147,794.0\",\"148,027.0\",\"147,923.0\",\"148,321.0\",\"150,750.0\",\"154,618.0\",\"158,353.0\",\"159,877.0\",\"160,864.0\",\"160,384.0\",\"161,565.0\",\"163,230.0\",\"165,852.0\",\"167,809.0\",\"169,196.0\",\"170,309.0\",\"170,961.0\",\"171,388.0\",\"172,527.0\",\"174,820.0\",\"177,352.0\",\"180,499.0\",\"182,515.0\",\"183,872.0\",\"185,023.0\",\"187,472.0\",\"190,650.0\",\"193,082.0\",\"194,125.0\",\"195,629.0\",\"196,908.0\",\"199,353.0\",\"201,756.0\",\"204,438.0\",\"207,663.0\",\"211,197.0\",\"214,806.0\",\"217,532.0\",\"219,694.0\",\"222,824.0\",\"226,255.0\",\"229,142.0\",\"231,331.0\",\"233,099.0\",\"234,912.0\",\"237,038.0\",\"239,682.0\",\"242,540.0\",\"244,233.0\",\"244,836.0\",\"246,274.0\",\"248,375.0\",\"250,553.0\",\"251,095.0\",\"251,296.0\",\"251,888.0\",\"252,882.0\",\"253,673.0\",\"252,731.0\",\"251,711.0\",\"250,887.0\",\"251,877.0\",\"253,233.0\",\"254,400.0\",\"255,667.0\",\"257,489.0\",\"259,726.0\",\"261,397.0\",\"262,535.0\",\"263,321.0\",\"264,896.0\",\"266,191.0\",\"267,762.0\",\"268,467.0\",\"264,126.0\",\"264,830.0\",\"267,215.0\"],\"yaxis\":\"y\"},{\"hoverlabel\":{\"namelength\":0},\"hovertemplate\":\"City=Austin, TX<br>Date=%{x}<br>Value ($)=%{y}\",\"legendgroup\":\"City=Austin, TX\",\"line\":{\"color\":\"#EF553B\",\"dash\":\"solid\"},\"mode\":\"lines\",\"name\":\"Austin, TX\",\"showlegend\":true,\"type\":\"scatter\",\"x\":[\"1996-01-31\",\"1996-02-29\",\"1996-03-31\",\"1996-04-30\",\"1996-05-31\",\"1996-06-30\",\"1996-07-31\",\"1996-08-31\",\"1996-09-30\",\"1996-10-31\",\"1996-11-30\",\"1996-12-31\",\"1997-01-31\",\"1997-02-28\",\"1997-03-31\",\"1997-04-30\",\"1997-05-31\",\"1997-06-30\",\"1997-07-31\",\"1997-08-31\",\"1997-09-30\",\"1997-10-31\",\"1997-11-30\",\"1997-12-31\",\"1998-01-31\",\"1998-02-28\",\"1998-03-31\",\"1998-04-30\",\"1998-05-31\",\"1998-06-30\",\"1998-07-31\",\"1998-08-31\",\"1998-09-30\",\"1998-10-31\",\"1998-11-30\",\"1998-12-31\",\"1999-01-31\",\"1999-02-28\",\"1999-03-31\",\"1999-04-30\",\"1999-05-31\",\"1999-06-30\",\"1999-07-31\",\"1999-08-31\",\"1999-09-30\",\"1999-10-31\",\"1999-11-30\",\"1999-12-31\",\"2000-01-31\",\"2000-02-29\",\"2000-03-31\",\"2000-04-30\",\"2000-05-31\",\"2000-06-30\",\"2000-07-31\",\"2000-08-31\",\"2000-09-30\",\"2000-10-31\",\"2000-11-30\",\"2000-12-31\",\"2001-01-31\",\"2001-02-28\",\"2001-03-31\",\"2001-04-30\",\"2001-05-31\",\"2001-06-30\",\"2001-07-31\",\"2001-08-31\",\"2001-09-30\",\"2001-10-31\",\"2001-11-30\",\"2001-12-31\",\"2002-01-31\",\"2002-02-28\",\"2002-03-31\",\"2002-04-30\",\"2002-05-31\",\"2002-06-30\",\"2002-07-31\",\"2002-08-31\",\"2002-09-30\",\"2002-10-31\",\"2002-11-30\",\"2002-12-31\",\"2003-01-31\",\"2003-02-28\",\"2003-03-31\",\"2003-04-30\",\"2003-05-31\",\"2003-06-30\",\"2003-07-31\",\"2003-08-31\",\"2003-09-30\",\"2003-10-31\",\"2003-11-30\",\"2003-12-31\",\"2004-01-31\",\"2004-02-29\",\"2004-03-31\",\"2004-04-30\",\"2004-05-31\",\"2004-06-30\",\"2004-07-31\",\"2004-08-31\",\"2004-09-30\",\"2004-10-31\",\"2004-11-30\",\"2004-12-31\",\"2005-01-31\",\"2005-02-28\",\"2005-03-31\",\"2005-04-30\",\"2005-05-31\",\"2005-06-30\",\"2005-07-31\",\"2005-08-31\",\"2005-09-30\",\"2005-10-31\",\"2005-11-30\",\"2005-12-31\",\"2006-01-31\",\"2006-02-28\",\"2006-03-31\",\"2006-04-30\",\"2006-05-31\",\"2006-06-30\",\"2006-07-31\",\"2006-08-31\",\"2006-09-30\",\"2006-10-31\",\"2006-11-30\",\"2006-12-31\",\"2007-01-31\",\"2007-02-28\",\"2007-03-31\",\"2007-04-30\",\"2007-05-31\",\"2007-06-30\",\"2007-07-31\",\"2007-08-31\",\"2007-09-30\",\"2007-10-31\",\"2007-11-30\",\"2007-12-31\",\"2008-01-31\",\"2008-02-29\",\"2008-03-31\",\"2008-04-30\",\"2008-05-31\",\"2008-06-30\",\"2008-07-31\",\"2008-08-31\",\"2008-09-30\",\"2008-10-31\",\"2008-11-30\",\"2008-12-31\",\"2009-01-31\",\"2009-02-28\",\"2009-03-31\",\"2009-04-30\",\"2009-05-31\",\"2009-06-30\",\"2009-07-31\",\"2009-08-31\",\"2009-09-30\",\"2009-10-31\",\"2009-11-30\",\"2009-12-31\",\"2010-01-31\",\"2010-02-28\",\"2010-03-31\",\"2010-04-30\",\"2010-05-31\",\"2010-06-30\",\"2010-07-31\",\"2010-08-31\",\"2010-09-30\",\"2010-10-31\",\"2010-11-30\",\"2010-12-31\",\"2011-01-31\",\"2011-02-28\",\"2011-03-31\",\"2011-04-30\",\"2011-05-31\",\"2011-06-30\",\"2011-07-31\",\"2011-08-31\",\"2011-09-30\",\"2011-10-31\",\"2011-11-30\",\"2011-12-31\",\"2012-01-31\",\"2012-02-29\",\"2012-03-31\",\"2012-04-30\",\"2012-05-31\",\"2012-06-30\",\"2012-07-31\",\"2012-08-31\",\"2012-09-30\",\"2012-10-31\",\"2012-11-30\",\"2012-12-31\",\"2013-01-31\",\"2013-02-28\",\"2013-03-31\",\"2013-04-30\",\"2013-05-31\",\"2013-06-30\",\"2013-07-31\",\"2013-08-31\",\"2013-09-30\",\"2013-10-31\",\"2013-11-30\",\"2013-12-31\",\"2014-01-31\",\"2014-02-28\",\"2014-03-31\",\"2014-04-30\",\"2014-05-31\",\"2014-06-30\",\"2014-07-31\",\"2014-08-31\",\"2014-09-30\",\"2014-10-31\",\"2014-11-30\",\"2014-12-31\",\"2015-01-31\",\"2015-02-28\",\"2015-03-31\",\"2015-04-30\",\"2015-05-31\",\"2015-06-30\",\"2015-07-31\",\"2015-08-31\",\"2015-09-30\",\"2015-10-31\",\"2015-11-30\",\"2015-12-31\",\"2016-01-31\",\"2016-02-29\",\"2016-03-31\",\"2016-04-30\",\"2016-05-31\",\"2016-06-30\",\"2016-07-31\",\"2016-08-31\",\"2016-09-30\",\"2016-10-31\",\"2016-11-30\",\"2016-12-31\",\"2017-01-31\",\"2017-02-28\",\"2017-03-31\",\"2017-04-30\",\"2017-05-31\",\"2017-06-30\",\"2017-07-31\",\"2017-08-31\",\"2017-09-30\",\"2017-10-31\",\"2017-11-30\",\"2017-12-31\",\"2018-01-31\",\"2018-02-28\",\"2018-03-31\",\"2018-04-30\",\"2018-05-31\",\"2018-06-30\",\"2018-07-31\",\"2018-08-31\",\"2018-09-30\",\"2018-10-31\",\"2018-11-30\",\"2018-12-31\",\"2019-01-31\",\"2019-02-28\",\"2019-03-31\",\"2019-04-30\",\"2019-05-31\",\"2019-06-30\",\"2019-07-31\",\"2019-08-31\",\"2019-09-30\",\"2019-10-31\",\"2019-11-30\",\"2019-12-31\",\"2020-01-31\",\"2020-02-29\",\"2020-03-31\",\"2020-04-30\",\"2020-05-31\",\"2020-06-30\",\"2020-07-31\"],\"xaxis\":\"x\",\"y\":[\"151,797.0\",\"151,397.0\",\"149,950.0\",\"148,615.0\",\"147,273.0\",\"147,383.0\",\"147,281.0\",\"148,144.0\",\"148,795.0\",\"148,874.0\",\"147,990.0\",\"148,091.0\",\"148,564.0\",\"149,434.0\",\"150,743.0\",\"152,117.0\",\"153,493.0\",\"153,202.0\",\"152,579.0\",\"150,992.0\",\"149,220.0\",\"148,969.0\",\"150,813.0\",\"152,105.0\",\"153,422.0\",\"153,428.0\",\"154,926.0\",\"155,088.0\",\"155,428.0\",\"156,040.0\",\"157,146.0\",\"158,051.0\",\"160,056.0\",\"161,570.0\",\"162,305.0\",\"161,368.0\",\"159,656.0\",\"158,679.0\",\"157,283.0\",\"155,804.0\",\"155,078.0\",\"153,515.0\",\"154,628.0\",\"155,460.0\",\"156,565.0\",\"156,411.0\",\"155,893.0\",\"156,797.0\",\"157,950.0\",\"159,744.0\",\"161,525.0\",\"164,739.0\",\"167,368.0\",\"170,763.0\",\"171,279.0\",\"173,427.0\",\"174,695.0\",\"177,085.0\",\"178,024.0\",\"178,607.0\",\"179,081.0\",\"179,499.0\",\"180,266.0\",\"179,361.0\",\"178,066.0\",\"176,127.0\",\"175,936.0\",\"175,471.0\",\"174,866.0\",\"174,442.0\",\"174,804.0\",\"175,432.0\",\"175,573.0\",\"175,064.0\",\"174,505.0\",\"175,350.0\",\"177,165.0\",\"179,369.0\",\"180,237.0\",\"181,263.0\",\"182,487.0\",\"183,369.0\",\"183,863.0\",\"183,660.0\",\"184,457.0\",\"185,363.0\",\"186,099.0\",\"185,780.0\",\"184,213.0\",\"182,998.0\",\"182,480.0\",\"180,347.0\",\"177,991.0\",\"174,595.0\",\"172,826.0\",\"171,450.0\",\"170,496.0\",\"170,298.0\",\"170,622.0\",\"170,842.0\",\"171,476.0\",\"171,844.0\",\"172,394.0\",\"174,469.0\",\"176,310.0\",\"179,541.0\",\"181,289.0\",\"183,643.0\",\"184,959.0\",\"186,455.0\",\"186,542.0\",\"188,064.0\",\"189,190.0\",\"190,659.0\",\"191,411.0\",\"191,351.0\",\"192,362.0\",\"192,508.0\",\"193,389.0\",\"193,024.0\",\"192,619.0\",\"191,410.0\",\"191,274.0\",\"189,958.0\",\"189,617.0\",\"188,790.0\",\"189,115.0\",\"189,403.0\",\"189,564.0\",\"189,709.0\",\"189,724.0\",\"190,180.0\",\"191,292.0\",\"192,512.0\",\"193,526.0\",\"194,545.0\",\"195,385.0\",\"196,744.0\",\"197,421.0\",\"198,506.0\",\"199,243.0\",\"200,586.0\",\"201,848.0\",\"202,708.0\",\"203,025.0\",\"202,764.0\",\"202,810.0\",\"202,833.0\",\"202,708.0\",\"201,621.0\",\"200,730.0\",\"199,722.0\",\"198,190.0\",\"195,932.0\",\"192,814.0\",\"190,862.0\",\"189,361.0\",\"188,737.0\",\"187,293.0\",\"185,940.0\",\"184,393.0\",\"183,625.0\",\"182,828.0\",\"181,620.0\",\"180,591.0\",\"180,132.0\",\"181,187.0\",\"181,668.0\",\"181,446.0\",\"180,661.0\",\"180,457.0\",\"180,325.0\",\"180,601.0\",\"180,362.0\",\"179,845.0\",\"179,247.0\",\"179,054.0\",\"178,923.0\",\"178,253.0\",\"177,411.0\",\"176,776.0\",\"176,282.0\",\"175,686.0\",\"175,066.0\",\"174,116.0\",\"173,694.0\",\"173,597.0\",\"174,259.0\",\"174,513.0\",\"174,471.0\",\"174,354.0\",\"174,371.0\",\"175,108.0\",\"176,029.0\",\"177,340.0\",\"178,398.0\",\"179,559.0\",\"180,881.0\",\"182,194.0\",\"183,414.0\",\"184,264.0\",\"185,143.0\",\"185,766.0\",\"187,422.0\",\"188,770.0\",\"190,630.0\",\"191,955.0\",\"194,382.0\",\"196,689.0\",\"198,701.0\",\"200,302.0\",\"201,492.0\",\"203,470.0\",\"205,660.0\",\"208,516.0\",\"210,200.0\",\"211,839.0\",\"212,987.0\",\"214,878.0\",\"216,544.0\",\"218,487.0\",\"220,039.0\",\"221,302.0\",\"222,905.0\",\"225,021.0\",\"227,224.0\",\"228,783.0\",\"230,087.0\",\"231,639.0\",\"233,535.0\",\"235,165.0\",\"236,096.0\",\"237,113.0\",\"238,787.0\",\"241,738.0\",\"244,405.0\",\"246,118.0\",\"247,086.0\",\"248,499.0\",\"250,790.0\",\"253,290.0\",\"255,133.0\",\"256,418.0\",\"257,606.0\",\"258,765.0\",\"259,941.0\",\"260,779.0\",\"261,666.0\",\"262,804.0\",\"264,832.0\",\"267,027.0\",\"268,722.0\",\"269,132.0\",\"269,595.0\",\"270,811.0\",\"272,705.0\",\"274,350.0\",\"274,999.0\",\"275,404.0\",\"275,888.0\",\"277,096.0\",\"278,056.0\",\"279,155.0\",\"280,122.0\",\"281,194.0\",\"282,205.0\",\"282,925.0\",\"283,111.0\",\"283,464.0\",\"285,036.0\",\"286,990.0\",\"289,079.0\",\"289,585.0\",\"290,968.0\",\"291,195.0\",\"292,767.0\",\"294,290.0\",\"296,959.0\",\"297,907.0\",\"298,223.0\",\"298,069.0\",\"298,552.0\",\"299,386.0\",\"300,087.0\",\"301,308.0\",\"301,877.0\",\"303,315.0\",\"303,949.0\",\"304,919.0\",\"305,128.0\",\"306,760.0\",\"309,111.0\",\"308,451.0\",\"310,515.0\",\"312,401.0\"],\"yaxis\":\"y\"},{\"hoverlabel\":{\"namelength\":0},\"hovertemplate\":\"City=Albany, NY<br>Date=%{x}<br>Value ($)=%{y}\",\"legendgroup\":\"City=Albany, NY\",\"line\":{\"color\":\"#00cc96\",\"dash\":\"solid\"},\"mode\":\"lines\",\"name\":\"Albany, NY\",\"showlegend\":true,\"type\":\"scatter\",\"x\":[\"1996-01-31\",\"1996-02-29\",\"1996-03-31\",\"1996-04-30\",\"1996-05-31\",\"1996-06-30\",\"1996-07-31\",\"1996-08-31\",\"1996-09-30\",\"1996-10-31\",\"1996-11-30\",\"1996-12-31\",\"1997-01-31\",\"1997-02-28\",\"1997-03-31\",\"1997-04-30\",\"1997-05-31\",\"1997-06-30\",\"1997-07-31\",\"1997-08-31\",\"1997-09-30\",\"1997-10-31\",\"1997-11-30\",\"1997-12-31\",\"1998-01-31\",\"1998-02-28\",\"1998-03-31\",\"1998-04-30\",\"1998-05-31\",\"1998-06-30\",\"1998-07-31\",\"1998-08-31\",\"1998-09-30\",\"1998-10-31\",\"1998-11-30\",\"1998-12-31\",\"1999-01-31\",\"1999-02-28\",\"1999-03-31\",\"1999-04-30\",\"1999-05-31\",\"1999-06-30\",\"1999-07-31\",\"1999-08-31\",\"1999-09-30\",\"1999-10-31\",\"1999-11-30\",\"1999-12-31\",\"2000-01-31\",\"2000-02-29\",\"2000-03-31\",\"2000-04-30\",\"2000-05-31\",\"2000-06-30\",\"2000-07-31\",\"2000-08-31\",\"2000-09-30\",\"2000-10-31\",\"2000-11-30\",\"2000-12-31\",\"2001-01-31\",\"2001-02-28\",\"2001-03-31\",\"2001-04-30\",\"2001-05-31\",\"2001-06-30\",\"2001-07-31\",\"2001-08-31\",\"2001-09-30\",\"2001-10-31\",\"2001-11-30\",\"2001-12-31\",\"2002-01-31\",\"2002-02-28\",\"2002-03-31\",\"2002-04-30\",\"2002-05-31\",\"2002-06-30\",\"2002-07-31\",\"2002-08-31\",\"2002-09-30\",\"2002-10-31\",\"2002-11-30\",\"2002-12-31\",\"2003-01-31\",\"2003-02-28\",\"2003-03-31\",\"2003-04-30\",\"2003-05-31\",\"2003-06-30\",\"2003-07-31\",\"2003-08-31\",\"2003-09-30\",\"2003-10-31\",\"2003-11-30\",\"2003-12-31\",\"2004-01-31\",\"2004-02-29\",\"2004-03-31\",\"2004-04-30\",\"2004-05-31\",\"2004-06-30\",\"2004-07-31\",\"2004-08-31\",\"2004-09-30\",\"2004-10-31\",\"2004-11-30\",\"2004-12-31\",\"2005-01-31\",\"2005-02-28\",\"2005-03-31\",\"2005-04-30\",\"2005-05-31\",\"2005-06-30\",\"2005-07-31\",\"2005-08-31\",\"2005-09-30\",\"2005-10-31\",\"2005-11-30\",\"2005-12-31\",\"2006-01-31\",\"2006-02-28\",\"2006-03-31\",\"2006-04-30\",\"2006-05-31\",\"2006-06-30\",\"2006-07-31\",\"2006-08-31\",\"2006-09-30\",\"2006-10-31\",\"2006-11-30\",\"2006-12-31\",\"2007-01-31\",\"2007-02-28\",\"2007-03-31\",\"2007-04-30\",\"2007-05-31\",\"2007-06-30\",\"2007-07-31\",\"2007-08-31\",\"2007-09-30\",\"2007-10-31\",\"2007-11-30\",\"2007-12-31\",\"2008-01-31\",\"2008-02-29\",\"2008-03-31\",\"2008-04-30\",\"2008-05-31\",\"2008-06-30\",\"2008-07-31\",\"2008-08-31\",\"2008-09-30\",\"2008-10-31\",\"2008-11-30\",\"2008-12-31\",\"2009-01-31\",\"2009-02-28\",\"2009-03-31\",\"2009-04-30\",\"2009-05-31\",\"2009-06-30\",\"2009-07-31\",\"2009-08-31\",\"2009-09-30\",\"2009-10-31\",\"2009-11-30\",\"2009-12-31\",\"2010-01-31\",\"2010-02-28\",\"2010-03-31\",\"2010-04-30\",\"2010-05-31\",\"2010-06-30\",\"2010-07-31\",\"2010-08-31\",\"2010-09-30\",\"2010-10-31\",\"2010-11-30\",\"2010-12-31\",\"2011-01-31\",\"2011-02-28\",\"2011-03-31\",\"2011-04-30\",\"2011-05-31\",\"2011-06-30\",\"2011-07-31\",\"2011-08-31\",\"2011-09-30\",\"2011-10-31\",\"2011-11-30\",\"2011-12-31\",\"2012-01-31\",\"2012-02-29\",\"2012-03-31\",\"2012-04-30\",\"2012-05-31\",\"2012-06-30\",\"2012-07-31\",\"2012-08-31\",\"2012-09-30\",\"2012-10-31\",\"2012-11-30\",\"2012-12-31\",\"2013-01-31\",\"2013-02-28\",\"2013-03-31\",\"2013-04-30\",\"2013-05-31\",\"2013-06-30\",\"2013-07-31\",\"2013-08-31\",\"2013-09-30\",\"2013-10-31\",\"2013-11-30\",\"2013-12-31\",\"2014-01-31\",\"2014-02-28\",\"2014-03-31\",\"2014-04-30\",\"2014-05-31\",\"2014-06-30\",\"2014-07-31\",\"2014-08-31\",\"2014-09-30\",\"2014-10-31\",\"2014-11-30\",\"2014-12-31\",\"2015-01-31\",\"2015-02-28\",\"2015-03-31\",\"2015-04-30\",\"2015-05-31\",\"2015-06-30\",\"2015-07-31\",\"2015-08-31\",\"2015-09-30\",\"2015-10-31\",\"2015-11-30\",\"2015-12-31\",\"2016-01-31\",\"2016-02-29\",\"2016-03-31\",\"2016-04-30\",\"2016-05-31\",\"2016-06-30\",\"2016-07-31\",\"2016-08-31\",\"2016-09-30\",\"2016-10-31\",\"2016-11-30\",\"2016-12-31\",\"2017-01-31\",\"2017-02-28\",\"2017-03-31\",\"2017-04-30\",\"2017-05-31\",\"2017-06-30\",\"2017-07-31\",\"2017-08-31\",\"2017-09-30\",\"2017-10-31\",\"2017-11-30\",\"2017-12-31\",\"2018-01-31\",\"2018-02-28\",\"2018-03-31\",\"2018-04-30\",\"2018-05-31\",\"2018-06-30\",\"2018-07-31\",\"2018-08-31\",\"2018-09-30\",\"2018-10-31\",\"2018-11-30\",\"2018-12-31\",\"2019-01-31\",\"2019-02-28\",\"2019-03-31\",\"2019-04-30\",\"2019-05-31\",\"2019-06-30\",\"2019-07-31\",\"2019-08-31\",\"2019-09-30\",\"2019-10-31\",\"2019-11-30\",\"2019-12-31\",\"2020-01-31\",\"2020-02-29\",\"2020-03-31\",\"2020-04-30\",\"2020-05-31\",\"2020-06-30\",\"2020-07-31\"],\"xaxis\":\"x\",\"y\":[\"120,921.0\",\"121,198.0\",\"120,390.0\",\"120,078.0\",\"119,395.0\",\"119,150.0\",\"117,635.0\",\"116,853.0\",\"116,720.0\",\"117,320.0\",\"117,444.0\",\"117,375.0\",\"116,834.0\",\"115,304.0\",\"114,569.0\",\"113,737.0\",\"113,886.0\",\"114,005.0\",\"115,343.0\",\"115,733.0\",\"114,609.0\",\"112,271.0\",\"109,723.0\",\"107,058.0\",\"105,294.0\",\"104,737.0\",\"104,751.0\",\"103,816.0\",\"101,919.0\",\"99,038.0\",\"96,857.0\",\"94,886.0\",\"94,063.0\",\"93,576.0\",\"94,303.0\",\"95,317.0\",\"96,062.0\",\"96,377.0\",\"96,352.0\",\"96,532.0\",\"96,917.0\",\"97,761.0\",\"98,247.0\",\"98,122.0\",\"97,473.0\",\"96,970.0\",\"96,505.0\",\"96,831.0\",\"96,715.0\",\"95,634.0\",\"93,134.0\",\"90,507.0\",\"88,958.0\",\"88,040.0\",\"87,683.0\",\"87,850.0\",\"88,285.0\",\"87,971.0\",\"86,783.0\",\"84,871.0\",\"83,271.0\",\"83,207.0\",\"84,484.0\",\"86,812.0\",\"87,774.0\",\"89,066.0\",\"89,543.0\",\"90,382.0\",\"89,970.0\",\"89,705.0\",\"89,427.0\",\"89,441.0\",\"89,695.0\",\"89,688.0\",\"89,497.0\",\"89,233.0\",\"89,231.0\",\"88,427.0\",\"88,106.0\",\"87,776.0\",\"89,021.0\",\"90,192.0\",\"91,365.0\",\"92,272.0\",\"93,187.0\",\"93,964.0\",\"94,625.0\",\"94,500.0\",\"95,220.0\",\"95,842.0\",\"96,143.0\",\"95,495.0\",\"94,366.0\",\"94,135.0\",\"94,772.0\",\"96,317.0\",\"97,258.0\",\"97,235.0\",\"96,690.0\",\"96,855.0\",\"97,444.0\",\"98,536.0\",\"99,676.0\",\"100,935.0\",\"102,360.0\",\"103,548.0\",\"104,749.0\",\"105,289.0\",\"106,587.0\",\"108,642.0\",\"110,628.0\",\"111,968.0\",\"112,187.0\",\"113,106.0\",\"114,264.0\",\"116,094.0\",\"117,312.0\",\"118,356.0\",\"118,679.0\",\"119,029.0\",\"118,969.0\",\"119,438.0\",\"120,851.0\",\"122,762.0\",\"125,200.0\",\"126,994.0\",\"128,156.0\",\"128,319.0\",\"128,516.0\",\"129,121.0\",\"130,601.0\",\"132,418.0\",\"134,339.0\",\"135,486.0\",\"136,725.0\",\"137,826.0\",\"138,868.0\",\"139,684.0\",\"141,023.0\",\"143,151.0\",\"144,899.0\",\"146,036.0\",\"146,371.0\",\"146,110.0\",\"145,153.0\",\"143,774.0\",\"142,265.0\",\"141,178.0\",\"140,458.0\",\"138,254.0\",\"136,138.0\",\"134,863.0\",\"136,447.0\",\"137,790.0\",\"138,211.0\",\"137,956.0\",\"138,063.0\",\"139,177.0\",\"138,987.0\",\"137,985.0\",\"135,633.0\",\"135,450.0\",\"135,384.0\",\"134,713.0\",\"132,070.0\",\"129,989.0\",\"129,211.0\",\"128,919.0\",\"128,589.0\",\"127,346.0\",\"127,145.0\",\"127,388.0\",\"128,844.0\",\"129,882.0\",\"130,734.0\",\"130,556.0\",\"129,658.0\",\"128,918.0\",\"128,638.0\",\"128,932.0\",\"128,770.0\",\"128,859.0\",\"128,619.0\",\"128,491.0\",\"127,980.0\",\"126,995.0\",\"124,977.0\",\"124,144.0\",\"123,859.0\",\"123,292.0\",\"121,229.0\",\"118,874.0\",\"117,684.0\",\"116,937.0\",\"116,665.0\",\"115,614.0\",\"114,127.0\",\"112,513.0\",\"112,993.0\",\"113,492.0\",\"114,608.0\",\"115,158.0\",\"116,359.0\",\"117,205.0\",\"117,371.0\",\"117,284.0\",\"116,900.0\",\"117,651.0\",\"118,964.0\",\"120,400.0\",\"120,632.0\",\"120,267.0\",\"119,448.0\",\"118,704.0\",\"117,887.0\",\"117,529.0\",\"117,535.0\",\"117,860.0\",\"118,249.0\",\"118,243.0\",\"118,367.0\",\"118,912.0\",\"118,866.0\",\"118,594.0\",\"117,348.0\",\"116,812.0\",\"116,538.0\",\"116,793.0\",\"117,070.0\",\"116,911.0\",\"116,638.0\",\"115,926.0\",\"114,962.0\",\"113,678.0\",\"112,689.0\",\"112,280.0\",\"112,678.0\",\"112,988.0\",\"112,846.0\",\"113,047.0\",\"112,978.0\",\"112,958.0\",\"112,102.0\",\"111,267.0\",\"109,926.0\",\"108,310.0\",\"107,525.0\",\"107,216.0\",\"107,618.0\",\"108,240.0\",\"109,897.0\",\"109,669.0\",\"108,841.0\",\"107,517.0\",\"107,765.0\",\"108,704.0\",\"110,998.0\",\"114,324.0\",\"117,336.0\",\"119,446.0\",\"120,626.0\",\"121,015.0\",\"120,072.0\",\"119,880.0\",\"120,850.0\",\"122,905.0\",\"123,970.0\",\"124,892.0\",\"125,118.0\",\"125,436.0\",\"124,973.0\",\"125,637.0\",\"126,423.0\",\"127,253.0\",\"127,811.0\",\"129,066.0\",\"130,552.0\",\"132,180.0\",\"133,412.0\",\"133,863.0\",\"132,918.0\",\"131,127.0\",\"130,009.0\",\"128,624.0\",\"127,492.0\",\"126,574.0\",\"126,287.0\",\"125,489.0\",\"124,069.0\",\"122,115.0\",\"120,599.0\",\"119,505.0\",\"121,503.0\",\"122,226.0\",\"123,593.0\"],\"yaxis\":\"y\"}],\"layout\":{\"legend\":{\"orientation\":\"h\",\"tracegroupgap\":0,\"x\":1,\"xanchor\":\"right\",\"y\":1.02,\"yanchor\":\"bottom\"},\"template\":{\"data\":{\"bar\":[{\"error_x\":{\"color\":\"#2a3f5f\"},\"error_y\":{\"color\":\"#2a3f5f\"},\"marker\":{\"line\":{\"color\":\"#E5ECF6\",\"width\":0.5}},\"type\":\"bar\"}],\"barpolar\":[{\"marker\":{\"line\":{\"color\":\"#E5ECF6\",\"width\":0.5}},\"type\":\"barpolar\"}],\"carpet\":[{\"aaxis\":{\"endlinecolor\":\"#2a3f5f\",\"gridcolor\":\"white\",\"linecolor\":\"white\",\"minorgridcolor\":\"white\",\"startlinecolor\":\"#2a3f5f\"},\"baxis\":{\"endlinecolor\":\"#2a3f5f\",\"gridcolor\":\"white\",\"linecolor\":\"white\",\"minorgridcolor\":\"white\",\"startlinecolor\":\"#2a3f5f\"},\"type\":\"carpet\"}],\"choropleth\":[{\"colorbar\":{\"outlinewidth\":0,\"ticks\":\"\"},\"type\":\"choropleth\"}],\"contour\":[{\"colorbar\":{\"outlinewidth\":0,\"ticks\":\"\"},\"colorscale\":[[0.0,\"#0d0887\"],[0.1111111111111111,\"#46039f\"],[0.2222222222222222,\"#7201a8\"],[0.3333333333333333,\"#9c179e\"],[0.4444444444444444,\"#bd3786\"],[0.5555555555555556,\"#d8576b\"],[0.6666666666666666,\"#ed7953\"],[0.7777777777777778,\"#fb9f3a\"],[0.8888888888888888,\"#fdca26\"],[1.0,\"#f0f921\"]],\"type\":\"contour\"}],\"contourcarpet\":[{\"colorbar\":{\"outlinewidth\":0,\"ticks\":\"\"},\"type\":\"contourcarpet\"}],\"heatmap\":[{\"colorbar\":{\"outlinewidth\":0,\"ticks\":\"\"},\"colorscale\":[[0.0,\"#0d0887\"],[0.1111111111111111,\"#46039f\"],[0.2222222222222222,\"#7201a8\"],[0.3333333333333333,\"#9c179e\"],[0.4444444444444444,\"#bd3786\"],[0.5555555555555556,\"#d8576b\"],[0.6666666666666666,\"#ed7953\"],[0.7777777777777778,\"#fb9f3a\"],[0.8888888888888888,\"#fdca26\"],[1.0,\"#f0f921\"]],\"type\":\"heatmap\"}],\"heatmapgl\":[{\"colorbar\":{\"outlinewidth\":0,\"ticks\":\"\"},\"colorscale\":[[0.0,\"#0d0887\"],[0.1111111111111111,\"#46039f\"],[0.2222222222222222,\"#7201a8\"],[0.3333333333333333,\"#9c179e\"],[0.4444444444444444,\"#bd3786\"],[0.5555555555555556,\"#d8576b\"],[0.6666666666666666,\"#ed7953\"],[0.7777777777777778,\"#fb9f3a\"],[0.8888888888888888,\"#fdca26\"],[1.0,\"#f0f921\"]],\"type\":\"heatmapgl\"}],\"histogram\":[{\"marker\":{\"colorbar\":{\"outlinewidth\":0,\"ticks\":\"\"}},\"type\":\"histogram\"}],\"histogram2d\":[{\"colorbar\":{\"outlinewidth\":0,\"ticks\":\"\"},\"colorscale\":[[0.0,\"#0d0887\"],[0.1111111111111111,\"#46039f\"],[0.2222222222222222,\"#7201a8\"],[0.3333333333333333,\"#9c179e\"],[0.4444444444444444,\"#bd3786\"],[0.5555555555555556,\"#d8576b\"],[0.6666666666666666,\"#ed7953\"],[0.7777777777777778,\"#fb9f3a\"],[0.8888888888888888,\"#fdca26\"],[1.0,\"#f0f921\"]],\"type\":\"histogram2d\"}],\"histogram2dcontour\":[{\"colorbar\":{\"outlinewidth\":0,\"ticks\":\"\"},\"colorscale\":[[0.0,\"#0d0887\"],[0.1111111111111111,\"#46039f\"],[0.2222222222222222,\"#7201a8\"],[0.3333333333333333,\"#9c179e\"],[0.4444444444444444,\"#bd3786\"],[0.5555555555555556,\"#d8576b\"],[0.6666666666666666,\"#ed7953\"],[0.7777777777777778,\"#fb9f3a\"],[0.8888888888888888,\"#fdca26\"],[1.0,\"#f0f921\"]],\"type\":\"histogram2dcontour\"}],\"mesh3d\":[{\"colorbar\":{\"outlinewidth\":0,\"ticks\":\"\"},\"type\":\"mesh3d\"}],\"parcoords\":[{\"line\":{\"colorbar\":{\"outlinewidth\":0,\"ticks\":\"\"}},\"type\":\"parcoords\"}],\"pie\":[{\"automargin\":true,\"type\":\"pie\"}],\"scatter\":[{\"marker\":{\"colorbar\":{\"outlinewidth\":0,\"ticks\":\"\"}},\"type\":\"scatter\"}],\"scatter3d\":[{\"line\":{\"colorbar\":{\"outlinewidth\":0,\"ticks\":\"\"}},\"marker\":{\"colorbar\":{\"outlinewidth\":0,\"ticks\":\"\"}},\"type\":\"scatter3d\"}],\"scattercarpet\":[{\"marker\":{\"colorbar\":{\"outlinewidth\":0,\"ticks\":\"\"}},\"type\":\"scattercarpet\"}],\"scattergeo\":[{\"marker\":{\"colorbar\":{\"outlinewidth\":0,\"ticks\":\"\"}},\"type\":\"scattergeo\"}],\"scattergl\":[{\"marker\":{\"colorbar\":{\"outlinewidth\":0,\"ticks\":\"\"}},\"type\":\"scattergl\"}],\"scattermapbox\":[{\"marker\":{\"colorbar\":{\"outlinewidth\":0,\"ticks\":\"\"}},\"type\":\"scattermapbox\"}],\"scatterpolar\":[{\"marker\":{\"colorbar\":{\"outlinewidth\":0,\"ticks\":\"\"}},\"type\":\"scatterpolar\"}],\"scatterpolargl\":[{\"marker\":{\"colorbar\":{\"outlinewidth\":0,\"ticks\":\"\"}},\"type\":\"scatterpolargl\"}],\"scatterternary\":[{\"marker\":{\"colorbar\":{\"outlinewidth\":0,\"ticks\":\"\"}},\"type\":\"scatterternary\"}],\"surface\":[{\"colorbar\":{\"outlinewidth\":0,\"ticks\":\"\"},\"colorscale\":[[0.0,\"#0d0887\"],[0.1111111111111111,\"#46039f\"],[0.2222222222222222,\"#7201a8\"],[0.3333333333333333,\"#9c179e\"],[0.4444444444444444,\"#bd3786\"],[0.5555555555555556,\"#d8576b\"],[0.6666666666666666,\"#ed7953\"],[0.7777777777777778,\"#fb9f3a\"],[0.8888888888888888,\"#fdca26\"],[1.0,\"#f0f921\"]],\"type\":\"surface\"}],\"table\":[{\"cells\":{\"fill\":{\"color\":\"#EBF0F8\"},\"line\":{\"color\":\"white\"}},\"header\":{\"fill\":{\"color\":\"#C8D4E3\"},\"line\":{\"color\":\"white\"}},\"type\":\"table\"}]},\"layout\":{\"annotationdefaults\":{\"arrowcolor\":\"#2a3f5f\",\"arrowhead\":0,\"arrowwidth\":1},\"coloraxis\":{\"colorbar\":{\"outlinewidth\":0,\"ticks\":\"\"}},\"colorscale\":{\"diverging\":[[0,\"#8e0152\"],[0.1,\"#c51b7d\"],[0.2,\"#de77ae\"],[0.3,\"#f1b6da\"],[0.4,\"#fde0ef\"],[0.5,\"#f7f7f7\"],[0.6,\"#e6f5d0\"],[0.7,\"#b8e186\"],[0.8,\"#7fbc41\"],[0.9,\"#4d9221\"],[1,\"#276419\"]],\"sequential\":[[0.0,\"#0d0887\"],[0.1111111111111111,\"#46039f\"],[0.2222222222222222,\"#7201a8\"],[0.3333333333333333,\"#9c179e\"],[0.4444444444444444,\"#bd3786\"],[0.5555555555555556,\"#d8576b\"],[0.6666666666666666,\"#ed7953\"],[0.7777777777777778,\"#fb9f3a\"],[0.8888888888888888,\"#fdca26\"],[1.0,\"#f0f921\"]],\"sequentialminus\":[[0.0,\"#0d0887\"],[0.1111111111111111,\"#46039f\"],[0.2222222222222222,\"#7201a8\"],[0.3333333333333333,\"#9c179e\"],[0.4444444444444444,\"#bd3786\"],[0.5555555555555556,\"#d8576b\"],[0.6666666666666666,\"#ed7953\"],[0.7777777777777778,\"#fb9f3a\"],[0.8888888888888888,\"#fdca26\"],[1.0,\"#f0f921\"]]},\"colorway\":[\"#636efa\",\"#EF553B\",\"#00cc96\",\"#ab63fa\",\"#FFA15A\",\"#19d3f3\",\"#FF6692\",\"#B6E880\",\"#FF97FF\",\"#FECB52\"],\"font\":{\"color\":\"#2a3f5f\"},\"geo\":{\"bgcolor\":\"white\",\"lakecolor\":\"white\",\"landcolor\":\"#E5ECF6\",\"showlakes\":true,\"showland\":true,\"subunitcolor\":\"white\"},\"hoverlabel\":{\"align\":\"left\"},\"hovermode\":\"closest\",\"mapbox\":{\"style\":\"light\"},\"paper_bgcolor\":\"white\",\"plot_bgcolor\":\"#E5ECF6\",\"polar\":{\"angularaxis\":{\"gridcolor\":\"white\",\"linecolor\":\"white\",\"ticks\":\"\"},\"bgcolor\":\"#E5ECF6\",\"radialaxis\":{\"gridcolor\":\"white\",\"linecolor\":\"white\",\"ticks\":\"\"}},\"scene\":{\"xaxis\":{\"backgroundcolor\":\"#E5ECF6\",\"gridcolor\":\"white\",\"gridwidth\":2,\"linecolor\":\"white\",\"showbackground\":true,\"ticks\":\"\",\"zerolinecolor\":\"white\"},\"yaxis\":{\"backgroundcolor\":\"#E5ECF6\",\"gridcolor\":\"white\",\"gridwidth\":2,\"linecolor\":\"white\",\"showbackground\":true,\"ticks\":\"\",\"zerolinecolor\":\"white\"},\"zaxis\":{\"backgroundcolor\":\"#E5ECF6\",\"gridcolor\":\"white\",\"gridwidth\":2,\"linecolor\":\"white\",\"showbackground\":true,\"ticks\":\"\",\"zerolinecolor\":\"white\"}},\"shapedefaults\":{\"line\":{\"color\":\"#2a3f5f\"}},\"ternary\":{\"aaxis\":{\"gridcolor\":\"white\",\"linecolor\":\"white\",\"ticks\":\"\"},\"baxis\":{\"gridcolor\":\"white\",\"linecolor\":\"white\",\"ticks\":\"\"},\"bgcolor\":\"#E5ECF6\",\"caxis\":{\"gridcolor\":\"white\",\"linecolor\":\"white\",\"ticks\":\"\"}},\"title\":{\"x\":0.05},\"xaxis\":{\"automargin\":true,\"gridcolor\":\"white\",\"linecolor\":\"white\",\"ticks\":\"\",\"title\":{\"standoff\":15},\"zerolinecolor\":\"white\",\"zerolinewidth\":2},\"yaxis\":{\"automargin\":true,\"gridcolor\":\"white\",\"linecolor\":\"white\",\"ticks\":\"\",\"title\":{\"standoff\":15},\"zerolinecolor\":\"white\",\"zerolinewidth\":2}}},\"title\":{\"text\":\"Cost for 1 Bedroom Units Over Time in [\\'Albany, NY\\', \\'Sacramento, CA\\', \\'Austin, TX\\']\"},\"xaxis\":{\"anchor\":\"y\",\"domain\":[0.0,1.0],\"title\":{\"text\":\"Date\"}},\"yaxis\":{\"anchor\":\"x\",\"domain\":[0.0,1.0],\"title\":{\"text\":\"Value ($)\"}}}}'"
            ]
          },
          "metadata": {
            "tags": []
          },
          "execution_count": 15
        }
      ]
    },
    {
      "cell_type": "code",
      "metadata": {
        "id": "Y73kQ-4jGWC3",
        "outputId": "bcfe614a-dbcf-468b-c968-80ff5b927fdf",
        "colab": {
          "base_uri": "https://localhost:8080/",
          "height": 323
        }
      },
      "source": [
        "jobs.head()"
      ],
      "execution_count": 16,
      "outputs": [
        {
          "output_type": "execute_result",
          "data": {
            "text/html": [
              "<div>\n",
              "<style scoped>\n",
              "    .dataframe tbody tr th:only-of-type {\n",
              "        vertical-align: middle;\n",
              "    }\n",
              "\n",
              "    .dataframe tbody tr th {\n",
              "        vertical-align: top;\n",
              "    }\n",
              "\n",
              "    .dataframe thead th {\n",
              "        text-align: right;\n",
              "    }\n",
              "</style>\n",
              "<table border=\"1\" class=\"dataframe\">\n",
              "  <thead>\n",
              "    <tr style=\"text-align: right;\">\n",
              "      <th></th>\n",
              "      <th>Unnamed: 0</th>\n",
              "      <th>date</th>\n",
              "      <th>postal</th>\n",
              "      <th>Total Nonfarm</th>\n",
              "      <th>Total Private Sector</th>\n",
              "      <th>Total Government Sector</th>\n",
              "      <th>Total Goods-Producing</th>\n",
              "      <th>Total Service-Providing</th>\n",
              "      <th>Total Mining and Logging</th>\n",
              "      <th>Total Manufacturing</th>\n",
              "      <th>Total Durable Goods</th>\n",
              "      <th>Total Wholesale Trade</th>\n",
              "      <th>Total Telecommunications</th>\n",
              "      <th>Total Real Estate</th>\n",
              "      <th>Total Commercial Banking</th>\n",
              "      <th>Total Transportation</th>\n",
              "      <th>Total Transportation and Utilities</th>\n",
              "    </tr>\n",
              "  </thead>\n",
              "  <tbody>\n",
              "    <tr>\n",
              "      <th>0</th>\n",
              "      <td>0</td>\n",
              "      <td>2006-01-31</td>\n",
              "      <td>AL</td>\n",
              "      <td>1960.8</td>\n",
              "      <td>1591.4</td>\n",
              "      <td>369.4</td>\n",
              "      <td>421.7</td>\n",
              "      <td>1539.1</td>\n",
              "      <td>13.0</td>\n",
              "      <td>303.6</td>\n",
              "      <td>185.0</td>\n",
              "      <td>79.6</td>\n",
              "      <td>13.5</td>\n",
              "      <td>0.0</td>\n",
              "      <td>0.0</td>\n",
              "      <td>29.1</td>\n",
              "      <td>68.5</td>\n",
              "    </tr>\n",
              "    <tr>\n",
              "      <th>1</th>\n",
              "      <td>1</td>\n",
              "      <td>2006-02-28</td>\n",
              "      <td>AL</td>\n",
              "      <td>1972.7</td>\n",
              "      <td>1600.1</td>\n",
              "      <td>372.6</td>\n",
              "      <td>423.8</td>\n",
              "      <td>1548.9</td>\n",
              "      <td>13.1</td>\n",
              "      <td>304.5</td>\n",
              "      <td>186.3</td>\n",
              "      <td>80.0</td>\n",
              "      <td>13.5</td>\n",
              "      <td>0.0</td>\n",
              "      <td>0.0</td>\n",
              "      <td>29.1</td>\n",
              "      <td>68.5</td>\n",
              "    </tr>\n",
              "    <tr>\n",
              "      <th>2</th>\n",
              "      <td>2</td>\n",
              "      <td>2006-03-31</td>\n",
              "      <td>AL</td>\n",
              "      <td>1991.6</td>\n",
              "      <td>1617.4</td>\n",
              "      <td>374.2</td>\n",
              "      <td>427.7</td>\n",
              "      <td>1563.9</td>\n",
              "      <td>13.1</td>\n",
              "      <td>305.1</td>\n",
              "      <td>187.0</td>\n",
              "      <td>80.7</td>\n",
              "      <td>13.5</td>\n",
              "      <td>0.0</td>\n",
              "      <td>0.0</td>\n",
              "      <td>29.3</td>\n",
              "      <td>69.2</td>\n",
              "    </tr>\n",
              "    <tr>\n",
              "      <th>3</th>\n",
              "      <td>3</td>\n",
              "      <td>2006-04-30</td>\n",
              "      <td>AL</td>\n",
              "      <td>1994.9</td>\n",
              "      <td>1619.8</td>\n",
              "      <td>375.1</td>\n",
              "      <td>428.0</td>\n",
              "      <td>1566.9</td>\n",
              "      <td>13.0</td>\n",
              "      <td>304.8</td>\n",
              "      <td>187.2</td>\n",
              "      <td>80.7</td>\n",
              "      <td>13.3</td>\n",
              "      <td>0.0</td>\n",
              "      <td>0.0</td>\n",
              "      <td>29.4</td>\n",
              "      <td>69.5</td>\n",
              "    </tr>\n",
              "    <tr>\n",
              "      <th>4</th>\n",
              "      <td>4</td>\n",
              "      <td>2006-05-31</td>\n",
              "      <td>AL</td>\n",
              "      <td>2000.5</td>\n",
              "      <td>1624.6</td>\n",
              "      <td>375.9</td>\n",
              "      <td>428.1</td>\n",
              "      <td>1572.4</td>\n",
              "      <td>13.0</td>\n",
              "      <td>304.9</td>\n",
              "      <td>187.7</td>\n",
              "      <td>81.2</td>\n",
              "      <td>13.2</td>\n",
              "      <td>0.0</td>\n",
              "      <td>0.0</td>\n",
              "      <td>29.6</td>\n",
              "      <td>69.8</td>\n",
              "    </tr>\n",
              "  </tbody>\n",
              "</table>\n",
              "</div>"
            ],
            "text/plain": [
              "   Unnamed: 0  ... Total Transportation and Utilities\n",
              "0           0  ...                               68.5\n",
              "1           1  ...                               68.5\n",
              "2           2  ...                               69.2\n",
              "3           3  ...                               69.5\n",
              "4           4  ...                               69.8\n",
              "\n",
              "[5 rows x 17 columns]"
            ]
          },
          "metadata": {
            "tags": []
          },
          "execution_count": 16
        }
      ]
    },
    {
      "cell_type": "code",
      "metadata": {
        "id": "u0Xus3TJmsY1"
      },
      "source": [
        "#JOBS VIZ INSERT HERE\n",
        "#\n",
        "#\n",
        "#"
      ],
      "execution_count": 17,
      "outputs": []
    },
    {
      "cell_type": "code",
      "metadata": {
        "id": "XimykUu0mscO",
        "outputId": "c0e2ede3-e5f7-4b6c-cf39-8664609f8aa6",
        "colab": {
          "base_uri": "https://localhost:8080/",
          "height": 204
        }
      },
      "source": [
        "covid.head()"
      ],
      "execution_count": 18,
      "outputs": [
        {
          "output_type": "execute_result",
          "data": {
            "text/html": [
              "<div>\n",
              "<style scoped>\n",
              "    .dataframe tbody tr th:only-of-type {\n",
              "        vertical-align: middle;\n",
              "    }\n",
              "\n",
              "    .dataframe tbody tr th {\n",
              "        vertical-align: top;\n",
              "    }\n",
              "\n",
              "    .dataframe thead th {\n",
              "        text-align: right;\n",
              "    }\n",
              "</style>\n",
              "<table border=\"1\" class=\"dataframe\">\n",
              "  <thead>\n",
              "    <tr style=\"text-align: right;\">\n",
              "      <th></th>\n",
              "      <th>Unnamed: 0</th>\n",
              "      <th>seconds_since_Epoch</th>\n",
              "      <th>tested</th>\n",
              "      <th>positive</th>\n",
              "      <th>deaths</th>\n",
              "      <th>postal</th>\n",
              "      <th>date</th>\n",
              "      <th>year</th>\n",
              "      <th>month</th>\n",
              "      <th>day</th>\n",
              "    </tr>\n",
              "  </thead>\n",
              "  <tbody>\n",
              "    <tr>\n",
              "      <th>0</th>\n",
              "      <td>0</td>\n",
              "      <td>1588293736</td>\n",
              "      <td>19562</td>\n",
              "      <td>355</td>\n",
              "      <td>9</td>\n",
              "      <td>AK</td>\n",
              "      <td>2020-05-01 00:42:16</td>\n",
              "      <td>2020</td>\n",
              "      <td>5</td>\n",
              "      <td>1</td>\n",
              "    </tr>\n",
              "    <tr>\n",
              "      <th>1</th>\n",
              "      <td>1</td>\n",
              "      <td>1588372862</td>\n",
              "      <td>19562</td>\n",
              "      <td>364</td>\n",
              "      <td>9</td>\n",
              "      <td>AK</td>\n",
              "      <td>2020-05-01 22:41:02</td>\n",
              "      <td>2020</td>\n",
              "      <td>5</td>\n",
              "      <td>1</td>\n",
              "    </tr>\n",
              "    <tr>\n",
              "      <th>2</th>\n",
              "      <td>2</td>\n",
              "      <td>1588390979</td>\n",
              "      <td>20325</td>\n",
              "      <td>364</td>\n",
              "      <td>9</td>\n",
              "      <td>AK</td>\n",
              "      <td>2020-05-02 03:42:59</td>\n",
              "      <td>2020</td>\n",
              "      <td>5</td>\n",
              "      <td>2</td>\n",
              "    </tr>\n",
              "    <tr>\n",
              "      <th>3</th>\n",
              "      <td>3</td>\n",
              "      <td>1588445522</td>\n",
              "      <td>20325</td>\n",
              "      <td>365</td>\n",
              "      <td>9</td>\n",
              "      <td>AK</td>\n",
              "      <td>2020-05-02 18:52:02</td>\n",
              "      <td>2020</td>\n",
              "      <td>5</td>\n",
              "      <td>2</td>\n",
              "    </tr>\n",
              "    <tr>\n",
              "      <th>4</th>\n",
              "      <td>4</td>\n",
              "      <td>1588466696</td>\n",
              "      <td>21399</td>\n",
              "      <td>365</td>\n",
              "      <td>9</td>\n",
              "      <td>AK</td>\n",
              "      <td>2020-05-03 00:44:56</td>\n",
              "      <td>2020</td>\n",
              "      <td>5</td>\n",
              "      <td>3</td>\n",
              "    </tr>\n",
              "  </tbody>\n",
              "</table>\n",
              "</div>"
            ],
            "text/plain": [
              "   Unnamed: 0  seconds_since_Epoch  tested  ...  year  month day\n",
              "0           0           1588293736   19562  ...  2020      5   1\n",
              "1           1           1588372862   19562  ...  2020      5   1\n",
              "2           2           1588390979   20325  ...  2020      5   2\n",
              "3           3           1588445522   20325  ...  2020      5   2\n",
              "4           4           1588466696   21399  ...  2020      5   3\n",
              "\n",
              "[5 rows x 10 columns]"
            ]
          },
          "metadata": {
            "tags": []
          },
          "execution_count": 18
        }
      ]
    },
    {
      "cell_type": "code",
      "metadata": {
        "id": "fWZlEhc3vBqe"
      },
      "source": [
        "postals_dict = {'Alabama': 'AL','Alaska': 'AK','American Samoa': 'AS','Arizona': 'AZ','Arkansas': 'AR','California': 'CA','Colorado': 'CO','Connecticut': 'CT','Delaware': 'DE','District of Columbia': 'DC','Florida': 'FL','Georgia': 'GA','Guam': 'GU','Hawaii': 'HI','Idaho': 'ID','Illinois': 'IL','Indiana': 'IN','Iowa': 'IA','Kansas': 'KS','Kentucky': 'KY','Louisiana': 'LA','Maine': 'ME','Maryland': 'MD','Massachusetts': 'MA','Michigan': 'MI','Minnesota': 'MN','Mississippi': 'MS','Missouri': 'MO','Montana': 'MT','Nebraska': 'NE','Nevada': 'NV','New Hampshire': 'NH','New Jersey': 'NJ','New Mexico': 'NM','New York': 'NY','North Carolina': 'NC','North Dakota': 'ND','Northern Mariana Islands':'MP','Ohio': 'OH','Oklahoma': 'OK','Oregon': 'OR','Pennsylvania': 'PA','Puerto Rico': 'PR','Rhode Island': 'RI','South Carolina': 'SC','South Dakota': 'SD','Tennessee': 'TN','Texas': 'TX','Utah': 'UT','Vermont': 'VT','Virgin Islands': 'VI','Virginia': 'VA','Washington': 'WA','West Virginia': 'WV','Wisconsin': 'WI','Wyoming': 'WY'}"
      ],
      "execution_count": 19,
      "outputs": []
    },
    {
      "cell_type": "code",
      "metadata": {
        "id": "PRZ7wyaAvNuD"
      },
      "source": [
        "pop = pd.read_csv(base_path + '/population_data/pop_per_state.csv')"
      ],
      "execution_count": 20,
      "outputs": []
    },
    {
      "cell_type": "code",
      "metadata": {
        "id": "xIFXmXZF3R0X",
        "outputId": "1c81f7dd-cb64-49b6-aaef-ab1ebc73fcc4",
        "colab": {
          "base_uri": "https://localhost:8080/",
          "height": 204
        }
      },
      "source": [
        "pop.head()"
      ],
      "execution_count": 21,
      "outputs": [
        {
          "output_type": "execute_result",
          "data": {
            "text/html": [
              "<div>\n",
              "<style scoped>\n",
              "    .dataframe tbody tr th:only-of-type {\n",
              "        vertical-align: middle;\n",
              "    }\n",
              "\n",
              "    .dataframe tbody tr th {\n",
              "        vertical-align: top;\n",
              "    }\n",
              "\n",
              "    .dataframe thead th {\n",
              "        text-align: right;\n",
              "    }\n",
              "</style>\n",
              "<table border=\"1\" class=\"dataframe\">\n",
              "  <thead>\n",
              "    <tr style=\"text-align: right;\">\n",
              "      <th></th>\n",
              "      <th>rank</th>\n",
              "      <th>State</th>\n",
              "      <th>Pop</th>\n",
              "      <th>Growth</th>\n",
              "      <th>Pop2018</th>\n",
              "      <th>Pop2010</th>\n",
              "      <th>growthSince2010</th>\n",
              "      <th>Percent</th>\n",
              "      <th>density</th>\n",
              "    </tr>\n",
              "  </thead>\n",
              "  <tbody>\n",
              "    <tr>\n",
              "      <th>0</th>\n",
              "      <td>1</td>\n",
              "      <td>California</td>\n",
              "      <td>39937500</td>\n",
              "      <td>0.0096</td>\n",
              "      <td>39557000</td>\n",
              "      <td>37320900</td>\n",
              "      <td>0.0701</td>\n",
              "      <td>0.1194</td>\n",
              "      <td>256.3728</td>\n",
              "    </tr>\n",
              "    <tr>\n",
              "      <th>1</th>\n",
              "      <td>2</td>\n",
              "      <td>Texas</td>\n",
              "      <td>29472300</td>\n",
              "      <td>0.0268</td>\n",
              "      <td>28701800</td>\n",
              "      <td>25242700</td>\n",
              "      <td>0.1676</td>\n",
              "      <td>0.0881</td>\n",
              "      <td>112.8204</td>\n",
              "    </tr>\n",
              "    <tr>\n",
              "      <th>2</th>\n",
              "      <td>3</td>\n",
              "      <td>Florida</td>\n",
              "      <td>21993000</td>\n",
              "      <td>0.0326</td>\n",
              "      <td>21299300</td>\n",
              "      <td>18845800</td>\n",
              "      <td>0.1670</td>\n",
              "      <td>0.0658</td>\n",
              "      <td>410.1259</td>\n",
              "    </tr>\n",
              "    <tr>\n",
              "      <th>3</th>\n",
              "      <td>4</td>\n",
              "      <td>New York</td>\n",
              "      <td>19440500</td>\n",
              "      <td>-0.0052</td>\n",
              "      <td>19542200</td>\n",
              "      <td>19400100</td>\n",
              "      <td>0.0021</td>\n",
              "      <td>0.0581</td>\n",
              "      <td>412.5218</td>\n",
              "    </tr>\n",
              "    <tr>\n",
              "      <th>4</th>\n",
              "      <td>5</td>\n",
              "      <td>Pennsylvania</td>\n",
              "      <td>12820900</td>\n",
              "      <td>0.0011</td>\n",
              "      <td>12807100</td>\n",
              "      <td>12711200</td>\n",
              "      <td>0.0086</td>\n",
              "      <td>0.0383</td>\n",
              "      <td>286.5454</td>\n",
              "    </tr>\n",
              "  </tbody>\n",
              "</table>\n",
              "</div>"
            ],
            "text/plain": [
              "   rank         State       Pop  ...  growthSince2010  Percent   density\n",
              "0     1    California  39937500  ...           0.0701   0.1194  256.3728\n",
              "1     2         Texas  29472300  ...           0.1676   0.0881  112.8204\n",
              "2     3       Florida  21993000  ...           0.1670   0.0658  410.1259\n",
              "3     4      New York  19440500  ...           0.0021   0.0581  412.5218\n",
              "4     5  Pennsylvania  12820900  ...           0.0086   0.0383  286.5454\n",
              "\n",
              "[5 rows x 9 columns]"
            ]
          },
          "metadata": {
            "tags": []
          },
          "execution_count": 21
        }
      ]
    },
    {
      "cell_type": "code",
      "metadata": {
        "id": "yu7Dzdmp3SIn",
        "outputId": "d55bc39b-3d8d-497a-c692-efe00d5b42b3",
        "colab": {
          "base_uri": "https://localhost:8080/",
          "height": 204
        }
      },
      "source": [
        "pop['postal'] = pop['State'].map(postals_dict)\n",
        "pop.head()"
      ],
      "execution_count": 22,
      "outputs": [
        {
          "output_type": "execute_result",
          "data": {
            "text/html": [
              "<div>\n",
              "<style scoped>\n",
              "    .dataframe tbody tr th:only-of-type {\n",
              "        vertical-align: middle;\n",
              "    }\n",
              "\n",
              "    .dataframe tbody tr th {\n",
              "        vertical-align: top;\n",
              "    }\n",
              "\n",
              "    .dataframe thead th {\n",
              "        text-align: right;\n",
              "    }\n",
              "</style>\n",
              "<table border=\"1\" class=\"dataframe\">\n",
              "  <thead>\n",
              "    <tr style=\"text-align: right;\">\n",
              "      <th></th>\n",
              "      <th>rank</th>\n",
              "      <th>State</th>\n",
              "      <th>Pop</th>\n",
              "      <th>Growth</th>\n",
              "      <th>Pop2018</th>\n",
              "      <th>Pop2010</th>\n",
              "      <th>growthSince2010</th>\n",
              "      <th>Percent</th>\n",
              "      <th>density</th>\n",
              "      <th>postal</th>\n",
              "    </tr>\n",
              "  </thead>\n",
              "  <tbody>\n",
              "    <tr>\n",
              "      <th>0</th>\n",
              "      <td>1</td>\n",
              "      <td>California</td>\n",
              "      <td>39937500</td>\n",
              "      <td>0.0096</td>\n",
              "      <td>39557000</td>\n",
              "      <td>37320900</td>\n",
              "      <td>0.0701</td>\n",
              "      <td>0.1194</td>\n",
              "      <td>256.3728</td>\n",
              "      <td>CA</td>\n",
              "    </tr>\n",
              "    <tr>\n",
              "      <th>1</th>\n",
              "      <td>2</td>\n",
              "      <td>Texas</td>\n",
              "      <td>29472300</td>\n",
              "      <td>0.0268</td>\n",
              "      <td>28701800</td>\n",
              "      <td>25242700</td>\n",
              "      <td>0.1676</td>\n",
              "      <td>0.0881</td>\n",
              "      <td>112.8204</td>\n",
              "      <td>TX</td>\n",
              "    </tr>\n",
              "    <tr>\n",
              "      <th>2</th>\n",
              "      <td>3</td>\n",
              "      <td>Florida</td>\n",
              "      <td>21993000</td>\n",
              "      <td>0.0326</td>\n",
              "      <td>21299300</td>\n",
              "      <td>18845800</td>\n",
              "      <td>0.1670</td>\n",
              "      <td>0.0658</td>\n",
              "      <td>410.1259</td>\n",
              "      <td>FL</td>\n",
              "    </tr>\n",
              "    <tr>\n",
              "      <th>3</th>\n",
              "      <td>4</td>\n",
              "      <td>New York</td>\n",
              "      <td>19440500</td>\n",
              "      <td>-0.0052</td>\n",
              "      <td>19542200</td>\n",
              "      <td>19400100</td>\n",
              "      <td>0.0021</td>\n",
              "      <td>0.0581</td>\n",
              "      <td>412.5218</td>\n",
              "      <td>NY</td>\n",
              "    </tr>\n",
              "    <tr>\n",
              "      <th>4</th>\n",
              "      <td>5</td>\n",
              "      <td>Pennsylvania</td>\n",
              "      <td>12820900</td>\n",
              "      <td>0.0011</td>\n",
              "      <td>12807100</td>\n",
              "      <td>12711200</td>\n",
              "      <td>0.0086</td>\n",
              "      <td>0.0383</td>\n",
              "      <td>286.5454</td>\n",
              "      <td>PA</td>\n",
              "    </tr>\n",
              "  </tbody>\n",
              "</table>\n",
              "</div>"
            ],
            "text/plain": [
              "   rank         State       Pop  ...  Percent   density  postal\n",
              "0     1    California  39937500  ...   0.1194  256.3728      CA\n",
              "1     2         Texas  29472300  ...   0.0881  112.8204      TX\n",
              "2     3       Florida  21993000  ...   0.0658  410.1259      FL\n",
              "3     4      New York  19440500  ...   0.0581  412.5218      NY\n",
              "4     5  Pennsylvania  12820900  ...   0.0383  286.5454      PA\n",
              "\n",
              "[5 rows x 10 columns]"
            ]
          },
          "metadata": {
            "tags": []
          },
          "execution_count": 22
        }
      ]
    },
    {
      "cell_type": "code",
      "metadata": {
        "id": "xw3I90ec5j4E"
      },
      "source": [
        "pop_2col = pop[['postal', 'Pop2018']]"
      ],
      "execution_count": 23,
      "outputs": []
    },
    {
      "cell_type": "code",
      "metadata": {
        "id": "nNr8Lbxv5e6P",
        "outputId": "ca8e5acc-a163-4da7-846f-345fdf7f34d3",
        "colab": {
          "base_uri": "https://localhost:8080/",
          "height": 54
        }
      },
      "source": [
        "pop_dict = dict(zip(pop['postal'], pop['Pop2018']))\n",
        "print(pop_dict)"
      ],
      "execution_count": 24,
      "outputs": [
        {
          "output_type": "stream",
          "text": [
            "{'CA': 39557000, 'TX': 28701800, 'FL': 21299300, 'NY': 19542200, 'PA': 12807100, 'IL': 12741100, 'OH': 11689400, 'GA': 10519500, 'NC': 10383600, 'MI': 9995920, 'NJ': 8908520, 'VA': 8517680, 'WA': 7535590, 'AZ': 7171650, 'MA': 6902150, 'TN': 6770010, 'IN': 6691880, 'MO': 6126450, 'MD': 6042720, 'WI': 5813570, 'CO': 5695560, 'MN': 5611180, 'SC': 5084130, 'AL': 4887870, 'LA': 4659980, 'KY': 4468400, 'OR': 4190710, 'OK': 3943080, 'CT': 3572660, 'UT': 3161100, 'IA': 3156140, 'NV': 3034390, 'AR': 3013820, 'PR': 3195150, 'MS': 2986530, 'KS': 2911500, 'NM': 2095430, 'NE': 1929270, 'ID': 1754210, 'WV': 1805830, 'HI': 1420490, 'NH': 1356460, 'ME': 1338400, 'MT': 1062300, 'RI': 1057320, 'DE': 967171, 'SD': 882235, 'ND': 760077, 'AK': 737438, 'DC': 702455, 'VT': 626299, 'WY': 577737}\n"
          ],
          "name": "stdout"
        }
      ]
    },
    {
      "cell_type": "code",
      "metadata": {
        "id": "151HFsf34AQ8",
        "outputId": "e7b3246a-2139-4739-a033-f8b67d02c6ef",
        "colab": {
          "base_uri": "https://localhost:8080/",
          "height": 204
        }
      },
      "source": [
        "covid['pop'] = covid['postal'].map(pop_dict)\n",
        "covid.head()"
      ],
      "execution_count": 25,
      "outputs": [
        {
          "output_type": "execute_result",
          "data": {
            "text/html": [
              "<div>\n",
              "<style scoped>\n",
              "    .dataframe tbody tr th:only-of-type {\n",
              "        vertical-align: middle;\n",
              "    }\n",
              "\n",
              "    .dataframe tbody tr th {\n",
              "        vertical-align: top;\n",
              "    }\n",
              "\n",
              "    .dataframe thead th {\n",
              "        text-align: right;\n",
              "    }\n",
              "</style>\n",
              "<table border=\"1\" class=\"dataframe\">\n",
              "  <thead>\n",
              "    <tr style=\"text-align: right;\">\n",
              "      <th></th>\n",
              "      <th>Unnamed: 0</th>\n",
              "      <th>seconds_since_Epoch</th>\n",
              "      <th>tested</th>\n",
              "      <th>positive</th>\n",
              "      <th>deaths</th>\n",
              "      <th>postal</th>\n",
              "      <th>date</th>\n",
              "      <th>year</th>\n",
              "      <th>month</th>\n",
              "      <th>day</th>\n",
              "      <th>pop</th>\n",
              "    </tr>\n",
              "  </thead>\n",
              "  <tbody>\n",
              "    <tr>\n",
              "      <th>0</th>\n",
              "      <td>0</td>\n",
              "      <td>1588293736</td>\n",
              "      <td>19562</td>\n",
              "      <td>355</td>\n",
              "      <td>9</td>\n",
              "      <td>AK</td>\n",
              "      <td>2020-05-01 00:42:16</td>\n",
              "      <td>2020</td>\n",
              "      <td>5</td>\n",
              "      <td>1</td>\n",
              "      <td>737438</td>\n",
              "    </tr>\n",
              "    <tr>\n",
              "      <th>1</th>\n",
              "      <td>1</td>\n",
              "      <td>1588372862</td>\n",
              "      <td>19562</td>\n",
              "      <td>364</td>\n",
              "      <td>9</td>\n",
              "      <td>AK</td>\n",
              "      <td>2020-05-01 22:41:02</td>\n",
              "      <td>2020</td>\n",
              "      <td>5</td>\n",
              "      <td>1</td>\n",
              "      <td>737438</td>\n",
              "    </tr>\n",
              "    <tr>\n",
              "      <th>2</th>\n",
              "      <td>2</td>\n",
              "      <td>1588390979</td>\n",
              "      <td>20325</td>\n",
              "      <td>364</td>\n",
              "      <td>9</td>\n",
              "      <td>AK</td>\n",
              "      <td>2020-05-02 03:42:59</td>\n",
              "      <td>2020</td>\n",
              "      <td>5</td>\n",
              "      <td>2</td>\n",
              "      <td>737438</td>\n",
              "    </tr>\n",
              "    <tr>\n",
              "      <th>3</th>\n",
              "      <td>3</td>\n",
              "      <td>1588445522</td>\n",
              "      <td>20325</td>\n",
              "      <td>365</td>\n",
              "      <td>9</td>\n",
              "      <td>AK</td>\n",
              "      <td>2020-05-02 18:52:02</td>\n",
              "      <td>2020</td>\n",
              "      <td>5</td>\n",
              "      <td>2</td>\n",
              "      <td>737438</td>\n",
              "    </tr>\n",
              "    <tr>\n",
              "      <th>4</th>\n",
              "      <td>4</td>\n",
              "      <td>1588466696</td>\n",
              "      <td>21399</td>\n",
              "      <td>365</td>\n",
              "      <td>9</td>\n",
              "      <td>AK</td>\n",
              "      <td>2020-05-03 00:44:56</td>\n",
              "      <td>2020</td>\n",
              "      <td>5</td>\n",
              "      <td>3</td>\n",
              "      <td>737438</td>\n",
              "    </tr>\n",
              "  </tbody>\n",
              "</table>\n",
              "</div>"
            ],
            "text/plain": [
              "   Unnamed: 0  seconds_since_Epoch  tested  positive  ...  year month day     pop\n",
              "0           0           1588293736   19562       355  ...  2020     5   1  737438\n",
              "1           1           1588372862   19562       364  ...  2020     5   1  737438\n",
              "2           2           1588390979   20325       364  ...  2020     5   2  737438\n",
              "3           3           1588445522   20325       365  ...  2020     5   2  737438\n",
              "4           4           1588466696   21399       365  ...  2020     5   3  737438\n",
              "\n",
              "[5 rows x 11 columns]"
            ]
          },
          "metadata": {
            "tags": []
          },
          "execution_count": 25
        }
      ]
    },
    {
      "cell_type": "code",
      "metadata": {
        "id": "vYvzWVhe4AVL",
        "outputId": "14482eae-54ed-443c-d44b-39ae3e457e8e",
        "colab": {
          "base_uri": "https://localhost:8080/",
          "height": 204
        }
      },
      "source": [
        "covid['deaths_percent'] = (covid['deaths'] / covid['pop']) * 100\n",
        "covid['tested_percent'] = (covid['tested'] / covid['pop']) * 100\n",
        "covid['positive_percent'] = (covid['positive'] / covid['pop']) * 100\n",
        "covid.head()"
      ],
      "execution_count": 26,
      "outputs": [
        {
          "output_type": "execute_result",
          "data": {
            "text/html": [
              "<div>\n",
              "<style scoped>\n",
              "    .dataframe tbody tr th:only-of-type {\n",
              "        vertical-align: middle;\n",
              "    }\n",
              "\n",
              "    .dataframe tbody tr th {\n",
              "        vertical-align: top;\n",
              "    }\n",
              "\n",
              "    .dataframe thead th {\n",
              "        text-align: right;\n",
              "    }\n",
              "</style>\n",
              "<table border=\"1\" class=\"dataframe\">\n",
              "  <thead>\n",
              "    <tr style=\"text-align: right;\">\n",
              "      <th></th>\n",
              "      <th>Unnamed: 0</th>\n",
              "      <th>seconds_since_Epoch</th>\n",
              "      <th>tested</th>\n",
              "      <th>positive</th>\n",
              "      <th>deaths</th>\n",
              "      <th>postal</th>\n",
              "      <th>date</th>\n",
              "      <th>year</th>\n",
              "      <th>month</th>\n",
              "      <th>day</th>\n",
              "      <th>pop</th>\n",
              "      <th>deaths_percent</th>\n",
              "      <th>tested_percent</th>\n",
              "      <th>positive_percent</th>\n",
              "    </tr>\n",
              "  </thead>\n",
              "  <tbody>\n",
              "    <tr>\n",
              "      <th>0</th>\n",
              "      <td>0</td>\n",
              "      <td>1588293736</td>\n",
              "      <td>19562</td>\n",
              "      <td>355</td>\n",
              "      <td>9</td>\n",
              "      <td>AK</td>\n",
              "      <td>2020-05-01 00:42:16</td>\n",
              "      <td>2020</td>\n",
              "      <td>5</td>\n",
              "      <td>1</td>\n",
              "      <td>737438</td>\n",
              "      <td>0.00122</td>\n",
              "      <td>2.652698</td>\n",
              "      <td>0.048140</td>\n",
              "    </tr>\n",
              "    <tr>\n",
              "      <th>1</th>\n",
              "      <td>1</td>\n",
              "      <td>1588372862</td>\n",
              "      <td>19562</td>\n",
              "      <td>364</td>\n",
              "      <td>9</td>\n",
              "      <td>AK</td>\n",
              "      <td>2020-05-01 22:41:02</td>\n",
              "      <td>2020</td>\n",
              "      <td>5</td>\n",
              "      <td>1</td>\n",
              "      <td>737438</td>\n",
              "      <td>0.00122</td>\n",
              "      <td>2.652698</td>\n",
              "      <td>0.049360</td>\n",
              "    </tr>\n",
              "    <tr>\n",
              "      <th>2</th>\n",
              "      <td>2</td>\n",
              "      <td>1588390979</td>\n",
              "      <td>20325</td>\n",
              "      <td>364</td>\n",
              "      <td>9</td>\n",
              "      <td>AK</td>\n",
              "      <td>2020-05-02 03:42:59</td>\n",
              "      <td>2020</td>\n",
              "      <td>5</td>\n",
              "      <td>2</td>\n",
              "      <td>737438</td>\n",
              "      <td>0.00122</td>\n",
              "      <td>2.756164</td>\n",
              "      <td>0.049360</td>\n",
              "    </tr>\n",
              "    <tr>\n",
              "      <th>3</th>\n",
              "      <td>3</td>\n",
              "      <td>1588445522</td>\n",
              "      <td>20325</td>\n",
              "      <td>365</td>\n",
              "      <td>9</td>\n",
              "      <td>AK</td>\n",
              "      <td>2020-05-02 18:52:02</td>\n",
              "      <td>2020</td>\n",
              "      <td>5</td>\n",
              "      <td>2</td>\n",
              "      <td>737438</td>\n",
              "      <td>0.00122</td>\n",
              "      <td>2.756164</td>\n",
              "      <td>0.049496</td>\n",
              "    </tr>\n",
              "    <tr>\n",
              "      <th>4</th>\n",
              "      <td>4</td>\n",
              "      <td>1588466696</td>\n",
              "      <td>21399</td>\n",
              "      <td>365</td>\n",
              "      <td>9</td>\n",
              "      <td>AK</td>\n",
              "      <td>2020-05-03 00:44:56</td>\n",
              "      <td>2020</td>\n",
              "      <td>5</td>\n",
              "      <td>3</td>\n",
              "      <td>737438</td>\n",
              "      <td>0.00122</td>\n",
              "      <td>2.901803</td>\n",
              "      <td>0.049496</td>\n",
              "    </tr>\n",
              "  </tbody>\n",
              "</table>\n",
              "</div>"
            ],
            "text/plain": [
              "   Unnamed: 0  seconds_since_Epoch  ...  tested_percent  positive_percent\n",
              "0           0           1588293736  ...        2.652698          0.048140\n",
              "1           1           1588372862  ...        2.652698          0.049360\n",
              "2           2           1588390979  ...        2.756164          0.049360\n",
              "3           3           1588445522  ...        2.756164          0.049496\n",
              "4           4           1588466696  ...        2.901803          0.049496\n",
              "\n",
              "[5 rows x 14 columns]"
            ]
          },
          "metadata": {
            "tags": []
          },
          "execution_count": 26
        }
      ]
    },
    {
      "cell_type": "code",
      "metadata": {
        "id": "sQwokqnD4ATU"
      },
      "source": [
        ""
      ],
      "execution_count": 26,
      "outputs": []
    },
    {
      "cell_type": "code",
      "metadata": {
        "id": "xv3mVKSdreDh",
        "outputId": "855f90a9-3eed-44ba-dd9d-94017930beea",
        "colab": {
          "base_uri": "https://localhost:8080/",
          "height": 542
        }
      },
      "source": [
        "user_input = ['Albany, NY', 'Sacramento, CA', 'Austin, TX', 'Hartford, CT']   # user searched list of cities\n",
        "user_input_postals = []\n",
        "for i in range(len(user_input)):\n",
        "  user_input_postals.append(user_input[i][-2:])\n",
        "# Set subset of grouped df for only these city-states\n",
        "subsetC = covid[covid['postal'].isin(user_input_postals)]\n",
        "# create line chart with color var as the city-state\n",
        "fig = px.line(subsetC, x='date', y='positive_percent', color='postal', title=f'Covid Cases (%) Over Time in {user_input_postals}').for_each_trace(lambda t: t.update(name=t.name.split(\"=\")[1]))\n",
        "# fig.layout.title.Font(\"Balto\")\n",
        "# fig.update_layout(tickmode='array',tickvals=months)\n",
        "# fig.update_layout(legend=dict(yanchor=\"top\",y=0.99,xanchor=\"left\",x=0.01))    # legend inside graph top left\n",
        "fig.update_layout(legend=dict(orientation=\"h\",yanchor=\"bottom\",y=1.02,xanchor=\"right\",x=1))   # legend above graph top right\n",
        "fig.show()"
      ],
      "execution_count": 27,
      "outputs": [
        {
          "output_type": "display_data",
          "data": {
            "text/html": [
              "<html>\n",
              "<head><meta charset=\"utf-8\" /></head>\n",
              "<body>\n",
              "    <div>\n",
              "            <script src=\"https://cdnjs.cloudflare.com/ajax/libs/mathjax/2.7.5/MathJax.js?config=TeX-AMS-MML_SVG\"></script><script type=\"text/javascript\">if (window.MathJax) {MathJax.Hub.Config({SVG: {font: \"STIX-Web\"}});}</script>\n",
              "                <script type=\"text/javascript\">window.PlotlyConfig = {MathJaxConfig: 'local'};</script>\n",
              "        <script src=\"https://cdn.plot.ly/plotly-latest.min.js\"></script>    \n",
              "            <div id=\"337c5974-39d0-452c-b657-610e7c2fcdcf\" class=\"plotly-graph-div\" style=\"height:525px; width:100%;\"></div>\n",
              "            <script type=\"text/javascript\">\n",
              "                \n",
              "                    window.PLOTLYENV=window.PLOTLYENV || {};\n",
              "                    \n",
              "                if (document.getElementById(\"337c5974-39d0-452c-b657-610e7c2fcdcf\")) {\n",
              "                    Plotly.newPlot(\n",
              "                        '337c5974-39d0-452c-b657-610e7c2fcdcf',\n",
              "                        [{\"hoverlabel\": {\"namelength\": 0}, \"hovertemplate\": \"postal=CA<br>date=%{x}<br>positive_percent=%{y}\", \"legendgroup\": \"postal=CA\", \"line\": {\"color\": \"#636efa\", \"dash\": \"solid\"}, \"mode\": \"lines\", \"name\": \"CA\", \"showlegend\": true, \"type\": \"scatter\", \"x\": [\"2020-05-01 00:23:02\", \"2020-05-02 02:36:03\", \"2020-05-02 03:42:59\", \"2020-05-02 18:52:02\", \"2020-05-03 00:44:56\", \"2020-05-04 04:20:59\", \"2020-05-05 01:38:02\", \"2020-05-05 02:07:02\", \"2020-05-06 01:53:02\", \"2020-05-06 02:06:37\", \"2020-05-06 21:06:03\", \"2020-05-07 04:43:33\", \"2020-05-08 00:29:03\", \"2020-05-09 03:23:02\", \"2020-05-10 21:47:02\", \"2020-05-12 02:58:02\", \"2020-05-13 00:14:02\", \"2020-05-14 04:46:02\", \"2020-05-14 20:50:02\", \"2020-05-15 04:51:40\", \"2020-05-16 03:08:03\", \"2020-05-16 20:26:02\", \"2020-05-18 03:36:02\", \"2020-05-19 04:05:02\", \"2020-05-19 22:07:02\", \"2020-05-21 02:31:02\", \"2020-05-22 02:59:31\", \"2020-05-23 07:49:02\", \"2020-05-24 03:25:43\", \"2020-05-25 01:44:10\", \"2020-05-26 00:07:02\", \"2020-05-27 05:21:15\", \"2020-05-28 05:26:31\", \"2020-05-29 13:13:02\", \"2020-05-30 03:53:03\", \"2020-06-01 01:33:02\", \"2020-06-02 06:23:41\", \"2020-06-03 06:38:40\", \"2020-06-04 04:55:44\", \"2020-06-05 06:52:54\", \"2020-06-06 04:21:36\", \"2020-06-08 00:24:04\", \"2020-06-09 04:00:23\", \"2020-06-09 23:05:09\", \"2020-06-11 07:15:10\", \"2020-06-12 07:00:15\", \"2020-06-13 06:19:24\", \"2020-06-14 06:45:01\", \"2020-06-15 01:30:57\", \"2020-06-16 05:33:41\", \"2020-06-17 07:03:34\", \"2020-06-18 05:41:38\", \"2020-06-19 07:06:02\", \"2020-06-20 07:35:16\", \"2020-06-21 01:20:24\", \"2020-06-22 03:23:35\", \"2020-06-23 04:58:25\", \"2020-06-23 17:22:22\", \"2020-06-23 22:53:46\", \"2020-06-24 06:43:49\", \"2020-06-25 04:57:10\", \"2020-06-25 06:22:59\", \"2020-06-26 06:31:24\", \"2020-06-27 02:38:33\", \"2020-06-28 23:37:49\", \"2020-06-30 13:11:32\", \"2020-07-01 06:09:35\", \"2020-07-02 05:03:13\", \"2020-07-03 21:46:40\", \"2020-07-05 05:16:05\", \"2020-07-06 13:30:07\", \"2020-07-07 05:49:52\", \"2020-07-09 05:15:54\", \"2020-07-10 06:12:49\", \"2020-07-11 05:37:00\", \"2020-07-12 14:20:44\", \"2020-07-13 03:19:52\", \"2020-07-14 05:22:13\", \"2020-07-14 05:30:13\", \"2020-07-16 06:17:59\", \"2020-07-17 01:13:38\", \"2020-07-20 00:34:08\", \"2020-07-20 21:39:36\", \"2020-07-21 06:30:41\", \"2020-07-22 05:16:54\", \"2020-07-23 07:07:29\", \"2020-07-24 07:00:19\", \"2020-07-25 07:23:41\", \"2020-07-26 07:14:47\", \"2020-07-27 05:57:57\", \"2020-07-28 05:17:49\", \"2020-07-28 06:16:46\", \"2020-07-29 04:04:15\", \"2020-07-30 05:41:02\", \"2020-07-31 04:13:51\", \"2020-07-31 05:33:27\", \"2020-08-01 05:34:16\", \"2020-08-03 00:47:59\", \"2020-08-03 01:21:51\", \"2020-08-04 01:10:32\", \"2020-08-04 01:17:01\", \"2020-08-05 07:41:29\", \"2020-08-06 01:56:38\", \"2020-08-06 06:10:43\", \"2020-08-07 05:43:43\", \"2020-08-08 04:15:18\", \"2020-08-10 06:24:30\", \"2020-08-11 05:47:57\", \"2020-08-12 07:33:04\", \"2020-08-13 04:26:15\", \"2020-08-14 05:33:15\", \"2020-08-15 03:05:32\", \"2020-08-17 06:39:46\", \"2020-08-18 07:11:28\", \"2020-08-20 07:02:42\", \"2020-08-21 06:12:54\", \"2020-08-24 06:54:44\", \"2020-08-25 16:17:01\", \"2020-08-26 05:41:57\", \"2020-08-27 02:53:59\", \"2020-08-28 04:17:34\", \"2020-08-31 06:56:39\", \"2020-09-01 03:01:05\", \"2020-09-02 07:29:46\", \"2020-09-03 05:41:57\", \"2020-09-04 06:33:31\", \"2020-09-05 04:29:47\", \"2020-09-07 05:56:57\", \"2020-09-08 04:52:15\", \"2020-09-10 06:35:50\", \"2020-09-11 07:11:58\", \"2020-09-12 02:55:38\", \"2020-09-13 08:14:35\", \"2020-09-14 05:51:03\", \"2020-09-15 04:19:04\", \"2020-09-16 04:14:14\", \"2020-09-17 17:36:48\", \"2020-09-18 04:16:17\", \"2020-09-21 06:18:37\", \"2020-09-22 04:36:34\", \"2020-09-23 03:42:18\", \"2020-09-25 02:27:31\", \"2020-09-26 04:35:07\", \"2020-09-28 04:45:25\", \"2020-09-29 05:51:28\", \"2020-09-30 04:43:55\", \"2020-10-01 15:38:55\", \"2020-10-02 04:13:41\"], \"xaxis\": \"x\", \"y\": [0.123662057284425, 0.12751725358343655, 0.12751725358343655, 0.13195388932426624, 0.13195388932426624, 0.13554111788052683, 0.13888060267462143, 0.13888060267462143, 0.1421037995803524, 0.1421037995803524, 0.14868417726318983, 0.14868417726318983, 0.1532320448972369, 0.15803018429102308, 0.16856687817579696, 0.17174962712035796, 0.1753975276183735, 0.17984427534949568, 0.17984427534949568, 0.18495841443992214, 0.1894380261394949, 0.19413251763278305, 0.19930480066739134, 0.20332684480622898, 0.20677756149354096, 0.21249589200394367, 0.21790580681042546, 0.22358621735723136, 0.22911494804964985, 0.2343706550041712, 0.23904239451930123, 0.24454078924084233, 0.25022119978764823, 0.2570897691938216, 0.26262355588138636, 0.2795535556285866, 0.285678893748262, 0.29150340015673587, 0.29751245038804763, 0.30287180524306695, 0.31069342973430747, 0.32563642338903354, 0.3319741133048512, 0.3374598680385267, 0.3442905174811032, 0.35210202998205126, 0.35893267942462775, 0.3681851505422555, 0.3763050787471244, 0.3828702884445231, 0.388199307328665, 0.3969335389438026, 0.40725788103243415, 0.4181712465556033, 0.42801274110776855, 0.4394266501504158, 0.45012007988472336, 0.45012007988472336, 0.46280809970422426, 0.46280809970422426, 0.4808807543544758, 0.4808807543544758, 0.49440301337310716, 0.5067649215056753, 0.5340217913390803, 0.5474378744596405, 0.5635336350077104, 0.5881563313699218, 0.607212377076118, 0.6439947417650479, 0.6576712086356397, 0.6868164926561671, 0.7317744014965746, 0.7495487524331976, 0.7692620775084056, 0.789604873979321, 0.8109917334479358, 0.8321207371640924, 0.8321207371640924, 0.878817908334808, 0.9004171195995652, 0.9725004423995752, 0.9898071137851707, 0.9898071137851707, 1.0131430593826631, 1.0455191243016406, 1.0759562150820337, 1.1005232954976363, 1.1259701190686857, 1.146848851025103, 1.164269282301489, 1.164269282301489, 1.179437267740223, 1.201569886492909, 1.2273478777460374, 1.2273478777460374, 1.2477892661223047, 1.2871603003261118, 1.2871603003261118, 1.3016684783982606, 1.3016684783982606, 1.3131101954142124, 1.3264959425638951, 1.3264959425638951, 1.3397881538033725, 1.3611143413302325, 1.4009151351214701, 1.4205096443107414, 1.4521096139747705, 1.4815481457137802, 1.4994590085193518, 1.5195161412645044, 1.5514043026518696, 1.5876608438455901, 1.614963217635311, 1.6299289632681953, 1.6777536213565234, 1.6902570973531865, 1.7015825264807747, 1.716760623909801, 1.7279596531587331, 1.7693682534064767, 1.7799251712718356, 1.7893090982632656, 1.800065727936901, 1.813021715499153, 1.825929671107516, 1.850858255176075, 1.858672295674596, 1.8695224612584371, 1.8779609171575193, 1.8863690370857242, 1.8967515231185377, 1.9084435118942287, 1.9156609449654929, 1.9213110195414211, 1.928768612382132, 1.9369542685239023, 1.9677933109184216, 1.9761205349242865, 1.9827691685415982, 1.998736001213439, 2.0073311929620545, 2.02823267689663, 2.035702909725207, 2.0411684404782973, 2.049258032712289, 2.0569987612811893], \"yaxis\": \"y\"}, {\"hoverlabel\": {\"namelength\": 0}, \"hovertemplate\": \"postal=CT<br>date=%{x}<br>positive_percent=%{y}\", \"legendgroup\": \"postal=CT\", \"line\": {\"color\": \"#EF553B\", \"dash\": \"solid\"}, \"mode\": \"lines\", \"name\": \"CT\", \"showlegend\": true, \"type\": \"scatter\", \"x\": [\"2020-05-01 00:42:16\", \"2020-05-02 03:42:59\", \"2020-05-03 00:44:56\", \"2020-05-04 04:20:59\", \"2020-05-05 02:07:02\", \"2020-05-06 02:06:37\", \"2020-05-06 21:06:03\", \"2020-05-07 20:31:03\", \"2020-05-08 23:08:02\", \"2020-05-10 02:41:02\", \"2020-05-10 21:47:02\", \"2020-05-12 00:00:02\", \"2020-05-13 00:10:42\", \"2020-05-14 01:45:02\", \"2020-05-14 20:50:02\", \"2020-05-16 03:08:03\", \"2020-05-16 20:26:02\", \"2020-05-17 17:42:03\", \"2020-05-18 19:56:02\", \"2020-05-20 02:00:49\", \"2020-05-21 02:20:03\", \"2020-05-21 15:25:02\", \"2020-05-23 07:49:02\", \"2020-05-23 21:48:02\", \"2020-05-25 01:44:10\", \"2020-05-27 05:38:57\", \"2020-05-28 05:48:03\", \"2020-05-29 15:34:02\", \"2020-05-30 06:41:02\", \"2020-05-31 07:23:02\", \"2020-06-01 05:59:02\", \"2020-06-02 06:23:42\", \"2020-06-03 06:38:40\", \"2020-06-04 05:26:35\", \"2020-06-05 06:52:54\", \"2020-06-09 04:00:23\", \"2020-06-10 06:36:45\", \"2020-06-11 07:15:10\", \"2020-06-12 07:00:15\", \"2020-06-12 20:38:57\", \"2020-06-14 06:45:01\", \"2020-06-15 00:07:19\", \"2020-06-16 05:33:41\", \"2020-06-17 07:03:34\", \"2020-06-19 07:06:02\", \"2020-06-21 01:20:24\", \"2020-06-24 06:43:49\", \"2020-06-26 06:31:24\", \"2020-06-27 02:38:33\", \"2020-06-29 02:34:28\", \"2020-07-01 21:46:28\", \"2020-07-03 21:36:29\", \"2020-07-07 22:10:19\", \"2020-07-11 05:37:00\", \"2020-07-16 06:15:57\", \"2020-07-17 04:47:09\", \"2020-07-20 00:34:08\", \"2020-07-22 05:16:54\", \"2020-07-28 06:16:46\", \"2020-07-30 05:49:11\", \"2020-08-03 01:21:51\", \"2020-08-07 05:43:43\", \"2020-08-13 04:26:16\", \"2020-08-24 06:54:44\", \"2020-09-01 03:01:05\", \"2020-09-15 04:19:04\", \"2020-09-22 04:36:34\", \"2020-09-29 05:51:28\"], \"xaxis\": \"x\", \"y\": [0.7753326652970056, 0.8051143965560675, 0.8197533490452493, 0.8197533490452493, 0.8389547284096444, 0.8570924745147873, 0.8675608650137433, 0.8896452503176904, 0.9071951990953518, 0.9232336690309182, 0.9391881679197013, 0.9450941315434438, 0.9609926497343716, 0.9756036118746256, 0.9926497343715887, 1.010031741055684, 1.0273297766929963, 1.0473708665252222, 1.066880139727822, 1.0756691092911164, 1.0920994441116705, 1.097445600756859, 1.109537431493621, 1.1202297447839986, 1.1327134404057482, 1.1560853817603691, 1.1560853817603691, 1.1632509110858578, 1.1689329519181786, 1.1762104426393778, 1.1812207150974343, 1.1963075131694592, 1.202997206563177, 1.2061321256430784, 1.2102746972843763, 1.2341504649196957, 1.2365856252764047, 1.2412880038962566, 1.2444789036740131, 1.2508607032295265, 1.2593977596524717, 1.2620288524516747, 1.266143433744045, 1.2693343335218017, 1.2718814552742215, 1.279578801229336, 1.284729025432031, 1.2873881085801615, 1.2892074812604615, 1.2960371263988177, 1.3035665302603663, 1.3076251308548812, 1.3164700811160313, 1.3235796297436644, 1.333348261519428, 1.3365391612971849, 1.3405417811938443, 1.3462238220261653, 1.371051261525026, 1.3866418858777494, 1.3941992800882257, 1.4063750818717706, 1.4192786327274356, 1.4420347864056473, 1.4801016609473054, 1.5365302043855278, 1.5681313083248896, 1.5995644701706853], \"yaxis\": \"y\"}, {\"hoverlabel\": {\"namelength\": 0}, \"hovertemplate\": \"postal=NY<br>date=%{x}<br>positive_percent=%{y}\", \"legendgroup\": \"postal=NY\", \"line\": {\"color\": \"#00cc96\", \"dash\": \"solid\"}, \"mode\": \"lines\", \"name\": \"NY\", \"showlegend\": true, \"type\": \"scatter\", \"x\": [\"2020-05-01 16:55:02\", \"2020-05-02 16:22:03\", \"2020-05-04 04:20:59\", \"2020-05-04 18:26:02\", \"2020-05-05 16:57:03\", \"2020-05-07 01:22:02\", \"2020-05-07 20:31:03\", \"2020-05-09 18:01:42\", \"2020-05-11 05:07:41\", \"2020-05-12 02:51:42\", \"2020-05-13 00:10:42\", \"2020-05-14 02:33:18\", \"2020-05-15 04:51:40\", \"2020-05-16 03:14:38\", \"2020-05-16 22:52:02\", \"2020-05-17 23:24:02\", \"2020-05-19 02:24:33\", \"2020-05-19 22:07:03\", \"2020-05-20 20:23:03\", \"2020-05-22 04:40:37\", \"2020-05-22 20:44:31\", \"2020-05-23 21:56:39\", \"2020-05-25 00:59:18\", \"2020-05-25 19:33:03\", \"2020-05-26 18:02:03\", \"2020-05-27 20:56:21\", \"2020-05-28 20:34:02\", \"2020-05-29 21:08:02\", \"2020-05-30 19:19:03\", \"2020-06-01 01:33:02\", \"2020-06-01 21:03:03\", \"2020-06-02 19:18:16\", \"2020-06-04 05:06:35\", \"2020-06-05 00:56:20\", \"2020-06-06 04:21:36\", \"2020-06-08 00:24:04\", \"2020-06-08 00:25:27\", \"2020-06-08 22:08:54\", \"2020-06-09 23:05:09\", \"2020-06-10 21:23:32\", \"2020-06-12 07:05:10\", \"2020-06-13 06:19:24\", \"2020-06-14 06:45:01\", \"2020-06-15 03:49:48\", \"2020-06-15 23:23:29\", \"2020-06-17 07:03:34\", \"2020-06-18 05:41:38\", \"2020-06-19 04:42:36\", \"2020-06-19 21:08:36\", \"2020-06-21 01:20:24\", \"2020-06-22 05:25:10\", \"2020-06-23 17:22:22\", \"2020-06-25 06:22:59\", \"2020-06-26 06:31:24\", \"2020-06-27 02:38:34\", \"2020-06-29 02:34:28\", \"2020-06-30 13:11:32\", \"2020-07-01 06:09:35\", \"2020-07-02 05:06:18\", \"2020-07-03 13:52:15\", \"2020-07-06 13:36:43\", \"2020-07-07 21:39:10\", \"2020-07-09 05:15:54\", \"2020-07-10 06:12:49\", \"2020-07-11 05:37:00\", \"2020-07-12 14:20:44\", \"2020-07-13 03:19:52\", \"2020-07-13 20:49:15\", \"2020-07-14 22:46:36\", \"2020-07-15 21:54:51\", \"2020-07-17 04:47:09\", \"2020-07-20 00:34:08\", \"2020-07-21 06:30:41\", \"2020-07-22 05:16:54\", \"2020-07-23 07:07:29\", \"2020-07-24 07:00:19\", \"2020-07-25 07:23:41\", \"2020-07-26 07:14:47\", \"2020-07-27 05:57:57\", \"2020-07-28 06:16:46\", \"2020-07-29 04:04:15\", \"2020-07-30 05:41:02\", \"2020-07-31 05:33:27\", \"2020-08-01 05:34:16\", \"2020-08-03 01:21:51\", \"2020-08-04 01:17:01\", \"2020-08-05 07:41:29\", \"2020-08-06 06:10:43\", \"2020-08-07 05:43:43\", \"2020-08-08 04:15:18\", \"2020-08-10 06:24:30\", \"2020-08-11 05:47:57\", \"2020-08-12 07:33:04\", \"2020-08-13 04:26:16\", \"2020-08-14 05:33:15\", \"2020-08-15 03:05:32\", \"2020-08-16 01:22:06\", \"2020-08-17 06:36:31\", \"2020-08-18 07:11:28\", \"2020-08-19 04:13:44\", \"2020-08-20 07:02:42\", \"2020-08-21 06:12:54\", \"2020-08-24 06:54:44\", \"2020-09-01 03:01:05\", \"2020-09-15 04:19:04\", \"2020-09-22 04:36:34\", \"2020-09-29 05:51:29\"], \"xaxis\": \"x\", \"y\": [1.5776831677088556, 1.6015443501755176, 1.6191370470059665, 1.6321243258179734, 1.6435815824216313, 1.6578379097542753, 1.6757018145346994, 1.7046289568216477, 1.7162601958837798, 1.7247546335622397, 1.732072131080431, 1.743207008422798, 1.7554369518273276, 1.7695704680128135, 1.7819488082201593, 1.7916150689277563, 1.7980114828422593, 1.805554134130241, 1.8133577591059349, 1.8240423289087209, 1.8327209833079183, 1.8417885396731177, 1.8499196610412338, 1.8563109578246053, 1.8617965223976831, 1.867573763445262, 1.8766208512859353, 1.8845575216710504, 1.891598694108135, 1.897278709664214, 1.9020939300590518, 1.9088945973329514, 1.9142419993654756, 1.9196047527913949, 1.9251056687578676, 1.930775450051683, 1.9347719294654644, 1.9383641555198494, 1.9418591560827339, 1.9453081024654337, 1.949074310978293, 1.9532805927684704, 1.9579678848850182, 1.9615191738903501, 1.9646917951919436, 1.9679207049359846, 1.9708221182876031, 1.9739845053269336, 1.978057741707689, 1.9817216075979163, 1.9851193826693, 1.9909989663395113, 1.9939720195269726, 1.9978047507445424, 2.0019240413054824, 2.0086735372680664, 2.0106743355405228, 2.013355712253482, 2.016553919210734, 2.021031408950886, 2.032171403424384, 2.037830950455936, 2.041372005199005, 2.044360409779861, 2.0483824748493005, 2.05211798057537, 2.0555822783514652, 2.0584325203917677, 2.063099343983789, 2.0673516799541507, 2.0712867537943525, 2.081684764253769, 2.0843405553110705, 2.0887157024285905, 2.09232327987637, 2.0964732732241, 2.1003264729661963, 2.104164321314898, 2.106907103601437, 2.110018319329451, 2.1127508673537267, 2.1164096161128225, 2.1203856270020776, 2.1236810594508295, 2.130251455823807, 2.1330402922905303, 2.1368576721147057, 2.140112167514405, 2.1437095106999213, 2.1473631423278854, 2.153595808046177, 2.1560315624648196, 2.1594446889295984, 2.16302668072172, 2.166798006365711, 2.170518160698386, 2.1742741349489823, 2.1773802335458647, 2.1794680230475585, 2.1828197439387584, 2.1860486536827994, 2.1891240494928925, 2.1990205811014114, 2.2247034622509236, 2.276857262744215, 2.3051294122463184, 2.3357656763312216], \"yaxis\": \"y\"}, {\"hoverlabel\": {\"namelength\": 0}, \"hovertemplate\": \"postal=TX<br>date=%{x}<br>positive_percent=%{y}\", \"legendgroup\": \"postal=TX\", \"line\": {\"color\": \"#ab63fa\", \"dash\": \"solid\"}, \"mode\": \"lines\", \"name\": \"TX\", \"showlegend\": true, \"type\": \"scatter\", \"x\": [\"2020-05-01 17:41:44\", \"2020-05-02 16:41:02\", \"2020-05-02 18:52:02\", \"2020-05-03 17:30:24\", \"2020-05-04 19:59:02\", \"2020-05-05 17:04:54\", \"2020-05-05 21:46:19\", \"2020-05-06 19:06:02\", \"2020-05-07 17:13:02\", \"2020-05-07 20:31:03\", \"2020-05-08 18:29:03\", \"2020-05-09 18:00:02\", \"2020-05-11 00:50:02\", \"2020-05-12 00:00:02\", \"2020-05-13 00:10:42\", \"2020-05-14 01:45:02\", \"2020-05-14 20:50:02\", \"2020-05-16 03:08:03\", \"2020-05-16 20:26:02\", \"2020-05-17 20:34:03\", \"2020-05-19 00:33:03\", \"2020-05-19 22:13:43\", \"2020-05-21 02:20:03\", \"2020-05-22 04:40:37\", \"2020-05-23 07:49:03\", \"2020-05-24 03:25:43\", \"2020-05-25 01:44:10\", \"2020-05-26 18:02:03\", \"2020-05-27 21:04:55\", \"2020-05-29 14:04:02\", \"2020-05-29 15:34:02\", \"2020-05-30 05:40:02\", \"2020-05-31 07:23:02\", \"2020-06-01 05:59:02\", \"2020-06-02 06:23:42\", \"2020-06-03 06:38:40\", \"2020-06-04 05:26:36\", \"2020-06-05 06:52:54\", \"2020-06-06 07:15:26\", \"2020-06-08 22:14:28\", \"2020-06-10 06:36:46\", \"2020-06-11 07:15:10\", \"2020-06-12 07:02:29\", \"2020-06-15 00:07:19\", \"2020-06-16 05:33:41\", \"2020-06-17 00:18:09\", \"2020-06-18 05:44:59\", \"2020-06-19 05:59:58\", \"2020-06-21 01:20:24\", \"2020-06-24 06:43:49\", \"2020-06-25 06:22:59\", \"2020-06-26 06:31:24\", \"2020-06-27 02:38:34\", \"2020-06-29 02:34:28\", \"2020-06-30 13:11:32\", \"2020-07-01 06:09:35\", \"2020-07-02 05:03:13\", \"2020-07-03 13:52:15\", \"2020-07-05 05:16:05\", \"2020-07-06 13:30:07\", \"2020-07-07 05:49:52\", \"2020-07-07 21:39:10\", \"2020-07-09 05:15:54\", \"2020-07-10 06:12:49\", \"2020-07-11 05:37:00\", \"2020-07-12 14:20:44\", \"2020-07-13 03:19:52\", \"2020-07-13 20:49:15\", \"2020-07-14 22:46:36\", \"2020-07-15 21:54:51\", \"2020-07-17 04:47:09\", \"2020-07-18 22:04:32\", \"2020-07-19 01:35:51\", \"2020-07-21 06:30:41\", \"2020-07-22 05:16:54\", \"2020-07-23 07:07:29\", \"2020-07-24 07:00:19\", \"2020-07-25 07:23:41\", \"2020-07-26 07:14:47\", \"2020-07-27 05:57:57\", \"2020-07-28 05:17:49\", \"2020-07-28 06:16:46\", \"2020-07-29 04:04:15\", \"2020-07-30 05:41:02\", \"2020-07-31 05:33:27\", \"2020-08-01 05:34:16\", \"2020-08-02 15:58:14\", \"2020-08-03 01:21:51\", \"2020-08-04 01:17:01\", \"2020-08-05 07:41:29\", \"2020-08-06 06:10:43\", \"2020-08-07 05:43:43\", \"2020-08-08 04:15:18\", \"2020-08-10 06:24:30\", \"2020-08-11 05:47:57\", \"2020-08-12 07:33:04\", \"2020-08-13 04:26:16\", \"2020-08-14 05:33:15\", \"2020-08-15 03:05:32\", \"2020-08-16 01:22:06\", \"2020-08-17 06:36:31\", \"2020-08-18 07:11:28\", \"2020-08-19 04:13:44\", \"2020-08-20 07:02:42\", \"2020-08-21 06:12:54\", \"2020-08-24 06:54:44\", \"2020-08-25 16:17:01\", \"2020-08-26 05:41:57\", \"2020-08-27 02:53:59\", \"2020-08-28 04:17:34\", \"2020-08-31 06:56:39\", \"2020-09-01 03:01:05\", \"2020-09-02 07:29:46\", \"2020-09-03 05:41:57\", \"2020-09-04 06:33:31\", \"2020-09-05 04:29:48\", \"2020-09-07 05:56:57\", \"2020-09-08 04:52:15\", \"2020-09-10 06:35:50\", \"2020-09-11 07:11:58\", \"2020-09-12 02:55:38\", \"2020-09-13 08:14:35\", \"2020-09-14 05:51:03\", \"2020-09-15 04:19:04\", \"2020-09-16 04:14:14\", \"2020-09-17 17:36:48\", \"2020-09-18 04:16:17\", \"2020-09-21 06:18:37\", \"2020-09-22 04:36:34\", \"2020-09-23 03:42:18\", \"2020-09-25 02:27:31\", \"2020-09-26 04:35:08\", \"2020-09-28 04:45:25\", \"2020-09-29 05:51:29\", \"2020-09-30 04:43:55\", \"2020-10-01 15:38:55\", \"2020-10-02 04:13:41\"], \"xaxis\": \"x\", \"y\": [0.10183681859674307, 0.1063417625375412, 0.1063417625375412, 0.10991645123302372, 0.11264798723425011, 0.11626100105219882, 0.11626100105219882, 0.1199297605028256, 0.12330237127985005, 0.12330237127985005, 0.12754949166951202, 0.13190810332453015, 0.1354235622852922, 0.13890766432767282, 0.14301542063563957, 0.14773637890306532, 0.15278135866043244, 0.15747444411151915, 0.16374931188984662, 0.1664843319931154, 0.1696513807496394, 0.17389850113930136, 0.17881456912110041, 0.1821070455511501, 0.18622177006320162, 0.18991491822812506, 0.1928380798416824, 0.1950086754140855, 0.20180267439672772, 0.20826568368534376, 0.20826568368534376, 0.21255112919747193, 0.21719195311792291, 0.22398246799852276, 0.22604854050965445, 0.2319297047571929, 0.23786313053536712, 0.24360841480325274, 0.24950699956100314, 0.2612310029336139, 0.2691573350800298, 0.2778815265941509, 0.2842434969235379, 0.29967110076719927, 0.31046136479245207, 0.3247392149621278, 0.33564097025273676, 0.347891073033747, 0.3753597335358758, 0.4193813628413549, 0.43872161327860976, 0.45961228912472385, 0.4794960594805901, 0.4794960594805901, 0.5331059376067007, 0.5574075493523054, 0.5855451574465713, 0.6131218251120139, 0.6682159307081786, 0.6802325986523494, 0.6987610533137295, 0.7336996285947223, 0.7684674828756385, 0.8025489690542056, 0.8365712254980524, 0.8726351657387341, 0.9011908660780856, 0.920893463127748, 0.9583301395731278, 0.983788473196803, 1.0196433673149419, 1.0716122333790912, 1.1070037419255936, 1.1582339783567581, 1.1906535478611098, 1.2250729919377878, 1.2581963500547004, 1.2885115219254542, 1.3094858162205856, 1.3297284490868169, 1.344595112501655, 1.344595112501655, 1.373659491739194, 1.4051627424063997, 1.4358228403793492, 1.4666188183319513, 1.49985366771422, 1.49985366771422, 1.540021880160826, 1.5719606435833293, 1.6022932359642947, 1.6287654432823029, 1.6532900375586201, 1.6945348375363218, 1.7100565121351274, 1.7442111644565845, 1.7658125971193446, 1.7893477064156253, 1.8137991345490527, 1.8425255558884808, 1.8641409249594103, 1.891693203910556, 1.9170644349831716, 1.9415367677288533, 1.9600129608595978, 2.0121978412503747, 2.022117079765032, 2.0442271913259797, 2.063065731069132, 2.0825767025064628, 2.126535617975179, 2.1356465448160047, 2.1508511661289536, 2.1659512643806313, 2.178772759896592, 2.1978726072929224, 2.223937174671972, 2.231114424879276, 2.250001742051021, 2.264000864057307, 2.2763589740016306, 2.291107177947028, 2.29753534621522, 2.3115100795072085, 2.329979304433868, 2.350974503341254, 2.365074664306768, 2.398922715648496, 2.4332515730720723, 2.4953382714672947, 2.5222076664181343, 2.5383495111804835, 2.5612749026193478, 2.5755248799726846, 2.589677302468835, 2.609477454375684, 2.621790270993457], \"yaxis\": \"y\"}],\n",
              "                        {\"legend\": {\"orientation\": \"h\", \"tracegroupgap\": 0, \"x\": 1, \"xanchor\": \"right\", \"y\": 1.02, \"yanchor\": \"bottom\"}, \"template\": {\"data\": {\"bar\": [{\"error_x\": {\"color\": \"#2a3f5f\"}, \"error_y\": {\"color\": \"#2a3f5f\"}, \"marker\": {\"line\": {\"color\": \"#E5ECF6\", \"width\": 0.5}}, \"type\": \"bar\"}], \"barpolar\": [{\"marker\": {\"line\": {\"color\": \"#E5ECF6\", \"width\": 0.5}}, \"type\": \"barpolar\"}], \"carpet\": [{\"aaxis\": {\"endlinecolor\": \"#2a3f5f\", \"gridcolor\": \"white\", \"linecolor\": \"white\", \"minorgridcolor\": \"white\", \"startlinecolor\": \"#2a3f5f\"}, \"baxis\": {\"endlinecolor\": \"#2a3f5f\", \"gridcolor\": \"white\", \"linecolor\": \"white\", \"minorgridcolor\": \"white\", \"startlinecolor\": \"#2a3f5f\"}, \"type\": \"carpet\"}], \"choropleth\": [{\"colorbar\": {\"outlinewidth\": 0, \"ticks\": \"\"}, \"type\": \"choropleth\"}], \"contour\": [{\"colorbar\": {\"outlinewidth\": 0, \"ticks\": \"\"}, \"colorscale\": [[0.0, \"#0d0887\"], [0.1111111111111111, \"#46039f\"], [0.2222222222222222, \"#7201a8\"], [0.3333333333333333, \"#9c179e\"], [0.4444444444444444, \"#bd3786\"], [0.5555555555555556, \"#d8576b\"], [0.6666666666666666, \"#ed7953\"], [0.7777777777777778, \"#fb9f3a\"], [0.8888888888888888, \"#fdca26\"], [1.0, \"#f0f921\"]], \"type\": \"contour\"}], \"contourcarpet\": [{\"colorbar\": {\"outlinewidth\": 0, \"ticks\": \"\"}, \"type\": \"contourcarpet\"}], \"heatmap\": [{\"colorbar\": {\"outlinewidth\": 0, \"ticks\": \"\"}, \"colorscale\": [[0.0, \"#0d0887\"], [0.1111111111111111, \"#46039f\"], [0.2222222222222222, \"#7201a8\"], [0.3333333333333333, \"#9c179e\"], [0.4444444444444444, \"#bd3786\"], [0.5555555555555556, \"#d8576b\"], [0.6666666666666666, \"#ed7953\"], [0.7777777777777778, \"#fb9f3a\"], [0.8888888888888888, \"#fdca26\"], [1.0, \"#f0f921\"]], \"type\": \"heatmap\"}], \"heatmapgl\": [{\"colorbar\": {\"outlinewidth\": 0, \"ticks\": \"\"}, \"colorscale\": [[0.0, \"#0d0887\"], [0.1111111111111111, \"#46039f\"], [0.2222222222222222, \"#7201a8\"], [0.3333333333333333, \"#9c179e\"], [0.4444444444444444, \"#bd3786\"], [0.5555555555555556, \"#d8576b\"], [0.6666666666666666, \"#ed7953\"], [0.7777777777777778, \"#fb9f3a\"], [0.8888888888888888, \"#fdca26\"], [1.0, \"#f0f921\"]], \"type\": \"heatmapgl\"}], \"histogram\": [{\"marker\": {\"colorbar\": {\"outlinewidth\": 0, \"ticks\": \"\"}}, \"type\": \"histogram\"}], \"histogram2d\": [{\"colorbar\": {\"outlinewidth\": 0, \"ticks\": \"\"}, \"colorscale\": [[0.0, \"#0d0887\"], [0.1111111111111111, \"#46039f\"], [0.2222222222222222, \"#7201a8\"], [0.3333333333333333, \"#9c179e\"], [0.4444444444444444, \"#bd3786\"], [0.5555555555555556, \"#d8576b\"], [0.6666666666666666, \"#ed7953\"], [0.7777777777777778, \"#fb9f3a\"], [0.8888888888888888, \"#fdca26\"], [1.0, \"#f0f921\"]], \"type\": \"histogram2d\"}], \"histogram2dcontour\": [{\"colorbar\": {\"outlinewidth\": 0, \"ticks\": \"\"}, \"colorscale\": [[0.0, \"#0d0887\"], [0.1111111111111111, \"#46039f\"], [0.2222222222222222, \"#7201a8\"], [0.3333333333333333, \"#9c179e\"], [0.4444444444444444, \"#bd3786\"], [0.5555555555555556, \"#d8576b\"], [0.6666666666666666, \"#ed7953\"], [0.7777777777777778, \"#fb9f3a\"], [0.8888888888888888, \"#fdca26\"], [1.0, \"#f0f921\"]], \"type\": \"histogram2dcontour\"}], \"mesh3d\": [{\"colorbar\": {\"outlinewidth\": 0, \"ticks\": \"\"}, \"type\": \"mesh3d\"}], \"parcoords\": [{\"line\": {\"colorbar\": {\"outlinewidth\": 0, \"ticks\": \"\"}}, \"type\": \"parcoords\"}], \"pie\": [{\"automargin\": true, \"type\": \"pie\"}], \"scatter\": [{\"marker\": {\"colorbar\": {\"outlinewidth\": 0, \"ticks\": \"\"}}, \"type\": \"scatter\"}], \"scatter3d\": [{\"line\": {\"colorbar\": {\"outlinewidth\": 0, \"ticks\": \"\"}}, \"marker\": {\"colorbar\": {\"outlinewidth\": 0, \"ticks\": \"\"}}, \"type\": \"scatter3d\"}], \"scattercarpet\": [{\"marker\": {\"colorbar\": {\"outlinewidth\": 0, \"ticks\": \"\"}}, \"type\": \"scattercarpet\"}], \"scattergeo\": [{\"marker\": {\"colorbar\": {\"outlinewidth\": 0, \"ticks\": \"\"}}, \"type\": \"scattergeo\"}], \"scattergl\": [{\"marker\": {\"colorbar\": {\"outlinewidth\": 0, \"ticks\": \"\"}}, \"type\": \"scattergl\"}], \"scattermapbox\": [{\"marker\": {\"colorbar\": {\"outlinewidth\": 0, \"ticks\": \"\"}}, \"type\": \"scattermapbox\"}], \"scatterpolar\": [{\"marker\": {\"colorbar\": {\"outlinewidth\": 0, \"ticks\": \"\"}}, \"type\": \"scatterpolar\"}], \"scatterpolargl\": [{\"marker\": {\"colorbar\": {\"outlinewidth\": 0, \"ticks\": \"\"}}, \"type\": \"scatterpolargl\"}], \"scatterternary\": [{\"marker\": {\"colorbar\": {\"outlinewidth\": 0, \"ticks\": \"\"}}, \"type\": \"scatterternary\"}], \"surface\": [{\"colorbar\": {\"outlinewidth\": 0, \"ticks\": \"\"}, \"colorscale\": [[0.0, \"#0d0887\"], [0.1111111111111111, \"#46039f\"], [0.2222222222222222, \"#7201a8\"], [0.3333333333333333, \"#9c179e\"], [0.4444444444444444, \"#bd3786\"], [0.5555555555555556, \"#d8576b\"], [0.6666666666666666, \"#ed7953\"], [0.7777777777777778, \"#fb9f3a\"], [0.8888888888888888, \"#fdca26\"], [1.0, \"#f0f921\"]], \"type\": \"surface\"}], \"table\": [{\"cells\": {\"fill\": {\"color\": \"#EBF0F8\"}, \"line\": {\"color\": \"white\"}}, \"header\": {\"fill\": {\"color\": \"#C8D4E3\"}, \"line\": {\"color\": \"white\"}}, \"type\": \"table\"}]}, \"layout\": {\"annotationdefaults\": {\"arrowcolor\": \"#2a3f5f\", \"arrowhead\": 0, \"arrowwidth\": 1}, \"coloraxis\": {\"colorbar\": {\"outlinewidth\": 0, \"ticks\": \"\"}}, \"colorscale\": {\"diverging\": [[0, \"#8e0152\"], [0.1, \"#c51b7d\"], [0.2, \"#de77ae\"], [0.3, \"#f1b6da\"], [0.4, \"#fde0ef\"], [0.5, \"#f7f7f7\"], [0.6, \"#e6f5d0\"], [0.7, \"#b8e186\"], [0.8, \"#7fbc41\"], [0.9, \"#4d9221\"], [1, \"#276419\"]], \"sequential\": [[0.0, \"#0d0887\"], [0.1111111111111111, \"#46039f\"], [0.2222222222222222, \"#7201a8\"], [0.3333333333333333, \"#9c179e\"], [0.4444444444444444, \"#bd3786\"], [0.5555555555555556, \"#d8576b\"], [0.6666666666666666, \"#ed7953\"], [0.7777777777777778, \"#fb9f3a\"], [0.8888888888888888, \"#fdca26\"], [1.0, \"#f0f921\"]], \"sequentialminus\": [[0.0, \"#0d0887\"], [0.1111111111111111, \"#46039f\"], [0.2222222222222222, \"#7201a8\"], [0.3333333333333333, \"#9c179e\"], [0.4444444444444444, \"#bd3786\"], [0.5555555555555556, \"#d8576b\"], [0.6666666666666666, \"#ed7953\"], [0.7777777777777778, \"#fb9f3a\"], [0.8888888888888888, \"#fdca26\"], [1.0, \"#f0f921\"]]}, \"colorway\": [\"#636efa\", \"#EF553B\", \"#00cc96\", \"#ab63fa\", \"#FFA15A\", \"#19d3f3\", \"#FF6692\", \"#B6E880\", \"#FF97FF\", \"#FECB52\"], \"font\": {\"color\": \"#2a3f5f\"}, \"geo\": {\"bgcolor\": \"white\", \"lakecolor\": \"white\", \"landcolor\": \"#E5ECF6\", \"showlakes\": true, \"showland\": true, \"subunitcolor\": \"white\"}, \"hoverlabel\": {\"align\": \"left\"}, \"hovermode\": \"closest\", \"mapbox\": {\"style\": \"light\"}, \"paper_bgcolor\": \"white\", \"plot_bgcolor\": \"#E5ECF6\", \"polar\": {\"angularaxis\": {\"gridcolor\": \"white\", \"linecolor\": \"white\", \"ticks\": \"\"}, \"bgcolor\": \"#E5ECF6\", \"radialaxis\": {\"gridcolor\": \"white\", \"linecolor\": \"white\", \"ticks\": \"\"}}, \"scene\": {\"xaxis\": {\"backgroundcolor\": \"#E5ECF6\", \"gridcolor\": \"white\", \"gridwidth\": 2, \"linecolor\": \"white\", \"showbackground\": true, \"ticks\": \"\", \"zerolinecolor\": \"white\"}, \"yaxis\": {\"backgroundcolor\": \"#E5ECF6\", \"gridcolor\": \"white\", \"gridwidth\": 2, \"linecolor\": \"white\", \"showbackground\": true, \"ticks\": \"\", \"zerolinecolor\": \"white\"}, \"zaxis\": {\"backgroundcolor\": \"#E5ECF6\", \"gridcolor\": \"white\", \"gridwidth\": 2, \"linecolor\": \"white\", \"showbackground\": true, \"ticks\": \"\", \"zerolinecolor\": \"white\"}}, \"shapedefaults\": {\"line\": {\"color\": \"#2a3f5f\"}}, \"ternary\": {\"aaxis\": {\"gridcolor\": \"white\", \"linecolor\": \"white\", \"ticks\": \"\"}, \"baxis\": {\"gridcolor\": \"white\", \"linecolor\": \"white\", \"ticks\": \"\"}, \"bgcolor\": \"#E5ECF6\", \"caxis\": {\"gridcolor\": \"white\", \"linecolor\": \"white\", \"ticks\": \"\"}}, \"title\": {\"x\": 0.05}, \"xaxis\": {\"automargin\": true, \"gridcolor\": \"white\", \"linecolor\": \"white\", \"ticks\": \"\", \"title\": {\"standoff\": 15}, \"zerolinecolor\": \"white\", \"zerolinewidth\": 2}, \"yaxis\": {\"automargin\": true, \"gridcolor\": \"white\", \"linecolor\": \"white\", \"ticks\": \"\", \"title\": {\"standoff\": 15}, \"zerolinecolor\": \"white\", \"zerolinewidth\": 2}}}, \"title\": {\"text\": \"Covid Cases (%) Over Time in ['NY', 'CA', 'TX', 'CT']\"}, \"xaxis\": {\"anchor\": \"y\", \"domain\": [0.0, 1.0], \"title\": {\"text\": \"date\"}}, \"yaxis\": {\"anchor\": \"x\", \"domain\": [0.0, 1.0], \"title\": {\"text\": \"positive_percent\"}}},\n",
              "                        {\"responsive\": true}\n",
              "                    ).then(function(){\n",
              "                            \n",
              "var gd = document.getElementById('337c5974-39d0-452c-b657-610e7c2fcdcf');\n",
              "var x = new MutationObserver(function (mutations, observer) {{\n",
              "        var display = window.getComputedStyle(gd).display;\n",
              "        if (!display || display === 'none') {{\n",
              "            console.log([gd, 'removed!']);\n",
              "            Plotly.purge(gd);\n",
              "            observer.disconnect();\n",
              "        }}\n",
              "}});\n",
              "\n",
              "// Listen for the removal of the full notebook cells\n",
              "var notebookContainer = gd.closest('#notebook-container');\n",
              "if (notebookContainer) {{\n",
              "    x.observe(notebookContainer, {childList: true});\n",
              "}}\n",
              "\n",
              "// Listen for the clearing of the current output cell\n",
              "var outputEl = gd.closest('.output');\n",
              "if (outputEl) {{\n",
              "    x.observe(outputEl, {childList: true});\n",
              "}}\n",
              "\n",
              "                        })\n",
              "                };\n",
              "                \n",
              "            </script>\n",
              "        </div>\n",
              "</body>\n",
              "</html>"
            ]
          },
          "metadata": {
            "tags": []
          }
        }
      ]
    },
    {
      "cell_type": "code",
      "metadata": {
        "id": "mFJCbQQXreF5"
      },
      "source": [
        ""
      ],
      "execution_count": 27,
      "outputs": []
    },
    {
      "cell_type": "code",
      "metadata": {
        "id": "m21lxHNDreIK"
      },
      "source": [
        ""
      ],
      "execution_count": 27,
      "outputs": []
    },
    {
      "cell_type": "code",
      "metadata": {
        "id": "1hAW5pqZreKu"
      },
      "source": [
        ""
      ],
      "execution_count": 27,
      "outputs": []
    },
    {
      "cell_type": "code",
      "metadata": {
        "id": "9ZC-Z5GMreMa"
      },
      "source": [
        ""
      ],
      "execution_count": 27,
      "outputs": []
    },
    {
      "cell_type": "code",
      "metadata": {
        "id": "IVRZ3hqZmsev"
      },
      "source": [
        ""
      ],
      "execution_count": 27,
      "outputs": []
    },
    {
      "cell_type": "code",
      "metadata": {
        "id": "ABScY9CwGGBK"
      },
      "source": [
        "# input_list = [\"Albany, NY\", \"San Francisco, CA\", \"Indianapolis, IN\"]\n",
        "# idx = 0\n",
        "# for idx in range(len(input_list)):\n",
        "#   print(idx)\n",
        "#   temp = df[df['city_state']==input_list[idx]]\n",
        "#   temp = temp.sort_values('date')\n",
        "#   fig = px.line(temp, x='date', y='value', title=temp['city_state'].iloc[0])\n",
        "#   fig_json = fig.to_json()\n",
        "#   idx += 1"
      ],
      "execution_count": 28,
      "outputs": []
    }
  ]
}