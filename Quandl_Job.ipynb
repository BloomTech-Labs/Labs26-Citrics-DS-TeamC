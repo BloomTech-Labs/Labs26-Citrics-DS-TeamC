{
  "nbformat": 4,
  "nbformat_minor": 0,
  "metadata": {
    "colab": {
      "name": "Quandl_Job.ipynb",
      "provenance": [],
      "collapsed_sections": [],
      "authorship_tag": "ABX9TyNug6h77zw44iYONgROzICe",
      "include_colab_link": true
    },
    "kernelspec": {
      "name": "python3",
      "display_name": "Python 3"
    }
  },
  "cells": [
    {
      "cell_type": "markdown",
      "metadata": {
        "id": "view-in-github",
        "colab_type": "text"
      },
      "source": [
        "<a href=\"https://colab.research.google.com/github/Lambda-School-Labs/Labs26-Citrics-DS-TeamC/blob/fatai_king/Quandl_Job.ipynb\" target=\"_parent\"><img src=\"https://colab.research.google.com/assets/colab-badge.svg\" alt=\"Open In Colab\"/></a>"
      ]
    },
    {
      "cell_type": "code",
      "metadata": {
        "id": "YrZUxpEHkbYt",
        "colab_type": "code",
        "colab": {
          "base_uri": "https://localhost:8080/",
          "height": 306
        },
        "outputId": "52048f8d-6900-4de6-b241-1d3a5e7fdf6b"
      },
      "source": [
        "pip install quandl"
      ],
      "execution_count": null,
      "outputs": [
        {
          "output_type": "stream",
          "text": [
            "Collecting quandl\n",
            "  Downloading https://files.pythonhosted.org/packages/1b/29/185269dbd2e2698c8098b35c52ce73a2c52cf76163e709f9f7789d03ebbb/Quandl-3.5.2-py2.py3-none-any.whl\n",
            "Requirement already satisfied: six in /usr/local/lib/python3.6/dist-packages (from quandl) (1.15.0)\n",
            "Requirement already satisfied: numpy>=1.8 in /usr/local/lib/python3.6/dist-packages (from quandl) (1.18.5)\n",
            "Collecting inflection>=0.3.1\n",
            "  Downloading https://files.pythonhosted.org/packages/59/91/aa6bde563e0085a02a435aa99b49ef75b0a4b062635e606dab23ce18d720/inflection-0.5.1-py2.py3-none-any.whl\n",
            "Requirement already satisfied: pandas>=0.14 in /usr/local/lib/python3.6/dist-packages (from quandl) (1.0.5)\n",
            "Requirement already satisfied: more-itertools in /usr/local/lib/python3.6/dist-packages (from quandl) (8.5.0)\n",
            "Requirement already satisfied: python-dateutil in /usr/local/lib/python3.6/dist-packages (from quandl) (2.8.1)\n",
            "Requirement already satisfied: requests>=2.7.0 in /usr/local/lib/python3.6/dist-packages (from quandl) (2.23.0)\n",
            "Requirement already satisfied: pytz>=2017.2 in /usr/local/lib/python3.6/dist-packages (from pandas>=0.14->quandl) (2018.9)\n",
            "Requirement already satisfied: chardet<4,>=3.0.2 in /usr/local/lib/python3.6/dist-packages (from requests>=2.7.0->quandl) (3.0.4)\n",
            "Requirement already satisfied: idna<3,>=2.5 in /usr/local/lib/python3.6/dist-packages (from requests>=2.7.0->quandl) (2.10)\n",
            "Requirement already satisfied: urllib3!=1.25.0,!=1.25.1,<1.26,>=1.21.1 in /usr/local/lib/python3.6/dist-packages (from requests>=2.7.0->quandl) (1.24.3)\n",
            "Requirement already satisfied: certifi>=2017.4.17 in /usr/local/lib/python3.6/dist-packages (from requests>=2.7.0->quandl) (2020.6.20)\n",
            "Installing collected packages: inflection, quandl\n",
            "Successfully installed inflection-0.5.1 quandl-3.5.2\n"
          ],
          "name": "stdout"
        }
      ]
    },
    {
      "cell_type": "code",
      "metadata": {
        "id": "14QYnkkHJaQe",
        "colab_type": "code",
        "colab": {}
      },
      "source": [
        "import pandas as pd\n",
        "import numpy as np\n",
        "import matplotlib.pyplot as plt\n",
        "import json\n",
        "import os\n",
        "import requests\n",
        "import quandl"
      ],
      "execution_count": null,
      "outputs": []
    },
    {
      "cell_type": "code",
      "metadata": {
        "id": "tn02fQ26dmnJ",
        "colab_type": "code",
        "colab": {}
      },
      "source": [
        "import urllib.request\n",
        "import urllib"
      ],
      "execution_count": null,
      "outputs": []
    },
    {
      "cell_type": "code",
      "metadata": {
        "id": "u-Kq9VYvkJto",
        "colab_type": "code",
        "colab": {}
      },
      "source": [
        "#API Key\n",
        "\n",
        "quandl.ApiConfig.api_key = 'K6fpyVeFyVDsDyWqXcCx'\n"
      ],
      "execution_count": null,
      "outputs": []
    },
    {
      "cell_type": "markdown",
      "metadata": {
        "id": "g-3OAFq_oHCO",
        "colab_type": "text"
      },
      "source": [
        "# This will be all of the seasonal data"
      ]
    },
    {
      "cell_type": "code",
      "metadata": {
        "id": "B-rbDYK8k_5B",
        "colab_type": "code",
        "colab": {
          "base_uri": "https://localhost:8080/",
          "height": 450
        },
        "outputId": "d3c634ad-8dc7-4592-ee82-ecc8170bcc1b"
      },
      "source": [
        "# Seasonally adjusted total nonfarm \n",
        "\n",
        "seasonal_nonfarm = quandl.get(\"BLSE/CES0000000025\", start_date=\"2000-01-01\", end_date=\"2020-08-01\")\n",
        "seasonal_nonfarm.columns=['Nonfarm Seasonally Adjusted Value ']\n",
        "seasonal_nonfarm"
      ],
      "execution_count": null,
      "outputs": [
        {
          "output_type": "execute_result",
          "data": {
            "text/html": [
              "<div>\n",
              "<style scoped>\n",
              "    .dataframe tbody tr th:only-of-type {\n",
              "        vertical-align: middle;\n",
              "    }\n",
              "\n",
              "    .dataframe tbody tr th {\n",
              "        vertical-align: top;\n",
              "    }\n",
              "\n",
              "    .dataframe thead th {\n",
              "        text-align: right;\n",
              "    }\n",
              "</style>\n",
              "<table border=\"1\" class=\"dataframe\">\n",
              "  <thead>\n",
              "    <tr style=\"text-align: right;\">\n",
              "      <th></th>\n",
              "      <th>Nonfarm Seasonally Adjusted Value</th>\n",
              "    </tr>\n",
              "    <tr>\n",
              "      <th>Date</th>\n",
              "      <th></th>\n",
              "    </tr>\n",
              "  </thead>\n",
              "  <tbody>\n",
              "    <tr>\n",
              "      <th>2000-03-31</th>\n",
              "      <td>131242.0</td>\n",
              "    </tr>\n",
              "    <tr>\n",
              "      <th>2000-06-30</th>\n",
              "      <td>132018.0</td>\n",
              "    </tr>\n",
              "    <tr>\n",
              "      <th>2000-09-30</th>\n",
              "      <td>132273.0</td>\n",
              "    </tr>\n",
              "    <tr>\n",
              "      <th>2000-12-31</th>\n",
              "      <td>132539.0</td>\n",
              "    </tr>\n",
              "    <tr>\n",
              "      <th>2001-03-31</th>\n",
              "      <td>132745.0</td>\n",
              "    </tr>\n",
              "    <tr>\n",
              "      <th>...</th>\n",
              "      <td>...</td>\n",
              "    </tr>\n",
              "    <tr>\n",
              "      <th>2019-06-30</th>\n",
              "      <td>150609.0</td>\n",
              "    </tr>\n",
              "    <tr>\n",
              "      <th>2019-09-30</th>\n",
              "      <td>151160.0</td>\n",
              "    </tr>\n",
              "    <tr>\n",
              "      <th>2019-12-31</th>\n",
              "      <td>151788.0</td>\n",
              "    </tr>\n",
              "    <tr>\n",
              "      <th>2020-03-31</th>\n",
              "      <td>151922.0</td>\n",
              "    </tr>\n",
              "    <tr>\n",
              "      <th>2020-06-30</th>\n",
              "      <td>133713.0</td>\n",
              "    </tr>\n",
              "  </tbody>\n",
              "</table>\n",
              "<p>82 rows × 1 columns</p>\n",
              "</div>"
            ],
            "text/plain": [
              "            Nonfarm Seasonally Adjusted Value \n",
              "Date                                          \n",
              "2000-03-31                            131242.0\n",
              "2000-06-30                            132018.0\n",
              "2000-09-30                            132273.0\n",
              "2000-12-31                            132539.0\n",
              "2001-03-31                            132745.0\n",
              "...                                        ...\n",
              "2019-06-30                            150609.0\n",
              "2019-09-30                            151160.0\n",
              "2019-12-31                            151788.0\n",
              "2020-03-31                            151922.0\n",
              "2020-06-30                            133713.0\n",
              "\n",
              "[82 rows x 1 columns]"
            ]
          },
          "metadata": {
            "tags": []
          },
          "execution_count": 6
        }
      ]
    },
    {
      "cell_type": "code",
      "metadata": {
        "id": "PKixgf6Cm3gO",
        "colab_type": "code",
        "colab": {
          "base_uri": "https://localhost:8080/",
          "height": 450
        },
        "outputId": "4bdea486-130e-4f89-c939-f9d48550c62d"
      },
      "source": [
        "# Seasonal Total Private Values\n",
        "seasonal_private = quandl.get(\"BLSE/CES0500000025\", start_date=\"2000-01-01\", end_date=\"2020-08-01\")\n",
        "seasonal_private.columns=['Private Firms Seasonal Values']\n",
        "seasonal_private"
      ],
      "execution_count": null,
      "outputs": [
        {
          "output_type": "execute_result",
          "data": {
            "text/html": [
              "<div>\n",
              "<style scoped>\n",
              "    .dataframe tbody tr th:only-of-type {\n",
              "        vertical-align: middle;\n",
              "    }\n",
              "\n",
              "    .dataframe tbody tr th {\n",
              "        vertical-align: top;\n",
              "    }\n",
              "\n",
              "    .dataframe thead th {\n",
              "        text-align: right;\n",
              "    }\n",
              "</style>\n",
              "<table border=\"1\" class=\"dataframe\">\n",
              "  <thead>\n",
              "    <tr style=\"text-align: right;\">\n",
              "      <th></th>\n",
              "      <th>Private Firms Seasonal Values</th>\n",
              "    </tr>\n",
              "    <tr>\n",
              "      <th>Date</th>\n",
              "      <th></th>\n",
              "    </tr>\n",
              "  </thead>\n",
              "  <tbody>\n",
              "    <tr>\n",
              "      <th>2000-03-31</th>\n",
              "      <td>110607.0</td>\n",
              "    </tr>\n",
              "    <tr>\n",
              "      <th>2000-06-30</th>\n",
              "      <td>111073.0</td>\n",
              "    </tr>\n",
              "    <tr>\n",
              "      <th>2000-09-30</th>\n",
              "      <td>111460.0</td>\n",
              "    </tr>\n",
              "    <tr>\n",
              "      <th>2000-12-31</th>\n",
              "      <td>111770.0</td>\n",
              "    </tr>\n",
              "    <tr>\n",
              "      <th>2001-03-31</th>\n",
              "      <td>111849.0</td>\n",
              "    </tr>\n",
              "    <tr>\n",
              "      <th>...</th>\n",
              "      <td>...</td>\n",
              "    </tr>\n",
              "    <tr>\n",
              "      <th>2019-06-30</th>\n",
              "      <td>128057.0</td>\n",
              "    </tr>\n",
              "    <tr>\n",
              "      <th>2019-09-30</th>\n",
              "      <td>128536.0</td>\n",
              "    </tr>\n",
              "    <tr>\n",
              "      <th>2019-12-31</th>\n",
              "      <td>129127.0</td>\n",
              "    </tr>\n",
              "    <tr>\n",
              "      <th>2020-03-31</th>\n",
              "      <td>129193.0</td>\n",
              "    </tr>\n",
              "    <tr>\n",
              "      <th>2020-06-30</th>\n",
              "      <td>112261.0</td>\n",
              "    </tr>\n",
              "  </tbody>\n",
              "</table>\n",
              "<p>82 rows × 1 columns</p>\n",
              "</div>"
            ],
            "text/plain": [
              "            Private Firms Seasonal Values\n",
              "Date                                     \n",
              "2000-03-31                       110607.0\n",
              "2000-06-30                       111073.0\n",
              "2000-09-30                       111460.0\n",
              "2000-12-31                       111770.0\n",
              "2001-03-31                       111849.0\n",
              "...                                   ...\n",
              "2019-06-30                       128057.0\n",
              "2019-09-30                       128536.0\n",
              "2019-12-31                       129127.0\n",
              "2020-03-31                       129193.0\n",
              "2020-06-30                       112261.0\n",
              "\n",
              "[82 rows x 1 columns]"
            ]
          },
          "metadata": {
            "tags": []
          },
          "execution_count": 7
        }
      ]
    },
    {
      "cell_type": "code",
      "metadata": {
        "id": "aisABn01m3zE",
        "colab_type": "code",
        "colab": {
          "base_uri": "https://localhost:8080/",
          "height": 450
        },
        "outputId": "517b65a3-1cbe-4f7c-ce53-4a4bb6b2b209"
      },
      "source": [
        "# Seasonal Goods Produced\n",
        "seasonal_goods = quandl.get(\"BLSE/CES0600000025\", start_date=\"2000-01-01\", end_date=\"2020-08-01\")\n",
        "seasonal_goods.columns=['Goods Produced Seasonal Values']\n",
        "seasonal_goods"
      ],
      "execution_count": null,
      "outputs": [
        {
          "output_type": "execute_result",
          "data": {
            "text/html": [
              "<div>\n",
              "<style scoped>\n",
              "    .dataframe tbody tr th:only-of-type {\n",
              "        vertical-align: middle;\n",
              "    }\n",
              "\n",
              "    .dataframe tbody tr th {\n",
              "        vertical-align: top;\n",
              "    }\n",
              "\n",
              "    .dataframe thead th {\n",
              "        text-align: right;\n",
              "    }\n",
              "</style>\n",
              "<table border=\"1\" class=\"dataframe\">\n",
              "  <thead>\n",
              "    <tr style=\"text-align: right;\">\n",
              "      <th></th>\n",
              "      <th>Goods Produced Seasonal Values</th>\n",
              "    </tr>\n",
              "    <tr>\n",
              "      <th>Date</th>\n",
              "      <th></th>\n",
              "    </tr>\n",
              "  </thead>\n",
              "  <tbody>\n",
              "    <tr>\n",
              "      <th>2000-03-31</th>\n",
              "      <td>24647.0</td>\n",
              "    </tr>\n",
              "    <tr>\n",
              "      <th>2000-06-30</th>\n",
              "      <td>24669.0</td>\n",
              "    </tr>\n",
              "    <tr>\n",
              "      <th>2000-09-30</th>\n",
              "      <td>24681.0</td>\n",
              "    </tr>\n",
              "    <tr>\n",
              "      <th>2000-12-31</th>\n",
              "      <td>24612.0</td>\n",
              "    </tr>\n",
              "    <tr>\n",
              "      <th>2001-03-31</th>\n",
              "      <td>24472.0</td>\n",
              "    </tr>\n",
              "    <tr>\n",
              "      <th>...</th>\n",
              "      <td>...</td>\n",
              "    </tr>\n",
              "    <tr>\n",
              "      <th>2019-06-30</th>\n",
              "      <td>21055.0</td>\n",
              "    </tr>\n",
              "    <tr>\n",
              "      <th>2019-09-30</th>\n",
              "      <td>21093.0</td>\n",
              "    </tr>\n",
              "    <tr>\n",
              "      <th>2019-12-31</th>\n",
              "      <td>21118.0</td>\n",
              "    </tr>\n",
              "    <tr>\n",
              "      <th>2020-03-31</th>\n",
              "      <td>21147.0</td>\n",
              "    </tr>\n",
              "    <tr>\n",
              "      <th>2020-06-30</th>\n",
              "      <td>19310.0</td>\n",
              "    </tr>\n",
              "  </tbody>\n",
              "</table>\n",
              "<p>82 rows × 1 columns</p>\n",
              "</div>"
            ],
            "text/plain": [
              "            Goods Produced Seasonal Values\n",
              "Date                                      \n",
              "2000-03-31                         24647.0\n",
              "2000-06-30                         24669.0\n",
              "2000-09-30                         24681.0\n",
              "2000-12-31                         24612.0\n",
              "2001-03-31                         24472.0\n",
              "...                                    ...\n",
              "2019-06-30                         21055.0\n",
              "2019-09-30                         21093.0\n",
              "2019-12-31                         21118.0\n",
              "2020-03-31                         21147.0\n",
              "2020-06-30                         19310.0\n",
              "\n",
              "[82 rows x 1 columns]"
            ]
          },
          "metadata": {
            "tags": []
          },
          "execution_count": 8
        }
      ]
    },
    {
      "cell_type": "code",
      "metadata": {
        "id": "olZaLLlSm3wC",
        "colab_type": "code",
        "colab": {
          "base_uri": "https://localhost:8080/",
          "height": 450
        },
        "outputId": "dce4c596-a44b-4a65-e95f-9c43ebc13cf6"
      },
      "source": [
        "# Seasonal Service Provided\n",
        "seasonal_service = quandl.get(\"BLSE/CES0700000025\", start_date=\"2000-01-01\", end_date=\"2020-08-01\")\n",
        "seasonal_service.columns=['Services Provided Seasonal Values']\n",
        "seasonal_service"
      ],
      "execution_count": null,
      "outputs": [
        {
          "output_type": "execute_result",
          "data": {
            "text/html": [
              "<div>\n",
              "<style scoped>\n",
              "    .dataframe tbody tr th:only-of-type {\n",
              "        vertical-align: middle;\n",
              "    }\n",
              "\n",
              "    .dataframe tbody tr th {\n",
              "        vertical-align: top;\n",
              "    }\n",
              "\n",
              "    .dataframe thead th {\n",
              "        text-align: right;\n",
              "    }\n",
              "</style>\n",
              "<table border=\"1\" class=\"dataframe\">\n",
              "  <thead>\n",
              "    <tr style=\"text-align: right;\">\n",
              "      <th></th>\n",
              "      <th>Services Provided Seasonal Values</th>\n",
              "    </tr>\n",
              "    <tr>\n",
              "      <th>Date</th>\n",
              "      <th></th>\n",
              "    </tr>\n",
              "  </thead>\n",
              "  <tbody>\n",
              "    <tr>\n",
              "      <th>2000-03-31</th>\n",
              "      <td>106594.0</td>\n",
              "    </tr>\n",
              "    <tr>\n",
              "      <th>2000-06-30</th>\n",
              "      <td>107349.0</td>\n",
              "    </tr>\n",
              "    <tr>\n",
              "      <th>2000-09-30</th>\n",
              "      <td>107592.0</td>\n",
              "    </tr>\n",
              "    <tr>\n",
              "      <th>2000-12-31</th>\n",
              "      <td>107927.0</td>\n",
              "    </tr>\n",
              "    <tr>\n",
              "      <th>2001-03-31</th>\n",
              "      <td>108273.0</td>\n",
              "    </tr>\n",
              "    <tr>\n",
              "      <th>...</th>\n",
              "      <td>...</td>\n",
              "    </tr>\n",
              "    <tr>\n",
              "      <th>2019-06-30</th>\n",
              "      <td>129554.0</td>\n",
              "    </tr>\n",
              "    <tr>\n",
              "      <th>2019-09-30</th>\n",
              "      <td>130068.0</td>\n",
              "    </tr>\n",
              "    <tr>\n",
              "      <th>2019-12-31</th>\n",
              "      <td>130671.0</td>\n",
              "    </tr>\n",
              "    <tr>\n",
              "      <th>2020-03-31</th>\n",
              "      <td>130775.0</td>\n",
              "    </tr>\n",
              "    <tr>\n",
              "      <th>2020-06-30</th>\n",
              "      <td>114403.0</td>\n",
              "    </tr>\n",
              "  </tbody>\n",
              "</table>\n",
              "<p>82 rows × 1 columns</p>\n",
              "</div>"
            ],
            "text/plain": [
              "            Services Provided Seasonal Values\n",
              "Date                                         \n",
              "2000-03-31                           106594.0\n",
              "2000-06-30                           107349.0\n",
              "2000-09-30                           107592.0\n",
              "2000-12-31                           107927.0\n",
              "2001-03-31                           108273.0\n",
              "...                                       ...\n",
              "2019-06-30                           129554.0\n",
              "2019-09-30                           130068.0\n",
              "2019-12-31                           130671.0\n",
              "2020-03-31                           130775.0\n",
              "2020-06-30                           114403.0\n",
              "\n",
              "[82 rows x 1 columns]"
            ]
          },
          "metadata": {
            "tags": []
          },
          "execution_count": 9
        }
      ]
    },
    {
      "cell_type": "code",
      "metadata": {
        "id": "mkXUDkRvm3uL",
        "colab_type": "code",
        "colab": {
          "base_uri": "https://localhost:8080/",
          "height": 450
        },
        "outputId": "3aba63ed-88f4-4bad-d13f-553a8b42242a"
      },
      "source": [
        "# Government Industry Value\n",
        "seasonal_government = quandl.get(\"BLSE/CES9000000001\", start_date=\"2000-01-01\", end_date=\"2020-08-01\")\n",
        "seasonal_government.columns=['Government Industry Values']\n",
        "seasonal_government"
      ],
      "execution_count": null,
      "outputs": [
        {
          "output_type": "execute_result",
          "data": {
            "text/html": [
              "<div>\n",
              "<style scoped>\n",
              "    .dataframe tbody tr th:only-of-type {\n",
              "        vertical-align: middle;\n",
              "    }\n",
              "\n",
              "    .dataframe tbody tr th {\n",
              "        vertical-align: top;\n",
              "    }\n",
              "\n",
              "    .dataframe thead th {\n",
              "        text-align: right;\n",
              "    }\n",
              "</style>\n",
              "<table border=\"1\" class=\"dataframe\">\n",
              "  <thead>\n",
              "    <tr style=\"text-align: right;\">\n",
              "      <th></th>\n",
              "      <th>Government Industry Values</th>\n",
              "    </tr>\n",
              "    <tr>\n",
              "      <th>Date</th>\n",
              "      <th></th>\n",
              "    </tr>\n",
              "  </thead>\n",
              "  <tbody>\n",
              "    <tr>\n",
              "      <th>2000-01-31</th>\n",
              "      <td>20571.0</td>\n",
              "    </tr>\n",
              "    <tr>\n",
              "      <th>2000-02-29</th>\n",
              "      <td>20599.0</td>\n",
              "    </tr>\n",
              "    <tr>\n",
              "      <th>2000-03-31</th>\n",
              "      <td>20733.0</td>\n",
              "    </tr>\n",
              "    <tr>\n",
              "      <th>2000-04-30</th>\n",
              "      <td>20802.0</td>\n",
              "    </tr>\n",
              "    <tr>\n",
              "      <th>2000-05-31</th>\n",
              "      <td>21147.0</td>\n",
              "    </tr>\n",
              "    <tr>\n",
              "      <th>...</th>\n",
              "      <td>...</td>\n",
              "    </tr>\n",
              "    <tr>\n",
              "      <th>2020-03-31</th>\n",
              "      <td>22728.0</td>\n",
              "    </tr>\n",
              "    <tr>\n",
              "      <th>2020-04-30</th>\n",
              "      <td>21776.0</td>\n",
              "    </tr>\n",
              "    <tr>\n",
              "      <th>2020-05-31</th>\n",
              "      <td>21265.0</td>\n",
              "    </tr>\n",
              "    <tr>\n",
              "      <th>2020-06-30</th>\n",
              "      <td>21317.0</td>\n",
              "    </tr>\n",
              "    <tr>\n",
              "      <th>2020-07-31</th>\n",
              "      <td>21570.0</td>\n",
              "    </tr>\n",
              "  </tbody>\n",
              "</table>\n",
              "<p>247 rows × 1 columns</p>\n",
              "</div>"
            ],
            "text/plain": [
              "            Government Industry Values\n",
              "Date                                  \n",
              "2000-01-31                     20571.0\n",
              "2000-02-29                     20599.0\n",
              "2000-03-31                     20733.0\n",
              "2000-04-30                     20802.0\n",
              "2000-05-31                     21147.0\n",
              "...                                ...\n",
              "2020-03-31                     22728.0\n",
              "2020-04-30                     21776.0\n",
              "2020-05-31                     21265.0\n",
              "2020-06-30                     21317.0\n",
              "2020-07-31                     21570.0\n",
              "\n",
              "[247 rows x 1 columns]"
            ]
          },
          "metadata": {
            "tags": []
          },
          "execution_count": 10
        }
      ]
    },
    {
      "cell_type": "code",
      "metadata": {
        "id": "A-1FrnZSqfc_",
        "colab_type": "code",
        "colab": {}
      },
      "source": [
        "# display('season_nonfarm', 'seasonal_private', \"pd.merge(seasonal_nonfarm, seasonal_private, on='Date')\")\n",
        "this1= pd.merge(seasonal_nonfarm, seasonal_goods, on='Date')\n"
      ],
      "execution_count": null,
      "outputs": []
    },
    {
      "cell_type": "code",
      "metadata": {
        "id": "p3dj_1wrrHaX",
        "colab_type": "code",
        "colab": {}
      },
      "source": [
        "this2 = pd.merge(seasonal_government, seasonal_private, on='Date')\n"
      ],
      "execution_count": null,
      "outputs": []
    },
    {
      "cell_type": "code",
      "metadata": {
        "id": "3PlXTGk8rXoO",
        "colab_type": "code",
        "colab": {}
      },
      "source": [
        "this3 = pd.merge(this1, this2, on='Date')"
      ],
      "execution_count": null,
      "outputs": []
    },
    {
      "cell_type": "code",
      "metadata": {
        "id": "Jxs2N5s_s2vn",
        "colab_type": "code",
        "colab": {
          "base_uri": "https://localhost:8080/",
          "height": 450
        },
        "outputId": "dd7396c9-d1e7-4f46-a426-807cd4830e4e"
      },
      "source": [
        "this4 = pd.merge(this3, seasonal_service, on='Date')\n",
        "this4"
      ],
      "execution_count": null,
      "outputs": [
        {
          "output_type": "execute_result",
          "data": {
            "text/html": [
              "<div>\n",
              "<style scoped>\n",
              "    .dataframe tbody tr th:only-of-type {\n",
              "        vertical-align: middle;\n",
              "    }\n",
              "\n",
              "    .dataframe tbody tr th {\n",
              "        vertical-align: top;\n",
              "    }\n",
              "\n",
              "    .dataframe thead th {\n",
              "        text-align: right;\n",
              "    }\n",
              "</style>\n",
              "<table border=\"1\" class=\"dataframe\">\n",
              "  <thead>\n",
              "    <tr style=\"text-align: right;\">\n",
              "      <th></th>\n",
              "      <th>Nonfarm Seasonally Adjusted Value</th>\n",
              "      <th>Goods Produced Seasonal Values</th>\n",
              "      <th>Government Industry Values</th>\n",
              "      <th>Private Firms Seasonal Values</th>\n",
              "      <th>Services Provided Seasonal Values</th>\n",
              "    </tr>\n",
              "    <tr>\n",
              "      <th>Date</th>\n",
              "      <th></th>\n",
              "      <th></th>\n",
              "      <th></th>\n",
              "      <th></th>\n",
              "      <th></th>\n",
              "    </tr>\n",
              "  </thead>\n",
              "  <tbody>\n",
              "    <tr>\n",
              "      <th>2000-03-31</th>\n",
              "      <td>131242.0</td>\n",
              "      <td>24647.0</td>\n",
              "      <td>20733.0</td>\n",
              "      <td>110607.0</td>\n",
              "      <td>106594.0</td>\n",
              "    </tr>\n",
              "    <tr>\n",
              "      <th>2000-06-30</th>\n",
              "      <td>132018.0</td>\n",
              "      <td>24669.0</td>\n",
              "      <td>20887.0</td>\n",
              "      <td>111073.0</td>\n",
              "      <td>107349.0</td>\n",
              "    </tr>\n",
              "    <tr>\n",
              "      <th>2000-09-30</th>\n",
              "      <td>132273.0</td>\n",
              "      <td>24681.0</td>\n",
              "      <td>20735.0</td>\n",
              "      <td>111460.0</td>\n",
              "      <td>107592.0</td>\n",
              "    </tr>\n",
              "    <tr>\n",
              "      <th>2000-12-31</th>\n",
              "      <td>132539.0</td>\n",
              "      <td>24612.0</td>\n",
              "      <td>20804.0</td>\n",
              "      <td>111770.0</td>\n",
              "      <td>107927.0</td>\n",
              "    </tr>\n",
              "    <tr>\n",
              "      <th>2001-03-31</th>\n",
              "      <td>132745.0</td>\n",
              "      <td>24472.0</td>\n",
              "      <td>20945.0</td>\n",
              "      <td>111849.0</td>\n",
              "      <td>108273.0</td>\n",
              "    </tr>\n",
              "    <tr>\n",
              "      <th>...</th>\n",
              "      <td>...</td>\n",
              "      <td>...</td>\n",
              "      <td>...</td>\n",
              "      <td>...</td>\n",
              "      <td>...</td>\n",
              "    </tr>\n",
              "    <tr>\n",
              "      <th>2019-06-30</th>\n",
              "      <td>150609.0</td>\n",
              "      <td>21055.0</td>\n",
              "      <td>22553.0</td>\n",
              "      <td>128057.0</td>\n",
              "      <td>129554.0</td>\n",
              "    </tr>\n",
              "    <tr>\n",
              "      <th>2019-09-30</th>\n",
              "      <td>151160.0</td>\n",
              "      <td>21093.0</td>\n",
              "      <td>22650.0</td>\n",
              "      <td>128536.0</td>\n",
              "      <td>130068.0</td>\n",
              "    </tr>\n",
              "    <tr>\n",
              "      <th>2019-12-31</th>\n",
              "      <td>151788.0</td>\n",
              "      <td>21118.0</td>\n",
              "      <td>22679.0</td>\n",
              "      <td>129127.0</td>\n",
              "      <td>130671.0</td>\n",
              "    </tr>\n",
              "    <tr>\n",
              "      <th>2020-03-31</th>\n",
              "      <td>151922.0</td>\n",
              "      <td>21147.0</td>\n",
              "      <td>22728.0</td>\n",
              "      <td>129193.0</td>\n",
              "      <td>130775.0</td>\n",
              "    </tr>\n",
              "    <tr>\n",
              "      <th>2020-06-30</th>\n",
              "      <td>133713.0</td>\n",
              "      <td>19310.0</td>\n",
              "      <td>21317.0</td>\n",
              "      <td>112261.0</td>\n",
              "      <td>114403.0</td>\n",
              "    </tr>\n",
              "  </tbody>\n",
              "</table>\n",
              "<p>82 rows × 5 columns</p>\n",
              "</div>"
            ],
            "text/plain": [
              "            Nonfarm Seasonally Adjusted Value   ...  Services Provided Seasonal Values\n",
              "Date                                            ...                                   \n",
              "2000-03-31                            131242.0  ...                           106594.0\n",
              "2000-06-30                            132018.0  ...                           107349.0\n",
              "2000-09-30                            132273.0  ...                           107592.0\n",
              "2000-12-31                            132539.0  ...                           107927.0\n",
              "2001-03-31                            132745.0  ...                           108273.0\n",
              "...                                        ...  ...                                ...\n",
              "2019-06-30                            150609.0  ...                           129554.0\n",
              "2019-09-30                            151160.0  ...                           130068.0\n",
              "2019-12-31                            151788.0  ...                           130671.0\n",
              "2020-03-31                            151922.0  ...                           130775.0\n",
              "2020-06-30                            133713.0  ...                           114403.0\n",
              "\n",
              "[82 rows x 5 columns]"
            ]
          },
          "metadata": {
            "tags": []
          },
          "execution_count": 14
        }
      ]
    },
    {
      "cell_type": "markdown",
      "metadata": {
        "id": "wgtIaSczt2Zd",
        "colab_type": "text"
      },
      "source": [
        "# Switch Quandl Code to JT (Job Openings & Labor Turnover) -- Hires-- Unseasonal Levels in Thousands\n"
      ]
    },
    {
      "cell_type": "code",
      "metadata": {
        "id": "uwGoZuqjs7sc",
        "colab_type": "code",
        "colab": {
          "base_uri": "https://localhost:8080/",
          "height": 450
        },
        "outputId": "b8c78674-cccd-4940-a437-10aed95e7b36"
      },
      "source": [
        "# Mining and Logging \n",
        "mine = quandl.get(\"BLSE/JTU11009900HIL\", start_date=\"2000-01-01\", end_date=\"2020-08-01\")\n",
        "mine.columns=['Mining and Logging Provided  Values']\n",
        "mine"
      ],
      "execution_count": null,
      "outputs": [
        {
          "output_type": "execute_result",
          "data": {
            "text/html": [
              "<div>\n",
              "<style scoped>\n",
              "    .dataframe tbody tr th:only-of-type {\n",
              "        vertical-align: middle;\n",
              "    }\n",
              "\n",
              "    .dataframe tbody tr th {\n",
              "        vertical-align: top;\n",
              "    }\n",
              "\n",
              "    .dataframe thead th {\n",
              "        text-align: right;\n",
              "    }\n",
              "</style>\n",
              "<table border=\"1\" class=\"dataframe\">\n",
              "  <thead>\n",
              "    <tr style=\"text-align: right;\">\n",
              "      <th></th>\n",
              "      <th>Mining and Logging Provided  Values</th>\n",
              "    </tr>\n",
              "    <tr>\n",
              "      <th>Date</th>\n",
              "      <th></th>\n",
              "    </tr>\n",
              "  </thead>\n",
              "  <tbody>\n",
              "    <tr>\n",
              "      <th>2008-01-31</th>\n",
              "      <td>41.0</td>\n",
              "    </tr>\n",
              "    <tr>\n",
              "      <th>2008-02-29</th>\n",
              "      <td>26.0</td>\n",
              "    </tr>\n",
              "    <tr>\n",
              "      <th>2008-03-31</th>\n",
              "      <td>27.0</td>\n",
              "    </tr>\n",
              "    <tr>\n",
              "      <th>2008-04-30</th>\n",
              "      <td>32.0</td>\n",
              "    </tr>\n",
              "    <tr>\n",
              "      <th>2008-05-31</th>\n",
              "      <td>34.0</td>\n",
              "    </tr>\n",
              "    <tr>\n",
              "      <th>...</th>\n",
              "      <td>...</td>\n",
              "    </tr>\n",
              "    <tr>\n",
              "      <th>2020-03-31</th>\n",
              "      <td>19.0</td>\n",
              "    </tr>\n",
              "    <tr>\n",
              "      <th>2020-04-30</th>\n",
              "      <td>17.0</td>\n",
              "    </tr>\n",
              "    <tr>\n",
              "      <th>2020-05-31</th>\n",
              "      <td>18.0</td>\n",
              "    </tr>\n",
              "    <tr>\n",
              "      <th>2020-06-30</th>\n",
              "      <td>13.0</td>\n",
              "    </tr>\n",
              "    <tr>\n",
              "      <th>2020-07-31</th>\n",
              "      <td>21.0</td>\n",
              "    </tr>\n",
              "  </tbody>\n",
              "</table>\n",
              "<p>151 rows × 1 columns</p>\n",
              "</div>"
            ],
            "text/plain": [
              "            Mining and Logging Provided  Values\n",
              "Date                                           \n",
              "2008-01-31                                 41.0\n",
              "2008-02-29                                 26.0\n",
              "2008-03-31                                 27.0\n",
              "2008-04-30                                 32.0\n",
              "2008-05-31                                 34.0\n",
              "...                                         ...\n",
              "2020-03-31                                 19.0\n",
              "2020-04-30                                 17.0\n",
              "2020-05-31                                 18.0\n",
              "2020-06-30                                 13.0\n",
              "2020-07-31                                 21.0\n",
              "\n",
              "[151 rows x 1 columns]"
            ]
          },
          "metadata": {
            "tags": []
          },
          "execution_count": 15
        }
      ]
    },
    {
      "cell_type": "code",
      "metadata": {
        "id": "8lMeSuMXvqcx",
        "colab_type": "code",
        "colab": {
          "base_uri": "https://localhost:8080/",
          "height": 450
        },
        "outputId": "cd2676a2-ff40-4b50-8ee6-88e3374cb7db"
      },
      "source": [
        "# Construction \n",
        "construction = quandl.get(\"BLSE/JTU23000000HIL\", start_date=\"2000-01-01\", end_date=\"2020-08-01\")\n",
        "construction.columns=['Construction Provided  Values']\n",
        "construction"
      ],
      "execution_count": null,
      "outputs": [
        {
          "output_type": "execute_result",
          "data": {
            "text/html": [
              "<div>\n",
              "<style scoped>\n",
              "    .dataframe tbody tr th:only-of-type {\n",
              "        vertical-align: middle;\n",
              "    }\n",
              "\n",
              "    .dataframe tbody tr th {\n",
              "        vertical-align: top;\n",
              "    }\n",
              "\n",
              "    .dataframe thead th {\n",
              "        text-align: right;\n",
              "    }\n",
              "</style>\n",
              "<table border=\"1\" class=\"dataframe\">\n",
              "  <thead>\n",
              "    <tr style=\"text-align: right;\">\n",
              "      <th></th>\n",
              "      <th>Construction Provided  Values</th>\n",
              "    </tr>\n",
              "    <tr>\n",
              "      <th>Date</th>\n",
              "      <th></th>\n",
              "    </tr>\n",
              "  </thead>\n",
              "  <tbody>\n",
              "    <tr>\n",
              "      <th>2008-01-31</th>\n",
              "      <td>330.0</td>\n",
              "    </tr>\n",
              "    <tr>\n",
              "      <th>2008-02-29</th>\n",
              "      <td>310.0</td>\n",
              "    </tr>\n",
              "    <tr>\n",
              "      <th>2008-03-31</th>\n",
              "      <td>402.0</td>\n",
              "    </tr>\n",
              "    <tr>\n",
              "      <th>2008-04-30</th>\n",
              "      <td>522.0</td>\n",
              "    </tr>\n",
              "    <tr>\n",
              "      <th>2008-05-31</th>\n",
              "      <td>436.0</td>\n",
              "    </tr>\n",
              "    <tr>\n",
              "      <th>...</th>\n",
              "      <td>...</td>\n",
              "    </tr>\n",
              "    <tr>\n",
              "      <th>2020-03-31</th>\n",
              "      <td>362.0</td>\n",
              "    </tr>\n",
              "    <tr>\n",
              "      <th>2020-04-30</th>\n",
              "      <td>380.0</td>\n",
              "    </tr>\n",
              "    <tr>\n",
              "      <th>2020-05-31</th>\n",
              "      <td>781.0</td>\n",
              "    </tr>\n",
              "    <tr>\n",
              "      <th>2020-06-30</th>\n",
              "      <td>581.0</td>\n",
              "    </tr>\n",
              "    <tr>\n",
              "      <th>2020-07-31</th>\n",
              "      <td>436.0</td>\n",
              "    </tr>\n",
              "  </tbody>\n",
              "</table>\n",
              "<p>151 rows × 1 columns</p>\n",
              "</div>"
            ],
            "text/plain": [
              "            Construction Provided  Values\n",
              "Date                                     \n",
              "2008-01-31                          330.0\n",
              "2008-02-29                          310.0\n",
              "2008-03-31                          402.0\n",
              "2008-04-30                          522.0\n",
              "2008-05-31                          436.0\n",
              "...                                   ...\n",
              "2020-03-31                          362.0\n",
              "2020-04-30                          380.0\n",
              "2020-05-31                          781.0\n",
              "2020-06-30                          581.0\n",
              "2020-07-31                          436.0\n",
              "\n",
              "[151 rows x 1 columns]"
            ]
          },
          "metadata": {
            "tags": []
          },
          "execution_count": 16
        }
      ]
    },
    {
      "cell_type": "code",
      "metadata": {
        "id": "-Dd--EYXta5L",
        "colab_type": "code",
        "colab": {}
      },
      "source": [
        "num1 = pd.merge(mine, construction, on='Date')\n"
      ],
      "execution_count": null,
      "outputs": []
    },
    {
      "cell_type": "code",
      "metadata": {
        "id": "TYNIBMmVwHzD",
        "colab_type": "code",
        "colab": {
          "base_uri": "https://localhost:8080/",
          "height": 450
        },
        "outputId": "553d2b26-f7d5-4456-9778-a344a09bca31"
      },
      "source": [
        "# Manufacturing \n",
        "manufacture = quandl.get(\"BLSE/JTU30000000HIL\", start_date=\"2000-01-01\", end_date=\"2020-08-01\")\n",
        "manufacture.columns=['Manufacture Provided  Values']\n",
        "manufacture"
      ],
      "execution_count": null,
      "outputs": [
        {
          "output_type": "execute_result",
          "data": {
            "text/html": [
              "<div>\n",
              "<style scoped>\n",
              "    .dataframe tbody tr th:only-of-type {\n",
              "        vertical-align: middle;\n",
              "    }\n",
              "\n",
              "    .dataframe tbody tr th {\n",
              "        vertical-align: top;\n",
              "    }\n",
              "\n",
              "    .dataframe thead th {\n",
              "        text-align: right;\n",
              "    }\n",
              "</style>\n",
              "<table border=\"1\" class=\"dataframe\">\n",
              "  <thead>\n",
              "    <tr style=\"text-align: right;\">\n",
              "      <th></th>\n",
              "      <th>Manufacture Provided  Values</th>\n",
              "    </tr>\n",
              "    <tr>\n",
              "      <th>Date</th>\n",
              "      <th></th>\n",
              "    </tr>\n",
              "  </thead>\n",
              "  <tbody>\n",
              "    <tr>\n",
              "      <th>2008-01-31</th>\n",
              "      <td>355.0</td>\n",
              "    </tr>\n",
              "    <tr>\n",
              "      <th>2008-02-29</th>\n",
              "      <td>284.0</td>\n",
              "    </tr>\n",
              "    <tr>\n",
              "      <th>2008-03-31</th>\n",
              "      <td>307.0</td>\n",
              "    </tr>\n",
              "    <tr>\n",
              "      <th>2008-04-30</th>\n",
              "      <td>348.0</td>\n",
              "    </tr>\n",
              "    <tr>\n",
              "      <th>2008-05-31</th>\n",
              "      <td>366.0</td>\n",
              "    </tr>\n",
              "    <tr>\n",
              "      <th>...</th>\n",
              "      <td>...</td>\n",
              "    </tr>\n",
              "    <tr>\n",
              "      <th>2020-03-31</th>\n",
              "      <td>279.0</td>\n",
              "    </tr>\n",
              "    <tr>\n",
              "      <th>2020-04-30</th>\n",
              "      <td>331.0</td>\n",
              "    </tr>\n",
              "    <tr>\n",
              "      <th>2020-05-31</th>\n",
              "      <td>558.0</td>\n",
              "    </tr>\n",
              "    <tr>\n",
              "      <th>2020-06-30</th>\n",
              "      <td>503.0</td>\n",
              "    </tr>\n",
              "    <tr>\n",
              "      <th>2020-07-31</th>\n",
              "      <td>363.0</td>\n",
              "    </tr>\n",
              "  </tbody>\n",
              "</table>\n",
              "<p>151 rows × 1 columns</p>\n",
              "</div>"
            ],
            "text/plain": [
              "            Manufacture Provided  Values\n",
              "Date                                    \n",
              "2008-01-31                         355.0\n",
              "2008-02-29                         284.0\n",
              "2008-03-31                         307.0\n",
              "2008-04-30                         348.0\n",
              "2008-05-31                         366.0\n",
              "...                                  ...\n",
              "2020-03-31                         279.0\n",
              "2020-04-30                         331.0\n",
              "2020-05-31                         558.0\n",
              "2020-06-30                         503.0\n",
              "2020-07-31                         363.0\n",
              "\n",
              "[151 rows x 1 columns]"
            ]
          },
          "metadata": {
            "tags": []
          },
          "execution_count": 19
        }
      ]
    },
    {
      "cell_type": "code",
      "metadata": {
        "id": "W5ZAOSZrm3r-",
        "colab_type": "code",
        "colab": {
          "base_uri": "https://localhost:8080/",
          "height": 450
        },
        "outputId": "1681a79e-0b56-47b0-a624-b4e10b00c3eb"
      },
      "source": [
        "# Durable goods manufacturing\t \n",
        "durable_goods = quandl.get(\"BLSE/JTU32000000HIL\", start_date=\"2000-01-01\", end_date=\"2020-08-01\")\n",
        "durable_goods.columns=['Durable Goods Provided  Values']\n",
        "durable_goods"
      ],
      "execution_count": null,
      "outputs": [
        {
          "output_type": "execute_result",
          "data": {
            "text/html": [
              "<div>\n",
              "<style scoped>\n",
              "    .dataframe tbody tr th:only-of-type {\n",
              "        vertical-align: middle;\n",
              "    }\n",
              "\n",
              "    .dataframe tbody tr th {\n",
              "        vertical-align: top;\n",
              "    }\n",
              "\n",
              "    .dataframe thead th {\n",
              "        text-align: right;\n",
              "    }\n",
              "</style>\n",
              "<table border=\"1\" class=\"dataframe\">\n",
              "  <thead>\n",
              "    <tr style=\"text-align: right;\">\n",
              "      <th></th>\n",
              "      <th>Durable Goods Provided  Values</th>\n",
              "    </tr>\n",
              "    <tr>\n",
              "      <th>Date</th>\n",
              "      <th></th>\n",
              "    </tr>\n",
              "  </thead>\n",
              "  <tbody>\n",
              "    <tr>\n",
              "      <th>2008-01-31</th>\n",
              "      <td>211.0</td>\n",
              "    </tr>\n",
              "    <tr>\n",
              "      <th>2008-02-29</th>\n",
              "      <td>157.0</td>\n",
              "    </tr>\n",
              "    <tr>\n",
              "      <th>2008-03-31</th>\n",
              "      <td>177.0</td>\n",
              "    </tr>\n",
              "    <tr>\n",
              "      <th>2008-04-30</th>\n",
              "      <td>202.0</td>\n",
              "    </tr>\n",
              "    <tr>\n",
              "      <th>2008-05-31</th>\n",
              "      <td>207.0</td>\n",
              "    </tr>\n",
              "    <tr>\n",
              "      <th>...</th>\n",
              "      <td>...</td>\n",
              "    </tr>\n",
              "    <tr>\n",
              "      <th>2020-03-31</th>\n",
              "      <td>149.0</td>\n",
              "    </tr>\n",
              "    <tr>\n",
              "      <th>2020-04-30</th>\n",
              "      <td>160.0</td>\n",
              "    </tr>\n",
              "    <tr>\n",
              "      <th>2020-05-31</th>\n",
              "      <td>311.0</td>\n",
              "    </tr>\n",
              "    <tr>\n",
              "      <th>2020-06-30</th>\n",
              "      <td>292.0</td>\n",
              "    </tr>\n",
              "    <tr>\n",
              "      <th>2020-07-31</th>\n",
              "      <td>172.0</td>\n",
              "    </tr>\n",
              "  </tbody>\n",
              "</table>\n",
              "<p>151 rows × 1 columns</p>\n",
              "</div>"
            ],
            "text/plain": [
              "            Durable Goods Provided  Values\n",
              "Date                                      \n",
              "2008-01-31                           211.0\n",
              "2008-02-29                           157.0\n",
              "2008-03-31                           177.0\n",
              "2008-04-30                           202.0\n",
              "2008-05-31                           207.0\n",
              "...                                    ...\n",
              "2020-03-31                           149.0\n",
              "2020-04-30                           160.0\n",
              "2020-05-31                           311.0\n",
              "2020-06-30                           292.0\n",
              "2020-07-31                           172.0\n",
              "\n",
              "[151 rows x 1 columns]"
            ]
          },
          "metadata": {
            "tags": []
          },
          "execution_count": 22
        }
      ]
    },
    {
      "cell_type": "code",
      "metadata": {
        "id": "GywsqNL1tqmr",
        "colab_type": "code",
        "colab": {}
      },
      "source": [
        "num2 = pd.merge(manufacture, durable_goods, on='Date')"
      ],
      "execution_count": null,
      "outputs": []
    },
    {
      "cell_type": "code",
      "metadata": {
        "id": "Y7d9LK6CtyW1",
        "colab_type": "code",
        "colab": {}
      },
      "source": [
        "sum1 = pd.merge(num1, num2, on='Date')"
      ],
      "execution_count": null,
      "outputs": []
    },
    {
      "cell_type": "code",
      "metadata": {
        "id": "rLWDKnPVwuyB",
        "colab_type": "code",
        "colab": {
          "base_uri": "https://localhost:8080/",
          "height": 450
        },
        "outputId": "939d6399-9a84-4cf0-ce72-b1e7429d5a54"
      },
      "source": [
        "# NonDurable goods manufacturing\t \n",
        "non_durable_goods = quandl.get(\"BLSE/JTU34000000HIL\", start_date=\"2000-01-01\", end_date=\"2020-08-01\")\n",
        "non_durable_goods.columns=['Non-Durable Goods Provided  Values']\n",
        "non_durable_goods"
      ],
      "execution_count": null,
      "outputs": [
        {
          "output_type": "execute_result",
          "data": {
            "text/html": [
              "<div>\n",
              "<style scoped>\n",
              "    .dataframe tbody tr th:only-of-type {\n",
              "        vertical-align: middle;\n",
              "    }\n",
              "\n",
              "    .dataframe tbody tr th {\n",
              "        vertical-align: top;\n",
              "    }\n",
              "\n",
              "    .dataframe thead th {\n",
              "        text-align: right;\n",
              "    }\n",
              "</style>\n",
              "<table border=\"1\" class=\"dataframe\">\n",
              "  <thead>\n",
              "    <tr style=\"text-align: right;\">\n",
              "      <th></th>\n",
              "      <th>Non-Durable Goods Provided  Values</th>\n",
              "    </tr>\n",
              "    <tr>\n",
              "      <th>Date</th>\n",
              "      <th></th>\n",
              "    </tr>\n",
              "  </thead>\n",
              "  <tbody>\n",
              "    <tr>\n",
              "      <th>2008-01-31</th>\n",
              "      <td>144.0</td>\n",
              "    </tr>\n",
              "    <tr>\n",
              "      <th>2008-02-29</th>\n",
              "      <td>127.0</td>\n",
              "    </tr>\n",
              "    <tr>\n",
              "      <th>2008-03-31</th>\n",
              "      <td>131.0</td>\n",
              "    </tr>\n",
              "    <tr>\n",
              "      <th>2008-04-30</th>\n",
              "      <td>147.0</td>\n",
              "    </tr>\n",
              "    <tr>\n",
              "      <th>2008-05-31</th>\n",
              "      <td>159.0</td>\n",
              "    </tr>\n",
              "    <tr>\n",
              "      <th>...</th>\n",
              "      <td>...</td>\n",
              "    </tr>\n",
              "    <tr>\n",
              "      <th>2020-03-31</th>\n",
              "      <td>131.0</td>\n",
              "    </tr>\n",
              "    <tr>\n",
              "      <th>2020-04-30</th>\n",
              "      <td>171.0</td>\n",
              "    </tr>\n",
              "    <tr>\n",
              "      <th>2020-05-31</th>\n",
              "      <td>247.0</td>\n",
              "    </tr>\n",
              "    <tr>\n",
              "      <th>2020-06-30</th>\n",
              "      <td>211.0</td>\n",
              "    </tr>\n",
              "    <tr>\n",
              "      <th>2020-07-31</th>\n",
              "      <td>191.0</td>\n",
              "    </tr>\n",
              "  </tbody>\n",
              "</table>\n",
              "<p>151 rows × 1 columns</p>\n",
              "</div>"
            ],
            "text/plain": [
              "            Non-Durable Goods Provided  Values\n",
              "Date                                          \n",
              "2008-01-31                               144.0\n",
              "2008-02-29                               127.0\n",
              "2008-03-31                               131.0\n",
              "2008-04-30                               147.0\n",
              "2008-05-31                               159.0\n",
              "...                                        ...\n",
              "2020-03-31                               131.0\n",
              "2020-04-30                               171.0\n",
              "2020-05-31                               247.0\n",
              "2020-06-30                               211.0\n",
              "2020-07-31                               191.0\n",
              "\n",
              "[151 rows x 1 columns]"
            ]
          },
          "metadata": {
            "tags": []
          },
          "execution_count": 27
        }
      ]
    },
    {
      "cell_type": "code",
      "metadata": {
        "id": "JFNzFFMQw-O5",
        "colab_type": "code",
        "colab": {
          "base_uri": "https://localhost:8080/",
          "height": 450
        },
        "outputId": "6295aaa8-3ae4-4a07-93a7-e1c864b4ccc2"
      },
      "source": [
        "# Trade and Transportation\t \n",
        "trade = quandl.get(\"BLSE/JTU40000000HIL\", start_date=\"2000-01-01\", end_date=\"2020-08-01\")\n",
        "trade.columns=['Trade & Transportation Provided Values']\n",
        "trade"
      ],
      "execution_count": null,
      "outputs": [
        {
          "output_type": "execute_result",
          "data": {
            "text/html": [
              "<div>\n",
              "<style scoped>\n",
              "    .dataframe tbody tr th:only-of-type {\n",
              "        vertical-align: middle;\n",
              "    }\n",
              "\n",
              "    .dataframe tbody tr th {\n",
              "        vertical-align: top;\n",
              "    }\n",
              "\n",
              "    .dataframe thead th {\n",
              "        text-align: right;\n",
              "    }\n",
              "</style>\n",
              "<table border=\"1\" class=\"dataframe\">\n",
              "  <thead>\n",
              "    <tr style=\"text-align: right;\">\n",
              "      <th></th>\n",
              "      <th>Trade &amp; Transportation Provided Values</th>\n",
              "    </tr>\n",
              "    <tr>\n",
              "      <th>Date</th>\n",
              "      <th></th>\n",
              "    </tr>\n",
              "  </thead>\n",
              "  <tbody>\n",
              "    <tr>\n",
              "      <th>2008-01-31</th>\n",
              "      <td>890.0</td>\n",
              "    </tr>\n",
              "    <tr>\n",
              "      <th>2008-02-29</th>\n",
              "      <td>783.0</td>\n",
              "    </tr>\n",
              "    <tr>\n",
              "      <th>2008-03-31</th>\n",
              "      <td>946.0</td>\n",
              "    </tr>\n",
              "    <tr>\n",
              "      <th>2008-04-30</th>\n",
              "      <td>1068.0</td>\n",
              "    </tr>\n",
              "    <tr>\n",
              "      <th>2008-05-31</th>\n",
              "      <td>941.0</td>\n",
              "    </tr>\n",
              "    <tr>\n",
              "      <th>...</th>\n",
              "      <td>...</td>\n",
              "    </tr>\n",
              "    <tr>\n",
              "      <th>2020-03-31</th>\n",
              "      <td>1054.0</td>\n",
              "    </tr>\n",
              "    <tr>\n",
              "      <th>2020-04-30</th>\n",
              "      <td>967.0</td>\n",
              "    </tr>\n",
              "    <tr>\n",
              "      <th>2020-05-31</th>\n",
              "      <td>1420.0</td>\n",
              "    </tr>\n",
              "    <tr>\n",
              "      <th>2020-06-30</th>\n",
              "      <td>1452.0</td>\n",
              "    </tr>\n",
              "    <tr>\n",
              "      <th>2020-07-31</th>\n",
              "      <td>1225.0</td>\n",
              "    </tr>\n",
              "  </tbody>\n",
              "</table>\n",
              "<p>151 rows × 1 columns</p>\n",
              "</div>"
            ],
            "text/plain": [
              "            Trade & Transportation Provided Values\n",
              "Date                                              \n",
              "2008-01-31                                   890.0\n",
              "2008-02-29                                   783.0\n",
              "2008-03-31                                   946.0\n",
              "2008-04-30                                  1068.0\n",
              "2008-05-31                                   941.0\n",
              "...                                            ...\n",
              "2020-03-31                                  1054.0\n",
              "2020-04-30                                   967.0\n",
              "2020-05-31                                  1420.0\n",
              "2020-06-30                                  1452.0\n",
              "2020-07-31                                  1225.0\n",
              "\n",
              "[151 rows x 1 columns]"
            ]
          },
          "metadata": {
            "tags": []
          },
          "execution_count": 28
        }
      ]
    },
    {
      "cell_type": "code",
      "metadata": {
        "id": "sJ7i_176uB1E",
        "colab_type": "code",
        "colab": {}
      },
      "source": [
        "num3 = pd.merge(non_durable_goods, trade, on='Date')"
      ],
      "execution_count": null,
      "outputs": []
    },
    {
      "cell_type": "code",
      "metadata": {
        "id": "vEQlSVClxUfU",
        "colab_type": "code",
        "colab": {
          "base_uri": "https://localhost:8080/",
          "height": 450
        },
        "outputId": "93f46813-634f-4bcd-89f8-f09f7b265142"
      },
      "source": [
        "# WholeSale Trade\t \n",
        "whole_trade = quandl.get(\"BLSE/JTU42000000HIL\", start_date=\"2000-01-01\", end_date=\"2020-08-01\")\n",
        "whole_trade.columns=['Wholesale Trade Provided Values']\n",
        "whole_trade"
      ],
      "execution_count": null,
      "outputs": [
        {
          "output_type": "execute_result",
          "data": {
            "text/html": [
              "<div>\n",
              "<style scoped>\n",
              "    .dataframe tbody tr th:only-of-type {\n",
              "        vertical-align: middle;\n",
              "    }\n",
              "\n",
              "    .dataframe tbody tr th {\n",
              "        vertical-align: top;\n",
              "    }\n",
              "\n",
              "    .dataframe thead th {\n",
              "        text-align: right;\n",
              "    }\n",
              "</style>\n",
              "<table border=\"1\" class=\"dataframe\">\n",
              "  <thead>\n",
              "    <tr style=\"text-align: right;\">\n",
              "      <th></th>\n",
              "      <th>Wholesale Trade Provided Values</th>\n",
              "    </tr>\n",
              "    <tr>\n",
              "      <th>Date</th>\n",
              "      <th></th>\n",
              "    </tr>\n",
              "  </thead>\n",
              "  <tbody>\n",
              "    <tr>\n",
              "      <th>2008-01-31</th>\n",
              "      <td>195.0</td>\n",
              "    </tr>\n",
              "    <tr>\n",
              "      <th>2008-02-29</th>\n",
              "      <td>128.0</td>\n",
              "    </tr>\n",
              "    <tr>\n",
              "      <th>2008-03-31</th>\n",
              "      <td>141.0</td>\n",
              "    </tr>\n",
              "    <tr>\n",
              "      <th>2008-04-30</th>\n",
              "      <td>190.0</td>\n",
              "    </tr>\n",
              "    <tr>\n",
              "      <th>2008-05-31</th>\n",
              "      <td>155.0</td>\n",
              "    </tr>\n",
              "    <tr>\n",
              "      <th>...</th>\n",
              "      <td>...</td>\n",
              "    </tr>\n",
              "    <tr>\n",
              "      <th>2020-03-31</th>\n",
              "      <td>136.0</td>\n",
              "    </tr>\n",
              "    <tr>\n",
              "      <th>2020-04-30</th>\n",
              "      <td>118.0</td>\n",
              "    </tr>\n",
              "    <tr>\n",
              "      <th>2020-05-31</th>\n",
              "      <td>194.0</td>\n",
              "    </tr>\n",
              "    <tr>\n",
              "      <th>2020-06-30</th>\n",
              "      <td>187.0</td>\n",
              "    </tr>\n",
              "    <tr>\n",
              "      <th>2020-07-31</th>\n",
              "      <td>139.0</td>\n",
              "    </tr>\n",
              "  </tbody>\n",
              "</table>\n",
              "<p>151 rows × 1 columns</p>\n",
              "</div>"
            ],
            "text/plain": [
              "            Wholesale Trade Provided Values\n",
              "Date                                       \n",
              "2008-01-31                            195.0\n",
              "2008-02-29                            128.0\n",
              "2008-03-31                            141.0\n",
              "2008-04-30                            190.0\n",
              "2008-05-31                            155.0\n",
              "...                                     ...\n",
              "2020-03-31                            136.0\n",
              "2020-04-30                            118.0\n",
              "2020-05-31                            194.0\n",
              "2020-06-30                            187.0\n",
              "2020-07-31                            139.0\n",
              "\n",
              "[151 rows x 1 columns]"
            ]
          },
          "metadata": {
            "tags": []
          },
          "execution_count": 33
        }
      ]
    },
    {
      "cell_type": "code",
      "metadata": {
        "id": "IqxdN-c3m3pw",
        "colab_type": "code",
        "colab": {
          "base_uri": "https://localhost:8080/",
          "height": 450
        },
        "outputId": "4c6b325e-d64d-4221-b283-516215f39dc0"
      },
      "source": [
        "# Retail Trade\t \n",
        "retail_trade = quandl.get(\"BLSE/JTU44000000HIL\", start_date=\"2000-01-01\", end_date=\"2020-08-01\")\n",
        "retail_trade.columns=['Retail Trade Provided Values']\n",
        "retail_trade"
      ],
      "execution_count": null,
      "outputs": [
        {
          "output_type": "execute_result",
          "data": {
            "text/html": [
              "<div>\n",
              "<style scoped>\n",
              "    .dataframe tbody tr th:only-of-type {\n",
              "        vertical-align: middle;\n",
              "    }\n",
              "\n",
              "    .dataframe tbody tr th {\n",
              "        vertical-align: top;\n",
              "    }\n",
              "\n",
              "    .dataframe thead th {\n",
              "        text-align: right;\n",
              "    }\n",
              "</style>\n",
              "<table border=\"1\" class=\"dataframe\">\n",
              "  <thead>\n",
              "    <tr style=\"text-align: right;\">\n",
              "      <th></th>\n",
              "      <th>Retail Trade Provided Values</th>\n",
              "    </tr>\n",
              "    <tr>\n",
              "      <th>Date</th>\n",
              "      <th></th>\n",
              "    </tr>\n",
              "  </thead>\n",
              "  <tbody>\n",
              "    <tr>\n",
              "      <th>2008-01-31</th>\n",
              "      <td>557.0</td>\n",
              "    </tr>\n",
              "    <tr>\n",
              "      <th>2008-02-29</th>\n",
              "      <td>526.0</td>\n",
              "    </tr>\n",
              "    <tr>\n",
              "      <th>2008-03-31</th>\n",
              "      <td>657.0</td>\n",
              "    </tr>\n",
              "    <tr>\n",
              "      <th>2008-04-30</th>\n",
              "      <td>702.0</td>\n",
              "    </tr>\n",
              "    <tr>\n",
              "      <th>2008-05-31</th>\n",
              "      <td>651.0</td>\n",
              "    </tr>\n",
              "    <tr>\n",
              "      <th>...</th>\n",
              "      <td>...</td>\n",
              "    </tr>\n",
              "    <tr>\n",
              "      <th>2020-03-31</th>\n",
              "      <td>738.0</td>\n",
              "    </tr>\n",
              "    <tr>\n",
              "      <th>2020-04-30</th>\n",
              "      <td>697.0</td>\n",
              "    </tr>\n",
              "    <tr>\n",
              "      <th>2020-05-31</th>\n",
              "      <td>970.0</td>\n",
              "    </tr>\n",
              "    <tr>\n",
              "      <th>2020-06-30</th>\n",
              "      <td>982.0</td>\n",
              "    </tr>\n",
              "    <tr>\n",
              "      <th>2020-07-31</th>\n",
              "      <td>852.0</td>\n",
              "    </tr>\n",
              "  </tbody>\n",
              "</table>\n",
              "<p>151 rows × 1 columns</p>\n",
              "</div>"
            ],
            "text/plain": [
              "            Retail Trade Provided Values\n",
              "Date                                    \n",
              "2008-01-31                         557.0\n",
              "2008-02-29                         526.0\n",
              "2008-03-31                         657.0\n",
              "2008-04-30                         702.0\n",
              "2008-05-31                         651.0\n",
              "...                                  ...\n",
              "2020-03-31                         738.0\n",
              "2020-04-30                         697.0\n",
              "2020-05-31                         970.0\n",
              "2020-06-30                         982.0\n",
              "2020-07-31                         852.0\n",
              "\n",
              "[151 rows x 1 columns]"
            ]
          },
          "metadata": {
            "tags": []
          },
          "execution_count": 34
        }
      ]
    },
    {
      "cell_type": "code",
      "metadata": {
        "id": "JjMNzo70uIDW",
        "colab_type": "code",
        "colab": {}
      },
      "source": [
        "num4 = pd.merge(whole_trade, retail_trade, on='Date')"
      ],
      "execution_count": null,
      "outputs": []
    },
    {
      "cell_type": "code",
      "metadata": {
        "id": "ttqwD4Q8uhrJ",
        "colab_type": "code",
        "colab": {}
      },
      "source": [
        "sum2 = pd.merge(num3, num4, on='Date')"
      ],
      "execution_count": null,
      "outputs": []
    },
    {
      "cell_type": "code",
      "metadata": {
        "id": "GXXUwrOAumh9",
        "colab_type": "code",
        "colab": {}
      },
      "source": [
        "now = pd.merge(sum1, sum2, on='Date')"
      ],
      "execution_count": null,
      "outputs": []
    },
    {
      "cell_type": "code",
      "metadata": {
        "id": "0_G2rYFhxvF3",
        "colab_type": "code",
        "colab": {}
      },
      "source": [
        "#Transportation and Warehouse and Utilities\n",
        "transport_warehouse = quandl.get(\"BLSE/JTU48009900HIL\", start_date=\"2000-01-01\", end_date=\"2020-08-01\")\n",
        "transport_warehouse.columns=['TWU Provided Values']"
      ],
      "execution_count": null,
      "outputs": []
    },
    {
      "cell_type": "code",
      "metadata": {
        "id": "ui3ZYqSIyJXZ",
        "colab_type": "code",
        "colab": {}
      },
      "source": [
        "# General Information\t \n",
        "general = quandl.get(\"BLSE/JTU51000000HIL\", start_date=\"2000-01-01\", end_date=\"2020-08-01\")\n",
        "general.columns=[ 'General Information Provided Values']"
      ],
      "execution_count": null,
      "outputs": []
    },
    {
      "cell_type": "code",
      "metadata": {
        "id": "F8kfN6Hhu824",
        "colab_type": "code",
        "colab": {}
      },
      "source": [
        "num5 = pd.merge(transport_warehouse, general, on='Date')"
      ],
      "execution_count": null,
      "outputs": []
    },
    {
      "cell_type": "code",
      "metadata": {
        "id": "3vN2ZSsNm3ng",
        "colab_type": "code",
        "colab": {}
      },
      "source": [
        "# Financial Activities \n",
        "finance = quandl.get(\"BLSE/JTU51009900HIL\", start_date=\"2000-01-01\", end_date=\"2020-08-01\")\n",
        "finance.columns=['Financial Activity Provided Values']"
      ],
      "execution_count": null,
      "outputs": []
    },
    {
      "cell_type": "code",
      "metadata": {
        "id": "PARbaOq-m3lq",
        "colab_type": "code",
        "colab": {}
      },
      "source": [
        "# Finance & Insurance\t \n",
        "finance_insurance = quandl.get(\"BLSE/JTU52000000HIL\", start_date=\"2000-01-01\", end_date=\"2020-08-01\")\n",
        "finance_insurance.columns=['Finance & Insurance Provided Values']"
      ],
      "execution_count": null,
      "outputs": []
    },
    {
      "cell_type": "code",
      "metadata": {
        "id": "n7hbASSPvDkg",
        "colab_type": "code",
        "colab": {}
      },
      "source": [
        "num6 = pd.merge(finance, finance_insurance, on='Date')"
      ],
      "execution_count": null,
      "outputs": []
    },
    {
      "cell_type": "code",
      "metadata": {
        "id": "bSR0QLPSvNB5",
        "colab_type": "code",
        "colab": {}
      },
      "source": [
        "sum3 = pd.merge(num5, num6, on='Date')"
      ],
      "execution_count": null,
      "outputs": []
    },
    {
      "cell_type": "code",
      "metadata": {
        "id": "4L5kWTUc0NjY",
        "colab_type": "code",
        "colab": {}
      },
      "source": [
        "#Real estate and rental and leasing\n",
        "real_estate = quandl.get(\"BLSE/JTU53000000HIL\", start_date=\"2000-01-01\", end_date=\"2020-08-01\")\n",
        "real_estate.columns=['Real Estate & Rental Leasing Provided Values']"
      ],
      "execution_count": null,
      "outputs": []
    },
    {
      "cell_type": "code",
      "metadata": {
        "id": "se-hFCsS1-DJ",
        "colab_type": "code",
        "colab": {}
      },
      "source": [
        "# Professional and business services\n",
        "prof_business = quandl.get(\"BLSE/JTU54009900HIL\", start_date=\"2000-01-01\", end_date=\"2020-08-01\")\n",
        "prof_business.columns=['Professional and business services Provided Values']"
      ],
      "execution_count": null,
      "outputs": []
    },
    {
      "cell_type": "code",
      "metadata": {
        "id": "5X7tmXNdvtGl",
        "colab_type": "code",
        "colab": {}
      },
      "source": [
        "num7 = pd.merge(real_estate, prof_business, on='Date')"
      ],
      "execution_count": null,
      "outputs": []
    },
    {
      "cell_type": "code",
      "metadata": {
        "id": "PTeptj702iIe",
        "colab_type": "code",
        "colab": {}
      },
      "source": [
        "# Education and Health services\n",
        "education_health = quandl.get(\"BLSE/JTU60000000HIL\", start_date=\"2000-01-01\", end_date=\"2020-08-01\")\n",
        "education_health.columns=['Education and Health services Provided Values']"
      ],
      "execution_count": null,
      "outputs": []
    },
    {
      "cell_type": "code",
      "metadata": {
        "id": "UfHXAh3A3vI-",
        "colab_type": "code",
        "colab": {}
      },
      "source": [
        "# Education services\n",
        "education = quandl.get(\"BLSE/JTU61000000HIL\", start_date=\"2000-01-01\", end_date=\"2020-08-01\")\n",
        "education.columns=[ 'Education services Provided Values']"
      ],
      "execution_count": null,
      "outputs": []
    },
    {
      "cell_type": "code",
      "metadata": {
        "id": "ry3pkh56v0BK",
        "colab_type": "code",
        "colab": {}
      },
      "source": [
        "num8 = pd.merge(education_health, education, on='Date')"
      ],
      "execution_count": null,
      "outputs": []
    },
    {
      "cell_type": "code",
      "metadata": {
        "id": "WKVc6rEnv6RU",
        "colab_type": "code",
        "colab": {}
      },
      "source": [
        "sum4= pd.merge(num7, num8, on='Date')"
      ],
      "execution_count": null,
      "outputs": []
    },
    {
      "cell_type": "code",
      "metadata": {
        "id": "r6AIZqdvwFqV",
        "colab_type": "code",
        "colab": {}
      },
      "source": [
        "squeeze = pd.merge(sum3, sum4, on='Date')"
      ],
      "execution_count": null,
      "outputs": []
    },
    {
      "cell_type": "code",
      "metadata": {
        "id": "XWJwegoCwOvR",
        "colab_type": "code",
        "colab": {}
      },
      "source": [
        "now1 = pd.merge(now, squeeze, on='Date')"
      ],
      "execution_count": null,
      "outputs": []
    },
    {
      "cell_type": "code",
      "metadata": {
        "id": "8URX3ELG4CwP",
        "colab_type": "code",
        "colab": {}
      },
      "source": [
        "# Health Care and Social assistance\n",
        "health_social = quandl.get(\"BLSE/JTU62000000HIL\", start_date=\"2000-01-01\", end_date=\"2020-08-01\")\n",
        "health_social.columns= ['Health Care and Social Assistance Services Provided Values']"
      ],
      "execution_count": null,
      "outputs": []
    },
    {
      "cell_type": "code",
      "metadata": {
        "id": "3r-GB8Fv4zaM",
        "colab_type": "code",
        "colab": {}
      },
      "source": [
        "# Leisure & Hospitality\n",
        "leisure_hospitality = quandl.get(\"BLSE/JTU70000000HIL\", start_date=\"2000-01-01\", end_date=\"2020-08-01\")\n",
        "leisure_hospitality.columns=['Leisure and Hospitality Services Provided Values']"
      ],
      "execution_count": null,
      "outputs": []
    },
    {
      "cell_type": "code",
      "metadata": {
        "id": "gxmNoKqT5K8X",
        "colab_type": "code",
        "colab": {}
      },
      "source": [
        "# Art, entertainment, & recreation\n",
        "art_entertain = quandl.get(\"BLSE/JTU71000000HIL\", start_date=\"2000-01-01\", end_date=\"2020-08-01\")\n",
        "art_entertain.columns=['Art Entertainment & Recreation Services Provided Values']"
      ],
      "execution_count": null,
      "outputs": []
    },
    {
      "cell_type": "code",
      "metadata": {
        "id": "NjAf3YHSwwAi",
        "colab_type": "code",
        "colab": {}
      },
      "source": [
        "num9 = pd.merge(leisure_hospitality, art_entertain, on='Date')"
      ],
      "execution_count": null,
      "outputs": []
    },
    {
      "cell_type": "code",
      "metadata": {
        "id": "EvgNxkvN5hak",
        "colab_type": "code",
        "colab": {}
      },
      "source": [
        "# Accommodation and food services\t services\n",
        "accomodation_food = quandl.get(\"BLSE/JTU72000000HIL\", start_date=\"2000-01-01\", end_date=\"2020-08-01\")\n",
        "accomodation_food.columns=['Accommodation & Food Services Provided Values']"
      ],
      "execution_count": null,
      "outputs": []
    },
    {
      "cell_type": "code",
      "metadata": {
        "id": "uvdNTcWn5_ZI",
        "colab_type": "code",
        "colab": {}
      },
      "source": [
        "# Other services\n",
        "other_services = quandl.get(\"BLSE/JTU81000000HIL\", start_date=\"2000-01-01\", end_date=\"2020-08-01\")\n",
        "other_services.columns=['Other Services Provided Values']"
      ],
      "execution_count": null,
      "outputs": []
    },
    {
      "cell_type": "code",
      "metadata": {
        "id": "LaoD-TVsw_YX",
        "colab_type": "code",
        "colab": {}
      },
      "source": [
        "num10= pd.merge(accomodation_food, other_services, on='Date')"
      ],
      "execution_count": null,
      "outputs": []
    },
    {
      "cell_type": "code",
      "metadata": {
        "id": "Hcv-fTjqxFo8",
        "colab_type": "code",
        "colab": {}
      },
      "source": [
        "sum5 = pd.merge(num9, num10, on='Date')"
      ],
      "execution_count": null,
      "outputs": []
    },
    {
      "cell_type": "code",
      "metadata": {
        "id": "Izd1NVsTm3de",
        "colab_type": "code",
        "colab": {}
      },
      "source": [
        "# Federal\n",
        "federal = quandl.get(\"BLSE/JTU91000000HIL\", start_date=\"2000-01-01\", end_date=\"2020-08-01\")\n",
        "federal.columns = ['Federal Services Provided Values']"
      ],
      "execution_count": null,
      "outputs": []
    },
    {
      "cell_type": "code",
      "metadata": {
        "id": "PV-j7sems9Cg",
        "colab_type": "code",
        "colab": {}
      },
      "source": [
        "state_local = quandl.get(\"BLSE/JTU92000000HIL\", start_date=\"2000-01-01\", end_date=\"2020-08-01\")\n",
        "state_local.columns = ['State & Local Services Provided Values']"
      ],
      "execution_count": null,
      "outputs": []
    },
    {
      "cell_type": "code",
      "metadata": {
        "id": "wK4aZWHCxMp-",
        "colab_type": "code",
        "colab": {}
      },
      "source": [
        "num11 = pd.merge(federal, state_local, on='Date')"
      ],
      "execution_count": null,
      "outputs": []
    },
    {
      "cell_type": "code",
      "metadata": {
        "id": "AiYCRMPFm3ax",
        "colab_type": "code",
        "colab": {}
      },
      "source": [
        "sum6 = pd.merge(num11, health_social, on='Date')"
      ],
      "execution_count": null,
      "outputs": []
    },
    {
      "cell_type": "code",
      "metadata": {
        "id": "bTS_A7JYy9Qj",
        "colab_type": "code",
        "colab": {}
      },
      "source": [
        "now2 = pd.merge(sum5, sum6, on='Date')"
      ],
      "execution_count": null,
      "outputs": []
    },
    {
      "cell_type": "code",
      "metadata": {
        "id": "IYsHz77uzFI2",
        "colab_type": "code",
        "colab": {}
      },
      "source": [
        "fun = pd.merge(now1, now2, on='Date')\n"
      ],
      "execution_count": null,
      "outputs": []
    },
    {
      "cell_type": "code",
      "metadata": {
        "id": "JM8zo8CK16iB",
        "colab_type": "code",
        "colab": {}
      },
      "source": [
        "#Total NonFarm - All employees, thousands; Total NonFarm industry\n",
        "\n",
        "total_non =quandl.get(\"BLSE/JTU00000000HIL\", start_date=\"2000-01-01\", end_date=\"2020-08-01\")\n",
        "total_non.columns=['Total NonFarm Industry Value']"
      ],
      "execution_count": null,
      "outputs": []
    },
    {
      "cell_type": "code",
      "metadata": {
        "id": "UP0dN9Tt3Ih3",
        "colab_type": "code",
        "colab": {}
      },
      "source": [
        "#Total Private - All employees, thousands; Total Private firm industry\n",
        "\n",
        "total_pri =quandl.get(\"BLSE/JTU10000000HIL\", start_date=\"2000-01-01\", end_date=\"2020-08-01\")\n",
        "total_pri.columns=['Total Private Firm Industry Value']\n"
      ],
      "execution_count": null,
      "outputs": []
    },
    {
      "cell_type": "code",
      "metadata": {
        "id": "BW6W30Iz3hGY",
        "colab_type": "code",
        "colab": {}
      },
      "source": [
        "num13 = pd.merge(total_non, total_pri, on='Date')"
      ],
      "execution_count": null,
      "outputs": []
    },
    {
      "cell_type": "code",
      "metadata": {
        "id": "wHNT6rXFoUIa",
        "colab_type": "code",
        "colab": {}
      },
      "source": [
        "#Employment - All employees, thousands; Government industry\n",
        "\n",
        "government =quandl.get(\"BLSE/JTU90000000HIL\", start_date=\"2000-01-01\", end_date=\"2020-08-01\")\n",
        "government.columns=['Government Industry Value']\n",
        "\n"
      ],
      "execution_count": null,
      "outputs": []
    },
    {
      "cell_type": "code",
      "metadata": {
        "id": "qyqT69TY3m0I",
        "colab_type": "code",
        "colab": {}
      },
      "source": [
        "num14 = pd.merge(num13, government, on='Date')"
      ],
      "execution_count": null,
      "outputs": []
    },
    {
      "cell_type": "code",
      "metadata": {
        "id": "tuhg7HtbeSBp",
        "colab_type": "code",
        "colab": {}
      },
      "source": [
        "this = quandl.get(\"BLSE/LAUST010000000000005\")\n",
        "this.columns = ['Empolyed State of Alabama Values']\n"
      ],
      "execution_count": null,
      "outputs": []
    },
    {
      "cell_type": "code",
      "metadata": {
        "id": "UMipMNGB3xmx",
        "colab_type": "code",
        "colab": {
          "base_uri": "https://localhost:8080/",
          "height": 742
        },
        "outputId": "4a818f0a-1835-4593-fc92-e5f0e1287164"
      },
      "source": [
        "all = pd.merge(fun, num14, on='Date')\n",
        "all"
      ],
      "execution_count": null,
      "outputs": [
        {
          "output_type": "execute_result",
          "data": {
            "text/html": [
              "<div>\n",
              "<style scoped>\n",
              "    .dataframe tbody tr th:only-of-type {\n",
              "        vertical-align: middle;\n",
              "    }\n",
              "\n",
              "    .dataframe tbody tr th {\n",
              "        vertical-align: top;\n",
              "    }\n",
              "\n",
              "    .dataframe thead th {\n",
              "        text-align: right;\n",
              "    }\n",
              "</style>\n",
              "<table border=\"1\" class=\"dataframe\">\n",
              "  <thead>\n",
              "    <tr style=\"text-align: right;\">\n",
              "      <th></th>\n",
              "      <th>Mining and Logging Provided  Values</th>\n",
              "      <th>Construction Provided  Values</th>\n",
              "      <th>Manufacture Provided  Values</th>\n",
              "      <th>Durable Goods Provided  Values</th>\n",
              "      <th>Non-Durable Goods Provided  Values</th>\n",
              "      <th>Trade &amp; Transportation Provided Values</th>\n",
              "      <th>Wholesale Trade Provided Values</th>\n",
              "      <th>Retail Trade Provided Values</th>\n",
              "      <th>TWU Provided Values</th>\n",
              "      <th>General Information Provided Values</th>\n",
              "      <th>Financial Activity Provided Values</th>\n",
              "      <th>Finance &amp; Insurance Provided Values</th>\n",
              "      <th>Real Estate &amp; Rental Leasing Provided Values</th>\n",
              "      <th>Professional and business services Provided Values</th>\n",
              "      <th>Education and Health services Provided Values</th>\n",
              "      <th>Education services Provided Values</th>\n",
              "      <th>Leisure and Hospitality Services Provided Values</th>\n",
              "      <th>Art Entertainment &amp; Recreation Services Provided Values</th>\n",
              "      <th>Accommodation &amp; Food Services Provided Values</th>\n",
              "      <th>Other Services Provided Values</th>\n",
              "      <th>Federal Services Provided Values</th>\n",
              "      <th>State &amp; Local Services Provided Values</th>\n",
              "      <th>Health Care and Social Assistance Services Provided Values</th>\n",
              "      <th>Total NonFarm Industry Value</th>\n",
              "      <th>Total Private Firm Industry Value</th>\n",
              "      <th>Government Industry Value</th>\n",
              "    </tr>\n",
              "    <tr>\n",
              "      <th>Date</th>\n",
              "      <th></th>\n",
              "      <th></th>\n",
              "      <th></th>\n",
              "      <th></th>\n",
              "      <th></th>\n",
              "      <th></th>\n",
              "      <th></th>\n",
              "      <th></th>\n",
              "      <th></th>\n",
              "      <th></th>\n",
              "      <th></th>\n",
              "      <th></th>\n",
              "      <th></th>\n",
              "      <th></th>\n",
              "      <th></th>\n",
              "      <th></th>\n",
              "      <th></th>\n",
              "      <th></th>\n",
              "      <th></th>\n",
              "      <th></th>\n",
              "      <th></th>\n",
              "      <th></th>\n",
              "      <th></th>\n",
              "      <th></th>\n",
              "      <th></th>\n",
              "      <th></th>\n",
              "    </tr>\n",
              "  </thead>\n",
              "  <tbody>\n",
              "    <tr>\n",
              "      <th>2008-01-31</th>\n",
              "      <td>41.0</td>\n",
              "      <td>330.0</td>\n",
              "      <td>355.0</td>\n",
              "      <td>211.0</td>\n",
              "      <td>144.0</td>\n",
              "      <td>890.0</td>\n",
              "      <td>195.0</td>\n",
              "      <td>557.0</td>\n",
              "      <td>138.0</td>\n",
              "      <td>91.0</td>\n",
              "      <td>265.0</td>\n",
              "      <td>183.0</td>\n",
              "      <td>82.0</td>\n",
              "      <td>973.0</td>\n",
              "      <td>576.0</td>\n",
              "      <td>79.0</td>\n",
              "      <td>732.0</td>\n",
              "      <td>110.0</td>\n",
              "      <td>622.0</td>\n",
              "      <td>174.0</td>\n",
              "      <td>29.0</td>\n",
              "      <td>251.0</td>\n",
              "      <td>496.0</td>\n",
              "      <td>4705.0</td>\n",
              "      <td>4425.0</td>\n",
              "      <td>280.0</td>\n",
              "    </tr>\n",
              "    <tr>\n",
              "      <th>2008-02-29</th>\n",
              "      <td>26.0</td>\n",
              "      <td>310.0</td>\n",
              "      <td>284.0</td>\n",
              "      <td>157.0</td>\n",
              "      <td>127.0</td>\n",
              "      <td>783.0</td>\n",
              "      <td>128.0</td>\n",
              "      <td>526.0</td>\n",
              "      <td>129.0</td>\n",
              "      <td>51.0</td>\n",
              "      <td>194.0</td>\n",
              "      <td>126.0</td>\n",
              "      <td>69.0</td>\n",
              "      <td>750.0</td>\n",
              "      <td>495.0</td>\n",
              "      <td>64.0</td>\n",
              "      <td>775.0</td>\n",
              "      <td>101.0</td>\n",
              "      <td>674.0</td>\n",
              "      <td>148.0</td>\n",
              "      <td>32.0</td>\n",
              "      <td>192.0</td>\n",
              "      <td>431.0</td>\n",
              "      <td>4038.0</td>\n",
              "      <td>3814.0</td>\n",
              "      <td>224.0</td>\n",
              "    </tr>\n",
              "    <tr>\n",
              "      <th>2008-03-31</th>\n",
              "      <td>27.0</td>\n",
              "      <td>402.0</td>\n",
              "      <td>307.0</td>\n",
              "      <td>177.0</td>\n",
              "      <td>131.0</td>\n",
              "      <td>946.0</td>\n",
              "      <td>141.0</td>\n",
              "      <td>657.0</td>\n",
              "      <td>148.0</td>\n",
              "      <td>62.0</td>\n",
              "      <td>187.0</td>\n",
              "      <td>120.0</td>\n",
              "      <td>67.0</td>\n",
              "      <td>772.0</td>\n",
              "      <td>490.0</td>\n",
              "      <td>43.0</td>\n",
              "      <td>830.0</td>\n",
              "      <td>125.0</td>\n",
              "      <td>705.0</td>\n",
              "      <td>191.0</td>\n",
              "      <td>29.0</td>\n",
              "      <td>200.0</td>\n",
              "      <td>447.0</td>\n",
              "      <td>4444.0</td>\n",
              "      <td>4215.0</td>\n",
              "      <td>229.0</td>\n",
              "    </tr>\n",
              "    <tr>\n",
              "      <th>2008-04-30</th>\n",
              "      <td>32.0</td>\n",
              "      <td>522.0</td>\n",
              "      <td>348.0</td>\n",
              "      <td>202.0</td>\n",
              "      <td>147.0</td>\n",
              "      <td>1068.0</td>\n",
              "      <td>190.0</td>\n",
              "      <td>702.0</td>\n",
              "      <td>176.0</td>\n",
              "      <td>71.0</td>\n",
              "      <td>254.0</td>\n",
              "      <td>158.0</td>\n",
              "      <td>96.0</td>\n",
              "      <td>1047.0</td>\n",
              "      <td>563.0</td>\n",
              "      <td>64.0</td>\n",
              "      <td>1007.0</td>\n",
              "      <td>153.0</td>\n",
              "      <td>853.0</td>\n",
              "      <td>206.0</td>\n",
              "      <td>29.0</td>\n",
              "      <td>204.0</td>\n",
              "      <td>499.0</td>\n",
              "      <td>5351.0</td>\n",
              "      <td>5118.0</td>\n",
              "      <td>233.0</td>\n",
              "    </tr>\n",
              "    <tr>\n",
              "      <th>2008-05-31</th>\n",
              "      <td>34.0</td>\n",
              "      <td>436.0</td>\n",
              "      <td>366.0</td>\n",
              "      <td>207.0</td>\n",
              "      <td>159.0</td>\n",
              "      <td>941.0</td>\n",
              "      <td>155.0</td>\n",
              "      <td>651.0</td>\n",
              "      <td>135.0</td>\n",
              "      <td>57.0</td>\n",
              "      <td>224.0</td>\n",
              "      <td>130.0</td>\n",
              "      <td>94.0</td>\n",
              "      <td>823.0</td>\n",
              "      <td>523.0</td>\n",
              "      <td>56.0</td>\n",
              "      <td>1089.0</td>\n",
              "      <td>214.0</td>\n",
              "      <td>874.0</td>\n",
              "      <td>238.0</td>\n",
              "      <td>28.0</td>\n",
              "      <td>300.0</td>\n",
              "      <td>467.0</td>\n",
              "      <td>5058.0</td>\n",
              "      <td>4730.0</td>\n",
              "      <td>328.0</td>\n",
              "    </tr>\n",
              "    <tr>\n",
              "      <th>...</th>\n",
              "      <td>...</td>\n",
              "      <td>...</td>\n",
              "      <td>...</td>\n",
              "      <td>...</td>\n",
              "      <td>...</td>\n",
              "      <td>...</td>\n",
              "      <td>...</td>\n",
              "      <td>...</td>\n",
              "      <td>...</td>\n",
              "      <td>...</td>\n",
              "      <td>...</td>\n",
              "      <td>...</td>\n",
              "      <td>...</td>\n",
              "      <td>...</td>\n",
              "      <td>...</td>\n",
              "      <td>...</td>\n",
              "      <td>...</td>\n",
              "      <td>...</td>\n",
              "      <td>...</td>\n",
              "      <td>...</td>\n",
              "      <td>...</td>\n",
              "      <td>...</td>\n",
              "      <td>...</td>\n",
              "      <td>...</td>\n",
              "      <td>...</td>\n",
              "      <td>...</td>\n",
              "    </tr>\n",
              "    <tr>\n",
              "      <th>2020-03-31</th>\n",
              "      <td>19.0</td>\n",
              "      <td>362.0</td>\n",
              "      <td>279.0</td>\n",
              "      <td>149.0</td>\n",
              "      <td>131.0</td>\n",
              "      <td>1054.0</td>\n",
              "      <td>136.0</td>\n",
              "      <td>738.0</td>\n",
              "      <td>180.0</td>\n",
              "      <td>63.0</td>\n",
              "      <td>200.0</td>\n",
              "      <td>140.0</td>\n",
              "      <td>60.0</td>\n",
              "      <td>1038.0</td>\n",
              "      <td>592.0</td>\n",
              "      <td>58.0</td>\n",
              "      <td>653.0</td>\n",
              "      <td>123.0</td>\n",
              "      <td>530.0</td>\n",
              "      <td>127.0</td>\n",
              "      <td>58.0</td>\n",
              "      <td>212.0</td>\n",
              "      <td>535.0</td>\n",
              "      <td>4656.0</td>\n",
              "      <td>4386.0</td>\n",
              "      <td>269.0</td>\n",
              "    </tr>\n",
              "    <tr>\n",
              "      <th>2020-04-30</th>\n",
              "      <td>17.0</td>\n",
              "      <td>380.0</td>\n",
              "      <td>331.0</td>\n",
              "      <td>160.0</td>\n",
              "      <td>171.0</td>\n",
              "      <td>967.0</td>\n",
              "      <td>118.0</td>\n",
              "      <td>697.0</td>\n",
              "      <td>152.0</td>\n",
              "      <td>37.0</td>\n",
              "      <td>174.0</td>\n",
              "      <td>123.0</td>\n",
              "      <td>51.0</td>\n",
              "      <td>918.0</td>\n",
              "      <td>535.0</td>\n",
              "      <td>44.0</td>\n",
              "      <td>622.0</td>\n",
              "      <td>46.0</td>\n",
              "      <td>576.0</td>\n",
              "      <td>185.0</td>\n",
              "      <td>45.0</td>\n",
              "      <td>110.0</td>\n",
              "      <td>491.0</td>\n",
              "      <td>4320.0</td>\n",
              "      <td>4165.0</td>\n",
              "      <td>156.0</td>\n",
              "    </tr>\n",
              "    <tr>\n",
              "      <th>2020-05-31</th>\n",
              "      <td>18.0</td>\n",
              "      <td>781.0</td>\n",
              "      <td>558.0</td>\n",
              "      <td>311.0</td>\n",
              "      <td>247.0</td>\n",
              "      <td>1420.0</td>\n",
              "      <td>194.0</td>\n",
              "      <td>970.0</td>\n",
              "      <td>256.0</td>\n",
              "      <td>75.0</td>\n",
              "      <td>224.0</td>\n",
              "      <td>123.0</td>\n",
              "      <td>101.0</td>\n",
              "      <td>1010.0</td>\n",
              "      <td>1056.0</td>\n",
              "      <td>77.0</td>\n",
              "      <td>1800.0</td>\n",
              "      <td>224.0</td>\n",
              "      <td>1576.0</td>\n",
              "      <td>648.0</td>\n",
              "      <td>58.0</td>\n",
              "      <td>210.0</td>\n",
              "      <td>979.0</td>\n",
              "      <td>7859.0</td>\n",
              "      <td>7591.0</td>\n",
              "      <td>267.0</td>\n",
              "    </tr>\n",
              "    <tr>\n",
              "      <th>2020-06-30</th>\n",
              "      <td>13.0</td>\n",
              "      <td>581.0</td>\n",
              "      <td>503.0</td>\n",
              "      <td>292.0</td>\n",
              "      <td>211.0</td>\n",
              "      <td>1452.0</td>\n",
              "      <td>187.0</td>\n",
              "      <td>982.0</td>\n",
              "      <td>283.0</td>\n",
              "      <td>61.0</td>\n",
              "      <td>222.0</td>\n",
              "      <td>152.0</td>\n",
              "      <td>69.0</td>\n",
              "      <td>1306.0</td>\n",
              "      <td>921.0</td>\n",
              "      <td>120.0</td>\n",
              "      <td>2041.0</td>\n",
              "      <td>270.0</td>\n",
              "      <td>1771.0</td>\n",
              "      <td>378.0</td>\n",
              "      <td>44.0</td>\n",
              "      <td>300.0</td>\n",
              "      <td>800.0</td>\n",
              "      <td>7819.0</td>\n",
              "      <td>7476.0</td>\n",
              "      <td>344.0</td>\n",
              "    </tr>\n",
              "    <tr>\n",
              "      <th>2020-07-31</th>\n",
              "      <td>21.0</td>\n",
              "      <td>436.0</td>\n",
              "      <td>363.0</td>\n",
              "      <td>172.0</td>\n",
              "      <td>191.0</td>\n",
              "      <td>1225.0</td>\n",
              "      <td>139.0</td>\n",
              "      <td>852.0</td>\n",
              "      <td>234.0</td>\n",
              "      <td>73.0</td>\n",
              "      <td>262.0</td>\n",
              "      <td>170.0</td>\n",
              "      <td>93.0</td>\n",
              "      <td>1213.0</td>\n",
              "      <td>867.0</td>\n",
              "      <td>130.0</td>\n",
              "      <td>1315.0</td>\n",
              "      <td>183.0</td>\n",
              "      <td>1132.0</td>\n",
              "      <td>187.0</td>\n",
              "      <td>73.0</td>\n",
              "      <td>308.0</td>\n",
              "      <td>737.0</td>\n",
              "      <td>6343.0</td>\n",
              "      <td>5962.0</td>\n",
              "      <td>381.0</td>\n",
              "    </tr>\n",
              "  </tbody>\n",
              "</table>\n",
              "<p>151 rows × 26 columns</p>\n",
              "</div>"
            ],
            "text/plain": [
              "            Mining and Logging Provided  Values  ...  Government Industry Value\n",
              "Date                                             ...                           \n",
              "2008-01-31                                 41.0  ...                      280.0\n",
              "2008-02-29                                 26.0  ...                      224.0\n",
              "2008-03-31                                 27.0  ...                      229.0\n",
              "2008-04-30                                 32.0  ...                      233.0\n",
              "2008-05-31                                 34.0  ...                      328.0\n",
              "...                                         ...  ...                        ...\n",
              "2020-03-31                                 19.0  ...                      269.0\n",
              "2020-04-30                                 17.0  ...                      156.0\n",
              "2020-05-31                                 18.0  ...                      267.0\n",
              "2020-06-30                                 13.0  ...                      344.0\n",
              "2020-07-31                                 21.0  ...                      381.0\n",
              "\n",
              "[151 rows x 26 columns]"
            ]
          },
          "metadata": {
            "tags": []
          },
          "execution_count": 78
        }
      ]
    },
    {
      "cell_type": "code",
      "metadata": {
        "id": "sAO_Agc5m3YK",
        "colab_type": "code",
        "colab": {}
      },
      "source": [
        ""
      ],
      "execution_count": null,
      "outputs": []
    },
    {
      "cell_type": "markdown",
      "metadata": {
        "id": "ZZx2_WHcm5ZW",
        "colab_type": "text"
      },
      "source": [
        "## Was going to go through each state and find data.... Longer way\n",
        "\n",
        "\n"
      ]
    },
    {
      "cell_type": "code",
      "metadata": {
        "id": "k8UXO0MglS_G",
        "colab_type": "code",
        "colab": {
          "base_uri": "https://localhost:8080/",
          "height": 450
        },
        "outputId": "bcfdb124-cd8d-4b03-995f-0ea901d70c8c"
      },
      "source": [
        "quandl.get(\"BLSE/CEU9000000001\",  start_date=\"2000-01-01\", end_date=\"2020-08-01\")"
      ],
      "execution_count": null,
      "outputs": [
        {
          "output_type": "execute_result",
          "data": {
            "text/html": [
              "<div>\n",
              "<style scoped>\n",
              "    .dataframe tbody tr th:only-of-type {\n",
              "        vertical-align: middle;\n",
              "    }\n",
              "\n",
              "    .dataframe tbody tr th {\n",
              "        vertical-align: top;\n",
              "    }\n",
              "\n",
              "    .dataframe thead th {\n",
              "        text-align: right;\n",
              "    }\n",
              "</style>\n",
              "<table border=\"1\" class=\"dataframe\">\n",
              "  <thead>\n",
              "    <tr style=\"text-align: right;\">\n",
              "      <th></th>\n",
              "      <th>Value</th>\n",
              "    </tr>\n",
              "    <tr>\n",
              "      <th>Date</th>\n",
              "      <th></th>\n",
              "    </tr>\n",
              "  </thead>\n",
              "  <tbody>\n",
              "    <tr>\n",
              "      <th>2000-01-31</th>\n",
              "      <td>20491.0</td>\n",
              "    </tr>\n",
              "    <tr>\n",
              "      <th>2000-02-29</th>\n",
              "      <td>20881.0</td>\n",
              "    </tr>\n",
              "    <tr>\n",
              "      <th>2000-03-31</th>\n",
              "      <td>21120.0</td>\n",
              "    </tr>\n",
              "    <tr>\n",
              "      <th>2000-04-30</th>\n",
              "      <td>21191.0</td>\n",
              "    </tr>\n",
              "    <tr>\n",
              "      <th>2000-05-31</th>\n",
              "      <td>21543.0</td>\n",
              "    </tr>\n",
              "    <tr>\n",
              "      <th>...</th>\n",
              "      <td>...</td>\n",
              "    </tr>\n",
              "    <tr>\n",
              "      <th>2020-03-31</th>\n",
              "      <td>23064.0</td>\n",
              "    </tr>\n",
              "    <tr>\n",
              "      <th>2020-04-30</th>\n",
              "      <td>22158.0</td>\n",
              "    </tr>\n",
              "    <tr>\n",
              "      <th>2020-05-31</th>\n",
              "      <td>21566.0</td>\n",
              "    </tr>\n",
              "    <tr>\n",
              "      <th>2020-06-30</th>\n",
              "      <td>21191.0</td>\n",
              "    </tr>\n",
              "    <tr>\n",
              "      <th>2020-07-31</th>\n",
              "      <td>20283.0</td>\n",
              "    </tr>\n",
              "  </tbody>\n",
              "</table>\n",
              "<p>247 rows × 1 columns</p>\n",
              "</div>"
            ],
            "text/plain": [
              "              Value\n",
              "Date               \n",
              "2000-01-31  20491.0\n",
              "2000-02-29  20881.0\n",
              "2000-03-31  21120.0\n",
              "2000-04-30  21191.0\n",
              "2000-05-31  21543.0\n",
              "...             ...\n",
              "2020-03-31  23064.0\n",
              "2020-04-30  22158.0\n",
              "2020-05-31  21566.0\n",
              "2020-06-30  21191.0\n",
              "2020-07-31  20283.0\n",
              "\n",
              "[247 rows x 1 columns]"
            ]
          },
          "metadata": {
            "tags": []
          },
          "execution_count": 79
        }
      ]
    },
    {
      "cell_type": "code",
      "metadata": {
        "id": "IOXtelqxnO2E",
        "colab_type": "code",
        "colab": {
          "base_uri": "https://localhost:8080/",
          "height": 450
        },
        "outputId": "77886061-e3f5-4d3c-ac03-4e3533a2cf6b"
      },
      "source": [
        "#Employment - All employees, thousands; Goods-producing industry\n",
        "\n",
        "goods = quandl.get(\"BLSE/CEU0600000001\", start_date=\"2000-01-01\", end_date=\"2020-08-01\")\n",
        "goods \n",
        "goods.rename(columns= {'Value' : 'Goods Produced Industry Value'})\n"
      ],
      "execution_count": null,
      "outputs": [
        {
          "output_type": "execute_result",
          "data": {
            "text/html": [
              "<div>\n",
              "<style scoped>\n",
              "    .dataframe tbody tr th:only-of-type {\n",
              "        vertical-align: middle;\n",
              "    }\n",
              "\n",
              "    .dataframe tbody tr th {\n",
              "        vertical-align: top;\n",
              "    }\n",
              "\n",
              "    .dataframe thead th {\n",
              "        text-align: right;\n",
              "    }\n",
              "</style>\n",
              "<table border=\"1\" class=\"dataframe\">\n",
              "  <thead>\n",
              "    <tr style=\"text-align: right;\">\n",
              "      <th></th>\n",
              "      <th>Goods Produced Industry Value</th>\n",
              "    </tr>\n",
              "    <tr>\n",
              "      <th>Date</th>\n",
              "      <th></th>\n",
              "    </tr>\n",
              "  </thead>\n",
              "  <tbody>\n",
              "    <tr>\n",
              "      <th>2000-01-31</th>\n",
              "      <td>24080.0</td>\n",
              "    </tr>\n",
              "    <tr>\n",
              "      <th>2000-02-29</th>\n",
              "      <td>24055.0</td>\n",
              "    </tr>\n",
              "    <tr>\n",
              "      <th>2000-03-31</th>\n",
              "      <td>24270.0</td>\n",
              "    </tr>\n",
              "    <tr>\n",
              "      <th>2000-04-30</th>\n",
              "      <td>24474.0</td>\n",
              "    </tr>\n",
              "    <tr>\n",
              "      <th>2000-05-31</th>\n",
              "      <td>24674.0</td>\n",
              "    </tr>\n",
              "    <tr>\n",
              "      <th>...</th>\n",
              "      <td>...</td>\n",
              "    </tr>\n",
              "    <tr>\n",
              "      <th>2020-03-31</th>\n",
              "      <td>20738.0</td>\n",
              "    </tr>\n",
              "    <tr>\n",
              "      <th>2020-04-30</th>\n",
              "      <td>18540.0</td>\n",
              "    </tr>\n",
              "    <tr>\n",
              "      <th>2020-05-31</th>\n",
              "      <td>19404.0</td>\n",
              "    </tr>\n",
              "    <tr>\n",
              "      <th>2020-06-30</th>\n",
              "      <td>20134.0</td>\n",
              "    </tr>\n",
              "    <tr>\n",
              "      <th>2020-07-31</th>\n",
              "      <td>20231.0</td>\n",
              "    </tr>\n",
              "  </tbody>\n",
              "</table>\n",
              "<p>247 rows × 1 columns</p>\n",
              "</div>"
            ],
            "text/plain": [
              "            Goods Produced Industry Value\n",
              "Date                                     \n",
              "2000-01-31                        24080.0\n",
              "2000-02-29                        24055.0\n",
              "2000-03-31                        24270.0\n",
              "2000-04-30                        24474.0\n",
              "2000-05-31                        24674.0\n",
              "...                                   ...\n",
              "2020-03-31                        20738.0\n",
              "2020-04-30                        18540.0\n",
              "2020-05-31                        19404.0\n",
              "2020-06-30                        20134.0\n",
              "2020-07-31                        20231.0\n",
              "\n",
              "[247 rows x 1 columns]"
            ]
          },
          "metadata": {
            "tags": []
          },
          "execution_count": 80
        }
      ]
    },
    {
      "cell_type": "markdown",
      "metadata": {
        "id": "Nqvt92U_t6x_",
        "colab_type": "text"
      },
      "source": [
        "# Wyoming"
      ]
    },
    {
      "cell_type": "code",
      "metadata": {
        "id": "8kfnuzaUeOfl",
        "colab_type": "code",
        "colab": {}
      },
      "source": [
        "# All Employees, In Thousands; Goods Producing - Wyoming\n",
        "wyoming_goods = quandl.get(\"BLSE/SMU56000000600000001\", start_date=\"2000-01-01\", end_date=\"2020-08-01\")\n",
        "wyoming_goods.columns=['Wyoming Goods Produced Value']"
      ],
      "execution_count": null,
      "outputs": []
    },
    {
      "cell_type": "code",
      "metadata": {
        "id": "RjIZTZUMU9qq",
        "colab_type": "code",
        "colab": {}
      },
      "source": [
        "# All Employees, In Thousands; Government - Wyoming\n",
        "wyoming_gov = quandl.get(\"BLSE/SMU56000009000000001\", start_date=\"2000-01-01\", end_date=\"2020-08-01\")\n",
        "\n",
        "wyoming_gov.columns=['Wyoming Government Industry Value']\n"
      ],
      "execution_count": null,
      "outputs": []
    },
    {
      "cell_type": "code",
      "metadata": {
        "id": "aPBGmilUuQuo",
        "colab_type": "code",
        "colab": {}
      },
      "source": [
        "# Wyoming Nonfarm\n",
        "wyoming_nonfarm = quandl.get(\"BLSE/SMU56000000000000001\", start_date=\"2000-01-01\", end_date=\"2020-08-01\")\n",
        "\n",
        "wyoming_nonfarm.columns=['Wyoming Nonfarm Industry Value']"
      ],
      "execution_count": null,
      "outputs": []
    },
    {
      "cell_type": "code",
      "metadata": {
        "id": "u5a24-Xhz8Tp",
        "colab_type": "code",
        "colab": {}
      },
      "source": [
        "# Wyoming Private\n",
        "wyoming_pri = quandl.get(\"BLSE/SMU56000000500000001\", start_date=\"2000-01-01\", end_date=\"2020-08-01\")\n",
        "\n",
        "wyoming_pri.columns=['Wyoming Private Industry Value']"
      ],
      "execution_count": null,
      "outputs": []
    },
    {
      "cell_type": "code",
      "metadata": {
        "id": "bpB1ktjT1v_9",
        "colab_type": "code",
        "colab": {}
      },
      "source": [
        "# Wyoming Service Provide\n",
        "wyoming_service = quandl.get(\"BLSE/SMU56000000700000001\", start_date=\"2000-01-01\", end_date=\"2020-08-01\")\n",
        "\n",
        "wyoming_service.columns=['Wyoming Service Industry Value']"
      ],
      "execution_count": null,
      "outputs": []
    },
    {
      "cell_type": "code",
      "metadata": {
        "id": "8BZ5YNYp2DqL",
        "colab_type": "code",
        "colab": {}
      },
      "source": [
        "# Wyoming Mining & Logging Provide\n",
        "wyoming_mine = quandl.get(\"BLSE/SMU56000001000000001\", start_date=\"2000-01-01\", end_date=\"2020-08-01\")\n",
        "\n",
        "wyoming_mine.columns=['Wyoming Mining & Logging Industry Value']"
      ],
      "execution_count": null,
      "outputs": []
    },
    {
      "cell_type": "code",
      "metadata": {
        "id": "hWPco0V12pct",
        "colab_type": "code",
        "colab": {}
      },
      "source": [
        "# Wyoming Manufacturing Provide\n",
        "wyoming_manu = quandl.get(\"BLSE/SMU56000003000000001\", start_date=\"2000-01-01\", end_date=\"2020-08-01\")\n",
        "\n",
        "wyoming_manu.columns=['Wyoming Manufacturing Industry Value']"
      ],
      "execution_count": null,
      "outputs": []
    },
    {
      "cell_type": "code",
      "metadata": {
        "id": "p_cjL-Ig26xG",
        "colab_type": "code",
        "colab": {}
      },
      "source": [
        "# Wyoming Durable Goods Provide\n",
        "wyoming_durable = quandl.get(\"BLSE/SMU56000003100000001\", start_date=\"2000-01-01\", end_date=\"2020-08-01\")\n",
        "\n",
        "wyoming_durable.columns=['Wyoming Durable Goods Industry Value']"
      ],
      "execution_count": null,
      "outputs": []
    },
    {
      "cell_type": "code",
      "metadata": {
        "id": "ex1nuV0x3Ur3",
        "colab_type": "code",
        "colab": {}
      },
      "source": [
        "# Wyoming Wholesale Trade Provide\n",
        "wyoming_whole = quandl.get(\"BLSE/SMU56000004100000001\", start_date=\"2000-01-01\", end_date=\"2020-08-01\")\n",
        "\n",
        "wyoming_whole.columns=['Wyoming Wholesale Trade Industry Value']"
      ],
      "execution_count": null,
      "outputs": []
    },
    {
      "cell_type": "code",
      "metadata": {
        "id": "EaHLbA_13i0d",
        "colab_type": "code",
        "colab": {}
      },
      "source": [
        "# Wyoming Transportation & Utilities  Provide\n",
        "wyoming_transport = quandl.get(\"BLSE/SMU56000004300000001\", start_date=\"2000-01-01\", end_date=\"2020-08-01\")\n",
        "\n",
        "wyoming_transport.columns=['Wyoming Transportation & Utilities Industry Value']"
      ],
      "execution_count": null,
      "outputs": []
    },
    {
      "cell_type": "code",
      "metadata": {
        "id": "4UcwkX516ACj",
        "colab_type": "code",
        "colab": {}
      },
      "source": [
        "# Wyoming Truck Transportation Provide\n",
        "wyoming_truck = quandl.get(\"BLSE/SMU56000004348400001\", start_date=\"2000-01-01\", end_date=\"2020-08-01\")\n",
        "\n",
        "wyoming_truck.columns=['Wyoming Truck Transportation Industry Value']"
      ],
      "execution_count": null,
      "outputs": []
    },
    {
      "cell_type": "code",
      "metadata": {
        "id": "2_n5D0gG32hQ",
        "colab_type": "code",
        "colab": {}
      },
      "source": [
        "add3 = pd.merge(wyoming_whole, wyoming_transport, on='Date')"
      ],
      "execution_count": null,
      "outputs": []
    },
    {
      "cell_type": "code",
      "metadata": {
        "id": "U-mdueGi3H9u",
        "colab_type": "code",
        "colab": {}
      },
      "source": [
        "add2 = pd.merge(wyoming_manu, wyoming_durable, on='Date')"
      ],
      "execution_count": null,
      "outputs": []
    },
    {
      "cell_type": "code",
      "metadata": {
        "id": "6jJ1M-ZK2UZF",
        "colab_type": "code",
        "colab": {}
      },
      "source": [
        "add1 = pd.merge(wyoming_service, wyoming_mine, on='Date')"
      ],
      "execution_count": null,
      "outputs": []
    },
    {
      "cell_type": "code",
      "metadata": {
        "id": "ce1VC4Bj02J_",
        "colab_type": "code",
        "colab": {}
      },
      "source": [
        "add = pd.merge(wyoming_nonfarm, wyoming_pri, on='Date')"
      ],
      "execution_count": null,
      "outputs": []
    },
    {
      "cell_type": "code",
      "metadata": {
        "id": "zGD9Yihn6b2p",
        "colab_type": "code",
        "colab": {}
      },
      "source": [
        "wyoming = pd.merge(wyoming_goods, wyoming_gov, on='Date')\n"
      ],
      "execution_count": null,
      "outputs": []
    },
    {
      "cell_type": "code",
      "metadata": {
        "id": "fGt9o5_z1Ff_",
        "colab_type": "code",
        "colab": {}
      },
      "source": [
        "wyoming1 = pd.merge(wyoming, add, on='Date')\n"
      ],
      "execution_count": null,
      "outputs": []
    },
    {
      "cell_type": "code",
      "metadata": {
        "id": "g2p5CVKh2b8h",
        "colab_type": "code",
        "colab": {}
      },
      "source": [
        "wyoming2 = pd.merge(wyoming1, add1, on='Date')\n"
      ],
      "execution_count": null,
      "outputs": []
    },
    {
      "cell_type": "code",
      "metadata": {
        "id": "hq7EobAG3Oui",
        "colab_type": "code",
        "colab": {}
      },
      "source": [
        "wyoming3 = pd.merge(wyoming2, add2, on='Date')"
      ],
      "execution_count": null,
      "outputs": []
    },
    {
      "cell_type": "code",
      "metadata": {
        "id": "cOtoiImf1nwE",
        "colab_type": "code",
        "colab": {}
      },
      "source": [
        "wyoming4 = pd.merge(wyoming3, add3, on='Date')\n",
        "wyoming4"
      ],
      "execution_count": null,
      "outputs": []
    },
    {
      "cell_type": "code",
      "metadata": {
        "id": "ZiSckuSK8wrn",
        "colab_type": "code",
        "colab": {
          "base_uri": "https://localhost:8080/",
          "height": 671
        },
        "outputId": "bc047e09-cf1f-4e6c-e107-cfc8054142a9"
      },
      "source": [
        "wyoming5 = pd.merge(wyoming4, wyoming_truck, on='Date')\n",
        "wyoming5"
      ],
      "execution_count": null,
      "outputs": [
        {
          "output_type": "execute_result",
          "data": {
            "text/html": [
              "<div>\n",
              "<style scoped>\n",
              "    .dataframe tbody tr th:only-of-type {\n",
              "        vertical-align: middle;\n",
              "    }\n",
              "\n",
              "    .dataframe tbody tr th {\n",
              "        vertical-align: top;\n",
              "    }\n",
              "\n",
              "    .dataframe thead th {\n",
              "        text-align: right;\n",
              "    }\n",
              "</style>\n",
              "<table border=\"1\" class=\"dataframe\">\n",
              "  <thead>\n",
              "    <tr style=\"text-align: right;\">\n",
              "      <th></th>\n",
              "      <th>Wyoming Goods Produced Value</th>\n",
              "      <th>Wyoming Government Industry Value</th>\n",
              "      <th>Wyoming Nonfarm Industry Value</th>\n",
              "      <th>Wyoming Private Industry Value</th>\n",
              "      <th>Wyoming Service Industry Value</th>\n",
              "      <th>Wyoming Mining &amp; Logging Industry Value</th>\n",
              "      <th>Wyoming Manufacturing Industry Value</th>\n",
              "      <th>Wyoming Durable Goods Industry Value</th>\n",
              "      <th>Wyoming Wholesale Trade Industry Value</th>\n",
              "      <th>Wyoming Transportation &amp; Utilities Industry Value</th>\n",
              "      <th>Wyoming Truck Transportation Industry Value</th>\n",
              "    </tr>\n",
              "    <tr>\n",
              "      <th>Date</th>\n",
              "      <th></th>\n",
              "      <th></th>\n",
              "      <th></th>\n",
              "      <th></th>\n",
              "      <th></th>\n",
              "      <th></th>\n",
              "      <th></th>\n",
              "      <th></th>\n",
              "      <th></th>\n",
              "      <th></th>\n",
              "      <th></th>\n",
              "    </tr>\n",
              "  </thead>\n",
              "  <tbody>\n",
              "    <tr>\n",
              "      <th>2006-01-31</th>\n",
              "      <td>54.6</td>\n",
              "      <td>64.8</td>\n",
              "      <td>262.7</td>\n",
              "      <td>197.9</td>\n",
              "      <td>208.1</td>\n",
              "      <td>24.6</td>\n",
              "      <td>9.8</td>\n",
              "      <td>5.2</td>\n",
              "      <td>7.7</td>\n",
              "      <td>13.1</td>\n",
              "      <td>64.8</td>\n",
              "    </tr>\n",
              "    <tr>\n",
              "      <th>2006-02-28</th>\n",
              "      <td>54.8</td>\n",
              "      <td>65.6</td>\n",
              "      <td>264.6</td>\n",
              "      <td>199.0</td>\n",
              "      <td>209.8</td>\n",
              "      <td>25.0</td>\n",
              "      <td>9.7</td>\n",
              "      <td>5.2</td>\n",
              "      <td>7.8</td>\n",
              "      <td>13.2</td>\n",
              "      <td>65.6</td>\n",
              "    </tr>\n",
              "    <tr>\n",
              "      <th>2006-03-31</th>\n",
              "      <td>55.7</td>\n",
              "      <td>66.2</td>\n",
              "      <td>267.9</td>\n",
              "      <td>201.7</td>\n",
              "      <td>212.2</td>\n",
              "      <td>25.4</td>\n",
              "      <td>9.7</td>\n",
              "      <td>5.3</td>\n",
              "      <td>7.9</td>\n",
              "      <td>13.3</td>\n",
              "      <td>66.2</td>\n",
              "    </tr>\n",
              "    <tr>\n",
              "      <th>2006-04-30</th>\n",
              "      <td>58.2</td>\n",
              "      <td>66.1</td>\n",
              "      <td>270.0</td>\n",
              "      <td>203.9</td>\n",
              "      <td>211.8</td>\n",
              "      <td>25.8</td>\n",
              "      <td>9.8</td>\n",
              "      <td>5.4</td>\n",
              "      <td>7.9</td>\n",
              "      <td>13.3</td>\n",
              "      <td>66.1</td>\n",
              "    </tr>\n",
              "    <tr>\n",
              "      <th>2006-05-31</th>\n",
              "      <td>60.8</td>\n",
              "      <td>67.1</td>\n",
              "      <td>278.1</td>\n",
              "      <td>211.0</td>\n",
              "      <td>217.3</td>\n",
              "      <td>26.2</td>\n",
              "      <td>10.0</td>\n",
              "      <td>5.5</td>\n",
              "      <td>8.1</td>\n",
              "      <td>13.4</td>\n",
              "      <td>67.1</td>\n",
              "    </tr>\n",
              "    <tr>\n",
              "      <th>...</th>\n",
              "      <td>...</td>\n",
              "      <td>...</td>\n",
              "      <td>...</td>\n",
              "      <td>...</td>\n",
              "      <td>...</td>\n",
              "      <td>...</td>\n",
              "      <td>...</td>\n",
              "      <td>...</td>\n",
              "      <td>...</td>\n",
              "      <td>...</td>\n",
              "      <td>...</td>\n",
              "    </tr>\n",
              "    <tr>\n",
              "      <th>2020-03-31</th>\n",
              "      <td>49.8</td>\n",
              "      <td>69.4</td>\n",
              "      <td>280.7</td>\n",
              "      <td>211.3</td>\n",
              "      <td>230.9</td>\n",
              "      <td>19.7</td>\n",
              "      <td>9.9</td>\n",
              "      <td>5.1</td>\n",
              "      <td>8.2</td>\n",
              "      <td>14.7</td>\n",
              "      <td>69.4</td>\n",
              "    </tr>\n",
              "    <tr>\n",
              "      <th>2020-04-30</th>\n",
              "      <td>48.5</td>\n",
              "      <td>67.8</td>\n",
              "      <td>256.3</td>\n",
              "      <td>188.5</td>\n",
              "      <td>207.8</td>\n",
              "      <td>18.0</td>\n",
              "      <td>9.8</td>\n",
              "      <td>5.0</td>\n",
              "      <td>7.9</td>\n",
              "      <td>14.2</td>\n",
              "      <td>67.8</td>\n",
              "    </tr>\n",
              "    <tr>\n",
              "      <th>2020-05-31</th>\n",
              "      <td>49.2</td>\n",
              "      <td>66.7</td>\n",
              "      <td>265.5</td>\n",
              "      <td>198.8</td>\n",
              "      <td>216.3</td>\n",
              "      <td>16.5</td>\n",
              "      <td>10.1</td>\n",
              "      <td>5.3</td>\n",
              "      <td>7.7</td>\n",
              "      <td>14.2</td>\n",
              "      <td>66.7</td>\n",
              "    </tr>\n",
              "    <tr>\n",
              "      <th>2020-06-30</th>\n",
              "      <td>49.7</td>\n",
              "      <td>65.6</td>\n",
              "      <td>275.6</td>\n",
              "      <td>210.0</td>\n",
              "      <td>225.9</td>\n",
              "      <td>15.5</td>\n",
              "      <td>10.3</td>\n",
              "      <td>5.4</td>\n",
              "      <td>7.6</td>\n",
              "      <td>14.3</td>\n",
              "      <td>65.6</td>\n",
              "    </tr>\n",
              "    <tr>\n",
              "      <th>2020-07-31</th>\n",
              "      <td>50.3</td>\n",
              "      <td>62.5</td>\n",
              "      <td>276.7</td>\n",
              "      <td>214.2</td>\n",
              "      <td>226.4</td>\n",
              "      <td>15.3</td>\n",
              "      <td>10.3</td>\n",
              "      <td>5.2</td>\n",
              "      <td>7.3</td>\n",
              "      <td>14.5</td>\n",
              "      <td>62.5</td>\n",
              "    </tr>\n",
              "  </tbody>\n",
              "</table>\n",
              "<p>175 rows × 11 columns</p>\n",
              "</div>"
            ],
            "text/plain": [
              "            Wyoming Goods Produced Value  ...  Wyoming Truck Transportation Industry Value\n",
              "Date                                      ...                                             \n",
              "2006-01-31                          54.6  ...                                         64.8\n",
              "2006-02-28                          54.8  ...                                         65.6\n",
              "2006-03-31                          55.7  ...                                         66.2\n",
              "2006-04-30                          58.2  ...                                         66.1\n",
              "2006-05-31                          60.8  ...                                         67.1\n",
              "...                                  ...  ...                                          ...\n",
              "2020-03-31                          49.8  ...                                         69.4\n",
              "2020-04-30                          48.5  ...                                         67.8\n",
              "2020-05-31                          49.2  ...                                         66.7\n",
              "2020-06-30                          49.7  ...                                         65.6\n",
              "2020-07-31                          50.3  ...                                         62.5\n",
              "\n",
              "[175 rows x 11 columns]"
            ]
          },
          "metadata": {
            "tags": []
          },
          "execution_count": 136
        }
      ]
    },
    {
      "cell_type": "markdown",
      "metadata": {
        "id": "xPZNKYnht_pL",
        "colab_type": "text"
      },
      "source": [
        "# Wisconsin"
      ]
    },
    {
      "cell_type": "code",
      "metadata": {
        "id": "peJ3Xnu0i13z",
        "colab_type": "code",
        "colab": {}
      },
      "source": [
        "#All Employees, In Thousands; Government - Wisconsin\n",
        "wisconsin_gov = quandl.get(\"BLSE/SMU55000009000000001\", start_date=\"2000-01-01\", end_date=\"2020-08-01\")\n",
        "wisconsin_gov.columns=['Wisconsin Government Value']"
      ],
      "execution_count": null,
      "outputs": []
    },
    {
      "cell_type": "code",
      "metadata": {
        "id": "XfyUTiG692Ek",
        "colab_type": "code",
        "colab": {}
      },
      "source": [
        "#All Employees, In Thousands; NonFarm - Wisconsin\n",
        "wisconsin_nonfarm = quandl.get(\"BLSE/SMU55000000000000001\", start_date=\"2000-01-01\", end_date=\"2020-08-01\")\n",
        "wisconsin_nonfarm.columns= ['Wisconsin NonFarm Value']"
      ],
      "execution_count": null,
      "outputs": []
    },
    {
      "cell_type": "code",
      "metadata": {
        "id": "e8U5Mwlv-6Cc",
        "colab_type": "code",
        "colab": {}
      },
      "source": [
        "#All Employees, In Thousands; Private - Wisconsin\n",
        "wisconsin_priv = quandl.get(\"BLSE/SMU55000000500000001\", start_date=\"2000-01-01\", end_date=\"2020-08-01\")\n",
        "wisconsin_priv.columns= ['Wisconsin Total Private Value']"
      ],
      "execution_count": null,
      "outputs": []
    },
    {
      "cell_type": "code",
      "metadata": {
        "id": "e5Sr0PFN_M5j",
        "colab_type": "code",
        "colab": {}
      },
      "source": [
        "#All Employees, In Thousands; Goods Producing - Wisconsin\n",
        "wisconsin_goods = quandl.get(\"BLSE/SMU55000000600000001\", start_date=\"2000-01-01\", end_date=\"2020-08-01\")\n",
        "wisconsin_goods.columns= ['Wisconsin Goods Produced Value']"
      ],
      "execution_count": null,
      "outputs": []
    },
    {
      "cell_type": "code",
      "metadata": {
        "id": "alDnCho5_zmV",
        "colab_type": "code",
        "colab": {}
      },
      "source": [
        "#All Employees, In Thousands; Service - Wisconsin\n",
        "wisconsin_service = quandl.get(\"BLSE/SMU55000000700000001\", start_date=\"2000-01-01\", end_date=\"2020-08-01\")\n",
        "wisconsin_service.columns= ['Wisconsin Service Provided Value']"
      ],
      "execution_count": null,
      "outputs": []
    },
    {
      "cell_type": "code",
      "metadata": {
        "id": "XHBfDX_4ACEL",
        "colab_type": "code",
        "colab": {}
      },
      "source": [
        "#All Employees, In Thousands; Mining and Logging - Wisconsin\n",
        "wisconsin_mining = quandl.get(\"BLSE/SMU55000001000000001\", start_date=\"2000-01-01\", end_date=\"2020-08-01\")\n",
        "wisconsin_mining.columns= ['Wisconsin Mining & Logging Value']"
      ],
      "execution_count": null,
      "outputs": []
    },
    {
      "cell_type": "code",
      "metadata": {
        "id": "48LlpcClAqcc",
        "colab_type": "code",
        "colab": {}
      },
      "source": [
        "#All Employees, In Thousands; Manufacturing - Wisconsin\n",
        "wisconsin_manufacture = quandl.get(\"BLSE/SMU55000003000000001\", start_date=\"2000-01-01\", end_date=\"2020-08-01\")\n",
        "wisconsin_manufacture.columns= ['Wisconsin Manufacturing Value']"
      ],
      "execution_count": null,
      "outputs": []
    },
    {
      "cell_type": "code",
      "metadata": {
        "id": "GiKtJ8OxBykD",
        "colab_type": "code",
        "colab": {}
      },
      "source": [
        "#All Employees, In Thousands; Durable Goods - Wisconsin\n",
        "wisconsin_durable = quandl.get(\"BLSE/SMU55000003100000001\", start_date=\"2000-01-01\", end_date=\"2020-08-01\")\n",
        "wisconsin_durable.columns= ['Wisconsin Durable Goods Value']"
      ],
      "execution_count": null,
      "outputs": []
    },
    {
      "cell_type": "code",
      "metadata": {
        "id": "-x6yGdy9ChLo",
        "colab_type": "code",
        "colab": {}
      },
      "source": [
        "#All Employees, In Thousands; Wholesale Trade - Wisconsin\n",
        "wisconsin_wholesale = quandl.get(\"BLSE/SMU55000004100000001\", start_date=\"2000-01-01\", end_date=\"2020-08-01\")\n",
        "wisconsin_wholesale.columns= ['Wisconsin Wholesale Trade Value']"
      ],
      "execution_count": null,
      "outputs": []
    },
    {
      "cell_type": "code",
      "metadata": {
        "id": "yMK3wUPACwXk",
        "colab_type": "code",
        "colab": {}
      },
      "source": [
        "#All Employees, In Thousands; Transportation & Utilities - Wisconsin\n",
        "wisconsin_transutil = quandl.get(\"BLSE/SMU55000004300000001\", start_date=\"2000-01-01\", end_date=\"2020-08-01\")\n",
        "wisconsin_transutil.columns= ['Wisconsin Transportation & Utilities Value']"
      ],
      "execution_count": null,
      "outputs": []
    },
    {
      "cell_type": "code",
      "metadata": {
        "id": "lZKPasiODTpl",
        "colab_type": "code",
        "colab": {}
      },
      "source": [
        "#All Employees, In Thousands; Truck Transportation - Wisconsin\n",
        "wisconsin_truck = quandl.get(\"BLSE/SMU55000004348400001\", start_date=\"2000-01-01\", end_date=\"2020-08-01\")\n",
        "wisconsin_truck.columns= ['Wisconsin Truck Transportation Value']"
      ],
      "execution_count": null,
      "outputs": []
    },
    {
      "cell_type": "code",
      "metadata": {
        "id": "L0I8fZm1C_-w",
        "colab_type": "code",
        "colab": {}
      },
      "source": [
        "wis4 = pd.merge(wisconsin_wholesale, wisconsin_transutil, on='Date')"
      ],
      "execution_count": null,
      "outputs": []
    },
    {
      "cell_type": "code",
      "metadata": {
        "id": "4orirx8bB__R",
        "colab_type": "code",
        "colab": {}
      },
      "source": [
        "wis3 = pd.merge(wisconsin_manufacture, wisconsin_durable, on='Date')"
      ],
      "execution_count": null,
      "outputs": []
    },
    {
      "cell_type": "code",
      "metadata": {
        "id": "PjynDG8fAX2z",
        "colab_type": "code",
        "colab": {}
      },
      "source": [
        "wis2 = pd.merge(wisconsin_service, wisconsin_mining, on='Date')"
      ],
      "execution_count": null,
      "outputs": []
    },
    {
      "cell_type": "code",
      "metadata": {
        "id": "JQhrFEBr_g_H",
        "colab_type": "code",
        "colab": {}
      },
      "source": [
        "wis1 = pd.merge(wisconsin_priv, wisconsin_goods, on='Date')"
      ],
      "execution_count": null,
      "outputs": []
    },
    {
      "cell_type": "code",
      "metadata": {
        "id": "Xr72tDNj-xmT",
        "colab_type": "code",
        "colab": {}
      },
      "source": [
        "wisconsin = pd.merge(wisconsin_gov, wisconsin_nonfarm, on='Date')"
      ],
      "execution_count": null,
      "outputs": []
    },
    {
      "cell_type": "code",
      "metadata": {
        "id": "7gFKzHFF_qF8",
        "colab_type": "code",
        "colab": {}
      },
      "source": [
        "wisconsin1 = pd.merge(wisconsin, wis1, on='Date')\n",
        "wisconsin1"
      ],
      "execution_count": null,
      "outputs": []
    },
    {
      "cell_type": "code",
      "metadata": {
        "id": "UUlEC052Aejd",
        "colab_type": "code",
        "colab": {}
      },
      "source": [
        "wisconsin2 = pd.merge(wisconsin1, wis2, on='Date')\n",
        "wisconsin2"
      ],
      "execution_count": null,
      "outputs": []
    },
    {
      "cell_type": "code",
      "metadata": {
        "id": "667uE5L5CIXr",
        "colab_type": "code",
        "colab": {}
      },
      "source": [
        "wisconsin3 = pd.merge(wisconsin2, wis3, on='Date')\n",
        "wisconsin3"
      ],
      "execution_count": null,
      "outputs": []
    },
    {
      "cell_type": "code",
      "metadata": {
        "id": "1cQm7JnvDJzl",
        "colab_type": "code",
        "colab": {}
      },
      "source": [
        "wisconsin4 = pd.merge(wisconsin3, wis4, on='Date')"
      ],
      "execution_count": null,
      "outputs": []
    },
    {
      "cell_type": "code",
      "metadata": {
        "id": "ULhy9CfTml9g",
        "colab_type": "code",
        "colab": {
          "base_uri": "https://localhost:8080/",
          "height": 654
        },
        "outputId": "5c5f2465-a03b-462f-8edf-7d03427cb764"
      },
      "source": [
        "wisconsin5 = pd.merge(wisconsin4, wisconsin_truck, on='Date')\n",
        "wisconsin5"
      ],
      "execution_count": null,
      "outputs": [
        {
          "output_type": "execute_result",
          "data": {
            "text/html": [
              "<div>\n",
              "<style scoped>\n",
              "    .dataframe tbody tr th:only-of-type {\n",
              "        vertical-align: middle;\n",
              "    }\n",
              "\n",
              "    .dataframe tbody tr th {\n",
              "        vertical-align: top;\n",
              "    }\n",
              "\n",
              "    .dataframe thead th {\n",
              "        text-align: right;\n",
              "    }\n",
              "</style>\n",
              "<table border=\"1\" class=\"dataframe\">\n",
              "  <thead>\n",
              "    <tr style=\"text-align: right;\">\n",
              "      <th></th>\n",
              "      <th>Wisconsin Government Value</th>\n",
              "      <th>Wisconsin NonFarm Value</th>\n",
              "      <th>Wisconsin Total Private Value</th>\n",
              "      <th>Wisconsin Goods Produced Value</th>\n",
              "      <th>Wisconsin Service Provided Value</th>\n",
              "      <th>Wisconsin Mining &amp; Logging Value</th>\n",
              "      <th>Wisconsin Manufacturing Value</th>\n",
              "      <th>Wisconsin Durable Goods Value</th>\n",
              "      <th>Wisconsin Wholesale Trade Value</th>\n",
              "      <th>Wisconsin Transportation &amp; Utilities Value</th>\n",
              "      <th>Wisconsin Truck Transportation Value</th>\n",
              "    </tr>\n",
              "    <tr>\n",
              "      <th>Date</th>\n",
              "      <th></th>\n",
              "      <th></th>\n",
              "      <th></th>\n",
              "      <th></th>\n",
              "      <th></th>\n",
              "      <th></th>\n",
              "      <th></th>\n",
              "      <th></th>\n",
              "      <th></th>\n",
              "      <th></th>\n",
              "      <th></th>\n",
              "    </tr>\n",
              "  </thead>\n",
              "  <tbody>\n",
              "    <tr>\n",
              "      <th>2006-01-31</th>\n",
              "      <td>410.1</td>\n",
              "      <td>2783.2</td>\n",
              "      <td>2373.1</td>\n",
              "      <td>621.0</td>\n",
              "      <td>2162.2</td>\n",
              "      <td>3.4</td>\n",
              "      <td>503.3</td>\n",
              "      <td>316.7</td>\n",
              "      <td>116.9</td>\n",
              "      <td>107.1</td>\n",
              "      <td>47.0</td>\n",
              "    </tr>\n",
              "    <tr>\n",
              "      <th>2006-02-28</th>\n",
              "      <td>419.7</td>\n",
              "      <td>2786.9</td>\n",
              "      <td>2367.2</td>\n",
              "      <td>616.1</td>\n",
              "      <td>2170.8</td>\n",
              "      <td>3.4</td>\n",
              "      <td>500.8</td>\n",
              "      <td>315.4</td>\n",
              "      <td>116.5</td>\n",
              "      <td>107.6</td>\n",
              "      <td>47.4</td>\n",
              "    </tr>\n",
              "    <tr>\n",
              "      <th>2006-03-31</th>\n",
              "      <td>424.6</td>\n",
              "      <td>2804.8</td>\n",
              "      <td>2380.2</td>\n",
              "      <td>619.4</td>\n",
              "      <td>2185.4</td>\n",
              "      <td>3.5</td>\n",
              "      <td>502.5</td>\n",
              "      <td>316.9</td>\n",
              "      <td>117.2</td>\n",
              "      <td>108.4</td>\n",
              "      <td>47.9</td>\n",
              "    </tr>\n",
              "    <tr>\n",
              "      <th>2006-04-30</th>\n",
              "      <td>427.5</td>\n",
              "      <td>2844.4</td>\n",
              "      <td>2416.9</td>\n",
              "      <td>631.9</td>\n",
              "      <td>2212.5</td>\n",
              "      <td>3.8</td>\n",
              "      <td>504.1</td>\n",
              "      <td>318.2</td>\n",
              "      <td>118.3</td>\n",
              "      <td>109.3</td>\n",
              "      <td>48.9</td>\n",
              "    </tr>\n",
              "    <tr>\n",
              "      <th>2006-05-31</th>\n",
              "      <td>426.0</td>\n",
              "      <td>2873.3</td>\n",
              "      <td>2447.3</td>\n",
              "      <td>641.0</td>\n",
              "      <td>2232.3</td>\n",
              "      <td>4.2</td>\n",
              "      <td>505.7</td>\n",
              "      <td>319.5</td>\n",
              "      <td>119.0</td>\n",
              "      <td>110.9</td>\n",
              "      <td>49.7</td>\n",
              "    </tr>\n",
              "    <tr>\n",
              "      <th>...</th>\n",
              "      <td>...</td>\n",
              "      <td>...</td>\n",
              "      <td>...</td>\n",
              "      <td>...</td>\n",
              "      <td>...</td>\n",
              "      <td>...</td>\n",
              "      <td>...</td>\n",
              "      <td>...</td>\n",
              "      <td>...</td>\n",
              "      <td>...</td>\n",
              "      <td>...</td>\n",
              "    </tr>\n",
              "    <tr>\n",
              "      <th>2020-03-31</th>\n",
              "      <td>416.3</td>\n",
              "      <td>2930.2</td>\n",
              "      <td>2513.9</td>\n",
              "      <td>598.2</td>\n",
              "      <td>2332.0</td>\n",
              "      <td>3.8</td>\n",
              "      <td>478.0</td>\n",
              "      <td>285.6</td>\n",
              "      <td>123.2</td>\n",
              "      <td>107.4</td>\n",
              "      <td>43.7</td>\n",
              "    </tr>\n",
              "    <tr>\n",
              "      <th>2020-04-30</th>\n",
              "      <td>366.3</td>\n",
              "      <td>2507.5</td>\n",
              "      <td>2141.2</td>\n",
              "      <td>554.9</td>\n",
              "      <td>1952.6</td>\n",
              "      <td>3.8</td>\n",
              "      <td>440.5</td>\n",
              "      <td>263.4</td>\n",
              "      <td>118.1</td>\n",
              "      <td>98.3</td>\n",
              "      <td>41.4</td>\n",
              "    </tr>\n",
              "    <tr>\n",
              "      <th>2020-05-31</th>\n",
              "      <td>361.0</td>\n",
              "      <td>2595.8</td>\n",
              "      <td>2234.8</td>\n",
              "      <td>576.3</td>\n",
              "      <td>2019.5</td>\n",
              "      <td>3.7</td>\n",
              "      <td>450.8</td>\n",
              "      <td>262.6</td>\n",
              "      <td>115.2</td>\n",
              "      <td>105.9</td>\n",
              "      <td>45.0</td>\n",
              "    </tr>\n",
              "    <tr>\n",
              "      <th>2020-06-30</th>\n",
              "      <td>353.7</td>\n",
              "      <td>2726.3</td>\n",
              "      <td>2372.6</td>\n",
              "      <td>590.7</td>\n",
              "      <td>2135.6</td>\n",
              "      <td>3.7</td>\n",
              "      <td>456.9</td>\n",
              "      <td>268.6</td>\n",
              "      <td>117.6</td>\n",
              "      <td>109.6</td>\n",
              "      <td>45.3</td>\n",
              "    </tr>\n",
              "    <tr>\n",
              "      <th>2020-07-31</th>\n",
              "      <td>338.5</td>\n",
              "      <td>2743.3</td>\n",
              "      <td>2404.8</td>\n",
              "      <td>600.9</td>\n",
              "      <td>2142.4</td>\n",
              "      <td>3.8</td>\n",
              "      <td>463.5</td>\n",
              "      <td>272.0</td>\n",
              "      <td>117.1</td>\n",
              "      <td>110.1</td>\n",
              "      <td>45.4</td>\n",
              "    </tr>\n",
              "  </tbody>\n",
              "</table>\n",
              "<p>175 rows × 11 columns</p>\n",
              "</div>"
            ],
            "text/plain": [
              "            Wisconsin Government Value  ...  Wisconsin Truck Transportation Value\n",
              "Date                                    ...                                      \n",
              "2006-01-31                       410.1  ...                                  47.0\n",
              "2006-02-28                       419.7  ...                                  47.4\n",
              "2006-03-31                       424.6  ...                                  47.9\n",
              "2006-04-30                       427.5  ...                                  48.9\n",
              "2006-05-31                       426.0  ...                                  49.7\n",
              "...                                ...  ...                                   ...\n",
              "2020-03-31                       416.3  ...                                  43.7\n",
              "2020-04-30                       366.3  ...                                  41.4\n",
              "2020-05-31                       361.0  ...                                  45.0\n",
              "2020-06-30                       353.7  ...                                  45.3\n",
              "2020-07-31                       338.5  ...                                  45.4\n",
              "\n",
              "[175 rows x 11 columns]"
            ]
          },
          "metadata": {
            "tags": []
          },
          "execution_count": 207
        }
      ]
    },
    {
      "cell_type": "markdown",
      "metadata": {
        "id": "HcaJrefuuC5-",
        "colab_type": "text"
      },
      "source": [
        "# West Virginia"
      ]
    },
    {
      "cell_type": "code",
      "metadata": {
        "id": "k2zaLqsEml6-",
        "colab_type": "code",
        "colab": {}
      },
      "source": [
        "#All Employees, In Thousands; Total Nonfarm - West Virginia\n",
        "westvirginia_nonfarm = quandl.get(\"BLSE/SMU54000000000000001\", start_date=\"2000-01-01\", end_date=\"2020-08-01\")\n",
        "westvirginia_nonfarm.columns= ['West Virginia Total Nonfarm Value']"
      ],
      "execution_count": null,
      "outputs": []
    },
    {
      "cell_type": "code",
      "metadata": {
        "id": "Dyx53nfjEzG7",
        "colab_type": "code",
        "colab": {}
      },
      "source": [
        "#All Employees, In Thousands; Total Private - West Virginia\n",
        "westvirginia_private = quandl.get(\"BLSE/SMU54000000500000001\", start_date=\"2000-01-01\", end_date=\"2020-08-01\")\n",
        "westvirginia_private.columns= ['West Virginia Total Private Value']"
      ],
      "execution_count": null,
      "outputs": []
    },
    {
      "cell_type": "code",
      "metadata": {
        "id": "SdhoJYe-FTAA",
        "colab_type": "code",
        "colab": {}
      },
      "source": [
        "#All Employees, In Thousands; Total Goods Produced - West Virginia\n",
        "westvirginia_goods = quandl.get(\"BLSE/SMU54000000600000001\", start_date=\"2000-01-01\", end_date=\"2020-08-01\")\n",
        "westvirginia_goods.columns= ['West Virginia Total Goods Produced Value']"
      ],
      "execution_count": null,
      "outputs": []
    },
    {
      "cell_type": "code",
      "metadata": {
        "id": "nXCL1osRFlsq",
        "colab_type": "code",
        "colab": {}
      },
      "source": [
        "#All Employees, In Thousands; Total Service Providing - West Virginia\n",
        "westvirginia_service = quandl.get(\"BLSE/SMU54000000700000001\", start_date=\"2000-01-01\", end_date=\"2020-08-01\")\n",
        "westvirginia_service.columns= ['West Virginia Total Service Provided Value']"
      ],
      "execution_count": null,
      "outputs": []
    },
    {
      "cell_type": "code",
      "metadata": {
        "id": "YBlIuWT2GiLN",
        "colab_type": "code",
        "colab": {}
      },
      "source": [
        "#All Employees, In Thousands; Total Mining & Logging Provided - West Virginia\n",
        "westvirginia_mining = quandl.get(\"BLSE/SMU54000001000000001\", start_date=\"2000-01-01\", end_date=\"2020-08-01\")\n",
        "westvirginia_mining.columns= ['West Virginia Total Mining & Logging Provided Value']"
      ],
      "execution_count": null,
      "outputs": []
    },
    {
      "cell_type": "code",
      "metadata": {
        "id": "DItIccOgIVGG",
        "colab_type": "code",
        "colab": {}
      },
      "source": [
        "#All Employees, In Thousands; Total Manufacturing Providing - West Virginia\n",
        "westvirginia_manufacture = quandl.get(\"BLSE/SMU54000003000000001\", start_date=\"2000-01-01\", end_date=\"2020-08-01\")\n",
        "westvirginia_manufacture.columns= ['West Virginia Total Manufacturing Provided Value']"
      ],
      "execution_count": null,
      "outputs": []
    },
    {
      "cell_type": "code",
      "metadata": {
        "id": "4rfVQmSOJN_q",
        "colab_type": "code",
        "colab": {}
      },
      "source": [
        "#All Employees, In Thousands; Total Durable Goods Providing - West Virginia\n",
        "westvirginia_durable = quandl.get(\"BLSE/SMU54000003100000001\", start_date=\"2000-01-01\", end_date=\"2020-08-01\")\n",
        "westvirginia_durable.columns= ['West Virginia Total Durable Goods Provided Value']"
      ],
      "execution_count": null,
      "outputs": []
    },
    {
      "cell_type": "code",
      "metadata": {
        "id": "27KUSMwAJlSp",
        "colab_type": "code",
        "colab": {}
      },
      "source": [
        "#All Employees, In Thousands; Total Wholesale Trade Providing - West Virginia\n",
        "westvirginia_wholesale = quandl.get(\"BLSE/SMU54000004100000001\", start_date=\"2000-01-01\", end_date=\"2020-08-01\")\n",
        "westvirginia_wholesale.columns= ['West Virginia Total Wholesale Trade Provided Value']"
      ],
      "execution_count": null,
      "outputs": []
    },
    {
      "cell_type": "code",
      "metadata": {
        "id": "vKaeDmQqKTCE",
        "colab_type": "code",
        "colab": {}
      },
      "source": [
        "#All Employees, In Thousands; Total Transportation & Utilities Providing - West Virginia\n",
        "westvirginia_transutil = quandl.get(\"BLSE/SMU54000004300000001\", start_date=\"2000-01-01\", end_date=\"2020-08-01\")\n",
        "westvirginia_transutil.columns= ['West Virginia Total Transportation & Utilities Provided Value']"
      ],
      "execution_count": null,
      "outputs": []
    },
    {
      "cell_type": "code",
      "metadata": {
        "id": "NBldTpx6K1S7",
        "colab_type": "code",
        "colab": {
          "base_uri": "https://localhost:8080/",
          "height": 306
        },
        "outputId": "e41011c6-73db-4224-fcfc-5ee9590198af"
      },
      "source": [
        "#All Employees, In Thousands; Total Transportation & Utilities Providing - West Virginia NO TRUCK DATA\n",
        "westvirginia_truck = quandl.get(\"BLSE/SMU54000004348400001\", start_date=\"2000-01-01\", end_date=\"2020-08-01\")\n",
        "westvirginia_truck.columns= ['West Virginia Total Truck Transportation Provided Value']"
      ],
      "execution_count": null,
      "outputs": [
        {
          "output_type": "error",
          "ename": "NotFoundError",
          "evalue": "ignored",
          "traceback": [
            "\u001b[0;31m---------------------------------------------------------------------------\u001b[0m",
            "\u001b[0;31mNotFoundError\u001b[0m                             Traceback (most recent call last)",
            "\u001b[0;32m<ipython-input-213-78995e971c14>\u001b[0m in \u001b[0;36m<module>\u001b[0;34m()\u001b[0m\n\u001b[1;32m      1\u001b[0m \u001b[0;31m#All Employees, In Thousands; Total Transportation & Utilities Providing - West Virginia NO TRUCK DATA\u001b[0m\u001b[0;34m\u001b[0m\u001b[0;34m\u001b[0m\u001b[0;34m\u001b[0m\u001b[0m\n\u001b[0;32m----> 2\u001b[0;31m \u001b[0mwestvirginia_truck\u001b[0m \u001b[0;34m=\u001b[0m \u001b[0mquandl\u001b[0m\u001b[0;34m.\u001b[0m\u001b[0mget\u001b[0m\u001b[0;34m(\u001b[0m\u001b[0;34m\"BLSE/SMU54000004348400001\"\u001b[0m\u001b[0;34m,\u001b[0m \u001b[0mstart_date\u001b[0m\u001b[0;34m=\u001b[0m\u001b[0;34m\"2000-01-01\"\u001b[0m\u001b[0;34m,\u001b[0m \u001b[0mend_date\u001b[0m\u001b[0;34m=\u001b[0m\u001b[0;34m\"2020-08-01\"\u001b[0m\u001b[0;34m)\u001b[0m\u001b[0;34m\u001b[0m\u001b[0;34m\u001b[0m\u001b[0m\n\u001b[0m\u001b[1;32m      3\u001b[0m \u001b[0mwestvirginia_truck\u001b[0m\u001b[0;34m.\u001b[0m\u001b[0mcolumns\u001b[0m\u001b[0;34m=\u001b[0m \u001b[0;34m[\u001b[0m\u001b[0;34m'West Virginia Total Truck Transportation Provided Value'\u001b[0m\u001b[0;34m]\u001b[0m\u001b[0;34m\u001b[0m\u001b[0;34m\u001b[0m\u001b[0m\n",
            "\u001b[0;32m/usr/local/lib/python3.6/dist-packages/quandl/get.py\u001b[0m in \u001b[0;36mget\u001b[0;34m(dataset, **kwargs)\u001b[0m\n\u001b[1;32m     46\u001b[0m         \u001b[0;32mif\u001b[0m \u001b[0mdataset_args\u001b[0m\u001b[0;34m[\u001b[0m\u001b[0;34m'column_index'\u001b[0m\u001b[0;34m]\u001b[0m \u001b[0;32mis\u001b[0m \u001b[0;32mnot\u001b[0m \u001b[0;32mNone\u001b[0m\u001b[0;34m:\u001b[0m\u001b[0;34m\u001b[0m\u001b[0;34m\u001b[0m\u001b[0m\n\u001b[1;32m     47\u001b[0m             \u001b[0mkwargs\u001b[0m\u001b[0;34m.\u001b[0m\u001b[0mupdate\u001b[0m\u001b[0;34m(\u001b[0m\u001b[0;34m{\u001b[0m\u001b[0;34m'column_index'\u001b[0m\u001b[0;34m:\u001b[0m \u001b[0mdataset_args\u001b[0m\u001b[0;34m[\u001b[0m\u001b[0;34m'column_index'\u001b[0m\u001b[0;34m]\u001b[0m\u001b[0;34m}\u001b[0m\u001b[0;34m)\u001b[0m\u001b[0;34m\u001b[0m\u001b[0;34m\u001b[0m\u001b[0m\n\u001b[0;32m---> 48\u001b[0;31m         \u001b[0mdata\u001b[0m \u001b[0;34m=\u001b[0m \u001b[0mDataset\u001b[0m\u001b[0;34m(\u001b[0m\u001b[0mdataset_args\u001b[0m\u001b[0;34m[\u001b[0m\u001b[0;34m'code'\u001b[0m\u001b[0;34m]\u001b[0m\u001b[0;34m)\u001b[0m\u001b[0;34m.\u001b[0m\u001b[0mdata\u001b[0m\u001b[0;34m(\u001b[0m\u001b[0mparams\u001b[0m\u001b[0;34m=\u001b[0m\u001b[0mkwargs\u001b[0m\u001b[0;34m,\u001b[0m \u001b[0mhandle_column_not_found\u001b[0m\u001b[0;34m=\u001b[0m\u001b[0;32mTrue\u001b[0m\u001b[0;34m)\u001b[0m\u001b[0;34m\u001b[0m\u001b[0;34m\u001b[0m\u001b[0m\n\u001b[0m\u001b[1;32m     49\u001b[0m     \u001b[0;31m# Array\u001b[0m\u001b[0;34m\u001b[0m\u001b[0;34m\u001b[0m\u001b[0;34m\u001b[0m\u001b[0m\n\u001b[1;32m     50\u001b[0m     \u001b[0;32melif\u001b[0m \u001b[0misinstance\u001b[0m\u001b[0;34m(\u001b[0m\u001b[0mdataset\u001b[0m\u001b[0;34m,\u001b[0m \u001b[0mlist\u001b[0m\u001b[0;34m)\u001b[0m\u001b[0;34m:\u001b[0m\u001b[0;34m\u001b[0m\u001b[0;34m\u001b[0m\u001b[0m\n",
            "\u001b[0;32m/usr/local/lib/python3.6/dist-packages/quandl/model/dataset.py\u001b[0m in \u001b[0;36mdata\u001b[0;34m(self, **options)\u001b[0m\n\u001b[1;32m     45\u001b[0m         \u001b[0mupdated_options\u001b[0m \u001b[0;34m=\u001b[0m \u001b[0mUtil\u001b[0m\u001b[0;34m.\u001b[0m\u001b[0mmerge_options\u001b[0m\u001b[0;34m(\u001b[0m\u001b[0;34m'params'\u001b[0m\u001b[0;34m,\u001b[0m \u001b[0mparams\u001b[0m\u001b[0;34m,\u001b[0m \u001b[0;34m**\u001b[0m\u001b[0moptions\u001b[0m\u001b[0;34m)\u001b[0m\u001b[0;34m\u001b[0m\u001b[0;34m\u001b[0m\u001b[0m\n\u001b[1;32m     46\u001b[0m         \u001b[0;32mtry\u001b[0m\u001b[0;34m:\u001b[0m\u001b[0;34m\u001b[0m\u001b[0;34m\u001b[0m\u001b[0m\n\u001b[0;32m---> 47\u001b[0;31m             \u001b[0;32mreturn\u001b[0m \u001b[0mData\u001b[0m\u001b[0;34m.\u001b[0m\u001b[0mall\u001b[0m\u001b[0;34m(\u001b[0m\u001b[0;34m**\u001b[0m\u001b[0mupdated_options\u001b[0m\u001b[0;34m)\u001b[0m\u001b[0;34m\u001b[0m\u001b[0;34m\u001b[0m\u001b[0m\n\u001b[0m\u001b[1;32m     48\u001b[0m         \u001b[0;32mexcept\u001b[0m \u001b[0mNotFoundError\u001b[0m\u001b[0;34m:\u001b[0m\u001b[0;34m\u001b[0m\u001b[0;34m\u001b[0m\u001b[0m\n\u001b[1;32m     49\u001b[0m             \u001b[0;32mif\u001b[0m \u001b[0mhandle_not_found_error\u001b[0m\u001b[0;34m:\u001b[0m\u001b[0;34m\u001b[0m\u001b[0;34m\u001b[0m\u001b[0m\n",
            "\u001b[0;32m/usr/local/lib/python3.6/dist-packages/quandl/operations/list.py\u001b[0m in \u001b[0;36mall\u001b[0;34m(cls, **options)\u001b[0m\n\u001b[1;32m     13\u001b[0m             \u001b[0moptions\u001b[0m\u001b[0;34m[\u001b[0m\u001b[0;34m'params'\u001b[0m\u001b[0;34m]\u001b[0m \u001b[0;34m=\u001b[0m \u001b[0;34m{\u001b[0m\u001b[0;34m}\u001b[0m\u001b[0;34m\u001b[0m\u001b[0;34m\u001b[0m\u001b[0m\n\u001b[1;32m     14\u001b[0m         \u001b[0mpath\u001b[0m \u001b[0;34m=\u001b[0m \u001b[0mUtil\u001b[0m\u001b[0;34m.\u001b[0m\u001b[0mconstructed_path\u001b[0m\u001b[0;34m(\u001b[0m\u001b[0mcls\u001b[0m\u001b[0;34m.\u001b[0m\u001b[0mlist_path\u001b[0m\u001b[0;34m(\u001b[0m\u001b[0;34m)\u001b[0m\u001b[0;34m,\u001b[0m \u001b[0moptions\u001b[0m\u001b[0;34m[\u001b[0m\u001b[0;34m'params'\u001b[0m\u001b[0;34m]\u001b[0m\u001b[0;34m)\u001b[0m\u001b[0;34m\u001b[0m\u001b[0;34m\u001b[0m\u001b[0m\n\u001b[0;32m---> 15\u001b[0;31m         \u001b[0mr\u001b[0m \u001b[0;34m=\u001b[0m \u001b[0mConnection\u001b[0m\u001b[0;34m.\u001b[0m\u001b[0mrequest\u001b[0m\u001b[0;34m(\u001b[0m\u001b[0;34m'get'\u001b[0m\u001b[0;34m,\u001b[0m \u001b[0mpath\u001b[0m\u001b[0;34m,\u001b[0m \u001b[0;34m**\u001b[0m\u001b[0moptions\u001b[0m\u001b[0;34m)\u001b[0m\u001b[0;34m\u001b[0m\u001b[0;34m\u001b[0m\u001b[0m\n\u001b[0m\u001b[1;32m     16\u001b[0m         \u001b[0mresponse_data\u001b[0m \u001b[0;34m=\u001b[0m \u001b[0mr\u001b[0m\u001b[0;34m.\u001b[0m\u001b[0mjson\u001b[0m\u001b[0;34m(\u001b[0m\u001b[0;34m)\u001b[0m\u001b[0;34m\u001b[0m\u001b[0;34m\u001b[0m\u001b[0m\n\u001b[1;32m     17\u001b[0m         \u001b[0mUtil\u001b[0m\u001b[0;34m.\u001b[0m\u001b[0mconvert_to_dates\u001b[0m\u001b[0;34m(\u001b[0m\u001b[0mresponse_data\u001b[0m\u001b[0;34m)\u001b[0m\u001b[0;34m\u001b[0m\u001b[0;34m\u001b[0m\u001b[0m\n",
            "\u001b[0;32m/usr/local/lib/python3.6/dist-packages/quandl/connection.py\u001b[0m in \u001b[0;36mrequest\u001b[0;34m(cls, http_verb, url, **options)\u001b[0m\n\u001b[1;32m     36\u001b[0m         \u001b[0mabs_url\u001b[0m \u001b[0;34m=\u001b[0m \u001b[0;34m'%s/%s'\u001b[0m \u001b[0;34m%\u001b[0m \u001b[0;34m(\u001b[0m\u001b[0mApiConfig\u001b[0m\u001b[0;34m.\u001b[0m\u001b[0mapi_base\u001b[0m\u001b[0;34m,\u001b[0m \u001b[0murl\u001b[0m\u001b[0;34m)\u001b[0m\u001b[0;34m\u001b[0m\u001b[0;34m\u001b[0m\u001b[0m\n\u001b[1;32m     37\u001b[0m \u001b[0;34m\u001b[0m\u001b[0m\n\u001b[0;32m---> 38\u001b[0;31m         \u001b[0;32mreturn\u001b[0m \u001b[0mcls\u001b[0m\u001b[0;34m.\u001b[0m\u001b[0mexecute_request\u001b[0m\u001b[0;34m(\u001b[0m\u001b[0mhttp_verb\u001b[0m\u001b[0;34m,\u001b[0m \u001b[0mabs_url\u001b[0m\u001b[0;34m,\u001b[0m \u001b[0;34m**\u001b[0m\u001b[0moptions\u001b[0m\u001b[0;34m)\u001b[0m\u001b[0;34m\u001b[0m\u001b[0;34m\u001b[0m\u001b[0m\n\u001b[0m\u001b[1;32m     39\u001b[0m \u001b[0;34m\u001b[0m\u001b[0m\n\u001b[1;32m     40\u001b[0m     \u001b[0;34m@\u001b[0m\u001b[0mclassmethod\u001b[0m\u001b[0;34m\u001b[0m\u001b[0;34m\u001b[0m\u001b[0m\n",
            "\u001b[0;32m/usr/local/lib/python3.6/dist-packages/quandl/connection.py\u001b[0m in \u001b[0;36mexecute_request\u001b[0;34m(cls, http_verb, url, **options)\u001b[0m\n\u001b[1;32m     48\u001b[0m                                        **options)\n\u001b[1;32m     49\u001b[0m             \u001b[0;32mif\u001b[0m \u001b[0mresponse\u001b[0m\u001b[0;34m.\u001b[0m\u001b[0mstatus_code\u001b[0m \u001b[0;34m<\u001b[0m \u001b[0;36m200\u001b[0m \u001b[0;32mor\u001b[0m \u001b[0mresponse\u001b[0m\u001b[0;34m.\u001b[0m\u001b[0mstatus_code\u001b[0m \u001b[0;34m>=\u001b[0m \u001b[0;36m300\u001b[0m\u001b[0;34m:\u001b[0m\u001b[0;34m\u001b[0m\u001b[0;34m\u001b[0m\u001b[0m\n\u001b[0;32m---> 50\u001b[0;31m                 \u001b[0mcls\u001b[0m\u001b[0;34m.\u001b[0m\u001b[0mhandle_api_error\u001b[0m\u001b[0;34m(\u001b[0m\u001b[0mresponse\u001b[0m\u001b[0;34m)\u001b[0m\u001b[0;34m\u001b[0m\u001b[0;34m\u001b[0m\u001b[0m\n\u001b[0m\u001b[1;32m     51\u001b[0m             \u001b[0;32melse\u001b[0m\u001b[0;34m:\u001b[0m\u001b[0;34m\u001b[0m\u001b[0;34m\u001b[0m\u001b[0m\n\u001b[1;32m     52\u001b[0m                 \u001b[0;32mreturn\u001b[0m \u001b[0mresponse\u001b[0m\u001b[0;34m\u001b[0m\u001b[0;34m\u001b[0m\u001b[0m\n",
            "\u001b[0;32m/usr/local/lib/python3.6/dist-packages/quandl/connection.py\u001b[0m in \u001b[0;36mhandle_api_error\u001b[0;34m(cls, resp)\u001b[0m\n\u001b[1;32m    112\u001b[0m         \u001b[0mklass\u001b[0m \u001b[0;34m=\u001b[0m \u001b[0md_klass\u001b[0m\u001b[0;34m.\u001b[0m\u001b[0mget\u001b[0m\u001b[0;34m(\u001b[0m\u001b[0mcode_letter\u001b[0m\u001b[0;34m,\u001b[0m \u001b[0mQuandlError\u001b[0m\u001b[0;34m)\u001b[0m\u001b[0;34m\u001b[0m\u001b[0;34m\u001b[0m\u001b[0m\n\u001b[1;32m    113\u001b[0m \u001b[0;34m\u001b[0m\u001b[0m\n\u001b[0;32m--> 114\u001b[0;31m         \u001b[0;32mraise\u001b[0m \u001b[0mklass\u001b[0m\u001b[0;34m(\u001b[0m\u001b[0mmessage\u001b[0m\u001b[0;34m,\u001b[0m \u001b[0mresp\u001b[0m\u001b[0;34m.\u001b[0m\u001b[0mstatus_code\u001b[0m\u001b[0;34m,\u001b[0m \u001b[0mresp\u001b[0m\u001b[0;34m.\u001b[0m\u001b[0mtext\u001b[0m\u001b[0;34m,\u001b[0m \u001b[0mresp\u001b[0m\u001b[0;34m.\u001b[0m\u001b[0mheaders\u001b[0m\u001b[0;34m,\u001b[0m \u001b[0mcode\u001b[0m\u001b[0;34m)\u001b[0m\u001b[0;34m\u001b[0m\u001b[0;34m\u001b[0m\u001b[0m\n\u001b[0m",
            "\u001b[0;31mNotFoundError\u001b[0m: (Status 404) (Quandl Error QECx02) You have submitted an incorrect Quandl code. Please check your Quandl codes and try again."
          ]
        }
      ]
    },
    {
      "cell_type": "code",
      "metadata": {
        "id": "9JpMctjJKh_V",
        "colab_type": "code",
        "colab": {}
      },
      "source": [
        "#All Employees, In Thousands; Total Government Providing - West Virginia NO TRUCK DATA\n",
        "westvirginia_gov = quandl.get(\"BLSE/SMU54000009000000001\", start_date=\"2000-01-01\", end_date=\"2020-08-01\")\n",
        "westvirginia_gov.columns= ['West Virginia Total Government Provided Value']"
      ],
      "execution_count": null,
      "outputs": []
    },
    {
      "cell_type": "code",
      "metadata": {
        "id": "xj-M4etoml4p",
        "colab_type": "code",
        "colab": {}
      },
      "source": [
        ""
      ],
      "execution_count": null,
      "outputs": []
    },
    {
      "cell_type": "code",
      "metadata": {
        "id": "0bQaNPNWml2W",
        "colab_type": "code",
        "colab": {}
      },
      "source": [
        "west4 = pd.merge(westvirginia_gov, westvirginia_transutil, on='Date')"
      ],
      "execution_count": null,
      "outputs": []
    },
    {
      "cell_type": "code",
      "metadata": {
        "id": "Pwvxz7gJJyLC",
        "colab_type": "code",
        "colab": {}
      },
      "source": [
        "west3 = pd.merge(westvirginia_durable, westvirginia_wholesale, on='Date')"
      ],
      "execution_count": null,
      "outputs": []
    },
    {
      "cell_type": "code",
      "metadata": {
        "id": "WURQxwwmmlzw",
        "colab_type": "code",
        "colab": {}
      },
      "source": [
        "west2 = pd.merge(westvirginia_manufacture, westvirginia_mining, on='Date')"
      ],
      "execution_count": null,
      "outputs": []
    },
    {
      "cell_type": "code",
      "metadata": {
        "id": "hQ2bhgEMmlu1",
        "colab_type": "code",
        "colab": {}
      },
      "source": [
        "west1 = pd.merge(westvirginia_goods, westvirginia_service, on='Date')\n",
        " "
      ],
      "execution_count": null,
      "outputs": []
    },
    {
      "cell_type": "code",
      "metadata": {
        "id": "GkYzUD3kmlxK",
        "colab_type": "code",
        "colab": {}
      },
      "source": [
        ""
      ],
      "execution_count": null,
      "outputs": []
    },
    {
      "cell_type": "code",
      "metadata": {
        "id": "nLLW-KqGmlsW",
        "colab_type": "code",
        "colab": {}
      },
      "source": [
        "westvirginia = pd.merge(westvirginia_nonfarm, westvirginia_private, on='Date')"
      ],
      "execution_count": null,
      "outputs": []
    },
    {
      "cell_type": "code",
      "metadata": {
        "id": "wymAbEKxGUSq",
        "colab_type": "code",
        "colab": {}
      },
      "source": [
        "westvirginia1 = pd.merge(westvirginia, west1, on='Date')\n"
      ],
      "execution_count": null,
      "outputs": []
    },
    {
      "cell_type": "code",
      "metadata": {
        "id": "HtSscGceIv02",
        "colab_type": "code",
        "colab": {}
      },
      "source": [
        "westvirginia2 = pd.merge(westvirginia1, west2, on='Date')\n"
      ],
      "execution_count": null,
      "outputs": []
    },
    {
      "cell_type": "code",
      "metadata": {
        "id": "Ma2dmPmfJ8CM",
        "colab_type": "code",
        "colab": {}
      },
      "source": [
        "westvirginia3 = pd.merge(westvirginia2, west3, on='Date')\n"
      ],
      "execution_count": null,
      "outputs": []
    },
    {
      "cell_type": "code",
      "metadata": {
        "id": "JqzioA_FM87p",
        "colab_type": "code",
        "colab": {
          "base_uri": "https://localhost:8080/",
          "height": 688
        },
        "outputId": "2893fdbb-33b3-4bd0-f586-dd8c6f8e7f13"
      },
      "source": [
        "#Missing Truck Transportation\n",
        "westvirginia4 = pd.merge(westvirginia3, west4, on='Date')\n",
        "westvirginia4"
      ],
      "execution_count": null,
      "outputs": [
        {
          "output_type": "execute_result",
          "data": {
            "text/html": [
              "<div>\n",
              "<style scoped>\n",
              "    .dataframe tbody tr th:only-of-type {\n",
              "        vertical-align: middle;\n",
              "    }\n",
              "\n",
              "    .dataframe tbody tr th {\n",
              "        vertical-align: top;\n",
              "    }\n",
              "\n",
              "    .dataframe thead th {\n",
              "        text-align: right;\n",
              "    }\n",
              "</style>\n",
              "<table border=\"1\" class=\"dataframe\">\n",
              "  <thead>\n",
              "    <tr style=\"text-align: right;\">\n",
              "      <th></th>\n",
              "      <th>West Virginia Total Nonfarm Value</th>\n",
              "      <th>West Virginia Total Private Value</th>\n",
              "      <th>West Virginia Total Goods Produced Value</th>\n",
              "      <th>West Virginia Total Service Provided Value</th>\n",
              "      <th>West Virginia Total Manufacturing Provided Value</th>\n",
              "      <th>West Virginia Total Mining &amp; Logging Provided Value</th>\n",
              "      <th>West Virginia Total Durable Goods Provided Value</th>\n",
              "      <th>West Virginia Total Wholesale Trade Provided Value</th>\n",
              "      <th>West Virginia Total Government Provided Value</th>\n",
              "      <th>West Virginia Total Transportation &amp; Utilities Provided Value</th>\n",
              "    </tr>\n",
              "    <tr>\n",
              "      <th>Date</th>\n",
              "      <th></th>\n",
              "      <th></th>\n",
              "      <th></th>\n",
              "      <th></th>\n",
              "      <th></th>\n",
              "      <th></th>\n",
              "      <th></th>\n",
              "      <th></th>\n",
              "      <th></th>\n",
              "      <th></th>\n",
              "    </tr>\n",
              "  </thead>\n",
              "  <tbody>\n",
              "    <tr>\n",
              "      <th>2006-01-31</th>\n",
              "      <td>708.8</td>\n",
              "      <td>565.7</td>\n",
              "      <td>122.7</td>\n",
              "      <td>586.1</td>\n",
              "      <td>61.2</td>\n",
              "      <td>27.2</td>\n",
              "      <td>38.5</td>\n",
              "      <td>24.3</td>\n",
              "      <td>143.1</td>\n",
              "      <td>25.9</td>\n",
              "    </tr>\n",
              "    <tr>\n",
              "      <th>2006-02-28</th>\n",
              "      <td>711.7</td>\n",
              "      <td>565.9</td>\n",
              "      <td>122.7</td>\n",
              "      <td>589.0</td>\n",
              "      <td>61.3</td>\n",
              "      <td>27.4</td>\n",
              "      <td>38.5</td>\n",
              "      <td>24.3</td>\n",
              "      <td>145.8</td>\n",
              "      <td>25.9</td>\n",
              "    </tr>\n",
              "    <tr>\n",
              "      <th>2006-03-31</th>\n",
              "      <td>721.0</td>\n",
              "      <td>572.9</td>\n",
              "      <td>125.5</td>\n",
              "      <td>595.5</td>\n",
              "      <td>61.6</td>\n",
              "      <td>27.7</td>\n",
              "      <td>38.8</td>\n",
              "      <td>24.5</td>\n",
              "      <td>148.1</td>\n",
              "      <td>26.1</td>\n",
              "    </tr>\n",
              "    <tr>\n",
              "      <th>2006-04-30</th>\n",
              "      <td>723.7</td>\n",
              "      <td>576.9</td>\n",
              "      <td>128.1</td>\n",
              "      <td>595.6</td>\n",
              "      <td>61.2</td>\n",
              "      <td>27.8</td>\n",
              "      <td>38.3</td>\n",
              "      <td>24.7</td>\n",
              "      <td>146.8</td>\n",
              "      <td>26.4</td>\n",
              "    </tr>\n",
              "    <tr>\n",
              "      <th>2006-05-31</th>\n",
              "      <td>739.2</td>\n",
              "      <td>581.7</td>\n",
              "      <td>129.9</td>\n",
              "      <td>609.3</td>\n",
              "      <td>61.2</td>\n",
              "      <td>27.9</td>\n",
              "      <td>38.5</td>\n",
              "      <td>24.8</td>\n",
              "      <td>157.5</td>\n",
              "      <td>26.6</td>\n",
              "    </tr>\n",
              "    <tr>\n",
              "      <th>...</th>\n",
              "      <td>...</td>\n",
              "      <td>...</td>\n",
              "      <td>...</td>\n",
              "      <td>...</td>\n",
              "      <td>...</td>\n",
              "      <td>...</td>\n",
              "      <td>...</td>\n",
              "      <td>...</td>\n",
              "      <td>...</td>\n",
              "      <td>...</td>\n",
              "    </tr>\n",
              "    <tr>\n",
              "      <th>2020-03-31</th>\n",
              "      <td>704.7</td>\n",
              "      <td>549.6</td>\n",
              "      <td>97.4</td>\n",
              "      <td>607.3</td>\n",
              "      <td>46.2</td>\n",
              "      <td>20.8</td>\n",
              "      <td>27.4</td>\n",
              "      <td>20.3</td>\n",
              "      <td>155.1</td>\n",
              "      <td>24.9</td>\n",
              "    </tr>\n",
              "    <tr>\n",
              "      <th>2020-04-30</th>\n",
              "      <td>619.3</td>\n",
              "      <td>473.2</td>\n",
              "      <td>92.9</td>\n",
              "      <td>526.4</td>\n",
              "      <td>43.8</td>\n",
              "      <td>20.4</td>\n",
              "      <td>26.0</td>\n",
              "      <td>16.8</td>\n",
              "      <td>146.1</td>\n",
              "      <td>23.6</td>\n",
              "    </tr>\n",
              "    <tr>\n",
              "      <th>2020-05-31</th>\n",
              "      <td>636.9</td>\n",
              "      <td>493.8</td>\n",
              "      <td>98.0</td>\n",
              "      <td>538.9</td>\n",
              "      <td>45.0</td>\n",
              "      <td>20.3</td>\n",
              "      <td>26.8</td>\n",
              "      <td>17.1</td>\n",
              "      <td>143.1</td>\n",
              "      <td>24.3</td>\n",
              "    </tr>\n",
              "    <tr>\n",
              "      <th>2020-06-30</th>\n",
              "      <td>669.7</td>\n",
              "      <td>520.1</td>\n",
              "      <td>101.0</td>\n",
              "      <td>568.7</td>\n",
              "      <td>46.9</td>\n",
              "      <td>20.2</td>\n",
              "      <td>28.4</td>\n",
              "      <td>18.2</td>\n",
              "      <td>149.6</td>\n",
              "      <td>24.3</td>\n",
              "    </tr>\n",
              "    <tr>\n",
              "      <th>2020-07-31</th>\n",
              "      <td>662.2</td>\n",
              "      <td>524.2</td>\n",
              "      <td>99.8</td>\n",
              "      <td>562.4</td>\n",
              "      <td>46.2</td>\n",
              "      <td>18.8</td>\n",
              "      <td>28.2</td>\n",
              "      <td>18.0</td>\n",
              "      <td>138.0</td>\n",
              "      <td>24.4</td>\n",
              "    </tr>\n",
              "  </tbody>\n",
              "</table>\n",
              "<p>175 rows × 10 columns</p>\n",
              "</div>"
            ],
            "text/plain": [
              "            West Virginia Total Nonfarm Value  ...  West Virginia Total Transportation & Utilities Provided Value\n",
              "Date                                           ...                                                               \n",
              "2006-01-31                              708.8  ...                                               25.9            \n",
              "2006-02-28                              711.7  ...                                               25.9            \n",
              "2006-03-31                              721.0  ...                                               26.1            \n",
              "2006-04-30                              723.7  ...                                               26.4            \n",
              "2006-05-31                              739.2  ...                                               26.6            \n",
              "...                                       ...  ...                                                ...            \n",
              "2020-03-31                              704.7  ...                                               24.9            \n",
              "2020-04-30                              619.3  ...                                               23.6            \n",
              "2020-05-31                              636.9  ...                                               24.3            \n",
              "2020-06-30                              669.7  ...                                               24.3            \n",
              "2020-07-31                              662.2  ...                                               24.4            \n",
              "\n",
              "[175 rows x 10 columns]"
            ]
          },
          "metadata": {
            "tags": []
          },
          "execution_count": 217
        }
      ]
    },
    {
      "cell_type": "code",
      "metadata": {
        "id": "Rxs2WLDimlp9",
        "colab_type": "code",
        "colab": {}
      },
      "source": [
        "# ---------------------------------------------------------------------------------------------------------------------"
      ],
      "execution_count": null,
      "outputs": []
    },
    {
      "cell_type": "markdown",
      "metadata": {
        "id": "jN5mPnh5NUHF",
        "colab_type": "text"
      },
      "source": [
        "# Washington"
      ]
    },
    {
      "cell_type": "code",
      "metadata": {
        "id": "ZZPYro2YNZIG",
        "colab_type": "code",
        "colab": {}
      },
      "source": [
        "#All Employees, In Thousands; Total Government Providing -Washington\n",
        "washington_gov = quandl.get(\"BLSE/SMU53000009000000001\", start_date=\"2000-01-01\", end_date=\"2020-08-01\")\n",
        "washington_gov.columns= ['Washington Total Government Provided Value']"
      ],
      "execution_count": null,
      "outputs": []
    },
    {
      "cell_type": "code",
      "metadata": {
        "id": "NI7id0zfNrtV",
        "colab_type": "code",
        "colab": {}
      },
      "source": [
        "#All Employees, In Thousands; Total Nonfarm Providing -Washington\n",
        "washington_nonfarm = quandl.get(\"BLSE/SMU53000000000000001\", start_date=\"2000-01-01\", end_date=\"2020-08-01\")\n",
        "washington_nonfarm.columns= ['Washington Total Nonfarm Provided Value']"
      ],
      "execution_count": null,
      "outputs": []
    },
    {
      "cell_type": "code",
      "metadata": {
        "id": "mQSQYZqENbOM",
        "colab_type": "code",
        "colab": {}
      },
      "source": [
        "#All Employees, In Thousands; Total Private Providing -Washington\n",
        "washington_priv = quandl.get(\"BLSE/SMU53000000500000001\", start_date=\"2000-01-01\", end_date=\"2020-08-01\")\n",
        "washington_priv.columns= ['Washington Total Private Provided Value']"
      ],
      "execution_count": null,
      "outputs": []
    },
    {
      "cell_type": "code",
      "metadata": {
        "id": "iBR2s3oTOOxU",
        "colab_type": "code",
        "colab": {}
      },
      "source": [
        "#All Employees, In Thousands; Total Goods Produced Providing -Washington\n",
        "washington_goods = quandl.get(\"BLSE/SMU53000000600000001\", start_date=\"2000-01-01\", end_date=\"2020-08-01\")\n",
        "washington_goods.columns= ['Washington Total Goods Produced Provided Value']"
      ],
      "execution_count": null,
      "outputs": []
    },
    {
      "cell_type": "code",
      "metadata": {
        "id": "a7paYHvhOvVD",
        "colab_type": "code",
        "colab": {}
      },
      "source": [
        "#All Employees, In Thousands; Total Service Provided Providing -Washington\n",
        "washington_serv = quandl.get(\"BLSE/SMU53000000700000001\", start_date=\"2000-01-01\", end_date=\"2020-08-01\")\n",
        "washington_serv.columns= ['Washington Total Service Provided Value']"
      ],
      "execution_count": null,
      "outputs": []
    },
    {
      "cell_type": "code",
      "metadata": {
        "id": "aThbagFqPAVx",
        "colab_type": "code",
        "colab": {}
      },
      "source": [
        "#All Employees, In Thousands; Total Mining & Logging Providing -Washington\n",
        "washington_mining = quandl.get(\"BLSE/SMU53000001000000001\", start_date=\"2000-01-01\", end_date=\"2020-08-01\")\n",
        "washington_mining.columns= ['Washington Total Mining & Logging Provided Value']"
      ],
      "execution_count": null,
      "outputs": []
    },
    {
      "cell_type": "code",
      "metadata": {
        "id": "-siZl7gVPfbA",
        "colab_type": "code",
        "colab": {}
      },
      "source": [
        "#All Employees, In Thousands; Total Manufacturing Providing -Washington\n",
        "washington_manu = quandl.get(\"BLSE/SMU53000003000000001\", start_date=\"2000-01-01\", end_date=\"2020-08-01\")\n",
        "washington_manu.columns= ['Washington Total Manufacturing Provided Value']"
      ],
      "execution_count": null,
      "outputs": []
    },
    {
      "cell_type": "code",
      "metadata": {
        "id": "nQoAlEtRPrJJ",
        "colab_type": "code",
        "colab": {}
      },
      "source": [
        "#All Employees, In Thousands; Total Durable Goods Providing -Washington\n",
        "washington_durable = quandl.get(\"BLSE/SMU53000003100000001\", start_date=\"2000-01-01\", end_date=\"2020-08-01\")\n",
        "washington_durable.columns= ['Washington Total Durable Goods Provided Value']"
      ],
      "execution_count": null,
      "outputs": []
    },
    {
      "cell_type": "code",
      "metadata": {
        "id": "DJB7dWmfQGEQ",
        "colab_type": "code",
        "colab": {}
      },
      "source": [
        "#All Employees, In Thousands; Total Wholesale Trade Providing -Washington\n",
        "washington_wholesale = quandl.get(\"BLSE/SMU53000004100000001\", start_date=\"2000-01-01\", end_date=\"2020-08-01\")\n",
        "washington_wholesale.columns= ['Washington Total Wholesale Trade Provided Value']"
      ],
      "execution_count": null,
      "outputs": []
    },
    {
      "cell_type": "code",
      "metadata": {
        "id": "hdOrfHbUQQRs",
        "colab_type": "code",
        "colab": {}
      },
      "source": [
        "#All Employees, In Thousands; Total Transportation & Utilities Providing -Washington\n",
        "washington_transutil = quandl.get(\"BLSE/SMU53000004300000001\", start_date=\"2000-01-01\", end_date=\"2020-08-01\")\n",
        "washington_transutil.columns= ['Washington Total Transportation & Utilities Provided Value']"
      ],
      "execution_count": null,
      "outputs": []
    },
    {
      "cell_type": "code",
      "metadata": {
        "id": "BOgExsGWQ2Jk",
        "colab_type": "code",
        "colab": {}
      },
      "source": [
        "#All Employees, In Thousands; Total Air Transportation Providing -Washington\n",
        "washington_air = quandl.get(\"BLSE/SMU53000004348100001\", start_date=\"2000-01-01\", end_date=\"2020-08-01\")\n",
        "washington_air.columns= ['Washington Total Air Transportation Provided Value']"
      ],
      "execution_count": null,
      "outputs": []
    },
    {
      "cell_type": "code",
      "metadata": {
        "id": "__G-qrR7NbHY",
        "colab_type": "code",
        "colab": {}
      },
      "source": [
        "#All Employees, In Thousands; Total Truck Transportation Providing -Washington\n",
        "washington_truck = quandl.get(\"BLSE/SMU53000004348400001\", start_date=\"2000-01-01\", end_date=\"2020-08-01\")\n",
        "washington_truck.columns= ['Washington Total Truck Transportation Provided Value']"
      ],
      "execution_count": null,
      "outputs": []
    },
    {
      "cell_type": "code",
      "metadata": {
        "id": "UzL_2n1MRgH5",
        "colab_type": "code",
        "colab": {}
      },
      "source": [
        "wash5 = pd.merge(washington_air, washington_truck, on='Date')"
      ],
      "execution_count": null,
      "outputs": []
    },
    {
      "cell_type": "code",
      "metadata": {
        "id": "rpsoTI1EQmp2",
        "colab_type": "code",
        "colab": {}
      },
      "source": [
        "wash4 = pd.merge(washington_wholesale, washington_transutil, on='Date')"
      ],
      "execution_count": null,
      "outputs": []
    },
    {
      "cell_type": "code",
      "metadata": {
        "id": "qE3VZU7pNa57",
        "colab_type": "code",
        "colab": {}
      },
      "source": [
        "wash3 = pd.merge(washington_manu, washington_durable, on='Date')"
      ],
      "execution_count": null,
      "outputs": []
    },
    {
      "cell_type": "code",
      "metadata": {
        "id": "xPl9L5QaNaxC",
        "colab_type": "code",
        "colab": {}
      },
      "source": [
        "wash2 = pd.merge(washington_serv, washington_mining, on='Date')"
      ],
      "execution_count": null,
      "outputs": []
    },
    {
      "cell_type": "code",
      "metadata": {
        "id": "D5HCIZV4N4D-",
        "colab_type": "code",
        "colab": {}
      },
      "source": [
        "wash1 = pd.merge(washington_priv, washington_goods, on='Date')"
      ],
      "execution_count": null,
      "outputs": []
    },
    {
      "cell_type": "code",
      "metadata": {
        "id": "9_Db4HWSN4XU",
        "colab_type": "code",
        "colab": {}
      },
      "source": [
        "washington = pd.merge(washington_gov, washington_nonfarm, on='Date')"
      ],
      "execution_count": null,
      "outputs": []
    },
    {
      "cell_type": "code",
      "metadata": {
        "id": "PmNtiod5OiMk",
        "colab_type": "code",
        "colab": {}
      },
      "source": [
        "washington1 = pd.merge(washington, wash1, on='Date')\n"
      ],
      "execution_count": null,
      "outputs": []
    },
    {
      "cell_type": "code",
      "metadata": {
        "id": "avER0XttPVc4",
        "colab_type": "code",
        "colab": {}
      },
      "source": [
        "washington2 = pd.merge(washington1, wash2, on='Date')\n"
      ],
      "execution_count": null,
      "outputs": []
    },
    {
      "cell_type": "code",
      "metadata": {
        "id": "FHaz7Y5FP7Qj",
        "colab_type": "code",
        "colab": {}
      },
      "source": [
        "washington3 = pd.merge(washington2, wash3, on='Date')\n"
      ],
      "execution_count": null,
      "outputs": []
    },
    {
      "cell_type": "code",
      "metadata": {
        "id": "XV6bsY_sN4Oy",
        "colab_type": "code",
        "colab": {}
      },
      "source": [
        "washington4 = pd.merge(washington3, wash4, on='Date')\n"
      ],
      "execution_count": null,
      "outputs": []
    },
    {
      "cell_type": "code",
      "metadata": {
        "id": "bBEzLjYiRofS",
        "colab_type": "code",
        "colab": {
          "base_uri": "https://localhost:8080/",
          "height": 688
        },
        "outputId": "bf1e3de4-bafb-47fb-817d-f32542efd7dd"
      },
      "source": [
        "washington5 = pd.merge(washington4, wash5, on='Date')\n",
        "washington5"
      ],
      "execution_count": null,
      "outputs": [
        {
          "output_type": "execute_result",
          "data": {
            "text/html": [
              "<div>\n",
              "<style scoped>\n",
              "    .dataframe tbody tr th:only-of-type {\n",
              "        vertical-align: middle;\n",
              "    }\n",
              "\n",
              "    .dataframe tbody tr th {\n",
              "        vertical-align: top;\n",
              "    }\n",
              "\n",
              "    .dataframe thead th {\n",
              "        text-align: right;\n",
              "    }\n",
              "</style>\n",
              "<table border=\"1\" class=\"dataframe\">\n",
              "  <thead>\n",
              "    <tr style=\"text-align: right;\">\n",
              "      <th></th>\n",
              "      <th>Washington Total Government Provided Value</th>\n",
              "      <th>Washington Total Nonfarm Provided Value</th>\n",
              "      <th>Washington Total Private Provided Value</th>\n",
              "      <th>Washington Total Goods Produced Provided Value</th>\n",
              "      <th>Washington Total Service Provided Value</th>\n",
              "      <th>Washington Total Mining &amp; Logging Provided Value</th>\n",
              "      <th>Washington Total Manufacturing Provided Value</th>\n",
              "      <th>Washington Total Durable Goods Provided Value</th>\n",
              "      <th>Washington Total Wholesale Trade Provided Value</th>\n",
              "      <th>Washington Total Transportation &amp; Utilities Provided Value</th>\n",
              "      <th>Washington Total Air Transportation Provided Value</th>\n",
              "      <th>Washington Total Truck Transportation Provided Value</th>\n",
              "    </tr>\n",
              "    <tr>\n",
              "      <th>Date</th>\n",
              "      <th></th>\n",
              "      <th></th>\n",
              "      <th></th>\n",
              "      <th></th>\n",
              "      <th></th>\n",
              "      <th></th>\n",
              "      <th></th>\n",
              "      <th></th>\n",
              "      <th></th>\n",
              "      <th></th>\n",
              "      <th></th>\n",
              "      <th></th>\n",
              "    </tr>\n",
              "  </thead>\n",
              "  <tbody>\n",
              "    <tr>\n",
              "      <th>2006-01-31</th>\n",
              "      <td>529.6</td>\n",
              "      <td>2811.1</td>\n",
              "      <td>2281.5</td>\n",
              "      <td>462.0</td>\n",
              "      <td>2349.1</td>\n",
              "      <td>8.4</td>\n",
              "      <td>278.0</td>\n",
              "      <td>198.3</td>\n",
              "      <td>123.3</td>\n",
              "      <td>90.9</td>\n",
              "      <td>11.2</td>\n",
              "      <td>23.9</td>\n",
              "    </tr>\n",
              "    <tr>\n",
              "      <th>2006-02-28</th>\n",
              "      <td>536.5</td>\n",
              "      <td>2831.6</td>\n",
              "      <td>2295.1</td>\n",
              "      <td>468.1</td>\n",
              "      <td>2363.5</td>\n",
              "      <td>8.5</td>\n",
              "      <td>280.1</td>\n",
              "      <td>200.6</td>\n",
              "      <td>123.8</td>\n",
              "      <td>91.1</td>\n",
              "      <td>11.2</td>\n",
              "      <td>24.0</td>\n",
              "    </tr>\n",
              "    <tr>\n",
              "      <th>2006-03-31</th>\n",
              "      <td>538.2</td>\n",
              "      <td>2852.3</td>\n",
              "      <td>2314.1</td>\n",
              "      <td>472.9</td>\n",
              "      <td>2379.4</td>\n",
              "      <td>8.5</td>\n",
              "      <td>280.2</td>\n",
              "      <td>200.3</td>\n",
              "      <td>124.6</td>\n",
              "      <td>91.7</td>\n",
              "      <td>11.1</td>\n",
              "      <td>24.3</td>\n",
              "    </tr>\n",
              "    <tr>\n",
              "      <th>2006-04-30</th>\n",
              "      <td>536.8</td>\n",
              "      <td>2867.7</td>\n",
              "      <td>2330.9</td>\n",
              "      <td>477.1</td>\n",
              "      <td>2390.6</td>\n",
              "      <td>8.4</td>\n",
              "      <td>281.0</td>\n",
              "      <td>201.4</td>\n",
              "      <td>124.4</td>\n",
              "      <td>92.0</td>\n",
              "      <td>11.0</td>\n",
              "      <td>24.6</td>\n",
              "    </tr>\n",
              "    <tr>\n",
              "      <th>2006-05-31</th>\n",
              "      <td>539.1</td>\n",
              "      <td>2897.6</td>\n",
              "      <td>2358.5</td>\n",
              "      <td>485.8</td>\n",
              "      <td>2411.8</td>\n",
              "      <td>8.8</td>\n",
              "      <td>283.2</td>\n",
              "      <td>202.8</td>\n",
              "      <td>125.5</td>\n",
              "      <td>93.1</td>\n",
              "      <td>11.1</td>\n",
              "      <td>24.9</td>\n",
              "    </tr>\n",
              "    <tr>\n",
              "      <th>...</th>\n",
              "      <td>...</td>\n",
              "      <td>...</td>\n",
              "      <td>...</td>\n",
              "      <td>...</td>\n",
              "      <td>...</td>\n",
              "      <td>...</td>\n",
              "      <td>...</td>\n",
              "      <td>...</td>\n",
              "      <td>...</td>\n",
              "      <td>...</td>\n",
              "      <td>...</td>\n",
              "      <td>...</td>\n",
              "    </tr>\n",
              "    <tr>\n",
              "      <th>2020-03-31</th>\n",
              "      <td>598.4</td>\n",
              "      <td>3473.4</td>\n",
              "      <td>2875.0</td>\n",
              "      <td>519.6</td>\n",
              "      <td>2953.8</td>\n",
              "      <td>5.4</td>\n",
              "      <td>289.6</td>\n",
              "      <td>204.9</td>\n",
              "      <td>135.9</td>\n",
              "      <td>114.9</td>\n",
              "      <td>16.6</td>\n",
              "      <td>25.0</td>\n",
              "    </tr>\n",
              "    <tr>\n",
              "      <th>2020-04-30</th>\n",
              "      <td>572.4</td>\n",
              "      <td>2963.5</td>\n",
              "      <td>2391.1</td>\n",
              "      <td>410.6</td>\n",
              "      <td>2552.9</td>\n",
              "      <td>4.8</td>\n",
              "      <td>260.0</td>\n",
              "      <td>184.0</td>\n",
              "      <td>125.7</td>\n",
              "      <td>105.5</td>\n",
              "      <td>11.9</td>\n",
              "      <td>21.5</td>\n",
              "    </tr>\n",
              "    <tr>\n",
              "      <th>2020-05-31</th>\n",
              "      <td>555.1</td>\n",
              "      <td>3076.2</td>\n",
              "      <td>2521.1</td>\n",
              "      <td>471.4</td>\n",
              "      <td>2604.8</td>\n",
              "      <td>5.1</td>\n",
              "      <td>269.5</td>\n",
              "      <td>189.4</td>\n",
              "      <td>127.4</td>\n",
              "      <td>105.0</td>\n",
              "      <td>10.4</td>\n",
              "      <td>21.8</td>\n",
              "    </tr>\n",
              "    <tr>\n",
              "      <th>2020-06-30</th>\n",
              "      <td>549.1</td>\n",
              "      <td>3193.2</td>\n",
              "      <td>2644.1</td>\n",
              "      <td>491.1</td>\n",
              "      <td>2702.1</td>\n",
              "      <td>5.3</td>\n",
              "      <td>272.8</td>\n",
              "      <td>190.1</td>\n",
              "      <td>127.7</td>\n",
              "      <td>108.2</td>\n",
              "      <td>10.5</td>\n",
              "      <td>21.8</td>\n",
              "    </tr>\n",
              "    <tr>\n",
              "      <th>2020-07-31</th>\n",
              "      <td>541.6</td>\n",
              "      <td>3251.5</td>\n",
              "      <td>2709.9</td>\n",
              "      <td>496.8</td>\n",
              "      <td>2754.7</td>\n",
              "      <td>5.2</td>\n",
              "      <td>275.2</td>\n",
              "      <td>190.5</td>\n",
              "      <td>126.5</td>\n",
              "      <td>112.1</td>\n",
              "      <td>12.2</td>\n",
              "      <td>22.6</td>\n",
              "    </tr>\n",
              "  </tbody>\n",
              "</table>\n",
              "<p>175 rows × 12 columns</p>\n",
              "</div>"
            ],
            "text/plain": [
              "            Washington Total Government Provided Value  ...  Washington Total Truck Transportation Provided Value\n",
              "Date                                                    ...                                                      \n",
              "2006-01-31                                       529.6  ...                                               23.9   \n",
              "2006-02-28                                       536.5  ...                                               24.0   \n",
              "2006-03-31                                       538.2  ...                                               24.3   \n",
              "2006-04-30                                       536.8  ...                                               24.6   \n",
              "2006-05-31                                       539.1  ...                                               24.9   \n",
              "...                                                ...  ...                                                ...   \n",
              "2020-03-31                                       598.4  ...                                               25.0   \n",
              "2020-04-30                                       572.4  ...                                               21.5   \n",
              "2020-05-31                                       555.1  ...                                               21.8   \n",
              "2020-06-30                                       549.1  ...                                               21.8   \n",
              "2020-07-31                                       541.6  ...                                               22.6   \n",
              "\n",
              "[175 rows x 12 columns]"
            ]
          },
          "metadata": {
            "tags": []
          },
          "execution_count": 252
        }
      ]
    },
    {
      "cell_type": "markdown",
      "metadata": {
        "id": "gJCsA_cNST-0",
        "colab_type": "text"
      },
      "source": [
        "# Virginia"
      ]
    },
    {
      "cell_type": "code",
      "metadata": {
        "id": "fxHN7fJzipu8",
        "colab_type": "code",
        "colab": {}
      },
      "source": [
        "#All Employees, In Thousands; Total Government Providing -Virginia\n",
        "virginia_gov = quandl.get(\"BLSE/SMU51000009000000001\", start_date=\"2000-01-01\", end_date=\"2020-08-01\")\n",
        "virginia_gov.columns= ['Virginia Total Government Provided Value']"
      ],
      "execution_count": null,
      "outputs": []
    },
    {
      "cell_type": "code",
      "metadata": {
        "id": "r537mPNOSzes",
        "colab_type": "code",
        "colab": {}
      },
      "source": [
        "#All Employees, In Thousands; Total Nonfarm Providing -Virginia\n",
        "virginia_nonfarm = quandl.get(\"BLSE/SMU51000000000000001\", start_date=\"2000-01-01\", end_date=\"2020-08-01\")\n",
        "virginia_nonfarm.columns= ['Virginia Total Nonfarm Provided Value']"
      ],
      "execution_count": null,
      "outputs": []
    },
    {
      "cell_type": "code",
      "metadata": {
        "id": "PsEf0rwrTHdQ",
        "colab_type": "code",
        "colab": {}
      },
      "source": [
        "#All Employees, In Thousands; Total Private Providing -Virginia\n",
        "virginia_priv = quandl.get(\"BLSE/SMU51000000500000001\", start_date=\"2000-01-01\", end_date=\"2020-08-01\")\n",
        "virginia_priv.columns= ['Virginia Total Private Provided Value']"
      ],
      "execution_count": null,
      "outputs": []
    },
    {
      "cell_type": "code",
      "metadata": {
        "id": "r_02Y80PTYpO",
        "colab_type": "code",
        "colab": {}
      },
      "source": [
        "#All Employees, In Thousands; Total Goods Produced Providing -Virginia\n",
        "virginia_goods = quandl.get(\"BLSE/SMU51000000600000001\", start_date=\"2000-01-01\", end_date=\"2020-08-01\")\n",
        "virginia_goods.columns= ['Virginia Total Goods Produced Provided Value']"
      ],
      "execution_count": null,
      "outputs": []
    },
    {
      "cell_type": "code",
      "metadata": {
        "id": "4NhUh9WMTx3i",
        "colab_type": "code",
        "colab": {}
      },
      "source": [
        "#All Employees, In Thousands; Total Service Provided Providing -Virginia\n",
        "virginia_serv = quandl.get(\"BLSE/SMU51000000700000001\", start_date=\"2000-01-01\", end_date=\"2020-08-01\")\n",
        "virginia_serv.columns= ['Virginia Total Service Provided Value']"
      ],
      "execution_count": null,
      "outputs": []
    },
    {
      "cell_type": "code",
      "metadata": {
        "id": "8Wpc1EYTT-_z",
        "colab_type": "code",
        "colab": {}
      },
      "source": [
        "#All Employees, In Thousands; Total Mining & Logging Providing -Virginia\n",
        "virginia_mine = quandl.get(\"BLSE/SMU51000001000000001\", start_date=\"2000-01-01\", end_date=\"2020-08-01\")\n",
        "virginia_mine.columns= ['Virginia Total Mining & Logging Provided Value']"
      ],
      "execution_count": null,
      "outputs": []
    },
    {
      "cell_type": "code",
      "metadata": {
        "id": "_fPzUe3WTlRg",
        "colab_type": "code",
        "colab": {}
      },
      "source": [
        "#All Employees, In Thousands; Total Manufacture Providing -Virginia\n",
        "virginia_manu = quandl.get(\"BLSE/SMU51000003000000001\", start_date=\"2000-01-01\", end_date=\"2020-08-01\")\n",
        "virginia_manu.columns= ['Virginia Total Manufacture Provided Value']"
      ],
      "execution_count": null,
      "outputs": []
    },
    {
      "cell_type": "code",
      "metadata": {
        "id": "xxVwavomUxeN",
        "colab_type": "code",
        "colab": {}
      },
      "source": [
        "#All Employees, In Thousands; Total Durable Goods Providing -Virginia\n",
        "virginia_durable = quandl.get(\"BLSE/SMU51000003100000001\", start_date=\"2000-01-01\", end_date=\"2020-08-01\")\n",
        "virginia_durable.columns= ['Virginia Total Durable Goods Provided Value']"
      ],
      "execution_count": null,
      "outputs": []
    },
    {
      "cell_type": "code",
      "metadata": {
        "id": "RefzMkoVVnX8",
        "colab_type": "code",
        "colab": {}
      },
      "source": [
        "#All Employees, In Thousands; Total Wholesale Trade Providing -Virginia\n",
        "virginia_wholesale = quandl.get(\"BLSE/SMU51000004100000001\", start_date=\"2000-01-01\", end_date=\"2020-08-01\")\n",
        "virginia_wholesale.columns= ['Virginia Total Wholesale Trade Provided Value']"
      ],
      "execution_count": null,
      "outputs": []
    },
    {
      "cell_type": "code",
      "metadata": {
        "id": "pjSdstytV49F",
        "colab_type": "code",
        "colab": {}
      },
      "source": [
        "#All Employees, In Thousands; Total Transportation & Utilities Goods Providing -Virginia\n",
        "virginia_transutil = quandl.get(\"BLSE/SMU51000004300000001\", start_date=\"2000-01-01\", end_date=\"2020-08-01\")\n",
        "virginia_transutil.columns= ['Virginia Total Transportation & Utilities Provided Value']"
      ],
      "execution_count": null,
      "outputs": []
    },
    {
      "cell_type": "code",
      "metadata": {
        "id": "OG_ipDWaS_6z",
        "colab_type": "code",
        "colab": {}
      },
      "source": [
        ""
      ],
      "execution_count": null,
      "outputs": []
    },
    {
      "cell_type": "code",
      "metadata": {
        "id": "KNuZWr9sTAKg",
        "colab_type": "code",
        "colab": {}
      },
      "source": [
        ""
      ],
      "execution_count": null,
      "outputs": []
    },
    {
      "cell_type": "code",
      "metadata": {
        "id": "R4nlBvWPWKRt",
        "colab_type": "code",
        "colab": {}
      },
      "source": [
        "va4 = pd.merge(virginia_wholesale, virginia_transutil, on='Date')"
      ],
      "execution_count": null,
      "outputs": []
    },
    {
      "cell_type": "code",
      "metadata": {
        "id": "uzD0H--6VTso",
        "colab_type": "code",
        "colab": {}
      },
      "source": [
        "va3 = pd.merge( virginia_manu, virginia_durable, on='Date')"
      ],
      "execution_count": null,
      "outputs": []
    },
    {
      "cell_type": "code",
      "metadata": {
        "id": "chnSwELzULZd",
        "colab_type": "code",
        "colab": {}
      },
      "source": [
        "va2 = pd.merge(virginia_serv, virginia_mine, on='Date')"
      ],
      "execution_count": null,
      "outputs": []
    },
    {
      "cell_type": "code",
      "metadata": {
        "id": "yJF6HMmhTAYS",
        "colab_type": "code",
        "colab": {}
      },
      "source": [
        "va1 = pd.merge(virginia_priv, virginia_goods, on='Date')"
      ],
      "execution_count": null,
      "outputs": []
    },
    {
      "cell_type": "code",
      "metadata": {
        "id": "rl4jFfsjTAnK",
        "colab_type": "code",
        "colab": {}
      },
      "source": [
        "virginia = pd.merge(virginia_gov, virginia_nonfarm, on='Date')"
      ],
      "execution_count": null,
      "outputs": []
    },
    {
      "cell_type": "code",
      "metadata": {
        "id": "pxFhoqa5TsSg",
        "colab_type": "code",
        "colab": {}
      },
      "source": [
        "virginia1 = pd.merge(virginia, va1, on='Date')"
      ],
      "execution_count": null,
      "outputs": []
    },
    {
      "cell_type": "code",
      "metadata": {
        "id": "r5rCjR8dURpK",
        "colab_type": "code",
        "colab": {}
      },
      "source": [
        "virginia2 = pd.merge(virginia1, va2, on='Date')"
      ],
      "execution_count": null,
      "outputs": []
    },
    {
      "cell_type": "code",
      "metadata": {
        "id": "QI6vjRo7VbGi",
        "colab_type": "code",
        "colab": {}
      },
      "source": [
        "virginia3 = pd.merge(virginia2, va3, on='Date')"
      ],
      "execution_count": null,
      "outputs": []
    },
    {
      "cell_type": "code",
      "metadata": {
        "id": "S86UshU6WVP4",
        "colab_type": "code",
        "colab": {
          "base_uri": "https://localhost:8080/",
          "height": 671
        },
        "outputId": "c059beec-de4c-4979-85dd-6c0de8dbd676"
      },
      "source": [
        "virginia4 = pd.merge(virginia3, va4, on='Date')\n",
        "virginia4"
      ],
      "execution_count": null,
      "outputs": [
        {
          "output_type": "execute_result",
          "data": {
            "text/html": [
              "<div>\n",
              "<style scoped>\n",
              "    .dataframe tbody tr th:only-of-type {\n",
              "        vertical-align: middle;\n",
              "    }\n",
              "\n",
              "    .dataframe tbody tr th {\n",
              "        vertical-align: top;\n",
              "    }\n",
              "\n",
              "    .dataframe thead th {\n",
              "        text-align: right;\n",
              "    }\n",
              "</style>\n",
              "<table border=\"1\" class=\"dataframe\">\n",
              "  <thead>\n",
              "    <tr style=\"text-align: right;\">\n",
              "      <th></th>\n",
              "      <th>Virginia Total Government Provided Value</th>\n",
              "      <th>Virginia Total Nonfarm Provided Value</th>\n",
              "      <th>Virginia Total Private Provided Value</th>\n",
              "      <th>Virginia Total Goods Produced Provided Value</th>\n",
              "      <th>Virginia Total Service Provided Value</th>\n",
              "      <th>Virginia Total Mining &amp; Logging Provided Value</th>\n",
              "      <th>Virginia Total Manufacture Provided Value</th>\n",
              "      <th>Virginia Total Durable Goods Provided Value</th>\n",
              "      <th>Virginia Total Wholesale Trade Provided Value</th>\n",
              "      <th>Virginia Total Transportation &amp; Utilities Provided Value</th>\n",
              "    </tr>\n",
              "    <tr>\n",
              "      <th>Date</th>\n",
              "      <th></th>\n",
              "      <th></th>\n",
              "      <th></th>\n",
              "      <th></th>\n",
              "      <th></th>\n",
              "      <th></th>\n",
              "      <th></th>\n",
              "      <th></th>\n",
              "      <th></th>\n",
              "      <th></th>\n",
              "    </tr>\n",
              "  </thead>\n",
              "  <tbody>\n",
              "    <tr>\n",
              "      <th>2006-01-31</th>\n",
              "      <td>662.2</td>\n",
              "      <td>3652.1</td>\n",
              "      <td>2989.9</td>\n",
              "      <td>543.3</td>\n",
              "      <td>3108.8</td>\n",
              "      <td>11.0</td>\n",
              "      <td>291.5</td>\n",
              "      <td>170.3</td>\n",
              "      <td>116.9</td>\n",
              "      <td>119.6</td>\n",
              "    </tr>\n",
              "    <tr>\n",
              "      <th>2006-02-28</th>\n",
              "      <td>673.3</td>\n",
              "      <td>3665.0</td>\n",
              "      <td>2991.7</td>\n",
              "      <td>543.2</td>\n",
              "      <td>3121.8</td>\n",
              "      <td>11.0</td>\n",
              "      <td>290.5</td>\n",
              "      <td>170.5</td>\n",
              "      <td>117.3</td>\n",
              "      <td>117.4</td>\n",
              "    </tr>\n",
              "    <tr>\n",
              "      <th>2006-03-31</th>\n",
              "      <td>676.8</td>\n",
              "      <td>3699.0</td>\n",
              "      <td>3022.2</td>\n",
              "      <td>547.6</td>\n",
              "      <td>3151.4</td>\n",
              "      <td>11.2</td>\n",
              "      <td>289.6</td>\n",
              "      <td>169.9</td>\n",
              "      <td>118.0</td>\n",
              "      <td>118.3</td>\n",
              "    </tr>\n",
              "    <tr>\n",
              "      <th>2006-04-30</th>\n",
              "      <td>679.7</td>\n",
              "      <td>3713.4</td>\n",
              "      <td>3033.7</td>\n",
              "      <td>550.1</td>\n",
              "      <td>3163.3</td>\n",
              "      <td>11.0</td>\n",
              "      <td>290.6</td>\n",
              "      <td>171.5</td>\n",
              "      <td>118.6</td>\n",
              "      <td>118.0</td>\n",
              "    </tr>\n",
              "    <tr>\n",
              "      <th>2006-05-31</th>\n",
              "      <td>677.7</td>\n",
              "      <td>3741.1</td>\n",
              "      <td>3063.4</td>\n",
              "      <td>553.9</td>\n",
              "      <td>3187.2</td>\n",
              "      <td>11.2</td>\n",
              "      <td>290.6</td>\n",
              "      <td>171.7</td>\n",
              "      <td>119.2</td>\n",
              "      <td>118.7</td>\n",
              "    </tr>\n",
              "    <tr>\n",
              "      <th>...</th>\n",
              "      <td>...</td>\n",
              "      <td>...</td>\n",
              "      <td>...</td>\n",
              "      <td>...</td>\n",
              "      <td>...</td>\n",
              "      <td>...</td>\n",
              "      <td>...</td>\n",
              "      <td>...</td>\n",
              "      <td>...</td>\n",
              "      <td>...</td>\n",
              "    </tr>\n",
              "    <tr>\n",
              "      <th>2020-03-31</th>\n",
              "      <td>743.8</td>\n",
              "      <td>4045.2</td>\n",
              "      <td>3301.4</td>\n",
              "      <td>447.0</td>\n",
              "      <td>3598.2</td>\n",
              "      <td>7.7</td>\n",
              "      <td>239.9</td>\n",
              "      <td>142.4</td>\n",
              "      <td>111.1</td>\n",
              "      <td>142.0</td>\n",
              "    </tr>\n",
              "    <tr>\n",
              "      <th>2020-04-30</th>\n",
              "      <td>718.3</td>\n",
              "      <td>3669.9</td>\n",
              "      <td>2951.6</td>\n",
              "      <td>433.6</td>\n",
              "      <td>3236.3</td>\n",
              "      <td>7.4</td>\n",
              "      <td>229.4</td>\n",
              "      <td>137.0</td>\n",
              "      <td>108.2</td>\n",
              "      <td>135.4</td>\n",
              "    </tr>\n",
              "    <tr>\n",
              "      <th>2020-05-31</th>\n",
              "      <td>693.4</td>\n",
              "      <td>3701.2</td>\n",
              "      <td>3007.8</td>\n",
              "      <td>439.2</td>\n",
              "      <td>3262.0</td>\n",
              "      <td>7.5</td>\n",
              "      <td>228.4</td>\n",
              "      <td>137.1</td>\n",
              "      <td>107.7</td>\n",
              "      <td>136.0</td>\n",
              "    </tr>\n",
              "    <tr>\n",
              "      <th>2020-06-30</th>\n",
              "      <td>683.3</td>\n",
              "      <td>3792.7</td>\n",
              "      <td>3109.4</td>\n",
              "      <td>452.2</td>\n",
              "      <td>3340.5</td>\n",
              "      <td>7.2</td>\n",
              "      <td>234.8</td>\n",
              "      <td>143.1</td>\n",
              "      <td>109.6</td>\n",
              "      <td>139.9</td>\n",
              "    </tr>\n",
              "    <tr>\n",
              "      <th>2020-07-31</th>\n",
              "      <td>646.9</td>\n",
              "      <td>3782.9</td>\n",
              "      <td>3136.0</td>\n",
              "      <td>450.3</td>\n",
              "      <td>3332.6</td>\n",
              "      <td>7.1</td>\n",
              "      <td>229.4</td>\n",
              "      <td>137.6</td>\n",
              "      <td>107.4</td>\n",
              "      <td>140.3</td>\n",
              "    </tr>\n",
              "  </tbody>\n",
              "</table>\n",
              "<p>175 rows × 10 columns</p>\n",
              "</div>"
            ],
            "text/plain": [
              "            Virginia Total Government Provided Value  ...  Virginia Total Transportation & Utilities Provided Value\n",
              "Date                                                  ...                                                          \n",
              "2006-01-31                                     662.2  ...                                              119.6       \n",
              "2006-02-28                                     673.3  ...                                              117.4       \n",
              "2006-03-31                                     676.8  ...                                              118.3       \n",
              "2006-04-30                                     679.7  ...                                              118.0       \n",
              "2006-05-31                                     677.7  ...                                              118.7       \n",
              "...                                              ...  ...                                                ...       \n",
              "2020-03-31                                     743.8  ...                                              142.0       \n",
              "2020-04-30                                     718.3  ...                                              135.4       \n",
              "2020-05-31                                     693.4  ...                                              136.0       \n",
              "2020-06-30                                     683.3  ...                                              139.9       \n",
              "2020-07-31                                     646.9  ...                                              140.3       \n",
              "\n",
              "[175 rows x 10 columns]"
            ]
          },
          "metadata": {
            "tags": []
          },
          "execution_count": 288
        }
      ]
    },
    {
      "cell_type": "code",
      "metadata": {
        "id": "1A4JHZMYaeJv",
        "colab_type": "code",
        "colab": {}
      },
      "source": [
        ""
      ],
      "execution_count": null,
      "outputs": []
    },
    {
      "cell_type": "code",
      "metadata": {
        "id": "t_p2XkQkXNMT",
        "colab_type": "code",
        "colab": {}
      },
      "source": [
        ""
      ],
      "execution_count": null,
      "outputs": []
    },
    {
      "cell_type": "markdown",
      "metadata": {
        "id": "t7kmGKVJXNdI",
        "colab_type": "text"
      },
      "source": [
        "# Vermont"
      ]
    },
    {
      "cell_type": "code",
      "metadata": {
        "id": "GCY-J_gnXWEM",
        "colab_type": "code",
        "colab": {}
      },
      "source": [
        "#All Employees, In Thousands; Total Government Providing -Vermont\n",
        "vermont_gov = quandl.get(\"BLSE/SMU50000009000000001\", start_date=\"2000-01-01\", end_date=\"2020-08-01\")\n",
        "vermont_gov.columns= ['Vermont Total Government Provided Value']"
      ],
      "execution_count": null,
      "outputs": []
    },
    {
      "cell_type": "code",
      "metadata": {
        "id": "Xguv3KEtXnin",
        "colab_type": "code",
        "colab": {}
      },
      "source": [
        "#All Employees, In Thousands; Total Nonfarm Providing -Vermont\n",
        "vermont_nonfarm = quandl.get(\"BLSE/SMU50000000000000001\", start_date=\"2000-01-01\", end_date=\"2020-08-01\")\n",
        "vermont_nonfarm.columns= ['Vermont Total Nonfarm Provided Value']"
      ],
      "execution_count": null,
      "outputs": []
    },
    {
      "cell_type": "code",
      "metadata": {
        "id": "LOt0VZNgX7HN",
        "colab_type": "code",
        "colab": {}
      },
      "source": [
        "#All Employees, In Thousands; Total Private Providing -Vermont\n",
        "vermont_priv = quandl.get(\"BLSE/SMU50000000500000001\", start_date=\"2000-01-01\", end_date=\"2020-08-01\")\n",
        "vermont_priv.columns= ['Vermont Total Private Provided Value']"
      ],
      "execution_count": null,
      "outputs": []
    },
    {
      "cell_type": "code",
      "metadata": {
        "id": "0B5N3bQOYIA9",
        "colab_type": "code",
        "colab": {}
      },
      "source": [
        "#All Employees, In Thousands; Total Goods Producing Providing -Vermont\n",
        "vermont_goods = quandl.get(\"BLSE/SMU50000000600000001\", start_date=\"2000-01-01\", end_date=\"2020-08-01\")\n",
        "vermont_goods.columns= ['Vermont Total Goods Produced Provided Value']"
      ],
      "execution_count": null,
      "outputs": []
    },
    {
      "cell_type": "code",
      "metadata": {
        "id": "18teOAy4YhRg",
        "colab_type": "code",
        "colab": {}
      },
      "source": [
        "#All Employees, In Thousands; Total Service Providing -Vermont\n",
        "vermont_serv = quandl.get(\"BLSE/SMU50000000700000001\", start_date=\"2000-01-01\", end_date=\"2020-08-01\")\n",
        "vermont_serv.columns= ['Vermont Total Service Provided Value']"
      ],
      "execution_count": null,
      "outputs": []
    },
    {
      "cell_type": "code",
      "metadata": {
        "id": "wzILmibAZ3so",
        "colab_type": "code",
        "colab": {}
      },
      "source": [
        "#All Employees, In Thousands; Total Mining & Logging Providing -Vermont\n",
        "vermont_mine = quandl.get(\"BLSE/SMU50000001000000001\", start_date=\"2000-01-01\", end_date=\"2020-08-01\")\n",
        "vermont_mine.columns= ['Vermont Total Mining & Logging Provided Value']"
      ],
      "execution_count": null,
      "outputs": []
    },
    {
      "cell_type": "code",
      "metadata": {
        "id": "SMs0hhyoaoe2",
        "colab_type": "code",
        "colab": {}
      },
      "source": [
        "#All Employees, In Thousands; Total Manufacture Providing -Vermont\n",
        "vermont_manu = quandl.get(\"BLSE/SMU50000003000000001\", start_date=\"2000-01-01\", end_date=\"2020-08-01\")\n",
        "vermont_manu.columns= ['Vermont Total Manufacture Provided Value']"
      ],
      "execution_count": null,
      "outputs": []
    },
    {
      "cell_type": "code",
      "metadata": {
        "id": "Mo0t4ZV4a1Ou",
        "colab_type": "code",
        "colab": {}
      },
      "source": [
        "#All Employees, In Thousands; Total Durable Goods Providing -Vermont\n",
        "vermont_durable = quandl.get(\"BLSE/SMU50000003100000001\", start_date=\"2000-01-01\", end_date=\"2020-08-01\")\n",
        "vermont_durable.columns= ['Vermont TotalDurable Goods Provided Value']"
      ],
      "execution_count": null,
      "outputs": []
    },
    {
      "cell_type": "code",
      "metadata": {
        "id": "82bpdBO7bS56",
        "colab_type": "code",
        "colab": {}
      },
      "source": [
        "#All Employees, In Thousands; Total Wholesale Trade Providing -Vermont\n",
        "vermont_wholesale = quandl.get(\"BLSE/SMU50000004100000001\", start_date=\"2000-01-01\", end_date=\"2020-08-01\")\n",
        "vermont_wholesale.columns= ['Vermont Wholesale Trade Provided Value']"
      ],
      "execution_count": null,
      "outputs": []
    },
    {
      "cell_type": "code",
      "metadata": {
        "id": "fD4J5MkubgYR",
        "colab_type": "code",
        "colab": {}
      },
      "source": [
        "#All Employees, In Thousands; Total Transportation & Utilities Providing -Vermont\n",
        "vermont_transutil = quandl.get(\"BLSE/SMU50000004300000001\", start_date=\"2000-01-01\", end_date=\"2020-08-01\")\n",
        "vermont_transutil.columns= ['Vermont Total Transportation & Utilities Provided Value']"
      ],
      "execution_count": null,
      "outputs": []
    },
    {
      "cell_type": "code",
      "metadata": {
        "id": "jGx2aEt8b1zj",
        "colab_type": "code",
        "colab": {}
      },
      "source": [
        ""
      ],
      "execution_count": null,
      "outputs": []
    },
    {
      "cell_type": "code",
      "metadata": {
        "id": "LY7PFxlUbAhX",
        "colab_type": "code",
        "colab": {}
      },
      "source": [
        ""
      ],
      "execution_count": null,
      "outputs": []
    },
    {
      "cell_type": "code",
      "metadata": {
        "id": "6_nON3uYaXJB",
        "colab_type": "code",
        "colab": {}
      },
      "source": [
        "ver4 = pd.merge(vermont_wholesale, vermont_transutil, on='Date')"
      ],
      "execution_count": null,
      "outputs": []
    },
    {
      "cell_type": "code",
      "metadata": {
        "id": "wmWxnD9UXwZW",
        "colab_type": "code",
        "colab": {}
      },
      "source": [
        "ver3 = pd.merge(vermont_manu, vermont_durable, on='Date')"
      ],
      "execution_count": null,
      "outputs": []
    },
    {
      "cell_type": "code",
      "metadata": {
        "id": "Y5GKOyMsXxEJ",
        "colab_type": "code",
        "colab": {}
      },
      "source": [
        "ver2 = pd.merge(vermont_serv, vermont_mine, on='Date')"
      ],
      "execution_count": null,
      "outputs": []
    },
    {
      "cell_type": "code",
      "metadata": {
        "id": "90HDe7MQYTl3",
        "colab_type": "code",
        "colab": {}
      },
      "source": [
        "ver1 = pd.merge(vermont_priv, vermont_goods, on='Date')"
      ],
      "execution_count": null,
      "outputs": []
    },
    {
      "cell_type": "code",
      "metadata": {
        "id": "o1odli-wXwu1",
        "colab_type": "code",
        "colab": {}
      },
      "source": [
        "vermont = pd.merge(vermont_gov, vermont_nonfarm, on='Date')"
      ],
      "execution_count": null,
      "outputs": []
    },
    {
      "cell_type": "code",
      "metadata": {
        "id": "ySmrrExWXyGd",
        "colab_type": "code",
        "colab": {}
      },
      "source": [
        "vermont1 = pd.merge(vermont, ver1, on='Date')"
      ],
      "execution_count": null,
      "outputs": []
    },
    {
      "cell_type": "code",
      "metadata": {
        "id": "8TarOjzVaeww",
        "colab_type": "code",
        "colab": {}
      },
      "source": [
        "vermont2 = pd.merge(vermont1, ver2, on='Date')"
      ],
      "execution_count": null,
      "outputs": []
    },
    {
      "cell_type": "code",
      "metadata": {
        "id": "W4VWFWKabJZG",
        "colab_type": "code",
        "colab": {}
      },
      "source": [
        "vermont3 = pd.merge(vermont2, ver3, on='Date')\n"
      ],
      "execution_count": null,
      "outputs": []
    },
    {
      "cell_type": "code",
      "metadata": {
        "id": "KRUEMI8lcHxk",
        "colab_type": "code",
        "colab": {
          "base_uri": "https://localhost:8080/",
          "height": 671
        },
        "outputId": "31d201b0-2076-4b2c-dcc9-03d0cd7afdc7"
      },
      "source": [
        "vermont4 = pd.merge(vermont3, ver4, on='Date')\n",
        "vermont4"
      ],
      "execution_count": null,
      "outputs": [
        {
          "output_type": "execute_result",
          "data": {
            "text/html": [
              "<div>\n",
              "<style scoped>\n",
              "    .dataframe tbody tr th:only-of-type {\n",
              "        vertical-align: middle;\n",
              "    }\n",
              "\n",
              "    .dataframe tbody tr th {\n",
              "        vertical-align: top;\n",
              "    }\n",
              "\n",
              "    .dataframe thead th {\n",
              "        text-align: right;\n",
              "    }\n",
              "</style>\n",
              "<table border=\"1\" class=\"dataframe\">\n",
              "  <thead>\n",
              "    <tr style=\"text-align: right;\">\n",
              "      <th></th>\n",
              "      <th>Vermont Total Government Provided Value</th>\n",
              "      <th>Vermont Total Nonfarm Provided Value</th>\n",
              "      <th>Vermont Total Private Provided Value</th>\n",
              "      <th>Vermont Total Goods Produced Provided Value</th>\n",
              "      <th>Vermont Total Service Provided Value</th>\n",
              "      <th>Vermont Total Mining &amp; Logging Provided Value</th>\n",
              "      <th>Vermont Total Manufacture Provided Value</th>\n",
              "      <th>Vermont TotalDurable Goods Provided Value</th>\n",
              "      <th>Vermont Wholesale Trade Provided Value</th>\n",
              "      <th>Vermont Total Transportation &amp; Utilities Provided Value</th>\n",
              "    </tr>\n",
              "    <tr>\n",
              "      <th>Date</th>\n",
              "      <th></th>\n",
              "      <th></th>\n",
              "      <th></th>\n",
              "      <th></th>\n",
              "      <th></th>\n",
              "      <th></th>\n",
              "      <th></th>\n",
              "      <th></th>\n",
              "      <th></th>\n",
              "      <th></th>\n",
              "    </tr>\n",
              "  </thead>\n",
              "  <tbody>\n",
              "    <tr>\n",
              "      <th>2006-01-31</th>\n",
              "      <td>54.4</td>\n",
              "      <td>305.2</td>\n",
              "      <td>250.8</td>\n",
              "      <td>51.7</td>\n",
              "      <td>253.5</td>\n",
              "      <td>0.8</td>\n",
              "      <td>36.0</td>\n",
              "      <td>25.9</td>\n",
              "      <td>10.2</td>\n",
              "      <td>8.8</td>\n",
              "    </tr>\n",
              "    <tr>\n",
              "      <th>2006-02-28</th>\n",
              "      <td>56.0</td>\n",
              "      <td>306.9</td>\n",
              "      <td>250.9</td>\n",
              "      <td>51.1</td>\n",
              "      <td>255.8</td>\n",
              "      <td>0.7</td>\n",
              "      <td>35.9</td>\n",
              "      <td>25.9</td>\n",
              "      <td>10.1</td>\n",
              "      <td>8.7</td>\n",
              "    </tr>\n",
              "    <tr>\n",
              "      <th>2006-03-31</th>\n",
              "      <td>56.0</td>\n",
              "      <td>307.7</td>\n",
              "      <td>251.7</td>\n",
              "      <td>51.1</td>\n",
              "      <td>256.6</td>\n",
              "      <td>0.8</td>\n",
              "      <td>35.6</td>\n",
              "      <td>25.8</td>\n",
              "      <td>10.2</td>\n",
              "      <td>8.7</td>\n",
              "    </tr>\n",
              "    <tr>\n",
              "      <th>2006-04-30</th>\n",
              "      <td>56.0</td>\n",
              "      <td>304.7</td>\n",
              "      <td>248.7</td>\n",
              "      <td>53.3</td>\n",
              "      <td>251.4</td>\n",
              "      <td>0.9</td>\n",
              "      <td>36.0</td>\n",
              "      <td>26.1</td>\n",
              "      <td>10.2</td>\n",
              "      <td>8.7</td>\n",
              "    </tr>\n",
              "    <tr>\n",
              "      <th>2006-05-31</th>\n",
              "      <td>55.7</td>\n",
              "      <td>307.0</td>\n",
              "      <td>251.3</td>\n",
              "      <td>54.9</td>\n",
              "      <td>252.1</td>\n",
              "      <td>0.9</td>\n",
              "      <td>36.2</td>\n",
              "      <td>26.3</td>\n",
              "      <td>10.3</td>\n",
              "      <td>8.8</td>\n",
              "    </tr>\n",
              "    <tr>\n",
              "      <th>...</th>\n",
              "      <td>...</td>\n",
              "      <td>...</td>\n",
              "      <td>...</td>\n",
              "      <td>...</td>\n",
              "      <td>...</td>\n",
              "      <td>...</td>\n",
              "      <td>...</td>\n",
              "      <td>...</td>\n",
              "      <td>...</td>\n",
              "      <td>...</td>\n",
              "    </tr>\n",
              "    <tr>\n",
              "      <th>2020-03-31</th>\n",
              "      <td>59.2</td>\n",
              "      <td>310.5</td>\n",
              "      <td>251.3</td>\n",
              "      <td>42.2</td>\n",
              "      <td>268.3</td>\n",
              "      <td>0.7</td>\n",
              "      <td>29.0</td>\n",
              "      <td>18.0</td>\n",
              "      <td>9.1</td>\n",
              "      <td>8.1</td>\n",
              "    </tr>\n",
              "    <tr>\n",
              "      <th>2020-04-30</th>\n",
              "      <td>55.0</td>\n",
              "      <td>243.7</td>\n",
              "      <td>188.7</td>\n",
              "      <td>28.6</td>\n",
              "      <td>215.1</td>\n",
              "      <td>0.6</td>\n",
              "      <td>21.8</td>\n",
              "      <td>11.9</td>\n",
              "      <td>8.5</td>\n",
              "      <td>7.5</td>\n",
              "    </tr>\n",
              "    <tr>\n",
              "      <th>2020-05-31</th>\n",
              "      <td>53.4</td>\n",
              "      <td>259.4</td>\n",
              "      <td>206.0</td>\n",
              "      <td>37.9</td>\n",
              "      <td>221.5</td>\n",
              "      <td>0.8</td>\n",
              "      <td>26.8</td>\n",
              "      <td>16.7</td>\n",
              "      <td>8.6</td>\n",
              "      <td>7.9</td>\n",
              "    </tr>\n",
              "    <tr>\n",
              "      <th>2020-06-30</th>\n",
              "      <td>53.0</td>\n",
              "      <td>272.7</td>\n",
              "      <td>219.7</td>\n",
              "      <td>39.3</td>\n",
              "      <td>233.4</td>\n",
              "      <td>0.8</td>\n",
              "      <td>26.6</td>\n",
              "      <td>16.3</td>\n",
              "      <td>8.8</td>\n",
              "      <td>8.3</td>\n",
              "    </tr>\n",
              "    <tr>\n",
              "      <th>2020-07-31</th>\n",
              "      <td>49.7</td>\n",
              "      <td>275.3</td>\n",
              "      <td>225.6</td>\n",
              "      <td>40.0</td>\n",
              "      <td>235.3</td>\n",
              "      <td>0.8</td>\n",
              "      <td>26.9</td>\n",
              "      <td>16.4</td>\n",
              "      <td>8.8</td>\n",
              "      <td>8.2</td>\n",
              "    </tr>\n",
              "  </tbody>\n",
              "</table>\n",
              "<p>175 rows × 10 columns</p>\n",
              "</div>"
            ],
            "text/plain": [
              "            Vermont Total Government Provided Value  ...  Vermont Total Transportation & Utilities Provided Value\n",
              "Date                                                 ...                                                         \n",
              "2006-01-31                                     54.4  ...                                                8.8      \n",
              "2006-02-28                                     56.0  ...                                                8.7      \n",
              "2006-03-31                                     56.0  ...                                                8.7      \n",
              "2006-04-30                                     56.0  ...                                                8.7      \n",
              "2006-05-31                                     55.7  ...                                                8.8      \n",
              "...                                             ...  ...                                                ...      \n",
              "2020-03-31                                     59.2  ...                                                8.1      \n",
              "2020-04-30                                     55.0  ...                                                7.5      \n",
              "2020-05-31                                     53.4  ...                                                7.9      \n",
              "2020-06-30                                     53.0  ...                                                8.3      \n",
              "2020-07-31                                     49.7  ...                                                8.2      \n",
              "\n",
              "[175 rows x 10 columns]"
            ]
          },
          "metadata": {
            "tags": []
          },
          "execution_count": 323
        }
      ]
    },
    {
      "cell_type": "code",
      "metadata": {
        "id": "rVP3faAUd6XU",
        "colab_type": "code",
        "colab": {}
      },
      "source": [
        ""
      ],
      "execution_count": null,
      "outputs": []
    },
    {
      "cell_type": "code",
      "metadata": {
        "id": "92-HmuBiYatA",
        "colab_type": "code",
        "colab": {}
      },
      "source": [
        ""
      ],
      "execution_count": null,
      "outputs": []
    },
    {
      "cell_type": "markdown",
      "metadata": {
        "id": "v0N1mOzsd7xp",
        "colab_type": "text"
      },
      "source": [
        "# Utah"
      ]
    },
    {
      "cell_type": "code",
      "metadata": {
        "id": "IqaqoHD9d_xK",
        "colab_type": "code",
        "colab": {}
      },
      "source": [
        "#All Employees, In Thousands; Total Government Providing -Utah\n",
        "utah_gov = quandl.get(\"BLSE/SMU49000009000000001\", start_date=\"2000-01-01\", end_date=\"2020-08-01\")\n",
        "utah_gov.columns= ['Utah Total Government Provided Value']"
      ],
      "execution_count": null,
      "outputs": []
    },
    {
      "cell_type": "code",
      "metadata": {
        "id": "WraliRMgeRpB",
        "colab_type": "code",
        "colab": {}
      },
      "source": [
        "#All Employees, In Thousands; Total Nonfarm Providing -Utah\n",
        "utah_nonfarm = quandl.get(\"BLSE/SMU49000000000000001\", start_date=\"2000-01-01\", end_date=\"2020-08-01\")\n",
        "utah_nonfarm.columns= ['Utah Total Nonfarm Provided Value']"
      ],
      "execution_count": null,
      "outputs": []
    },
    {
      "cell_type": "code",
      "metadata": {
        "id": "W-IpPkf-eeNW",
        "colab_type": "code",
        "colab": {}
      },
      "source": [
        "#All Employees, In Thousands; Total Private Providing -Utah\n",
        "utah_priv = quandl.get(\"BLSE/SMU49000000500000001\", start_date=\"2000-01-01\", end_date=\"2020-08-01\")\n",
        "utah_priv.columns= ['Utah Total Private Provided Value']"
      ],
      "execution_count": null,
      "outputs": []
    },
    {
      "cell_type": "code",
      "metadata": {
        "id": "1M-RvfPYefKJ",
        "colab_type": "code",
        "colab": {}
      },
      "source": [
        "#All Employees, In Thousands; Total Goods Producing Providing -Utah\n",
        "utah_goods = quandl.get(\"BLSE/SMU49000000600000001\", start_date=\"2000-01-01\", end_date=\"2020-08-01\")\n",
        "utah_goods.columns= ['Utah Total Goods Produced Provided Value']"
      ],
      "execution_count": null,
      "outputs": []
    },
    {
      "cell_type": "code",
      "metadata": {
        "id": "uf_NSwZifMYz",
        "colab_type": "code",
        "colab": {}
      },
      "source": [
        "#All Employees, In Thousands; Total Service Providing -Utah\n",
        "utah_serv = quandl.get(\"BLSE/SMU49000000700000001\", start_date=\"2000-01-01\", end_date=\"2020-08-01\")\n",
        "utah_serv.columns= ['Utah Total Service Provided Value']"
      ],
      "execution_count": null,
      "outputs": []
    },
    {
      "cell_type": "code",
      "metadata": {
        "id": "w-DUNkaTefFm",
        "colab_type": "code",
        "colab": {}
      },
      "source": [
        "#All Employees, In Thousands; Total Mining & Logging Providing -Utah\n",
        "utah_mine = quandl.get(\"BLSE/SMU49000001000000001\", start_date=\"2000-01-01\", end_date=\"2020-08-01\")\n",
        "utah_mine.columns= ['Utah Total Mining & Logging Provided Value']"
      ],
      "execution_count": null,
      "outputs": []
    },
    {
      "cell_type": "code",
      "metadata": {
        "id": "ZcBfGTarfxPb",
        "colab_type": "code",
        "colab": {}
      },
      "source": [
        "#All Employees, In Thousands; Total Manufacture Providing -Utah\n",
        "utah_manu = quandl.get(\"BLSE/SMU49000003000000001\", start_date=\"2000-01-01\", end_date=\"2020-08-01\")\n",
        "utah_manu.columns= ['Utah Total Manufacture Provided Value']"
      ],
      "execution_count": null,
      "outputs": []
    },
    {
      "cell_type": "code",
      "metadata": {
        "id": "W22WshSrefBA",
        "colab_type": "code",
        "colab": {}
      },
      "source": [
        "#All Employees, In Thousands; Total Durable Goods Providing -Utah\n",
        "utah_durable = quandl.get(\"BLSE/SMU49000003100000001\", start_date=\"2000-01-01\", end_date=\"2020-08-01\")\n",
        "utah_durable.columns= ['Utah Total Durable Goods Provided Value']"
      ],
      "execution_count": null,
      "outputs": []
    },
    {
      "cell_type": "code",
      "metadata": {
        "id": "9ZGMrYU8ee76",
        "colab_type": "code",
        "colab": {}
      },
      "source": [
        "#All Employees, In Thousands; Total Wholesale Trade Providing -Utah\n",
        "utah_wholesale = quandl.get(\"BLSE/SMU49000004100000001\", start_date=\"2000-01-01\", end_date=\"2020-08-01\")\n",
        "utah_wholesale.columns= ['Utah Wholesale Trade Provided Value']"
      ],
      "execution_count": null,
      "outputs": []
    },
    {
      "cell_type": "code",
      "metadata": {
        "id": "q2yxwF9ngFTM",
        "colab_type": "code",
        "colab": {}
      },
      "source": [
        "#All Employees, In Thousands; Total Transportation & Utilities Providing -Utah\n",
        "utah_transutil = quandl.get(\"BLSE/SMU49000004300000001\", start_date=\"2000-01-01\", end_date=\"2020-08-01\")\n",
        "utah_transutil.columns= ['Utah Total Transportation & Utilities Provided Value']"
      ],
      "execution_count": null,
      "outputs": []
    },
    {
      "cell_type": "code",
      "metadata": {
        "id": "uJ344UL8hN3M",
        "colab_type": "code",
        "colab": {}
      },
      "source": [
        "#All Employees, In Thousands; Total Air Transportation Providing -Utah\n",
        "utah_air = quandl.get(\"BLSE/SMU49000004348100001\", start_date=\"2000-01-01\", end_date=\"2020-08-01\")\n",
        "utah_air.columns= ['Utah Total Air Transportation Provided Value']"
      ],
      "execution_count": null,
      "outputs": []
    },
    {
      "cell_type": "code",
      "metadata": {
        "id": "Cr688d9shf5c",
        "colab_type": "code",
        "colab": {}
      },
      "source": [
        "#All Employees, In Thousands; Total Truck Transportation Providing -Utah\n",
        "utah_truck = quandl.get(\"BLSE/SMU49000004348400001\", start_date=\"2000-01-01\", end_date=\"2020-08-01\")\n",
        "utah_truck.columns= ['Utah Total Truck Transportation Provided Value']"
      ],
      "execution_count": null,
      "outputs": []
    },
    {
      "cell_type": "code",
      "metadata": {
        "id": "SQSRw9Nohx75",
        "colab_type": "code",
        "colab": {}
      },
      "source": [
        "#All Employees, In Thousands; Total Telecommunication Providing -Utah\n",
        "utah_telecommunication = quandl.get(\"BLSE/SMU49000005051700001\", start_date=\"2000-01-01\", end_date=\"2020-08-01\")\n",
        "utah_telecommunication.columns= ['Utah Total Telecommunication Provided Value']"
      ],
      "execution_count": null,
      "outputs": []
    },
    {
      "cell_type": "code",
      "metadata": {
        "id": "_BhIMycCiIKr",
        "colab_type": "code",
        "colab": {}
      },
      "source": [
        "#All Employees, In Thousands; Total Real Estate Providing -Utah\n",
        "utah_estate = quandl.get(\"BLSE/SMU49000005553100001\", start_date=\"2000-01-01\", end_date=\"2020-08-01\")\n",
        "utah_estate.columns= ['Utah Total Real Estate Provided Value']"
      ],
      "execution_count": null,
      "outputs": []
    },
    {
      "cell_type": "code",
      "metadata": {
        "id": "k53Llhikil1R",
        "colab_type": "code",
        "colab": {}
      },
      "source": [
        ""
      ],
      "execution_count": null,
      "outputs": []
    },
    {
      "cell_type": "code",
      "metadata": {
        "id": "rR4Y3Diogk0l",
        "colab_type": "code",
        "colab": {}
      },
      "source": [
        ""
      ],
      "execution_count": null,
      "outputs": []
    },
    {
      "cell_type": "code",
      "metadata": {
        "id": "1aMXe1bZijxj",
        "colab_type": "code",
        "colab": {}
      },
      "source": [
        "ut6 = pd.merge(utah_telecommunication, utah_estate, on='Date')"
      ],
      "execution_count": null,
      "outputs": []
    },
    {
      "cell_type": "code",
      "metadata": {
        "id": "aFZaub3hee3z",
        "colab_type": "code",
        "colab": {}
      },
      "source": [
        "ut5 = pd.merge(utah_air, utah_truck, on='Date')"
      ],
      "execution_count": null,
      "outputs": []
    },
    {
      "cell_type": "code",
      "metadata": {
        "id": "9CZRJD5mgtvy",
        "colab_type": "code",
        "colab": {}
      },
      "source": [
        "ut4 = pd.merge(utah_wholesale, utah_transutil, on='Date')"
      ],
      "execution_count": null,
      "outputs": []
    },
    {
      "cell_type": "code",
      "metadata": {
        "id": "KxJkTZpxeezt",
        "colab_type": "code",
        "colab": {}
      },
      "source": [
        "ut3 = pd.merge(utah_manu, utah_durable, on='Date')"
      ],
      "execution_count": null,
      "outputs": []
    },
    {
      "cell_type": "code",
      "metadata": {
        "id": "Gh0Xjau4eeu4",
        "colab_type": "code",
        "colab": {}
      },
      "source": [
        "ut2 = pd.merge(utah_serv, utah_mine, on='Date')"
      ],
      "execution_count": null,
      "outputs": []
    },
    {
      "cell_type": "code",
      "metadata": {
        "id": "rY080ZCTeerC",
        "colab_type": "code",
        "colab": {}
      },
      "source": [
        "ut1 = pd.merge(utah_priv, utah_goods, on='Date')"
      ],
      "execution_count": null,
      "outputs": []
    },
    {
      "cell_type": "code",
      "metadata": {
        "id": "mln6Y33ieem-",
        "colab_type": "code",
        "colab": {}
      },
      "source": [
        "utah = pd.merge(utah_gov, utah_nonfarm, on='Date')"
      ],
      "execution_count": null,
      "outputs": []
    },
    {
      "cell_type": "code",
      "metadata": {
        "id": "KamoMywkfGxf",
        "colab_type": "code",
        "colab": {}
      },
      "source": [
        "utah1 = pd.merge(utah, ut1, on='Date')"
      ],
      "execution_count": null,
      "outputs": []
    },
    {
      "cell_type": "code",
      "metadata": {
        "id": "l3ZCA5c8flK8",
        "colab_type": "code",
        "colab": {}
      },
      "source": [
        "utah2 = pd.merge(utah1, ut2, on='Date')"
      ],
      "execution_count": null,
      "outputs": []
    },
    {
      "cell_type": "code",
      "metadata": {
        "id": "WWx536L7eeiR",
        "colab_type": "code",
        "colab": {}
      },
      "source": [
        "utah3 = pd.merge(utah2, ut3, on='Date')"
      ],
      "execution_count": null,
      "outputs": []
    },
    {
      "cell_type": "code",
      "metadata": {
        "id": "EZ0eAvvBeeb2",
        "colab_type": "code",
        "colab": {}
      },
      "source": [
        "utah4 = pd.merge(utah3, ut4, on='Date')\n"
      ],
      "execution_count": null,
      "outputs": []
    },
    {
      "cell_type": "code",
      "metadata": {
        "id": "NNYQDzuri1Xq",
        "colab_type": "code",
        "colab": {}
      },
      "source": [
        "utah5 = pd.merge(utah4, ut5, on='Date')"
      ],
      "execution_count": null,
      "outputs": []
    },
    {
      "cell_type": "code",
      "metadata": {
        "id": "1pQDlDlSjCGs",
        "colab_type": "code",
        "colab": {
          "base_uri": "https://localhost:8080/",
          "height": 705
        },
        "outputId": "b4e95fad-c91a-4827-8ecf-5434d59d8642"
      },
      "source": [
        "utah6 = pd.merge(utah5, ut6, on='Date')\n",
        "utah6"
      ],
      "execution_count": null,
      "outputs": [
        {
          "output_type": "execute_result",
          "data": {
            "text/html": [
              "<div>\n",
              "<style scoped>\n",
              "    .dataframe tbody tr th:only-of-type {\n",
              "        vertical-align: middle;\n",
              "    }\n",
              "\n",
              "    .dataframe tbody tr th {\n",
              "        vertical-align: top;\n",
              "    }\n",
              "\n",
              "    .dataframe thead th {\n",
              "        text-align: right;\n",
              "    }\n",
              "</style>\n",
              "<table border=\"1\" class=\"dataframe\">\n",
              "  <thead>\n",
              "    <tr style=\"text-align: right;\">\n",
              "      <th></th>\n",
              "      <th>Utah Total Government Provided Value</th>\n",
              "      <th>Utah Total Nonfarm Provided Value</th>\n",
              "      <th>Utah Total Private Provided Value</th>\n",
              "      <th>Utah Total Goods Produced Provided Value</th>\n",
              "      <th>Utah Total Service Provided Value</th>\n",
              "      <th>Utah Total Mining &amp; Logging Provided Value</th>\n",
              "      <th>Utah Total Manufacture Provided Value</th>\n",
              "      <th>Utah Total Durable Goods Provided Value</th>\n",
              "      <th>Utah Wholesale Trade Provided Value</th>\n",
              "      <th>Utah Total Transportation &amp; Utilities Provided Value</th>\n",
              "      <th>Utah Total Air Transportation Provided Value</th>\n",
              "      <th>Utah Total Truck Transportation Provided Value</th>\n",
              "      <th>Utah Total Telecommunication Provided Value</th>\n",
              "      <th>Utah Total Real Estate Provided Value</th>\n",
              "    </tr>\n",
              "    <tr>\n",
              "      <th>Date</th>\n",
              "      <th></th>\n",
              "      <th></th>\n",
              "      <th></th>\n",
              "      <th></th>\n",
              "      <th></th>\n",
              "      <th></th>\n",
              "      <th></th>\n",
              "      <th></th>\n",
              "      <th></th>\n",
              "      <th></th>\n",
              "      <th></th>\n",
              "      <th></th>\n",
              "      <th></th>\n",
              "      <th></th>\n",
              "    </tr>\n",
              "  </thead>\n",
              "  <tbody>\n",
              "    <tr>\n",
              "      <th>2006-01-31</th>\n",
              "      <td>204.0</td>\n",
              "      <td>1162.9</td>\n",
              "      <td>958.9</td>\n",
              "      <td>212.3</td>\n",
              "      <td>950.6</td>\n",
              "      <td>9.0</td>\n",
              "      <td>120.3</td>\n",
              "      <td>80.7</td>\n",
              "      <td>42.5</td>\n",
              "      <td>48.3</td>\n",
              "      <td>6.7</td>\n",
              "      <td>17.7</td>\n",
              "      <td>5.5</td>\n",
              "      <td>11.4</td>\n",
              "    </tr>\n",
              "    <tr>\n",
              "      <th>2006-02-28</th>\n",
              "      <td>206.2</td>\n",
              "      <td>1171.5</td>\n",
              "      <td>965.3</td>\n",
              "      <td>214.8</td>\n",
              "      <td>956.7</td>\n",
              "      <td>9.2</td>\n",
              "      <td>121.1</td>\n",
              "      <td>81.2</td>\n",
              "      <td>42.8</td>\n",
              "      <td>48.6</td>\n",
              "      <td>6.6</td>\n",
              "      <td>17.9</td>\n",
              "      <td>5.6</td>\n",
              "      <td>11.5</td>\n",
              "    </tr>\n",
              "    <tr>\n",
              "      <th>2006-03-31</th>\n",
              "      <td>206.9</td>\n",
              "      <td>1182.5</td>\n",
              "      <td>975.6</td>\n",
              "      <td>218.4</td>\n",
              "      <td>964.1</td>\n",
              "      <td>9.4</td>\n",
              "      <td>121.7</td>\n",
              "      <td>81.7</td>\n",
              "      <td>43.0</td>\n",
              "      <td>48.7</td>\n",
              "      <td>6.6</td>\n",
              "      <td>18.1</td>\n",
              "      <td>5.6</td>\n",
              "      <td>11.6</td>\n",
              "    </tr>\n",
              "    <tr>\n",
              "      <th>2006-04-30</th>\n",
              "      <td>207.7</td>\n",
              "      <td>1192.9</td>\n",
              "      <td>985.2</td>\n",
              "      <td>222.3</td>\n",
              "      <td>970.6</td>\n",
              "      <td>9.7</td>\n",
              "      <td>122.2</td>\n",
              "      <td>82.0</td>\n",
              "      <td>43.3</td>\n",
              "      <td>48.8</td>\n",
              "      <td>6.6</td>\n",
              "      <td>18.2</td>\n",
              "      <td>5.7</td>\n",
              "      <td>11.7</td>\n",
              "    </tr>\n",
              "    <tr>\n",
              "      <th>2006-05-31</th>\n",
              "      <td>206.6</td>\n",
              "      <td>1196.1</td>\n",
              "      <td>989.5</td>\n",
              "      <td>227.4</td>\n",
              "      <td>968.7</td>\n",
              "      <td>9.9</td>\n",
              "      <td>122.9</td>\n",
              "      <td>82.5</td>\n",
              "      <td>43.8</td>\n",
              "      <td>48.8</td>\n",
              "      <td>6.6</td>\n",
              "      <td>18.3</td>\n",
              "      <td>5.9</td>\n",
              "      <td>11.7</td>\n",
              "    </tr>\n",
              "    <tr>\n",
              "      <th>...</th>\n",
              "      <td>...</td>\n",
              "      <td>...</td>\n",
              "      <td>...</td>\n",
              "      <td>...</td>\n",
              "      <td>...</td>\n",
              "      <td>...</td>\n",
              "      <td>...</td>\n",
              "      <td>...</td>\n",
              "      <td>...</td>\n",
              "      <td>...</td>\n",
              "      <td>...</td>\n",
              "      <td>...</td>\n",
              "      <td>...</td>\n",
              "      <td>...</td>\n",
              "    </tr>\n",
              "    <tr>\n",
              "      <th>2020-03-31</th>\n",
              "      <td>261.3</td>\n",
              "      <td>1581.0</td>\n",
              "      <td>1319.7</td>\n",
              "      <td>255.0</td>\n",
              "      <td>1326.0</td>\n",
              "      <td>8.9</td>\n",
              "      <td>135.5</td>\n",
              "      <td>88.9</td>\n",
              "      <td>53.1</td>\n",
              "      <td>67.9</td>\n",
              "      <td>8.3</td>\n",
              "      <td>23.0</td>\n",
              "      <td>7.7</td>\n",
              "      <td>16.9</td>\n",
              "    </tr>\n",
              "    <tr>\n",
              "      <th>2020-04-30</th>\n",
              "      <td>253.3</td>\n",
              "      <td>1443.0</td>\n",
              "      <td>1189.7</td>\n",
              "      <td>253.1</td>\n",
              "      <td>1189.9</td>\n",
              "      <td>8.9</td>\n",
              "      <td>133.5</td>\n",
              "      <td>86.5</td>\n",
              "      <td>52.7</td>\n",
              "      <td>60.5</td>\n",
              "      <td>6.2</td>\n",
              "      <td>21.8</td>\n",
              "      <td>7.7</td>\n",
              "      <td>14.7</td>\n",
              "    </tr>\n",
              "    <tr>\n",
              "      <th>2020-05-31</th>\n",
              "      <td>245.8</td>\n",
              "      <td>1482.7</td>\n",
              "      <td>1236.9</td>\n",
              "      <td>259.7</td>\n",
              "      <td>1223.0</td>\n",
              "      <td>8.6</td>\n",
              "      <td>134.2</td>\n",
              "      <td>86.3</td>\n",
              "      <td>53.5</td>\n",
              "      <td>60.2</td>\n",
              "      <td>4.5</td>\n",
              "      <td>22.0</td>\n",
              "      <td>7.7</td>\n",
              "      <td>16.0</td>\n",
              "    </tr>\n",
              "    <tr>\n",
              "      <th>2020-06-30</th>\n",
              "      <td>243.3</td>\n",
              "      <td>1517.7</td>\n",
              "      <td>1274.4</td>\n",
              "      <td>265.4</td>\n",
              "      <td>1252.3</td>\n",
              "      <td>8.6</td>\n",
              "      <td>135.2</td>\n",
              "      <td>86.4</td>\n",
              "      <td>53.3</td>\n",
              "      <td>61.5</td>\n",
              "      <td>4.8</td>\n",
              "      <td>22.0</td>\n",
              "      <td>7.7</td>\n",
              "      <td>17.1</td>\n",
              "    </tr>\n",
              "    <tr>\n",
              "      <th>2020-07-31</th>\n",
              "      <td>237.3</td>\n",
              "      <td>1516.8</td>\n",
              "      <td>1279.5</td>\n",
              "      <td>264.8</td>\n",
              "      <td>1252.0</td>\n",
              "      <td>8.5</td>\n",
              "      <td>135.5</td>\n",
              "      <td>86.6</td>\n",
              "      <td>54.2</td>\n",
              "      <td>62.0</td>\n",
              "      <td>5.1</td>\n",
              "      <td>22.1</td>\n",
              "      <td>7.6</td>\n",
              "      <td>16.8</td>\n",
              "    </tr>\n",
              "  </tbody>\n",
              "</table>\n",
              "<p>175 rows × 14 columns</p>\n",
              "</div>"
            ],
            "text/plain": [
              "            Utah Total Government Provided Value  ...  Utah Total Real Estate Provided Value\n",
              "Date                                              ...                                       \n",
              "2006-01-31                                 204.0  ...                                   11.4\n",
              "2006-02-28                                 206.2  ...                                   11.5\n",
              "2006-03-31                                 206.9  ...                                   11.6\n",
              "2006-04-30                                 207.7  ...                                   11.7\n",
              "2006-05-31                                 206.6  ...                                   11.7\n",
              "...                                          ...  ...                                    ...\n",
              "2020-03-31                                 261.3  ...                                   16.9\n",
              "2020-04-30                                 253.3  ...                                   14.7\n",
              "2020-05-31                                 245.8  ...                                   16.0\n",
              "2020-06-30                                 243.3  ...                                   17.1\n",
              "2020-07-31                                 237.3  ...                                   16.8\n",
              "\n",
              "[175 rows x 14 columns]"
            ]
          },
          "metadata": {
            "tags": []
          },
          "execution_count": 639
        }
      ]
    },
    {
      "cell_type": "code",
      "metadata": {
        "id": "aWz9TRsejozu",
        "colab_type": "code",
        "colab": {}
      },
      "source": [
        ""
      ],
      "execution_count": null,
      "outputs": []
    },
    {
      "cell_type": "code",
      "metadata": {
        "id": "XhYy_2YSjpDr",
        "colab_type": "code",
        "colab": {}
      },
      "source": [
        ""
      ],
      "execution_count": null,
      "outputs": []
    },
    {
      "cell_type": "markdown",
      "metadata": {
        "id": "nL7fkNfIjqMt",
        "colab_type": "text"
      },
      "source": [
        "# Texas"
      ]
    },
    {
      "cell_type": "code",
      "metadata": {
        "id": "6IJ99YSSjvK3",
        "colab_type": "code",
        "colab": {}
      },
      "source": [
        "#All Employees, In Thousands; Total Government Providing -Texas\n",
        "texas_gov = quandl.get(\"BLSE/SMU48000009000000001\", start_date=\"2000-01-01\", end_date=\"2020-08-01\")\n",
        "texas_gov.columns= ['Texas Total Government Provided Value']"
      ],
      "execution_count": null,
      "outputs": []
    },
    {
      "cell_type": "code",
      "metadata": {
        "id": "IeidmP6ZkGzb",
        "colab_type": "code",
        "colab": {}
      },
      "source": [
        "#All Employees, In Thousands; Total Nonfarm Providing -Texas\n",
        "texas_nonfarm = quandl.get(\"BLSE/SMU48000000000000001\", start_date=\"2000-01-01\", end_date=\"2020-08-01\")\n",
        "texas_nonfarm.columns= ['Texas Total Nonfarm Provided Value']"
      ],
      "execution_count": null,
      "outputs": []
    },
    {
      "cell_type": "code",
      "metadata": {
        "id": "vGrtXKmVkJWW",
        "colab_type": "code",
        "colab": {}
      },
      "source": [
        "#All Employees, In Thousands; Total Private Providing -Texas\n",
        "texas_priv = quandl.get(\"BLSE/SMU48000000500000001\", start_date=\"2000-01-01\", end_date=\"2020-08-01\")\n",
        "texas_priv.columns= ['Texas Total Private Provided Value']"
      ],
      "execution_count": null,
      "outputs": []
    },
    {
      "cell_type": "code",
      "metadata": {
        "id": "EJ3EhruvkaP4",
        "colab_type": "code",
        "colab": {}
      },
      "source": [
        "#All Employees, In Thousands; Total Goods Producing Providing -Texas\n",
        "texas_goods = quandl.get(\"BLSE/SMU48000000600000001\", start_date=\"2000-01-01\", end_date=\"2020-08-01\")\n",
        "texas_goods.columns= ['Texas Total Goods Produced Provided Value']"
      ],
      "execution_count": null,
      "outputs": []
    },
    {
      "cell_type": "code",
      "metadata": {
        "id": "F1SJDUYZkJQO",
        "colab_type": "code",
        "colab": {}
      },
      "source": [
        "#All Employees, In Thousands; Total Service Providing -Texas\n",
        "texas_serv = quandl.get(\"BLSE/SMU48000000700000001\", start_date=\"2000-01-01\", end_date=\"2020-08-01\")\n",
        "texas_serv.columns= ['Texas Total Service Provided Value']"
      ],
      "execution_count": null,
      "outputs": []
    },
    {
      "cell_type": "code",
      "metadata": {
        "id": "Zj3r1TEllJCT",
        "colab_type": "code",
        "colab": {}
      },
      "source": [
        "#All Employees, In Thousands; Total Mining & Logging Providing -Texas\n",
        "texas_mine = quandl.get(\"BLSE/SMU48000001000000001\", start_date=\"2000-01-01\", end_date=\"2020-08-01\")\n",
        "texas_mine.columns= ['Texas Total Mining & Logging Provided Value']"
      ],
      "execution_count": null,
      "outputs": []
    },
    {
      "cell_type": "code",
      "metadata": {
        "id": "LfAgoh86kJJ9",
        "colab_type": "code",
        "colab": {}
      },
      "source": [
        "#All Employees, In Thousands; Total Manufacture Providing -Texas\n",
        "texas_manu = quandl.get(\"BLSE/SMU48000003000000001\", start_date=\"2000-01-01\", end_date=\"2020-08-01\")\n",
        "texas_manu.columns= ['Texas Total Manufacture Provided Value']"
      ],
      "execution_count": null,
      "outputs": []
    },
    {
      "cell_type": "code",
      "metadata": {
        "id": "vEEZYP3-mBkJ",
        "colab_type": "code",
        "colab": {}
      },
      "source": [
        "#All Employees, In Thousands; Total Durable Goods Providing -Texas\n",
        "texas_durable = quandl.get(\"BLSE/SMU48000003100000001\", start_date=\"2000-01-01\", end_date=\"2020-08-01\")\n",
        "texas_durable.columns= ['Texas Total Durable Goods Provided Value']"
      ],
      "execution_count": null,
      "outputs": []
    },
    {
      "cell_type": "code",
      "metadata": {
        "id": "6CGrrO6dmM6A",
        "colab_type": "code",
        "colab": {}
      },
      "source": [
        "#All Employees, In Thousands; Total Wholesale Trade Providing -Texas\n",
        "texas_wholesale = quandl.get(\"BLSE/SMU48000004100000001\", start_date=\"2000-01-01\", end_date=\"2020-08-01\")\n",
        "texas_wholesale.columns= ['Texas Wholesale Trade Provided Value']"
      ],
      "execution_count": null,
      "outputs": []
    },
    {
      "cell_type": "code",
      "metadata": {
        "id": "0y3LHe0ymDCq",
        "colab_type": "code",
        "colab": {}
      },
      "source": [
        "#All Employees, In Thousands; Total Transportation & Utilities Providing -Texas\n",
        "texas_transutil = quandl.get(\"BLSE/SMU48000004300000001\", start_date=\"2000-01-01\", end_date=\"2020-08-01\")\n",
        "texas_transutil.columns= ['Texas Total Transportation & Utilities Provided Value']"
      ],
      "execution_count": null,
      "outputs": []
    },
    {
      "cell_type": "code",
      "metadata": {
        "id": "pVdcVudRnQlM",
        "colab_type": "code",
        "colab": {}
      },
      "source": [
        "#All Employees, In Thousands; Total Air Transportation Providing -Texas\n",
        "texas_air = quandl.get(\"BLSE/SMU48000004348100001\", start_date=\"2000-01-01\", end_date=\"2020-08-01\")\n",
        "texas_air.columns= ['Texas Total Air Transportation Provided Value']"
      ],
      "execution_count": null,
      "outputs": []
    },
    {
      "cell_type": "code",
      "metadata": {
        "id": "Co5oMJsanVqF",
        "colab_type": "code",
        "colab": {}
      },
      "source": [
        "#All Employees, In Thousands; Total Truck Transportation Providing -Texas\n",
        "texas_truck = quandl.get(\"BLSE/SMU48000004348400001\", start_date=\"2000-01-01\", end_date=\"2020-08-01\")\n",
        "texas_truck.columns= ['Texas Total Truck Transportation Provided Value']"
      ],
      "execution_count": null,
      "outputs": []
    },
    {
      "cell_type": "code",
      "metadata": {
        "id": "3XdQaV-6ngca",
        "colab_type": "code",
        "colab": {}
      },
      "source": [
        "#All Employees, In Thousands; Total Telecommunication Providing -Texas\n",
        "texas_telecommunication = quandl.get(\"BLSE/SMU48000005051700001\", start_date=\"2000-01-01\", end_date=\"2020-08-01\")\n",
        "texas_telecommunication.columns= ['Texas Total Telecommunication Provided Value']"
      ],
      "execution_count": null,
      "outputs": []
    },
    {
      "cell_type": "code",
      "metadata": {
        "id": "md2FjMYYn0c0",
        "colab_type": "code",
        "colab": {}
      },
      "source": [
        "#All Employees, In Thousands; Total Real Estate Providing -Texas\n",
        "texas_estate = quandl.get(\"BLSE/SMU48000005553100001\", start_date=\"2000-01-01\", end_date=\"2020-08-01\")\n",
        "texas_estate.columns= ['Texas Total Real Estate Provided Value']"
      ],
      "execution_count": null,
      "outputs": []
    },
    {
      "cell_type": "code",
      "metadata": {
        "id": "CKEyg12DmC8Q",
        "colab_type": "code",
        "colab": {}
      },
      "source": [
        ""
      ],
      "execution_count": null,
      "outputs": []
    },
    {
      "cell_type": "code",
      "metadata": {
        "id": "sgsRvYvamC0t",
        "colab_type": "code",
        "colab": {}
      },
      "source": [
        ""
      ],
      "execution_count": null,
      "outputs": []
    },
    {
      "cell_type": "code",
      "metadata": {
        "id": "iZpwGQOroJmP",
        "colab_type": "code",
        "colab": {}
      },
      "source": [
        "tx6 = pd.merge(texas_telecommunication, texas_estate, on='Date')"
      ],
      "execution_count": null,
      "outputs": []
    },
    {
      "cell_type": "code",
      "metadata": {
        "id": "VFVDtWiqoAH7",
        "colab_type": "code",
        "colab": {}
      },
      "source": [
        "tx5 = pd.merge(texas_air, texas_truck, on='Date')"
      ],
      "execution_count": null,
      "outputs": []
    },
    {
      "cell_type": "code",
      "metadata": {
        "id": "vkwJK6qNkJBs",
        "colab_type": "code",
        "colab": {}
      },
      "source": [
        "tx4 = pd.merge(texas_wholesale, texas_transutil, on='Date')"
      ],
      "execution_count": null,
      "outputs": []
    },
    {
      "cell_type": "code",
      "metadata": {
        "id": "H_E--GkrkI5P",
        "colab_type": "code",
        "colab": {}
      },
      "source": [
        "tx3 = pd.merge(texas_manu, texas_durable, on='Date')"
      ],
      "execution_count": null,
      "outputs": []
    },
    {
      "cell_type": "code",
      "metadata": {
        "id": "GhLHneVKkIxu",
        "colab_type": "code",
        "colab": {}
      },
      "source": [
        "tx2 = pd.merge(texas_serv, texas_mine, on='Date')"
      ],
      "execution_count": null,
      "outputs": []
    },
    {
      "cell_type": "code",
      "metadata": {
        "id": "E4BXktAdkIow",
        "colab_type": "code",
        "colab": {}
      },
      "source": [
        "tx1 = pd.merge(texas_priv, texas_goods, on='Date')"
      ],
      "execution_count": null,
      "outputs": []
    },
    {
      "cell_type": "code",
      "metadata": {
        "id": "NCW1-AQckIjD",
        "colab_type": "code",
        "colab": {}
      },
      "source": [
        "texas = pd.merge(texas_gov, texas_nonfarm, on='Date')"
      ],
      "execution_count": null,
      "outputs": []
    },
    {
      "cell_type": "code",
      "metadata": {
        "id": "rE9_sE-EkIdU",
        "colab_type": "code",
        "colab": {}
      },
      "source": [
        "texas1 = pd.merge(texas, tx1, on='Date')"
      ],
      "execution_count": null,
      "outputs": []
    },
    {
      "cell_type": "code",
      "metadata": {
        "id": "nLrvVmgDkIXf",
        "colab_type": "code",
        "colab": {}
      },
      "source": [
        "texas2 = pd.merge(texas1, tx2, on='Date')"
      ],
      "execution_count": null,
      "outputs": []
    },
    {
      "cell_type": "code",
      "metadata": {
        "id": "bE-5a-Avm-tA",
        "colab_type": "code",
        "colab": {}
      },
      "source": [
        "texas3 = pd.merge(texas2, tx3, on='Date')"
      ],
      "execution_count": null,
      "outputs": []
    },
    {
      "cell_type": "code",
      "metadata": {
        "id": "xCT8WlranFFf",
        "colab_type": "code",
        "colab": {}
      },
      "source": [
        "texas4 = pd.merge(texas3, tx4, on='Date')"
      ],
      "execution_count": null,
      "outputs": []
    },
    {
      "cell_type": "code",
      "metadata": {
        "id": "XdPHJyCBoUGe",
        "colab_type": "code",
        "colab": {}
      },
      "source": [
        "texas5 = pd.merge(texas4, tx5, on='Date')"
      ],
      "execution_count": null,
      "outputs": []
    },
    {
      "cell_type": "code",
      "metadata": {
        "id": "aVOaJxtxoatu",
        "colab_type": "code",
        "colab": {}
      },
      "source": [
        "texas6 = pd.merge(texas5, tx6, on='Date')"
      ],
      "execution_count": null,
      "outputs": []
    },
    {
      "cell_type": "code",
      "metadata": {
        "id": "lNgs4zA3ouNE",
        "colab_type": "code",
        "colab": {
          "base_uri": "https://localhost:8080/",
          "height": 705
        },
        "outputId": "4caa8c3a-433a-4d90-e8f7-33af0d04a79b"
      },
      "source": [
        "texas6"
      ],
      "execution_count": null,
      "outputs": [
        {
          "output_type": "execute_result",
          "data": {
            "text/html": [
              "<div>\n",
              "<style scoped>\n",
              "    .dataframe tbody tr th:only-of-type {\n",
              "        vertical-align: middle;\n",
              "    }\n",
              "\n",
              "    .dataframe tbody tr th {\n",
              "        vertical-align: top;\n",
              "    }\n",
              "\n",
              "    .dataframe thead th {\n",
              "        text-align: right;\n",
              "    }\n",
              "</style>\n",
              "<table border=\"1\" class=\"dataframe\">\n",
              "  <thead>\n",
              "    <tr style=\"text-align: right;\">\n",
              "      <th></th>\n",
              "      <th>Texas Total Government Provided Value</th>\n",
              "      <th>Texas Total Nonfarm Provided Value</th>\n",
              "      <th>Texas Total Private Provided Value</th>\n",
              "      <th>Texas Total Goods Produced Provided Value</th>\n",
              "      <th>Texas Total Service Provided Value</th>\n",
              "      <th>Texas Total Mining &amp; Logging Provided Value</th>\n",
              "      <th>Texas Total Manufacture Provided Value</th>\n",
              "      <th>Texas Total Durable Goods Provided Value</th>\n",
              "      <th>Texas Wholesale Trade Provided Value</th>\n",
              "      <th>Texas Total Transportation &amp; Utilities Provided Value</th>\n",
              "      <th>Texas Total Air Transportation Provided Value</th>\n",
              "      <th>Texas Total Truck Transportation Provided Value</th>\n",
              "      <th>Texas Total Telecommunication Provided Value</th>\n",
              "      <th>Texas Total Real Estate Provided Value</th>\n",
              "    </tr>\n",
              "    <tr>\n",
              "      <th>Date</th>\n",
              "      <th></th>\n",
              "      <th></th>\n",
              "      <th></th>\n",
              "      <th></th>\n",
              "      <th></th>\n",
              "      <th></th>\n",
              "      <th></th>\n",
              "      <th></th>\n",
              "      <th></th>\n",
              "      <th></th>\n",
              "      <th></th>\n",
              "      <th></th>\n",
              "      <th></th>\n",
              "      <th></th>\n",
              "    </tr>\n",
              "  </thead>\n",
              "  <tbody>\n",
              "    <tr>\n",
              "      <th>2006-01-31</th>\n",
              "      <td>1734.8</td>\n",
              "      <td>9847.7</td>\n",
              "      <td>8112.9</td>\n",
              "      <td>1660.3</td>\n",
              "      <td>8187.4</td>\n",
              "      <td>174.9</td>\n",
              "      <td>909.5</td>\n",
              "      <td>586.8</td>\n",
              "      <td>472.2</td>\n",
              "      <td>409.9</td>\n",
              "      <td>62.0</td>\n",
              "      <td>109.7</td>\n",
              "      <td>92.7</td>\n",
              "      <td>111.6</td>\n",
              "    </tr>\n",
              "    <tr>\n",
              "      <th>2006-02-28</th>\n",
              "      <td>1759.9</td>\n",
              "      <td>9923.9</td>\n",
              "      <td>8164.0</td>\n",
              "      <td>1676.4</td>\n",
              "      <td>8247.5</td>\n",
              "      <td>177.3</td>\n",
              "      <td>913.0</td>\n",
              "      <td>591.8</td>\n",
              "      <td>475.0</td>\n",
              "      <td>410.3</td>\n",
              "      <td>62.1</td>\n",
              "      <td>109.7</td>\n",
              "      <td>93.3</td>\n",
              "      <td>112.1</td>\n",
              "    </tr>\n",
              "    <tr>\n",
              "      <th>2006-03-31</th>\n",
              "      <td>1762.2</td>\n",
              "      <td>10013.8</td>\n",
              "      <td>8251.6</td>\n",
              "      <td>1696.5</td>\n",
              "      <td>8317.3</td>\n",
              "      <td>179.2</td>\n",
              "      <td>917.7</td>\n",
              "      <td>596.6</td>\n",
              "      <td>478.8</td>\n",
              "      <td>413.0</td>\n",
              "      <td>62.4</td>\n",
              "      <td>110.8</td>\n",
              "      <td>93.7</td>\n",
              "      <td>113.3</td>\n",
              "    </tr>\n",
              "    <tr>\n",
              "      <th>2006-04-30</th>\n",
              "      <td>1752.5</td>\n",
              "      <td>10035.5</td>\n",
              "      <td>8283.0</td>\n",
              "      <td>1696.6</td>\n",
              "      <td>8338.9</td>\n",
              "      <td>180.9</td>\n",
              "      <td>920.9</td>\n",
              "      <td>599.6</td>\n",
              "      <td>479.5</td>\n",
              "      <td>413.7</td>\n",
              "      <td>62.5</td>\n",
              "      <td>111.7</td>\n",
              "      <td>93.8</td>\n",
              "      <td>113.8</td>\n",
              "    </tr>\n",
              "    <tr>\n",
              "      <th>2006-05-31</th>\n",
              "      <td>1760.8</td>\n",
              "      <td>10098.3</td>\n",
              "      <td>8337.5</td>\n",
              "      <td>1712.9</td>\n",
              "      <td>8385.4</td>\n",
              "      <td>182.9</td>\n",
              "      <td>927.0</td>\n",
              "      <td>604.1</td>\n",
              "      <td>482.1</td>\n",
              "      <td>415.9</td>\n",
              "      <td>63.0</td>\n",
              "      <td>113.0</td>\n",
              "      <td>93.6</td>\n",
              "      <td>114.5</td>\n",
              "    </tr>\n",
              "    <tr>\n",
              "      <th>...</th>\n",
              "      <td>...</td>\n",
              "      <td>...</td>\n",
              "      <td>...</td>\n",
              "      <td>...</td>\n",
              "      <td>...</td>\n",
              "      <td>...</td>\n",
              "      <td>...</td>\n",
              "      <td>...</td>\n",
              "      <td>...</td>\n",
              "      <td>...</td>\n",
              "      <td>...</td>\n",
              "      <td>...</td>\n",
              "      <td>...</td>\n",
              "      <td>...</td>\n",
              "    </tr>\n",
              "    <tr>\n",
              "      <th>2020-03-31</th>\n",
              "      <td>2027.3</td>\n",
              "      <td>12899.2</td>\n",
              "      <td>10871.9</td>\n",
              "      <td>1921.7</td>\n",
              "      <td>10977.5</td>\n",
              "      <td>232.2</td>\n",
              "      <td>904.1</td>\n",
              "      <td>584.2</td>\n",
              "      <td>612.7</td>\n",
              "      <td>595.9</td>\n",
              "      <td>64.7</td>\n",
              "      <td>152.2</td>\n",
              "      <td>79.3</td>\n",
              "      <td>163.0</td>\n",
              "    </tr>\n",
              "    <tr>\n",
              "      <th>2020-04-30</th>\n",
              "      <td>1975.9</td>\n",
              "      <td>11608.4</td>\n",
              "      <td>9632.5</td>\n",
              "      <td>1799.4</td>\n",
              "      <td>9809.0</td>\n",
              "      <td>210.9</td>\n",
              "      <td>860.4</td>\n",
              "      <td>557.7</td>\n",
              "      <td>580.6</td>\n",
              "      <td>565.1</td>\n",
              "      <td>63.2</td>\n",
              "      <td>149.4</td>\n",
              "      <td>74.8</td>\n",
              "      <td>154.8</td>\n",
              "    </tr>\n",
              "    <tr>\n",
              "      <th>2020-05-31</th>\n",
              "      <td>1932.1</td>\n",
              "      <td>11890.8</td>\n",
              "      <td>9958.7</td>\n",
              "      <td>1808.8</td>\n",
              "      <td>10082.0</td>\n",
              "      <td>197.9</td>\n",
              "      <td>870.4</td>\n",
              "      <td>560.2</td>\n",
              "      <td>575.1</td>\n",
              "      <td>566.6</td>\n",
              "      <td>62.5</td>\n",
              "      <td>150.5</td>\n",
              "      <td>74.5</td>\n",
              "      <td>158.1</td>\n",
              "    </tr>\n",
              "    <tr>\n",
              "      <th>2020-06-30</th>\n",
              "      <td>1891.1</td>\n",
              "      <td>12145.7</td>\n",
              "      <td>10254.6</td>\n",
              "      <td>1815.8</td>\n",
              "      <td>10329.9</td>\n",
              "      <td>192.7</td>\n",
              "      <td>875.6</td>\n",
              "      <td>560.1</td>\n",
              "      <td>577.7</td>\n",
              "      <td>570.2</td>\n",
              "      <td>61.9</td>\n",
              "      <td>149.5</td>\n",
              "      <td>75.1</td>\n",
              "      <td>162.6</td>\n",
              "    </tr>\n",
              "    <tr>\n",
              "      <th>2020-07-31</th>\n",
              "      <td>1856.6</td>\n",
              "      <td>12087.8</td>\n",
              "      <td>10231.2</td>\n",
              "      <td>1807.6</td>\n",
              "      <td>10280.2</td>\n",
              "      <td>191.5</td>\n",
              "      <td>873.2</td>\n",
              "      <td>553.5</td>\n",
              "      <td>570.5</td>\n",
              "      <td>572.2</td>\n",
              "      <td>61.5</td>\n",
              "      <td>149.5</td>\n",
              "      <td>75.4</td>\n",
              "      <td>165.5</td>\n",
              "    </tr>\n",
              "  </tbody>\n",
              "</table>\n",
              "<p>175 rows × 14 columns</p>\n",
              "</div>"
            ],
            "text/plain": [
              "            Texas Total Government Provided Value  ...  Texas Total Real Estate Provided Value\n",
              "Date                                               ...                                        \n",
              "2006-01-31                                 1734.8  ...                                   111.6\n",
              "2006-02-28                                 1759.9  ...                                   112.1\n",
              "2006-03-31                                 1762.2  ...                                   113.3\n",
              "2006-04-30                                 1752.5  ...                                   113.8\n",
              "2006-05-31                                 1760.8  ...                                   114.5\n",
              "...                                           ...  ...                                     ...\n",
              "2020-03-31                                 2027.3  ...                                   163.0\n",
              "2020-04-30                                 1975.9  ...                                   154.8\n",
              "2020-05-31                                 1932.1  ...                                   158.1\n",
              "2020-06-30                                 1891.1  ...                                   162.6\n",
              "2020-07-31                                 1856.6  ...                                   165.5\n",
              "\n",
              "[175 rows x 14 columns]"
            ]
          },
          "metadata": {
            "tags": []
          },
          "execution_count": 638
        }
      ]
    },
    {
      "cell_type": "code",
      "metadata": {
        "id": "r56MJEYboya_",
        "colab_type": "code",
        "colab": {}
      },
      "source": [
        ""
      ],
      "execution_count": null,
      "outputs": []
    },
    {
      "cell_type": "markdown",
      "metadata": {
        "id": "Oa6i_m3zozCP",
        "colab_type": "text"
      },
      "source": [
        "# Tennessee"
      ]
    },
    {
      "cell_type": "code",
      "metadata": {
        "id": "gOJnyfAKo47X",
        "colab_type": "code",
        "colab": {}
      },
      "source": [
        "#All Employees, In Thousands; Total Government Providing -Tennessee\n",
        "tenn_gov = quandl.get(\"BLSE/SMU47000009000000001\", start_date=\"2000-01-01\", end_date=\"2020-08-01\")\n",
        "tenn_gov.columns= ['Tennessee Total Government Provided Value']"
      ],
      "execution_count": null,
      "outputs": []
    },
    {
      "cell_type": "code",
      "metadata": {
        "id": "WdvybKj1pdoc",
        "colab_type": "code",
        "colab": {}
      },
      "source": [
        "#All Employees, In Thousands; Total Nonfarm Providing -Tenneseee\n",
        "tenn_nonfarm = quandl.get(\"BLSE/SMU47000000000000001\", start_date=\"2000-01-01\", end_date=\"2020-08-01\")\n",
        "tenn_nonfarm.columns= ['Tennessee Total Nonfarm Provided Value']"
      ],
      "execution_count": null,
      "outputs": []
    },
    {
      "cell_type": "code",
      "metadata": {
        "id": "lc9uOaHmplqt",
        "colab_type": "code",
        "colab": {}
      },
      "source": [
        "#All Employees, In Thousands; Total Private Providing -Tennessee\n",
        "tenn_priv = quandl.get(\"BLSE/SMU47000000500000001\", start_date=\"2000-01-01\", end_date=\"2020-08-01\")\n",
        "tenn_priv.columns= ['Tennessee Total Private Provided Value']"
      ],
      "execution_count": null,
      "outputs": []
    },
    {
      "cell_type": "code",
      "metadata": {
        "id": "i8pBQYT8p0ED",
        "colab_type": "code",
        "colab": {}
      },
      "source": [
        "#All Employees, In Thousands; Total Goods Producing Providing -Tennessee\n",
        "tenn_goods = quandl.get(\"BLSE/SMU47000000600000001\", start_date=\"2000-01-01\", end_date=\"2020-08-01\")\n",
        "tenn_goods.columns= ['Tennessee Total Goods Produced Provided Value']"
      ],
      "execution_count": null,
      "outputs": []
    },
    {
      "cell_type": "code",
      "metadata": {
        "id": "6cG20CeFp1bA",
        "colab_type": "code",
        "colab": {}
      },
      "source": [
        "#All Employees, In Thousands; Total Service Providing -Tennessee\n",
        "tenn_serv = quandl.get(\"BLSE/SMU47000000700000001\", start_date=\"2000-01-01\", end_date=\"2020-08-01\")\n",
        "tenn_serv.columns= ['Tennessee Total Service Provided Value']"
      ],
      "execution_count": null,
      "outputs": []
    },
    {
      "cell_type": "code",
      "metadata": {
        "id": "QeV-NjCsqvmG",
        "colab_type": "code",
        "colab": {}
      },
      "source": [
        "#All Employees, In Thousands; Total Manufacture Providing -Tennessee\n",
        "tenn_manu = quandl.get(\"BLSE/SMU47000003000000001\", start_date=\"2000-01-01\", end_date=\"2020-08-01\")\n",
        "tenn_manu.columns= ['Tennessee Total Manufacture Provided Value']"
      ],
      "execution_count": null,
      "outputs": []
    },
    {
      "cell_type": "code",
      "metadata": {
        "id": "m_34dnokq95d",
        "colab_type": "code",
        "colab": {}
      },
      "source": [
        "#All Employees, In Thousands; Total Durable Goods Providing -Tennessee\n",
        "tenn_durable = quandl.get(\"BLSE/SMU47000003100000001\", start_date=\"2000-01-01\", end_date=\"2020-08-01\")\n",
        "tenn_durable.columns= ['Tennessee Total Durable Goods Provided Value']"
      ],
      "execution_count": null,
      "outputs": []
    },
    {
      "cell_type": "code",
      "metadata": {
        "id": "N8Vb0hFxrFJD",
        "colab_type": "code",
        "colab": {}
      },
      "source": [
        "#All Employees, In Thousands; Total Wholesale Trade Providing -Tennessee\n",
        "tenn_wholesale = quandl.get(\"BLSE/SMU47000004100000001\", start_date=\"2000-01-01\", end_date=\"2020-08-01\")\n",
        "tenn_wholesale.columns= ['Tennessee Wholesale Trade Provided Value']"
      ],
      "execution_count": null,
      "outputs": []
    },
    {
      "cell_type": "code",
      "metadata": {
        "id": "uIP8fh7nrVhP",
        "colab_type": "code",
        "colab": {}
      },
      "source": [
        "#All Employees, In Thousands; Total Transportation & Utilities Providing -Tennessee\n",
        "tenn_transutil = quandl.get(\"BLSE/SMU47000004300000001\", start_date=\"2000-01-01\", end_date=\"2020-08-01\")\n",
        "tenn_transutil.columns= ['Tennessee Total Transportation & Utilities Provided Value']"
      ],
      "execution_count": null,
      "outputs": []
    },
    {
      "cell_type": "code",
      "metadata": {
        "id": "iaeYLRkordP_",
        "colab_type": "code",
        "colab": {}
      },
      "source": [
        "#All Employees, In Thousands; Total Truck Transportation Providing -Tennessee\n",
        "tenn_truck = quandl.get(\"BLSE/SMU47000004348400001\", start_date=\"2000-01-01\", end_date=\"2020-08-01\")\n",
        "tenn_truck.columns= ['Tennessee Total Truck Transportation Provided Value']"
      ],
      "execution_count": null,
      "outputs": []
    },
    {
      "cell_type": "code",
      "metadata": {
        "id": "WgCc9Zl5stYu",
        "colab_type": "code",
        "colab": {}
      },
      "source": [
        "tenn4 = pd.merge(tenn_transutil, tenn_truck, on='Date')"
      ],
      "execution_count": null,
      "outputs": []
    },
    {
      "cell_type": "code",
      "metadata": {
        "id": "REh2Q2fcst4k",
        "colab_type": "code",
        "colab": {}
      },
      "source": [
        "tenn3 = pd.merge(tenn_durable, tenn_wholesale, on='Date')"
      ],
      "execution_count": null,
      "outputs": []
    },
    {
      "cell_type": "code",
      "metadata": {
        "id": "YjycCDA5rK9s",
        "colab_type": "code",
        "colab": {}
      },
      "source": [
        "tenn2 = pd.merge(tenn_serv, tenn_manu, on='Date')"
      ],
      "execution_count": null,
      "outputs": []
    },
    {
      "cell_type": "code",
      "metadata": {
        "id": "Nz9UKIwOpXS9",
        "colab_type": "code",
        "colab": {}
      },
      "source": [
        "tenn1 = pd.merge(tenn_priv, tenn_goods, on='Date')"
      ],
      "execution_count": null,
      "outputs": []
    },
    {
      "cell_type": "code",
      "metadata": {
        "id": "mkyNvLa7r_iM",
        "colab_type": "code",
        "colab": {}
      },
      "source": [
        "tennessee = pd.merge(tenn_gov, tenn_nonfarm, on='Date')"
      ],
      "execution_count": null,
      "outputs": []
    },
    {
      "cell_type": "code",
      "metadata": {
        "id": "dQ-dCR-Mr_WW",
        "colab_type": "code",
        "colab": {}
      },
      "source": [
        "tennessee1 = pd.merge(tennessee, tenn1, on='Date')"
      ],
      "execution_count": null,
      "outputs": []
    },
    {
      "cell_type": "code",
      "metadata": {
        "id": "SbAyA9gqr_R8",
        "colab_type": "code",
        "colab": {}
      },
      "source": [
        "tennessee2 = pd.merge(tennessee1, tenn2, on='Date')"
      ],
      "execution_count": null,
      "outputs": []
    },
    {
      "cell_type": "code",
      "metadata": {
        "id": "MKgvGTyir_Ni",
        "colab_type": "code",
        "colab": {}
      },
      "source": [
        "tennessee3 = pd.merge(tennessee2, tenn3, on='Date')"
      ],
      "execution_count": null,
      "outputs": []
    },
    {
      "cell_type": "code",
      "metadata": {
        "id": "1t6emJNqr_JY",
        "colab_type": "code",
        "colab": {
          "base_uri": "https://localhost:8080/",
          "height": 671
        },
        "outputId": "7028be6c-1521-4d45-cec1-abc3ea674320"
      },
      "source": [
        "tennessee4 = pd.merge(tennessee3, tenn4, on='Date')\n",
        "tennessee4"
      ],
      "execution_count": null,
      "outputs": [
        {
          "output_type": "execute_result",
          "data": {
            "text/html": [
              "<div>\n",
              "<style scoped>\n",
              "    .dataframe tbody tr th:only-of-type {\n",
              "        vertical-align: middle;\n",
              "    }\n",
              "\n",
              "    .dataframe tbody tr th {\n",
              "        vertical-align: top;\n",
              "    }\n",
              "\n",
              "    .dataframe thead th {\n",
              "        text-align: right;\n",
              "    }\n",
              "</style>\n",
              "<table border=\"1\" class=\"dataframe\">\n",
              "  <thead>\n",
              "    <tr style=\"text-align: right;\">\n",
              "      <th></th>\n",
              "      <th>Tennessee Total Government Provided Value</th>\n",
              "      <th>Tennesee Total Nonfarm Provided Value</th>\n",
              "      <th>Tennessee Total Private Provided Value</th>\n",
              "      <th>Tennessee Total Goods Produced Provided Value</th>\n",
              "      <th>Tennessee Total Service Provided Value</th>\n",
              "      <th>Tennessee Total Manufacture Provided Value</th>\n",
              "      <th>Tennessee Total Durable Goods Provided Value</th>\n",
              "      <th>Tennessee Wholesale Trade Provided Value</th>\n",
              "      <th>Tennessee Total Transportation &amp; Utilities Provided Value</th>\n",
              "      <th>Tennessee Total Truck Transportation Provided Value</th>\n",
              "    </tr>\n",
              "    <tr>\n",
              "      <th>Date</th>\n",
              "      <th></th>\n",
              "      <th></th>\n",
              "      <th></th>\n",
              "      <th></th>\n",
              "      <th></th>\n",
              "      <th></th>\n",
              "      <th></th>\n",
              "      <th></th>\n",
              "      <th></th>\n",
              "      <th></th>\n",
              "    </tr>\n",
              "  </thead>\n",
              "  <tbody>\n",
              "    <tr>\n",
              "      <th>2006-01-31</th>\n",
              "      <td>409.5</td>\n",
              "      <td>2727.1</td>\n",
              "      <td>2317.6</td>\n",
              "      <td>527.8</td>\n",
              "      <td>2199.3</td>\n",
              "      <td>401.3</td>\n",
              "      <td>253.4</td>\n",
              "      <td>128.4</td>\n",
              "      <td>145.4</td>\n",
              "      <td>62.2</td>\n",
              "    </tr>\n",
              "    <tr>\n",
              "      <th>2006-02-28</th>\n",
              "      <td>415.0</td>\n",
              "      <td>2734.8</td>\n",
              "      <td>2319.8</td>\n",
              "      <td>527.2</td>\n",
              "      <td>2207.6</td>\n",
              "      <td>400.3</td>\n",
              "      <td>252.8</td>\n",
              "      <td>128.9</td>\n",
              "      <td>145.1</td>\n",
              "      <td>62.5</td>\n",
              "    </tr>\n",
              "    <tr>\n",
              "      <th>2006-03-31</th>\n",
              "      <td>417.6</td>\n",
              "      <td>2765.5</td>\n",
              "      <td>2347.9</td>\n",
              "      <td>532.6</td>\n",
              "      <td>2232.9</td>\n",
              "      <td>400.9</td>\n",
              "      <td>253.4</td>\n",
              "      <td>129.8</td>\n",
              "      <td>146.4</td>\n",
              "      <td>63.8</td>\n",
              "    </tr>\n",
              "    <tr>\n",
              "      <th>2006-04-30</th>\n",
              "      <td>419.5</td>\n",
              "      <td>2781.6</td>\n",
              "      <td>2362.1</td>\n",
              "      <td>534.4</td>\n",
              "      <td>2247.2</td>\n",
              "      <td>400.9</td>\n",
              "      <td>253.7</td>\n",
              "      <td>130.1</td>\n",
              "      <td>146.2</td>\n",
              "      <td>63.6</td>\n",
              "    </tr>\n",
              "    <tr>\n",
              "      <th>2006-05-31</th>\n",
              "      <td>417.9</td>\n",
              "      <td>2791.6</td>\n",
              "      <td>2373.7</td>\n",
              "      <td>535.9</td>\n",
              "      <td>2255.7</td>\n",
              "      <td>400.7</td>\n",
              "      <td>253.7</td>\n",
              "      <td>130.6</td>\n",
              "      <td>147.1</td>\n",
              "      <td>64.1</td>\n",
              "    </tr>\n",
              "    <tr>\n",
              "      <th>...</th>\n",
              "      <td>...</td>\n",
              "      <td>...</td>\n",
              "      <td>...</td>\n",
              "      <td>...</td>\n",
              "      <td>...</td>\n",
              "      <td>...</td>\n",
              "      <td>...</td>\n",
              "      <td>...</td>\n",
              "      <td>...</td>\n",
              "      <td>...</td>\n",
              "    </tr>\n",
              "    <tr>\n",
              "      <th>2020-03-31</th>\n",
              "      <td>448.6</td>\n",
              "      <td>3137.0</td>\n",
              "      <td>2688.4</td>\n",
              "      <td>482.5</td>\n",
              "      <td>2654.5</td>\n",
              "      <td>350.6</td>\n",
              "      <td>221.3</td>\n",
              "      <td>120.6</td>\n",
              "      <td>186.9</td>\n",
              "      <td>61.0</td>\n",
              "    </tr>\n",
              "    <tr>\n",
              "      <th>2020-04-30</th>\n",
              "      <td>435.0</td>\n",
              "      <td>2758.7</td>\n",
              "      <td>2323.7</td>\n",
              "      <td>417.0</td>\n",
              "      <td>2341.7</td>\n",
              "      <td>288.5</td>\n",
              "      <td>176.4</td>\n",
              "      <td>116.1</td>\n",
              "      <td>176.6</td>\n",
              "      <td>58.8</td>\n",
              "    </tr>\n",
              "    <tr>\n",
              "      <th>2020-05-31</th>\n",
              "      <td>424.0</td>\n",
              "      <td>2862.9</td>\n",
              "      <td>2438.9</td>\n",
              "      <td>441.4</td>\n",
              "      <td>2421.5</td>\n",
              "      <td>310.9</td>\n",
              "      <td>194.5</td>\n",
              "      <td>116.0</td>\n",
              "      <td>177.7</td>\n",
              "      <td>59.2</td>\n",
              "    </tr>\n",
              "    <tr>\n",
              "      <th>2020-06-30</th>\n",
              "      <td>412.8</td>\n",
              "      <td>2949.6</td>\n",
              "      <td>2536.8</td>\n",
              "      <td>452.0</td>\n",
              "      <td>2497.6</td>\n",
              "      <td>319.4</td>\n",
              "      <td>200.4</td>\n",
              "      <td>114.9</td>\n",
              "      <td>180.6</td>\n",
              "      <td>60.3</td>\n",
              "    </tr>\n",
              "    <tr>\n",
              "      <th>2020-07-31</th>\n",
              "      <td>389.0</td>\n",
              "      <td>2940.1</td>\n",
              "      <td>2551.1</td>\n",
              "      <td>457.3</td>\n",
              "      <td>2482.8</td>\n",
              "      <td>324.0</td>\n",
              "      <td>203.8</td>\n",
              "      <td>115.9</td>\n",
              "      <td>178.2</td>\n",
              "      <td>60.2</td>\n",
              "    </tr>\n",
              "  </tbody>\n",
              "</table>\n",
              "<p>175 rows × 10 columns</p>\n",
              "</div>"
            ],
            "text/plain": [
              "            Tennessee Total Government Provided Value  ...  Tennessee Total Truck Transportation Provided Value\n",
              "Date                                                   ...                                                     \n",
              "2006-01-31                                      409.5  ...                                               62.2  \n",
              "2006-02-28                                      415.0  ...                                               62.5  \n",
              "2006-03-31                                      417.6  ...                                               63.8  \n",
              "2006-04-30                                      419.5  ...                                               63.6  \n",
              "2006-05-31                                      417.9  ...                                               64.1  \n",
              "...                                               ...  ...                                                ...  \n",
              "2020-03-31                                      448.6  ...                                               61.0  \n",
              "2020-04-30                                      435.0  ...                                               58.8  \n",
              "2020-05-31                                      424.0  ...                                               59.2  \n",
              "2020-06-30                                      412.8  ...                                               60.3  \n",
              "2020-07-31                                      389.0  ...                                               60.2  \n",
              "\n",
              "[175 rows x 10 columns]"
            ]
          },
          "metadata": {
            "tags": []
          },
          "execution_count": 637
        }
      ]
    },
    {
      "cell_type": "code",
      "metadata": {
        "id": "dqLrZ_ZXr_EG",
        "colab_type": "code",
        "colab": {}
      },
      "source": [
        ""
      ],
      "execution_count": null,
      "outputs": []
    },
    {
      "cell_type": "code",
      "metadata": {
        "id": "ipvv8AgpuqkG",
        "colab_type": "code",
        "colab": {}
      },
      "source": [
        ""
      ],
      "execution_count": null,
      "outputs": []
    },
    {
      "cell_type": "code",
      "metadata": {
        "id": "XPKHdjtpurj3",
        "colab_type": "code",
        "colab": {}
      },
      "source": [
        ""
      ],
      "execution_count": null,
      "outputs": []
    },
    {
      "cell_type": "markdown",
      "metadata": {
        "id": "RbbkkCAeusJ4",
        "colab_type": "text"
      },
      "source": [
        "# South Dakota "
      ]
    },
    {
      "cell_type": "code",
      "metadata": {
        "id": "9uGrSWrtvC8I",
        "colab_type": "code",
        "colab": {}
      },
      "source": [
        "#All Employees, In Thousands; Total Government Providing -South Dakota \n",
        "sd_gov = quandl.get(\"BLSE/SMU46000009000000001\", start_date=\"2000-01-01\", end_date=\"2020-08-01\")\n",
        "sd_gov.columns= ['South Dakota Total Government Provided Value']"
      ],
      "execution_count": null,
      "outputs": []
    },
    {
      "cell_type": "code",
      "metadata": {
        "id": "_M9vA0ONvPbx",
        "colab_type": "code",
        "colab": {}
      },
      "source": [
        "#All Employees, In Thousands; Total Nonfarm Providing -South Dakota\n",
        "sd_nonfarm = quandl.get(\"BLSE/SMU46000000000000001\", start_date=\"2000-01-01\", end_date=\"2020-08-01\")\n",
        "sd_nonfarm.columns= ['South Dakota Total Nonfarm Provided Value']"
      ],
      "execution_count": null,
      "outputs": []
    },
    {
      "cell_type": "code",
      "metadata": {
        "id": "diDw1gPVvRql",
        "colab_type": "code",
        "colab": {}
      },
      "source": [
        "#All Employees, In Thousands; Total Private Providing -Tennessee\n",
        "sd_priv = quandl.get(\"BLSE/SMU46000000500000001\", start_date=\"2000-01-01\", end_date=\"2020-08-01\")\n",
        "sd_priv.columns= ['South Dakota Total Private Provided Value']"
      ],
      "execution_count": null,
      "outputs": []
    },
    {
      "cell_type": "code",
      "metadata": {
        "id": "xqzQk4tXvRlT",
        "colab_type": "code",
        "colab": {}
      },
      "source": [
        "#All Employees, In Thousands; Total Goods Producing Providing -Tennessee\n",
        "sd_goods = quandl.get(\"BLSE/SMU46000000600000001\", start_date=\"2000-01-01\", end_date=\"2020-08-01\")\n",
        "sd_goods.columns= ['South Dakota Total Goods Produced Provided Value']"
      ],
      "execution_count": null,
      "outputs": []
    },
    {
      "cell_type": "code",
      "metadata": {
        "id": "D2IpIzd8vRgB",
        "colab_type": "code",
        "colab": {}
      },
      "source": [
        "#All Employees, In Thousands; Total Service Providing -South dakota\n",
        "sd_serv = quandl.get(\"BLSE/SMU46000000700000001\", start_date=\"2000-01-01\", end_date=\"2020-08-01\")\n",
        "sd_serv.columns= ['South Dakota Total Service Provided Value']"
      ],
      "execution_count": null,
      "outputs": []
    },
    {
      "cell_type": "code",
      "metadata": {
        "id": "evkadCVWwMPm",
        "colab_type": "code",
        "colab": {}
      },
      "source": [
        "#All Employees, In Thousands; Total Manufacture Providing -South Dakota\n",
        "sd_manu = quandl.get(\"BLSE/SMU46000003000000001\", start_date=\"2000-01-01\", end_date=\"2020-08-01\")\n",
        "sd_manu.columns= ['South Dakota Total Manufacture Provided Value']"
      ],
      "execution_count": null,
      "outputs": []
    },
    {
      "cell_type": "code",
      "metadata": {
        "id": "UVtQxdA9wcSJ",
        "colab_type": "code",
        "colab": {}
      },
      "source": [
        "#All Employees, In Thousands; Total Wholesale Trade Providing -South Dakota\n",
        "sd_wholesale = quandl.get(\"BLSE/SMU46000004100000001\", start_date=\"2000-01-01\", end_date=\"2020-08-01\")\n",
        "sd_wholesale.columns= ['South Dakota Wholesale Trade Provided Value']"
      ],
      "execution_count": null,
      "outputs": []
    },
    {
      "cell_type": "code",
      "metadata": {
        "id": "0b3kykS_vRa2",
        "colab_type": "code",
        "colab": {}
      },
      "source": [
        "#All Employees, In Thousands; Total Transportation & Utilities Providing -South Dakota\n",
        "sd_transutil = quandl.get(\"BLSE/SMU46000004300000001\", start_date=\"2000-01-01\", end_date=\"2020-08-01\")\n",
        "sd_transutil.columns= ['South Dakota Total Transportation & Utilities Provided Value']"
      ],
      "execution_count": null,
      "outputs": []
    },
    {
      "cell_type": "code",
      "metadata": {
        "id": "CjiN09OExiTQ",
        "colab_type": "code",
        "colab": {}
      },
      "source": [
        "sd3 = pd.merge(sd_wholesale, sd_transutil, on='Date')"
      ],
      "execution_count": null,
      "outputs": []
    },
    {
      "cell_type": "code",
      "metadata": {
        "id": "PVhwGNjOvRVX",
        "colab_type": "code",
        "colab": {}
      },
      "source": [
        "sd2 = pd.merge(sd_serv, sd_manu, on='Date')"
      ],
      "execution_count": null,
      "outputs": []
    },
    {
      "cell_type": "code",
      "metadata": {
        "id": "XkRfhkfxvRQU",
        "colab_type": "code",
        "colab": {}
      },
      "source": [
        "sd1 = pd.merge(sd_priv, sd_goods, on='Date')"
      ],
      "execution_count": null,
      "outputs": []
    },
    {
      "cell_type": "code",
      "metadata": {
        "id": "oXY_oxUsvRLE",
        "colab_type": "code",
        "colab": {}
      },
      "source": [
        "sd = pd.merge(sd_gov, sd_nonfarm, on='Date')"
      ],
      "execution_count": null,
      "outputs": []
    },
    {
      "cell_type": "code",
      "metadata": {
        "id": "wVuxQco-vRF8",
        "colab_type": "code",
        "colab": {}
      },
      "source": [
        "southd= pd.merge(sd, sd1, on='Date')"
      ],
      "execution_count": null,
      "outputs": []
    },
    {
      "cell_type": "code",
      "metadata": {
        "id": "tbT-JSHVvQ_D",
        "colab_type": "code",
        "colab": {}
      },
      "source": [
        "southd1 = pd.merge(southd, sd2, on='Date')"
      ],
      "execution_count": null,
      "outputs": []
    },
    {
      "cell_type": "code",
      "metadata": {
        "id": "neOZZQBbyya5",
        "colab_type": "code",
        "colab": {
          "base_uri": "https://localhost:8080/",
          "height": 654
        },
        "outputId": "c2b686ee-8163-4c8c-b884-b78b1534f1d6"
      },
      "source": [
        "southd2 = pd.merge(southd1, sd3, on='Date')\n",
        "southd2"
      ],
      "execution_count": null,
      "outputs": [
        {
          "output_type": "execute_result",
          "data": {
            "text/html": [
              "<div>\n",
              "<style scoped>\n",
              "    .dataframe tbody tr th:only-of-type {\n",
              "        vertical-align: middle;\n",
              "    }\n",
              "\n",
              "    .dataframe tbody tr th {\n",
              "        vertical-align: top;\n",
              "    }\n",
              "\n",
              "    .dataframe thead th {\n",
              "        text-align: right;\n",
              "    }\n",
              "</style>\n",
              "<table border=\"1\" class=\"dataframe\">\n",
              "  <thead>\n",
              "    <tr style=\"text-align: right;\">\n",
              "      <th></th>\n",
              "      <th>South Dakota Total Government Provided Value</th>\n",
              "      <th>South Dakota Total Nonfarm Provided Value</th>\n",
              "      <th>South Dakota Total Private Provided Value</th>\n",
              "      <th>South Dakota Total Goods Produced Provided Value</th>\n",
              "      <th>South Dakota Total Service Provided Value</th>\n",
              "      <th>South Dakota Total Manufacture Provided Value</th>\n",
              "      <th>South Dakota Wholesale Trade Provided Value</th>\n",
              "      <th>South Dakota Total Transportation &amp; Utilities Provided Value</th>\n",
              "    </tr>\n",
              "    <tr>\n",
              "      <th>Date</th>\n",
              "      <th></th>\n",
              "      <th></th>\n",
              "      <th></th>\n",
              "      <th></th>\n",
              "      <th></th>\n",
              "      <th></th>\n",
              "      <th></th>\n",
              "      <th></th>\n",
              "    </tr>\n",
              "  </thead>\n",
              "  <tbody>\n",
              "    <tr>\n",
              "      <th>2006-01-31</th>\n",
              "      <td>74.4</td>\n",
              "      <td>384.0</td>\n",
              "      <td>309.6</td>\n",
              "      <td>59.9</td>\n",
              "      <td>324.1</td>\n",
              "      <td>40.4</td>\n",
              "      <td>17.8</td>\n",
              "      <td>12.3</td>\n",
              "    </tr>\n",
              "    <tr>\n",
              "      <th>2006-02-28</th>\n",
              "      <td>75.5</td>\n",
              "      <td>385.0</td>\n",
              "      <td>309.5</td>\n",
              "      <td>59.6</td>\n",
              "      <td>325.4</td>\n",
              "      <td>40.3</td>\n",
              "      <td>17.8</td>\n",
              "      <td>12.3</td>\n",
              "    </tr>\n",
              "    <tr>\n",
              "      <th>2006-03-31</th>\n",
              "      <td>75.8</td>\n",
              "      <td>388.1</td>\n",
              "      <td>312.3</td>\n",
              "      <td>60.5</td>\n",
              "      <td>327.6</td>\n",
              "      <td>40.7</td>\n",
              "      <td>17.9</td>\n",
              "      <td>12.4</td>\n",
              "    </tr>\n",
              "    <tr>\n",
              "      <th>2006-04-30</th>\n",
              "      <td>75.9</td>\n",
              "      <td>393.3</td>\n",
              "      <td>317.4</td>\n",
              "      <td>62.8</td>\n",
              "      <td>330.5</td>\n",
              "      <td>41.0</td>\n",
              "      <td>18.1</td>\n",
              "      <td>12.5</td>\n",
              "    </tr>\n",
              "    <tr>\n",
              "      <th>2006-05-31</th>\n",
              "      <td>77.5</td>\n",
              "      <td>402.6</td>\n",
              "      <td>325.1</td>\n",
              "      <td>65.0</td>\n",
              "      <td>337.6</td>\n",
              "      <td>41.4</td>\n",
              "      <td>18.4</td>\n",
              "      <td>12.8</td>\n",
              "    </tr>\n",
              "    <tr>\n",
              "      <th>...</th>\n",
              "      <td>...</td>\n",
              "      <td>...</td>\n",
              "      <td>...</td>\n",
              "      <td>...</td>\n",
              "      <td>...</td>\n",
              "      <td>...</td>\n",
              "      <td>...</td>\n",
              "      <td>...</td>\n",
              "    </tr>\n",
              "    <tr>\n",
              "      <th>2020-03-31</th>\n",
              "      <td>80.9</td>\n",
              "      <td>433.0</td>\n",
              "      <td>352.1</td>\n",
              "      <td>66.8</td>\n",
              "      <td>366.2</td>\n",
              "      <td>43.6</td>\n",
              "      <td>21.2</td>\n",
              "      <td>13.3</td>\n",
              "    </tr>\n",
              "    <tr>\n",
              "      <th>2020-04-30</th>\n",
              "      <td>74.9</td>\n",
              "      <td>398.1</td>\n",
              "      <td>323.2</td>\n",
              "      <td>68.0</td>\n",
              "      <td>330.1</td>\n",
              "      <td>42.8</td>\n",
              "      <td>20.7</td>\n",
              "      <td>12.2</td>\n",
              "    </tr>\n",
              "    <tr>\n",
              "      <th>2020-05-31</th>\n",
              "      <td>73.1</td>\n",
              "      <td>411.0</td>\n",
              "      <td>337.9</td>\n",
              "      <td>70.8</td>\n",
              "      <td>340.2</td>\n",
              "      <td>43.0</td>\n",
              "      <td>20.9</td>\n",
              "      <td>12.3</td>\n",
              "    </tr>\n",
              "    <tr>\n",
              "      <th>2020-06-30</th>\n",
              "      <td>74.3</td>\n",
              "      <td>426.6</td>\n",
              "      <td>352.3</td>\n",
              "      <td>73.0</td>\n",
              "      <td>353.6</td>\n",
              "      <td>43.2</td>\n",
              "      <td>21.1</td>\n",
              "      <td>12.4</td>\n",
              "    </tr>\n",
              "    <tr>\n",
              "      <th>2020-07-31</th>\n",
              "      <td>71.0</td>\n",
              "      <td>425.9</td>\n",
              "      <td>354.9</td>\n",
              "      <td>72.2</td>\n",
              "      <td>353.7</td>\n",
              "      <td>42.3</td>\n",
              "      <td>20.9</td>\n",
              "      <td>12.5</td>\n",
              "    </tr>\n",
              "  </tbody>\n",
              "</table>\n",
              "<p>175 rows × 8 columns</p>\n",
              "</div>"
            ],
            "text/plain": [
              "            South Dakota Total Government Provided Value  ...  South Dakota Total Transportation & Utilities Provided Value\n",
              "Date                                                      ...                                                              \n",
              "2006-01-31                                          74.4  ...                                               12.3           \n",
              "2006-02-28                                          75.5  ...                                               12.3           \n",
              "2006-03-31                                          75.8  ...                                               12.4           \n",
              "2006-04-30                                          75.9  ...                                               12.5           \n",
              "2006-05-31                                          77.5  ...                                               12.8           \n",
              "...                                                  ...  ...                                                ...           \n",
              "2020-03-31                                          80.9  ...                                               13.3           \n",
              "2020-04-30                                          74.9  ...                                               12.2           \n",
              "2020-05-31                                          73.1  ...                                               12.3           \n",
              "2020-06-30                                          74.3  ...                                               12.4           \n",
              "2020-07-31                                          71.0  ...                                               12.5           \n",
              "\n",
              "[175 rows x 8 columns]"
            ]
          },
          "metadata": {
            "tags": []
          },
          "execution_count": 636
        }
      ]
    },
    {
      "cell_type": "code",
      "metadata": {
        "id": "zl3sD16TzUe7",
        "colab_type": "code",
        "colab": {}
      },
      "source": [
        ""
      ],
      "execution_count": null,
      "outputs": []
    },
    {
      "cell_type": "markdown",
      "metadata": {
        "id": "RbuaZUjbzVAj",
        "colab_type": "text"
      },
      "source": [
        "# South Carolina"
      ]
    },
    {
      "cell_type": "code",
      "metadata": {
        "id": "RF1W4siOvQ2d",
        "colab_type": "code",
        "colab": {}
      },
      "source": [
        "#All Employees, In Thousands; Total Government Providing -South Dakota \n",
        "sc_gov = quandl.get(\"BLSE/SMU45000009000000001\", start_date=\"2000-01-01\", end_date=\"2020-08-01\")\n",
        "sc_gov.columns= ['South Carolina Total Government Provided Value']"
      ],
      "execution_count": null,
      "outputs": []
    },
    {
      "cell_type": "code",
      "metadata": {
        "id": "I4bSguDxvQxa",
        "colab_type": "code",
        "colab": {}
      },
      "source": [
        "#All Employees, In Thousands; Total Nonfarm Providing -South Dakota\n",
        "sc_nonfarm = quandl.get(\"BLSE/SMU45000000000000001\", start_date=\"2000-01-01\", end_date=\"2020-08-01\")\n",
        "sc_nonfarm.columns= ['South Carolina Total Nonfarm Provided Value']"
      ],
      "execution_count": null,
      "outputs": []
    },
    {
      "cell_type": "code",
      "metadata": {
        "id": "wtd8SMJWvQsq",
        "colab_type": "code",
        "colab": {}
      },
      "source": [
        "#All Employees, In Thousands; Total Private Providing -South Carolina\n",
        "sc_priv = quandl.get(\"BLSE/SMU45000000500000001\", start_date=\"2000-01-01\", end_date=\"2020-08-01\")\n",
        "sc_priv.columns= ['South Carolina Total Private Provided Value']"
      ],
      "execution_count": null,
      "outputs": []
    },
    {
      "cell_type": "code",
      "metadata": {
        "id": "hpb8ivsjvQnh",
        "colab_type": "code",
        "colab": {}
      },
      "source": [
        "#All Employees, In Thousands; Total Goods Producing Providing -South Carolina\n",
        "sc_goods = quandl.get(\"BLSE/SMU45000000600000001\", start_date=\"2000-01-01\", end_date=\"2020-08-01\")\n",
        "sc_goods.columns= ['South Carolina Total Goods Produced Provided Value']"
      ],
      "execution_count": null,
      "outputs": []
    },
    {
      "cell_type": "code",
      "metadata": {
        "id": "_SDaRpeH09Ge",
        "colab_type": "code",
        "colab": {}
      },
      "source": [
        "#All Employees, In Thousands; Total Service Providing -South Carolina\n",
        "sc_serv = quandl.get(\"BLSE/SMU45000000700000001\", start_date=\"2000-01-01\", end_date=\"2020-08-01\")\n",
        "sc_serv.columns= ['South Carolina Total Service Provided Value']"
      ],
      "execution_count": null,
      "outputs": []
    },
    {
      "cell_type": "code",
      "metadata": {
        "id": "UZ46XTsV1LCN",
        "colab_type": "code",
        "colab": {}
      },
      "source": [
        "#All Employees, In Thousands; Total Mining & Logging Providing -South Carolina\n",
        "sc_mine = quandl.get(\"BLSE/SMU45000001000000001\", start_date=\"2000-01-01\", end_date=\"2020-08-01\")\n",
        "sc_mine.columns= ['South Carolina Total Mining & Logging Provided Value']"
      ],
      "execution_count": null,
      "outputs": []
    },
    {
      "cell_type": "code",
      "metadata": {
        "id": "Cx7YixNm1C47",
        "colab_type": "code",
        "colab": {}
      },
      "source": [
        "#All Employees, In Thousands; Total Manufacture Providing -South Carolina\n",
        "sc_manu = quandl.get(\"BLSE/SMU45000003000000001\", start_date=\"2000-01-01\", end_date=\"2020-08-01\")\n",
        "sc_manu.columns= ['South Carolina Total Manufacture Provided Value']"
      ],
      "execution_count": null,
      "outputs": []
    },
    {
      "cell_type": "code",
      "metadata": {
        "id": "7Ib5uTla1vcX",
        "colab_type": "code",
        "colab": {}
      },
      "source": [
        "#All Employees, In Thousands; Total Durable Goods Providing -South Carolina\n",
        "sc_durable = quandl.get(\"BLSE/SMU45000003000000001\", start_date=\"2000-01-01\", end_date=\"2020-08-01\")\n",
        "sc_durable.columns= ['South Caorlina Total Durable Goods Provided Value']"
      ],
      "execution_count": null,
      "outputs": []
    },
    {
      "cell_type": "code",
      "metadata": {
        "id": "WPr3OgYD19fj",
        "colab_type": "code",
        "colab": {}
      },
      "source": [
        "#All Employees, In Thousands; Total Wholesale Trade Providing -South Carolina\n",
        "sc_wholesale = quandl.get(\"BLSE/SMU45000004100000001\", start_date=\"2000-01-01\", end_date=\"2020-08-01\")\n",
        "sc_wholesale.columns= ['South Carolina Wholesale Trade Provided Value']"
      ],
      "execution_count": null,
      "outputs": []
    },
    {
      "cell_type": "code",
      "metadata": {
        "id": "LHxEAZDf2JBz",
        "colab_type": "code",
        "colab": {}
      },
      "source": [
        "#All Employees, In Thousands; Total Transportation & Utilities Providing -South Carolina\n",
        "sc_transutil = quandl.get(\"BLSE/SMU45000004300000001\", start_date=\"2000-01-01\", end_date=\"2020-08-01\")\n",
        "sc_transutil.columns= ['South Carolina Total Transportation & Utilities Provided Value']"
      ],
      "execution_count": null,
      "outputs": []
    },
    {
      "cell_type": "code",
      "metadata": {
        "id": "_LtldMOAvQjE",
        "colab_type": "code",
        "colab": {}
      },
      "source": [
        ""
      ],
      "execution_count": null,
      "outputs": []
    },
    {
      "cell_type": "code",
      "metadata": {
        "id": "w421N77x3QK2",
        "colab_type": "code",
        "colab": {}
      },
      "source": [
        "sc3= pd.merge(sc_manu, sc_wholesale, on='Date')"
      ],
      "execution_count": null,
      "outputs": []
    },
    {
      "cell_type": "code",
      "metadata": {
        "id": "59iXj7TG3QCr",
        "colab_type": "code",
        "colab": {}
      },
      "source": [
        "sc2 = pd.merge(sc_serv, sc_mine, on='Date')"
      ],
      "execution_count": null,
      "outputs": []
    },
    {
      "cell_type": "code",
      "metadata": {
        "id": "yrTSOvXu3P6t",
        "colab_type": "code",
        "colab": {}
      },
      "source": [
        "sc1 = pd.merge(sc_priv, sc_goods, on='Date')"
      ],
      "execution_count": null,
      "outputs": []
    },
    {
      "cell_type": "code",
      "metadata": {
        "id": "Zro-lLFYvQdn",
        "colab_type": "code",
        "colab": {}
      },
      "source": [
        "south_carolina = pd.merge(sc_gov, sc_nonfarm, on='Date')"
      ],
      "execution_count": null,
      "outputs": []
    },
    {
      "cell_type": "code",
      "metadata": {
        "id": "0p7SGJjl3PIh",
        "colab_type": "code",
        "colab": {}
      },
      "source": [
        "south_carolina1 = pd.merge(south_carolina, sc1, on='Date')"
      ],
      "execution_count": null,
      "outputs": []
    },
    {
      "cell_type": "code",
      "metadata": {
        "id": "taKdhbGY3PDj",
        "colab_type": "code",
        "colab": {}
      },
      "source": [
        "south_carolina2 = pd.merge(south_carolina1, sc2, on='Date')"
      ],
      "execution_count": null,
      "outputs": []
    },
    {
      "cell_type": "code",
      "metadata": {
        "id": "YmRM4xIx3O9t",
        "colab_type": "code",
        "colab": {}
      },
      "source": [
        "south_carolina3 = pd.merge(south_carolina2, sc3, on='Date')"
      ],
      "execution_count": null,
      "outputs": []
    },
    {
      "cell_type": "code",
      "metadata": {
        "id": "UHzFXScu3O4U",
        "colab_type": "code",
        "colab": {}
      },
      "source": [
        "south_carolina4 = pd.merge(south_carolina3, sc_transutil, on='Date')\n"
      ],
      "execution_count": null,
      "outputs": []
    },
    {
      "cell_type": "code",
      "metadata": {
        "id": "QSEd_j8u4xss",
        "colab_type": "code",
        "colab": {
          "base_uri": "https://localhost:8080/",
          "height": 671
        },
        "outputId": "0dda3bf8-dbb0-4ac8-afae-14976669129a"
      },
      "source": [
        "south_carolina5 = pd.merge(south_carolina4, sc_durable, on='Date')\n",
        "south_carolina5"
      ],
      "execution_count": null,
      "outputs": [
        {
          "output_type": "execute_result",
          "data": {
            "text/html": [
              "<div>\n",
              "<style scoped>\n",
              "    .dataframe tbody tr th:only-of-type {\n",
              "        vertical-align: middle;\n",
              "    }\n",
              "\n",
              "    .dataframe tbody tr th {\n",
              "        vertical-align: top;\n",
              "    }\n",
              "\n",
              "    .dataframe thead th {\n",
              "        text-align: right;\n",
              "    }\n",
              "</style>\n",
              "<table border=\"1\" class=\"dataframe\">\n",
              "  <thead>\n",
              "    <tr style=\"text-align: right;\">\n",
              "      <th></th>\n",
              "      <th>South Carolina Total Government Provided Value</th>\n",
              "      <th>South Carolina Total Nonfarm Provided Value</th>\n",
              "      <th>South Carolina Total Private Provided Value</th>\n",
              "      <th>South Carolina Total Goods Produced Provided Value</th>\n",
              "      <th>South Carolina Total Service Provided Value</th>\n",
              "      <th>South Carolina Total Mining &amp; Logging Provided Value</th>\n",
              "      <th>South Caorlina Total Manufacture Provided Value</th>\n",
              "      <th>South Carolina Wholesale Trade Provided Value</th>\n",
              "      <th>South Carolina Total Transportation &amp; Utilities Provided Value</th>\n",
              "      <th>South Caorlina Total Durable Goods Provided Value</th>\n",
              "    </tr>\n",
              "    <tr>\n",
              "      <th>Date</th>\n",
              "      <th></th>\n",
              "      <th></th>\n",
              "      <th></th>\n",
              "      <th></th>\n",
              "      <th></th>\n",
              "      <th></th>\n",
              "      <th></th>\n",
              "      <th></th>\n",
              "      <th></th>\n",
              "      <th></th>\n",
              "    </tr>\n",
              "  </thead>\n",
              "  <tbody>\n",
              "    <tr>\n",
              "      <th>2006-01-31</th>\n",
              "      <td>337.9</td>\n",
              "      <td>1856.6</td>\n",
              "      <td>1518.7</td>\n",
              "      <td>376.8</td>\n",
              "      <td>1479.8</td>\n",
              "      <td>4.7</td>\n",
              "      <td>252.7</td>\n",
              "      <td>68.8</td>\n",
              "      <td>63.9</td>\n",
              "      <td>252.7</td>\n",
              "    </tr>\n",
              "    <tr>\n",
              "      <th>2006-02-28</th>\n",
              "      <td>343.2</td>\n",
              "      <td>1875.7</td>\n",
              "      <td>1532.5</td>\n",
              "      <td>378.1</td>\n",
              "      <td>1497.6</td>\n",
              "      <td>4.7</td>\n",
              "      <td>252.5</td>\n",
              "      <td>69.3</td>\n",
              "      <td>64.5</td>\n",
              "      <td>252.5</td>\n",
              "    </tr>\n",
              "    <tr>\n",
              "      <th>2006-03-31</th>\n",
              "      <td>346.6</td>\n",
              "      <td>1896.2</td>\n",
              "      <td>1549.6</td>\n",
              "      <td>380.1</td>\n",
              "      <td>1516.1</td>\n",
              "      <td>4.7</td>\n",
              "      <td>252.8</td>\n",
              "      <td>69.5</td>\n",
              "      <td>64.6</td>\n",
              "      <td>252.8</td>\n",
              "    </tr>\n",
              "    <tr>\n",
              "      <th>2006-04-30</th>\n",
              "      <td>346.2</td>\n",
              "      <td>1913.5</td>\n",
              "      <td>1567.3</td>\n",
              "      <td>382.5</td>\n",
              "      <td>1531.0</td>\n",
              "      <td>4.7</td>\n",
              "      <td>253.9</td>\n",
              "      <td>70.4</td>\n",
              "      <td>64.5</td>\n",
              "      <td>253.9</td>\n",
              "    </tr>\n",
              "    <tr>\n",
              "      <th>2006-05-31</th>\n",
              "      <td>346.3</td>\n",
              "      <td>1922.6</td>\n",
              "      <td>1576.3</td>\n",
              "      <td>384.2</td>\n",
              "      <td>1538.4</td>\n",
              "      <td>4.7</td>\n",
              "      <td>254.0</td>\n",
              "      <td>70.5</td>\n",
              "      <td>64.8</td>\n",
              "      <td>254.0</td>\n",
              "    </tr>\n",
              "    <tr>\n",
              "      <th>...</th>\n",
              "      <td>...</td>\n",
              "      <td>...</td>\n",
              "      <td>...</td>\n",
              "      <td>...</td>\n",
              "      <td>...</td>\n",
              "      <td>...</td>\n",
              "      <td>...</td>\n",
              "      <td>...</td>\n",
              "      <td>...</td>\n",
              "      <td>...</td>\n",
              "    </tr>\n",
              "    <tr>\n",
              "      <th>2020-03-31</th>\n",
              "      <td>380.8</td>\n",
              "      <td>2190.0</td>\n",
              "      <td>1809.2</td>\n",
              "      <td>370.8</td>\n",
              "      <td>1819.2</td>\n",
              "      <td>4.4</td>\n",
              "      <td>258.4</td>\n",
              "      <td>71.9</td>\n",
              "      <td>81.7</td>\n",
              "      <td>258.4</td>\n",
              "    </tr>\n",
              "    <tr>\n",
              "      <th>2020-04-30</th>\n",
              "      <td>367.2</td>\n",
              "      <td>1930.1</td>\n",
              "      <td>1562.9</td>\n",
              "      <td>351.7</td>\n",
              "      <td>1578.4</td>\n",
              "      <td>4.3</td>\n",
              "      <td>244.5</td>\n",
              "      <td>67.0</td>\n",
              "      <td>76.5</td>\n",
              "      <td>244.5</td>\n",
              "    </tr>\n",
              "    <tr>\n",
              "      <th>2020-05-31</th>\n",
              "      <td>360.2</td>\n",
              "      <td>2002.7</td>\n",
              "      <td>1642.5</td>\n",
              "      <td>356.7</td>\n",
              "      <td>1646.0</td>\n",
              "      <td>4.3</td>\n",
              "      <td>244.9</td>\n",
              "      <td>67.1</td>\n",
              "      <td>81.8</td>\n",
              "      <td>244.9</td>\n",
              "    </tr>\n",
              "    <tr>\n",
              "      <th>2020-06-30</th>\n",
              "      <td>353.9</td>\n",
              "      <td>2081.0</td>\n",
              "      <td>1727.1</td>\n",
              "      <td>365.7</td>\n",
              "      <td>1715.3</td>\n",
              "      <td>4.2</td>\n",
              "      <td>252.3</td>\n",
              "      <td>68.7</td>\n",
              "      <td>84.6</td>\n",
              "      <td>252.3</td>\n",
              "    </tr>\n",
              "    <tr>\n",
              "      <th>2020-07-31</th>\n",
              "      <td>344.8</td>\n",
              "      <td>2077.3</td>\n",
              "      <td>1732.5</td>\n",
              "      <td>364.8</td>\n",
              "      <td>1712.5</td>\n",
              "      <td>4.2</td>\n",
              "      <td>253.5</td>\n",
              "      <td>66.7</td>\n",
              "      <td>84.6</td>\n",
              "      <td>253.5</td>\n",
              "    </tr>\n",
              "  </tbody>\n",
              "</table>\n",
              "<p>175 rows × 10 columns</p>\n",
              "</div>"
            ],
            "text/plain": [
              "            South Carolina Total Government Provided Value  ...  South Caorlina Total Durable Goods Provided Value\n",
              "Date                                                        ...                                                   \n",
              "2006-01-31                                           337.9  ...                                              252.7\n",
              "2006-02-28                                           343.2  ...                                              252.5\n",
              "2006-03-31                                           346.6  ...                                              252.8\n",
              "2006-04-30                                           346.2  ...                                              253.9\n",
              "2006-05-31                                           346.3  ...                                              254.0\n",
              "...                                                    ...  ...                                                ...\n",
              "2020-03-31                                           380.8  ...                                              258.4\n",
              "2020-04-30                                           367.2  ...                                              244.5\n",
              "2020-05-31                                           360.2  ...                                              244.9\n",
              "2020-06-30                                           353.9  ...                                              252.3\n",
              "2020-07-31                                           344.8  ...                                              253.5\n",
              "\n",
              "[175 rows x 10 columns]"
            ]
          },
          "metadata": {
            "tags": []
          },
          "execution_count": 635
        }
      ]
    },
    {
      "cell_type": "markdown",
      "metadata": {
        "id": "oocDZ6B34--b",
        "colab_type": "text"
      },
      "source": [
        "# Rhode Island"
      ]
    },
    {
      "cell_type": "code",
      "metadata": {
        "id": "Fn1FHLy25OFQ",
        "colab_type": "code",
        "colab": {}
      },
      "source": [
        "#All Employees, In Thousands; Total Government Providing -Rhode Island \n",
        "ri_gov = quandl.get(\"BLSE/SMU44000009000000001\", start_date=\"2000-01-01\", end_date=\"2020-08-01\")\n",
        "ri_gov.columns= ['Rhode Island Total Government Provided Value']"
      ],
      "execution_count": null,
      "outputs": []
    },
    {
      "cell_type": "code",
      "metadata": {
        "id": "5tiwu89z5bBp",
        "colab_type": "code",
        "colab": {}
      },
      "source": [
        "#All Employees, In Thousands; Total Nonfarm Providing -Rhode Island\n",
        "ri_nonfarm = quandl.get(\"BLSE/SMU44000000000000001\", start_date=\"2000-01-01\", end_date=\"2020-08-01\")\n",
        "ri_nonfarm.columns= ['Rhode Island Total Nonfarm Provided Value']"
      ],
      "execution_count": null,
      "outputs": []
    },
    {
      "cell_type": "code",
      "metadata": {
        "id": "zxmtozN_5iDZ",
        "colab_type": "code",
        "colab": {}
      },
      "source": [
        "#All Employees, In Thousands; Total Private Providing -South Carolina\n",
        "ri_priv = quandl.get(\"BLSE/SMU44000000500000001\", start_date=\"2000-01-01\", end_date=\"2020-08-01\")\n",
        "ri_priv.columns= ['Rhode Island Total Private Provided Value']"
      ],
      "execution_count": null,
      "outputs": []
    },
    {
      "cell_type": "code",
      "metadata": {
        "id": "yZ8RMcPW5h-T",
        "colab_type": "code",
        "colab": {}
      },
      "source": [
        "#All Employees, In Thousands; Total Goods Producing Providing -South Carolina\n",
        "ri_goods = quandl.get(\"BLSE/SMU44000000600000001\", start_date=\"2000-01-01\", end_date=\"2020-08-01\")\n",
        "ri_goods.columns= ['Rhode Island Total Goods Produced Provided Value']"
      ],
      "execution_count": null,
      "outputs": []
    },
    {
      "cell_type": "code",
      "metadata": {
        "id": "foOn7SEF5h5I",
        "colab_type": "code",
        "colab": {}
      },
      "source": [
        "#All Employees, In Thousands; Total Service Providing -South Carolina\n",
        "ri_serv = quandl.get(\"BLSE/SMU44000000700000001\", start_date=\"2000-01-01\", end_date=\"2020-08-01\")\n",
        "ri_serv.columns= ['Rhode Island Total Service Provided Value']"
      ],
      "execution_count": null,
      "outputs": []
    },
    {
      "cell_type": "code",
      "metadata": {
        "id": "dt0VSOWJ5h0G",
        "colab_type": "code",
        "colab": {}
      },
      "source": [
        "#All Employees, In Thousands; Total Mining & Logging Providing -South Carolina\n",
        "ri_mine = quandl.get(\"BLSE/SMU44000001000000001\", start_date=\"2000-01-01\", end_date=\"2020-08-01\")\n",
        "ri_mine.columns= ['Rhode Island Total Mining & Logging Provided Value']"
      ],
      "execution_count": null,
      "outputs": []
    },
    {
      "cell_type": "code",
      "metadata": {
        "id": "agydhAb05huw",
        "colab_type": "code",
        "colab": {}
      },
      "source": [
        "#All Employees, In Thousands; Total Manufacture Providing -South Carolina\n",
        "ri_manu = quandl.get(\"BLSE/SMU44000003000000001\", start_date=\"2000-01-01\", end_date=\"2020-08-01\")\n",
        "ri_manu.columns= ['Rhode Island Total Manufacture Provided Value']"
      ],
      "execution_count": null,
      "outputs": []
    },
    {
      "cell_type": "code",
      "metadata": {
        "id": "y_qvI59J5hpb",
        "colab_type": "code",
        "colab": {}
      },
      "source": [
        "#All Employees, In Thousands; Total Durable Goods Providing -South Carolina\n",
        "ri_durable = quandl.get(\"BLSE/SMU44000003000000001\", start_date=\"2000-01-01\", end_date=\"2020-08-01\")\n",
        "ri_durable.columns= ['Rhode Island Total Durable Goods Provided Value']"
      ],
      "execution_count": null,
      "outputs": []
    },
    {
      "cell_type": "code",
      "metadata": {
        "id": "aYTvxBXZ5hfq",
        "colab_type": "code",
        "colab": {}
      },
      "source": [
        "#All Employees, In Thousands; Total Wholesale Trade Providing -South Carolina\n",
        "ri_wholesale = quandl.get(\"BLSE/SMU44000004100000001\", start_date=\"2000-01-01\", end_date=\"2020-08-01\")\n",
        "ri_wholesale.columns= ['Rhode Island Wholesale Trade Provided Value']"
      ],
      "execution_count": null,
      "outputs": []
    },
    {
      "cell_type": "code",
      "metadata": {
        "id": "I89IjAfi5hS9",
        "colab_type": "code",
        "colab": {}
      },
      "source": [
        "#All Employees, In Thousands; Total Transportation & Utilities Providing -South Carolina\n",
        "ri_transutil = quandl.get(\"BLSE/SMU44000004300000001\", start_date=\"2000-01-01\", end_date=\"2020-08-01\")\n",
        "ri_transutil.columns= ['Rhode Island Total Transportation & Utilities Provided Value']"
      ],
      "execution_count": null,
      "outputs": []
    },
    {
      "cell_type": "code",
      "metadata": {
        "id": "ZLrV3cO75a8i",
        "colab_type": "code",
        "colab": {}
      },
      "source": [
        ""
      ],
      "execution_count": null,
      "outputs": []
    },
    {
      "cell_type": "code",
      "metadata": {
        "id": "6jlw6YzW7qFI",
        "colab_type": "code",
        "colab": {}
      },
      "source": [
        ""
      ],
      "execution_count": null,
      "outputs": []
    },
    {
      "cell_type": "code",
      "metadata": {
        "id": "-se4g_mq7p_s",
        "colab_type": "code",
        "colab": {}
      },
      "source": [
        "ri4 = pd.merge(ri_wholesale, ri_transutil, on='Date')"
      ],
      "execution_count": null,
      "outputs": []
    },
    {
      "cell_type": "code",
      "metadata": {
        "id": "BYhCP-th7p57",
        "colab_type": "code",
        "colab": {}
      },
      "source": [
        "ri3 = pd.merge(ri_manu, ri_durable, on='Date')"
      ],
      "execution_count": null,
      "outputs": []
    },
    {
      "cell_type": "code",
      "metadata": {
        "id": "sFZ6OHDK5a3k",
        "colab_type": "code",
        "colab": {}
      },
      "source": [
        "ri2 = pd.merge(ri_serv, ri_mine, on='Date')"
      ],
      "execution_count": null,
      "outputs": []
    },
    {
      "cell_type": "code",
      "metadata": {
        "id": "GHELp8r65ayb",
        "colab_type": "code",
        "colab": {}
      },
      "source": [
        "ri1 = pd.merge(ri_priv, ri_goods, on='Date')"
      ],
      "execution_count": null,
      "outputs": []
    },
    {
      "cell_type": "code",
      "metadata": {
        "id": "iHUy1WVC5asv",
        "colab_type": "code",
        "colab": {}
      },
      "source": [
        "rhode_island = pd.merge(ri_gov, ri_nonfarm, on='Date')"
      ],
      "execution_count": null,
      "outputs": []
    },
    {
      "cell_type": "code",
      "metadata": {
        "id": "D_dDJo9c8DSW",
        "colab_type": "code",
        "colab": {}
      },
      "source": [
        "rhode_island1 = pd.merge(rhode_island, ri1, on='Date')"
      ],
      "execution_count": null,
      "outputs": []
    },
    {
      "cell_type": "code",
      "metadata": {
        "id": "-UaeAjrN8Ijs",
        "colab_type": "code",
        "colab": {}
      },
      "source": [
        "rhode_island2 = pd.merge(rhode_island1, ri2, on='Date')"
      ],
      "execution_count": null,
      "outputs": []
    },
    {
      "cell_type": "code",
      "metadata": {
        "id": "3RBBtksA8N0U",
        "colab_type": "code",
        "colab": {}
      },
      "source": [
        "rhode_island3 = pd.merge(rhode_island2, ri3, on='Date')"
      ],
      "execution_count": null,
      "outputs": []
    },
    {
      "cell_type": "code",
      "metadata": {
        "id": "lrIPlS7K8WBv",
        "colab_type": "code",
        "colab": {
          "base_uri": "https://localhost:8080/",
          "height": 671
        },
        "outputId": "7e4f4b35-0bbd-4fe6-b59e-608808932139"
      },
      "source": [
        "rhode_island4 = pd.merge(rhode_island3, ri4, on='Date')\n",
        "rhode_island4"
      ],
      "execution_count": null,
      "outputs": [
        {
          "output_type": "execute_result",
          "data": {
            "text/html": [
              "<div>\n",
              "<style scoped>\n",
              "    .dataframe tbody tr th:only-of-type {\n",
              "        vertical-align: middle;\n",
              "    }\n",
              "\n",
              "    .dataframe tbody tr th {\n",
              "        vertical-align: top;\n",
              "    }\n",
              "\n",
              "    .dataframe thead th {\n",
              "        text-align: right;\n",
              "    }\n",
              "</style>\n",
              "<table border=\"1\" class=\"dataframe\">\n",
              "  <thead>\n",
              "    <tr style=\"text-align: right;\">\n",
              "      <th></th>\n",
              "      <th>Rhode Island Total Government Provided Value</th>\n",
              "      <th>Rhode Island Total Nonfarm Provided Value</th>\n",
              "      <th>Rhode Island Total Private Provided Value</th>\n",
              "      <th>Rhode Island Total Goods Produced Provided Value</th>\n",
              "      <th>Rhode Island Total Service Provided Value</th>\n",
              "      <th>Rhode Island Total Mining &amp; Logging Provided Value</th>\n",
              "      <th>Rhode Island Total Manufacture Provided Value</th>\n",
              "      <th>Rhode Island Total Durable Goods Provided Value</th>\n",
              "      <th>Rhode Island Wholesale Trade Provided Value</th>\n",
              "      <th>Rhode Island Total Transportation &amp; Utilities Provided Value</th>\n",
              "    </tr>\n",
              "    <tr>\n",
              "      <th>Date</th>\n",
              "      <th></th>\n",
              "      <th></th>\n",
              "      <th></th>\n",
              "      <th></th>\n",
              "      <th></th>\n",
              "      <th></th>\n",
              "      <th></th>\n",
              "      <th></th>\n",
              "      <th></th>\n",
              "      <th></th>\n",
              "    </tr>\n",
              "  </thead>\n",
              "  <tbody>\n",
              "    <tr>\n",
              "      <th>2006-01-31</th>\n",
              "      <td>68.7</td>\n",
              "      <td>478.7</td>\n",
              "      <td>410.0</td>\n",
              "      <td>73.1</td>\n",
              "      <td>405.6</td>\n",
              "      <td>0.2</td>\n",
              "      <td>53.1</td>\n",
              "      <td>53.1</td>\n",
              "      <td>16.6</td>\n",
              "      <td>10.6</td>\n",
              "    </tr>\n",
              "    <tr>\n",
              "      <th>2006-02-28</th>\n",
              "      <td>69.2</td>\n",
              "      <td>481.7</td>\n",
              "      <td>412.5</td>\n",
              "      <td>72.8</td>\n",
              "      <td>408.9</td>\n",
              "      <td>0.2</td>\n",
              "      <td>53.2</td>\n",
              "      <td>53.2</td>\n",
              "      <td>16.6</td>\n",
              "      <td>10.6</td>\n",
              "    </tr>\n",
              "    <tr>\n",
              "      <th>2006-03-31</th>\n",
              "      <td>69.3</td>\n",
              "      <td>486.2</td>\n",
              "      <td>416.9</td>\n",
              "      <td>73.4</td>\n",
              "      <td>412.8</td>\n",
              "      <td>0.2</td>\n",
              "      <td>53.2</td>\n",
              "      <td>53.2</td>\n",
              "      <td>16.7</td>\n",
              "      <td>10.6</td>\n",
              "    </tr>\n",
              "    <tr>\n",
              "      <th>2006-04-30</th>\n",
              "      <td>69.0</td>\n",
              "      <td>497.3</td>\n",
              "      <td>428.3</td>\n",
              "      <td>76.0</td>\n",
              "      <td>421.3</td>\n",
              "      <td>0.3</td>\n",
              "      <td>53.2</td>\n",
              "      <td>53.2</td>\n",
              "      <td>16.9</td>\n",
              "      <td>10.9</td>\n",
              "    </tr>\n",
              "    <tr>\n",
              "      <th>2006-05-31</th>\n",
              "      <td>69.2</td>\n",
              "      <td>500.6</td>\n",
              "      <td>431.4</td>\n",
              "      <td>76.7</td>\n",
              "      <td>423.9</td>\n",
              "      <td>0.3</td>\n",
              "      <td>53.1</td>\n",
              "      <td>53.1</td>\n",
              "      <td>16.9</td>\n",
              "      <td>11.1</td>\n",
              "    </tr>\n",
              "    <tr>\n",
              "      <th>...</th>\n",
              "      <td>...</td>\n",
              "      <td>...</td>\n",
              "      <td>...</td>\n",
              "      <td>...</td>\n",
              "      <td>...</td>\n",
              "      <td>...</td>\n",
              "      <td>...</td>\n",
              "      <td>...</td>\n",
              "      <td>...</td>\n",
              "      <td>...</td>\n",
              "    </tr>\n",
              "    <tr>\n",
              "      <th>2020-03-31</th>\n",
              "      <td>66.1</td>\n",
              "      <td>489.0</td>\n",
              "      <td>422.9</td>\n",
              "      <td>57.8</td>\n",
              "      <td>431.2</td>\n",
              "      <td>0.2</td>\n",
              "      <td>39.5</td>\n",
              "      <td>39.5</td>\n",
              "      <td>16.9</td>\n",
              "      <td>12.6</td>\n",
              "    </tr>\n",
              "    <tr>\n",
              "      <th>2020-04-30</th>\n",
              "      <td>65.0</td>\n",
              "      <td>409.5</td>\n",
              "      <td>344.5</td>\n",
              "      <td>54.2</td>\n",
              "      <td>355.3</td>\n",
              "      <td>0.2</td>\n",
              "      <td>37.2</td>\n",
              "      <td>37.2</td>\n",
              "      <td>15.9</td>\n",
              "      <td>10.0</td>\n",
              "    </tr>\n",
              "    <tr>\n",
              "      <th>2020-05-31</th>\n",
              "      <td>65.1</td>\n",
              "      <td>425.7</td>\n",
              "      <td>360.6</td>\n",
              "      <td>56.1</td>\n",
              "      <td>369.6</td>\n",
              "      <td>0.2</td>\n",
              "      <td>37.6</td>\n",
              "      <td>37.6</td>\n",
              "      <td>15.3</td>\n",
              "      <td>9.8</td>\n",
              "    </tr>\n",
              "    <tr>\n",
              "      <th>2020-06-30</th>\n",
              "      <td>61.5</td>\n",
              "      <td>450.4</td>\n",
              "      <td>388.9</td>\n",
              "      <td>58.0</td>\n",
              "      <td>392.4</td>\n",
              "      <td>0.3</td>\n",
              "      <td>38.8</td>\n",
              "      <td>38.8</td>\n",
              "      <td>15.3</td>\n",
              "      <td>10.1</td>\n",
              "    </tr>\n",
              "    <tr>\n",
              "      <th>2020-07-31</th>\n",
              "      <td>59.2</td>\n",
              "      <td>461.3</td>\n",
              "      <td>402.1</td>\n",
              "      <td>58.4</td>\n",
              "      <td>402.9</td>\n",
              "      <td>0.3</td>\n",
              "      <td>38.8</td>\n",
              "      <td>38.8</td>\n",
              "      <td>15.4</td>\n",
              "      <td>10.2</td>\n",
              "    </tr>\n",
              "  </tbody>\n",
              "</table>\n",
              "<p>175 rows × 10 columns</p>\n",
              "</div>"
            ],
            "text/plain": [
              "            Rhode Island Total Government Provided Value  ...  Rhode Island Total Transportation & Utilities Provided Value\n",
              "Date                                                      ...                                                              \n",
              "2006-01-31                                          68.7  ...                                               10.6           \n",
              "2006-02-28                                          69.2  ...                                               10.6           \n",
              "2006-03-31                                          69.3  ...                                               10.6           \n",
              "2006-04-30                                          69.0  ...                                               10.9           \n",
              "2006-05-31                                          69.2  ...                                               11.1           \n",
              "...                                                  ...  ...                                                ...           \n",
              "2020-03-31                                          66.1  ...                                               12.6           \n",
              "2020-04-30                                          65.0  ...                                               10.0           \n",
              "2020-05-31                                          65.1  ...                                                9.8           \n",
              "2020-06-30                                          61.5  ...                                               10.1           \n",
              "2020-07-31                                          59.2  ...                                               10.2           \n",
              "\n",
              "[175 rows x 10 columns]"
            ]
          },
          "metadata": {
            "tags": []
          },
          "execution_count": 634
        }
      ]
    },
    {
      "cell_type": "code",
      "metadata": {
        "id": "-pk22UA28g9e",
        "colab_type": "code",
        "colab": {}
      },
      "source": [
        ""
      ],
      "execution_count": null,
      "outputs": []
    },
    {
      "cell_type": "markdown",
      "metadata": {
        "id": "wB6ocaky8hPA",
        "colab_type": "text"
      },
      "source": [
        "# Pennslyvania"
      ]
    },
    {
      "cell_type": "code",
      "metadata": {
        "id": "8uCdWoXZ8kjb",
        "colab_type": "code",
        "colab": {}
      },
      "source": [
        "#All Employees, In Thousands; Total Government Providing -Rhode Island \n",
        "penn_gov = quandl.get(\"BLSE/SMU42000009000000001\", start_date=\"2000-01-01\", end_date=\"2020-08-01\")\n",
        "penn_gov.columns= ['Pennslyvania Total Government Provided Value']"
      ],
      "execution_count": null,
      "outputs": []
    },
    {
      "cell_type": "code",
      "metadata": {
        "id": "VwkEKX7D8zDG",
        "colab_type": "code",
        "colab": {}
      },
      "source": [
        "#All Employees, In Thousands; Total Nonfarm Providing -Rhode Island\n",
        "penn_nonfarm = quandl.get(\"BLSE/SMU42000000000000001\", start_date=\"2000-01-01\", end_date=\"2020-08-01\")\n",
        "penn_nonfarm.columns= ['Pennslyvania  Total Nonfarm Provided Value']"
      ],
      "execution_count": null,
      "outputs": []
    },
    {
      "cell_type": "code",
      "metadata": {
        "id": "AMZcttop88N2",
        "colab_type": "code",
        "colab": {}
      },
      "source": [
        "#All Employees, In Thousands; Total Private Providing -South Carolina\n",
        "penn_priv = quandl.get(\"BLSE/SMU42000000500000001\", start_date=\"2000-01-01\", end_date=\"2020-08-01\")\n",
        "penn_priv.columns= ['Pennslyvania Total Private Provided Value']"
      ],
      "execution_count": null,
      "outputs": []
    },
    {
      "cell_type": "code",
      "metadata": {
        "id": "DVE95haF9Eui",
        "colab_type": "code",
        "colab": {}
      },
      "source": [
        "#All Employees, In Thousands; Total Goods Producing Providing -South Carolina\n",
        "penn_goods = quandl.get(\"BLSE/SMU42000000600000001\", start_date=\"2000-01-01\", end_date=\"2020-08-01\")\n",
        "penn_goods.columns= ['Pennslyvania Total Goods Produced Provided Value']"
      ],
      "execution_count": null,
      "outputs": []
    },
    {
      "cell_type": "code",
      "metadata": {
        "id": "mSGtJmPn9NsK",
        "colab_type": "code",
        "colab": {}
      },
      "source": [
        "#All Employees, In Thousands; Total Service Providing -South Carolina\n",
        "penn_serv = quandl.get(\"BLSE/SMU42000000700000001\", start_date=\"2000-01-01\", end_date=\"2020-08-01\")\n",
        "penn_serv.columns= ['Pennslyvania Total Service Provided Value']"
      ],
      "execution_count": null,
      "outputs": []
    },
    {
      "cell_type": "code",
      "metadata": {
        "id": "JPydHwcf9YM1",
        "colab_type": "code",
        "colab": {}
      },
      "source": [
        "#All Employees, In Thousands; Total Mining & Logging Providing -South Carolina\n",
        "penn_mine = quandl.get(\"BLSE/SMU42000001000000001\", start_date=\"2000-01-01\", end_date=\"2020-08-01\")\n",
        "penn_mine.columns= ['Pennslyvania Total Mining & Logging Provided Value']"
      ],
      "execution_count": null,
      "outputs": []
    },
    {
      "cell_type": "code",
      "metadata": {
        "id": "cEqMHfgD9mG3",
        "colab_type": "code",
        "colab": {}
      },
      "source": [
        "#All Employees, In Thousands; Total Manufacture Providing -South Carolina\n",
        "penn_manu = quandl.get(\"BLSE/SMU42000003000000001\", start_date=\"2000-01-01\", end_date=\"2020-08-01\")\n",
        "penn_manu.columns= ['Pennslyvania Total Manufacture Provided Value']"
      ],
      "execution_count": null,
      "outputs": []
    },
    {
      "cell_type": "code",
      "metadata": {
        "id": "0wDtZ0fR91a7",
        "colab_type": "code",
        "colab": {}
      },
      "source": [
        "#All Employees, In Thousands; Total Durable Goods Providing -South Carolina\n",
        "penn_durable = quandl.get(\"BLSE/SMU42000003000000001\", start_date=\"2000-01-01\", end_date=\"2020-08-01\")\n",
        "penn_durable.columns= ['Pennslyvania Total Durable Goods Provided Value']"
      ],
      "execution_count": null,
      "outputs": []
    },
    {
      "cell_type": "code",
      "metadata": {
        "id": "77oM-f9691N2",
        "colab_type": "code",
        "colab": {}
      },
      "source": [
        "#All Employees, In Thousands; Total Wholesale Trade Providing -South Carolina\n",
        "penn_wholesale = quandl.get(\"BLSE/SMU42000004100000001\", start_date=\"2000-01-01\", end_date=\"2020-08-01\")\n",
        "penn_wholesale.columns= ['Pennslyvania Wholesale Trade Provided Value']"
      ],
      "execution_count": null,
      "outputs": []
    },
    {
      "cell_type": "code",
      "metadata": {
        "id": "PNThI5F69xG5",
        "colab_type": "code",
        "colab": {}
      },
      "source": [
        "#All Employees, In Thousands; Total Transportation & Utilities Providing -South Carolina\n",
        "penn_transutil = quandl.get(\"BLSE/SMU42000004300000001\", start_date=\"2000-01-01\", end_date=\"2020-08-01\")\n",
        "penn_transutil.columns= ['Pennslyvania Total Transportation & Utilities Provided Value']"
      ],
      "execution_count": null,
      "outputs": []
    },
    {
      "cell_type": "code",
      "metadata": {
        "id": "NkCdBTEt-TYm",
        "colab_type": "code",
        "colab": {}
      },
      "source": [
        "#All Employees, In Thousands; Total Air Transportation Providing -South Carolina\n",
        "penn_air = quandl.get(\"BLSE/SMU42000004348100001\", start_date=\"2000-01-01\", end_date=\"2020-08-01\")\n",
        "penn_air.columns= ['Pennslyvania Total Air Transportation Provided Value']"
      ],
      "execution_count": null,
      "outputs": []
    },
    {
      "cell_type": "code",
      "metadata": {
        "id": "6-sJIa1x-6Mm",
        "colab_type": "code",
        "colab": {}
      },
      "source": [
        "#All Employees, In Thousands; Total Truck Transportation Providing -South Carolina\n",
        "penn_truck = quandl.get(\"BLSE/SMU42000004348400001\", start_date=\"2000-01-01\", end_date=\"2020-08-01\")\n",
        "penn_truck.columns= ['Pennslyvania Total Truck Transportation Provided Value']"
      ],
      "execution_count": null,
      "outputs": []
    },
    {
      "cell_type": "code",
      "metadata": {
        "id": "9pPqUS5__LWK",
        "colab_type": "code",
        "colab": {}
      },
      "source": [
        "#All Employees, In Thousands; Total Telecommunications Transportation Providing -South Carolina\n",
        "penn_telecom = quandl.get(\"BLSE/SMU42000005051700001\", start_date=\"2000-01-01\", end_date=\"2020-08-01\")\n",
        "penn_telecom.columns= ['Pennslyvania Total Telecommunication Provided Value']"
      ],
      "execution_count": null,
      "outputs": []
    },
    {
      "cell_type": "code",
      "metadata": {
        "id": "DKS0Mhlx_tM0",
        "colab_type": "code",
        "colab": {}
      },
      "source": [
        "#All Employees, In Thousands; Total Real Estate Transportation Providing -South Carolina\n",
        "penn_estate = quandl.get(\"BLSE/SMU42000005553100001\", start_date=\"2000-01-01\", end_date=\"2020-08-01\")\n",
        "penn_estate.columns= ['Pennslyvania Total Real Estate Provided Value']"
      ],
      "execution_count": null,
      "outputs": []
    },
    {
      "cell_type": "code",
      "metadata": {
        "id": "D0mDI0ZUAzap",
        "colab_type": "code",
        "colab": {}
      },
      "source": [
        ""
      ],
      "execution_count": null,
      "outputs": []
    },
    {
      "cell_type": "code",
      "metadata": {
        "id": "OvQhUMkRAz3z",
        "colab_type": "code",
        "colab": {}
      },
      "source": [
        "p6 = pd.merge(penn_telecom, penn_estate, on='Date')"
      ],
      "execution_count": null,
      "outputs": []
    },
    {
      "cell_type": "code",
      "metadata": {
        "id": "xes1mrhq-TTM",
        "colab_type": "code",
        "colab": {}
      },
      "source": [
        "p5 = pd.merge(penn_air, penn_truck, on='Date')"
      ],
      "execution_count": null,
      "outputs": []
    },
    {
      "cell_type": "code",
      "metadata": {
        "id": "Ykt8_yhtAZM5",
        "colab_type": "code",
        "colab": {}
      },
      "source": [
        "p4 = pd.merge(penn_wholesale, penn_transutil, on='Date')"
      ],
      "execution_count": null,
      "outputs": []
    },
    {
      "cell_type": "code",
      "metadata": {
        "id": "lpMZvD7_AaOl",
        "colab_type": "code",
        "colab": {}
      },
      "source": [
        "p3 = pd.merge(penn_manu, penn_durable, on='Date')"
      ],
      "execution_count": null,
      "outputs": []
    },
    {
      "cell_type": "code",
      "metadata": {
        "id": "s9golN1O-TOB",
        "colab_type": "code",
        "colab": {}
      },
      "source": [
        "p2 = pd.merge(penn_serv, penn_mine, on='Date')"
      ],
      "execution_count": null,
      "outputs": []
    },
    {
      "cell_type": "code",
      "metadata": {
        "id": "WVZgtCuA-TJF",
        "colab_type": "code",
        "colab": {}
      },
      "source": [
        "p1 = pd.merge(penn_priv, penn_goods, on='Date')"
      ],
      "execution_count": null,
      "outputs": []
    },
    {
      "cell_type": "code",
      "metadata": {
        "id": "jlPQ7vxQ-TEJ",
        "colab_type": "code",
        "colab": {}
      },
      "source": [
        "penn = pd.merge(penn_gov, penn_nonfarm, on='Date')"
      ],
      "execution_count": null,
      "outputs": []
    },
    {
      "cell_type": "code",
      "metadata": {
        "id": "eGlyGBqp-S-I",
        "colab_type": "code",
        "colab": {}
      },
      "source": [
        "penn1 = pd.merge(penn, p1, on='Date')"
      ],
      "execution_count": null,
      "outputs": []
    },
    {
      "cell_type": "code",
      "metadata": {
        "id": "pjuxbqylBZCh",
        "colab_type": "code",
        "colab": {}
      },
      "source": [
        "penn2 = pd.merge(penn1, p2, on='Date')"
      ],
      "execution_count": null,
      "outputs": []
    },
    {
      "cell_type": "code",
      "metadata": {
        "id": "8ibVTBVRBmR5",
        "colab_type": "code",
        "colab": {}
      },
      "source": [
        "penn3 = pd.merge(penn2, p3, on='Date')"
      ],
      "execution_count": null,
      "outputs": []
    },
    {
      "cell_type": "code",
      "metadata": {
        "id": "EIAZwqgYB8Ga",
        "colab_type": "code",
        "colab": {}
      },
      "source": [
        "penn4 =pd.merge(penn3, p4, on='Date')"
      ],
      "execution_count": null,
      "outputs": []
    },
    {
      "cell_type": "code",
      "metadata": {
        "id": "_67k-PlKCFNv",
        "colab_type": "code",
        "colab": {}
      },
      "source": [
        "penn5 = pd.merge(penn4, p5, on='Date')"
      ],
      "execution_count": null,
      "outputs": []
    },
    {
      "cell_type": "code",
      "metadata": {
        "id": "OIQpIt5hCPuB",
        "colab_type": "code",
        "colab": {
          "base_uri": "https://localhost:8080/",
          "height": 725
        },
        "outputId": "c88f62c9-2437-4160-8249-dd65d60b3830"
      },
      "source": [
        "penn6 = pd.merge(penn5, p6, on='Date')\n",
        "penn6"
      ],
      "execution_count": null,
      "outputs": [
        {
          "output_type": "execute_result",
          "data": {
            "text/html": [
              "<div>\n",
              "<style scoped>\n",
              "    .dataframe tbody tr th:only-of-type {\n",
              "        vertical-align: middle;\n",
              "    }\n",
              "\n",
              "    .dataframe tbody tr th {\n",
              "        vertical-align: top;\n",
              "    }\n",
              "\n",
              "    .dataframe thead th {\n",
              "        text-align: right;\n",
              "    }\n",
              "</style>\n",
              "<table border=\"1\" class=\"dataframe\">\n",
              "  <thead>\n",
              "    <tr style=\"text-align: right;\">\n",
              "      <th></th>\n",
              "      <th>Pennslyvania Total Government Provided Value</th>\n",
              "      <th>Pennslyvania  Total Nonfarm Provided Value</th>\n",
              "      <th>Pennslyvania Total Private Provided Value</th>\n",
              "      <th>Pennslyvania Total Goods Produced Provided Value</th>\n",
              "      <th>Pennslyvania Total Service Provided Value</th>\n",
              "      <th>Pennslyvania Total Mining &amp; Logging Provided Value</th>\n",
              "      <th>Pennslyvania Total Manufacture Provided Value</th>\n",
              "      <th>Pennslyvania Total Durable Goods Provided Value</th>\n",
              "      <th>Pennslyvania Wholesale Trade Provided Value</th>\n",
              "      <th>Pennslyvania Total Transportation &amp; Utilities Provided Value</th>\n",
              "      <th>Pennslyvania Total Air Transportation Provided Value</th>\n",
              "      <th>Pennslyvania Total Truck Transportation Provided Value</th>\n",
              "      <th>Pennslyvania Total Telecommunication Provided Value</th>\n",
              "      <th>Pennslyvania Total Real Estate Provided Value</th>\n",
              "    </tr>\n",
              "    <tr>\n",
              "      <th>Date</th>\n",
              "      <th></th>\n",
              "      <th></th>\n",
              "      <th></th>\n",
              "      <th></th>\n",
              "      <th></th>\n",
              "      <th></th>\n",
              "      <th></th>\n",
              "      <th></th>\n",
              "      <th></th>\n",
              "      <th></th>\n",
              "      <th></th>\n",
              "      <th></th>\n",
              "      <th></th>\n",
              "      <th></th>\n",
              "    </tr>\n",
              "  </thead>\n",
              "  <tbody>\n",
              "    <tr>\n",
              "      <th>2006-01-31</th>\n",
              "      <td>749.4</td>\n",
              "      <td>5622.8</td>\n",
              "      <td>4873.4</td>\n",
              "      <td>925.1</td>\n",
              "      <td>4697.7</td>\n",
              "      <td>19.3</td>\n",
              "      <td>668.6</td>\n",
              "      <td>668.6</td>\n",
              "      <td>228.7</td>\n",
              "      <td>232.1</td>\n",
              "      <td>14.5</td>\n",
              "      <td>61.0</td>\n",
              "      <td>37.2</td>\n",
              "      <td>42.8</td>\n",
              "    </tr>\n",
              "    <tr>\n",
              "      <th>2006-02-28</th>\n",
              "      <td>770.9</td>\n",
              "      <td>5656.7</td>\n",
              "      <td>4885.8</td>\n",
              "      <td>922.6</td>\n",
              "      <td>4734.1</td>\n",
              "      <td>19.4</td>\n",
              "      <td>666.8</td>\n",
              "      <td>666.8</td>\n",
              "      <td>229.1</td>\n",
              "      <td>231.4</td>\n",
              "      <td>14.2</td>\n",
              "      <td>60.6</td>\n",
              "      <td>37.2</td>\n",
              "      <td>42.8</td>\n",
              "    </tr>\n",
              "    <tr>\n",
              "      <th>2006-03-31</th>\n",
              "      <td>773.8</td>\n",
              "      <td>5701.7</td>\n",
              "      <td>4927.9</td>\n",
              "      <td>935.3</td>\n",
              "      <td>4766.4</td>\n",
              "      <td>19.8</td>\n",
              "      <td>670.1</td>\n",
              "      <td>670.1</td>\n",
              "      <td>230.3</td>\n",
              "      <td>233.2</td>\n",
              "      <td>14.4</td>\n",
              "      <td>61.0</td>\n",
              "      <td>37.3</td>\n",
              "      <td>42.9</td>\n",
              "    </tr>\n",
              "    <tr>\n",
              "      <th>2006-04-30</th>\n",
              "      <td>775.6</td>\n",
              "      <td>5761.0</td>\n",
              "      <td>4985.4</td>\n",
              "      <td>949.7</td>\n",
              "      <td>4811.3</td>\n",
              "      <td>20.4</td>\n",
              "      <td>671.1</td>\n",
              "      <td>671.1</td>\n",
              "      <td>231.9</td>\n",
              "      <td>233.5</td>\n",
              "      <td>14.4</td>\n",
              "      <td>61.9</td>\n",
              "      <td>37.4</td>\n",
              "      <td>43.4</td>\n",
              "    </tr>\n",
              "    <tr>\n",
              "      <th>2006-05-31</th>\n",
              "      <td>773.7</td>\n",
              "      <td>5796.0</td>\n",
              "      <td>5022.3</td>\n",
              "      <td>958.8</td>\n",
              "      <td>4837.2</td>\n",
              "      <td>20.7</td>\n",
              "      <td>672.1</td>\n",
              "      <td>672.1</td>\n",
              "      <td>233.4</td>\n",
              "      <td>236.2</td>\n",
              "      <td>14.2</td>\n",
              "      <td>62.8</td>\n",
              "      <td>37.6</td>\n",
              "      <td>43.8</td>\n",
              "    </tr>\n",
              "    <tr>\n",
              "      <th>...</th>\n",
              "      <td>...</td>\n",
              "      <td>...</td>\n",
              "      <td>...</td>\n",
              "      <td>...</td>\n",
              "      <td>...</td>\n",
              "      <td>...</td>\n",
              "      <td>...</td>\n",
              "      <td>...</td>\n",
              "      <td>...</td>\n",
              "      <td>...</td>\n",
              "      <td>...</td>\n",
              "      <td>...</td>\n",
              "      <td>...</td>\n",
              "      <td>...</td>\n",
              "    </tr>\n",
              "    <tr>\n",
              "      <th>2020-03-31</th>\n",
              "      <td>721.3</td>\n",
              "      <td>5990.7</td>\n",
              "      <td>5269.4</td>\n",
              "      <td>842.2</td>\n",
              "      <td>5148.5</td>\n",
              "      <td>26.9</td>\n",
              "      <td>571.1</td>\n",
              "      <td>571.1</td>\n",
              "      <td>212.5</td>\n",
              "      <td>302.7</td>\n",
              "      <td>13.4</td>\n",
              "      <td>67.7</td>\n",
              "      <td>27.0</td>\n",
              "      <td>47.2</td>\n",
              "    </tr>\n",
              "    <tr>\n",
              "      <th>2020-04-30</th>\n",
              "      <td>702.2</td>\n",
              "      <td>5009.7</td>\n",
              "      <td>4307.5</td>\n",
              "      <td>679.1</td>\n",
              "      <td>4330.6</td>\n",
              "      <td>24.7</td>\n",
              "      <td>498.9</td>\n",
              "      <td>498.9</td>\n",
              "      <td>189.2</td>\n",
              "      <td>268.2</td>\n",
              "      <td>9.9</td>\n",
              "      <td>63.6</td>\n",
              "      <td>27.0</td>\n",
              "      <td>44.3</td>\n",
              "    </tr>\n",
              "    <tr>\n",
              "      <th>2020-05-31</th>\n",
              "      <td>688.6</td>\n",
              "      <td>5227.1</td>\n",
              "      <td>4538.5</td>\n",
              "      <td>786.5</td>\n",
              "      <td>4440.6</td>\n",
              "      <td>24.2</td>\n",
              "      <td>525.9</td>\n",
              "      <td>525.9</td>\n",
              "      <td>195.2</td>\n",
              "      <td>273.0</td>\n",
              "      <td>9.6</td>\n",
              "      <td>64.2</td>\n",
              "      <td>26.7</td>\n",
              "      <td>45.5</td>\n",
              "    </tr>\n",
              "    <tr>\n",
              "      <th>2020-06-30</th>\n",
              "      <td>668.0</td>\n",
              "      <td>5454.4</td>\n",
              "      <td>4786.4</td>\n",
              "      <td>821.9</td>\n",
              "      <td>4632.5</td>\n",
              "      <td>24.0</td>\n",
              "      <td>543.1</td>\n",
              "      <td>543.1</td>\n",
              "      <td>200.5</td>\n",
              "      <td>282.8</td>\n",
              "      <td>9.6</td>\n",
              "      <td>67.3</td>\n",
              "      <td>26.6</td>\n",
              "      <td>46.6</td>\n",
              "    </tr>\n",
              "    <tr>\n",
              "      <th>2020-07-31</th>\n",
              "      <td>646.9</td>\n",
              "      <td>5507.8</td>\n",
              "      <td>4860.9</td>\n",
              "      <td>820.9</td>\n",
              "      <td>4686.9</td>\n",
              "      <td>24.1</td>\n",
              "      <td>540.1</td>\n",
              "      <td>540.1</td>\n",
              "      <td>199.4</td>\n",
              "      <td>267.5</td>\n",
              "      <td>9.7</td>\n",
              "      <td>66.9</td>\n",
              "      <td>26.4</td>\n",
              "      <td>48.1</td>\n",
              "    </tr>\n",
              "  </tbody>\n",
              "</table>\n",
              "<p>175 rows × 14 columns</p>\n",
              "</div>"
            ],
            "text/plain": [
              "            Pennslyvania Total Government Provided Value  ...  Pennslyvania Total Real Estate Provided Value\n",
              "Date                                                      ...                                               \n",
              "2006-01-31                                         749.4  ...                                           42.8\n",
              "2006-02-28                                         770.9  ...                                           42.8\n",
              "2006-03-31                                         773.8  ...                                           42.9\n",
              "2006-04-30                                         775.6  ...                                           43.4\n",
              "2006-05-31                                         773.7  ...                                           43.8\n",
              "...                                                  ...  ...                                            ...\n",
              "2020-03-31                                         721.3  ...                                           47.2\n",
              "2020-04-30                                         702.2  ...                                           44.3\n",
              "2020-05-31                                         688.6  ...                                           45.5\n",
              "2020-06-30                                         668.0  ...                                           46.6\n",
              "2020-07-31                                         646.9  ...                                           48.1\n",
              "\n",
              "[175 rows x 14 columns]"
            ]
          },
          "metadata": {
            "tags": []
          },
          "execution_count": 640
        }
      ]
    },
    {
      "cell_type": "code",
      "metadata": {
        "id": "Bk9o8_mECkbL",
        "colab_type": "code",
        "colab": {}
      },
      "source": [
        ""
      ],
      "execution_count": null,
      "outputs": []
    },
    {
      "cell_type": "code",
      "metadata": {
        "id": "fwM9ugWRE6Xr",
        "colab_type": "code",
        "colab": {}
      },
      "source": [
        ""
      ],
      "execution_count": null,
      "outputs": []
    },
    {
      "cell_type": "markdown",
      "metadata": {
        "id": "SXAfgEnFE7a2",
        "colab_type": "text"
      },
      "source": [
        "# Oregon"
      ]
    },
    {
      "cell_type": "code",
      "metadata": {
        "id": "rCjMLTK1FL0u",
        "colab_type": "code",
        "colab": {}
      },
      "source": [
        "#All Employees, In Thousands; Total Government Providing -Rhode Island \n",
        "oregon_gov = quandl.get(\"BLSE/SMU41000009000000001\", start_date=\"2000-01-01\", end_date=\"2020-08-01\")\n",
        "oregon_gov.columns= ['Oregon Total Government Provided Value']"
      ],
      "execution_count": null,
      "outputs": []
    },
    {
      "cell_type": "code",
      "metadata": {
        "id": "Ph_cW7lRFA4S",
        "colab_type": "code",
        "colab": {}
      },
      "source": [
        "#All Employees, In Thousands; Total Nonfarm Providing -Rhode Island\n",
        "oregon_nonfarm = quandl.get(\"BLSE/SMU41000000000000001\", start_date=\"2000-01-01\", end_date=\"2020-08-01\")\n",
        "oregon_nonfarm.columns= ['Oregon  Total Nonfarm Provided Value']"
      ],
      "execution_count": null,
      "outputs": []
    },
    {
      "cell_type": "code",
      "metadata": {
        "id": "Bqjcs_5sFicg",
        "colab_type": "code",
        "colab": {}
      },
      "source": [
        "#All Employees, In Thousands; Total Private Providing -South Carolina\n",
        "oregon_priv = quandl.get(\"BLSE/SMU41000000500000001\", start_date=\"2000-01-01\", end_date=\"2020-08-01\")\n",
        "oregon_priv.columns= ['Oregon Total Private Provided Value']"
      ],
      "execution_count": null,
      "outputs": []
    },
    {
      "cell_type": "code",
      "metadata": {
        "id": "nq7VVmBWFiWa",
        "colab_type": "code",
        "colab": {}
      },
      "source": [
        "#All Employees, In Thousands; Total Goods Producing Providing -South Carolina\n",
        "oregon_goods = quandl.get(\"BLSE/SMU41000000600000001\", start_date=\"2000-01-01\", end_date=\"2020-08-01\")\n",
        "oregon_goods.columns= ['Oregon Total Goods Produced Provided Value']"
      ],
      "execution_count": null,
      "outputs": []
    },
    {
      "cell_type": "code",
      "metadata": {
        "id": "sYgnsk99FiNq",
        "colab_type": "code",
        "colab": {}
      },
      "source": [
        "#All Employees, In Thousands; Total Service Providing -South Carolina\n",
        "oregon_serv = quandl.get(\"BLSE/SMU41000000700000001\", start_date=\"2000-01-01\", end_date=\"2020-08-01\")\n",
        "oregon_serv.columns= ['Oregon Total Service Provided Value']"
      ],
      "execution_count": null,
      "outputs": []
    },
    {
      "cell_type": "code",
      "metadata": {
        "id": "xNscWWkNFiGR",
        "colab_type": "code",
        "colab": {}
      },
      "source": [
        "#All Employees, In Thousands; Total Mining & Logging Providing -South Carolina\n",
        "oregon_mine = quandl.get(\"BLSE/SMU41000001000000001\", start_date=\"2000-01-01\", end_date=\"2020-08-01\")\n",
        "oregon_mine.columns= ['Oregon Total Mining & Logging Provided Value']"
      ],
      "execution_count": null,
      "outputs": []
    },
    {
      "cell_type": "code",
      "metadata": {
        "id": "vlfOhBfOFh_E",
        "colab_type": "code",
        "colab": {}
      },
      "source": [
        "#All Employees, In Thousands; Total Manufacture Providing -South Carolina\n",
        "oregon_manu = quandl.get(\"BLSE/SMU41000003000000001\", start_date=\"2000-01-01\", end_date=\"2020-08-01\")\n",
        "oregon_manu.columns= ['Oregon Total Manufacture Provided Value']"
      ],
      "execution_count": null,
      "outputs": []
    },
    {
      "cell_type": "code",
      "metadata": {
        "id": "BJO32uztFh2U",
        "colab_type": "code",
        "colab": {}
      },
      "source": [
        "#All Employees, In Thousands; Total Durable Goods Providing -South Carolina\n",
        "oregon_durable = quandl.get(\"BLSE/SMU41000003000000001\", start_date=\"2000-01-01\", end_date=\"2020-08-01\")\n",
        "oregon_durable.columns= ['Oregon Total Durable Goods Provided Value']"
      ],
      "execution_count": null,
      "outputs": []
    },
    {
      "cell_type": "code",
      "metadata": {
        "id": "6qUgqrdcFht3",
        "colab_type": "code",
        "colab": {}
      },
      "source": [
        "#All Employees, In Thousands; Total Wholesale Trade Providing -South Carolina\n",
        "oregon_wholesale = quandl.get(\"BLSE/SMU41000004100000001\", start_date=\"2000-01-01\", end_date=\"2020-08-01\")\n",
        "oregon_wholesale.columns= ['Oregon Wholesale Trade Provided Value']"
      ],
      "execution_count": null,
      "outputs": []
    },
    {
      "cell_type": "code",
      "metadata": {
        "id": "hq-t7PQ4Fhdc",
        "colab_type": "code",
        "colab": {}
      },
      "source": [
        "#All Employees, In Thousands; Total Transportation & Utilities Providing -South Carolina\n",
        "oregon_transutil = quandl.get(\"BLSE/SMU41000004300000001\", start_date=\"2000-01-01\", end_date=\"2020-08-01\")\n",
        "oregon_transutil.columns= ['Oregon Total Transportation & Utilities Provided Value']"
      ],
      "execution_count": null,
      "outputs": []
    },
    {
      "cell_type": "code",
      "metadata": {
        "id": "RPixv7LdFg47",
        "colab_type": "code",
        "colab": {}
      },
      "source": [
        "#All Employees, In Thousands; Total Truck Transportation Providing -South Carolina\n",
        "oregon_truck = quandl.get(\"BLSE/SMU41000004348400001\", start_date=\"2000-01-01\", end_date=\"2020-08-01\")\n",
        "oregon_truck.columns= ['Oregon Total Truck Transportation Provided Value']"
      ],
      "execution_count": null,
      "outputs": []
    },
    {
      "cell_type": "code",
      "metadata": {
        "id": "jc2bSBZ4IO35",
        "colab_type": "code",
        "colab": {}
      },
      "source": [
        "#All Employees, In Thousands; Total Telecommunications Transportation Providing -South Carolina\n",
        "oregon_telecom = quandl.get(\"BLSE/SMU41000005051700001\", start_date=\"2000-01-01\", end_date=\"2020-08-01\")\n",
        "oregon_telecom.columns= ['Oregon Total Telecommunication Provided Value']"
      ],
      "execution_count": null,
      "outputs": []
    },
    {
      "cell_type": "code",
      "metadata": {
        "id": "sleSeO48FgnH",
        "colab_type": "code",
        "colab": {}
      },
      "source": [
        "#All Employees, In Thousands; Total Real Estate Transportation Providing -South Carolina\n",
        "oregon_estate = quandl.get(\"BLSE/SMU41000005553100001\", start_date=\"2000-01-01\", end_date=\"2020-08-01\")\n",
        "oregon_estate.columns= ['Oregon Total Real Estate Provided Value']"
      ],
      "execution_count": null,
      "outputs": []
    },
    {
      "cell_type": "code",
      "metadata": {
        "id": "MrkzOD1xJY9B",
        "colab_type": "code",
        "colab": {}
      },
      "source": [
        ""
      ],
      "execution_count": null,
      "outputs": []
    },
    {
      "cell_type": "code",
      "metadata": {
        "id": "ySj9Z4_sJZaj",
        "colab_type": "code",
        "colab": {}
      },
      "source": [
        "o5 = pd.merge(oregon_truck, oregon_telecom, on='Date')"
      ],
      "execution_count": null,
      "outputs": []
    },
    {
      "cell_type": "code",
      "metadata": {
        "id": "ophE0dKNFgeS",
        "colab_type": "code",
        "colab": {}
      },
      "source": [
        "o4 = pd.merge(oregon_wholesale, oregon_transutil, on='Date')"
      ],
      "execution_count": null,
      "outputs": []
    },
    {
      "cell_type": "code",
      "metadata": {
        "id": "HW2usUofFgYW",
        "colab_type": "code",
        "colab": {}
      },
      "source": [
        "o3 = pd.merge(oregon_manu, oregon_durable, on='Date')"
      ],
      "execution_count": null,
      "outputs": []
    },
    {
      "cell_type": "code",
      "metadata": {
        "id": "8svIU4hZFgSo",
        "colab_type": "code",
        "colab": {}
      },
      "source": [
        "o2 = pd.merge(oregon_serv, oregon_mine, on='Date')"
      ],
      "execution_count": null,
      "outputs": []
    },
    {
      "cell_type": "code",
      "metadata": {
        "id": "mtUGO4jZFgMh",
        "colab_type": "code",
        "colab": {}
      },
      "source": [
        "o1 = pd.merge(oregon_priv, oregon_goods, on='Date')"
      ],
      "execution_count": null,
      "outputs": []
    },
    {
      "cell_type": "code",
      "metadata": {
        "id": "JPO2YxcdFgB1",
        "colab_type": "code",
        "colab": {}
      },
      "source": [
        "oregon = pd.merge(oregon_gov, oregon_nonfarm, on='Date')"
      ],
      "execution_count": null,
      "outputs": []
    },
    {
      "cell_type": "code",
      "metadata": {
        "id": "df8UuJ67JnmE",
        "colab_type": "code",
        "colab": {}
      },
      "source": [
        "oregon1 = pd.merge(oregon, o1, on='Date')"
      ],
      "execution_count": null,
      "outputs": []
    },
    {
      "cell_type": "code",
      "metadata": {
        "id": "VwGV1qniJsxQ",
        "colab_type": "code",
        "colab": {}
      },
      "source": [
        "oregon2 = pd.merge(oregon1, o2, on='Date')"
      ],
      "execution_count": null,
      "outputs": []
    },
    {
      "cell_type": "code",
      "metadata": {
        "id": "e3izERYfJ1ix",
        "colab_type": "code",
        "colab": {}
      },
      "source": [
        "oregon3 = pd.merge(oregon2, o3, on='Date')"
      ],
      "execution_count": null,
      "outputs": []
    },
    {
      "cell_type": "code",
      "metadata": {
        "id": "vEe9zgBgJ7Ou",
        "colab_type": "code",
        "colab": {}
      },
      "source": [
        "oregon4 = pd.merge(oregon3, o4, on='Date')"
      ],
      "execution_count": null,
      "outputs": []
    },
    {
      "cell_type": "code",
      "metadata": {
        "id": "667duZEwKGQK",
        "colab_type": "code",
        "colab": {}
      },
      "source": [
        "oregon5 = pd.merge(oregon4, o5, on='Date')"
      ],
      "execution_count": null,
      "outputs": []
    },
    {
      "cell_type": "code",
      "metadata": {
        "id": "rD3GD5RCKQFx",
        "colab_type": "code",
        "colab": {
          "base_uri": "https://localhost:8080/",
          "height": 705
        },
        "outputId": "11d8787b-6ef3-4fac-efd3-d5751df5f2fe"
      },
      "source": [
        "oregon6 = pd.merge(oregon5, oregon_estate, on='Date')\n",
        "oregon6"
      ],
      "execution_count": null,
      "outputs": [
        {
          "output_type": "execute_result",
          "data": {
            "text/html": [
              "<div>\n",
              "<style scoped>\n",
              "    .dataframe tbody tr th:only-of-type {\n",
              "        vertical-align: middle;\n",
              "    }\n",
              "\n",
              "    .dataframe tbody tr th {\n",
              "        vertical-align: top;\n",
              "    }\n",
              "\n",
              "    .dataframe thead th {\n",
              "        text-align: right;\n",
              "    }\n",
              "</style>\n",
              "<table border=\"1\" class=\"dataframe\">\n",
              "  <thead>\n",
              "    <tr style=\"text-align: right;\">\n",
              "      <th></th>\n",
              "      <th>Oregon Total Government Provided Value</th>\n",
              "      <th>Oregon  Total Nonfarm Provided Value</th>\n",
              "      <th>Oregon Total Private Provided Value</th>\n",
              "      <th>Oregon Total Goods Produced Provided Value</th>\n",
              "      <th>Oregon Total Service Provided Value</th>\n",
              "      <th>Oregon Total Mining &amp; Logging Provided Value</th>\n",
              "      <th>Oregon Total Manufacture Provided Value</th>\n",
              "      <th>Oregon Total Durable Goods Provided Value</th>\n",
              "      <th>Oregon Wholesale Trade Provided Value</th>\n",
              "      <th>Oregon Total Transportation &amp; Utilities Provided Value</th>\n",
              "      <th>Oregon Total Truck Transportation Provided Value</th>\n",
              "      <th>Oregon Total Telecommunication Provided Value</th>\n",
              "      <th>Oregon Total Real Estate Provided Value</th>\n",
              "    </tr>\n",
              "    <tr>\n",
              "      <th>Date</th>\n",
              "      <th></th>\n",
              "      <th></th>\n",
              "      <th></th>\n",
              "      <th></th>\n",
              "      <th></th>\n",
              "      <th></th>\n",
              "      <th></th>\n",
              "      <th></th>\n",
              "      <th></th>\n",
              "      <th></th>\n",
              "      <th></th>\n",
              "      <th></th>\n",
              "      <th></th>\n",
              "    </tr>\n",
              "  </thead>\n",
              "  <tbody>\n",
              "    <tr>\n",
              "      <th>2006-01-31</th>\n",
              "      <td>284.5</td>\n",
              "      <td>1647.7</td>\n",
              "      <td>1363.2</td>\n",
              "      <td>302.1</td>\n",
              "      <td>1345.6</td>\n",
              "      <td>8.6</td>\n",
              "      <td>202.2</td>\n",
              "      <td>202.2</td>\n",
              "      <td>72.1</td>\n",
              "      <td>57.3</td>\n",
              "      <td>19.2</td>\n",
              "      <td>7.8</td>\n",
              "      <td>33.3</td>\n",
              "    </tr>\n",
              "    <tr>\n",
              "      <th>2006-02-28</th>\n",
              "      <td>290.6</td>\n",
              "      <td>1664.7</td>\n",
              "      <td>1374.1</td>\n",
              "      <td>305.2</td>\n",
              "      <td>1359.5</td>\n",
              "      <td>8.8</td>\n",
              "      <td>203.1</td>\n",
              "      <td>203.1</td>\n",
              "      <td>72.9</td>\n",
              "      <td>57.7</td>\n",
              "      <td>19.2</td>\n",
              "      <td>7.8</td>\n",
              "      <td>33.5</td>\n",
              "    </tr>\n",
              "    <tr>\n",
              "      <th>2006-03-31</th>\n",
              "      <td>292.1</td>\n",
              "      <td>1677.7</td>\n",
              "      <td>1385.6</td>\n",
              "      <td>307.8</td>\n",
              "      <td>1369.9</td>\n",
              "      <td>8.7</td>\n",
              "      <td>204.4</td>\n",
              "      <td>204.4</td>\n",
              "      <td>73.0</td>\n",
              "      <td>57.8</td>\n",
              "      <td>19.3</td>\n",
              "      <td>7.7</td>\n",
              "      <td>34.0</td>\n",
              "    </tr>\n",
              "    <tr>\n",
              "      <th>2006-04-30</th>\n",
              "      <td>291.2</td>\n",
              "      <td>1690.1</td>\n",
              "      <td>1398.9</td>\n",
              "      <td>310.9</td>\n",
              "      <td>1379.2</td>\n",
              "      <td>8.8</td>\n",
              "      <td>204.9</td>\n",
              "      <td>204.9</td>\n",
              "      <td>73.1</td>\n",
              "      <td>57.8</td>\n",
              "      <td>19.4</td>\n",
              "      <td>7.7</td>\n",
              "      <td>34.4</td>\n",
              "    </tr>\n",
              "    <tr>\n",
              "      <th>2006-05-31</th>\n",
              "      <td>295.1</td>\n",
              "      <td>1706.9</td>\n",
              "      <td>1411.8</td>\n",
              "      <td>314.8</td>\n",
              "      <td>1392.1</td>\n",
              "      <td>9.1</td>\n",
              "      <td>205.5</td>\n",
              "      <td>205.5</td>\n",
              "      <td>73.7</td>\n",
              "      <td>58.2</td>\n",
              "      <td>19.6</td>\n",
              "      <td>7.7</td>\n",
              "      <td>34.9</td>\n",
              "    </tr>\n",
              "    <tr>\n",
              "      <th>...</th>\n",
              "      <td>...</td>\n",
              "      <td>...</td>\n",
              "      <td>...</td>\n",
              "      <td>...</td>\n",
              "      <td>...</td>\n",
              "      <td>...</td>\n",
              "      <td>...</td>\n",
              "      <td>...</td>\n",
              "      <td>...</td>\n",
              "      <td>...</td>\n",
              "      <td>...</td>\n",
              "      <td>...</td>\n",
              "      <td>...</td>\n",
              "    </tr>\n",
              "    <tr>\n",
              "      <th>2020-03-31</th>\n",
              "      <td>307.7</td>\n",
              "      <td>1931.4</td>\n",
              "      <td>1623.7</td>\n",
              "      <td>306.2</td>\n",
              "      <td>1625.2</td>\n",
              "      <td>6.5</td>\n",
              "      <td>192.5</td>\n",
              "      <td>192.5</td>\n",
              "      <td>76.7</td>\n",
              "      <td>70.6</td>\n",
              "      <td>18.0</td>\n",
              "      <td>5.1</td>\n",
              "      <td>40.0</td>\n",
              "    </tr>\n",
              "    <tr>\n",
              "      <th>2020-04-30</th>\n",
              "      <td>293.8</td>\n",
              "      <td>1690.0</td>\n",
              "      <td>1396.2</td>\n",
              "      <td>285.5</td>\n",
              "      <td>1404.5</td>\n",
              "      <td>5.9</td>\n",
              "      <td>182.0</td>\n",
              "      <td>182.0</td>\n",
              "      <td>73.8</td>\n",
              "      <td>66.5</td>\n",
              "      <td>17.6</td>\n",
              "      <td>5.0</td>\n",
              "      <td>36.3</td>\n",
              "    </tr>\n",
              "    <tr>\n",
              "      <th>2020-05-31</th>\n",
              "      <td>287.1</td>\n",
              "      <td>1723.6</td>\n",
              "      <td>1436.5</td>\n",
              "      <td>289.5</td>\n",
              "      <td>1434.1</td>\n",
              "      <td>6.0</td>\n",
              "      <td>178.6</td>\n",
              "      <td>178.6</td>\n",
              "      <td>76.3</td>\n",
              "      <td>66.6</td>\n",
              "      <td>16.9</td>\n",
              "      <td>5.0</td>\n",
              "      <td>37.5</td>\n",
              "    </tr>\n",
              "    <tr>\n",
              "      <th>2020-06-30</th>\n",
              "      <td>285.4</td>\n",
              "      <td>1787.2</td>\n",
              "      <td>1501.8</td>\n",
              "      <td>296.9</td>\n",
              "      <td>1490.3</td>\n",
              "      <td>6.1</td>\n",
              "      <td>183.1</td>\n",
              "      <td>183.1</td>\n",
              "      <td>76.3</td>\n",
              "      <td>67.1</td>\n",
              "      <td>17.0</td>\n",
              "      <td>4.9</td>\n",
              "      <td>39.1</td>\n",
              "    </tr>\n",
              "    <tr>\n",
              "      <th>2020-07-31</th>\n",
              "      <td>261.6</td>\n",
              "      <td>1790.9</td>\n",
              "      <td>1529.3</td>\n",
              "      <td>299.5</td>\n",
              "      <td>1491.4</td>\n",
              "      <td>6.2</td>\n",
              "      <td>183.8</td>\n",
              "      <td>183.8</td>\n",
              "      <td>76.5</td>\n",
              "      <td>68.3</td>\n",
              "      <td>17.4</td>\n",
              "      <td>5.0</td>\n",
              "      <td>38.8</td>\n",
              "    </tr>\n",
              "  </tbody>\n",
              "</table>\n",
              "<p>175 rows × 13 columns</p>\n",
              "</div>"
            ],
            "text/plain": [
              "            Oregon Total Government Provided Value  ...  Oregon Total Real Estate Provided Value\n",
              "Date                                                ...                                         \n",
              "2006-01-31                                   284.5  ...                                     33.3\n",
              "2006-02-28                                   290.6  ...                                     33.5\n",
              "2006-03-31                                   292.1  ...                                     34.0\n",
              "2006-04-30                                   291.2  ...                                     34.4\n",
              "2006-05-31                                   295.1  ...                                     34.9\n",
              "...                                            ...  ...                                      ...\n",
              "2020-03-31                                   307.7  ...                                     40.0\n",
              "2020-04-30                                   293.8  ...                                     36.3\n",
              "2020-05-31                                   287.1  ...                                     37.5\n",
              "2020-06-30                                   285.4  ...                                     39.1\n",
              "2020-07-31                                   261.6  ...                                     38.8\n",
              "\n",
              "[175 rows x 13 columns]"
            ]
          },
          "metadata": {
            "tags": []
          },
          "execution_count": 641
        }
      ]
    },
    {
      "cell_type": "code",
      "metadata": {
        "id": "dbIY8PFnKnq4",
        "colab_type": "code",
        "colab": {}
      },
      "source": [
        ""
      ],
      "execution_count": null,
      "outputs": []
    },
    {
      "cell_type": "markdown",
      "metadata": {
        "id": "kppH8bITKse8",
        "colab_type": "text"
      },
      "source": [
        "# Oklahoma"
      ]
    },
    {
      "cell_type": "code",
      "metadata": {
        "id": "hwSs0onXK2HR",
        "colab_type": "code",
        "colab": {}
      },
      "source": [
        "#All Employees, In Thousands; Total Government Providing -Rhode Island \n",
        "okla_gov = quandl.get(\"BLSE/SMU40000009000000001\", start_date=\"2000-01-01\", end_date=\"2020-08-01\")\n",
        "okla_gov.columns= ['Oklahoma Total Government Provided Value']"
      ],
      "execution_count": null,
      "outputs": []
    },
    {
      "cell_type": "code",
      "metadata": {
        "id": "G98DVz2pLtTP",
        "colab_type": "code",
        "colab": {}
      },
      "source": [
        "#All Employees, In Thousands; Total Nonfarm Providing -Rhode Island\n",
        "okla_nonfarm = quandl.get(\"BLSE/SMU40000000000000001\", start_date=\"2000-01-01\", end_date=\"2020-08-01\")\n",
        "okla_nonfarm.columns= ['Oklahoma Total Nonfarm Provided Value']"
      ],
      "execution_count": null,
      "outputs": []
    },
    {
      "cell_type": "code",
      "metadata": {
        "id": "FNPJMLexLxF3",
        "colab_type": "code",
        "colab": {}
      },
      "source": [
        "#All Employees, In Thousands; Total Private Providing -South Carolina\n",
        "okla_priv = quandl.get(\"BLSE/SMU40000000500000001\", start_date=\"2000-01-01\", end_date=\"2020-08-01\")\n",
        "okla_priv.columns= ['Oklahoma Total Private Provided Value']"
      ],
      "execution_count": null,
      "outputs": []
    },
    {
      "cell_type": "code",
      "metadata": {
        "id": "9Z86jTMDLw6G",
        "colab_type": "code",
        "colab": {}
      },
      "source": [
        "#All Employees, In Thousands; Total Goods Producing Providing -South Carolina\n",
        "okla_goods = quandl.get(\"BLSE/SMU40000000600000001\", start_date=\"2000-01-01\", end_date=\"2020-08-01\")\n",
        "okla_goods.columns= ['Oklahoma Total Goods Produced Provided Value']"
      ],
      "execution_count": null,
      "outputs": []
    },
    {
      "cell_type": "code",
      "metadata": {
        "id": "VfHMS5LuLwwa",
        "colab_type": "code",
        "colab": {}
      },
      "source": [
        "#All Employees, In Thousands; Total Service Providing -South Carolina\n",
        "okla_serv = quandl.get(\"BLSE/SMU40000000700000001\", start_date=\"2000-01-01\", end_date=\"2020-08-01\")\n",
        "okla_serv.columns= ['Oklahoma Total Service Provided Value']"
      ],
      "execution_count": null,
      "outputs": []
    },
    {
      "cell_type": "code",
      "metadata": {
        "id": "iSqWyKMeLwja",
        "colab_type": "code",
        "colab": {}
      },
      "source": [
        "#All Employees, In Thousands; Total Mining & Logging Providing -South Carolina\n",
        "okla_mine = quandl.get(\"BLSE/SMU40000001000000001\", start_date=\"2000-01-01\", end_date=\"2020-08-01\")\n",
        "okla_mine.columns= ['Oklahoma Total Mining & Logging Provided Value']"
      ],
      "execution_count": null,
      "outputs": []
    },
    {
      "cell_type": "code",
      "metadata": {
        "id": "UeloK_paLwIS",
        "colab_type": "code",
        "colab": {}
      },
      "source": [
        "#All Employees, In Thousands; Total Manufacture Providing -South Carolina\n",
        "okla_manu = quandl.get(\"BLSE/SMU40000003000000001\", start_date=\"2000-01-01\", end_date=\"2020-08-01\")\n",
        "okla_manu.columns= ['Oklahoma Total Manufacture Provided Value']"
      ],
      "execution_count": null,
      "outputs": []
    },
    {
      "cell_type": "code",
      "metadata": {
        "id": "_vpO1n3bLv2X",
        "colab_type": "code",
        "colab": {}
      },
      "source": [
        "#All Employees, In Thousands; Total Durable Goods Providing -South Carolina\n",
        "okla_durable = quandl.get(\"BLSE/SMU40000003000000001\", start_date=\"2000-01-01\", end_date=\"2020-08-01\")\n",
        "okla_durable.columns= ['Oklahoma Total Durable Goods Provided Value']"
      ],
      "execution_count": null,
      "outputs": []
    },
    {
      "cell_type": "code",
      "metadata": {
        "id": "I9YRYxm6Lvlh",
        "colab_type": "code",
        "colab": {}
      },
      "source": [
        "#All Employees, In Thousands; Total Wholesale Trade Providing -South Carolina\n",
        "okla_wholesale = quandl.get(\"BLSE/SMU40000004100000001\", start_date=\"2000-01-01\", end_date=\"2020-08-01\")\n",
        "okla_wholesale.columns= ['Oklahoma Wholesale Trade Provided Value']"
      ],
      "execution_count": null,
      "outputs": []
    },
    {
      "cell_type": "code",
      "metadata": {
        "id": "A8u3NXvFOg3O",
        "colab_type": "code",
        "colab": {}
      },
      "source": [
        "#All Employees, In Thousands; Total Transportation & Utilities Providing -South Carolina\n",
        "okla_transutil = quandl.get(\"BLSE/SMU40000004300000001\", start_date=\"2000-01-01\", end_date=\"2020-08-01\")\n",
        "okla_transutil.columns= ['Oklahoma Total Transportation & Utilities Provided Value']"
      ],
      "execution_count": null,
      "outputs": []
    },
    {
      "cell_type": "code",
      "metadata": {
        "id": "Q1aKNg6ZLva4",
        "colab_type": "code",
        "colab": {}
      },
      "source": [
        "#All Employees, In Thousands; Total Truck Transportation Providing -South Carolina\n",
        "okla_truck = quandl.get(\"BLSE/SMU40000004348400001\", start_date=\"2000-01-01\", end_date=\"2020-08-01\")\n",
        "okla_truck.columns= ['Oklahoma Total Truck Transportation Provided Value']"
      ],
      "execution_count": null,
      "outputs": []
    },
    {
      "cell_type": "code",
      "metadata": {
        "id": "-9YMw1t0LvGP",
        "colab_type": "code",
        "colab": {}
      },
      "source": [
        "#All Employees, In Thousands; Total Telecommunications Transportation Providing -South Carolina\n",
        "okla_telecom = quandl.get(\"BLSE/SMU40000005051700001\", start_date=\"2000-01-01\", end_date=\"2020-08-01\")\n",
        "okla_telecom.columns= ['Oklahoma Total Telecommunication Provided Value']"
      ],
      "execution_count": null,
      "outputs": []
    },
    {
      "cell_type": "code",
      "metadata": {
        "id": "4kiz3MvFPVw6",
        "colab_type": "code",
        "colab": {}
      },
      "source": [
        "#All Employees, In Thousands; Total Real Estate Transportation Providing -South Carolina\n",
        "okla_estate = quandl.get(\"BLSE/SMU40000005553100001\", start_date=\"2000-01-01\", end_date=\"2020-08-01\")\n",
        "okla_estate.columns= ['Oklahoma Total Real Estate Provided Value']"
      ],
      "execution_count": null,
      "outputs": []
    },
    {
      "cell_type": "code",
      "metadata": {
        "id": "93dxBX27PmEx",
        "colab_type": "code",
        "colab": {}
      },
      "source": [
        ""
      ],
      "execution_count": null,
      "outputs": []
    },
    {
      "cell_type": "code",
      "metadata": {
        "id": "0g6rmLn6Pl8v",
        "colab_type": "code",
        "colab": {}
      },
      "source": [
        ""
      ],
      "execution_count": null,
      "outputs": []
    },
    {
      "cell_type": "code",
      "metadata": {
        "id": "xOM87mU1Pl2P",
        "colab_type": "code",
        "colab": {}
      },
      "source": [
        "okla5 = pd.merge(okla_truck, okla_telecom, on='Date')"
      ],
      "execution_count": null,
      "outputs": []
    },
    {
      "cell_type": "code",
      "metadata": {
        "id": "OOKE0KrjPlwN",
        "colab_type": "code",
        "colab": {}
      },
      "source": [
        "okla4 = pd.merge(okla_wholesale, okla_transutil, on='Date')"
      ],
      "execution_count": null,
      "outputs": []
    },
    {
      "cell_type": "code",
      "metadata": {
        "id": "da4TQr2XPlp5",
        "colab_type": "code",
        "colab": {}
      },
      "source": [
        "okla3 = pd.merge(okla_manu, okla_durable, on='Date')"
      ],
      "execution_count": null,
      "outputs": []
    },
    {
      "cell_type": "code",
      "metadata": {
        "id": "WUgCX_4rPljy",
        "colab_type": "code",
        "colab": {}
      },
      "source": [
        "okla2 = pd.merge(okla_serv, okla_mine, on='Date')"
      ],
      "execution_count": null,
      "outputs": []
    },
    {
      "cell_type": "code",
      "metadata": {
        "id": "VNhpaRG5Plc3",
        "colab_type": "code",
        "colab": {}
      },
      "source": [
        "okla1 = pd.merge(okla_priv, okla_goods, on='Date')"
      ],
      "execution_count": null,
      "outputs": []
    },
    {
      "cell_type": "code",
      "metadata": {
        "id": "7iFdaGw6PlWQ",
        "colab_type": "code",
        "colab": {}
      },
      "source": [
        "oklahoma = pd.merge(okla_gov, okla_nonfarm, on='Date')"
      ],
      "execution_count": null,
      "outputs": []
    },
    {
      "cell_type": "code",
      "metadata": {
        "id": "TYDQuGoqLu1m",
        "colab_type": "code",
        "colab": {}
      },
      "source": [
        "oklahoma1 = pd.merge(oklahoma, okla1, on='Date')"
      ],
      "execution_count": null,
      "outputs": []
    },
    {
      "cell_type": "code",
      "metadata": {
        "id": "3hvGf6o8Lt_b",
        "colab_type": "code",
        "colab": {}
      },
      "source": [
        "oklahoma2 = pd.merge(oklahoma1, okla2, on='Date')"
      ],
      "execution_count": null,
      "outputs": []
    },
    {
      "cell_type": "code",
      "metadata": {
        "id": "DYqrxtljQlYD",
        "colab_type": "code",
        "colab": {}
      },
      "source": [
        "oklahoma3 = pd.merge(oklahoma2, okla3, on='Date')"
      ],
      "execution_count": null,
      "outputs": []
    },
    {
      "cell_type": "code",
      "metadata": {
        "id": "-yF9oclHQt01",
        "colab_type": "code",
        "colab": {}
      },
      "source": [
        "oklahoma4 = pd.merge(oklahoma3, okla4, on='Date')"
      ],
      "execution_count": null,
      "outputs": []
    },
    {
      "cell_type": "code",
      "metadata": {
        "id": "YZjXVEYAQmE9",
        "colab_type": "code",
        "colab": {
          "base_uri": "https://localhost:8080/",
          "height": 688
        },
        "outputId": "4a8eacee-8a0a-4647-8b6c-0497cbce7ec7"
      },
      "source": [
        "oklahoma5 = pd.merge(oklahoma4, okla5, on='Date')\n",
        "oklahoma5"
      ],
      "execution_count": null,
      "outputs": [
        {
          "output_type": "execute_result",
          "data": {
            "text/html": [
              "<div>\n",
              "<style scoped>\n",
              "    .dataframe tbody tr th:only-of-type {\n",
              "        vertical-align: middle;\n",
              "    }\n",
              "\n",
              "    .dataframe tbody tr th {\n",
              "        vertical-align: top;\n",
              "    }\n",
              "\n",
              "    .dataframe thead th {\n",
              "        text-align: right;\n",
              "    }\n",
              "</style>\n",
              "<table border=\"1\" class=\"dataframe\">\n",
              "  <thead>\n",
              "    <tr style=\"text-align: right;\">\n",
              "      <th></th>\n",
              "      <th>Oklahoma Total Government Provided Value</th>\n",
              "      <th>Oklahoma Total Nonfarm Provided Value</th>\n",
              "      <th>Oklahoma Total Private Provided Value</th>\n",
              "      <th>Oklahoma Total Goods Produced Provided Value</th>\n",
              "      <th>Oklahoma Total Service Provided Value</th>\n",
              "      <th>Oklahoma Total Mining &amp; Logging Provided Value</th>\n",
              "      <th>Oklahoma Total Manufacture Provided Value</th>\n",
              "      <th>Oklahoma Total Durable Goods Provided Value</th>\n",
              "      <th>Oklahoma Wholesale Trade Provided Value</th>\n",
              "      <th>Oklahoma Total Transportation &amp; Utilities Provided Value</th>\n",
              "      <th>Oklahoma Total Truck Transportation Provided Value</th>\n",
              "      <th>Oregon Total Telecommunication Provided Value</th>\n",
              "    </tr>\n",
              "    <tr>\n",
              "      <th>Date</th>\n",
              "      <th></th>\n",
              "      <th></th>\n",
              "      <th></th>\n",
              "      <th></th>\n",
              "      <th></th>\n",
              "      <th></th>\n",
              "      <th></th>\n",
              "      <th></th>\n",
              "      <th></th>\n",
              "      <th></th>\n",
              "      <th></th>\n",
              "      <th></th>\n",
              "    </tr>\n",
              "  </thead>\n",
              "  <tbody>\n",
              "    <tr>\n",
              "      <th>2006-01-31</th>\n",
              "      <td>323.3</td>\n",
              "      <td>1529.1</td>\n",
              "      <td>1205.8</td>\n",
              "      <td>261.3</td>\n",
              "      <td>1267.8</td>\n",
              "      <td>38.5</td>\n",
              "      <td>155.1</td>\n",
              "      <td>155.1</td>\n",
              "      <td>55.0</td>\n",
              "      <td>47.8</td>\n",
              "      <td>17.6</td>\n",
              "      <td>15.6</td>\n",
              "    </tr>\n",
              "    <tr>\n",
              "      <th>2006-02-28</th>\n",
              "      <td>331.4</td>\n",
              "      <td>1543.2</td>\n",
              "      <td>1211.8</td>\n",
              "      <td>262.8</td>\n",
              "      <td>1280.4</td>\n",
              "      <td>39.3</td>\n",
              "      <td>155.4</td>\n",
              "      <td>155.4</td>\n",
              "      <td>55.3</td>\n",
              "      <td>47.9</td>\n",
              "      <td>17.8</td>\n",
              "      <td>15.4</td>\n",
              "    </tr>\n",
              "    <tr>\n",
              "      <th>2006-03-31</th>\n",
              "      <td>332.9</td>\n",
              "      <td>1559.7</td>\n",
              "      <td>1226.8</td>\n",
              "      <td>266.1</td>\n",
              "      <td>1293.6</td>\n",
              "      <td>40.1</td>\n",
              "      <td>156.3</td>\n",
              "      <td>156.3</td>\n",
              "      <td>55.8</td>\n",
              "      <td>48.1</td>\n",
              "      <td>18.0</td>\n",
              "      <td>15.4</td>\n",
              "    </tr>\n",
              "    <tr>\n",
              "      <th>2006-04-30</th>\n",
              "      <td>332.2</td>\n",
              "      <td>1559.4</td>\n",
              "      <td>1227.2</td>\n",
              "      <td>264.1</td>\n",
              "      <td>1295.3</td>\n",
              "      <td>40.8</td>\n",
              "      <td>153.7</td>\n",
              "      <td>153.7</td>\n",
              "      <td>55.7</td>\n",
              "      <td>48.7</td>\n",
              "      <td>18.4</td>\n",
              "      <td>14.3</td>\n",
              "    </tr>\n",
              "    <tr>\n",
              "      <th>2006-05-31</th>\n",
              "      <td>335.2</td>\n",
              "      <td>1573.3</td>\n",
              "      <td>1238.1</td>\n",
              "      <td>267.1</td>\n",
              "      <td>1306.2</td>\n",
              "      <td>41.4</td>\n",
              "      <td>155.6</td>\n",
              "      <td>155.6</td>\n",
              "      <td>56.4</td>\n",
              "      <td>49.3</td>\n",
              "      <td>18.7</td>\n",
              "      <td>14.3</td>\n",
              "    </tr>\n",
              "    <tr>\n",
              "      <th>...</th>\n",
              "      <td>...</td>\n",
              "      <td>...</td>\n",
              "      <td>...</td>\n",
              "      <td>...</td>\n",
              "      <td>...</td>\n",
              "      <td>...</td>\n",
              "      <td>...</td>\n",
              "      <td>...</td>\n",
              "      <td>...</td>\n",
              "      <td>...</td>\n",
              "      <td>...</td>\n",
              "      <td>...</td>\n",
              "    </tr>\n",
              "    <tr>\n",
              "      <th>2020-03-31</th>\n",
              "      <td>362.3</td>\n",
              "      <td>1680.9</td>\n",
              "      <td>1318.6</td>\n",
              "      <td>256.8</td>\n",
              "      <td>1424.1</td>\n",
              "      <td>42.1</td>\n",
              "      <td>135.4</td>\n",
              "      <td>135.4</td>\n",
              "      <td>57.5</td>\n",
              "      <td>67.4</td>\n",
              "      <td>20.2</td>\n",
              "      <td>8.7</td>\n",
              "    </tr>\n",
              "    <tr>\n",
              "      <th>2020-04-30</th>\n",
              "      <td>351.1</td>\n",
              "      <td>1561.5</td>\n",
              "      <td>1210.4</td>\n",
              "      <td>245.6</td>\n",
              "      <td>1315.9</td>\n",
              "      <td>38.7</td>\n",
              "      <td>131.9</td>\n",
              "      <td>131.9</td>\n",
              "      <td>54.6</td>\n",
              "      <td>65.5</td>\n",
              "      <td>19.2</td>\n",
              "      <td>8.7</td>\n",
              "    </tr>\n",
              "    <tr>\n",
              "      <th>2020-05-31</th>\n",
              "      <td>342.7</td>\n",
              "      <td>1587.8</td>\n",
              "      <td>1245.1</td>\n",
              "      <td>241.0</td>\n",
              "      <td>1346.8</td>\n",
              "      <td>36.1</td>\n",
              "      <td>129.3</td>\n",
              "      <td>129.3</td>\n",
              "      <td>53.4</td>\n",
              "      <td>64.4</td>\n",
              "      <td>18.7</td>\n",
              "      <td>8.7</td>\n",
              "    </tr>\n",
              "    <tr>\n",
              "      <th>2020-06-30</th>\n",
              "      <td>334.2</td>\n",
              "      <td>1612.3</td>\n",
              "      <td>1278.1</td>\n",
              "      <td>239.2</td>\n",
              "      <td>1373.1</td>\n",
              "      <td>34.5</td>\n",
              "      <td>128.3</td>\n",
              "      <td>128.3</td>\n",
              "      <td>54.1</td>\n",
              "      <td>64.3</td>\n",
              "      <td>18.3</td>\n",
              "      <td>8.7</td>\n",
              "    </tr>\n",
              "    <tr>\n",
              "      <th>2020-07-31</th>\n",
              "      <td>327.2</td>\n",
              "      <td>1602.1</td>\n",
              "      <td>1274.9</td>\n",
              "      <td>238.7</td>\n",
              "      <td>1363.4</td>\n",
              "      <td>34.1</td>\n",
              "      <td>127.3</td>\n",
              "      <td>127.3</td>\n",
              "      <td>53.1</td>\n",
              "      <td>63.3</td>\n",
              "      <td>18.1</td>\n",
              "      <td>8.7</td>\n",
              "    </tr>\n",
              "  </tbody>\n",
              "</table>\n",
              "<p>175 rows × 12 columns</p>\n",
              "</div>"
            ],
            "text/plain": [
              "            Oklahoma Total Government Provided Value  ...  Oregon Total Telecommunication Provided Value\n",
              "Date                                                  ...                                               \n",
              "2006-01-31                                     323.3  ...                                           15.6\n",
              "2006-02-28                                     331.4  ...                                           15.4\n",
              "2006-03-31                                     332.9  ...                                           15.4\n",
              "2006-04-30                                     332.2  ...                                           14.3\n",
              "2006-05-31                                     335.2  ...                                           14.3\n",
              "...                                              ...  ...                                            ...\n",
              "2020-03-31                                     362.3  ...                                            8.7\n",
              "2020-04-30                                     351.1  ...                                            8.7\n",
              "2020-05-31                                     342.7  ...                                            8.7\n",
              "2020-06-30                                     334.2  ...                                            8.7\n",
              "2020-07-31                                     327.2  ...                                            8.7\n",
              "\n",
              "[175 rows x 12 columns]"
            ]
          },
          "metadata": {
            "tags": []
          },
          "execution_count": 633
        }
      ]
    },
    {
      "cell_type": "code",
      "metadata": {
        "id": "VEDQMX1TIVuy",
        "colab_type": "code",
        "colab": {}
      },
      "source": [
        "# --------------------------------"
      ],
      "execution_count": null,
      "outputs": []
    },
    {
      "cell_type": "code",
      "metadata": {
        "id": "B2IYrnRwIVrr",
        "colab_type": "code",
        "colab": {}
      },
      "source": [
        ""
      ],
      "execution_count": null,
      "outputs": []
    },
    {
      "cell_type": "code",
      "metadata": {
        "id": "SNmNGuImIVlu",
        "colab_type": "code",
        "colab": {}
      },
      "source": [
        ""
      ],
      "execution_count": null,
      "outputs": []
    },
    {
      "cell_type": "code",
      "metadata": {
        "id": "r8e7MerQ0QED",
        "colab_type": "code",
        "colab": {}
      },
      "source": [
        "ata = quandl.get(\"FRED/GDP\", start_date=\"2001-12-31\", end_date=\"2020-12-31\")\n",
        "ata"
      ],
      "execution_count": null,
      "outputs": []
    },
    {
      "cell_type": "code",
      "metadata": {
        "id": "hkXLX5Vz1DN6",
        "colab_type": "code",
        "colab": {}
      },
      "source": [
        "data = quandl.get_table('MER/F1', paginate=True)\n",
        "data"
      ],
      "execution_count": null,
      "outputs": []
    },
    {
      "cell_type": "code",
      "metadata": {
        "id": "xS1dE3bMduoW",
        "colab_type": "code",
        "colab": {}
      },
      "source": [
        "def qcewCreateDataRows(csv):\n",
        "    dataRows = []\n",
        "    try: dataLines = csv.decode().split('\\r\\n')\n",
        "    except er: dataLines = csv.split('\\r\\n');\n",
        "    for row in dataLines:\n",
        "        dataRows.append(row.split(','))\n",
        "    return dataRows\n"
      ],
      "execution_count": null,
      "outputs": []
    },
    {
      "cell_type": "code",
      "metadata": {
        "id": "GIF9xxbeUYbl",
        "colab_type": "code",
        "colab": {}
      },
      "source": [
        "#All Employees, In Thousands; Durable Goods - Kentucky\n",
        "kentucky_durable = quandl.get(\"BLSE/SMS21000003100000001\", start_date=\"2000-01-01\", end_date=\"2020-08-01\")\n",
        "kentucky_durable\n",
        "kentucky_durable.rename(columns= {'Value' : ' Kentucky Durable Goods Value'})\n"
      ],
      "execution_count": null,
      "outputs": []
    },
    {
      "cell_type": "code",
      "metadata": {
        "id": "Hgvfy3grd2Fg",
        "colab_type": "code",
        "colab": {}
      },
      "source": [
        "def qcewGetAreaData(year,qtr,area):\n",
        "    urlPath = \"http://data.bls.gov/cew/data/api/[YEAR]/[QTR]/area/[AREA].csv\"\n",
        "    urlPath = urlPath.replace(\"[YEAR]\",year)\n",
        "    urlPath = urlPath.replace(\"[QTR]\",qtr.lower())\n",
        "    urlPath = urlPath.replace(\"[AREA]\",area.upper())\n",
        "    httpStream = urllib.request.urlopen(urlPath)\n",
        "    csv = httpStream.read()\n",
        "    httpStream.close()\n",
        "    return qcewCreateDataRows(csv)"
      ],
      "execution_count": null,
      "outputs": []
    },
    {
      "cell_type": "code",
      "metadata": {
        "id": "r3FNKcUueCJ5",
        "colab_type": "code",
        "colab": {}
      },
      "source": [
        "def qcewGetIndustryData(year,qtr,industry):\n",
        "    urlPath = \"http://data.bls.gov/cew/data/api/[YEAR]/[QTR]/industry/[IND].csv\"\n",
        "    urlPath = urlPath.replace(\"[YEAR]\",year)\n",
        "    urlPath = urlPath.replace(\"[QTR]\",qtr.lower())\n",
        "    urlPath = urlPath.replace(\"[IND]\",industry)\n",
        "    httpStream = urllib.request.urlopen(urlPath)\n",
        "    csv = httpStream.read()\n",
        "    httpStream.close()\n",
        "    return qcewCreateDataRows(csv)"
      ],
      "execution_count": null,
      "outputs": []
    },
    {
      "cell_type": "code",
      "metadata": {
        "id": "S_U2pH0XeHvw",
        "colab_type": "code",
        "colab": {}
      },
      "source": [
        "def qcewGetSizeData(year,size):\n",
        "    urlPath = \"http://data.bls.gov/cew/data/api/[YEAR]/1/size/[SIZE].csv\"\n",
        "    urlPath = urlPath.replace(\"[YEAR]\",year)\n",
        "    urlPath = urlPath.replace(\"[SIZE]\",size)\n",
        "    httpStream = urllib.request.urlopen(urlPath)\n",
        "    csv = httpStream.read()\n",
        "    httpStream.close()\n",
        "    return qcewCreateDataRows(csv)"
      ],
      "execution_count": null,
      "outputs": []
    },
    {
      "cell_type": "code",
      "metadata": {
        "id": "Yr2e8dAweMJX",
        "colab_type": "code",
        "colab": {}
      },
      "source": [
        "Michigan_Data = qcewGetAreaData(\"2015\",\"1\",\"26000\")\n",
        "Auto_Manufacturing = qcewGetIndustryData(\"2015\",\"1\",\"3361\")\n",
        "SizeData = qcewGetSizeData(\"2015\",\"6\")"
      ],
      "execution_count": null,
      "outputs": []
    },
    {
      "cell_type": "code",
      "metadata": {
        "id": "-Jutjvn4isKa",
        "colab_type": "code",
        "colab": {}
      },
      "source": [
        "print(Michigan_Data[5][2])"
      ],
      "execution_count": null,
      "outputs": []
    },
    {
      "cell_type": "code",
      "metadata": {
        "id": "s983wZd1isIF",
        "colab_type": "code",
        "colab": {}
      },
      "source": [
        "# prints the area_fips in row 1.\n",
        "# remember row zero contains field names\n",
        "print(Auto_Manufacturing[1][0])"
      ],
      "execution_count": null,
      "outputs": []
    },
    {
      "cell_type": "code",
      "metadata": {
        "id": "p7owtujJisF-",
        "colab_type": "code",
        "colab": {}
      },
      "source": [
        "# prints the own_code in row 1.\n",
        "# remember row zero contains field names\n",
        "print(SizeData[1][1])"
      ],
      "execution_count": null,
      "outputs": []
    },
    {
      "cell_type": "code",
      "metadata": {
        "id": "8fe7XyJBisEG",
        "colab_type": "code",
        "colab": {}
      },
      "source": [
        ""
      ],
      "execution_count": null,
      "outputs": []
    },
    {
      "cell_type": "code",
      "metadata": {
        "id": "KWAWdShgir7b",
        "colab_type": "code",
        "colab": {}
      },
      "source": [
        ""
      ],
      "execution_count": null,
      "outputs": []
    },
    {
      "cell_type": "code",
      "metadata": {
        "id": "ZIUWoNvZ4qk1",
        "colab_type": "code",
        "colab": {}
      },
      "source": [
        "pip install -U blsconnect"
      ],
      "execution_count": null,
      "outputs": []
    },
    {
      "cell_type": "code",
      "metadata": {
        "id": "Qwppp2al4NJJ",
        "colab_type": "code",
        "colab": {}
      },
      "source": [
        "api_key = 'd7c0ebba465a4848afbcfb17a9238452'"
      ],
      "execution_count": null,
      "outputs": []
    },
    {
      "cell_type": "code",
      "metadata": {
        "id": "34OZwYxm4y6G",
        "colab_type": "code",
        "colab": {}
      },
      "source": [
        "from blsconnect import RequestBLS, bls_search\n",
        "\n",
        "MY_API_KEY = 'd7c0ebba465a4848afbcfb17a9238452'\n",
        "bls = RequestBLS(key=MY_API_KEY)\n",
        "\n",
        "# Get seasonally-adjusted unemployment rates for Florida, Georgia, and all U.S.\n",
        "series_names = bls_search(data=\"U3\",\n",
        "                          state=[\"FL\", \"GA\", \"NY\", \"NJ\", \"US\"],\n",
        "                          sa=True)\n",
        "\n",
        "df = bls.series(series_names,\n",
        "                start_year=2010,\n",
        "                end_year=2019)\n",
        "\n",
        "df.head()"
      ],
      "execution_count": null,
      "outputs": []
    },
    {
      "cell_type": "code",
      "metadata": {
        "id": "7fQm4v1Z79Wv",
        "colab_type": "code",
        "colab": {}
      },
      "source": [
        "df.rename(columns={\"LASST120000000000003\": \"Florida\"})"
      ],
      "execution_count": null,
      "outputs": []
    },
    {
      "cell_type": "code",
      "metadata": {
        "id": "qS_gEO1-6VgM",
        "colab_type": "code",
        "colab": {}
      },
      "source": [
        "import requests\n",
        "import json\n",
        "import prettytable\n",
        "headers = {'Content-type': 'application/json'}\n",
        "data = json.dumps({\"seriesid\": ['CUUR0000SA0','SUUR0000SA0'],\"startyear\":\"2011\", \"endyear\":\"2014\"})\n",
        "p = requests.post('https://api.bls.gov/publicAPI/v2/timeseries/data/', data=data, headers=headers)\n",
        "json_data = json.loads(p.text)\n",
        "for series in json_data['Results']['series']:\n",
        "    x=prettytable.PrettyTable([\"series id\",\"year\",\"period\",\"value\",\"footnotes\"])\n",
        "    seriesId = series['seriesID']\n",
        "    for item in series['data']:\n",
        "        year = item['year']\n",
        "        period = item['period']\n",
        "        value = item['value']\n",
        "        footnotes=\"\"\n",
        "        for footnote in item['footnotes']:\n",
        "            if footnote:\n",
        "                footnotes = footnotes + footnote['text'] + ','\n",
        "        if 'M01' <= period <= 'M12':\n",
        "            x.add_row([seriesId,year,period,value,footnotes[0:-1]])\n",
        "    output = open(seriesId + '.txt','w')\n",
        "    output.write (x.get_string())\n",
        "    output.close()"
      ],
      "execution_count": null,
      "outputs": []
    },
    {
      "cell_type": "code",
      "metadata": {
        "id": "iV0q5gut78Zv",
        "colab_type": "code",
        "colab": {}
      },
      "source": [
        ""
      ],
      "execution_count": null,
      "outputs": []
    }
  ]
}