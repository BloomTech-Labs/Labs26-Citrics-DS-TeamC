{
  "nbformat": 4,
  "nbformat_minor": 0,
  "metadata": {
    "colab": {
      "name": "Quandl_Job.ipynb",
      "provenance": [],
      "collapsed_sections": [],
      "authorship_tag": "ABX9TyP/eEFjXBtkiA1V8DH2ix2D",
      "include_colab_link": true
    },
    "kernelspec": {
      "name": "python3",
      "display_name": "Python 3"
    },
    "accelerator": "GPU"
  },
  "cells": [
    {
      "cell_type": "markdown",
      "metadata": {
        "id": "view-in-github",
        "colab_type": "text"
      },
      "source": [
        "<a href=\"https://colab.research.google.com/github/Lambda-School-Labs/Labs26-Citrics-DS-TeamC/blob/fatai_king/Quandl_Job.ipynb\" target=\"_parent\"><img src=\"https://colab.research.google.com/assets/colab-badge.svg\" alt=\"Open In Colab\"/></a>"
      ]
    },
    {
      "cell_type": "code",
      "metadata": {
        "id": "YrZUxpEHkbYt",
        "colab_type": "code",
        "colab": {
          "base_uri": "https://localhost:8080/",
          "height": 306
        },
        "outputId": "4b05d6cd-2ff5-4222-cbb5-df3a50cadfa4"
      },
      "source": [
        "pip install quandl"
      ],
      "execution_count": 2,
      "outputs": [
        {
          "output_type": "stream",
          "text": [
            "Collecting quandl\n",
            "  Downloading https://files.pythonhosted.org/packages/1b/29/185269dbd2e2698c8098b35c52ce73a2c52cf76163e709f9f7789d03ebbb/Quandl-3.5.2-py2.py3-none-any.whl\n",
            "Collecting inflection>=0.3.1\n",
            "  Downloading https://files.pythonhosted.org/packages/59/91/aa6bde563e0085a02a435aa99b49ef75b0a4b062635e606dab23ce18d720/inflection-0.5.1-py2.py3-none-any.whl\n",
            "Requirement already satisfied: python-dateutil in /usr/local/lib/python3.6/dist-packages (from quandl) (2.8.1)\n",
            "Requirement already satisfied: numpy>=1.8 in /usr/local/lib/python3.6/dist-packages (from quandl) (1.18.5)\n",
            "Requirement already satisfied: six in /usr/local/lib/python3.6/dist-packages (from quandl) (1.15.0)\n",
            "Requirement already satisfied: pandas>=0.14 in /usr/local/lib/python3.6/dist-packages (from quandl) (1.0.5)\n",
            "Requirement already satisfied: requests>=2.7.0 in /usr/local/lib/python3.6/dist-packages (from quandl) (2.23.0)\n",
            "Requirement already satisfied: more-itertools in /usr/local/lib/python3.6/dist-packages (from quandl) (8.5.0)\n",
            "Requirement already satisfied: pytz>=2017.2 in /usr/local/lib/python3.6/dist-packages (from pandas>=0.14->quandl) (2018.9)\n",
            "Requirement already satisfied: chardet<4,>=3.0.2 in /usr/local/lib/python3.6/dist-packages (from requests>=2.7.0->quandl) (3.0.4)\n",
            "Requirement already satisfied: urllib3!=1.25.0,!=1.25.1,<1.26,>=1.21.1 in /usr/local/lib/python3.6/dist-packages (from requests>=2.7.0->quandl) (1.24.3)\n",
            "Requirement already satisfied: certifi>=2017.4.17 in /usr/local/lib/python3.6/dist-packages (from requests>=2.7.0->quandl) (2020.6.20)\n",
            "Requirement already satisfied: idna<3,>=2.5 in /usr/local/lib/python3.6/dist-packages (from requests>=2.7.0->quandl) (2.10)\n",
            "Installing collected packages: inflection, quandl\n",
            "Successfully installed inflection-0.5.1 quandl-3.5.2\n"
          ],
          "name": "stdout"
        }
      ]
    },
    {
      "cell_type": "code",
      "metadata": {
        "id": "14QYnkkHJaQe",
        "colab_type": "code",
        "colab": {}
      },
      "source": [
        "import pandas as pd\n",
        "import numpy as np\n",
        "import matplotlib.pyplot as plt\n",
        "import json\n",
        "import os\n",
        "import requests\n",
        "import quandl"
      ],
      "execution_count": 3,
      "outputs": []
    },
    {
      "cell_type": "code",
      "metadata": {
        "id": "tn02fQ26dmnJ",
        "colab_type": "code",
        "colab": {}
      },
      "source": [
        "import urllib.request\n",
        "import urllib"
      ],
      "execution_count": null,
      "outputs": []
    },
    {
      "cell_type": "code",
      "metadata": {
        "id": "u-Kq9VYvkJto",
        "colab_type": "code",
        "colab": {}
      },
      "source": [
        "#API Key\n",
        "\n",
        "quandl.ApiConfig.api_key = 'K6fpyVeFyVDsDyWqXcCx'\n"
      ],
      "execution_count": 4,
      "outputs": []
    },
    {
      "cell_type": "markdown",
      "metadata": {
        "id": "wgtIaSczt2Zd",
        "colab_type": "text"
      },
      "source": [
        "#  Quandl Code to JT (Job Openings & Labor Turnover) -- Hires-- Unseasonal Levels in Thousands-- Nation Data\n"
      ]
    },
    {
      "cell_type": "code",
      "metadata": {
        "id": "uwGoZuqjs7sc",
        "colab_type": "code",
        "colab": {}
      },
      "source": [
        "# Mining and Logging \n",
        "mine = quandl.get(\"BLSE/JTU11009900HIL\", start_date=\"2000-01-01\", end_date=\"2020-08-01\")\n",
        "mine.columns=['Mining and Logging Provided  Values']\n",
        "# mine"
      ],
      "execution_count": null,
      "outputs": []
    },
    {
      "cell_type": "code",
      "metadata": {
        "id": "8lMeSuMXvqcx",
        "colab_type": "code",
        "colab": {
          "base_uri": "https://localhost:8080/",
          "height": 214
        },
        "outputId": "cca48887-7d99-42f2-a259-0bf1ce40e9d5"
      },
      "source": [
        "# Construction \n",
        "construction = quandl.get(\"BLSE/JTU23000000HIL\", start_date=\"2000-01-01\", end_date=\"2020-08-01\")\n",
        "construction.columns=['Construction Provided  Values']\n",
        "#construction"
      ],
      "execution_count": null,
      "outputs": [
        {
          "output_type": "error",
          "ename": "NameError",
          "evalue": "ignored",
          "traceback": [
            "\u001b[0;31m---------------------------------------------------------------------------\u001b[0m",
            "\u001b[0;31mNameError\u001b[0m                                 Traceback (most recent call last)",
            "\u001b[0;32m<ipython-input-1-c2600a8d0863>\u001b[0m in \u001b[0;36m<module>\u001b[0;34m()\u001b[0m\n\u001b[1;32m      1\u001b[0m \u001b[0;31m# Construction\u001b[0m\u001b[0;34m\u001b[0m\u001b[0;34m\u001b[0m\u001b[0;34m\u001b[0m\u001b[0m\n\u001b[0;32m----> 2\u001b[0;31m \u001b[0mconstruction\u001b[0m \u001b[0;34m=\u001b[0m \u001b[0mquandl\u001b[0m\u001b[0;34m.\u001b[0m\u001b[0mget\u001b[0m\u001b[0;34m(\u001b[0m\u001b[0;34m\"BLSE/JTU23000000HIL\"\u001b[0m\u001b[0;34m,\u001b[0m \u001b[0mstart_date\u001b[0m\u001b[0;34m=\u001b[0m\u001b[0;34m\"2000-01-01\"\u001b[0m\u001b[0;34m,\u001b[0m \u001b[0mend_date\u001b[0m\u001b[0;34m=\u001b[0m\u001b[0;34m\"2020-08-01\"\u001b[0m\u001b[0;34m)\u001b[0m\u001b[0;34m\u001b[0m\u001b[0;34m\u001b[0m\u001b[0m\n\u001b[0m\u001b[1;32m      3\u001b[0m \u001b[0mconstruction\u001b[0m\u001b[0;34m.\u001b[0m\u001b[0mcolumns\u001b[0m\u001b[0;34m=\u001b[0m\u001b[0;34m[\u001b[0m\u001b[0;34m'Construction Provided  Values'\u001b[0m\u001b[0;34m]\u001b[0m\u001b[0;34m\u001b[0m\u001b[0;34m\u001b[0m\u001b[0m\n\u001b[1;32m      4\u001b[0m \u001b[0;31m#construction\u001b[0m\u001b[0;34m\u001b[0m\u001b[0;34m\u001b[0m\u001b[0;34m\u001b[0m\u001b[0m\n",
            "\u001b[0;31mNameError\u001b[0m: name 'quandl' is not defined"
          ]
        }
      ]
    },
    {
      "cell_type": "code",
      "metadata": {
        "id": "-Dd--EYXta5L",
        "colab_type": "code",
        "colab": {}
      },
      "source": [
        "num1 = pd.merge(mine, construction, on='Date')\n"
      ],
      "execution_count": null,
      "outputs": []
    },
    {
      "cell_type": "code",
      "metadata": {
        "id": "TYNIBMmVwHzD",
        "colab_type": "code",
        "colab": {}
      },
      "source": [
        "# Manufacturing \n",
        "manufacture = quandl.get(\"BLSE/JTU30000000HIL\", start_date=\"2000-01-01\", end_date=\"2020-08-01\")\n",
        "manufacture.columns=['Manufacture Provided  Values']\n"
      ],
      "execution_count": null,
      "outputs": []
    },
    {
      "cell_type": "code",
      "metadata": {
        "id": "W5ZAOSZrm3r-",
        "colab_type": "code",
        "colab": {}
      },
      "source": [
        "# Durable goods manufacturing\t \n",
        "durable_goods = quandl.get(\"BLSE/JTU32000000HIL\", start_date=\"2000-01-01\", end_date=\"2020-08-01\")\n",
        "durable_goods.columns=['Durable Goods Provided  Values']\n",
        "# durable_goods"
      ],
      "execution_count": null,
      "outputs": []
    },
    {
      "cell_type": "code",
      "metadata": {
        "id": "GywsqNL1tqmr",
        "colab_type": "code",
        "colab": {}
      },
      "source": [
        "num2 = pd.merge(manufacture, durable_goods, on='Date')"
      ],
      "execution_count": null,
      "outputs": []
    },
    {
      "cell_type": "code",
      "metadata": {
        "id": "Y7d9LK6CtyW1",
        "colab_type": "code",
        "colab": {}
      },
      "source": [
        "sum1 = pd.merge(num1, num2, on='Date')"
      ],
      "execution_count": null,
      "outputs": []
    },
    {
      "cell_type": "code",
      "metadata": {
        "id": "rLWDKnPVwuyB",
        "colab_type": "code",
        "colab": {}
      },
      "source": [
        "# NonDurable goods manufacturing\t \n",
        "non_durable_goods = quandl.get(\"BLSE/JTU34000000HIL\", start_date=\"2000-01-01\", end_date=\"2020-08-01\")\n",
        "non_durable_goods.columns=['Non-Durable Goods Provided  Values']\n",
        "non_durable_goods"
      ],
      "execution_count": null,
      "outputs": []
    },
    {
      "cell_type": "code",
      "metadata": {
        "id": "JFNzFFMQw-O5",
        "colab_type": "code",
        "colab": {}
      },
      "source": [
        "# Trade and Transportation\t \n",
        "trade = quandl.get(\"BLSE/JTU40000000HIL\", start_date=\"2000-01-01\", end_date=\"2020-08-01\")\n",
        "trade.columns=['Trade & Transportation Provided Values']\n",
        "# trade"
      ],
      "execution_count": null,
      "outputs": []
    },
    {
      "cell_type": "code",
      "metadata": {
        "id": "sJ7i_176uB1E",
        "colab_type": "code",
        "colab": {}
      },
      "source": [
        "num3 = pd.merge(non_durable_goods, trade, on='Date')"
      ],
      "execution_count": null,
      "outputs": []
    },
    {
      "cell_type": "code",
      "metadata": {
        "id": "vEQlSVClxUfU",
        "colab_type": "code",
        "colab": {}
      },
      "source": [
        "# WholeSale Trade\t \n",
        "whole_trade = quandl.get(\"BLSE/JTU42000000HIL\", start_date=\"2000-01-01\", end_date=\"2020-08-01\")\n",
        "whole_trade.columns=['Wholesale Trade Provided Values']\n",
        "whole_trade"
      ],
      "execution_count": null,
      "outputs": []
    },
    {
      "cell_type": "code",
      "metadata": {
        "id": "IqxdN-c3m3pw",
        "colab_type": "code",
        "colab": {}
      },
      "source": [
        "# Retail Trade\t \n",
        "retail_trade = quandl.get(\"BLSE/JTU44000000HIL\", start_date=\"2000-01-01\", end_date=\"2020-08-01\")\n",
        "retail_trade.columns=['Retail Trade Provided Values']\n",
        "retail_trade"
      ],
      "execution_count": null,
      "outputs": []
    },
    {
      "cell_type": "code",
      "metadata": {
        "id": "JjMNzo70uIDW",
        "colab_type": "code",
        "colab": {}
      },
      "source": [
        "num4 = pd.merge(whole_trade, retail_trade, on='Date')"
      ],
      "execution_count": null,
      "outputs": []
    },
    {
      "cell_type": "code",
      "metadata": {
        "id": "ttqwD4Q8uhrJ",
        "colab_type": "code",
        "colab": {}
      },
      "source": [
        "sum2 = pd.merge(num3, num4, on='Date')"
      ],
      "execution_count": null,
      "outputs": []
    },
    {
      "cell_type": "code",
      "metadata": {
        "id": "GXXUwrOAumh9",
        "colab_type": "code",
        "colab": {}
      },
      "source": [
        "now = pd.merge(sum1, sum2, on='Date')"
      ],
      "execution_count": null,
      "outputs": []
    },
    {
      "cell_type": "code",
      "metadata": {
        "id": "0_G2rYFhxvF3",
        "colab_type": "code",
        "colab": {}
      },
      "source": [
        "#Transportation and Warehouse and Utilities\n",
        "transport_warehouse = quandl.get(\"BLSE/JTU48009900HIL\", start_date=\"2000-01-01\", end_date=\"2020-08-01\")\n",
        "transport_warehouse.columns=['TWU Provided Values']"
      ],
      "execution_count": null,
      "outputs": []
    },
    {
      "cell_type": "code",
      "metadata": {
        "id": "ui3ZYqSIyJXZ",
        "colab_type": "code",
        "colab": {}
      },
      "source": [
        "# General Information\t \n",
        "general = quandl.get(\"BLSE/JTU51000000HIL\", start_date=\"2000-01-01\", end_date=\"2020-08-01\")\n",
        "general.columns=[ 'General Information Provided Values']"
      ],
      "execution_count": null,
      "outputs": []
    },
    {
      "cell_type": "code",
      "metadata": {
        "id": "F8kfN6Hhu824",
        "colab_type": "code",
        "colab": {}
      },
      "source": [
        "num5 = pd.merge(transport_warehouse, general, on='Date')"
      ],
      "execution_count": null,
      "outputs": []
    },
    {
      "cell_type": "code",
      "metadata": {
        "id": "3vN2ZSsNm3ng",
        "colab_type": "code",
        "colab": {}
      },
      "source": [
        "# Financial Activities \n",
        "finance = quandl.get(\"BLSE/JTU51009900HIL\", start_date=\"2000-01-01\", end_date=\"2020-08-01\")\n",
        "finance.columns=['Financial Activity Provided Values']"
      ],
      "execution_count": null,
      "outputs": []
    },
    {
      "cell_type": "code",
      "metadata": {
        "id": "PARbaOq-m3lq",
        "colab_type": "code",
        "colab": {}
      },
      "source": [
        "# Finance & Insurance\t \n",
        "finance_insurance = quandl.get(\"BLSE/JTU52000000HIL\", start_date=\"2000-01-01\", end_date=\"2020-08-01\")\n",
        "finance_insurance.columns=['Finance & Insurance Provided Values']"
      ],
      "execution_count": null,
      "outputs": []
    },
    {
      "cell_type": "code",
      "metadata": {
        "id": "n7hbASSPvDkg",
        "colab_type": "code",
        "colab": {}
      },
      "source": [
        "num6 = pd.merge(finance, finance_insurance, on='Date')"
      ],
      "execution_count": null,
      "outputs": []
    },
    {
      "cell_type": "code",
      "metadata": {
        "id": "bSR0QLPSvNB5",
        "colab_type": "code",
        "colab": {}
      },
      "source": [
        "sum3 = pd.merge(num5, num6, on='Date')"
      ],
      "execution_count": null,
      "outputs": []
    },
    {
      "cell_type": "code",
      "metadata": {
        "id": "4L5kWTUc0NjY",
        "colab_type": "code",
        "colab": {}
      },
      "source": [
        "#Real estate and rental and leasing\n",
        "real_estate = quandl.get(\"BLSE/JTU53000000HIL\", start_date=\"2000-01-01\", end_date=\"2020-08-01\")\n",
        "real_estate.columns=['Real Estate & Rental Leasing Provided Values']"
      ],
      "execution_count": null,
      "outputs": []
    },
    {
      "cell_type": "code",
      "metadata": {
        "id": "se-hFCsS1-DJ",
        "colab_type": "code",
        "colab": {}
      },
      "source": [
        "# Professional and business services\n",
        "prof_business = quandl.get(\"BLSE/JTU54009900HIL\", start_date=\"2000-01-01\", end_date=\"2020-08-01\")\n",
        "prof_business.columns=['Professional and business services Provided Values']"
      ],
      "execution_count": null,
      "outputs": []
    },
    {
      "cell_type": "code",
      "metadata": {
        "id": "5X7tmXNdvtGl",
        "colab_type": "code",
        "colab": {}
      },
      "source": [
        "num7 = pd.merge(real_estate, prof_business, on='Date')"
      ],
      "execution_count": null,
      "outputs": []
    },
    {
      "cell_type": "code",
      "metadata": {
        "id": "PTeptj702iIe",
        "colab_type": "code",
        "colab": {}
      },
      "source": [
        "# Education and Health services\n",
        "education_health = quandl.get(\"BLSE/JTU60000000HIL\", start_date=\"2000-01-01\", end_date=\"2020-08-01\")\n",
        "education_health.columns=['Education and Health services Provided Values']"
      ],
      "execution_count": null,
      "outputs": []
    },
    {
      "cell_type": "code",
      "metadata": {
        "id": "UfHXAh3A3vI-",
        "colab_type": "code",
        "colab": {}
      },
      "source": [
        "# Education services\n",
        "education = quandl.get(\"BLSE/JTU61000000HIL\", start_date=\"2000-01-01\", end_date=\"2020-08-01\")\n",
        "education.columns=[ 'Education services Provided Values']"
      ],
      "execution_count": null,
      "outputs": []
    },
    {
      "cell_type": "code",
      "metadata": {
        "id": "ry3pkh56v0BK",
        "colab_type": "code",
        "colab": {}
      },
      "source": [
        "num8 = pd.merge(education_health, education, on='Date')"
      ],
      "execution_count": null,
      "outputs": []
    },
    {
      "cell_type": "code",
      "metadata": {
        "id": "WKVc6rEnv6RU",
        "colab_type": "code",
        "colab": {}
      },
      "source": [
        "sum4= pd.merge(num7, num8, on='Date')"
      ],
      "execution_count": null,
      "outputs": []
    },
    {
      "cell_type": "code",
      "metadata": {
        "id": "r6AIZqdvwFqV",
        "colab_type": "code",
        "colab": {}
      },
      "source": [
        "squeeze = pd.merge(sum3, sum4, on='Date')"
      ],
      "execution_count": null,
      "outputs": []
    },
    {
      "cell_type": "code",
      "metadata": {
        "id": "XWJwegoCwOvR",
        "colab_type": "code",
        "colab": {}
      },
      "source": [
        "now1 = pd.merge(now, squeeze, on='Date')"
      ],
      "execution_count": null,
      "outputs": []
    },
    {
      "cell_type": "code",
      "metadata": {
        "id": "8URX3ELG4CwP",
        "colab_type": "code",
        "colab": {}
      },
      "source": [
        "# Health Care and Social assistance\n",
        "health_social = quandl.get(\"BLSE/JTU62000000HIL\", start_date=\"2000-01-01\", end_date=\"2020-08-01\")\n",
        "health_social.columns= ['Health Care and Social Assistance Services Provided Values']"
      ],
      "execution_count": null,
      "outputs": []
    },
    {
      "cell_type": "code",
      "metadata": {
        "id": "3r-GB8Fv4zaM",
        "colab_type": "code",
        "colab": {}
      },
      "source": [
        "# Leisure & Hospitality\n",
        "leisure_hospitality = quandl.get(\"BLSE/JTU70000000HIL\", start_date=\"2000-01-01\", end_date=\"2020-08-01\")\n",
        "leisure_hospitality.columns=['Leisure and Hospitality Services Provided Values']"
      ],
      "execution_count": null,
      "outputs": []
    },
    {
      "cell_type": "code",
      "metadata": {
        "id": "gxmNoKqT5K8X",
        "colab_type": "code",
        "colab": {}
      },
      "source": [
        "# Art, entertainment, & recreation\n",
        "art_entertain = quandl.get(\"BLSE/JTU71000000HIL\", start_date=\"2000-01-01\", end_date=\"2020-08-01\")\n",
        "art_entertain.columns=['Art Entertainment & Recreation Services Provided Values']"
      ],
      "execution_count": null,
      "outputs": []
    },
    {
      "cell_type": "code",
      "metadata": {
        "id": "NjAf3YHSwwAi",
        "colab_type": "code",
        "colab": {}
      },
      "source": [
        "num9 = pd.merge(leisure_hospitality, art_entertain, on='Date')"
      ],
      "execution_count": null,
      "outputs": []
    },
    {
      "cell_type": "code",
      "metadata": {
        "id": "EvgNxkvN5hak",
        "colab_type": "code",
        "colab": {}
      },
      "source": [
        "# Accommodation and food services\t services\n",
        "accomodation_food = quandl.get(\"BLSE/JTU72000000HIL\", start_date=\"2000-01-01\", end_date=\"2020-08-01\")\n",
        "accomodation_food.columns=['Accommodation & Food Services Provided Values']"
      ],
      "execution_count": null,
      "outputs": []
    },
    {
      "cell_type": "code",
      "metadata": {
        "id": "uvdNTcWn5_ZI",
        "colab_type": "code",
        "colab": {}
      },
      "source": [
        "# Other services\n",
        "other_services = quandl.get(\"BLSE/JTU81000000HIL\", start_date=\"2000-01-01\", end_date=\"2020-08-01\")\n",
        "other_services.columns=['Other Services Provided Values']"
      ],
      "execution_count": null,
      "outputs": []
    },
    {
      "cell_type": "code",
      "metadata": {
        "id": "LaoD-TVsw_YX",
        "colab_type": "code",
        "colab": {}
      },
      "source": [
        "num10= pd.merge(accomodation_food, other_services, on='Date')"
      ],
      "execution_count": null,
      "outputs": []
    },
    {
      "cell_type": "code",
      "metadata": {
        "id": "Hcv-fTjqxFo8",
        "colab_type": "code",
        "colab": {}
      },
      "source": [
        "sum5 = pd.merge(num9, num10, on='Date')"
      ],
      "execution_count": null,
      "outputs": []
    },
    {
      "cell_type": "code",
      "metadata": {
        "id": "Izd1NVsTm3de",
        "colab_type": "code",
        "colab": {}
      },
      "source": [
        "# Federal\n",
        "federal = quandl.get(\"BLSE/JTU91000000HIL\", start_date=\"2000-01-01\", end_date=\"2020-08-01\")\n",
        "federal.columns = ['Federal Services Provided Values']"
      ],
      "execution_count": null,
      "outputs": []
    },
    {
      "cell_type": "code",
      "metadata": {
        "id": "PV-j7sems9Cg",
        "colab_type": "code",
        "colab": {}
      },
      "source": [
        "state_local = quandl.get(\"BLSE/JTU92000000HIL\", start_date=\"2000-01-01\", end_date=\"2020-08-01\")\n",
        "state_local.columns = ['State & Local Services Provided Values']"
      ],
      "execution_count": null,
      "outputs": []
    },
    {
      "cell_type": "code",
      "metadata": {
        "id": "wK4aZWHCxMp-",
        "colab_type": "code",
        "colab": {}
      },
      "source": [
        "num11 = pd.merge(federal, state_local, on='Date')"
      ],
      "execution_count": null,
      "outputs": []
    },
    {
      "cell_type": "code",
      "metadata": {
        "id": "AiYCRMPFm3ax",
        "colab_type": "code",
        "colab": {}
      },
      "source": [
        "sum6 = pd.merge(num11, health_social, on='Date')"
      ],
      "execution_count": null,
      "outputs": []
    },
    {
      "cell_type": "code",
      "metadata": {
        "id": "bTS_A7JYy9Qj",
        "colab_type": "code",
        "colab": {}
      },
      "source": [
        "now2 = pd.merge(sum5, sum6, on='Date')"
      ],
      "execution_count": null,
      "outputs": []
    },
    {
      "cell_type": "code",
      "metadata": {
        "id": "IYsHz77uzFI2",
        "colab_type": "code",
        "colab": {}
      },
      "source": [
        "fun = pd.merge(now1, now2, on='Date')\n"
      ],
      "execution_count": null,
      "outputs": []
    },
    {
      "cell_type": "code",
      "metadata": {
        "id": "JM8zo8CK16iB",
        "colab_type": "code",
        "colab": {}
      },
      "source": [
        "#Total NonFarm - All employees, thousands; Total NonFarm industry\n",
        "\n",
        "total_non =quandl.get(\"BLSE/JTU00000000HIL\", start_date=\"2000-01-01\", end_date=\"2020-08-01\")\n",
        "total_non.columns=['Total NonFarm Industry Value']"
      ],
      "execution_count": null,
      "outputs": []
    },
    {
      "cell_type": "code",
      "metadata": {
        "id": "UP0dN9Tt3Ih3",
        "colab_type": "code",
        "colab": {}
      },
      "source": [
        "#Total Private - All employees, thousands; Total Private firm industry\n",
        "\n",
        "total_pri =quandl.get(\"BLSE/JTU10000000HIL\", start_date=\"2000-01-01\", end_date=\"2020-08-01\")\n",
        "total_pri.columns=['Total Private Firm Industry Value']\n"
      ],
      "execution_count": null,
      "outputs": []
    },
    {
      "cell_type": "code",
      "metadata": {
        "id": "BW6W30Iz3hGY",
        "colab_type": "code",
        "colab": {}
      },
      "source": [
        "num13 = pd.merge(total_non, total_pri, on='Date')"
      ],
      "execution_count": null,
      "outputs": []
    },
    {
      "cell_type": "code",
      "metadata": {
        "id": "wHNT6rXFoUIa",
        "colab_type": "code",
        "colab": {}
      },
      "source": [
        "#Employment - All employees, thousands; Government industry\n",
        "\n",
        "government =quandl.get(\"BLSE/JTU90000000HIL\", start_date=\"2000-01-01\", end_date=\"2020-08-01\")\n",
        "government.columns=['Government Industry Value']\n",
        "\n"
      ],
      "execution_count": null,
      "outputs": []
    },
    {
      "cell_type": "code",
      "metadata": {
        "id": "qyqT69TY3m0I",
        "colab_type": "code",
        "colab": {}
      },
      "source": [
        "num14 = pd.merge(num13, government, on='Date')"
      ],
      "execution_count": null,
      "outputs": []
    },
    {
      "cell_type": "code",
      "metadata": {
        "id": "tuhg7HtbeSBp",
        "colab_type": "code",
        "colab": {}
      },
      "source": [
        "this = quandl.get(\"BLSE/LAUST010000000000005\")\n",
        "this.columns = ['Empolyed State of Alabama Values']\n"
      ],
      "execution_count": null,
      "outputs": []
    },
    {
      "cell_type": "code",
      "metadata": {
        "id": "UMipMNGB3xmx",
        "colab_type": "code",
        "colab": {}
      },
      "source": [
        "all = pd.merge(fun, num14, on='Date')\n",
        "all"
      ],
      "execution_count": null,
      "outputs": []
    },
    {
      "cell_type": "code",
      "metadata": {
        "id": "sAO_Agc5m3YK",
        "colab_type": "code",
        "colab": {}
      },
      "source": [
        ""
      ],
      "execution_count": null,
      "outputs": []
    },
    {
      "cell_type": "markdown",
      "metadata": {
        "id": "ZZx2_WHcm5ZW",
        "colab_type": "text"
      },
      "source": [
        "## Went through each state grabbed industry data (Quandl BLS)....\n",
        "\n",
        "---\n",
        "\n",
        "\n",
        "\n",
        "---\n",
        "\n",
        "\n",
        "\n",
        "---\n",
        "\n",
        "\n",
        "\n",
        "---\n",
        "\n",
        "\n",
        "\n",
        "---\n",
        "\n",
        "\n",
        "\n",
        "\n"
      ]
    },
    {
      "cell_type": "code",
      "metadata": {
        "id": "k8UXO0MglS_G",
        "colab_type": "code",
        "colab": {}
      },
      "source": [
        "quandl.get(\"BLSE/CEU9000000001\",  start_date=\"2000-01-01\", end_date=\"2020-08-01\")"
      ],
      "execution_count": null,
      "outputs": []
    },
    {
      "cell_type": "code",
      "metadata": {
        "id": "IOXtelqxnO2E",
        "colab_type": "code",
        "colab": {}
      },
      "source": [
        "#Employment - All employees, thousands; Goods-producing industry\n",
        "\n",
        "goods = quandl.get(\"BLSE/CEU0600000001\", start_date=\"2000-01-01\", end_date=\"2020-08-01\")\n",
        "goods \n",
        "goods.rename(columns= {'Value' : 'Goods Produced Industry Value'})\n"
      ],
      "execution_count": null,
      "outputs": []
    },
    {
      "cell_type": "markdown",
      "metadata": {
        "id": "Nqvt92U_t6x_",
        "colab_type": "text"
      },
      "source": [
        "# Wyoming"
      ]
    },
    {
      "cell_type": "code",
      "metadata": {
        "id": "8kfnuzaUeOfl",
        "colab_type": "code",
        "colab": {}
      },
      "source": [
        "# All Employees, In Thousands; Goods Producing - Wyoming\n",
        "wyoming_goods = quandl.get(\"BLSE/SMU56000000600000001\", start_date=\"2000-01-01\", end_date=\"2020-08-01\")\n",
        "wyoming_goods.columns=['Total Goods Produced Value']"
      ],
      "execution_count": null,
      "outputs": []
    },
    {
      "cell_type": "code",
      "metadata": {
        "id": "RjIZTZUMU9qq",
        "colab_type": "code",
        "colab": {}
      },
      "source": [
        "# All Employees, In Thousands; Government - Wyoming\n",
        "wyoming_gov = quandl.get(\"BLSE/SMU56000009000000001\", start_date=\"2000-01-01\", end_date=\"2020-08-01\")\n",
        "\n",
        "wyoming_gov.columns=['Total Government Value']\n"
      ],
      "execution_count": null,
      "outputs": []
    },
    {
      "cell_type": "code",
      "metadata": {
        "id": "aPBGmilUuQuo",
        "colab_type": "code",
        "colab": {}
      },
      "source": [
        "# Wyoming Nonfarm\n",
        "wyoming_nonfarm = quandl.get(\"BLSE/SMU56000000000000001\", start_date=\"2000-01-01\", end_date=\"2020-08-01\")\n",
        "\n",
        "wyoming_nonfarm.columns=['Total Nonfarm Provided Value']"
      ],
      "execution_count": null,
      "outputs": []
    },
    {
      "cell_type": "code",
      "metadata": {
        "id": "u5a24-Xhz8Tp",
        "colab_type": "code",
        "colab": {}
      },
      "source": [
        "# Wyoming Private\n",
        "wyoming_pri = quandl.get(\"BLSE/SMU56000000500000001\", start_date=\"2000-01-01\", end_date=\"2020-08-01\")\n",
        "\n",
        "wyoming_pri.columns=['Total Private Industry Value']"
      ],
      "execution_count": null,
      "outputs": []
    },
    {
      "cell_type": "code",
      "metadata": {
        "id": "bpB1ktjT1v_9",
        "colab_type": "code",
        "colab": {}
      },
      "source": [
        "# Wyoming Service Provide\n",
        "wyoming_service = quandl.get(\"BLSE/SMU56000000700000001\", start_date=\"2000-01-01\", end_date=\"2020-08-01\")\n",
        "\n",
        "wyoming_service.columns=['Total Service Provided Value']"
      ],
      "execution_count": null,
      "outputs": []
    },
    {
      "cell_type": "code",
      "metadata": {
        "id": "8BZ5YNYp2DqL",
        "colab_type": "code",
        "colab": {}
      },
      "source": [
        "# Wyoming Mining & Logging Provide\n",
        "wyoming_mine = quandl.get(\"BLSE/SMU56000001000000001\", start_date=\"2000-01-01\", end_date=\"2020-08-01\")\n",
        "\n",
        "wyoming_mine.columns=['Total Mining & Logging Industry Value']"
      ],
      "execution_count": null,
      "outputs": []
    },
    {
      "cell_type": "code",
      "metadata": {
        "id": "hWPco0V12pct",
        "colab_type": "code",
        "colab": {}
      },
      "source": [
        "# Wyoming Manufacturing Provide\n",
        "wyoming_manu = quandl.get(\"BLSE/SMU56000003000000001\", start_date=\"2000-01-01\", end_date=\"2020-08-01\")\n",
        "\n",
        "wyoming_manu.columns=['Total Manufacture Value']"
      ],
      "execution_count": null,
      "outputs": []
    },
    {
      "cell_type": "code",
      "metadata": {
        "id": "p_cjL-Ig26xG",
        "colab_type": "code",
        "colab": {}
      },
      "source": [
        "# Wyoming Durable Goods Provide\n",
        "wyoming_durable = quandl.get(\"BLSE/SMU56000003100000001\", start_date=\"2000-01-01\", end_date=\"2020-08-01\")\n",
        "\n",
        "wyoming_durable.columns=['Total Durable Goods Value']"
      ],
      "execution_count": null,
      "outputs": []
    },
    {
      "cell_type": "code",
      "metadata": {
        "id": "ex1nuV0x3Ur3",
        "colab_type": "code",
        "colab": {}
      },
      "source": [
        "# Wyoming Wholesale Trade Provide\n",
        "wyoming_whole = quandl.get(\"BLSE/SMU56000004100000001\", start_date=\"2000-01-01\", end_date=\"2020-08-01\")\n",
        "\n",
        "wyoming_whole.columns=['Wholesale Trade Value']"
      ],
      "execution_count": null,
      "outputs": []
    },
    {
      "cell_type": "code",
      "metadata": {
        "id": "EaHLbA_13i0d",
        "colab_type": "code",
        "colab": {}
      },
      "source": [
        "# Wyoming Transportation & Utilities  Provide\n",
        "wyoming_transport = quandl.get(\"BLSE/SMU56000004300000001\", start_date=\"2000-01-01\", end_date=\"2020-08-01\")\n",
        "\n",
        "wyoming_transport.columns=['Total Transportation & Utilities Value']"
      ],
      "execution_count": null,
      "outputs": []
    },
    {
      "cell_type": "code",
      "metadata": {
        "id": "4UcwkX516ACj",
        "colab_type": "code",
        "colab": {}
      },
      "source": [
        "# Wyoming Truck Transportation Provide\n",
        "wyoming_truck = quandl.get(\"BLSE/SMU56000004348400001\", start_date=\"2000-01-01\", end_date=\"2020-08-01\")\n",
        "\n",
        "wyoming_truck.columns=['Truck Transportation Industry Value']"
      ],
      "execution_count": null,
      "outputs": []
    },
    {
      "cell_type": "code",
      "metadata": {
        "id": "2_n5D0gG32hQ",
        "colab_type": "code",
        "colab": {}
      },
      "source": [
        "add3 = pd.merge(wyoming_whole, wyoming_transport, on='Date')"
      ],
      "execution_count": null,
      "outputs": []
    },
    {
      "cell_type": "code",
      "metadata": {
        "id": "U-mdueGi3H9u",
        "colab_type": "code",
        "colab": {}
      },
      "source": [
        "add2 = pd.merge(wyoming_manu, wyoming_durable, on='Date')"
      ],
      "execution_count": null,
      "outputs": []
    },
    {
      "cell_type": "code",
      "metadata": {
        "id": "6jJ1M-ZK2UZF",
        "colab_type": "code",
        "colab": {}
      },
      "source": [
        "add1 = pd.merge(wyoming_service, wyoming_mine, on='Date')"
      ],
      "execution_count": null,
      "outputs": []
    },
    {
      "cell_type": "code",
      "metadata": {
        "id": "ce1VC4Bj02J_",
        "colab_type": "code",
        "colab": {}
      },
      "source": [
        "add = pd.merge(wyoming_nonfarm, wyoming_pri, on='Date')"
      ],
      "execution_count": null,
      "outputs": []
    },
    {
      "cell_type": "code",
      "metadata": {
        "id": "zGD9Yihn6b2p",
        "colab_type": "code",
        "colab": {}
      },
      "source": [
        "wyoming = pd.merge(wyoming_goods, wyoming_gov, on='Date')\n"
      ],
      "execution_count": null,
      "outputs": []
    },
    {
      "cell_type": "code",
      "metadata": {
        "id": "fGt9o5_z1Ff_",
        "colab_type": "code",
        "colab": {}
      },
      "source": [
        "wyoming1 = pd.merge(wyoming, add, on='Date')\n"
      ],
      "execution_count": null,
      "outputs": []
    },
    {
      "cell_type": "code",
      "metadata": {
        "id": "g2p5CVKh2b8h",
        "colab_type": "code",
        "colab": {}
      },
      "source": [
        "wyoming2 = pd.merge(wyoming1, add1, on='Date')\n"
      ],
      "execution_count": null,
      "outputs": []
    },
    {
      "cell_type": "code",
      "metadata": {
        "id": "hq7EobAG3Oui",
        "colab_type": "code",
        "colab": {}
      },
      "source": [
        "wyoming3 = pd.merge(wyoming2, add2, on='Date')"
      ],
      "execution_count": null,
      "outputs": []
    },
    {
      "cell_type": "code",
      "metadata": {
        "id": "cOtoiImf1nwE",
        "colab_type": "code",
        "colab": {}
      },
      "source": [
        "wyoming4 = pd.merge(wyoming3, add3, on='Date')"
      ],
      "execution_count": null,
      "outputs": []
    },
    {
      "cell_type": "code",
      "metadata": {
        "id": "ZiSckuSK8wrn",
        "colab_type": "code",
        "colab": {}
      },
      "source": [
        "wyoming5 = pd.merge(wyoming4, wyoming_truck, on='Date')\n",
        "wyoming5"
      ],
      "execution_count": null,
      "outputs": []
    },
    {
      "cell_type": "markdown",
      "metadata": {
        "id": "xPZNKYnht_pL",
        "colab_type": "text"
      },
      "source": [
        "# Wisconsin"
      ]
    },
    {
      "cell_type": "code",
      "metadata": {
        "id": "peJ3Xnu0i13z",
        "colab_type": "code",
        "colab": {}
      },
      "source": [
        "#All Employees, In Thousands; Government - Wisconsin\n",
        "wisconsin_gov = quandl.get(\"BLSE/SMU55000009000000001\", start_date=\"2000-01-01\", end_date=\"2020-08-01\")\n",
        "wisconsin_gov.columns=['Total Government Value']"
      ],
      "execution_count": null,
      "outputs": []
    },
    {
      "cell_type": "code",
      "metadata": {
        "id": "XfyUTiG692Ek",
        "colab_type": "code",
        "colab": {}
      },
      "source": [
        "#All Employees, In Thousands; NonFarm - Wisconsin\n",
        "wisconsin_nonfarm = quandl.get(\"BLSE/SMU55000000000000001\", start_date=\"2000-01-01\", end_date=\"2020-08-01\")\n",
        "wisconsin_nonfarm.columns= ['Total NonFarm Provided Value']"
      ],
      "execution_count": null,
      "outputs": []
    },
    {
      "cell_type": "code",
      "metadata": {
        "id": "e8U5Mwlv-6Cc",
        "colab_type": "code",
        "colab": {}
      },
      "source": [
        "#All Employees, In Thousands; Private - Wisconsin\n",
        "wisconsin_priv = quandl.get(\"BLSE/SMU55000000500000001\", start_date=\"2000-01-01\", end_date=\"2020-08-01\")\n",
        "wisconsin_priv.columns= ['Total Private Industry Value']"
      ],
      "execution_count": null,
      "outputs": []
    },
    {
      "cell_type": "code",
      "metadata": {
        "id": "e5Sr0PFN_M5j",
        "colab_type": "code",
        "colab": {}
      },
      "source": [
        "#All Employees, In Thousands; Goods Producing - Wisconsin\n",
        "wisconsin_goods = quandl.get(\"BLSE/SMU55000000600000001\", start_date=\"2000-01-01\", end_date=\"2020-08-01\")\n",
        "wisconsin_goods.columns= ['Total Goods Produced Value']"
      ],
      "execution_count": null,
      "outputs": []
    },
    {
      "cell_type": "code",
      "metadata": {
        "id": "alDnCho5_zmV",
        "colab_type": "code",
        "colab": {}
      },
      "source": [
        "#All Employees, In Thousands; Service - Wisconsin\n",
        "wisconsin_service = quandl.get(\"BLSE/SMU55000000700000001\", start_date=\"2000-01-01\", end_date=\"2020-08-01\")\n",
        "wisconsin_service.columns= ['Total Service Provided Value']"
      ],
      "execution_count": null,
      "outputs": []
    },
    {
      "cell_type": "code",
      "metadata": {
        "id": "XHBfDX_4ACEL",
        "colab_type": "code",
        "colab": {}
      },
      "source": [
        "#All Employees, In Thousands; Mining and Logging - Wisconsin\n",
        "wisconsin_mining = quandl.get(\"BLSE/SMU55000001000000001\", start_date=\"2000-01-01\", end_date=\"2020-08-01\")\n",
        "wisconsin_mining.columns= ['Total Mining & Logging Value']"
      ],
      "execution_count": null,
      "outputs": []
    },
    {
      "cell_type": "code",
      "metadata": {
        "id": "48LlpcClAqcc",
        "colab_type": "code",
        "colab": {}
      },
      "source": [
        "#All Employees, In Thousands; Manufacturing - Wisconsin\n",
        "wisconsin_manufacture = quandl.get(\"BLSE/SMU55000003000000001\", start_date=\"2000-01-01\", end_date=\"2020-08-01\")\n",
        "wisconsin_manufacture.columns= ['Total Manufacture Value']"
      ],
      "execution_count": null,
      "outputs": []
    },
    {
      "cell_type": "code",
      "metadata": {
        "id": "GiKtJ8OxBykD",
        "colab_type": "code",
        "colab": {}
      },
      "source": [
        "#All Employees, In Thousands; Durable Goods - Wisconsin\n",
        "wisconsin_durable = quandl.get(\"BLSE/SMU55000003100000001\", start_date=\"2000-01-01\", end_date=\"2020-08-01\")\n",
        "wisconsin_durable.columns= ['Total Durable Goods Value']"
      ],
      "execution_count": null,
      "outputs": []
    },
    {
      "cell_type": "code",
      "metadata": {
        "id": "-x6yGdy9ChLo",
        "colab_type": "code",
        "colab": {}
      },
      "source": [
        "#All Employees, In Thousands; Wholesale Trade - Wisconsin\n",
        "wisconsin_wholesale = quandl.get(\"BLSE/SMU55000004100000001\", start_date=\"2000-01-01\", end_date=\"2020-08-01\")\n",
        "wisconsin_wholesale.columns= ['Wholesale Trade Value']"
      ],
      "execution_count": null,
      "outputs": []
    },
    {
      "cell_type": "code",
      "metadata": {
        "id": "yMK3wUPACwXk",
        "colab_type": "code",
        "colab": {}
      },
      "source": [
        "#All Employees, In Thousands; Transportation & Utilities - Wisconsin\n",
        "wisconsin_transutil = quandl.get(\"BLSE/SMU55000004300000001\", start_date=\"2000-01-01\", end_date=\"2020-08-01\")\n",
        "wisconsin_transutil.columns= ['Total Transportation & Utilities Value']"
      ],
      "execution_count": null,
      "outputs": []
    },
    {
      "cell_type": "code",
      "metadata": {
        "id": "lZKPasiODTpl",
        "colab_type": "code",
        "colab": {}
      },
      "source": [
        "#All Employees, In Thousands; Truck Transportation - Wisconsin\n",
        "wisconsin_truck = quandl.get(\"BLSE/SMU55000004348400001\", start_date=\"2000-01-01\", end_date=\"2020-08-01\")\n",
        "wisconsin_truck.columns= ['Total Truck Transportation Provided Value']"
      ],
      "execution_count": null,
      "outputs": []
    },
    {
      "cell_type": "code",
      "metadata": {
        "id": "L0I8fZm1C_-w",
        "colab_type": "code",
        "colab": {}
      },
      "source": [
        "wis4 = pd.merge(wisconsin_wholesale, wisconsin_transutil, on='Date')"
      ],
      "execution_count": null,
      "outputs": []
    },
    {
      "cell_type": "code",
      "metadata": {
        "id": "4orirx8bB__R",
        "colab_type": "code",
        "colab": {}
      },
      "source": [
        "wis3 = pd.merge(wisconsin_manufacture, wisconsin_durable, on='Date')"
      ],
      "execution_count": null,
      "outputs": []
    },
    {
      "cell_type": "code",
      "metadata": {
        "id": "PjynDG8fAX2z",
        "colab_type": "code",
        "colab": {}
      },
      "source": [
        "wis2 = pd.merge(wisconsin_service, wisconsin_mining, on='Date')"
      ],
      "execution_count": null,
      "outputs": []
    },
    {
      "cell_type": "code",
      "metadata": {
        "id": "JQhrFEBr_g_H",
        "colab_type": "code",
        "colab": {}
      },
      "source": [
        "wis1 = pd.merge(wisconsin_priv, wisconsin_goods, on='Date')"
      ],
      "execution_count": null,
      "outputs": []
    },
    {
      "cell_type": "code",
      "metadata": {
        "id": "Xr72tDNj-xmT",
        "colab_type": "code",
        "colab": {}
      },
      "source": [
        "wisconsin = pd.merge(wisconsin_gov, wisconsin_nonfarm, on='Date')"
      ],
      "execution_count": null,
      "outputs": []
    },
    {
      "cell_type": "code",
      "metadata": {
        "id": "7gFKzHFF_qF8",
        "colab_type": "code",
        "colab": {}
      },
      "source": [
        "wisconsin1 = pd.merge(wisconsin, wis1, on='Date')"
      ],
      "execution_count": null,
      "outputs": []
    },
    {
      "cell_type": "code",
      "metadata": {
        "id": "UUlEC052Aejd",
        "colab_type": "code",
        "colab": {}
      },
      "source": [
        "wisconsin2 = pd.merge(wisconsin1, wis2, on='Date')\n"
      ],
      "execution_count": null,
      "outputs": []
    },
    {
      "cell_type": "code",
      "metadata": {
        "id": "667uE5L5CIXr",
        "colab_type": "code",
        "colab": {}
      },
      "source": [
        "wisconsin3 = pd.merge(wisconsin2, wis3, on='Date')\n"
      ],
      "execution_count": null,
      "outputs": []
    },
    {
      "cell_type": "code",
      "metadata": {
        "id": "1cQm7JnvDJzl",
        "colab_type": "code",
        "colab": {}
      },
      "source": [
        "wisconsin4 = pd.merge(wisconsin3, wis4, on='Date')"
      ],
      "execution_count": null,
      "outputs": []
    },
    {
      "cell_type": "code",
      "metadata": {
        "id": "ULhy9CfTml9g",
        "colab_type": "code",
        "colab": {}
      },
      "source": [
        "wisconsin5 = pd.merge(wisconsin4, wisconsin_truck, on='Date')\n",
        "wisconsin5"
      ],
      "execution_count": null,
      "outputs": []
    },
    {
      "cell_type": "markdown",
      "metadata": {
        "id": "HcaJrefuuC5-",
        "colab_type": "text"
      },
      "source": [
        "# West Virginia"
      ]
    },
    {
      "cell_type": "code",
      "metadata": {
        "id": "k2zaLqsEml6-",
        "colab_type": "code",
        "colab": {}
      },
      "source": [
        "#All Employees, In Thousands; Total Nonfarm - West Virginia\n",
        "westvirginia_nonfarm = quandl.get(\"BLSE/SMU54000000000000001\", start_date=\"2000-01-01\", end_date=\"2020-08-01\")\n",
        "westvirginia_nonfarm.columns= ['Total Nonfarm Provided Value']"
      ],
      "execution_count": null,
      "outputs": []
    },
    {
      "cell_type": "code",
      "metadata": {
        "id": "Dyx53nfjEzG7",
        "colab_type": "code",
        "colab": {}
      },
      "source": [
        "#All Employees, In Thousands; Total Private - West Virginia\n",
        "westvirginia_private = quandl.get(\"BLSE/SMU54000000500000001\", start_date=\"2000-01-01\", end_date=\"2020-08-01\")\n",
        "westvirginia_private.columns= ['Total Private Industry Value']"
      ],
      "execution_count": null,
      "outputs": []
    },
    {
      "cell_type": "code",
      "metadata": {
        "id": "SdhoJYe-FTAA",
        "colab_type": "code",
        "colab": {}
      },
      "source": [
        "#All Employees, In Thousands; Total Goods Produced - West Virginia\n",
        "westvirginia_goods = quandl.get(\"BLSE/SMU54000000600000001\", start_date=\"2000-01-01\", end_date=\"2020-08-01\")\n",
        "westvirginia_goods.columns= ['Total Goods Produced Value']"
      ],
      "execution_count": null,
      "outputs": []
    },
    {
      "cell_type": "code",
      "metadata": {
        "id": "nXCL1osRFlsq",
        "colab_type": "code",
        "colab": {}
      },
      "source": [
        "#All Employees, In Thousands; Total Service Providing - West Virginia\n",
        "westvirginia_service = quandl.get(\"BLSE/SMU54000000700000001\", start_date=\"2000-01-01\", end_date=\"2020-08-01\")\n",
        "westvirginia_service.columns= ['Total Service Provided Value']"
      ],
      "execution_count": null,
      "outputs": []
    },
    {
      "cell_type": "code",
      "metadata": {
        "id": "YBlIuWT2GiLN",
        "colab_type": "code",
        "colab": {}
      },
      "source": [
        "#All Employees, In Thousands; Total Mining & Logging Provided - West Virginia\n",
        "westvirginia_mining = quandl.get(\"BLSE/SMU54000001000000001\", start_date=\"2000-01-01\", end_date=\"2020-08-01\")\n",
        "westvirginia_mining.columns= ['Total Mining & Logging Value']"
      ],
      "execution_count": null,
      "outputs": []
    },
    {
      "cell_type": "code",
      "metadata": {
        "id": "DItIccOgIVGG",
        "colab_type": "code",
        "colab": {}
      },
      "source": [
        "#All Employees, In Thousands; Total Manufacturing Providing - West Virginia\n",
        "westvirginia_manufacture = quandl.get(\"BLSE/SMU54000003000000001\", start_date=\"2000-01-01\", end_date=\"2020-08-01\")\n",
        "westvirginia_manufacture.columns= ['Total Manufacture Provided Value']"
      ],
      "execution_count": null,
      "outputs": []
    },
    {
      "cell_type": "code",
      "metadata": {
        "id": "4rfVQmSOJN_q",
        "colab_type": "code",
        "colab": {}
      },
      "source": [
        "#All Employees, In Thousands; Total Durable Goods Providing - West Virginia\n",
        "westvirginia_durable = quandl.get(\"BLSE/SMU54000003100000001\", start_date=\"2000-01-01\", end_date=\"2020-08-01\")\n",
        "westvirginia_durable.columns= ['Total Durable Goods Value']"
      ],
      "execution_count": null,
      "outputs": []
    },
    {
      "cell_type": "code",
      "metadata": {
        "id": "27KUSMwAJlSp",
        "colab_type": "code",
        "colab": {}
      },
      "source": [
        "#All Employees, In Thousands; Total Wholesale Trade Providing - West Virginia\n",
        "westvirginia_wholesale = quandl.get(\"BLSE/SMU54000004100000001\", start_date=\"2000-01-01\", end_date=\"2020-08-01\")\n",
        "westvirginia_wholesale.columns= [' Wholesale Trade Value']"
      ],
      "execution_count": null,
      "outputs": []
    },
    {
      "cell_type": "code",
      "metadata": {
        "id": "vKaeDmQqKTCE",
        "colab_type": "code",
        "colab": {}
      },
      "source": [
        "#All Employees, In Thousands; Total Transportation & Utilities Providing - West Virginia\n",
        "westvirginia_transutil = quandl.get(\"BLSE/SMU54000004300000001\", start_date=\"2000-01-01\", end_date=\"2020-08-01\")\n",
        "westvirginia_transutil.columns= ['Total Transportation & Utilities Value']"
      ],
      "execution_count": null,
      "outputs": []
    },
    {
      "cell_type": "code",
      "metadata": {
        "id": "NBldTpx6K1S7",
        "colab_type": "code",
        "colab": {}
      },
      "source": [
        "#All Employees, In Thousands; Total Transportation & Utilities Providing - West Virginia NO TRUCK DATA\n",
        "#westvirginia_truck = quandl.get(\"BLSE/SMU54000004348400001\", start_date=\"2000-01-01\", end_date=\"2020-08-01\")\n",
        "#westvirginia_truck.columns= ['West Virginia Total Truck Transportation Provided Value']"
      ],
      "execution_count": null,
      "outputs": []
    },
    {
      "cell_type": "code",
      "metadata": {
        "id": "9JpMctjJKh_V",
        "colab_type": "code",
        "colab": {}
      },
      "source": [
        "#All Employees, In Thousands; Total Government Providing - West Virginia NO TRUCK DATA\n",
        "westvirginia_gov = quandl.get(\"BLSE/SMU54000009000000001\", start_date=\"2000-01-01\", end_date=\"2020-08-01\")\n",
        "westvirginia_gov.columns= ['Total Government Value']"
      ],
      "execution_count": null,
      "outputs": []
    },
    {
      "cell_type": "code",
      "metadata": {
        "id": "xj-M4etoml4p",
        "colab_type": "code",
        "colab": {}
      },
      "source": [
        ""
      ],
      "execution_count": null,
      "outputs": []
    },
    {
      "cell_type": "code",
      "metadata": {
        "id": "0bQaNPNWml2W",
        "colab_type": "code",
        "colab": {}
      },
      "source": [
        "west4 = pd.merge(westvirginia_gov, westvirginia_transutil, on='Date')"
      ],
      "execution_count": null,
      "outputs": []
    },
    {
      "cell_type": "code",
      "metadata": {
        "id": "Pwvxz7gJJyLC",
        "colab_type": "code",
        "colab": {}
      },
      "source": [
        "west3 = pd.merge(westvirginia_durable, westvirginia_wholesale, on='Date')"
      ],
      "execution_count": null,
      "outputs": []
    },
    {
      "cell_type": "code",
      "metadata": {
        "id": "WURQxwwmmlzw",
        "colab_type": "code",
        "colab": {}
      },
      "source": [
        "west2 = pd.merge(westvirginia_manufacture, westvirginia_mining, on='Date')"
      ],
      "execution_count": null,
      "outputs": []
    },
    {
      "cell_type": "code",
      "metadata": {
        "id": "hQ2bhgEMmlu1",
        "colab_type": "code",
        "colab": {}
      },
      "source": [
        "west1 = pd.merge(westvirginia_goods, westvirginia_service, on='Date')\n",
        " "
      ],
      "execution_count": null,
      "outputs": []
    },
    {
      "cell_type": "code",
      "metadata": {
        "id": "GkYzUD3kmlxK",
        "colab_type": "code",
        "colab": {}
      },
      "source": [
        ""
      ],
      "execution_count": null,
      "outputs": []
    },
    {
      "cell_type": "code",
      "metadata": {
        "id": "nLLW-KqGmlsW",
        "colab_type": "code",
        "colab": {}
      },
      "source": [
        "westvirginia = pd.merge(westvirginia_nonfarm, westvirginia_private, on='Date')"
      ],
      "execution_count": null,
      "outputs": []
    },
    {
      "cell_type": "code",
      "metadata": {
        "id": "wymAbEKxGUSq",
        "colab_type": "code",
        "colab": {}
      },
      "source": [
        "westvirginia1 = pd.merge(westvirginia, west1, on='Date')\n"
      ],
      "execution_count": null,
      "outputs": []
    },
    {
      "cell_type": "code",
      "metadata": {
        "id": "HtSscGceIv02",
        "colab_type": "code",
        "colab": {}
      },
      "source": [
        "westvirginia2 = pd.merge(westvirginia1, west2, on='Date')\n"
      ],
      "execution_count": null,
      "outputs": []
    },
    {
      "cell_type": "code",
      "metadata": {
        "id": "Ma2dmPmfJ8CM",
        "colab_type": "code",
        "colab": {}
      },
      "source": [
        "westvirginia3 = pd.merge(westvirginia2, west3, on='Date')\n"
      ],
      "execution_count": null,
      "outputs": []
    },
    {
      "cell_type": "code",
      "metadata": {
        "id": "JqzioA_FM87p",
        "colab_type": "code",
        "colab": {}
      },
      "source": [
        "#Missing Truck Transportation\n",
        "westvirginia4 = pd.merge(westvirginia3, west4, on='Date')\n",
        "westvirginia4"
      ],
      "execution_count": null,
      "outputs": []
    },
    {
      "cell_type": "code",
      "metadata": {
        "id": "Rxs2WLDimlp9",
        "colab_type": "code",
        "colab": {}
      },
      "source": [
        "# ---------------------------------------------------------------------------------------------------------------------"
      ],
      "execution_count": null,
      "outputs": []
    },
    {
      "cell_type": "markdown",
      "metadata": {
        "id": "jN5mPnh5NUHF",
        "colab_type": "text"
      },
      "source": [
        "# Washington"
      ]
    },
    {
      "cell_type": "code",
      "metadata": {
        "id": "ZZPYro2YNZIG",
        "colab_type": "code",
        "colab": {}
      },
      "source": [
        "#All Employees, In Thousands; Total Government Providing -Washington\n",
        "washington_gov = quandl.get(\"BLSE/SMU53000009000000001\", start_date=\"2000-01-01\", end_date=\"2020-08-01\")\n",
        "washington_gov.columns= ['Total Government Value']"
      ],
      "execution_count": null,
      "outputs": []
    },
    {
      "cell_type": "code",
      "metadata": {
        "id": "NI7id0zfNrtV",
        "colab_type": "code",
        "colab": {}
      },
      "source": [
        "#All Employees, In Thousands; Total Nonfarm Providing -Washington\n",
        "washington_nonfarm = quandl.get(\"BLSE/SMU53000000000000001\", start_date=\"2000-01-01\", end_date=\"2020-08-01\")\n",
        "washington_nonfarm.columns= ['Total Nonfarm Provided Value']"
      ],
      "execution_count": null,
      "outputs": []
    },
    {
      "cell_type": "code",
      "metadata": {
        "id": "mQSQYZqENbOM",
        "colab_type": "code",
        "colab": {}
      },
      "source": [
        "#All Employees, In Thousands; Total Private Providing -Washington\n",
        "washington_priv = quandl.get(\"BLSE/SMU53000000500000001\", start_date=\"2000-01-01\", end_date=\"2020-08-01\")\n",
        "washington_priv.columns= ['Total Private Industry Value']"
      ],
      "execution_count": null,
      "outputs": []
    },
    {
      "cell_type": "code",
      "metadata": {
        "id": "iBR2s3oTOOxU",
        "colab_type": "code",
        "colab": {}
      },
      "source": [
        "#All Employees, In Thousands; Total Goods Produced Providing -Washington\n",
        "washington_goods = quandl.get(\"BLSE/SMU53000000600000001\", start_date=\"2000-01-01\", end_date=\"2020-08-01\")\n",
        "washington_goods.columns= ['Total Goods Produced Value']"
      ],
      "execution_count": null,
      "outputs": []
    },
    {
      "cell_type": "code",
      "metadata": {
        "id": "a7paYHvhOvVD",
        "colab_type": "code",
        "colab": {}
      },
      "source": [
        "#All Employees, In Thousands; Total Service Provided Providing -Washington\n",
        "washington_serv = quandl.get(\"BLSE/SMU53000000700000001\", start_date=\"2000-01-01\", end_date=\"2020-08-01\")\n",
        "washington_serv.columns= ['Total Service Provided Value']"
      ],
      "execution_count": null,
      "outputs": []
    },
    {
      "cell_type": "code",
      "metadata": {
        "id": "aThbagFqPAVx",
        "colab_type": "code",
        "colab": {}
      },
      "source": [
        "#All Employees, In Thousands; Total Mining & Logging Providing -Washington\n",
        "washington_mining = quandl.get(\"BLSE/SMU53000001000000001\", start_date=\"2000-01-01\", end_date=\"2020-08-01\")\n",
        "washington_mining.columns= ['Total Mining & Logging Value']"
      ],
      "execution_count": null,
      "outputs": []
    },
    {
      "cell_type": "code",
      "metadata": {
        "id": "-siZl7gVPfbA",
        "colab_type": "code",
        "colab": {}
      },
      "source": [
        "#All Employees, In Thousands; Total Manufacturing Providing -Washington\n",
        "washington_manu = quandl.get(\"BLSE/SMU53000003000000001\", start_date=\"2000-01-01\", end_date=\"2020-08-01\")\n",
        "washington_manu.columns= ['Total Manufacture Provided Value']"
      ],
      "execution_count": null,
      "outputs": []
    },
    {
      "cell_type": "code",
      "metadata": {
        "id": "nQoAlEtRPrJJ",
        "colab_type": "code",
        "colab": {}
      },
      "source": [
        "#All Employees, In Thousands; Total Durable Goods Providing -Washington\n",
        "washington_durable = quandl.get(\"BLSE/SMU53000003100000001\", start_date=\"2000-01-01\", end_date=\"2020-08-01\")\n",
        "washington_durable.columns= ['Total Durable Goods Value']"
      ],
      "execution_count": null,
      "outputs": []
    },
    {
      "cell_type": "code",
      "metadata": {
        "id": "DJB7dWmfQGEQ",
        "colab_type": "code",
        "colab": {}
      },
      "source": [
        "#All Employees, In Thousands; Total Wholesale Trade Providing -Washington\n",
        "washington_wholesale = quandl.get(\"BLSE/SMU53000004100000001\", start_date=\"2000-01-01\", end_date=\"2020-08-01\")\n",
        "washington_wholesale.columns= ['Wholesale Trade Value']"
      ],
      "execution_count": null,
      "outputs": []
    },
    {
      "cell_type": "code",
      "metadata": {
        "id": "hdOrfHbUQQRs",
        "colab_type": "code",
        "colab": {}
      },
      "source": [
        "#All Employees, In Thousands; Total Transportation & Utilities Providing -Washington\n",
        "washington_transutil = quandl.get(\"BLSE/SMU53000004300000001\", start_date=\"2000-01-01\", end_date=\"2020-08-01\")\n",
        "washington_transutil.columns= ['Total Transportation & Utilities Value']"
      ],
      "execution_count": null,
      "outputs": []
    },
    {
      "cell_type": "code",
      "metadata": {
        "id": "BOgExsGWQ2Jk",
        "colab_type": "code",
        "colab": {}
      },
      "source": [
        "#All Employees, In Thousands; Total Air Transportation Providing -Washington\n",
        "washington_air = quandl.get(\"BLSE/SMU53000004348100001\", start_date=\"2000-01-01\", end_date=\"2020-08-01\")\n",
        "washington_air.columns= ['Total Air Transportation Value']"
      ],
      "execution_count": null,
      "outputs": []
    },
    {
      "cell_type": "code",
      "metadata": {
        "id": "__G-qrR7NbHY",
        "colab_type": "code",
        "colab": {}
      },
      "source": [
        "#All Employees, In Thousands; Total Truck Transportation Providing -Washington\n",
        "washington_truck = quandl.get(\"BLSE/SMU53000004348400001\", start_date=\"2000-01-01\", end_date=\"2020-08-01\")\n",
        "washington_truck.columns= ['Total Truck Transportation Provided Value']"
      ],
      "execution_count": null,
      "outputs": []
    },
    {
      "cell_type": "code",
      "metadata": {
        "id": "UzL_2n1MRgH5",
        "colab_type": "code",
        "colab": {}
      },
      "source": [
        "wash5 = pd.merge(washington_air, washington_truck, on='Date')"
      ],
      "execution_count": null,
      "outputs": []
    },
    {
      "cell_type": "code",
      "metadata": {
        "id": "rpsoTI1EQmp2",
        "colab_type": "code",
        "colab": {}
      },
      "source": [
        "wash4 = pd.merge(washington_wholesale, washington_transutil, on='Date')"
      ],
      "execution_count": null,
      "outputs": []
    },
    {
      "cell_type": "code",
      "metadata": {
        "id": "qE3VZU7pNa57",
        "colab_type": "code",
        "colab": {}
      },
      "source": [
        "wash3 = pd.merge(washington_manu, washington_durable, on='Date')"
      ],
      "execution_count": null,
      "outputs": []
    },
    {
      "cell_type": "code",
      "metadata": {
        "id": "xPl9L5QaNaxC",
        "colab_type": "code",
        "colab": {}
      },
      "source": [
        "wash2 = pd.merge(washington_serv, washington_mining, on='Date')"
      ],
      "execution_count": null,
      "outputs": []
    },
    {
      "cell_type": "code",
      "metadata": {
        "id": "D5HCIZV4N4D-",
        "colab_type": "code",
        "colab": {}
      },
      "source": [
        "wash1 = pd.merge(washington_priv, washington_goods, on='Date')"
      ],
      "execution_count": null,
      "outputs": []
    },
    {
      "cell_type": "code",
      "metadata": {
        "id": "9_Db4HWSN4XU",
        "colab_type": "code",
        "colab": {}
      },
      "source": [
        "washington = pd.merge(washington_gov, washington_nonfarm, on='Date')"
      ],
      "execution_count": null,
      "outputs": []
    },
    {
      "cell_type": "code",
      "metadata": {
        "id": "PmNtiod5OiMk",
        "colab_type": "code",
        "colab": {}
      },
      "source": [
        "washington1 = pd.merge(washington, wash1, on='Date')\n"
      ],
      "execution_count": null,
      "outputs": []
    },
    {
      "cell_type": "code",
      "metadata": {
        "id": "avER0XttPVc4",
        "colab_type": "code",
        "colab": {}
      },
      "source": [
        "washington2 = pd.merge(washington1, wash2, on='Date')\n"
      ],
      "execution_count": null,
      "outputs": []
    },
    {
      "cell_type": "code",
      "metadata": {
        "id": "FHaz7Y5FP7Qj",
        "colab_type": "code",
        "colab": {}
      },
      "source": [
        "washington3 = pd.merge(washington2, wash3, on='Date')\n"
      ],
      "execution_count": null,
      "outputs": []
    },
    {
      "cell_type": "code",
      "metadata": {
        "id": "XV6bsY_sN4Oy",
        "colab_type": "code",
        "colab": {}
      },
      "source": [
        "washington4 = pd.merge(washington3, wash4, on='Date')\n"
      ],
      "execution_count": null,
      "outputs": []
    },
    {
      "cell_type": "code",
      "metadata": {
        "id": "bBEzLjYiRofS",
        "colab_type": "code",
        "colab": {}
      },
      "source": [
        "washington5 = pd.merge(washington4, wash5, on='Date')\n",
        "washington5"
      ],
      "execution_count": null,
      "outputs": []
    },
    {
      "cell_type": "markdown",
      "metadata": {
        "id": "gJCsA_cNST-0",
        "colab_type": "text"
      },
      "source": [
        "# Virginia"
      ]
    },
    {
      "cell_type": "code",
      "metadata": {
        "id": "fxHN7fJzipu8",
        "colab_type": "code",
        "colab": {}
      },
      "source": [
        "#All Employees, In Thousands; Total Government Providing -Virginia\n",
        "virginia_gov = quandl.get(\"BLSE/SMU51000009000000001\", start_date=\"2000-01-01\", end_date=\"2020-08-01\")\n",
        "virginia_gov.columns= ['Total Government Value']"
      ],
      "execution_count": null,
      "outputs": []
    },
    {
      "cell_type": "code",
      "metadata": {
        "id": "r537mPNOSzes",
        "colab_type": "code",
        "colab": {}
      },
      "source": [
        "#All Employees, In Thousands; Total Nonfarm Providing -Virginia\n",
        "virginia_nonfarm = quandl.get(\"BLSE/SMU51000000000000001\", start_date=\"2000-01-01\", end_date=\"2020-08-01\")\n",
        "virginia_nonfarm.columns= ['Total Nonfarm Provided Value']"
      ],
      "execution_count": null,
      "outputs": []
    },
    {
      "cell_type": "code",
      "metadata": {
        "id": "PsEf0rwrTHdQ",
        "colab_type": "code",
        "colab": {}
      },
      "source": [
        "#All Employees, In Thousands; Total Private Providing -Virginia\n",
        "virginia_priv = quandl.get(\"BLSE/SMU51000000500000001\", start_date=\"2000-01-01\", end_date=\"2020-08-01\")\n",
        "virginia_priv.columns= ['Total Private Industry Value']"
      ],
      "execution_count": null,
      "outputs": []
    },
    {
      "cell_type": "code",
      "metadata": {
        "id": "r_02Y80PTYpO",
        "colab_type": "code",
        "colab": {}
      },
      "source": [
        "#All Employees, In Thousands; Total Goods Produced Providing -Virginia\n",
        "virginia_goods = quandl.get(\"BLSE/SMU51000000600000001\", start_date=\"2000-01-01\", end_date=\"2020-08-01\")\n",
        "virginia_goods.columns= ['Total Goods Produced Value']"
      ],
      "execution_count": null,
      "outputs": []
    },
    {
      "cell_type": "code",
      "metadata": {
        "id": "4NhUh9WMTx3i",
        "colab_type": "code",
        "colab": {}
      },
      "source": [
        "#All Employees, In Thousands; Total Service Provided Providing -Virginia\n",
        "virginia_serv = quandl.get(\"BLSE/SMU51000000700000001\", start_date=\"2000-01-01\", end_date=\"2020-08-01\")\n",
        "virginia_serv.columns= ['Total Service Provided Value']"
      ],
      "execution_count": null,
      "outputs": []
    },
    {
      "cell_type": "code",
      "metadata": {
        "id": "8Wpc1EYTT-_z",
        "colab_type": "code",
        "colab": {}
      },
      "source": [
        "#All Employees, In Thousands; Total Mining & Logging Providing -Virginia\n",
        "virginia_mine = quandl.get(\"BLSE/SMU51000001000000001\", start_date=\"2000-01-01\", end_date=\"2020-08-01\")\n",
        "virginia_mine.columns= ['VTotal Mining & Logging Value']"
      ],
      "execution_count": null,
      "outputs": []
    },
    {
      "cell_type": "code",
      "metadata": {
        "id": "_fPzUe3WTlRg",
        "colab_type": "code",
        "colab": {}
      },
      "source": [
        "#All Employees, In Thousands; Total Manufacture Providing -Virginia\n",
        "virginia_manu = quandl.get(\"BLSE/SMU51000003000000001\", start_date=\"2000-01-01\", end_date=\"2020-08-01\")\n",
        "virginia_manu.columns= ['Total Manufacture Value']"
      ],
      "execution_count": null,
      "outputs": []
    },
    {
      "cell_type": "code",
      "metadata": {
        "id": "xxVwavomUxeN",
        "colab_type": "code",
        "colab": {}
      },
      "source": [
        "#All Employees, In Thousands; Total Durable Goods Providing -Virginia\n",
        "virginia_durable = quandl.get(\"BLSE/SMU51000003100000001\", start_date=\"2000-01-01\", end_date=\"2020-08-01\")\n",
        "virginia_durable.columns= ['Total Durable Goods Value']"
      ],
      "execution_count": null,
      "outputs": []
    },
    {
      "cell_type": "code",
      "metadata": {
        "id": "RefzMkoVVnX8",
        "colab_type": "code",
        "colab": {}
      },
      "source": [
        "#All Employees, In Thousands; Total Wholesale Trade Providing -Virginia\n",
        "virginia_wholesale = quandl.get(\"BLSE/SMU51000004100000001\", start_date=\"2000-01-01\", end_date=\"2020-08-01\")\n",
        "virginia_wholesale.columns= ['Wholesale Trade  Value']"
      ],
      "execution_count": null,
      "outputs": []
    },
    {
      "cell_type": "code",
      "metadata": {
        "id": "pjSdstytV49F",
        "colab_type": "code",
        "colab": {}
      },
      "source": [
        "#All Employees, In Thousands; Total Transportation & Utilities Goods Providing -Virginia\n",
        "virginia_transutil = quandl.get(\"BLSE/SMU51000004300000001\", start_date=\"2000-01-01\", end_date=\"2020-08-01\")\n",
        "virginia_transutil.columns= ['Total Transportation & Utilities Value']"
      ],
      "execution_count": null,
      "outputs": []
    },
    {
      "cell_type": "code",
      "metadata": {
        "id": "R4nlBvWPWKRt",
        "colab_type": "code",
        "colab": {}
      },
      "source": [
        "va4 = pd.merge(virginia_wholesale, virginia_transutil, on='Date')"
      ],
      "execution_count": null,
      "outputs": []
    },
    {
      "cell_type": "code",
      "metadata": {
        "id": "uzD0H--6VTso",
        "colab_type": "code",
        "colab": {}
      },
      "source": [
        "va3 = pd.merge( virginia_manu, virginia_durable, on='Date')"
      ],
      "execution_count": null,
      "outputs": []
    },
    {
      "cell_type": "code",
      "metadata": {
        "id": "chnSwELzULZd",
        "colab_type": "code",
        "colab": {}
      },
      "source": [
        "va2 = pd.merge(virginia_serv, virginia_mine, on='Date')"
      ],
      "execution_count": null,
      "outputs": []
    },
    {
      "cell_type": "code",
      "metadata": {
        "id": "yJF6HMmhTAYS",
        "colab_type": "code",
        "colab": {}
      },
      "source": [
        "va1 = pd.merge(virginia_priv, virginia_goods, on='Date')"
      ],
      "execution_count": null,
      "outputs": []
    },
    {
      "cell_type": "code",
      "metadata": {
        "id": "rl4jFfsjTAnK",
        "colab_type": "code",
        "colab": {}
      },
      "source": [
        "virginia = pd.merge(virginia_gov, virginia_nonfarm, on='Date')"
      ],
      "execution_count": null,
      "outputs": []
    },
    {
      "cell_type": "code",
      "metadata": {
        "id": "pxFhoqa5TsSg",
        "colab_type": "code",
        "colab": {}
      },
      "source": [
        "virginia1 = pd.merge(virginia, va1, on='Date')"
      ],
      "execution_count": null,
      "outputs": []
    },
    {
      "cell_type": "code",
      "metadata": {
        "id": "r5rCjR8dURpK",
        "colab_type": "code",
        "colab": {}
      },
      "source": [
        "virginia2 = pd.merge(virginia1, va2, on='Date')"
      ],
      "execution_count": null,
      "outputs": []
    },
    {
      "cell_type": "code",
      "metadata": {
        "id": "QI6vjRo7VbGi",
        "colab_type": "code",
        "colab": {}
      },
      "source": [
        "virginia3 = pd.merge(virginia2, va3, on='Date')"
      ],
      "execution_count": null,
      "outputs": []
    },
    {
      "cell_type": "code",
      "metadata": {
        "id": "S86UshU6WVP4",
        "colab_type": "code",
        "colab": {}
      },
      "source": [
        "virginia4 = pd.merge(virginia3, va4, on='Date')\n",
        "virginia4"
      ],
      "execution_count": null,
      "outputs": []
    },
    {
      "cell_type": "markdown",
      "metadata": {
        "id": "t7kmGKVJXNdI",
        "colab_type": "text"
      },
      "source": [
        "# Vermont"
      ]
    },
    {
      "cell_type": "code",
      "metadata": {
        "id": "GCY-J_gnXWEM",
        "colab_type": "code",
        "colab": {}
      },
      "source": [
        "#All Employees, In Thousands; Total Government Providing -Vermont\n",
        "vermont_gov = quandl.get(\"BLSE/SMU50000009000000001\", start_date=\"2000-01-01\", end_date=\"2020-08-01\")\n",
        "vermont_gov.columns= ['Total Government Value']"
      ],
      "execution_count": null,
      "outputs": []
    },
    {
      "cell_type": "code",
      "metadata": {
        "id": "Xguv3KEtXnin",
        "colab_type": "code",
        "colab": {}
      },
      "source": [
        "#All Employees, In Thousands; Total Nonfarm Providing -Vermont\n",
        "vermont_nonfarm = quandl.get(\"BLSE/SMU50000000000000001\", start_date=\"2000-01-01\", end_date=\"2020-08-01\")\n",
        "vermont_nonfarm.columns= ['Total Nonfarm Provided Value']"
      ],
      "execution_count": null,
      "outputs": []
    },
    {
      "cell_type": "code",
      "metadata": {
        "id": "LOt0VZNgX7HN",
        "colab_type": "code",
        "colab": {}
      },
      "source": [
        "#All Employees, In Thousands; Total Private Providing -Vermont\n",
        "vermont_priv = quandl.get(\"BLSE/SMU50000000500000001\", start_date=\"2000-01-01\", end_date=\"2020-08-01\")\n",
        "vermont_priv.columns= ['Total Private Industry Value']"
      ],
      "execution_count": null,
      "outputs": []
    },
    {
      "cell_type": "code",
      "metadata": {
        "id": "0B5N3bQOYIA9",
        "colab_type": "code",
        "colab": {}
      },
      "source": [
        "#All Employees, In Thousands; Total Goods Producing Providing -Vermont\n",
        "vermont_goods = quandl.get(\"BLSE/SMU50000000600000001\", start_date=\"2000-01-01\", end_date=\"2020-08-01\")\n",
        "vermont_goods.columns= ['Total Goods Produced Value']"
      ],
      "execution_count": null,
      "outputs": []
    },
    {
      "cell_type": "code",
      "metadata": {
        "id": "18teOAy4YhRg",
        "colab_type": "code",
        "colab": {}
      },
      "source": [
        "#All Employees, In Thousands; Total Service Providing -Vermont\n",
        "vermont_serv = quandl.get(\"BLSE/SMU50000000700000001\", start_date=\"2000-01-01\", end_date=\"2020-08-01\")\n",
        "vermont_serv.columns= ['Total Service Provided Value']"
      ],
      "execution_count": null,
      "outputs": []
    },
    {
      "cell_type": "code",
      "metadata": {
        "id": "wzILmibAZ3so",
        "colab_type": "code",
        "colab": {}
      },
      "source": [
        "#All Employees, In Thousands; Total Mining & Logging Providing -Vermont\n",
        "vermont_mine = quandl.get(\"BLSE/SMU50000001000000001\", start_date=\"2000-01-01\", end_date=\"2020-08-01\")\n",
        "vermont_mine.columns= ['Total Mining & Logging Value']"
      ],
      "execution_count": null,
      "outputs": []
    },
    {
      "cell_type": "code",
      "metadata": {
        "id": "SMs0hhyoaoe2",
        "colab_type": "code",
        "colab": {}
      },
      "source": [
        "#All Employees, In Thousands; Total Manufacture Providing -Vermont\n",
        "vermont_manu = quandl.get(\"BLSE/SMU50000003000000001\", start_date=\"2000-01-01\", end_date=\"2020-08-01\")\n",
        "vermont_manu.columns= ['Total Manufacture Value']"
      ],
      "execution_count": null,
      "outputs": []
    },
    {
      "cell_type": "code",
      "metadata": {
        "id": "Mo0t4ZV4a1Ou",
        "colab_type": "code",
        "colab": {}
      },
      "source": [
        "#All Employees, In Thousands; Total Durable Goods Providing -Vermont\n",
        "vermont_durable = quandl.get(\"BLSE/SMU50000003100000001\", start_date=\"2000-01-01\", end_date=\"2020-08-01\")\n",
        "vermont_durable.columns= ['Total Durable Goods Value']"
      ],
      "execution_count": null,
      "outputs": []
    },
    {
      "cell_type": "code",
      "metadata": {
        "id": "82bpdBO7bS56",
        "colab_type": "code",
        "colab": {}
      },
      "source": [
        "#All Employees, In Thousands; Total Wholesale Trade Providing -Vermont\n",
        "vermont_wholesale = quandl.get(\"BLSE/SMU50000004100000001\", start_date=\"2000-01-01\", end_date=\"2020-08-01\")\n",
        "vermont_wholesale.columns= ['Wholesale Trade Value']"
      ],
      "execution_count": null,
      "outputs": []
    },
    {
      "cell_type": "code",
      "metadata": {
        "id": "fD4J5MkubgYR",
        "colab_type": "code",
        "colab": {}
      },
      "source": [
        "#All Employees, In Thousands; Total Transportation & Utilities Providing -Vermont\n",
        "vermont_transutil = quandl.get(\"BLSE/SMU50000004300000001\", start_date=\"2000-01-01\", end_date=\"2020-08-01\")\n",
        "vermont_transutil.columns= ['Total Transportation & Utilities Value']"
      ],
      "execution_count": null,
      "outputs": []
    },
    {
      "cell_type": "code",
      "metadata": {
        "id": "6_nON3uYaXJB",
        "colab_type": "code",
        "colab": {}
      },
      "source": [
        "ver4 = pd.merge(vermont_wholesale, vermont_transutil, on='Date')"
      ],
      "execution_count": null,
      "outputs": []
    },
    {
      "cell_type": "code",
      "metadata": {
        "id": "wmWxnD9UXwZW",
        "colab_type": "code",
        "colab": {}
      },
      "source": [
        "ver3 = pd.merge(vermont_manu, vermont_durable, on='Date')"
      ],
      "execution_count": null,
      "outputs": []
    },
    {
      "cell_type": "code",
      "metadata": {
        "id": "Y5GKOyMsXxEJ",
        "colab_type": "code",
        "colab": {}
      },
      "source": [
        "ver2 = pd.merge(vermont_serv, vermont_mine, on='Date')"
      ],
      "execution_count": null,
      "outputs": []
    },
    {
      "cell_type": "code",
      "metadata": {
        "id": "90HDe7MQYTl3",
        "colab_type": "code",
        "colab": {}
      },
      "source": [
        "ver1 = pd.merge(vermont_priv, vermont_goods, on='Date')"
      ],
      "execution_count": null,
      "outputs": []
    },
    {
      "cell_type": "code",
      "metadata": {
        "id": "o1odli-wXwu1",
        "colab_type": "code",
        "colab": {}
      },
      "source": [
        "vermont = pd.merge(vermont_gov, vermont_nonfarm, on='Date')"
      ],
      "execution_count": null,
      "outputs": []
    },
    {
      "cell_type": "code",
      "metadata": {
        "id": "ySmrrExWXyGd",
        "colab_type": "code",
        "colab": {}
      },
      "source": [
        "vermont1 = pd.merge(vermont, ver1, on='Date')"
      ],
      "execution_count": null,
      "outputs": []
    },
    {
      "cell_type": "code",
      "metadata": {
        "id": "8TarOjzVaeww",
        "colab_type": "code",
        "colab": {}
      },
      "source": [
        "vermont2 = pd.merge(vermont1, ver2, on='Date')"
      ],
      "execution_count": null,
      "outputs": []
    },
    {
      "cell_type": "code",
      "metadata": {
        "id": "W4VWFWKabJZG",
        "colab_type": "code",
        "colab": {}
      },
      "source": [
        "vermont3 = pd.merge(vermont2, ver3, on='Date')\n"
      ],
      "execution_count": null,
      "outputs": []
    },
    {
      "cell_type": "code",
      "metadata": {
        "id": "KRUEMI8lcHxk",
        "colab_type": "code",
        "colab": {}
      },
      "source": [
        "vermont4 = pd.merge(vermont3, ver4, on='Date')\n",
        "vermont4"
      ],
      "execution_count": null,
      "outputs": []
    },
    {
      "cell_type": "markdown",
      "metadata": {
        "id": "v0N1mOzsd7xp",
        "colab_type": "text"
      },
      "source": [
        "# Utah"
      ]
    },
    {
      "cell_type": "code",
      "metadata": {
        "id": "IqaqoHD9d_xK",
        "colab_type": "code",
        "colab": {}
      },
      "source": [
        "#All Employees, In Thousands; Total Government Providing -Utah\n",
        "utah_gov = quandl.get(\"BLSE/SMU49000009000000001\", start_date=\"2000-01-01\", end_date=\"2020-08-01\")\n",
        "utah_gov.columns= ['Total Government Value']"
      ],
      "execution_count": null,
      "outputs": []
    },
    {
      "cell_type": "code",
      "metadata": {
        "id": "WraliRMgeRpB",
        "colab_type": "code",
        "colab": {}
      },
      "source": [
        "#All Employees, In Thousands; Total Nonfarm Providing -Utah\n",
        "utah_nonfarm = quandl.get(\"BLSE/SMU49000000000000001\", start_date=\"2000-01-01\", end_date=\"2020-08-01\")\n",
        "utah_nonfarm.columns= ['Total Nonfarm Provided Value']"
      ],
      "execution_count": null,
      "outputs": []
    },
    {
      "cell_type": "code",
      "metadata": {
        "id": "W-IpPkf-eeNW",
        "colab_type": "code",
        "colab": {}
      },
      "source": [
        "#All Employees, In Thousands; Total Private Providing -Utah\n",
        "utah_priv = quandl.get(\"BLSE/SMU49000000500000001\", start_date=\"2000-01-01\", end_date=\"2020-08-01\")\n",
        "utah_priv.columns= ['Total Private Indsutry Value']"
      ],
      "execution_count": null,
      "outputs": []
    },
    {
      "cell_type": "code",
      "metadata": {
        "id": "1M-RvfPYefKJ",
        "colab_type": "code",
        "colab": {}
      },
      "source": [
        "#All Employees, In Thousands; Total Goods Producing Providing -Utah\n",
        "utah_goods = quandl.get(\"BLSE/SMU49000000600000001\", start_date=\"2000-01-01\", end_date=\"2020-08-01\")\n",
        "utah_goods.columns= ['Total Goods Produced Value']"
      ],
      "execution_count": null,
      "outputs": []
    },
    {
      "cell_type": "code",
      "metadata": {
        "id": "uf_NSwZifMYz",
        "colab_type": "code",
        "colab": {}
      },
      "source": [
        "#All Employees, In Thousands; Total Service Providing -Utah\n",
        "utah_serv = quandl.get(\"BLSE/SMU49000000700000001\", start_date=\"2000-01-01\", end_date=\"2020-08-01\")\n",
        "utah_serv.columns= ['Total Service Provided Value']"
      ],
      "execution_count": null,
      "outputs": []
    },
    {
      "cell_type": "code",
      "metadata": {
        "id": "w-DUNkaTefFm",
        "colab_type": "code",
        "colab": {}
      },
      "source": [
        "#All Employees, In Thousands; Total Mining & Logging Providing -Utah\n",
        "utah_mine = quandl.get(\"BLSE/SMU49000001000000001\", start_date=\"2000-01-01\", end_date=\"2020-08-01\")\n",
        "utah_mine.columns= ['Total Mining & Logging Value']"
      ],
      "execution_count": null,
      "outputs": []
    },
    {
      "cell_type": "code",
      "metadata": {
        "id": "ZcBfGTarfxPb",
        "colab_type": "code",
        "colab": {}
      },
      "source": [
        "#All Employees, In Thousands; Total Manufacture Providing -Utah\n",
        "utah_manu = quandl.get(\"BLSE/SMU49000003000000001\", start_date=\"2000-01-01\", end_date=\"2020-08-01\")\n",
        "utah_manu.columns= ['Total Manufacture Value']"
      ],
      "execution_count": null,
      "outputs": []
    },
    {
      "cell_type": "code",
      "metadata": {
        "id": "W22WshSrefBA",
        "colab_type": "code",
        "colab": {}
      },
      "source": [
        "#All Employees, In Thousands; Total Durable Goods Providing -Utah\n",
        "utah_durable = quandl.get(\"BLSE/SMU49000003100000001\", start_date=\"2000-01-01\", end_date=\"2020-08-01\")\n",
        "utah_durable.columns= ['Total Durable Goods Value']"
      ],
      "execution_count": null,
      "outputs": []
    },
    {
      "cell_type": "code",
      "metadata": {
        "id": "9ZGMrYU8ee76",
        "colab_type": "code",
        "colab": {}
      },
      "source": [
        "#All Employees, In Thousands; Total Wholesale Trade Providing -Utah\n",
        "utah_wholesale = quandl.get(\"BLSE/SMU49000004100000001\", start_date=\"2000-01-01\", end_date=\"2020-08-01\")\n",
        "utah_wholesale.columns= ['Wholesale Trade  Value']"
      ],
      "execution_count": null,
      "outputs": []
    },
    {
      "cell_type": "code",
      "metadata": {
        "id": "q2yxwF9ngFTM",
        "colab_type": "code",
        "colab": {}
      },
      "source": [
        "#All Employees, In Thousands; Total Transportation & Utilities Providing -Utah\n",
        "utah_transutil = quandl.get(\"BLSE/SMU49000004300000001\", start_date=\"2000-01-01\", end_date=\"2020-08-01\")\n",
        "utah_transutil.columns= ['Total Transportation & Utilities Value']"
      ],
      "execution_count": null,
      "outputs": []
    },
    {
      "cell_type": "code",
      "metadata": {
        "id": "uJ344UL8hN3M",
        "colab_type": "code",
        "colab": {}
      },
      "source": [
        "#All Employees, In Thousands; Total Air Transportation Providing -Utah\n",
        "utah_air = quandl.get(\"BLSE/SMU49000004348100001\", start_date=\"2000-01-01\", end_date=\"2020-08-01\")\n",
        "utah_air.columns= ['Total Air Transportation Value']"
      ],
      "execution_count": null,
      "outputs": []
    },
    {
      "cell_type": "code",
      "metadata": {
        "id": "Cr688d9shf5c",
        "colab_type": "code",
        "colab": {}
      },
      "source": [
        "#All Employees, In Thousands; Total Truck Transportation Providing -Utah\n",
        "utah_truck = quandl.get(\"BLSE/SMU49000004348400001\", start_date=\"2000-01-01\", end_date=\"2020-08-01\")\n",
        "utah_truck.columns= ['Total Truck Transportation Provided Value']"
      ],
      "execution_count": null,
      "outputs": []
    },
    {
      "cell_type": "code",
      "metadata": {
        "id": "SQSRw9Nohx75",
        "colab_type": "code",
        "colab": {}
      },
      "source": [
        "#All Employees, In Thousands; Total Telecommunication Providing -Utah\n",
        "utah_telecommunication = quandl.get(\"BLSE/SMU49000005051700001\", start_date=\"2000-01-01\", end_date=\"2020-08-01\")\n",
        "utah_telecommunication.columns= ['Total Telecommunication Value']"
      ],
      "execution_count": null,
      "outputs": []
    },
    {
      "cell_type": "code",
      "metadata": {
        "id": "_BhIMycCiIKr",
        "colab_type": "code",
        "colab": {}
      },
      "source": [
        "#All Employees, In Thousands; Total Real Estate Providing -Utah\n",
        "utah_estate = quandl.get(\"BLSE/SMU49000005553100001\", start_date=\"2000-01-01\", end_date=\"2020-08-01\")\n",
        "utah_estate.columns= ['Total Real Estate Value']"
      ],
      "execution_count": null,
      "outputs": []
    },
    {
      "cell_type": "code",
      "metadata": {
        "id": "k53Llhikil1R",
        "colab_type": "code",
        "colab": {}
      },
      "source": [
        ""
      ],
      "execution_count": null,
      "outputs": []
    },
    {
      "cell_type": "code",
      "metadata": {
        "id": "rR4Y3Diogk0l",
        "colab_type": "code",
        "colab": {}
      },
      "source": [
        ""
      ],
      "execution_count": null,
      "outputs": []
    },
    {
      "cell_type": "code",
      "metadata": {
        "id": "1aMXe1bZijxj",
        "colab_type": "code",
        "colab": {}
      },
      "source": [
        "ut6 = pd.merge(utah_telecommunication, utah_estate, on='Date')"
      ],
      "execution_count": null,
      "outputs": []
    },
    {
      "cell_type": "code",
      "metadata": {
        "id": "aFZaub3hee3z",
        "colab_type": "code",
        "colab": {}
      },
      "source": [
        "ut5 = pd.merge(utah_air, utah_truck, on='Date')"
      ],
      "execution_count": null,
      "outputs": []
    },
    {
      "cell_type": "code",
      "metadata": {
        "id": "9CZRJD5mgtvy",
        "colab_type": "code",
        "colab": {}
      },
      "source": [
        "ut4 = pd.merge(utah_wholesale, utah_transutil, on='Date')"
      ],
      "execution_count": null,
      "outputs": []
    },
    {
      "cell_type": "code",
      "metadata": {
        "id": "KxJkTZpxeezt",
        "colab_type": "code",
        "colab": {}
      },
      "source": [
        "ut3 = pd.merge(utah_manu, utah_durable, on='Date')"
      ],
      "execution_count": null,
      "outputs": []
    },
    {
      "cell_type": "code",
      "metadata": {
        "id": "Gh0Xjau4eeu4",
        "colab_type": "code",
        "colab": {}
      },
      "source": [
        "ut2 = pd.merge(utah_serv, utah_mine, on='Date')"
      ],
      "execution_count": null,
      "outputs": []
    },
    {
      "cell_type": "code",
      "metadata": {
        "id": "rY080ZCTeerC",
        "colab_type": "code",
        "colab": {}
      },
      "source": [
        "ut1 = pd.merge(utah_priv, utah_goods, on='Date')"
      ],
      "execution_count": null,
      "outputs": []
    },
    {
      "cell_type": "code",
      "metadata": {
        "id": "mln6Y33ieem-",
        "colab_type": "code",
        "colab": {}
      },
      "source": [
        "utah = pd.merge(utah_gov, utah_nonfarm, on='Date')"
      ],
      "execution_count": null,
      "outputs": []
    },
    {
      "cell_type": "code",
      "metadata": {
        "id": "KamoMywkfGxf",
        "colab_type": "code",
        "colab": {}
      },
      "source": [
        "utah1 = pd.merge(utah, ut1, on='Date')"
      ],
      "execution_count": null,
      "outputs": []
    },
    {
      "cell_type": "code",
      "metadata": {
        "id": "l3ZCA5c8flK8",
        "colab_type": "code",
        "colab": {}
      },
      "source": [
        "utah2 = pd.merge(utah1, ut2, on='Date')"
      ],
      "execution_count": null,
      "outputs": []
    },
    {
      "cell_type": "code",
      "metadata": {
        "id": "WWx536L7eeiR",
        "colab_type": "code",
        "colab": {}
      },
      "source": [
        "utah3 = pd.merge(utah2, ut3, on='Date')"
      ],
      "execution_count": null,
      "outputs": []
    },
    {
      "cell_type": "code",
      "metadata": {
        "id": "EZ0eAvvBeeb2",
        "colab_type": "code",
        "colab": {}
      },
      "source": [
        "utah4 = pd.merge(utah3, ut4, on='Date')\n"
      ],
      "execution_count": null,
      "outputs": []
    },
    {
      "cell_type": "code",
      "metadata": {
        "id": "NNYQDzuri1Xq",
        "colab_type": "code",
        "colab": {}
      },
      "source": [
        "utah5 = pd.merge(utah4, ut5, on='Date')"
      ],
      "execution_count": null,
      "outputs": []
    },
    {
      "cell_type": "code",
      "metadata": {
        "id": "1pQDlDlSjCGs",
        "colab_type": "code",
        "colab": {}
      },
      "source": [
        "utah6 = pd.merge(utah5, ut6, on='Date')\n",
        "utah6"
      ],
      "execution_count": null,
      "outputs": []
    },
    {
      "cell_type": "markdown",
      "metadata": {
        "id": "nL7fkNfIjqMt",
        "colab_type": "text"
      },
      "source": [
        "# Texas"
      ]
    },
    {
      "cell_type": "code",
      "metadata": {
        "id": "6IJ99YSSjvK3",
        "colab_type": "code",
        "colab": {}
      },
      "source": [
        "#All Employees, In Thousands; Total Government Providing -Texas\n",
        "texas_gov = quandl.get(\"BLSE/SMU48000009000000001\", start_date=\"2000-01-01\", end_date=\"2020-08-01\")\n",
        "texas_gov.columns= ['Total Government Value']"
      ],
      "execution_count": null,
      "outputs": []
    },
    {
      "cell_type": "code",
      "metadata": {
        "id": "IeidmP6ZkGzb",
        "colab_type": "code",
        "colab": {}
      },
      "source": [
        "#All Employees, In Thousands; Total Nonfarm Providing -Texas\n",
        "texas_nonfarm = quandl.get(\"BLSE/SMU48000000000000001\", start_date=\"2000-01-01\", end_date=\"2020-08-01\")\n",
        "texas_nonfarm.columns= ['Total Nonfarm Provided Value']"
      ],
      "execution_count": null,
      "outputs": []
    },
    {
      "cell_type": "code",
      "metadata": {
        "id": "vGrtXKmVkJWW",
        "colab_type": "code",
        "colab": {}
      },
      "source": [
        "#All Employees, In Thousands; Total Private Providing -Texas\n",
        "texas_priv = quandl.get(\"BLSE/SMU48000000500000001\", start_date=\"2000-01-01\", end_date=\"2020-08-01\")\n",
        "texas_priv.columns= ['Total Private Industry Value']"
      ],
      "execution_count": null,
      "outputs": []
    },
    {
      "cell_type": "code",
      "metadata": {
        "id": "EJ3EhruvkaP4",
        "colab_type": "code",
        "colab": {}
      },
      "source": [
        "#All Employees, In Thousands; Total Goods Producing Providing -Texas\n",
        "texas_goods = quandl.get(\"BLSE/SMU48000000600000001\", start_date=\"2000-01-01\", end_date=\"2020-08-01\")\n",
        "texas_goods.columns= ['Total Goods Produced Value']"
      ],
      "execution_count": null,
      "outputs": []
    },
    {
      "cell_type": "code",
      "metadata": {
        "id": "F1SJDUYZkJQO",
        "colab_type": "code",
        "colab": {}
      },
      "source": [
        "#All Employees, In Thousands; Total Service Providing -Texas\n",
        "texas_serv = quandl.get(\"BLSE/SMU48000000700000001\", start_date=\"2000-01-01\", end_date=\"2020-08-01\")\n",
        "texas_serv.columns= ['Total Service Provided Value']"
      ],
      "execution_count": null,
      "outputs": []
    },
    {
      "cell_type": "code",
      "metadata": {
        "id": "Zj3r1TEllJCT",
        "colab_type": "code",
        "colab": {}
      },
      "source": [
        "#All Employees, In Thousands; Total Mining & Logging Providing -Texas\n",
        "texas_mine = quandl.get(\"BLSE/SMU48000001000000001\", start_date=\"2000-01-01\", end_date=\"2020-08-01\")\n",
        "texas_mine.columns= ['Total Mining & Logging Value']"
      ],
      "execution_count": null,
      "outputs": []
    },
    {
      "cell_type": "code",
      "metadata": {
        "id": "LfAgoh86kJJ9",
        "colab_type": "code",
        "colab": {}
      },
      "source": [
        "#All Employees, In Thousands; Total Manufacture Providing -Texas\n",
        "texas_manu = quandl.get(\"BLSE/SMU48000003000000001\", start_date=\"2000-01-01\", end_date=\"2020-08-01\")\n",
        "texas_manu.columns= ['Total Manufacture Value']"
      ],
      "execution_count": null,
      "outputs": []
    },
    {
      "cell_type": "code",
      "metadata": {
        "id": "vEEZYP3-mBkJ",
        "colab_type": "code",
        "colab": {}
      },
      "source": [
        "#All Employees, In Thousands; Total Durable Goods Providing -Texas\n",
        "texas_durable = quandl.get(\"BLSE/SMU48000003100000001\", start_date=\"2000-01-01\", end_date=\"2020-08-01\")\n",
        "texas_durable.columns= ['Total Durable Goods Value']"
      ],
      "execution_count": null,
      "outputs": []
    },
    {
      "cell_type": "code",
      "metadata": {
        "id": "6CGrrO6dmM6A",
        "colab_type": "code",
        "colab": {}
      },
      "source": [
        "#All Employees, In Thousands; Total Wholesale Trade Providing -Texas\n",
        "texas_wholesale = quandl.get(\"BLSE/SMU48000004100000001\", start_date=\"2000-01-01\", end_date=\"2020-08-01\")\n",
        "texas_wholesale.columns= ['Wholesale Trade Value']"
      ],
      "execution_count": null,
      "outputs": []
    },
    {
      "cell_type": "code",
      "metadata": {
        "id": "0y3LHe0ymDCq",
        "colab_type": "code",
        "colab": {}
      },
      "source": [
        "#All Employees, In Thousands; Total Transportation & Utilities Providing -Texas\n",
        "texas_transutil = quandl.get(\"BLSE/SMU48000004300000001\", start_date=\"2000-01-01\", end_date=\"2020-08-01\")\n",
        "texas_transutil.columns= ['Total Transportation & Utilities Value']"
      ],
      "execution_count": null,
      "outputs": []
    },
    {
      "cell_type": "code",
      "metadata": {
        "id": "pVdcVudRnQlM",
        "colab_type": "code",
        "colab": {}
      },
      "source": [
        "#All Employees, In Thousands; Total Air Transportation Providing -Texas\n",
        "texas_air = quandl.get(\"BLSE/SMU48000004348100001\", start_date=\"2000-01-01\", end_date=\"2020-08-01\")\n",
        "texas_air.columns= ['Total Air Transportation Value']"
      ],
      "execution_count": null,
      "outputs": []
    },
    {
      "cell_type": "code",
      "metadata": {
        "id": "Co5oMJsanVqF",
        "colab_type": "code",
        "colab": {}
      },
      "source": [
        "#All Employees, In Thousands; Total Truck Transportation Providing -Texas\n",
        "texas_truck = quandl.get(\"BLSE/SMU48000004348400001\", start_date=\"2000-01-01\", end_date=\"2020-08-01\")\n",
        "texas_truck.columns= ['Total Truck Transportation Provided Value']"
      ],
      "execution_count": null,
      "outputs": []
    },
    {
      "cell_type": "code",
      "metadata": {
        "id": "3XdQaV-6ngca",
        "colab_type": "code",
        "colab": {}
      },
      "source": [
        "#All Employees, In Thousands; Total Telecommunication Providing -Texas\n",
        "texas_telecommunication = quandl.get(\"BLSE/SMU48000005051700001\", start_date=\"2000-01-01\", end_date=\"2020-08-01\")\n",
        "texas_telecommunication.columns= ['Total Telecommunication Value']"
      ],
      "execution_count": null,
      "outputs": []
    },
    {
      "cell_type": "code",
      "metadata": {
        "id": "md2FjMYYn0c0",
        "colab_type": "code",
        "colab": {}
      },
      "source": [
        "#All Employees, In Thousands; Total Real Estate Providing -Texas\n",
        "texas_estate = quandl.get(\"BLSE/SMU48000005553100001\", start_date=\"2000-01-01\", end_date=\"2020-08-01\")\n",
        "texas_estate.columns= ['Total Real Estate Value']"
      ],
      "execution_count": null,
      "outputs": []
    },
    {
      "cell_type": "code",
      "metadata": {
        "id": "iZpwGQOroJmP",
        "colab_type": "code",
        "colab": {}
      },
      "source": [
        "tx6 = pd.merge(texas_telecommunication, texas_estate, on='Date')"
      ],
      "execution_count": null,
      "outputs": []
    },
    {
      "cell_type": "code",
      "metadata": {
        "id": "VFVDtWiqoAH7",
        "colab_type": "code",
        "colab": {}
      },
      "source": [
        "tx5 = pd.merge(texas_air, texas_truck, on='Date')"
      ],
      "execution_count": null,
      "outputs": []
    },
    {
      "cell_type": "code",
      "metadata": {
        "id": "vkwJK6qNkJBs",
        "colab_type": "code",
        "colab": {}
      },
      "source": [
        "tx4 = pd.merge(texas_wholesale, texas_transutil, on='Date')"
      ],
      "execution_count": null,
      "outputs": []
    },
    {
      "cell_type": "code",
      "metadata": {
        "id": "H_E--GkrkI5P",
        "colab_type": "code",
        "colab": {}
      },
      "source": [
        "tx3 = pd.merge(texas_manu, texas_durable, on='Date')"
      ],
      "execution_count": null,
      "outputs": []
    },
    {
      "cell_type": "code",
      "metadata": {
        "id": "GhLHneVKkIxu",
        "colab_type": "code",
        "colab": {}
      },
      "source": [
        "tx2 = pd.merge(texas_serv, texas_mine, on='Date')"
      ],
      "execution_count": null,
      "outputs": []
    },
    {
      "cell_type": "code",
      "metadata": {
        "id": "E4BXktAdkIow",
        "colab_type": "code",
        "colab": {}
      },
      "source": [
        "tx1 = pd.merge(texas_priv, texas_goods, on='Date')"
      ],
      "execution_count": null,
      "outputs": []
    },
    {
      "cell_type": "code",
      "metadata": {
        "id": "NCW1-AQckIjD",
        "colab_type": "code",
        "colab": {}
      },
      "source": [
        "texas = pd.merge(texas_gov, texas_nonfarm, on='Date')"
      ],
      "execution_count": null,
      "outputs": []
    },
    {
      "cell_type": "code",
      "metadata": {
        "id": "rE9_sE-EkIdU",
        "colab_type": "code",
        "colab": {}
      },
      "source": [
        "texas1 = pd.merge(texas, tx1, on='Date')"
      ],
      "execution_count": null,
      "outputs": []
    },
    {
      "cell_type": "code",
      "metadata": {
        "id": "nLrvVmgDkIXf",
        "colab_type": "code",
        "colab": {}
      },
      "source": [
        "texas2 = pd.merge(texas1, tx2, on='Date')"
      ],
      "execution_count": null,
      "outputs": []
    },
    {
      "cell_type": "code",
      "metadata": {
        "id": "bE-5a-Avm-tA",
        "colab_type": "code",
        "colab": {}
      },
      "source": [
        "texas3 = pd.merge(texas2, tx3, on='Date')"
      ],
      "execution_count": null,
      "outputs": []
    },
    {
      "cell_type": "code",
      "metadata": {
        "id": "xCT8WlranFFf",
        "colab_type": "code",
        "colab": {}
      },
      "source": [
        "texas4 = pd.merge(texas3, tx4, on='Date')"
      ],
      "execution_count": null,
      "outputs": []
    },
    {
      "cell_type": "code",
      "metadata": {
        "id": "XdPHJyCBoUGe",
        "colab_type": "code",
        "colab": {}
      },
      "source": [
        "texas5 = pd.merge(texas4, tx5, on='Date')"
      ],
      "execution_count": null,
      "outputs": []
    },
    {
      "cell_type": "code",
      "metadata": {
        "id": "aVOaJxtxoatu",
        "colab_type": "code",
        "colab": {}
      },
      "source": [
        "texas6 = pd.merge(texas5, tx6, on='Date')"
      ],
      "execution_count": null,
      "outputs": []
    },
    {
      "cell_type": "code",
      "metadata": {
        "id": "lNgs4zA3ouNE",
        "colab_type": "code",
        "colab": {}
      },
      "source": [
        "texas6"
      ],
      "execution_count": null,
      "outputs": []
    },
    {
      "cell_type": "markdown",
      "metadata": {
        "id": "Oa6i_m3zozCP",
        "colab_type": "text"
      },
      "source": [
        "# Tennessee"
      ]
    },
    {
      "cell_type": "code",
      "metadata": {
        "id": "gOJnyfAKo47X",
        "colab_type": "code",
        "colab": {}
      },
      "source": [
        "#All Employees, In Thousands; Total Government Providing -Tennessee\n",
        "tenn_gov = quandl.get(\"BLSE/SMU47000009000000001\", start_date=\"2000-01-01\", end_date=\"2020-08-01\")\n",
        "tenn_gov.columns= ['Total Government Value']"
      ],
      "execution_count": null,
      "outputs": []
    },
    {
      "cell_type": "code",
      "metadata": {
        "id": "WdvybKj1pdoc",
        "colab_type": "code",
        "colab": {}
      },
      "source": [
        "#All Employees, In Thousands; Total Nonfarm Providing -Tenneseee\n",
        "tenn_nonfarm = quandl.get(\"BLSE/SMU47000000000000001\", start_date=\"2000-01-01\", end_date=\"2020-08-01\")\n",
        "tenn_nonfarm.columns= ['Total Nonfarm Provided Value']"
      ],
      "execution_count": null,
      "outputs": []
    },
    {
      "cell_type": "code",
      "metadata": {
        "id": "lc9uOaHmplqt",
        "colab_type": "code",
        "colab": {}
      },
      "source": [
        "#All Employees, In Thousands; Total Private Providing -Tennessee\n",
        "tenn_priv = quandl.get(\"BLSE/SMU47000000500000001\", start_date=\"2000-01-01\", end_date=\"2020-08-01\")\n",
        "tenn_priv.columns= ['Total Private Industry Value']"
      ],
      "execution_count": null,
      "outputs": []
    },
    {
      "cell_type": "code",
      "metadata": {
        "id": "i8pBQYT8p0ED",
        "colab_type": "code",
        "colab": {}
      },
      "source": [
        "#All Employees, In Thousands; Total Goods Producing Providing -Tennessee\n",
        "tenn_goods = quandl.get(\"BLSE/SMU47000000600000001\", start_date=\"2000-01-01\", end_date=\"2020-08-01\")\n",
        "tenn_goods.columns= ['Total Goods Produced Provided Value']"
      ],
      "execution_count": null,
      "outputs": []
    },
    {
      "cell_type": "code",
      "metadata": {
        "id": "6cG20CeFp1bA",
        "colab_type": "code",
        "colab": {}
      },
      "source": [
        "#All Employees, In Thousands; Total Service Providing -Tennessee\n",
        "tenn_serv = quandl.get(\"BLSE/SMU47000000700000001\", start_date=\"2000-01-01\", end_date=\"2020-08-01\")\n",
        "tenn_serv.columns= ['Total Service Provided Value']"
      ],
      "execution_count": null,
      "outputs": []
    },
    {
      "cell_type": "code",
      "metadata": {
        "id": "QeV-NjCsqvmG",
        "colab_type": "code",
        "colab": {}
      },
      "source": [
        "#All Employees, In Thousands; Total Manufacture Providing -Tennessee\n",
        "tenn_manu = quandl.get(\"BLSE/SMU47000003000000001\", start_date=\"2000-01-01\", end_date=\"2020-08-01\")\n",
        "tenn_manu.columns= ['Total Manufacture Value']"
      ],
      "execution_count": null,
      "outputs": []
    },
    {
      "cell_type": "code",
      "metadata": {
        "id": "m_34dnokq95d",
        "colab_type": "code",
        "colab": {}
      },
      "source": [
        "#All Employees, In Thousands; Total Durable Goods Providing -Tennessee\n",
        "tenn_durable = quandl.get(\"BLSE/SMU47000003100000001\", start_date=\"2000-01-01\", end_date=\"2020-08-01\")\n",
        "tenn_durable.columns= ['Total Durable Goods Value']"
      ],
      "execution_count": null,
      "outputs": []
    },
    {
      "cell_type": "code",
      "metadata": {
        "id": "N8Vb0hFxrFJD",
        "colab_type": "code",
        "colab": {}
      },
      "source": [
        "#All Employees, In Thousands; Total Wholesale Trade Providing -Tennessee\n",
        "tenn_wholesale = quandl.get(\"BLSE/SMU47000004100000001\", start_date=\"2000-01-01\", end_date=\"2020-08-01\")\n",
        "tenn_wholesale.columns= ['Wholesale Trade Value']"
      ],
      "execution_count": null,
      "outputs": []
    },
    {
      "cell_type": "code",
      "metadata": {
        "id": "uIP8fh7nrVhP",
        "colab_type": "code",
        "colab": {}
      },
      "source": [
        "#All Employees, In Thousands; Total Transportation & Utilities Providing -Tennessee\n",
        "tenn_transutil = quandl.get(\"BLSE/SMU47000004300000001\", start_date=\"2000-01-01\", end_date=\"2020-08-01\")\n",
        "tenn_transutil.columns= [' Total Transportation & Utilities Value']"
      ],
      "execution_count": null,
      "outputs": []
    },
    {
      "cell_type": "code",
      "metadata": {
        "id": "iaeYLRkordP_",
        "colab_type": "code",
        "colab": {}
      },
      "source": [
        "#All Employees, In Thousands; Total Truck Transportation Providing -Tennessee\n",
        "tenn_truck = quandl.get(\"BLSE/SMU47000004348400001\", start_date=\"2000-01-01\", end_date=\"2020-08-01\")\n",
        "tenn_truck.columns= ['Total Truck Transportation Provided Value']"
      ],
      "execution_count": null,
      "outputs": []
    },
    {
      "cell_type": "code",
      "metadata": {
        "id": "WgCc9Zl5stYu",
        "colab_type": "code",
        "colab": {}
      },
      "source": [
        "tenn4 = pd.merge(tenn_transutil, tenn_truck, on='Date')"
      ],
      "execution_count": null,
      "outputs": []
    },
    {
      "cell_type": "code",
      "metadata": {
        "id": "REh2Q2fcst4k",
        "colab_type": "code",
        "colab": {}
      },
      "source": [
        "tenn3 = pd.merge(tenn_durable, tenn_wholesale, on='Date')"
      ],
      "execution_count": null,
      "outputs": []
    },
    {
      "cell_type": "code",
      "metadata": {
        "id": "YjycCDA5rK9s",
        "colab_type": "code",
        "colab": {}
      },
      "source": [
        "tenn2 = pd.merge(tenn_serv, tenn_manu, on='Date')"
      ],
      "execution_count": null,
      "outputs": []
    },
    {
      "cell_type": "code",
      "metadata": {
        "id": "Nz9UKIwOpXS9",
        "colab_type": "code",
        "colab": {}
      },
      "source": [
        "tenn1 = pd.merge(tenn_priv, tenn_goods, on='Date')"
      ],
      "execution_count": null,
      "outputs": []
    },
    {
      "cell_type": "code",
      "metadata": {
        "id": "mkyNvLa7r_iM",
        "colab_type": "code",
        "colab": {}
      },
      "source": [
        "tennessee = pd.merge(tenn_gov, tenn_nonfarm, on='Date')"
      ],
      "execution_count": null,
      "outputs": []
    },
    {
      "cell_type": "code",
      "metadata": {
        "id": "dQ-dCR-Mr_WW",
        "colab_type": "code",
        "colab": {}
      },
      "source": [
        "tennessee1 = pd.merge(tennessee, tenn1, on='Date')"
      ],
      "execution_count": null,
      "outputs": []
    },
    {
      "cell_type": "code",
      "metadata": {
        "id": "SbAyA9gqr_R8",
        "colab_type": "code",
        "colab": {}
      },
      "source": [
        "tennessee2 = pd.merge(tennessee1, tenn2, on='Date')"
      ],
      "execution_count": null,
      "outputs": []
    },
    {
      "cell_type": "code",
      "metadata": {
        "id": "MKgvGTyir_Ni",
        "colab_type": "code",
        "colab": {}
      },
      "source": [
        "tennessee3 = pd.merge(tennessee2, tenn3, on='Date')"
      ],
      "execution_count": null,
      "outputs": []
    },
    {
      "cell_type": "code",
      "metadata": {
        "id": "1t6emJNqr_JY",
        "colab_type": "code",
        "colab": {}
      },
      "source": [
        "tennessee4 = pd.merge(tennessee3, tenn4, on='Date')\n",
        "tennessee4"
      ],
      "execution_count": null,
      "outputs": []
    },
    {
      "cell_type": "markdown",
      "metadata": {
        "id": "RbbkkCAeusJ4",
        "colab_type": "text"
      },
      "source": [
        "# South Dakota "
      ]
    },
    {
      "cell_type": "code",
      "metadata": {
        "id": "9uGrSWrtvC8I",
        "colab_type": "code",
        "colab": {}
      },
      "source": [
        "#All Employees, In Thousands; Total Government Providing -South Dakota \n",
        "sd_gov = quandl.get(\"BLSE/SMU46000009000000001\", start_date=\"2000-01-01\", end_date=\"2020-08-01\")\n",
        "sd_gov.columns= ['Total Government Value']"
      ],
      "execution_count": null,
      "outputs": []
    },
    {
      "cell_type": "code",
      "metadata": {
        "id": "_M9vA0ONvPbx",
        "colab_type": "code",
        "colab": {}
      },
      "source": [
        "#All Employees, In Thousands; Total Nonfarm Providing -South Dakota\n",
        "sd_nonfarm = quandl.get(\"BLSE/SMU46000000000000001\", start_date=\"2000-01-01\", end_date=\"2020-08-01\")\n",
        "sd_nonfarm.columns= ['Total Nonfarm Provided Value']"
      ],
      "execution_count": null,
      "outputs": []
    },
    {
      "cell_type": "code",
      "metadata": {
        "id": "diDw1gPVvRql",
        "colab_type": "code",
        "colab": {}
      },
      "source": [
        "#All Employees, In Thousands; Total Private Providing -Tennessee\n",
        "sd_priv = quandl.get(\"BLSE/SMU46000000500000001\", start_date=\"2000-01-01\", end_date=\"2020-08-01\")\n",
        "sd_priv.columns= ['Total Private Industry Value']"
      ],
      "execution_count": null,
      "outputs": []
    },
    {
      "cell_type": "code",
      "metadata": {
        "id": "xqzQk4tXvRlT",
        "colab_type": "code",
        "colab": {}
      },
      "source": [
        "#All Employees, In Thousands; Total Goods Producing Providing -Tennessee\n",
        "sd_goods = quandl.get(\"BLSE/SMU46000000600000001\", start_date=\"2000-01-01\", end_date=\"2020-08-01\")\n",
        "sd_goods.columns= ['Total Goods Produced Value']"
      ],
      "execution_count": null,
      "outputs": []
    },
    {
      "cell_type": "code",
      "metadata": {
        "id": "D2IpIzd8vRgB",
        "colab_type": "code",
        "colab": {}
      },
      "source": [
        "#All Employees, In Thousands; Total Service Providing -South dakota\n",
        "sd_serv = quandl.get(\"BLSE/SMU46000000700000001\", start_date=\"2000-01-01\", end_date=\"2020-08-01\")\n",
        "sd_serv.columns= ['Total Service Provided Value']"
      ],
      "execution_count": null,
      "outputs": []
    },
    {
      "cell_type": "code",
      "metadata": {
        "id": "evkadCVWwMPm",
        "colab_type": "code",
        "colab": {}
      },
      "source": [
        "#All Employees, In Thousands; Total Manufacture Providing -South Dakota\n",
        "sd_manu = quandl.get(\"BLSE/SMU46000003000000001\", start_date=\"2000-01-01\", end_date=\"2020-08-01\")\n",
        "sd_manu.columns= ['Total Manufacture Value']"
      ],
      "execution_count": null,
      "outputs": []
    },
    {
      "cell_type": "code",
      "metadata": {
        "id": "UVtQxdA9wcSJ",
        "colab_type": "code",
        "colab": {}
      },
      "source": [
        "#All Employees, In Thousands; Total Wholesale Trade Providing -South Dakota\n",
        "sd_wholesale = quandl.get(\"BLSE/SMU46000004100000001\", start_date=\"2000-01-01\", end_date=\"2020-08-01\")\n",
        "sd_wholesale.columns= ['Wholesale Trade Value']"
      ],
      "execution_count": null,
      "outputs": []
    },
    {
      "cell_type": "code",
      "metadata": {
        "id": "0b3kykS_vRa2",
        "colab_type": "code",
        "colab": {}
      },
      "source": [
        "#All Employees, In Thousands; Total Transportation & Utilities Providing -South Dakota\n",
        "sd_transutil = quandl.get(\"BLSE/SMU46000004300000001\", start_date=\"2000-01-01\", end_date=\"2020-08-01\")\n",
        "sd_transutil.columns= ['Total Transportation & Utilities Value']"
      ],
      "execution_count": null,
      "outputs": []
    },
    {
      "cell_type": "code",
      "metadata": {
        "id": "CjiN09OExiTQ",
        "colab_type": "code",
        "colab": {}
      },
      "source": [
        "sd3 = pd.merge(sd_wholesale, sd_transutil, on='Date')"
      ],
      "execution_count": null,
      "outputs": []
    },
    {
      "cell_type": "code",
      "metadata": {
        "id": "PVhwGNjOvRVX",
        "colab_type": "code",
        "colab": {}
      },
      "source": [
        "sd2 = pd.merge(sd_serv, sd_manu, on='Date')"
      ],
      "execution_count": null,
      "outputs": []
    },
    {
      "cell_type": "code",
      "metadata": {
        "id": "XkRfhkfxvRQU",
        "colab_type": "code",
        "colab": {}
      },
      "source": [
        "sd1 = pd.merge(sd_priv, sd_goods, on='Date')"
      ],
      "execution_count": null,
      "outputs": []
    },
    {
      "cell_type": "code",
      "metadata": {
        "id": "oXY_oxUsvRLE",
        "colab_type": "code",
        "colab": {}
      },
      "source": [
        "sd = pd.merge(sd_gov, sd_nonfarm, on='Date')"
      ],
      "execution_count": null,
      "outputs": []
    },
    {
      "cell_type": "code",
      "metadata": {
        "id": "wVuxQco-vRF8",
        "colab_type": "code",
        "colab": {}
      },
      "source": [
        "southd= pd.merge(sd, sd1, on='Date')"
      ],
      "execution_count": null,
      "outputs": []
    },
    {
      "cell_type": "code",
      "metadata": {
        "id": "tbT-JSHVvQ_D",
        "colab_type": "code",
        "colab": {}
      },
      "source": [
        "southd1 = pd.merge(southd, sd2, on='Date')"
      ],
      "execution_count": null,
      "outputs": []
    },
    {
      "cell_type": "code",
      "metadata": {
        "id": "neOZZQBbyya5",
        "colab_type": "code",
        "colab": {}
      },
      "source": [
        "southd2 = pd.merge(southd1, sd3, on='Date')\n",
        "southd2"
      ],
      "execution_count": null,
      "outputs": []
    },
    {
      "cell_type": "code",
      "metadata": {
        "id": "zl3sD16TzUe7",
        "colab_type": "code",
        "colab": {}
      },
      "source": [
        ""
      ],
      "execution_count": null,
      "outputs": []
    },
    {
      "cell_type": "markdown",
      "metadata": {
        "id": "RbuaZUjbzVAj",
        "colab_type": "text"
      },
      "source": [
        "# South Carolina"
      ]
    },
    {
      "cell_type": "code",
      "metadata": {
        "id": "RF1W4siOvQ2d",
        "colab_type": "code",
        "colab": {}
      },
      "source": [
        "#All Employees, In Thousands; Total Government Providing -South Dakota \n",
        "sc_gov = quandl.get(\"BLSE/SMU45000009000000001\", start_date=\"2000-01-01\", end_date=\"2020-08-01\")\n",
        "sc_gov.columns= ['Total Government Value']"
      ],
      "execution_count": null,
      "outputs": []
    },
    {
      "cell_type": "code",
      "metadata": {
        "id": "I4bSguDxvQxa",
        "colab_type": "code",
        "colab": {}
      },
      "source": [
        "#All Employees, In Thousands; Total Nonfarm Providing -South Dakota\n",
        "sc_nonfarm = quandl.get(\"BLSE/SMU45000000000000001\", start_date=\"2000-01-01\", end_date=\"2020-08-01\")\n",
        "sc_nonfarm.columns= ['Total Nonfarm Provided Value']"
      ],
      "execution_count": null,
      "outputs": []
    },
    {
      "cell_type": "code",
      "metadata": {
        "id": "wtd8SMJWvQsq",
        "colab_type": "code",
        "colab": {}
      },
      "source": [
        "#All Employees, In Thousands; Total Private Providing -South Carolina\n",
        "sc_priv = quandl.get(\"BLSE/SMU45000000500000001\", start_date=\"2000-01-01\", end_date=\"2020-08-01\")\n",
        "sc_priv.columns= ['Total Private Industry Value']"
      ],
      "execution_count": null,
      "outputs": []
    },
    {
      "cell_type": "code",
      "metadata": {
        "id": "hpb8ivsjvQnh",
        "colab_type": "code",
        "colab": {}
      },
      "source": [
        "#All Employees, In Thousands; Total Goods Producing Providing -South Carolina\n",
        "sc_goods = quandl.get(\"BLSE/SMU45000000600000001\", start_date=\"2000-01-01\", end_date=\"2020-08-01\")\n",
        "sc_goods.columns= ['Total Goods Produced Value']"
      ],
      "execution_count": null,
      "outputs": []
    },
    {
      "cell_type": "code",
      "metadata": {
        "id": "_SDaRpeH09Ge",
        "colab_type": "code",
        "colab": {}
      },
      "source": [
        "#All Employees, In Thousands; Total Service Providing -South Carolina\n",
        "sc_serv = quandl.get(\"BLSE/SMU45000000700000001\", start_date=\"2000-01-01\", end_date=\"2020-08-01\")\n",
        "sc_serv.columns= ['Total Service Provided Value']"
      ],
      "execution_count": null,
      "outputs": []
    },
    {
      "cell_type": "code",
      "metadata": {
        "id": "UZ46XTsV1LCN",
        "colab_type": "code",
        "colab": {}
      },
      "source": [
        "#All Employees, In Thousands; Total Mining & Logging Providing -South Carolina\n",
        "sc_mine = quandl.get(\"BLSE/SMU45000001000000001\", start_date=\"2000-01-01\", end_date=\"2020-08-01\")\n",
        "sc_mine.columns= ['Total Mining & Logging Value']"
      ],
      "execution_count": null,
      "outputs": []
    },
    {
      "cell_type": "code",
      "metadata": {
        "id": "Cx7YixNm1C47",
        "colab_type": "code",
        "colab": {}
      },
      "source": [
        "#All Employees, In Thousands; Total Manufacture Providing -South Carolina\n",
        "sc_manu = quandl.get(\"BLSE/SMU45000003000000001\", start_date=\"2000-01-01\", end_date=\"2020-08-01\")\n",
        "sc_manu.columns= ['Total Manufacture  Value']"
      ],
      "execution_count": null,
      "outputs": []
    },
    {
      "cell_type": "code",
      "metadata": {
        "id": "7Ib5uTla1vcX",
        "colab_type": "code",
        "colab": {}
      },
      "source": [
        "#All Employees, In Thousands; Total Durable Goods Providing -South Carolina\n",
        "sc_durable = quandl.get(\"BLSE/SMU45000003000000001\", start_date=\"2000-01-01\", end_date=\"2020-08-01\")\n",
        "sc_durable.columns= ['Total Durable Goods Value']"
      ],
      "execution_count": null,
      "outputs": []
    },
    {
      "cell_type": "code",
      "metadata": {
        "id": "WPr3OgYD19fj",
        "colab_type": "code",
        "colab": {}
      },
      "source": [
        "#All Employees, In Thousands; Total Wholesale Trade Providing -South Carolina\n",
        "sc_wholesale = quandl.get(\"BLSE/SMU45000004100000001\", start_date=\"2000-01-01\", end_date=\"2020-08-01\")\n",
        "sc_wholesale.columns= ['Wholesale Trade Value']"
      ],
      "execution_count": null,
      "outputs": []
    },
    {
      "cell_type": "code",
      "metadata": {
        "id": "LHxEAZDf2JBz",
        "colab_type": "code",
        "colab": {}
      },
      "source": [
        "#All Employees, In Thousands; Total Transportation & Utilities Providing -South Carolina\n",
        "sc_transutil = quandl.get(\"BLSE/SMU45000004300000001\", start_date=\"2000-01-01\", end_date=\"2020-08-01\")\n",
        "sc_transutil.columns= ['Total Transportation & Utilities Value']"
      ],
      "execution_count": null,
      "outputs": []
    },
    {
      "cell_type": "code",
      "metadata": {
        "id": "_LtldMOAvQjE",
        "colab_type": "code",
        "colab": {}
      },
      "source": [
        ""
      ],
      "execution_count": null,
      "outputs": []
    },
    {
      "cell_type": "code",
      "metadata": {
        "id": "w421N77x3QK2",
        "colab_type": "code",
        "colab": {}
      },
      "source": [
        "sc3= pd.merge(sc_manu, sc_wholesale, on='Date')"
      ],
      "execution_count": null,
      "outputs": []
    },
    {
      "cell_type": "code",
      "metadata": {
        "id": "59iXj7TG3QCr",
        "colab_type": "code",
        "colab": {}
      },
      "source": [
        "sc2 = pd.merge(sc_serv, sc_mine, on='Date')"
      ],
      "execution_count": null,
      "outputs": []
    },
    {
      "cell_type": "code",
      "metadata": {
        "id": "yrTSOvXu3P6t",
        "colab_type": "code",
        "colab": {}
      },
      "source": [
        "sc1 = pd.merge(sc_priv, sc_goods, on='Date')"
      ],
      "execution_count": null,
      "outputs": []
    },
    {
      "cell_type": "code",
      "metadata": {
        "id": "Zro-lLFYvQdn",
        "colab_type": "code",
        "colab": {}
      },
      "source": [
        "south_carolina = pd.merge(sc_gov, sc_nonfarm, on='Date')"
      ],
      "execution_count": null,
      "outputs": []
    },
    {
      "cell_type": "code",
      "metadata": {
        "id": "0p7SGJjl3PIh",
        "colab_type": "code",
        "colab": {}
      },
      "source": [
        "south_carolina1 = pd.merge(south_carolina, sc1, on='Date')"
      ],
      "execution_count": null,
      "outputs": []
    },
    {
      "cell_type": "code",
      "metadata": {
        "id": "taKdhbGY3PDj",
        "colab_type": "code",
        "colab": {}
      },
      "source": [
        "south_carolina2 = pd.merge(south_carolina1, sc2, on='Date')"
      ],
      "execution_count": null,
      "outputs": []
    },
    {
      "cell_type": "code",
      "metadata": {
        "id": "YmRM4xIx3O9t",
        "colab_type": "code",
        "colab": {}
      },
      "source": [
        "south_carolina3 = pd.merge(south_carolina2, sc3, on='Date')"
      ],
      "execution_count": null,
      "outputs": []
    },
    {
      "cell_type": "code",
      "metadata": {
        "id": "UHzFXScu3O4U",
        "colab_type": "code",
        "colab": {}
      },
      "source": [
        "south_carolina4 = pd.merge(south_carolina3, sc_transutil, on='Date')\n"
      ],
      "execution_count": null,
      "outputs": []
    },
    {
      "cell_type": "code",
      "metadata": {
        "id": "QSEd_j8u4xss",
        "colab_type": "code",
        "colab": {}
      },
      "source": [
        "south_carolina5 = pd.merge(south_carolina4, sc_durable, on='Date')\n",
        "south_carolina5"
      ],
      "execution_count": null,
      "outputs": []
    },
    {
      "cell_type": "markdown",
      "metadata": {
        "id": "oocDZ6B34--b",
        "colab_type": "text"
      },
      "source": [
        "# Rhode Island"
      ]
    },
    {
      "cell_type": "code",
      "metadata": {
        "id": "Fn1FHLy25OFQ",
        "colab_type": "code",
        "colab": {}
      },
      "source": [
        "#All Employees, In Thousands; Total Government Providing -Rhode Island \n",
        "ri_gov = quandl.get(\"BLSE/SMU44000009000000001\", start_date=\"2000-01-01\", end_date=\"2020-08-01\")\n",
        "ri_gov.columns= ['Rhode Island Total Government Provided Value']"
      ],
      "execution_count": null,
      "outputs": []
    },
    {
      "cell_type": "code",
      "metadata": {
        "id": "5tiwu89z5bBp",
        "colab_type": "code",
        "colab": {}
      },
      "source": [
        "#All Employees, In Thousands; Total Nonfarm Providing -Rhode Island\n",
        "ri_nonfarm = quandl.get(\"BLSE/SMU44000000000000001\", start_date=\"2000-01-01\", end_date=\"2020-08-01\")\n",
        "ri_nonfarm.columns= ['Rhode Island Total Nonfarm Provided Value']"
      ],
      "execution_count": null,
      "outputs": []
    },
    {
      "cell_type": "code",
      "metadata": {
        "id": "zxmtozN_5iDZ",
        "colab_type": "code",
        "colab": {}
      },
      "source": [
        "#All Employees, In Thousands; Total Private Providing -South Carolina\n",
        "ri_priv = quandl.get(\"BLSE/SMU44000000500000001\", start_date=\"2000-01-01\", end_date=\"2020-08-01\")\n",
        "ri_priv.columns= ['Rhode Island Total Private Provided Value']"
      ],
      "execution_count": null,
      "outputs": []
    },
    {
      "cell_type": "code",
      "metadata": {
        "id": "yZ8RMcPW5h-T",
        "colab_type": "code",
        "colab": {}
      },
      "source": [
        "#All Employees, In Thousands; Total Goods Producing Providing -South Carolina\n",
        "ri_goods = quandl.get(\"BLSE/SMU44000000600000001\", start_date=\"2000-01-01\", end_date=\"2020-08-01\")\n",
        "ri_goods.columns= ['Total Goods Produced Value']"
      ],
      "execution_count": null,
      "outputs": []
    },
    {
      "cell_type": "code",
      "metadata": {
        "id": "foOn7SEF5h5I",
        "colab_type": "code",
        "colab": {}
      },
      "source": [
        "#All Employees, In Thousands; Total Service Providing -South Carolina\n",
        "ri_serv = quandl.get(\"BLSE/SMU44000000700000001\", start_date=\"2000-01-01\", end_date=\"2020-08-01\")\n",
        "ri_serv.columns= ['Total Service Provided Value']"
      ],
      "execution_count": null,
      "outputs": []
    },
    {
      "cell_type": "code",
      "metadata": {
        "id": "dt0VSOWJ5h0G",
        "colab_type": "code",
        "colab": {}
      },
      "source": [
        "#All Employees, In Thousands; Total Mining & Logging Providing -South Carolina\n",
        "ri_mine = quandl.get(\"BLSE/SMU44000001000000001\", start_date=\"2000-01-01\", end_date=\"2020-08-01\")\n",
        "ri_mine.columns= ['Total Mining & Logging Value']"
      ],
      "execution_count": null,
      "outputs": []
    },
    {
      "cell_type": "code",
      "metadata": {
        "id": "agydhAb05huw",
        "colab_type": "code",
        "colab": {}
      },
      "source": [
        "#All Employees, In Thousands; Total Manufacture Providing -South Carolina\n",
        "ri_manu = quandl.get(\"BLSE/SMU44000003000000001\", start_date=\"2000-01-01\", end_date=\"2020-08-01\")\n",
        "ri_manu.columns= ['Total Manufacture Value']"
      ],
      "execution_count": null,
      "outputs": []
    },
    {
      "cell_type": "code",
      "metadata": {
        "id": "y_qvI59J5hpb",
        "colab_type": "code",
        "colab": {}
      },
      "source": [
        "#All Employees, In Thousands; Total Durable Goods Providing -South Carolina\n",
        "ri_durable = quandl.get(\"BLSE/SMU44000003000000001\", start_date=\"2000-01-01\", end_date=\"2020-08-01\")\n",
        "ri_durable.columns= ['Total Durable Goods Value']"
      ],
      "execution_count": null,
      "outputs": []
    },
    {
      "cell_type": "code",
      "metadata": {
        "id": "aYTvxBXZ5hfq",
        "colab_type": "code",
        "colab": {}
      },
      "source": [
        "#All Employees, In Thousands; Total Wholesale Trade Providing -South Carolina\n",
        "ri_wholesale = quandl.get(\"BLSE/SMU44000004100000001\", start_date=\"2000-01-01\", end_date=\"2020-08-01\")\n",
        "ri_wholesale.columns= ['Wholesale Trade Value']"
      ],
      "execution_count": null,
      "outputs": []
    },
    {
      "cell_type": "code",
      "metadata": {
        "id": "I89IjAfi5hS9",
        "colab_type": "code",
        "colab": {}
      },
      "source": [
        "#All Employees, In Thousands; Total Transportation & Utilities Providing -South Carolina\n",
        "ri_transutil = quandl.get(\"BLSE/SMU44000004300000001\", start_date=\"2000-01-01\", end_date=\"2020-08-01\")\n",
        "ri_transutil.columns= ['Total Transportation & Utilities Value']"
      ],
      "execution_count": null,
      "outputs": []
    },
    {
      "cell_type": "code",
      "metadata": {
        "id": "ZLrV3cO75a8i",
        "colab_type": "code",
        "colab": {}
      },
      "source": [
        ""
      ],
      "execution_count": null,
      "outputs": []
    },
    {
      "cell_type": "code",
      "metadata": {
        "id": "6jlw6YzW7qFI",
        "colab_type": "code",
        "colab": {}
      },
      "source": [
        ""
      ],
      "execution_count": null,
      "outputs": []
    },
    {
      "cell_type": "code",
      "metadata": {
        "id": "-se4g_mq7p_s",
        "colab_type": "code",
        "colab": {}
      },
      "source": [
        "ri4 = pd.merge(ri_wholesale, ri_transutil, on='Date')"
      ],
      "execution_count": null,
      "outputs": []
    },
    {
      "cell_type": "code",
      "metadata": {
        "id": "BYhCP-th7p57",
        "colab_type": "code",
        "colab": {}
      },
      "source": [
        "ri3 = pd.merge(ri_manu, ri_durable, on='Date')"
      ],
      "execution_count": null,
      "outputs": []
    },
    {
      "cell_type": "code",
      "metadata": {
        "id": "sFZ6OHDK5a3k",
        "colab_type": "code",
        "colab": {}
      },
      "source": [
        "ri2 = pd.merge(ri_serv, ri_mine, on='Date')"
      ],
      "execution_count": null,
      "outputs": []
    },
    {
      "cell_type": "code",
      "metadata": {
        "id": "GHELp8r65ayb",
        "colab_type": "code",
        "colab": {}
      },
      "source": [
        "ri1 = pd.merge(ri_priv, ri_goods, on='Date')"
      ],
      "execution_count": null,
      "outputs": []
    },
    {
      "cell_type": "code",
      "metadata": {
        "id": "iHUy1WVC5asv",
        "colab_type": "code",
        "colab": {}
      },
      "source": [
        "rhode_island = pd.merge(ri_gov, ri_nonfarm, on='Date')"
      ],
      "execution_count": null,
      "outputs": []
    },
    {
      "cell_type": "code",
      "metadata": {
        "id": "D_dDJo9c8DSW",
        "colab_type": "code",
        "colab": {}
      },
      "source": [
        "rhode_island1 = pd.merge(rhode_island, ri1, on='Date')"
      ],
      "execution_count": null,
      "outputs": []
    },
    {
      "cell_type": "code",
      "metadata": {
        "id": "-UaeAjrN8Ijs",
        "colab_type": "code",
        "colab": {}
      },
      "source": [
        "rhode_island2 = pd.merge(rhode_island1, ri2, on='Date')"
      ],
      "execution_count": null,
      "outputs": []
    },
    {
      "cell_type": "code",
      "metadata": {
        "id": "3RBBtksA8N0U",
        "colab_type": "code",
        "colab": {}
      },
      "source": [
        "rhode_island3 = pd.merge(rhode_island2, ri3, on='Date')"
      ],
      "execution_count": null,
      "outputs": []
    },
    {
      "cell_type": "code",
      "metadata": {
        "id": "lrIPlS7K8WBv",
        "colab_type": "code",
        "colab": {}
      },
      "source": [
        "rhode_island4 = pd.merge(rhode_island3, ri4, on='Date')\n",
        "rhode_island4"
      ],
      "execution_count": null,
      "outputs": []
    },
    {
      "cell_type": "code",
      "metadata": {
        "id": "-pk22UA28g9e",
        "colab_type": "code",
        "colab": {}
      },
      "source": [
        ""
      ],
      "execution_count": null,
      "outputs": []
    },
    {
      "cell_type": "markdown",
      "metadata": {
        "id": "wB6ocaky8hPA",
        "colab_type": "text"
      },
      "source": [
        "# Pennslyvania"
      ]
    },
    {
      "cell_type": "code",
      "metadata": {
        "id": "8uCdWoXZ8kjb",
        "colab_type": "code",
        "colab": {}
      },
      "source": [
        "#All Employees, In Thousands; Total Government Providing -Rhode Island \n",
        "penn_gov = quandl.get(\"BLSE/SMU42000009000000001\", start_date=\"2000-01-01\", end_date=\"2020-08-01\")\n",
        "penn_gov.columns= ['Total Government Value']"
      ],
      "execution_count": null,
      "outputs": []
    },
    {
      "cell_type": "code",
      "metadata": {
        "id": "VwkEKX7D8zDG",
        "colab_type": "code",
        "colab": {}
      },
      "source": [
        "#All Employees, In Thousands; Total Nonfarm Providing -Rhode Island\n",
        "penn_nonfarm = quandl.get(\"BLSE/SMU42000000000000001\", start_date=\"2000-01-01\", end_date=\"2020-08-01\")\n",
        "penn_nonfarm.columns= ['Total Nonfarm Provided Value']"
      ],
      "execution_count": null,
      "outputs": []
    },
    {
      "cell_type": "code",
      "metadata": {
        "id": "AMZcttop88N2",
        "colab_type": "code",
        "colab": {}
      },
      "source": [
        "#All Employees, In Thousands; Total Private Providing -South Carolina\n",
        "penn_priv = quandl.get(\"BLSE/SMU42000000500000001\", start_date=\"2000-01-01\", end_date=\"2020-08-01\")\n",
        "penn_priv.columns= ['Total Private Industry Value']"
      ],
      "execution_count": null,
      "outputs": []
    },
    {
      "cell_type": "code",
      "metadata": {
        "id": "DVE95haF9Eui",
        "colab_type": "code",
        "colab": {}
      },
      "source": [
        "#All Employees, In Thousands; Total Goods Producing Providing -South Carolina\n",
        "penn_goods = quandl.get(\"BLSE/SMU42000000600000001\", start_date=\"2000-01-01\", end_date=\"2020-08-01\")\n",
        "penn_goods.columns= ['Total Goods Produced Value']"
      ],
      "execution_count": null,
      "outputs": []
    },
    {
      "cell_type": "code",
      "metadata": {
        "id": "mSGtJmPn9NsK",
        "colab_type": "code",
        "colab": {}
      },
      "source": [
        "#All Employees, In Thousands; Total Service Providing -South Carolina\n",
        "penn_serv = quandl.get(\"BLSE/SMU42000000700000001\", start_date=\"2000-01-01\", end_date=\"2020-08-01\")\n",
        "penn_serv.columns= ['Total Service Provided Value']"
      ],
      "execution_count": null,
      "outputs": []
    },
    {
      "cell_type": "code",
      "metadata": {
        "id": "JPydHwcf9YM1",
        "colab_type": "code",
        "colab": {}
      },
      "source": [
        "#All Employees, In Thousands; Total Mining & Logging Providing -South Carolina\n",
        "penn_mine = quandl.get(\"BLSE/SMU42000001000000001\", start_date=\"2000-01-01\", end_date=\"2020-08-01\")\n",
        "penn_mine.columns= ['Total Mining & Logging Value']"
      ],
      "execution_count": null,
      "outputs": []
    },
    {
      "cell_type": "code",
      "metadata": {
        "id": "cEqMHfgD9mG3",
        "colab_type": "code",
        "colab": {}
      },
      "source": [
        "#All Employees, In Thousands; Total Manufacture Providing -South Carolina\n",
        "penn_manu = quandl.get(\"BLSE/SMU42000003000000001\", start_date=\"2000-01-01\", end_date=\"2020-08-01\")\n",
        "penn_manu.columns= ['Total Manufacture Value']"
      ],
      "execution_count": null,
      "outputs": []
    },
    {
      "cell_type": "code",
      "metadata": {
        "id": "0wDtZ0fR91a7",
        "colab_type": "code",
        "colab": {}
      },
      "source": [
        "#All Employees, In Thousands; Total Durable Goods Providing -South Carolina\n",
        "penn_durable = quandl.get(\"BLSE/SMU42000003000000001\", start_date=\"2000-01-01\", end_date=\"2020-08-01\")\n",
        "penn_durable.columns= ['Total Durable Goods Value']"
      ],
      "execution_count": null,
      "outputs": []
    },
    {
      "cell_type": "code",
      "metadata": {
        "id": "77oM-f9691N2",
        "colab_type": "code",
        "colab": {}
      },
      "source": [
        "#All Employees, In Thousands; Total Wholesale Trade Providing -South Carolina\n",
        "penn_wholesale = quandl.get(\"BLSE/SMU42000004100000001\", start_date=\"2000-01-01\", end_date=\"2020-08-01\")\n",
        "penn_wholesale.columns= ['Wholesale Trade Value']"
      ],
      "execution_count": null,
      "outputs": []
    },
    {
      "cell_type": "code",
      "metadata": {
        "id": "PNThI5F69xG5",
        "colab_type": "code",
        "colab": {}
      },
      "source": [
        "#All Employees, In Thousands; Total Transportation & Utilities Providing -South Carolina\n",
        "penn_transutil = quandl.get(\"BLSE/SMU42000004300000001\", start_date=\"2000-01-01\", end_date=\"2020-08-01\")\n",
        "penn_transutil.columns= [' Total Transportation & Utilities Value']"
      ],
      "execution_count": null,
      "outputs": []
    },
    {
      "cell_type": "code",
      "metadata": {
        "id": "NkCdBTEt-TYm",
        "colab_type": "code",
        "colab": {}
      },
      "source": [
        "#All Employees, In Thousands; Total Air Transportation Providing -South Carolina\n",
        "penn_air = quandl.get(\"BLSE/SMU42000004348100001\", start_date=\"2000-01-01\", end_date=\"2020-08-01\")\n",
        "penn_air.columns= ['Total Air Transportation Value']"
      ],
      "execution_count": null,
      "outputs": []
    },
    {
      "cell_type": "code",
      "metadata": {
        "id": "6-sJIa1x-6Mm",
        "colab_type": "code",
        "colab": {}
      },
      "source": [
        "#All Employees, In Thousands; Total Truck Transportation Providing -South Carolina\n",
        "penn_truck = quandl.get(\"BLSE/SMU42000004348400001\", start_date=\"2000-01-01\", end_date=\"2020-08-01\")\n",
        "penn_truck.columns= ['Total Truck Transportation Provided Value']"
      ],
      "execution_count": null,
      "outputs": []
    },
    {
      "cell_type": "code",
      "metadata": {
        "id": "9pPqUS5__LWK",
        "colab_type": "code",
        "colab": {}
      },
      "source": [
        "#All Employees, In Thousands; Total Telecommunications Transportation Providing -South Carolina\n",
        "penn_telecom = quandl.get(\"BLSE/SMU42000005051700001\", start_date=\"2000-01-01\", end_date=\"2020-08-01\")\n",
        "penn_telecom.columns= ['Total Telecommunication Value']"
      ],
      "execution_count": null,
      "outputs": []
    },
    {
      "cell_type": "code",
      "metadata": {
        "id": "DKS0Mhlx_tM0",
        "colab_type": "code",
        "colab": {}
      },
      "source": [
        "#All Employees, In Thousands; Total Real Estate Transportation Providing -South Carolina\n",
        "penn_estate = quandl.get(\"BLSE/SMU42000005553100001\", start_date=\"2000-01-01\", end_date=\"2020-08-01\")\n",
        "penn_estate.columns= ['Total Real Estate Value']"
      ],
      "execution_count": null,
      "outputs": []
    },
    {
      "cell_type": "code",
      "metadata": {
        "id": "D0mDI0ZUAzap",
        "colab_type": "code",
        "colab": {}
      },
      "source": [
        ""
      ],
      "execution_count": null,
      "outputs": []
    },
    {
      "cell_type": "code",
      "metadata": {
        "id": "OvQhUMkRAz3z",
        "colab_type": "code",
        "colab": {}
      },
      "source": [
        "p6 = pd.merge(penn_telecom, penn_estate, on='Date')"
      ],
      "execution_count": null,
      "outputs": []
    },
    {
      "cell_type": "code",
      "metadata": {
        "id": "xes1mrhq-TTM",
        "colab_type": "code",
        "colab": {}
      },
      "source": [
        "p5 = pd.merge(penn_air, penn_truck, on='Date')"
      ],
      "execution_count": null,
      "outputs": []
    },
    {
      "cell_type": "code",
      "metadata": {
        "id": "Ykt8_yhtAZM5",
        "colab_type": "code",
        "colab": {}
      },
      "source": [
        "p4 = pd.merge(penn_wholesale, penn_transutil, on='Date')"
      ],
      "execution_count": null,
      "outputs": []
    },
    {
      "cell_type": "code",
      "metadata": {
        "id": "lpMZvD7_AaOl",
        "colab_type": "code",
        "colab": {}
      },
      "source": [
        "p3 = pd.merge(penn_manu, penn_durable, on='Date')"
      ],
      "execution_count": null,
      "outputs": []
    },
    {
      "cell_type": "code",
      "metadata": {
        "id": "s9golN1O-TOB",
        "colab_type": "code",
        "colab": {}
      },
      "source": [
        "p2 = pd.merge(penn_serv, penn_mine, on='Date')"
      ],
      "execution_count": null,
      "outputs": []
    },
    {
      "cell_type": "code",
      "metadata": {
        "id": "WVZgtCuA-TJF",
        "colab_type": "code",
        "colab": {}
      },
      "source": [
        "p1 = pd.merge(penn_priv, penn_goods, on='Date')"
      ],
      "execution_count": null,
      "outputs": []
    },
    {
      "cell_type": "code",
      "metadata": {
        "id": "jlPQ7vxQ-TEJ",
        "colab_type": "code",
        "colab": {}
      },
      "source": [
        "penn = pd.merge(penn_gov, penn_nonfarm, on='Date')"
      ],
      "execution_count": null,
      "outputs": []
    },
    {
      "cell_type": "code",
      "metadata": {
        "id": "eGlyGBqp-S-I",
        "colab_type": "code",
        "colab": {}
      },
      "source": [
        "penn1 = pd.merge(penn, p1, on='Date')"
      ],
      "execution_count": null,
      "outputs": []
    },
    {
      "cell_type": "code",
      "metadata": {
        "id": "pjuxbqylBZCh",
        "colab_type": "code",
        "colab": {}
      },
      "source": [
        "penn2 = pd.merge(penn1, p2, on='Date')"
      ],
      "execution_count": null,
      "outputs": []
    },
    {
      "cell_type": "code",
      "metadata": {
        "id": "8ibVTBVRBmR5",
        "colab_type": "code",
        "colab": {}
      },
      "source": [
        "penn3 = pd.merge(penn2, p3, on='Date')"
      ],
      "execution_count": null,
      "outputs": []
    },
    {
      "cell_type": "code",
      "metadata": {
        "id": "EIAZwqgYB8Ga",
        "colab_type": "code",
        "colab": {}
      },
      "source": [
        "penn4 =pd.merge(penn3, p4, on='Date')"
      ],
      "execution_count": null,
      "outputs": []
    },
    {
      "cell_type": "code",
      "metadata": {
        "id": "_67k-PlKCFNv",
        "colab_type": "code",
        "colab": {}
      },
      "source": [
        "penn5 = pd.merge(penn4, p5, on='Date')"
      ],
      "execution_count": null,
      "outputs": []
    },
    {
      "cell_type": "code",
      "metadata": {
        "id": "OIQpIt5hCPuB",
        "colab_type": "code",
        "colab": {}
      },
      "source": [
        "penn6 = pd.merge(penn5, p6, on='Date')\n",
        "penn6"
      ],
      "execution_count": null,
      "outputs": []
    },
    {
      "cell_type": "code",
      "metadata": {
        "id": "Bk9o8_mECkbL",
        "colab_type": "code",
        "colab": {}
      },
      "source": [
        ""
      ],
      "execution_count": null,
      "outputs": []
    },
    {
      "cell_type": "code",
      "metadata": {
        "id": "fwM9ugWRE6Xr",
        "colab_type": "code",
        "colab": {}
      },
      "source": [
        ""
      ],
      "execution_count": null,
      "outputs": []
    },
    {
      "cell_type": "markdown",
      "metadata": {
        "id": "SXAfgEnFE7a2",
        "colab_type": "text"
      },
      "source": [
        "# Oregon"
      ]
    },
    {
      "cell_type": "code",
      "metadata": {
        "id": "rCjMLTK1FL0u",
        "colab_type": "code",
        "colab": {}
      },
      "source": [
        "#All Employees, In Thousands; Total Government Providing -Rhode Island \n",
        "oregon_gov = quandl.get(\"BLSE/SMU41000009000000001\", start_date=\"2000-01-01\", end_date=\"2020-08-01\")\n",
        "oregon_gov.columns= ['Total Provided Value']"
      ],
      "execution_count": null,
      "outputs": []
    },
    {
      "cell_type": "code",
      "metadata": {
        "id": "Ph_cW7lRFA4S",
        "colab_type": "code",
        "colab": {}
      },
      "source": [
        "#All Employees, In Thousands; Total Nonfarm Providing -Rhode Island\n",
        "oregon_nonfarm = quandl.get(\"BLSE/SMU41000000000000001\", start_date=\"2000-01-01\", end_date=\"2020-08-01\")\n",
        "oregon_nonfarm.columns= ['Total Nonfarm Provided Value']"
      ],
      "execution_count": null,
      "outputs": []
    },
    {
      "cell_type": "code",
      "metadata": {
        "id": "Bqjcs_5sFicg",
        "colab_type": "code",
        "colab": {}
      },
      "source": [
        "#All Employees, In Thousands; Total Private Providing -South Carolina\n",
        "oregon_priv = quandl.get(\"BLSE/SMU41000000500000001\", start_date=\"2000-01-01\", end_date=\"2020-08-01\")\n",
        "oregon_priv.columns= ['Total Private Industry Value']"
      ],
      "execution_count": null,
      "outputs": []
    },
    {
      "cell_type": "code",
      "metadata": {
        "id": "nq7VVmBWFiWa",
        "colab_type": "code",
        "colab": {}
      },
      "source": [
        "#All Employees, In Thousands; Total Goods Producing Providing -South Carolina\n",
        "oregon_goods = quandl.get(\"BLSE/SMU41000000600000001\", start_date=\"2000-01-01\", end_date=\"2020-08-01\")\n",
        "oregon_goods.columns= ['Total Goods Produced Value']"
      ],
      "execution_count": null,
      "outputs": []
    },
    {
      "cell_type": "code",
      "metadata": {
        "id": "sYgnsk99FiNq",
        "colab_type": "code",
        "colab": {}
      },
      "source": [
        "#All Employees, In Thousands; Total Service Providing -South Carolina\n",
        "oregon_serv = quandl.get(\"BLSE/SMU41000000700000001\", start_date=\"2000-01-01\", end_date=\"2020-08-01\")\n",
        "oregon_serv.columns= ['Total Service Provided Value']"
      ],
      "execution_count": null,
      "outputs": []
    },
    {
      "cell_type": "code",
      "metadata": {
        "id": "xNscWWkNFiGR",
        "colab_type": "code",
        "colab": {}
      },
      "source": [
        "#All Employees, In Thousands; Total Mining & Logging Providing -South Carolina\n",
        "oregon_mine = quandl.get(\"BLSE/SMU41000001000000001\", start_date=\"2000-01-01\", end_date=\"2020-08-01\")\n",
        "oregon_mine.columns= ['Total Mining & Logging Value']"
      ],
      "execution_count": null,
      "outputs": []
    },
    {
      "cell_type": "code",
      "metadata": {
        "id": "vlfOhBfOFh_E",
        "colab_type": "code",
        "colab": {}
      },
      "source": [
        "#All Employees, In Thousands; Total Manufacture Providing -South Carolina\n",
        "oregon_manu = quandl.get(\"BLSE/SMU41000003000000001\", start_date=\"2000-01-01\", end_date=\"2020-08-01\")\n",
        "oregon_manu.columns= ['Total Manufacture Value']"
      ],
      "execution_count": null,
      "outputs": []
    },
    {
      "cell_type": "code",
      "metadata": {
        "id": "BJO32uztFh2U",
        "colab_type": "code",
        "colab": {}
      },
      "source": [
        "#All Employees, In Thousands; Total Durable Goods Providing -South Carolina\n",
        "oregon_durable = quandl.get(\"BLSE/SMU41000003000000001\", start_date=\"2000-01-01\", end_date=\"2020-08-01\")\n",
        "oregon_durable.columns= ['Total Durable Goods Value']"
      ],
      "execution_count": null,
      "outputs": []
    },
    {
      "cell_type": "code",
      "metadata": {
        "id": "6qUgqrdcFht3",
        "colab_type": "code",
        "colab": {}
      },
      "source": [
        "#All Employees, In Thousands; Total Wholesale Trade Providing -South Carolina\n",
        "oregon_wholesale = quandl.get(\"BLSE/SMU41000004100000001\", start_date=\"2000-01-01\", end_date=\"2020-08-01\")\n",
        "oregon_wholesale.columns= ['Wholesale Trade Value']"
      ],
      "execution_count": null,
      "outputs": []
    },
    {
      "cell_type": "code",
      "metadata": {
        "id": "hq-t7PQ4Fhdc",
        "colab_type": "code",
        "colab": {}
      },
      "source": [
        "#All Employees, In Thousands; Total Transportation & Utilities Providing -South Carolina\n",
        "oregon_transutil = quandl.get(\"BLSE/SMU41000004300000001\", start_date=\"2000-01-01\", end_date=\"2020-08-01\")\n",
        "oregon_transutil.columns= ['Total Transportation & Utilities Value']"
      ],
      "execution_count": null,
      "outputs": []
    },
    {
      "cell_type": "code",
      "metadata": {
        "id": "RPixv7LdFg47",
        "colab_type": "code",
        "colab": {}
      },
      "source": [
        "#All Employees, In Thousands; Total Truck Transportation Providing -South Carolina\n",
        "oregon_truck = quandl.get(\"BLSE/SMU41000004348400001\", start_date=\"2000-01-01\", end_date=\"2020-08-01\")\n",
        "oregon_truck.columns= ['Total Truck Transportation Provided Value']"
      ],
      "execution_count": null,
      "outputs": []
    },
    {
      "cell_type": "code",
      "metadata": {
        "id": "jc2bSBZ4IO35",
        "colab_type": "code",
        "colab": {}
      },
      "source": [
        "#All Employees, In Thousands; Total Telecommunications Transportation Providing -South Carolina\n",
        "oregon_telecom = quandl.get(\"BLSE/SMU41000005051700001\", start_date=\"2000-01-01\", end_date=\"2020-08-01\")\n",
        "oregon_telecom.columns= [' Total Telecommunication Value']"
      ],
      "execution_count": null,
      "outputs": []
    },
    {
      "cell_type": "code",
      "metadata": {
        "id": "sleSeO48FgnH",
        "colab_type": "code",
        "colab": {}
      },
      "source": [
        "#All Employees, In Thousands; Total Real Estate Transportation Providing -South Carolina\n",
        "oregon_estate = quandl.get(\"BLSE/SMU41000005553100001\", start_date=\"2000-01-01\", end_date=\"2020-08-01\")\n",
        "oregon_estate.columns= ['Total Real Estate Value']"
      ],
      "execution_count": null,
      "outputs": []
    },
    {
      "cell_type": "code",
      "metadata": {
        "id": "MrkzOD1xJY9B",
        "colab_type": "code",
        "colab": {}
      },
      "source": [
        ""
      ],
      "execution_count": null,
      "outputs": []
    },
    {
      "cell_type": "code",
      "metadata": {
        "id": "ySj9Z4_sJZaj",
        "colab_type": "code",
        "colab": {}
      },
      "source": [
        "o5 = pd.merge(oregon_truck, oregon_telecom, on='Date')"
      ],
      "execution_count": null,
      "outputs": []
    },
    {
      "cell_type": "code",
      "metadata": {
        "id": "ophE0dKNFgeS",
        "colab_type": "code",
        "colab": {}
      },
      "source": [
        "o4 = pd.merge(oregon_wholesale, oregon_transutil, on='Date')"
      ],
      "execution_count": null,
      "outputs": []
    },
    {
      "cell_type": "code",
      "metadata": {
        "id": "HW2usUofFgYW",
        "colab_type": "code",
        "colab": {}
      },
      "source": [
        "o3 = pd.merge(oregon_manu, oregon_durable, on='Date')"
      ],
      "execution_count": null,
      "outputs": []
    },
    {
      "cell_type": "code",
      "metadata": {
        "id": "8svIU4hZFgSo",
        "colab_type": "code",
        "colab": {}
      },
      "source": [
        "o2 = pd.merge(oregon_serv, oregon_mine, on='Date')"
      ],
      "execution_count": null,
      "outputs": []
    },
    {
      "cell_type": "code",
      "metadata": {
        "id": "mtUGO4jZFgMh",
        "colab_type": "code",
        "colab": {}
      },
      "source": [
        "o1 = pd.merge(oregon_priv, oregon_goods, on='Date')"
      ],
      "execution_count": null,
      "outputs": []
    },
    {
      "cell_type": "code",
      "metadata": {
        "id": "JPO2YxcdFgB1",
        "colab_type": "code",
        "colab": {}
      },
      "source": [
        "oregon = pd.merge(oregon_gov, oregon_nonfarm, on='Date')"
      ],
      "execution_count": null,
      "outputs": []
    },
    {
      "cell_type": "code",
      "metadata": {
        "id": "df8UuJ67JnmE",
        "colab_type": "code",
        "colab": {}
      },
      "source": [
        "oregon1 = pd.merge(oregon, o1, on='Date')"
      ],
      "execution_count": null,
      "outputs": []
    },
    {
      "cell_type": "code",
      "metadata": {
        "id": "VwGV1qniJsxQ",
        "colab_type": "code",
        "colab": {}
      },
      "source": [
        "oregon2 = pd.merge(oregon1, o2, on='Date')"
      ],
      "execution_count": null,
      "outputs": []
    },
    {
      "cell_type": "code",
      "metadata": {
        "id": "e3izERYfJ1ix",
        "colab_type": "code",
        "colab": {}
      },
      "source": [
        "oregon3 = pd.merge(oregon2, o3, on='Date')"
      ],
      "execution_count": null,
      "outputs": []
    },
    {
      "cell_type": "code",
      "metadata": {
        "id": "vEe9zgBgJ7Ou",
        "colab_type": "code",
        "colab": {}
      },
      "source": [
        "oregon4 = pd.merge(oregon3, o4, on='Date')"
      ],
      "execution_count": null,
      "outputs": []
    },
    {
      "cell_type": "code",
      "metadata": {
        "id": "667duZEwKGQK",
        "colab_type": "code",
        "colab": {}
      },
      "source": [
        "oregon5 = pd.merge(oregon4, o5, on='Date')"
      ],
      "execution_count": null,
      "outputs": []
    },
    {
      "cell_type": "code",
      "metadata": {
        "id": "rD3GD5RCKQFx",
        "colab_type": "code",
        "colab": {}
      },
      "source": [
        "oregon6 = pd.merge(oregon5, oregon_estate, on='Date')\n",
        "oregon6"
      ],
      "execution_count": null,
      "outputs": []
    },
    {
      "cell_type": "markdown",
      "metadata": {
        "id": "kppH8bITKse8",
        "colab_type": "text"
      },
      "source": [
        "# Oklahoma"
      ]
    },
    {
      "cell_type": "code",
      "metadata": {
        "id": "hwSs0onXK2HR",
        "colab_type": "code",
        "colab": {}
      },
      "source": [
        "#All Employees, In Thousands; Total Government Providing -Rhode Island \n",
        "okla_gov = quandl.get(\"BLSE/SMU40000009000000001\", start_date=\"2000-01-01\", end_date=\"2020-08-01\")\n",
        "okla_gov.columns= ['Total Government Value']"
      ],
      "execution_count": null,
      "outputs": []
    },
    {
      "cell_type": "code",
      "metadata": {
        "id": "G98DVz2pLtTP",
        "colab_type": "code",
        "colab": {}
      },
      "source": [
        "#All Employees, In Thousands; Total Nonfarm Providing -Rhode Island\n",
        "okla_nonfarm = quandl.get(\"BLSE/SMU40000000000000001\", start_date=\"2000-01-01\", end_date=\"2020-08-01\")\n",
        "okla_nonfarm.columns= ['Total Nonfarm Provided Value']"
      ],
      "execution_count": null,
      "outputs": []
    },
    {
      "cell_type": "code",
      "metadata": {
        "id": "FNPJMLexLxF3",
        "colab_type": "code",
        "colab": {}
      },
      "source": [
        "#All Employees, In Thousands; Total Private Providing -South Carolina\n",
        "okla_priv = quandl.get(\"BLSE/SMU40000000500000001\", start_date=\"2000-01-01\", end_date=\"2020-08-01\")\n",
        "okla_priv.columns= ['Total Private Industry Value']"
      ],
      "execution_count": null,
      "outputs": []
    },
    {
      "cell_type": "code",
      "metadata": {
        "id": "9Z86jTMDLw6G",
        "colab_type": "code",
        "colab": {}
      },
      "source": [
        "#All Employees, In Thousands; Total Goods Producing Providing -South Carolina\n",
        "okla_goods = quandl.get(\"BLSE/SMU40000000600000001\", start_date=\"2000-01-01\", end_date=\"2020-08-01\")\n",
        "okla_goods.columns= ['Total Goods Produced Value']"
      ],
      "execution_count": null,
      "outputs": []
    },
    {
      "cell_type": "code",
      "metadata": {
        "id": "VfHMS5LuLwwa",
        "colab_type": "code",
        "colab": {}
      },
      "source": [
        "#All Employees, In Thousands; Total Service Providing -South Carolina\n",
        "okla_serv = quandl.get(\"BLSE/SMU40000000700000001\", start_date=\"2000-01-01\", end_date=\"2020-08-01\")\n",
        "okla_serv.columns= ['Total Service Provided Value']"
      ],
      "execution_count": null,
      "outputs": []
    },
    {
      "cell_type": "code",
      "metadata": {
        "id": "iSqWyKMeLwja",
        "colab_type": "code",
        "colab": {}
      },
      "source": [
        "#All Employees, In Thousands; Total Mining & Logging Providing -South Carolina\n",
        "okla_mine = quandl.get(\"BLSE/SMU40000001000000001\", start_date=\"2000-01-01\", end_date=\"2020-08-01\")\n",
        "okla_mine.columns= ['Total Mining & Logging Value']"
      ],
      "execution_count": null,
      "outputs": []
    },
    {
      "cell_type": "code",
      "metadata": {
        "id": "UeloK_paLwIS",
        "colab_type": "code",
        "colab": {}
      },
      "source": [
        "#All Employees, In Thousands; Total Manufacture Providing -South Carolina\n",
        "okla_manu = quandl.get(\"BLSE/SMU40000003000000001\", start_date=\"2000-01-01\", end_date=\"2020-08-01\")\n",
        "okla_manu.columns= ['Total Manufacture Value']"
      ],
      "execution_count": null,
      "outputs": []
    },
    {
      "cell_type": "code",
      "metadata": {
        "id": "_vpO1n3bLv2X",
        "colab_type": "code",
        "colab": {}
      },
      "source": [
        "#All Employees, In Thousands; Total Durable Goods Providing -South Carolina\n",
        "okla_durable = quandl.get(\"BLSE/SMU40000003000000001\", start_date=\"2000-01-01\", end_date=\"2020-08-01\")\n",
        "okla_durable.columns= ['Total Durable Goods Value']"
      ],
      "execution_count": null,
      "outputs": []
    },
    {
      "cell_type": "code",
      "metadata": {
        "id": "I9YRYxm6Lvlh",
        "colab_type": "code",
        "colab": {}
      },
      "source": [
        "#All Employees, In Thousands; Total Wholesale Trade Providing -South Carolina\n",
        "okla_wholesale = quandl.get(\"BLSE/SMU40000004100000001\", start_date=\"2000-01-01\", end_date=\"2020-08-01\")\n",
        "okla_wholesale.columns= ['Wholesale Trade Value']"
      ],
      "execution_count": null,
      "outputs": []
    },
    {
      "cell_type": "code",
      "metadata": {
        "id": "A8u3NXvFOg3O",
        "colab_type": "code",
        "colab": {}
      },
      "source": [
        "#All Employees, In Thousands; Total Transportation & Utilities Providing -South Carolina\n",
        "okla_transutil = quandl.get(\"BLSE/SMU40000004300000001\", start_date=\"2000-01-01\", end_date=\"2020-08-01\")\n",
        "okla_transutil.columns= ['Total Transportation & Utilities Value']"
      ],
      "execution_count": null,
      "outputs": []
    },
    {
      "cell_type": "code",
      "metadata": {
        "id": "Q1aKNg6ZLva4",
        "colab_type": "code",
        "colab": {}
      },
      "source": [
        "#All Employees, In Thousands; Total Truck Transportation Providing -South Carolina\n",
        "okla_truck = quandl.get(\"BLSE/SMU40000004348400001\", start_date=\"2000-01-01\", end_date=\"2020-08-01\")\n",
        "okla_truck.columns= ['Total Truck Transportation Provided Value']"
      ],
      "execution_count": null,
      "outputs": []
    },
    {
      "cell_type": "code",
      "metadata": {
        "id": "-9YMw1t0LvGP",
        "colab_type": "code",
        "colab": {}
      },
      "source": [
        "#All Employees, In Thousands; Total Telecommunications Transportation Providing -South Carolina\n",
        "okla_telecom = quandl.get(\"BLSE/SMU40000005051700001\", start_date=\"2000-01-01\", end_date=\"2020-08-01\")\n",
        "okla_telecom.columns= ['Total Telecommunication Value']"
      ],
      "execution_count": null,
      "outputs": []
    },
    {
      "cell_type": "code",
      "metadata": {
        "id": "4kiz3MvFPVw6",
        "colab_type": "code",
        "colab": {}
      },
      "source": [
        "#All Employees, In Thousands; Total Real Estate Transportation Providing -South Carolina\n",
        "okla_estate = quandl.get(\"BLSE/SMU40000005553100001\", start_date=\"2000-01-01\", end_date=\"2020-08-01\")\n",
        "okla_estate.columns= ['Total Real Estate Value']"
      ],
      "execution_count": null,
      "outputs": []
    },
    {
      "cell_type": "code",
      "metadata": {
        "id": "xOM87mU1Pl2P",
        "colab_type": "code",
        "colab": {}
      },
      "source": [
        "okla5 = pd.merge(okla_truck, okla_telecom, on='Date')"
      ],
      "execution_count": null,
      "outputs": []
    },
    {
      "cell_type": "code",
      "metadata": {
        "id": "OOKE0KrjPlwN",
        "colab_type": "code",
        "colab": {}
      },
      "source": [
        "okla4 = pd.merge(okla_wholesale, okla_transutil, on='Date')"
      ],
      "execution_count": null,
      "outputs": []
    },
    {
      "cell_type": "code",
      "metadata": {
        "id": "da4TQr2XPlp5",
        "colab_type": "code",
        "colab": {}
      },
      "source": [
        "okla3 = pd.merge(okla_manu, okla_durable, on='Date')"
      ],
      "execution_count": null,
      "outputs": []
    },
    {
      "cell_type": "code",
      "metadata": {
        "id": "WUgCX_4rPljy",
        "colab_type": "code",
        "colab": {}
      },
      "source": [
        "okla2 = pd.merge(okla_serv, okla_mine, on='Date')"
      ],
      "execution_count": null,
      "outputs": []
    },
    {
      "cell_type": "code",
      "metadata": {
        "id": "VNhpaRG5Plc3",
        "colab_type": "code",
        "colab": {}
      },
      "source": [
        "okla1 = pd.merge(okla_priv, okla_goods, on='Date')"
      ],
      "execution_count": null,
      "outputs": []
    },
    {
      "cell_type": "code",
      "metadata": {
        "id": "7iFdaGw6PlWQ",
        "colab_type": "code",
        "colab": {}
      },
      "source": [
        "oklahoma = pd.merge(okla_gov, okla_nonfarm, on='Date')"
      ],
      "execution_count": null,
      "outputs": []
    },
    {
      "cell_type": "code",
      "metadata": {
        "id": "TYDQuGoqLu1m",
        "colab_type": "code",
        "colab": {}
      },
      "source": [
        "oklahoma1 = pd.merge(oklahoma, okla1, on='Date')"
      ],
      "execution_count": null,
      "outputs": []
    },
    {
      "cell_type": "code",
      "metadata": {
        "id": "3hvGf6o8Lt_b",
        "colab_type": "code",
        "colab": {}
      },
      "source": [
        "oklahoma2 = pd.merge(oklahoma1, okla2, on='Date')"
      ],
      "execution_count": null,
      "outputs": []
    },
    {
      "cell_type": "code",
      "metadata": {
        "id": "DYqrxtljQlYD",
        "colab_type": "code",
        "colab": {}
      },
      "source": [
        "oklahoma3 = pd.merge(oklahoma2, okla3, on='Date')"
      ],
      "execution_count": null,
      "outputs": []
    },
    {
      "cell_type": "code",
      "metadata": {
        "id": "-yF9oclHQt01",
        "colab_type": "code",
        "colab": {}
      },
      "source": [
        "oklahoma4 = pd.merge(oklahoma3, okla4, on='Date')"
      ],
      "execution_count": null,
      "outputs": []
    },
    {
      "cell_type": "code",
      "metadata": {
        "id": "YZjXVEYAQmE9",
        "colab_type": "code",
        "colab": {}
      },
      "source": [
        "oklahoma5 = pd.merge(oklahoma4, okla5, on='Date')\n",
        "oklahoma5"
      ],
      "execution_count": null,
      "outputs": []
    },
    {
      "cell_type": "markdown",
      "metadata": {
        "id": "_g19s2dr-KnA",
        "colab_type": "text"
      },
      "source": [
        "# Ohio"
      ]
    },
    {
      "cell_type": "code",
      "metadata": {
        "id": "-hfIvBbf-WGH",
        "colab_type": "code",
        "colab": {}
      },
      "source": [
        "#All Employees, In Thousands; Total Government Providing -Rhode Island \n",
        "oh_gov = quandl.get(\"BLSE/SMU39000009000000001\", start_date=\"2000-01-01\", end_date=\"2020-08-01\")\n",
        "oh_gov.columns= ['Total Government Value']"
      ],
      "execution_count": null,
      "outputs": []
    },
    {
      "cell_type": "code",
      "metadata": {
        "id": "I-MusESm-_IX",
        "colab_type": "code",
        "colab": {}
      },
      "source": [
        "#All Employees, In Thousands; Total Nonfarm Providing -Rhode Island\n",
        "oh_nonfarm = quandl.get(\"BLSE/SMU39000000000000001\", start_date=\"2000-01-01\", end_date=\"2020-08-01\")\n",
        "oh_nonfarm.columns= ['Total Nonfarm Provided Value']"
      ],
      "execution_count": null,
      "outputs": []
    },
    {
      "cell_type": "code",
      "metadata": {
        "id": "F-tPNtIW-_DE",
        "colab_type": "code",
        "colab": {}
      },
      "source": [
        "#All Employees, In Thousands; Total Private Providing -South Carolina\n",
        "oh_priv = quandl.get(\"BLSE/SMU39000000500000001\", start_date=\"2000-01-01\", end_date=\"2020-08-01\")\n",
        "oh_priv.columns= ['Total Private Industry Value']"
      ],
      "execution_count": null,
      "outputs": []
    },
    {
      "cell_type": "code",
      "metadata": {
        "id": "vVEEtNMn--9k",
        "colab_type": "code",
        "colab": {}
      },
      "source": [
        "#All Employees, In Thousands; Total Goods Producing Providing -South Carolina\n",
        "oh_goods = quandl.get(\"BLSE/SMU39000000600000001\", start_date=\"2000-01-01\", end_date=\"2020-08-01\")\n",
        "oh_goods.columns= ['Total Goods Produced Value']"
      ],
      "execution_count": null,
      "outputs": []
    },
    {
      "cell_type": "code",
      "metadata": {
        "id": "sh5O7Fjk--4I",
        "colab_type": "code",
        "colab": {}
      },
      "source": [
        "#All Employees, In Thousands; Total Service Providing -South Carolina\n",
        "oh_serv = quandl.get(\"BLSE/SMU39000000700000001\", start_date=\"2000-01-01\", end_date=\"2020-08-01\")\n",
        "oh_serv.columns= ['Total Service Provided Value']"
      ],
      "execution_count": null,
      "outputs": []
    },
    {
      "cell_type": "code",
      "metadata": {
        "id": "1nMp9yod--yx",
        "colab_type": "code",
        "colab": {}
      },
      "source": [
        "#All Employees, In Thousands; Total Mining & Logging Providing -South Carolina\n",
        "oh_mine = quandl.get(\"BLSE/SMU39000001000000001\", start_date=\"2000-01-01\", end_date=\"2020-08-01\")\n",
        "oh_mine.columns= ['Total Mining & Logging Value']"
      ],
      "execution_count": null,
      "outputs": []
    },
    {
      "cell_type": "code",
      "metadata": {
        "id": "lNP-_Hq_--tc",
        "colab_type": "code",
        "colab": {}
      },
      "source": [
        "#All Employees, In Thousands; Total Manufacture Providing -South Carolina\n",
        "oh_manu = quandl.get(\"BLSE/SMU39000003000000001\", start_date=\"2000-01-01\", end_date=\"2020-08-01\")\n",
        "oh_manu.columns= ['Total Manufacture Value']"
      ],
      "execution_count": null,
      "outputs": []
    },
    {
      "cell_type": "code",
      "metadata": {
        "colab_type": "code",
        "id": "LeIjn2iUAjQJ",
        "colab": {}
      },
      "source": [
        "#All Employees, In Thousands; Total Durable Goods Providing -South Carolina\n",
        "oh_durable = quandl.get(\"BLSE/SMU39000003000000001\", start_date=\"2000-01-01\", end_date=\"2020-08-01\")\n",
        "oh_durable.columns= ['Total Durable Goods Value']"
      ],
      "execution_count": null,
      "outputs": []
    },
    {
      "cell_type": "code",
      "metadata": {
        "colab_type": "code",
        "id": "NO0Eqh1wAjQN",
        "colab": {}
      },
      "source": [
        "#All Employees, In Thousands; Total Wholesale Trade Providing -South Carolina\n",
        "oh_wholesale = quandl.get(\"BLSE/SMU39000004100000001\", start_date=\"2000-01-01\", end_date=\"2020-08-01\")\n",
        "oh_wholesale.columns= ['Wholesale Trade Value']"
      ],
      "execution_count": null,
      "outputs": []
    },
    {
      "cell_type": "code",
      "metadata": {
        "colab_type": "code",
        "id": "0G4nXqZuAjQR",
        "colab": {}
      },
      "source": [
        "#All Employees, In Thousands; Total Transportation & Utilities Providing -South Carolina\n",
        "oh_transutil = quandl.get(\"BLSE/SMU39000004300000001\", start_date=\"2000-01-01\", end_date=\"2020-08-01\")\n",
        "oh_transutil.columns= ['Total Transportation & Utilities Value']"
      ],
      "execution_count": null,
      "outputs": []
    },
    {
      "cell_type": "code",
      "metadata": {
        "colab_type": "code",
        "id": "JYSRXRbaAjQU",
        "colab": {}
      },
      "source": [
        "#All Employees, In Thousands; Total Truck Transportation Providing -South Carolina\n",
        "oh_truck = quandl.get(\"BLSE/SMU39000004348400001\", start_date=\"2000-01-01\", end_date=\"2020-08-01\")\n",
        "oh_truck.columns= ['Total Truck Transportation Provided Value']"
      ],
      "execution_count": null,
      "outputs": []
    },
    {
      "cell_type": "code",
      "metadata": {
        "colab_type": "code",
        "id": "oqRT1OEuAjQY",
        "colab": {}
      },
      "source": [
        "#All Employees, In Thousands; Total Telecommunications Transportation Providing -South Carolina\n",
        "oh_telecom = quandl.get(\"BLSE/SMU39000005051700001\", start_date=\"2000-01-01\", end_date=\"2020-08-01\")\n",
        "oh_telecom.columns= ['Total Telecommunication Value']"
      ],
      "execution_count": null,
      "outputs": []
    },
    {
      "cell_type": "code",
      "metadata": {
        "id": "MuGtT1hb--Mq",
        "colab_type": "code",
        "colab": {}
      },
      "source": [
        "oh5 = pd.merge(oh_truck, oh_telecom, on='Date')"
      ],
      "execution_count": null,
      "outputs": []
    },
    {
      "cell_type": "code",
      "metadata": {
        "id": "EvfsYHbT--HP",
        "colab_type": "code",
        "colab": {}
      },
      "source": [
        "oh4= pd.merge(oh_wholesale, oh_transutil, on='Date')"
      ],
      "execution_count": null,
      "outputs": []
    },
    {
      "cell_type": "code",
      "metadata": {
        "id": "fA_kSjM9--B4",
        "colab_type": "code",
        "colab": {}
      },
      "source": [
        "oh3 = pd.merge(oh_manu, oh_durable, on='Date')"
      ],
      "execution_count": null,
      "outputs": []
    },
    {
      "cell_type": "code",
      "metadata": {
        "id": "u32Ecrqs-98i",
        "colab_type": "code",
        "colab": {}
      },
      "source": [
        "oh2= pd.merge(oh_serv, oh_mine, on='Date')"
      ],
      "execution_count": null,
      "outputs": []
    },
    {
      "cell_type": "code",
      "metadata": {
        "id": "2L22dxfE-924",
        "colab_type": "code",
        "colab": {}
      },
      "source": [
        "oh1= pd.merge(oh_priv, oh_goods, on='Date')"
      ],
      "execution_count": null,
      "outputs": []
    },
    {
      "cell_type": "code",
      "metadata": {
        "id": "AwQ-sh2k-9xe",
        "colab_type": "code",
        "colab": {}
      },
      "source": [
        "ohio = pd.merge(oh_gov, oh_nonfarm, on='Date')"
      ],
      "execution_count": null,
      "outputs": []
    },
    {
      "cell_type": "code",
      "metadata": {
        "id": "YNqnuHIW-9sF",
        "colab_type": "code",
        "colab": {}
      },
      "source": [
        "ohio1 = pd.merge(ohio, oh1, on='Date')"
      ],
      "execution_count": null,
      "outputs": []
    },
    {
      "cell_type": "code",
      "metadata": {
        "id": "ESk37cF6-9mc",
        "colab_type": "code",
        "colab": {}
      },
      "source": [
        "ohio2 = pd.merge(ohio1, oh2, on='Date')"
      ],
      "execution_count": null,
      "outputs": []
    },
    {
      "cell_type": "code",
      "metadata": {
        "id": "gFwbXkjq-9gt",
        "colab_type": "code",
        "colab": {}
      },
      "source": [
        "ohio3 = pd.merge(ohio2, oh3, on='Date')"
      ],
      "execution_count": null,
      "outputs": []
    },
    {
      "cell_type": "code",
      "metadata": {
        "id": "7dHs9vGt-9au",
        "colab_type": "code",
        "colab": {}
      },
      "source": [
        "ohio4 = pd.merge(ohio3, oh4, on='Date')"
      ],
      "execution_count": null,
      "outputs": []
    },
    {
      "cell_type": "code",
      "metadata": {
        "id": "wfjPQQb6CeS4",
        "colab_type": "code",
        "colab": {}
      },
      "source": [
        "ohio5 = pd.merge(ohio4, oh5, on='Date')\n",
        "ohio5"
      ],
      "execution_count": null,
      "outputs": []
    },
    {
      "cell_type": "markdown",
      "metadata": {
        "id": "0MNIJveTCnev",
        "colab_type": "text"
      },
      "source": [
        "# North Dakota"
      ]
    },
    {
      "cell_type": "code",
      "metadata": {
        "id": "AeauoiznC4vl",
        "colab_type": "code",
        "colab": {}
      },
      "source": [
        ""
      ],
      "execution_count": null,
      "outputs": []
    },
    {
      "cell_type": "code",
      "metadata": {
        "colab_type": "code",
        "id": "gDRMAIryC5UE",
        "colab": {}
      },
      "source": [
        "#All Employees, In Thousands; Total Government Providing -Rhode Island \n",
        "nd_gov = quandl.get(\"BLSE/SMU38000009000000001\", start_date=\"2000-01-01\", end_date=\"2020-08-01\")\n",
        "nd_gov.columns= ['Total Government Value']"
      ],
      "execution_count": null,
      "outputs": []
    },
    {
      "cell_type": "code",
      "metadata": {
        "colab_type": "code",
        "id": "DT8YwFRVC5UJ",
        "colab": {}
      },
      "source": [
        "#All Employees, In Thousands; Total Nonfarm Providing -Rhode Island\n",
        "nd_nonfarm = quandl.get(\"BLSE/SMU38000000000000001\", start_date=\"2000-01-01\", end_date=\"2020-08-01\")\n",
        "nd_nonfarm.columns= ['Total Nonfarm Provided Value']"
      ],
      "execution_count": null,
      "outputs": []
    },
    {
      "cell_type": "code",
      "metadata": {
        "colab_type": "code",
        "id": "QFrecv2_C5UV",
        "colab": {}
      },
      "source": [
        "#All Employees, In Thousands; Total Private Providing -South Carolina\n",
        "nd_priv = quandl.get(\"BLSE/SMU38000000500000001\", start_date=\"2000-01-01\", end_date=\"2020-08-01\")\n",
        "nd_priv.columns= ['Total Private Industry Value']"
      ],
      "execution_count": null,
      "outputs": []
    },
    {
      "cell_type": "code",
      "metadata": {
        "colab_type": "code",
        "id": "TRJ1lSZQC5Ua",
        "colab": {}
      },
      "source": [
        "#All Employees, In Thousands; Total Goods Producing Providing -South Carolina\n",
        "nd_goods = quandl.get(\"BLSE/SMU38000000600000001\", start_date=\"2000-01-01\", end_date=\"2020-08-01\")\n",
        "nd_goods.columns= ['Total Goods Produced Value']"
      ],
      "execution_count": null,
      "outputs": []
    },
    {
      "cell_type": "code",
      "metadata": {
        "colab_type": "code",
        "id": "XFe2G_KIC5Ud",
        "colab": {}
      },
      "source": [
        "#All Employees, In Thousands; Total Service Providing -South Carolina\n",
        "nd_serv = quandl.get(\"BLSE/SMU38000000700000001\", start_date=\"2000-01-01\", end_date=\"2020-08-01\")\n",
        "nd_serv.columns= ['Total Service Provided Value']"
      ],
      "execution_count": null,
      "outputs": []
    },
    {
      "cell_type": "code",
      "metadata": {
        "colab_type": "code",
        "id": "ryY8GNJEC5Ug",
        "colab": {}
      },
      "source": [
        "#All Employees, In Thousands; Total Mining & Logging Providing -South Carolina\n",
        "nd_mine = quandl.get(\"BLSE/SMU38000001000000001\", start_date=\"2000-01-01\", end_date=\"2020-08-01\")\n",
        "nd_mine.columns= ['Total Mining & Logging Value']"
      ],
      "execution_count": null,
      "outputs": []
    },
    {
      "cell_type": "code",
      "metadata": {
        "colab_type": "code",
        "id": "OVuzst5LC5Uj",
        "colab": {}
      },
      "source": [
        "#All Employees, In Thousands; Total Manufacture Providing -South Carolina\n",
        "nd_manu = quandl.get(\"BLSE/SMU38000003000000001\", start_date=\"2000-01-01\", end_date=\"2020-08-01\")\n",
        "nd_manu.columns= ['Total Manufacture Value']"
      ],
      "execution_count": null,
      "outputs": []
    },
    {
      "cell_type": "code",
      "metadata": {
        "colab_type": "code",
        "id": "11IDtwpNC5Uo",
        "colab": {}
      },
      "source": [
        "#All Employees, In Thousands; Total Durable Goods Providing -South Carolina\n",
        "nd_durable = quandl.get(\"BLSE/SMU38000003000000001\", start_date=\"2000-01-01\", end_date=\"2020-08-01\")\n",
        "nd_durable.columns= ['Total Durable Goods Value']"
      ],
      "execution_count": null,
      "outputs": []
    },
    {
      "cell_type": "code",
      "metadata": {
        "colab_type": "code",
        "id": "zGanp7yaC5U1",
        "colab": {}
      },
      "source": [
        "#All Employees, In Thousands; Total Wholesale Trade Providing -South Carolina\n",
        "nd_wholesale = quandl.get(\"BLSE/SMU38000004100000001\", start_date=\"2000-01-01\", end_date=\"2020-08-01\")\n",
        "nd_wholesale.columns= ['Wholesale Trade Value']"
      ],
      "execution_count": null,
      "outputs": []
    },
    {
      "cell_type": "code",
      "metadata": {
        "colab_type": "code",
        "id": "sxfS6fsNC5U7",
        "colab": {}
      },
      "source": [
        "#All Employees, In Thousands; Total Transportation & Utilities Providing -South Carolina\n",
        "nd_transutil = quandl.get(\"BLSE/SMU38000004300000001\", start_date=\"2000-01-01\", end_date=\"2020-08-01\")\n",
        "nd_transutil.columns= ['Total Transportation & Utilities Value']"
      ],
      "execution_count": null,
      "outputs": []
    },
    {
      "cell_type": "code",
      "metadata": {
        "colab_type": "code",
        "id": "25krJYi4C5U_",
        "colab": {}
      },
      "source": [
        "#All Employees, In Thousands; Total Truck Transportation Providing -South Carolina\n",
        "nd_truck = quandl.get(\"BLSE/SMU38000004348400001\", start_date=\"2000-01-01\", end_date=\"2020-08-01\")\n",
        "nd_truck.columns= ['Total Truck Transportation Provided Value']"
      ],
      "execution_count": null,
      "outputs": []
    },
    {
      "cell_type": "code",
      "metadata": {
        "id": "guczwrUVCrt_",
        "colab_type": "code",
        "colab": {}
      },
      "source": [
        ""
      ],
      "execution_count": null,
      "outputs": []
    },
    {
      "cell_type": "code",
      "metadata": {
        "id": "RCxQjsY5CuED",
        "colab_type": "code",
        "colab": {}
      },
      "source": [
        ""
      ],
      "execution_count": null,
      "outputs": []
    },
    {
      "cell_type": "code",
      "metadata": {
        "id": "4ZDaO7kLCt-e",
        "colab_type": "code",
        "colab": {}
      },
      "source": [
        ""
      ],
      "execution_count": null,
      "outputs": []
    },
    {
      "cell_type": "code",
      "metadata": {
        "id": "dM2uzlqsCt48",
        "colab_type": "code",
        "colab": {}
      },
      "source": [
        ""
      ],
      "execution_count": null,
      "outputs": []
    },
    {
      "cell_type": "code",
      "metadata": {
        "id": "9uBZLggmCtzZ",
        "colab_type": "code",
        "colab": {}
      },
      "source": [
        "nd4 = pd.merge(nd_wholesale, nd_transutil, on='Date')"
      ],
      "execution_count": null,
      "outputs": []
    },
    {
      "cell_type": "code",
      "metadata": {
        "id": "qZUZa4vZCtt6",
        "colab_type": "code",
        "colab": {}
      },
      "source": [
        "nd3 = pd.merge(nd_manu, nd_durable, on='Date')"
      ],
      "execution_count": null,
      "outputs": []
    },
    {
      "cell_type": "code",
      "metadata": {
        "id": "tscbODXFCtoN",
        "colab_type": "code",
        "colab": {}
      },
      "source": [
        "nd2 = pd.merge(nd_serv, nd_mine, on='Date')"
      ],
      "execution_count": null,
      "outputs": []
    },
    {
      "cell_type": "code",
      "metadata": {
        "id": "2Ul2vIvJCtiq",
        "colab_type": "code",
        "colab": {}
      },
      "source": [
        "nd1 = pd.merge(nd_priv, nd_goods, on='Date')"
      ],
      "execution_count": null,
      "outputs": []
    },
    {
      "cell_type": "code",
      "metadata": {
        "id": "2fHkL2FuCtdG",
        "colab_type": "code",
        "colab": {}
      },
      "source": [
        "nd_dakota = pd.merge(nd_gov, nd_nonfarm, on='Date')"
      ],
      "execution_count": null,
      "outputs": []
    },
    {
      "cell_type": "code",
      "metadata": {
        "id": "QiErRE3xCtXi",
        "colab_type": "code",
        "colab": {}
      },
      "source": [
        "nd_dakota1 = pd.merge(nd_dakota, nd1, on='Date')"
      ],
      "execution_count": null,
      "outputs": []
    },
    {
      "cell_type": "code",
      "metadata": {
        "id": "eM2f7Va2CtSE",
        "colab_type": "code",
        "colab": {}
      },
      "source": [
        "nd_dakota2 = pd.merge(nd_dakota1, nd2, on='Date')"
      ],
      "execution_count": null,
      "outputs": []
    },
    {
      "cell_type": "code",
      "metadata": {
        "id": "Y8V-AIPoCtMe",
        "colab_type": "code",
        "colab": {}
      },
      "source": [
        "nd_dakota3 = pd.merge(nd_dakota2, nd3, on='Date')"
      ],
      "execution_count": null,
      "outputs": []
    },
    {
      "cell_type": "code",
      "metadata": {
        "id": "FzZjBJTFCtGh",
        "colab_type": "code",
        "colab": {}
      },
      "source": [
        "nd_dakota4 = pd.merge(nd_dakota3, nd4, on='Date')"
      ],
      "execution_count": null,
      "outputs": []
    },
    {
      "cell_type": "code",
      "metadata": {
        "id": "Cz77fozOCtA9",
        "colab_type": "code",
        "colab": {}
      },
      "source": [
        "nd_dakota5 = pd.merge(nd_dakota4, nd_truck, on='Date')\n",
        "nd_dakota5"
      ],
      "execution_count": null,
      "outputs": []
    },
    {
      "cell_type": "markdown",
      "metadata": {
        "id": "JC3GCJxRFOWV",
        "colab_type": "text"
      },
      "source": [
        "# North Carolina"
      ]
    },
    {
      "cell_type": "code",
      "metadata": {
        "id": "zM46O4VxFQu2",
        "colab_type": "code",
        "colab": {}
      },
      "source": [
        ""
      ],
      "execution_count": null,
      "outputs": []
    },
    {
      "cell_type": "code",
      "metadata": {
        "colab_type": "code",
        "id": "yJ2GidJzFQ_P",
        "colab": {}
      },
      "source": [
        "#All Employees, In Thousands; Total Government Providing -Rhode Island \n",
        "nc_gov = quandl.get(\"BLSE/SMU37000009000000001\", start_date=\"2000-01-01\", end_date=\"2020-08-01\")\n",
        "nc_gov.columns= ['Total Government Value']"
      ],
      "execution_count": null,
      "outputs": []
    },
    {
      "cell_type": "code",
      "metadata": {
        "colab_type": "code",
        "id": "vnKEyth6FQ_X",
        "colab": {}
      },
      "source": [
        "#All Employees, In Thousands; Total Nonfarm Providing -Rhode Island\n",
        "nc_nonfarm = quandl.get(\"BLSE/SMU37000000000000001\", start_date=\"2000-01-01\", end_date=\"2020-08-01\")\n",
        "nc_nonfarm.columns= ['Total Nonfarm Provided Value']"
      ],
      "execution_count": null,
      "outputs": []
    },
    {
      "cell_type": "code",
      "metadata": {
        "colab_type": "code",
        "id": "pVu8ZHaHFQ_a",
        "colab": {}
      },
      "source": [
        "#All Employees, In Thousands; Total Private Providing -South Carolina\n",
        "nc_priv = quandl.get(\"BLSE/SMU37000000500000001\", start_date=\"2000-01-01\", end_date=\"2020-08-01\")\n",
        "nc_priv.columns= ['Total Private Industry Value']"
      ],
      "execution_count": null,
      "outputs": []
    },
    {
      "cell_type": "code",
      "metadata": {
        "colab_type": "code",
        "id": "LHOYMd1mFQ_d",
        "colab": {}
      },
      "source": [
        "#All Employees, In Thousands; Total Goods Producing Providing -South Carolina\n",
        "nc_goods = quandl.get(\"BLSE/SMU37000000600000001\", start_date=\"2000-01-01\", end_date=\"2020-08-01\")\n",
        "nc_goods.columns= ['Total Goods Produced Value']"
      ],
      "execution_count": null,
      "outputs": []
    },
    {
      "cell_type": "code",
      "metadata": {
        "colab_type": "code",
        "id": "6cZCLxtRFQ_g",
        "colab": {}
      },
      "source": [
        "#All Employees, In Thousands; Total Service Providing -South Carolina\n",
        "nc_serv = quandl.get(\"BLSE/SMU37000000700000001\", start_date=\"2000-01-01\", end_date=\"2020-08-01\")\n",
        "nc_serv.columns= ['Total Service Provided Value']"
      ],
      "execution_count": null,
      "outputs": []
    },
    {
      "cell_type": "code",
      "metadata": {
        "colab_type": "code",
        "id": "IFJKhvKzFQ_j",
        "colab": {}
      },
      "source": [
        "#All Employees, In Thousands; Total Mining & Logging Providing -South Carolina\n",
        "nc_mine = quandl.get(\"BLSE/SMU37000001000000001\", start_date=\"2000-01-01\", end_date=\"2020-08-01\")\n",
        "nc_mine.columns= ['Total Mining & Logging Value']"
      ],
      "execution_count": null,
      "outputs": []
    },
    {
      "cell_type": "code",
      "metadata": {
        "colab_type": "code",
        "id": "l5St9uTEFQ_o",
        "colab": {}
      },
      "source": [
        "#All Employees, In Thousands; Total Manufacture Providing -South Carolina\n",
        "nc_manu = quandl.get(\"BLSE/SMU37000003000000001\", start_date=\"2000-01-01\", end_date=\"2020-08-01\")\n",
        "nc_manu.columns= ['Total Manufacture Value']"
      ],
      "execution_count": null,
      "outputs": []
    },
    {
      "cell_type": "code",
      "metadata": {
        "colab_type": "code",
        "id": "7XDJHwCpFQ_s",
        "colab": {}
      },
      "source": [
        "#All Employees, In Thousands; Total Durable Goods Providing -South Carolina\n",
        "nc_durable = quandl.get(\"BLSE/SMU37000003000000001\", start_date=\"2000-01-01\", end_date=\"2020-08-01\")\n",
        "nc_durable.columns= ['Total Durable Goods Value']"
      ],
      "execution_count": null,
      "outputs": []
    },
    {
      "cell_type": "code",
      "metadata": {
        "colab_type": "code",
        "id": "bMRFO0xmFQ_u",
        "colab": {}
      },
      "source": [
        "#All Employees, In Thousands; Total Wholesale Trade Providing -South Carolina\n",
        "nc_wholesale = quandl.get(\"BLSE/SMU37000004100000001\", start_date=\"2000-01-01\", end_date=\"2020-08-01\")\n",
        "nc_wholesale.columns= ['Wholesale Trade Value']"
      ],
      "execution_count": null,
      "outputs": []
    },
    {
      "cell_type": "code",
      "metadata": {
        "colab_type": "code",
        "id": "2_DkWOHsFQ_y",
        "colab": {}
      },
      "source": [
        "#All Employees, In Thousands; Total Transportation & Utilities Providing -South Carolina\n",
        "nc_transutil = quandl.get(\"BLSE/SMU37000004300000001\", start_date=\"2000-01-01\", end_date=\"2020-08-01\")\n",
        "nc_transutil.columns= ['Total Transportation & Utilities Value']"
      ],
      "execution_count": null,
      "outputs": []
    },
    {
      "cell_type": "code",
      "metadata": {
        "colab_type": "code",
        "id": "e0rebgFVFQ_0",
        "colab": {}
      },
      "source": [
        "#All Employees, In Thousands; Total Truck Transportation Providing -South Carolina\n",
        "nc_truck = quandl.get(\"BLSE/SMU37000004348400001\", start_date=\"2000-01-01\", end_date=\"2020-08-01\")\n",
        "nc_truck.columns= ['Total Truck Transportation Provided Value']"
      ],
      "execution_count": null,
      "outputs": []
    },
    {
      "cell_type": "code",
      "metadata": {
        "colab_type": "code",
        "id": "Cpv4SzT1FQ_3",
        "colab": {}
      },
      "source": [
        "#All Employees, In Thousands; Total Telecommunications Transportation Providing -South Carolina\n",
        "nc_telecom = quandl.get(\"BLSE/SMU37000005051700001\", start_date=\"2000-01-01\", end_date=\"2020-08-01\")\n",
        "nc_telecom.columns= ['Total Telecommunication Value']"
      ],
      "execution_count": null,
      "outputs": []
    },
    {
      "cell_type": "code",
      "metadata": {
        "id": "XDs_q5VlCs7Y",
        "colab_type": "code",
        "colab": {}
      },
      "source": [
        "#All Employees, In Thousands; Total Air Transportation Providing -South Carolina\n",
        "nc_air = quandl.get(\"BLSE/SMU37000004348100001\", start_date=\"2000-01-01\", end_date=\"2020-08-01\")\n",
        "nc_air.columns= ['Total Air Value']"
      ],
      "execution_count": null,
      "outputs": []
    },
    {
      "cell_type": "code",
      "metadata": {
        "id": "jGh4CLC4Cs1y",
        "colab_type": "code",
        "colab": {}
      },
      "source": [
        "#All Employees, In Thousands; Total Real Estate Providing -South Carolina\n",
        "nc_estate = quandl.get(\"BLSE/SMU37000005553100001\", start_date=\"2000-01-01\", end_date=\"2020-08-01\")\n",
        "nc_estate.columns= ['Total Real Estate Value']"
      ],
      "execution_count": null,
      "outputs": []
    },
    {
      "cell_type": "code",
      "metadata": {
        "id": "TwHenNH8HW7X",
        "colab_type": "code",
        "colab": {}
      },
      "source": [
        "nc6 = pd.merge(nc_air, nc_estate, on='Date')"
      ],
      "execution_count": null,
      "outputs": []
    },
    {
      "cell_type": "code",
      "metadata": {
        "id": "H84MXRL8HR50",
        "colab_type": "code",
        "colab": {}
      },
      "source": [
        "nc5 = pd.merge(nc_truck, nc_telecom, on='Date')"
      ],
      "execution_count": null,
      "outputs": []
    },
    {
      "cell_type": "code",
      "metadata": {
        "colab_type": "code",
        "id": "NSlrgFE7GsYZ",
        "colab": {}
      },
      "source": [
        "nc4 = pd.merge(nc_wholesale, nc_transutil, on='Date')"
      ],
      "execution_count": null,
      "outputs": []
    },
    {
      "cell_type": "code",
      "metadata": {
        "colab_type": "code",
        "id": "YtBKmI_hGsYh",
        "colab": {}
      },
      "source": [
        "nc3 = pd.merge(nc_manu, nc_durable, on='Date')"
      ],
      "execution_count": null,
      "outputs": []
    },
    {
      "cell_type": "code",
      "metadata": {
        "colab_type": "code",
        "id": "xxWt4R1oGsYk",
        "colab": {}
      },
      "source": [
        "nc2 = pd.merge(nc_serv, nc_mine, on='Date')"
      ],
      "execution_count": null,
      "outputs": []
    },
    {
      "cell_type": "code",
      "metadata": {
        "colab_type": "code",
        "id": "MpJhSk_eGsYq",
        "colab": {}
      },
      "source": [
        "nc1 = pd.merge(nc_priv, nc_goods, on='Date')"
      ],
      "execution_count": null,
      "outputs": []
    },
    {
      "cell_type": "code",
      "metadata": {
        "colab_type": "code",
        "id": "YmAJ2JDnGsYu",
        "colab": {}
      },
      "source": [
        "north_c = pd.merge(nc_gov, nc_nonfarm, on='Date')"
      ],
      "execution_count": null,
      "outputs": []
    },
    {
      "cell_type": "code",
      "metadata": {
        "colab_type": "code",
        "id": "vll0xY1iGsYy",
        "colab": {}
      },
      "source": [
        "north_c1 = pd.merge(north_c, nc1, on='Date')"
      ],
      "execution_count": null,
      "outputs": []
    },
    {
      "cell_type": "code",
      "metadata": {
        "colab_type": "code",
        "id": "ghIC8Sw0GsY1",
        "colab": {}
      },
      "source": [
        "north_c2 = pd.merge(north_c1, nc2, on='Date')"
      ],
      "execution_count": null,
      "outputs": []
    },
    {
      "cell_type": "code",
      "metadata": {
        "colab_type": "code",
        "id": "WdVWElR-GsY5",
        "colab": {}
      },
      "source": [
        "north_c3 = pd.merge(north_c2, nc3, on='Date')"
      ],
      "execution_count": null,
      "outputs": []
    },
    {
      "cell_type": "code",
      "metadata": {
        "colab_type": "code",
        "id": "Msd72O-YGsY9",
        "colab": {}
      },
      "source": [
        "north_c4 = pd.merge(north_c3, nc4, on='Date')"
      ],
      "execution_count": null,
      "outputs": []
    },
    {
      "cell_type": "code",
      "metadata": {
        "id": "hPcP_euOCsqf",
        "colab_type": "code",
        "colab": {}
      },
      "source": [
        "north_c5 = pd.merge(north_c4, nc5, on='Date')"
      ],
      "execution_count": null,
      "outputs": []
    },
    {
      "cell_type": "code",
      "metadata": {
        "id": "jo1l0etWCskx",
        "colab_type": "code",
        "colab": {}
      },
      "source": [
        "north_c6 = pd.merge(north_c5, nc6, on='Date')\n",
        "north_c6"
      ],
      "execution_count": null,
      "outputs": []
    },
    {
      "cell_type": "markdown",
      "metadata": {
        "id": "rFoFLH2oIunT",
        "colab_type": "text"
      },
      "source": [
        "# New York"
      ]
    },
    {
      "cell_type": "code",
      "metadata": {
        "id": "U3JwM4CzIyeN",
        "colab_type": "code",
        "colab": {}
      },
      "source": [
        ""
      ],
      "execution_count": null,
      "outputs": []
    },
    {
      "cell_type": "code",
      "metadata": {
        "colab_type": "code",
        "id": "JR2t04FaI4Z-",
        "colab": {}
      },
      "source": [
        "#All Employees, In Thousands; Total Government Providing -Rhode Island \n",
        "ny_gov = quandl.get(\"BLSE/SMU36000009000000001\", start_date=\"2000-01-01\", end_date=\"2020-08-01\")\n",
        "ny_gov.columns= ['Total Government Value']"
      ],
      "execution_count": null,
      "outputs": []
    },
    {
      "cell_type": "code",
      "metadata": {
        "colab_type": "code",
        "id": "x77rw9vZI4aD",
        "colab": {}
      },
      "source": [
        "#All Employees, In Thousands; Total Nonfarm Providing -Rhode Island\n",
        "ny_nonfarm = quandl.get(\"BLSE/SMU36000000000000001\", start_date=\"2000-01-01\", end_date=\"2020-08-01\")\n",
        "ny_nonfarm.columns= ['Total Nonfarm Provided Value']"
      ],
      "execution_count": null,
      "outputs": []
    },
    {
      "cell_type": "code",
      "metadata": {
        "colab_type": "code",
        "id": "P3lyZlOeI4aH",
        "colab": {}
      },
      "source": [
        "#All Employees, In Thousands; Total Private Providing -South Carolina\n",
        "ny_priv = quandl.get(\"BLSE/SMU36000000500000001\", start_date=\"2000-01-01\", end_date=\"2020-08-01\")\n",
        "ny_priv.columns= ['Total Private Industry Value']"
      ],
      "execution_count": null,
      "outputs": []
    },
    {
      "cell_type": "code",
      "metadata": {
        "colab_type": "code",
        "id": "U3L6lqBEI4aK",
        "colab": {}
      },
      "source": [
        "#All Employees, In Thousands; Total Goods Producing Providing -South Carolina\n",
        "ny_goods = quandl.get(\"BLSE/SMU36000000600000001\", start_date=\"2000-01-01\", end_date=\"2020-08-01\")\n",
        "ny_goods.columns= ['Total Goods Produced Value']"
      ],
      "execution_count": null,
      "outputs": []
    },
    {
      "cell_type": "code",
      "metadata": {
        "colab_type": "code",
        "id": "b-IwYPSfI4aN",
        "colab": {}
      },
      "source": [
        "#All Employees, In Thousands; Total Service Providing -South Carolina\n",
        "ny_serv = quandl.get(\"BLSE/SMU36000000700000001\", start_date=\"2000-01-01\", end_date=\"2020-08-01\")\n",
        "ny_serv.columns= ['Total Service Provided Value']"
      ],
      "execution_count": null,
      "outputs": []
    },
    {
      "cell_type": "code",
      "metadata": {
        "colab_type": "code",
        "id": "yiXV8yjzI4aQ",
        "colab": {}
      },
      "source": [
        "#All Employees, In Thousands; Total Mining & Logging Providing -South Carolina\n",
        "ny_mine = quandl.get(\"BLSE/SMU36000001000000001\", start_date=\"2000-01-01\", end_date=\"2020-08-01\")\n",
        "ny_mine.columns= ['Total Mining & Logging Value']"
      ],
      "execution_count": null,
      "outputs": []
    },
    {
      "cell_type": "code",
      "metadata": {
        "colab_type": "code",
        "id": "2AwklY_3I4aT",
        "colab": {}
      },
      "source": [
        "#All Employees, In Thousands; Total Manufacture Providing -South Carolina\n",
        "ny_manu = quandl.get(\"BLSE/SMU36000003000000001\", start_date=\"2000-01-01\", end_date=\"2020-08-01\")\n",
        "ny_manu.columns= ['Total Manufacture Value']"
      ],
      "execution_count": null,
      "outputs": []
    },
    {
      "cell_type": "code",
      "metadata": {
        "colab_type": "code",
        "id": "LuCO1M8eI4aV",
        "colab": {}
      },
      "source": [
        "#All Employees, In Thousands; Total Durable Goods Providing -South Carolina\n",
        "ny_durable = quandl.get(\"BLSE/SMU36000003000000001\", start_date=\"2000-01-01\", end_date=\"2020-08-01\")\n",
        "ny_durable.columns= ['Total Durable Goods Value']"
      ],
      "execution_count": null,
      "outputs": []
    },
    {
      "cell_type": "code",
      "metadata": {
        "colab_type": "code",
        "id": "ADDYVm34I4aY",
        "colab": {}
      },
      "source": [
        "#All Employees, In Thousands; Total Wholesale Trade Providing -South Carolina\n",
        "ny_wholesale = quandl.get(\"BLSE/SMU36000004100000001\", start_date=\"2000-01-01\", end_date=\"2020-08-01\")\n",
        "ny_wholesale.columns= ['Wholesale Trade Value']"
      ],
      "execution_count": null,
      "outputs": []
    },
    {
      "cell_type": "code",
      "metadata": {
        "colab_type": "code",
        "id": "BEdQ9yDTI4aa",
        "colab": {}
      },
      "source": [
        "#All Employees, In Thousands; Total Transportation & Utilities Providing -South Carolina\n",
        "ny_transutil = quandl.get(\"BLSE/SMU36000004300000001\", start_date=\"2000-01-01\", end_date=\"2020-08-01\")\n",
        "ny_transutil.columns= ['Total Transportation & Utilities Value']"
      ],
      "execution_count": null,
      "outputs": []
    },
    {
      "cell_type": "code",
      "metadata": {
        "colab_type": "code",
        "id": "O2KB19IaI4ad",
        "colab": {}
      },
      "source": [
        "#All Employees, In Thousands; Total Truck Transportation Providing -South Carolina\n",
        "ny_truck = quandl.get(\"BLSE/SMU36000004348400001\", start_date=\"2000-01-01\", end_date=\"2020-08-01\")\n",
        "ny_truck.columns= ['Total Truck Transportation Provided Value']"
      ],
      "execution_count": null,
      "outputs": []
    },
    {
      "cell_type": "code",
      "metadata": {
        "colab_type": "code",
        "id": "NwfZRRQ0I4af",
        "colab": {}
      },
      "source": [
        "#All Employees, In Thousands; Total Telecommunications Transportation Providing -South Carolina\n",
        "ny_telecom = quandl.get(\"BLSE/SMU36000005051700001\", start_date=\"2000-01-01\", end_date=\"2020-08-01\")\n",
        "ny_telecom.columns= ['Total Telecommunication Value']"
      ],
      "execution_count": null,
      "outputs": []
    },
    {
      "cell_type": "code",
      "metadata": {
        "colab_type": "code",
        "id": "EsBbJNwAI4ah",
        "colab": {}
      },
      "source": [
        "#All Employees, In Thousands; Total Air Transportation Providing -South Carolina\n",
        "ny_air = quandl.get(\"BLSE/SMU36000004348100001\", start_date=\"2000-01-01\", end_date=\"2020-08-01\")\n",
        "ny_air.columns= ['Total Air Value']"
      ],
      "execution_count": null,
      "outputs": []
    },
    {
      "cell_type": "code",
      "metadata": {
        "colab_type": "code",
        "id": "pBWZxVw0I4aj",
        "colab": {}
      },
      "source": [
        "#All Employees, In Thousands; Total Real Estate Providing -South Carolina\n",
        "ny_estate = quandl.get(\"BLSE/SMU36000005553100001\", start_date=\"2000-01-01\", end_date=\"2020-08-01\")\n",
        "ny_estate.columns= ['Total Real Estate Value']"
      ],
      "execution_count": null,
      "outputs": []
    },
    {
      "cell_type": "code",
      "metadata": {
        "id": "QztzHZ6LJZeB",
        "colab_type": "code",
        "colab": {}
      },
      "source": [
        "#All Employees, In Thousands; Total Commercial Banking Providing -South Carolina\n",
        "ny_comm = quandl.get(\"BLSE/SMU36000005552211001\", start_date=\"2000-01-01\", end_date=\"2020-08-01\")\n",
        "ny_comm.columns= ['Total Commercial Banking Value']"
      ],
      "execution_count": null,
      "outputs": []
    },
    {
      "cell_type": "code",
      "metadata": {
        "colab_type": "code",
        "id": "yMH6wg-7I4al",
        "colab": {}
      },
      "source": [
        "ny6 = pd.merge(ny_air, ny_estate, on='Date')"
      ],
      "execution_count": null,
      "outputs": []
    },
    {
      "cell_type": "code",
      "metadata": {
        "colab_type": "code",
        "id": "ILAvFZYsI4ao",
        "colab": {}
      },
      "source": [
        "ny5 = pd.merge(ny_truck, ny_telecom, on='Date')"
      ],
      "execution_count": null,
      "outputs": []
    },
    {
      "cell_type": "code",
      "metadata": {
        "colab_type": "code",
        "id": "bD9MekUMI4ap",
        "colab": {}
      },
      "source": [
        "ny4 = pd.merge(ny_wholesale, ny_transutil, on='Date')"
      ],
      "execution_count": null,
      "outputs": []
    },
    {
      "cell_type": "code",
      "metadata": {
        "colab_type": "code",
        "id": "9Qfhb_xsI4ar",
        "colab": {}
      },
      "source": [
        "ny3 = pd.merge(ny_manu, ny_durable, on='Date')"
      ],
      "execution_count": null,
      "outputs": []
    },
    {
      "cell_type": "code",
      "metadata": {
        "colab_type": "code",
        "id": "sCPZhHlVI4at",
        "colab": {}
      },
      "source": [
        "ny2 = pd.merge(ny_serv, ny_mine, on='Date')"
      ],
      "execution_count": null,
      "outputs": []
    },
    {
      "cell_type": "code",
      "metadata": {
        "colab_type": "code",
        "id": "olSWVH0_I4av",
        "colab": {}
      },
      "source": [
        "ny1 = pd.merge(ny_priv, ny_goods, on='Date')"
      ],
      "execution_count": null,
      "outputs": []
    },
    {
      "cell_type": "code",
      "metadata": {
        "colab_type": "code",
        "id": "QW_4tKVXI4ax",
        "colab": {}
      },
      "source": [
        "new_y = pd.merge(ny_gov, ny_nonfarm, on='Date')"
      ],
      "execution_count": null,
      "outputs": []
    },
    {
      "cell_type": "code",
      "metadata": {
        "colab_type": "code",
        "id": "_pTir3lnI4a0",
        "colab": {}
      },
      "source": [
        "new_y1 = pd.merge(new_y, ny1, on='Date')"
      ],
      "execution_count": null,
      "outputs": []
    },
    {
      "cell_type": "code",
      "metadata": {
        "colab_type": "code",
        "id": "6O-RMEQTI4a5",
        "colab": {}
      },
      "source": [
        "new_y2 = pd.merge(new_y1, ny2, on='Date')"
      ],
      "execution_count": null,
      "outputs": []
    },
    {
      "cell_type": "code",
      "metadata": {
        "colab_type": "code",
        "id": "ysTeqNWBI4a8",
        "colab": {}
      },
      "source": [
        "new_y3 = pd.merge(new_y2, ny3, on='Date')"
      ],
      "execution_count": null,
      "outputs": []
    },
    {
      "cell_type": "code",
      "metadata": {
        "colab_type": "code",
        "id": "IB4UM9G4I4a-",
        "colab": {}
      },
      "source": [
        "new_y4 = pd.merge(new_y3, ny4, on='Date')"
      ],
      "execution_count": null,
      "outputs": []
    },
    {
      "cell_type": "code",
      "metadata": {
        "colab_type": "code",
        "id": "C9p2K_Y8I4bA",
        "colab": {}
      },
      "source": [
        "new_y5 = pd.merge(new_y4, ny5, on='Date')"
      ],
      "execution_count": null,
      "outputs": []
    },
    {
      "cell_type": "code",
      "metadata": {
        "colab_type": "code",
        "id": "hffMRtC_I4bG",
        "colab": {}
      },
      "source": [
        "new_y6 = pd.merge(new_y5, ny6, on='Date')"
      ],
      "execution_count": null,
      "outputs": []
    },
    {
      "cell_type": "code",
      "metadata": {
        "id": "mvqEhVgoCse9",
        "colab_type": "code",
        "colab": {}
      },
      "source": [
        "new_y7 = pd.merge(new_y6, ny_comm, on='Date')\n",
        "new_y7"
      ],
      "execution_count": null,
      "outputs": []
    },
    {
      "cell_type": "markdown",
      "metadata": {
        "id": "0bwwtFiHLL6m",
        "colab_type": "text"
      },
      "source": [
        "# New Mexico"
      ]
    },
    {
      "cell_type": "code",
      "metadata": {
        "id": "8YmC7goWLPaZ",
        "colab_type": "code",
        "colab": {}
      },
      "source": [
        ""
      ],
      "execution_count": null,
      "outputs": []
    },
    {
      "cell_type": "code",
      "metadata": {
        "colab_type": "code",
        "id": "bS_4y2IMLPyt",
        "colab": {}
      },
      "source": [
        "#All Employees, In Thousands; Total Government Providing -Rhode Island \n",
        "nm_gov = quandl.get(\"BLSE/SMU35000009000000001\", start_date=\"2000-01-01\", end_date=\"2020-08-01\")\n",
        "nm_gov.columns= ['Total Government Value']"
      ],
      "execution_count": null,
      "outputs": []
    },
    {
      "cell_type": "code",
      "metadata": {
        "colab_type": "code",
        "id": "jhBrQ1dYLPyx",
        "colab": {}
      },
      "source": [
        "#All Employees, In Thousands; Total Nonfarm Providing -Rhode Island\n",
        "nm_nonfarm = quandl.get(\"BLSE/SMU35000000000000001\", start_date=\"2000-01-01\", end_date=\"2020-08-01\")\n",
        "nm_nonfarm.columns= ['Total Nonfarm Provided Value']"
      ],
      "execution_count": null,
      "outputs": []
    },
    {
      "cell_type": "code",
      "metadata": {
        "colab_type": "code",
        "id": "jiLTX_JHLPyz",
        "colab": {}
      },
      "source": [
        "#All Employees, In Thousands; Total Private Providing -South Carolina\n",
        "nm_priv = quandl.get(\"BLSE/SMU35000000500000001\", start_date=\"2000-01-01\", end_date=\"2020-08-01\")\n",
        "nm_priv.columns= ['Total Private Industry Value']"
      ],
      "execution_count": null,
      "outputs": []
    },
    {
      "cell_type": "code",
      "metadata": {
        "colab_type": "code",
        "id": "3bL70GrkLPy1",
        "colab": {}
      },
      "source": [
        "#All Employees, In Thousands; Total Goods Producing Providing -South Carolina\n",
        "nm_goods = quandl.get(\"BLSE/SMU35000000600000001\", start_date=\"2000-01-01\", end_date=\"2020-08-01\")\n",
        "nm_goods.columns= ['Total Goods Produced Value']"
      ],
      "execution_count": null,
      "outputs": []
    },
    {
      "cell_type": "code",
      "metadata": {
        "colab_type": "code",
        "id": "WR4xs-VjLPy4",
        "colab": {}
      },
      "source": [
        "#All Employees, In Thousands; Total Service Providing -South Carolina\n",
        "nm_serv = quandl.get(\"BLSE/SMU35000000700000001\", start_date=\"2000-01-01\", end_date=\"2020-08-01\")\n",
        "nm_serv.columns= ['Total Service Provided Value']"
      ],
      "execution_count": null,
      "outputs": []
    },
    {
      "cell_type": "code",
      "metadata": {
        "colab_type": "code",
        "id": "kwJP_cpDLPy6",
        "colab": {}
      },
      "source": [
        "#All Employees, In Thousands; Total Mining & Logging Providing -South Carolina\n",
        "nm_mine = quandl.get(\"BLSE/SMU35000001000000001\", start_date=\"2000-01-01\", end_date=\"2020-08-01\")\n",
        "nm_mine.columns= ['Total Mining & Logging Value']"
      ],
      "execution_count": null,
      "outputs": []
    },
    {
      "cell_type": "code",
      "metadata": {
        "colab_type": "code",
        "id": "9_I32O_2LPy9",
        "colab": {}
      },
      "source": [
        "#All Employees, In Thousands; Total Manufacture Providing -South Carolina\n",
        "nm_manu = quandl.get(\"BLSE/SMU35000003000000001\", start_date=\"2000-01-01\", end_date=\"2020-08-01\")\n",
        "nm_manu.columns= ['Total Manufacture Value']"
      ],
      "execution_count": null,
      "outputs": []
    },
    {
      "cell_type": "code",
      "metadata": {
        "colab_type": "code",
        "id": "zL6_wcr3LPy_",
        "colab": {}
      },
      "source": [
        "#All Employees, In Thousands; Total Durable Goods Providing -South Carolina\n",
        "nm_durable = quandl.get(\"BLSE/SMU35000003000000001\", start_date=\"2000-01-01\", end_date=\"2020-08-01\")\n",
        "nm_durable.columns= ['Total Durable Goods Value']"
      ],
      "execution_count": null,
      "outputs": []
    },
    {
      "cell_type": "code",
      "metadata": {
        "colab_type": "code",
        "id": "sTGCArvJLPzB",
        "colab": {}
      },
      "source": [
        "#All Employees, In Thousands; Total Wholesale Trade Providing -South Carolina\n",
        "nm_wholesale = quandl.get(\"BLSE/SMU35000004100000001\", start_date=\"2000-01-01\", end_date=\"2020-08-01\")\n",
        "nm_wholesale.columns= ['Wholesale Trade Value']"
      ],
      "execution_count": null,
      "outputs": []
    },
    {
      "cell_type": "code",
      "metadata": {
        "colab_type": "code",
        "id": "7J6dhvdmLPzH",
        "colab": {}
      },
      "source": [
        "#All Employees, In Thousands; Total Transportation & Utilities Providing -South Carolina\n",
        "nm_transutil = quandl.get(\"BLSE/SMU35000004300000001\", start_date=\"2000-01-01\", end_date=\"2020-08-01\")\n",
        "nm_transutil.columns= ['Total Transportation & Utilities Value']"
      ],
      "execution_count": null,
      "outputs": []
    },
    {
      "cell_type": "code",
      "metadata": {
        "colab_type": "code",
        "id": "EmbPMa1lLPzn",
        "colab": {}
      },
      "source": [
        "nm4 = pd.merge(nm_wholesale, nm_transutil, on='Date')"
      ],
      "execution_count": null,
      "outputs": []
    },
    {
      "cell_type": "code",
      "metadata": {
        "colab_type": "code",
        "id": "8j-ys-CTLPzq",
        "colab": {}
      },
      "source": [
        "nm3 = pd.merge(nm_manu, nm_durable, on='Date')"
      ],
      "execution_count": null,
      "outputs": []
    },
    {
      "cell_type": "code",
      "metadata": {
        "colab_type": "code",
        "id": "eAQlsBdMLPzt",
        "colab": {}
      },
      "source": [
        "nm2 = pd.merge(nm_serv, nm_mine, on='Date')"
      ],
      "execution_count": null,
      "outputs": []
    },
    {
      "cell_type": "code",
      "metadata": {
        "colab_type": "code",
        "id": "Q-EaiGaaLPzy",
        "colab": {}
      },
      "source": [
        "nm1 = pd.merge(nm_priv, nm_goods, on='Date')"
      ],
      "execution_count": null,
      "outputs": []
    },
    {
      "cell_type": "code",
      "metadata": {
        "colab_type": "code",
        "id": "ybXRpjFVLPz1",
        "colab": {}
      },
      "source": [
        "new_m = pd.merge(nm_gov, nm_nonfarm, on='Date')"
      ],
      "execution_count": null,
      "outputs": []
    },
    {
      "cell_type": "code",
      "metadata": {
        "colab_type": "code",
        "id": "jd4X4rToLPz4",
        "colab": {}
      },
      "source": [
        "new_m1 = pd.merge(new_m, nm1, on='Date')"
      ],
      "execution_count": null,
      "outputs": []
    },
    {
      "cell_type": "code",
      "metadata": {
        "colab_type": "code",
        "id": "r0Z5zVSCLPz5",
        "colab": {}
      },
      "source": [
        "new_m2 = pd.merge(new_m1, nm2, on='Date')"
      ],
      "execution_count": null,
      "outputs": []
    },
    {
      "cell_type": "code",
      "metadata": {
        "colab_type": "code",
        "id": "LtSvecerLPz8",
        "colab": {}
      },
      "source": [
        "new_m3 = pd.merge(new_m2, nm3, on='Date')"
      ],
      "execution_count": null,
      "outputs": []
    },
    {
      "cell_type": "code",
      "metadata": {
        "colab_type": "code",
        "id": "khDGzDqjLPz_",
        "colab": {}
      },
      "source": [
        "new_m4 = pd.merge(new_m3, nm4, on='Date')\n",
        "new_m4"
      ],
      "execution_count": null,
      "outputs": []
    },
    {
      "cell_type": "markdown",
      "metadata": {
        "id": "VVv1YxIYN7xA",
        "colab_type": "text"
      },
      "source": [
        "# New Jersey"
      ]
    },
    {
      "cell_type": "code",
      "metadata": {
        "id": "W36dkrr1N-H6",
        "colab_type": "code",
        "colab": {}
      },
      "source": [
        ""
      ],
      "execution_count": null,
      "outputs": []
    },
    {
      "cell_type": "code",
      "metadata": {
        "colab_type": "code",
        "id": "HDjiLB6rN-uh",
        "colab": {}
      },
      "source": [
        "#All Employees, In Thousands; Total Government Providing -Rhode Island \n",
        "nj_gov = quandl.get(\"BLSE/SMU34000009000000001\", start_date=\"2000-01-01\", end_date=\"2020-08-01\")\n",
        "nj_gov.columns= ['Total Government Value']"
      ],
      "execution_count": null,
      "outputs": []
    },
    {
      "cell_type": "code",
      "metadata": {
        "colab_type": "code",
        "id": "BMjkV8PZN-un",
        "colab": {}
      },
      "source": [
        "#All Employees, In Thousands; Total Nonfarm Providing -Rhode Island\n",
        "nj_nonfarm = quandl.get(\"BLSE/SMU34000000000000001\", start_date=\"2000-01-01\", end_date=\"2020-08-01\")\n",
        "nj_nonfarm.columns= ['Total Nonfarm Provided Value']"
      ],
      "execution_count": null,
      "outputs": []
    },
    {
      "cell_type": "code",
      "metadata": {
        "colab_type": "code",
        "id": "rWqT6xSJN-us",
        "colab": {}
      },
      "source": [
        "#All Employees, In Thousands; Total Private Providing -South Carolina\n",
        "nj_priv = quandl.get(\"BLSE/SMU34000000500000001\", start_date=\"2000-01-01\", end_date=\"2020-08-01\")\n",
        "nj_priv.columns= ['Total Private Industry Value']"
      ],
      "execution_count": null,
      "outputs": []
    },
    {
      "cell_type": "code",
      "metadata": {
        "colab_type": "code",
        "id": "Dv2kRU5xN-ux",
        "colab": {}
      },
      "source": [
        "#All Employees, In Thousands; Total Goods Producing Providing -South Carolina\n",
        "nj_goods = quandl.get(\"BLSE/SMU34000000600000001\", start_date=\"2000-01-01\", end_date=\"2020-08-01\")\n",
        "nj_goods.columns= ['Total Goods Produced Value']"
      ],
      "execution_count": null,
      "outputs": []
    },
    {
      "cell_type": "code",
      "metadata": {
        "colab_type": "code",
        "id": "Zo2Vu1AfN-u0",
        "colab": {}
      },
      "source": [
        "#All Employees, In Thousands; Total Service Providing -South Carolina\n",
        "nj_serv = quandl.get(\"BLSE/SMU34000000700000001\", start_date=\"2000-01-01\", end_date=\"2020-08-01\")\n",
        "nj_serv.columns= ['Total Service Provided Value']"
      ],
      "execution_count": null,
      "outputs": []
    },
    {
      "cell_type": "code",
      "metadata": {
        "colab_type": "code",
        "id": "RR1KkgjBN-u4",
        "colab": {}
      },
      "source": [
        "#All Employees, In Thousands; Total Mining & Logging Providing -South Carolina\n",
        "nj_mine = quandl.get(\"BLSE/SMU34000001000000001\", start_date=\"2000-01-01\", end_date=\"2020-08-01\")\n",
        "nj_mine.columns= ['Total Mining & Logging Value']"
      ],
      "execution_count": null,
      "outputs": []
    },
    {
      "cell_type": "code",
      "metadata": {
        "colab_type": "code",
        "id": "S3aBS7YjN-u7",
        "colab": {}
      },
      "source": [
        "#All Employees, In Thousands; Total Manufacture Providing -South Carolina\n",
        "nj_manu = quandl.get(\"BLSE/SMU34000003000000001\", start_date=\"2000-01-01\", end_date=\"2020-08-01\")\n",
        "nj_manu.columns= ['Total Manufacture Value']"
      ],
      "execution_count": null,
      "outputs": []
    },
    {
      "cell_type": "code",
      "metadata": {
        "colab_type": "code",
        "id": "ySX3BfmPN-u-",
        "colab": {}
      },
      "source": [
        "#All Employees, In Thousands; Total Durable Goods Providing -South Carolina\n",
        "nj_durable = quandl.get(\"BLSE/SMU34000003000000001\", start_date=\"2000-01-01\", end_date=\"2020-08-01\")\n",
        "nj_durable.columns= ['Total Durable Goods Value']"
      ],
      "execution_count": null,
      "outputs": []
    },
    {
      "cell_type": "code",
      "metadata": {
        "colab_type": "code",
        "id": "pRPKRyvlN-vF",
        "colab": {}
      },
      "source": [
        "#All Employees, In Thousands; Total Wholesale Trade Providing -South Carolina\n",
        "nj_wholesale = quandl.get(\"BLSE/SMU34000004100000001\", start_date=\"2000-01-01\", end_date=\"2020-08-01\")\n",
        "nj_wholesale.columns= ['Wholesale Trade Value']"
      ],
      "execution_count": null,
      "outputs": []
    },
    {
      "cell_type": "code",
      "metadata": {
        "colab_type": "code",
        "id": "irewpzYyN-vI",
        "colab": {}
      },
      "source": [
        "#All Employees, In Thousands; Total Transportation & Utilities Providing -South Carolina\n",
        "nj_transutil = quandl.get(\"BLSE/SMU34000004300000001\", start_date=\"2000-01-01\", end_date=\"2020-08-01\")\n",
        "nj_transutil.columns= ['Total Transportation & Utilities Value']"
      ],
      "execution_count": null,
      "outputs": []
    },
    {
      "cell_type": "code",
      "metadata": {
        "colab_type": "code",
        "id": "9ro5ZoZsN-vO",
        "colab": {}
      },
      "source": [
        "#All Employees, In Thousands; Total Truck Transportation Providing -South Carolina\n",
        "nj_truck = quandl.get(\"BLSE/SMU34000004348400001\", start_date=\"2000-01-01\", end_date=\"2020-08-01\")\n",
        "nj_truck.columns= ['Total Truck Transportation Provided Value']"
      ],
      "execution_count": null,
      "outputs": []
    },
    {
      "cell_type": "code",
      "metadata": {
        "colab_type": "code",
        "id": "9Yw-ohDDN-vQ",
        "colab": {}
      },
      "source": [
        "#All Employees, In Thousands; Total Telecommunications Transportation Providing -South Carolina\n",
        "nj_telecom = quandl.get(\"BLSE/SMU34000005051700001\", start_date=\"2000-01-01\", end_date=\"2020-08-01\")\n",
        "nj_telecom.columns= ['Total Telecommunication Value']"
      ],
      "execution_count": null,
      "outputs": []
    },
    {
      "cell_type": "code",
      "metadata": {
        "colab_type": "code",
        "id": "-xBMj1BcN-vT",
        "colab": {}
      },
      "source": [
        "#All Employees, In Thousands; Total Air Transportation Providing -South Carolina\n",
        "nj_air = quandl.get(\"BLSE/SMU34000004348100001\", start_date=\"2000-01-01\", end_date=\"2020-08-01\")\n",
        "nj_air.columns= ['Total Air Value']"
      ],
      "execution_count": null,
      "outputs": []
    },
    {
      "cell_type": "code",
      "metadata": {
        "colab_type": "code",
        "id": "bHs_9uBbN-vV",
        "colab": {}
      },
      "source": [
        "#All Employees, In Thousands; Total Real Estate Providing -South Carolina\n",
        "nj_estate = quandl.get(\"BLSE/SMU34000005553100001\", start_date=\"2000-01-01\", end_date=\"2020-08-01\")\n",
        "nj_estate.columns= ['Total Real Estate Value']"
      ],
      "execution_count": null,
      "outputs": []
    },
    {
      "cell_type": "code",
      "metadata": {
        "colab_type": "code",
        "id": "TwDI33hYN-va",
        "colab": {}
      },
      "source": [
        "nj6 = pd.merge(nj_air, nj_estate, on='Date')"
      ],
      "execution_count": null,
      "outputs": []
    },
    {
      "cell_type": "code",
      "metadata": {
        "colab_type": "code",
        "id": "C5kL218JN-vd",
        "colab": {}
      },
      "source": [
        "nj5 = pd.merge(nj_truck, nj_telecom, on='Date')"
      ],
      "execution_count": null,
      "outputs": []
    },
    {
      "cell_type": "code",
      "metadata": {
        "colab_type": "code",
        "id": "78tHONfXN-vi",
        "colab": {}
      },
      "source": [
        "nj4 = pd.merge(nj_wholesale, nj_transutil, on='Date')"
      ],
      "execution_count": null,
      "outputs": []
    },
    {
      "cell_type": "code",
      "metadata": {
        "colab_type": "code",
        "id": "Xkn_Eay5N-vk",
        "colab": {}
      },
      "source": [
        "nj3 = pd.merge(nj_manu, nj_durable, on='Date')"
      ],
      "execution_count": null,
      "outputs": []
    },
    {
      "cell_type": "code",
      "metadata": {
        "colab_type": "code",
        "id": "6gGtuf8TN-vm",
        "colab": {}
      },
      "source": [
        "nj2 = pd.merge(nj_serv, nj_mine, on='Date')"
      ],
      "execution_count": null,
      "outputs": []
    },
    {
      "cell_type": "code",
      "metadata": {
        "colab_type": "code",
        "id": "nclmTHhbN-vp",
        "colab": {}
      },
      "source": [
        "nj1 = pd.merge(nj_priv, nj_goods, on='Date')"
      ],
      "execution_count": null,
      "outputs": []
    },
    {
      "cell_type": "code",
      "metadata": {
        "colab_type": "code",
        "id": "3DbBeHZwN-vr",
        "colab": {}
      },
      "source": [
        "new_j = pd.merge(nj_gov, nj_nonfarm, on='Date')"
      ],
      "execution_count": null,
      "outputs": []
    },
    {
      "cell_type": "code",
      "metadata": {
        "colab_type": "code",
        "id": "tX0pld04N-vu",
        "colab": {}
      },
      "source": [
        "new_j1 = pd.merge(new_j, nj1, on='Date')"
      ],
      "execution_count": null,
      "outputs": []
    },
    {
      "cell_type": "code",
      "metadata": {
        "colab_type": "code",
        "id": "ZyR_DOy8N-vz",
        "colab": {}
      },
      "source": [
        "new_j2 = pd.merge(new_j1, nj2, on='Date')"
      ],
      "execution_count": null,
      "outputs": []
    },
    {
      "cell_type": "code",
      "metadata": {
        "colab_type": "code",
        "id": "wEMkHHJhN-v3",
        "colab": {}
      },
      "source": [
        "new_j3 = pd.merge(new_j2, nj3, on='Date')"
      ],
      "execution_count": null,
      "outputs": []
    },
    {
      "cell_type": "code",
      "metadata": {
        "colab_type": "code",
        "id": "0Y03pFiIN-v5",
        "colab": {}
      },
      "source": [
        "new_j4 = pd.merge(new_j3, nj4, on='Date')"
      ],
      "execution_count": null,
      "outputs": []
    },
    {
      "cell_type": "code",
      "metadata": {
        "colab_type": "code",
        "id": "LHdddQyeN-v6",
        "colab": {}
      },
      "source": [
        "new_j5 = pd.merge(new_j4, nj5, on='Date')"
      ],
      "execution_count": null,
      "outputs": []
    },
    {
      "cell_type": "code",
      "metadata": {
        "colab_type": "code",
        "id": "e8zCOHJIN-v9",
        "colab": {}
      },
      "source": [
        "new_j6 = pd.merge(new_j5, nj6, on='Date')\n",
        "new_j6"
      ],
      "execution_count": null,
      "outputs": []
    },
    {
      "cell_type": "markdown",
      "metadata": {
        "id": "2RuJ4drdPhFd",
        "colab_type": "text"
      },
      "source": [
        "# New Hampshire"
      ]
    },
    {
      "cell_type": "code",
      "metadata": {
        "id": "Ck0UwlVLPnd2",
        "colab_type": "code",
        "colab": {}
      },
      "source": [
        ""
      ],
      "execution_count": null,
      "outputs": []
    },
    {
      "cell_type": "code",
      "metadata": {
        "colab_type": "code",
        "id": "z7yOSJ_tPoZZ",
        "colab": {}
      },
      "source": [
        "#All Employees, In Thousands; Total Government Providing -Rhode Island \n",
        "nh_gov = quandl.get(\"BLSE/SMU33000009000000001\", start_date=\"2000-01-01\", end_date=\"2020-08-01\")\n",
        "nh_gov.columns= ['Total Government Value']"
      ],
      "execution_count": null,
      "outputs": []
    },
    {
      "cell_type": "code",
      "metadata": {
        "colab_type": "code",
        "id": "2KWOpvPJPoZe",
        "colab": {}
      },
      "source": [
        "#All Employees, In Thousands; Total Nonfarm Providing -Rhode Island\n",
        "nh_nonfarm = quandl.get(\"BLSE/SMU33000000000000001\", start_date=\"2000-01-01\", end_date=\"2020-08-01\")\n",
        "nh_nonfarm.columns= ['Total Nonfarm Provided Value']"
      ],
      "execution_count": null,
      "outputs": []
    },
    {
      "cell_type": "code",
      "metadata": {
        "colab_type": "code",
        "id": "7LmH9h7aPoZf",
        "colab": {}
      },
      "source": [
        "#All Employees, In Thousands; Total Private Providing -South Carolina\n",
        "nh_priv = quandl.get(\"BLSE/SMU33000000500000001\", start_date=\"2000-01-01\", end_date=\"2020-08-01\")\n",
        "nh_priv.columns= ['Total Private Industry Value']"
      ],
      "execution_count": null,
      "outputs": []
    },
    {
      "cell_type": "code",
      "metadata": {
        "colab_type": "code",
        "id": "le_Q9rIxPoZh",
        "colab": {}
      },
      "source": [
        "#All Employees, In Thousands; Total Goods Producing Providing -South Carolina\n",
        "nh_goods = quandl.get(\"BLSE/SMU33000000600000001\", start_date=\"2000-01-01\", end_date=\"2020-08-01\")\n",
        "nh_goods.columns= ['Total Goods Produced Value']"
      ],
      "execution_count": null,
      "outputs": []
    },
    {
      "cell_type": "code",
      "metadata": {
        "colab_type": "code",
        "id": "QOR55bWXPoZj",
        "colab": {}
      },
      "source": [
        "#All Employees, In Thousands; Total Service Providing -South Carolina\n",
        "nh_serv = quandl.get(\"BLSE/SMU33000000700000001\", start_date=\"2000-01-01\", end_date=\"2020-08-01\")\n",
        "nh_serv.columns= ['Total Service Provided Value']"
      ],
      "execution_count": null,
      "outputs": []
    },
    {
      "cell_type": "code",
      "metadata": {
        "colab_type": "code",
        "id": "ZqL2LGZfPoZu",
        "colab": {}
      },
      "source": [
        "#All Employees, In Thousands; Total Mining & Logging Providing -South Carolina\n",
        "nh_mine = quandl.get(\"BLSE/SMU33000001000000001\", start_date=\"2000-01-01\", end_date=\"2020-08-01\")\n",
        "nh_mine.columns= ['Total Mining & Logging Value']"
      ],
      "execution_count": null,
      "outputs": []
    },
    {
      "cell_type": "code",
      "metadata": {
        "colab_type": "code",
        "id": "FCRo8ZBvPoZw",
        "colab": {}
      },
      "source": [
        "#All Employees, In Thousands; Total Manufacture Providing -South Carolina\n",
        "nh_manu = quandl.get(\"BLSE/SMU33000003000000001\", start_date=\"2000-01-01\", end_date=\"2020-08-01\")\n",
        "nh_manu.columns= ['Total Manufacture Value']"
      ],
      "execution_count": null,
      "outputs": []
    },
    {
      "cell_type": "code",
      "metadata": {
        "colab_type": "code",
        "id": "MyYsN05yPoZy",
        "colab": {}
      },
      "source": [
        "#All Employees, In Thousands; Total Durable Goods Providing -South Carolina\n",
        "nh_durable = quandl.get(\"BLSE/SMU33000003000000001\", start_date=\"2000-01-01\", end_date=\"2020-08-01\")\n",
        "nh_durable.columns= ['Total Durable Goods Value']"
      ],
      "execution_count": null,
      "outputs": []
    },
    {
      "cell_type": "code",
      "metadata": {
        "colab_type": "code",
        "id": "Dkhx9teTPoZ0",
        "colab": {}
      },
      "source": [
        "#All Employees, In Thousands; Total Wholesale Trade Providing -South Carolina\n",
        "nh_wholesale = quandl.get(\"BLSE/SMU33000004100000001\", start_date=\"2000-01-01\", end_date=\"2020-08-01\")\n",
        "nh_wholesale.columns= ['Wholesale Trade Value']"
      ],
      "execution_count": null,
      "outputs": []
    },
    {
      "cell_type": "code",
      "metadata": {
        "colab_type": "code",
        "id": "BFgsJU21PoZ2",
        "colab": {}
      },
      "source": [
        "#All Employees, In Thousands; Total Transportation & Utilities Providing -South Carolina\n",
        "nh_transutil = quandl.get(\"BLSE/SMU33000004300000001\", start_date=\"2000-01-01\", end_date=\"2020-08-01\")\n",
        "nh_transutil.columns= ['Total Transportation & Utilities Value']"
      ],
      "execution_count": null,
      "outputs": []
    },
    {
      "cell_type": "code",
      "metadata": {
        "colab_type": "code",
        "id": "9eVzVV31PoaL",
        "colab": {}
      },
      "source": [
        "nh4 = pd.merge(nh_wholesale, nh_transutil, on='Date')"
      ],
      "execution_count": null,
      "outputs": []
    },
    {
      "cell_type": "code",
      "metadata": {
        "colab_type": "code",
        "id": "YaJJ_tbmPoaO",
        "colab": {}
      },
      "source": [
        "nh3 = pd.merge(nh_manu, nh_durable, on='Date')"
      ],
      "execution_count": null,
      "outputs": []
    },
    {
      "cell_type": "code",
      "metadata": {
        "colab_type": "code",
        "id": "w4bwfsecPoaP",
        "colab": {}
      },
      "source": [
        "nh2 = pd.merge(nh_serv, nh_mine, on='Date')"
      ],
      "execution_count": null,
      "outputs": []
    },
    {
      "cell_type": "code",
      "metadata": {
        "colab_type": "code",
        "id": "lh5T05AxPoaT",
        "colab": {}
      },
      "source": [
        "nh1 = pd.merge(nh_priv, nh_goods, on='Date')"
      ],
      "execution_count": null,
      "outputs": []
    },
    {
      "cell_type": "code",
      "metadata": {
        "colab_type": "code",
        "id": "NaZF_d19PoaW",
        "colab": {}
      },
      "source": [
        "new_h = pd.merge(nh_gov, nh_nonfarm, on='Date')"
      ],
      "execution_count": null,
      "outputs": []
    },
    {
      "cell_type": "code",
      "metadata": {
        "colab_type": "code",
        "id": "efATVbKVPoaa",
        "colab": {}
      },
      "source": [
        "new_h1 = pd.merge(new_h, nh1, on='Date')"
      ],
      "execution_count": null,
      "outputs": []
    },
    {
      "cell_type": "code",
      "metadata": {
        "colab_type": "code",
        "id": "xNnRKoKfPoac",
        "colab": {}
      },
      "source": [
        "new_h2 = pd.merge(new_h1, nh2, on='Date')"
      ],
      "execution_count": null,
      "outputs": []
    },
    {
      "cell_type": "code",
      "metadata": {
        "colab_type": "code",
        "id": "veCRCXLZPoae",
        "colab": {}
      },
      "source": [
        "new_h3 = pd.merge(new_h2, nh3, on='Date')"
      ],
      "execution_count": null,
      "outputs": []
    },
    {
      "cell_type": "code",
      "metadata": {
        "colab_type": "code",
        "id": "VqefGU3uPoag",
        "colab": {}
      },
      "source": [
        "new_h4 = pd.merge(new_h3, ny4, on='Date')\n",
        "new_h4"
      ],
      "execution_count": null,
      "outputs": []
    },
    {
      "cell_type": "markdown",
      "metadata": {
        "id": "fmGntjzYQ59f",
        "colab_type": "text"
      },
      "source": [
        "# Nevada"
      ]
    },
    {
      "cell_type": "code",
      "metadata": {
        "id": "uVsIu6VqQ74t",
        "colab_type": "code",
        "colab": {}
      },
      "source": [
        ""
      ],
      "execution_count": null,
      "outputs": []
    },
    {
      "cell_type": "code",
      "metadata": {
        "colab_type": "code",
        "id": "InF7n3TSRXrR",
        "colab": {}
      },
      "source": [
        "#All Employees, In Thousands; Total Government Providing -Rhode Island \n",
        "nv_gov = quandl.get(\"BLSE/SMU32000009000000001\", start_date=\"2000-01-01\", end_date=\"2020-08-01\")\n",
        "nv_gov.columns= ['Total Government Value']"
      ],
      "execution_count": null,
      "outputs": []
    },
    {
      "cell_type": "code",
      "metadata": {
        "colab_type": "code",
        "id": "_mRXiPxxRXrT",
        "colab": {}
      },
      "source": [
        "#All Employees, In Thousands; Total Nonfarm Providing -Rhode Island\n",
        "nv_nonfarm = quandl.get(\"BLSE/SMU32000000000000001\", start_date=\"2000-01-01\", end_date=\"2020-08-01\")\n",
        "nv_nonfarm.columns= ['Total Nonfarm Provided Value']"
      ],
      "execution_count": null,
      "outputs": []
    },
    {
      "cell_type": "code",
      "metadata": {
        "colab_type": "code",
        "id": "pLa-xATDRXrU",
        "colab": {}
      },
      "source": [
        "#All Employees, In Thousands; Total Private Providing -South Carolina\n",
        "nv_priv = quandl.get(\"BLSE/SMU32000000500000001\", start_date=\"2000-01-01\", end_date=\"2020-08-01\")\n",
        "nv_priv.columns= ['Total Private Industry Value']"
      ],
      "execution_count": null,
      "outputs": []
    },
    {
      "cell_type": "code",
      "metadata": {
        "colab_type": "code",
        "id": "p_IduLCdRXrV",
        "colab": {}
      },
      "source": [
        "#All Employees, In Thousands; Total Goods Producing Providing -South Carolina\n",
        "nv_goods = quandl.get(\"BLSE/SMU32000000600000001\", start_date=\"2000-01-01\", end_date=\"2020-08-01\")\n",
        "nv_goods.columns= ['Total Goods Produced Value']"
      ],
      "execution_count": null,
      "outputs": []
    },
    {
      "cell_type": "code",
      "metadata": {
        "colab_type": "code",
        "id": "qT5QxhqURXrX",
        "colab": {}
      },
      "source": [
        "#All Employees, In Thousands; Total Service Providing -South Carolina\n",
        "nv_serv = quandl.get(\"BLSE/SMU32000000700000001\", start_date=\"2000-01-01\", end_date=\"2020-08-01\")\n",
        "nv_serv.columns= ['Total Service Provided Value']"
      ],
      "execution_count": null,
      "outputs": []
    },
    {
      "cell_type": "code",
      "metadata": {
        "colab_type": "code",
        "id": "xBZfHkC5RXrb",
        "colab": {}
      },
      "source": [
        "#All Employees, In Thousands; Total Mining & Logging Providing -South Carolina\n",
        "nv_mine = quandl.get(\"BLSE/SMU32000001000000001\", start_date=\"2000-01-01\", end_date=\"2020-08-01\")\n",
        "nv_mine.columns= ['Total Mining & Logging Value']"
      ],
      "execution_count": null,
      "outputs": []
    },
    {
      "cell_type": "code",
      "metadata": {
        "colab_type": "code",
        "id": "7sBChBcQRXrd",
        "colab": {}
      },
      "source": [
        "#All Employees, In Thousands; Total Manufacture Providing -South Carolina\n",
        "nv_manu = quandl.get(\"BLSE/SMU32000003000000001\", start_date=\"2000-01-01\", end_date=\"2020-08-01\")\n",
        "nv_manu.columns= ['Total Manufacture Value']"
      ],
      "execution_count": null,
      "outputs": []
    },
    {
      "cell_type": "code",
      "metadata": {
        "colab_type": "code",
        "id": "sK4NZZC5RXre",
        "colab": {}
      },
      "source": [
        "#All Employees, In Thousands; Total Durable Goods Providing -South Carolina\n",
        "nv_durable = quandl.get(\"BLSE/SMU32000003000000001\", start_date=\"2000-01-01\", end_date=\"2020-08-01\")\n",
        "nv_durable.columns= ['Total Durable Goods Value']"
      ],
      "execution_count": null,
      "outputs": []
    },
    {
      "cell_type": "code",
      "metadata": {
        "colab_type": "code",
        "id": "eOKs85CRRXrf",
        "colab": {}
      },
      "source": [
        "#All Employees, In Thousands; Total Wholesale Trade Providing -South Carolina\n",
        "nv_wholesale = quandl.get(\"BLSE/SMU32000004100000001\", start_date=\"2000-01-01\", end_date=\"2020-08-01\")\n",
        "nv_wholesale.columns= ['Wholesale Trade Value']"
      ],
      "execution_count": null,
      "outputs": []
    },
    {
      "cell_type": "code",
      "metadata": {
        "colab_type": "code",
        "id": "6gn3Q2mQRXrh",
        "colab": {}
      },
      "source": [
        "#All Employees, In Thousands; Total Transportation & Utilities Providing -South Carolina\n",
        "nv_transutil = quandl.get(\"BLSE/SMU32000004300000001\", start_date=\"2000-01-01\", end_date=\"2020-08-01\")\n",
        "nv_transutil.columns= ['Total Transportation & Utilities Value']"
      ],
      "execution_count": null,
      "outputs": []
    },
    {
      "cell_type": "code",
      "metadata": {
        "colab_type": "code",
        "id": "meeB7P8IRXrk",
        "colab": {}
      },
      "source": [
        "#All Employees, In Thousands; Total Telecommunications Transportation Providing -South Carolina\n",
        "nv_telecom = quandl.get(\"BLSE/SMU32000005051700001\", start_date=\"2000-01-01\", end_date=\"2020-08-01\")\n",
        "nv_telecom.columns= ['Total Telecommunication Value']"
      ],
      "execution_count": null,
      "outputs": []
    },
    {
      "cell_type": "code",
      "metadata": {
        "colab_type": "code",
        "id": "l09t7AP2RXrl",
        "colab": {}
      },
      "source": [
        "#All Employees, In Thousands; Total Air Transportation Providing -South Carolina\n",
        "nv_air = quandl.get(\"BLSE/SMU32000004348100001\", start_date=\"2000-01-01\", end_date=\"2020-08-01\")\n",
        "nv_air.columns= ['Total Air Value']"
      ],
      "execution_count": null,
      "outputs": []
    },
    {
      "cell_type": "code",
      "metadata": {
        "colab_type": "code",
        "id": "P8K0tPiwRXru",
        "colab": {}
      },
      "source": [
        "nv5 = pd.merge(nv_air, nv_telecom, on='Date')"
      ],
      "execution_count": null,
      "outputs": []
    },
    {
      "cell_type": "code",
      "metadata": {
        "colab_type": "code",
        "id": "cW6MPoWpRXrw",
        "colab": {}
      },
      "source": [
        "nv4 = pd.merge(nv_wholesale, nv_transutil, on='Date')"
      ],
      "execution_count": null,
      "outputs": []
    },
    {
      "cell_type": "code",
      "metadata": {
        "colab_type": "code",
        "id": "8my2jW8yRXrx",
        "colab": {}
      },
      "source": [
        "nv3 = pd.merge(nv_manu, nv_durable, on='Date')"
      ],
      "execution_count": null,
      "outputs": []
    },
    {
      "cell_type": "code",
      "metadata": {
        "colab_type": "code",
        "id": "9cAVOK18RXrz",
        "colab": {}
      },
      "source": [
        "nv2 = pd.merge(nv_serv, nv_mine, on='Date')"
      ],
      "execution_count": null,
      "outputs": []
    },
    {
      "cell_type": "code",
      "metadata": {
        "colab_type": "code",
        "id": "2ObetFyaRXr0",
        "colab": {}
      },
      "source": [
        "nv1 = pd.merge(nv_priv, nv_goods, on='Date')"
      ],
      "execution_count": null,
      "outputs": []
    },
    {
      "cell_type": "code",
      "metadata": {
        "colab_type": "code",
        "id": "APj0GjkJRXr3",
        "colab": {}
      },
      "source": [
        "nv = pd.merge(nv_gov, nv_nonfarm, on='Date')"
      ],
      "execution_count": null,
      "outputs": []
    },
    {
      "cell_type": "code",
      "metadata": {
        "colab_type": "code",
        "id": "q1PZU15PRXr6",
        "colab": {}
      },
      "source": [
        "nev = pd.merge(nv, nv1, on='Date')"
      ],
      "execution_count": null,
      "outputs": []
    },
    {
      "cell_type": "code",
      "metadata": {
        "colab_type": "code",
        "id": "r1ao6WxVRXr-",
        "colab": {}
      },
      "source": [
        "nev1 = pd.merge(nev, nv2, on='Date')"
      ],
      "execution_count": null,
      "outputs": []
    },
    {
      "cell_type": "code",
      "metadata": {
        "colab_type": "code",
        "id": "8lVlyT5-RXsB",
        "colab": {}
      },
      "source": [
        "nev2 = pd.merge(nev1, nv3, on='Date')"
      ],
      "execution_count": null,
      "outputs": []
    },
    {
      "cell_type": "code",
      "metadata": {
        "colab_type": "code",
        "id": "WLhpJPAiRXsD",
        "colab": {}
      },
      "source": [
        "nev3 = pd.merge(nev2, nv4, on='Date')"
      ],
      "execution_count": null,
      "outputs": []
    },
    {
      "cell_type": "code",
      "metadata": {
        "colab_type": "code",
        "id": "W-6UfnzHRXsF",
        "colab": {}
      },
      "source": [
        "nev4 = pd.merge(nev3, nv5, on='Date')\n",
        "nev4"
      ],
      "execution_count": null,
      "outputs": []
    },
    {
      "cell_type": "markdown",
      "metadata": {
        "id": "dE2brmoOVDEw",
        "colab_type": "text"
      },
      "source": [
        "# Nebraska"
      ]
    },
    {
      "cell_type": "code",
      "metadata": {
        "colab_type": "code",
        "id": "A3G6a-hOQ8Wu",
        "colab": {}
      },
      "source": [
        "#All Employees, In Thousands; Total Government Providing -Rhode Island \n",
        "nb_gov = quandl.get(\"BLSE/SMU31000009000000001\", start_date=\"2000-01-01\", end_date=\"2020-08-01\")\n",
        "nb_gov.columns= ['Total Government Value']"
      ],
      "execution_count": null,
      "outputs": []
    },
    {
      "cell_type": "code",
      "metadata": {
        "colab_type": "code",
        "id": "wOjBqCZCQ8W5",
        "colab": {}
      },
      "source": [
        "#All Employees, In Thousands; Total Nonfarm Providing -Rhode Island\n",
        "nb_nonfarm = quandl.get(\"BLSE/SMU31000000000000001\", start_date=\"2000-01-01\", end_date=\"2020-08-01\")\n",
        "nb_nonfarm.columns= ['Total Nonfarm Provided Value']"
      ],
      "execution_count": null,
      "outputs": []
    },
    {
      "cell_type": "code",
      "metadata": {
        "colab_type": "code",
        "id": "ymfvD0k9Q8XH",
        "colab": {}
      },
      "source": [
        "#All Employees, In Thousands; Total Private Providing -South Carolina\n",
        "nb_priv = quandl.get(\"BLSE/SMU31000000500000001\", start_date=\"2000-01-01\", end_date=\"2020-08-01\")\n",
        "nb_priv.columns= ['Total Private Industry Value']"
      ],
      "execution_count": null,
      "outputs": []
    },
    {
      "cell_type": "code",
      "metadata": {
        "colab_type": "code",
        "id": "wa4dVYXlQ8XZ",
        "colab": {}
      },
      "source": [
        "#All Employees, In Thousands; Total Goods Producing Providing -South Carolina\n",
        "nb_goods = quandl.get(\"BLSE/SMU31000000600000001\", start_date=\"2000-01-01\", end_date=\"2020-08-01\")\n",
        "nb_goods.columns= ['Total Goods Produced Value']"
      ],
      "execution_count": null,
      "outputs": []
    },
    {
      "cell_type": "code",
      "metadata": {
        "colab_type": "code",
        "id": "Tx-op_IHQ8Xj",
        "colab": {}
      },
      "source": [
        "#All Employees, In Thousands; Total Service Providing -South Carolina\n",
        "nb_serv = quandl.get(\"BLSE/SMU31000000700000001\", start_date=\"2000-01-01\", end_date=\"2020-08-01\")\n",
        "nb_serv.columns= ['Total Service Provided Value']"
      ],
      "execution_count": null,
      "outputs": []
    },
    {
      "cell_type": "code",
      "metadata": {
        "colab_type": "code",
        "id": "k-ueh27JQ8X2",
        "colab": {}
      },
      "source": [
        "#All Employees, In Thousands; Total Manufacture Providing -South Carolina\n",
        "nb_manu = quandl.get(\"BLSE/SMU31000003000000001\", start_date=\"2000-01-01\", end_date=\"2020-08-01\")\n",
        "nb_manu.columns= ['Total Manufacture Value']"
      ],
      "execution_count": null,
      "outputs": []
    },
    {
      "cell_type": "code",
      "metadata": {
        "colab_type": "code",
        "id": "1T3FD4E9Q8X_",
        "colab": {}
      },
      "source": [
        "#All Employees, In Thousands; Total Durable Goods Providing -South Carolina\n",
        "nb_durable = quandl.get(\"BLSE/SMU31000003000000001\", start_date=\"2000-01-01\", end_date=\"2020-08-01\")\n",
        "nb_durable.columns= ['Total Durable Goods Value']"
      ],
      "execution_count": null,
      "outputs": []
    },
    {
      "cell_type": "code",
      "metadata": {
        "colab_type": "code",
        "id": "1OaoxOrxQ8YR",
        "colab": {}
      },
      "source": [
        "#All Employees, In Thousands; Total Wholesale Trade Providing -South Carolina\n",
        "nb_wholesale = quandl.get(\"BLSE/SMU31000004100000001\", start_date=\"2000-01-01\", end_date=\"2020-08-01\")\n",
        "nb_wholesale.columns= ['Wholesale Trade Value']"
      ],
      "execution_count": null,
      "outputs": []
    },
    {
      "cell_type": "code",
      "metadata": {
        "colab_type": "code",
        "id": "LN9AGYloQ8Ye",
        "colab": {}
      },
      "source": [
        "#All Employees, In Thousands; Total Transportation & Utilities Providing -South Carolina\n",
        "nb_transutil = quandl.get(\"BLSE/SMU31000004300000001\", start_date=\"2000-01-01\", end_date=\"2020-08-01\")\n",
        "nb_transutil.columns= ['Total Transportation & Utilities Value']"
      ],
      "execution_count": null,
      "outputs": []
    },
    {
      "cell_type": "code",
      "metadata": {
        "colab_type": "code",
        "id": "yF10ayr-Q8Ym",
        "colab": {}
      },
      "source": [
        "#All Employees, In Thousands; Total Truck Transportation Providing -South Carolina\n",
        "nb_truck = quandl.get(\"BLSE/SMU31000004348400001\", start_date=\"2000-01-01\", end_date=\"2020-08-01\")\n",
        "nb_truck.columns= ['Total Truck Transportation Provided Value']"
      ],
      "execution_count": null,
      "outputs": []
    },
    {
      "cell_type": "code",
      "metadata": {
        "colab_type": "code",
        "id": "li1Bd4t0Q8Yx",
        "colab": {}
      },
      "source": [
        "#All Employees, In Thousands; Total Rail Transportation Providing -South Carolina\n",
        "nb_rail = quandl.get(\"BLSE/SMU31000004348200001\", start_date=\"2000-01-01\", end_date=\"2020-08-01\")\n",
        "nb_rail.columns= ['Total Rail Transportation Value']"
      ],
      "execution_count": null,
      "outputs": []
    },
    {
      "cell_type": "code",
      "metadata": {
        "colab_type": "code",
        "id": "VzVoTJslQ8aS",
        "colab": {}
      },
      "source": [
        "# nb5 = pd.merge(nb_truck, nb_rail, on='Date')"
      ],
      "execution_count": null,
      "outputs": []
    },
    {
      "cell_type": "code",
      "metadata": {
        "colab_type": "code",
        "id": "2ftU9WHmQ8aU",
        "colab": {}
      },
      "source": [
        "nb4 = pd.merge(nb_wholesale, nb_transutil, on='Date')"
      ],
      "execution_count": null,
      "outputs": []
    },
    {
      "cell_type": "code",
      "metadata": {
        "colab_type": "code",
        "id": "hboPhpM1Q8aW",
        "colab": {}
      },
      "source": [
        "nb3 = pd.merge(nb_manu, nb_durable, on='Date')"
      ],
      "execution_count": null,
      "outputs": []
    },
    {
      "cell_type": "code",
      "metadata": {
        "colab_type": "code",
        "id": "-NZpEVpvQ8ab",
        "colab": {}
      },
      "source": [
        "nb2 = pd.merge(nb_rail, nb_serv, on='Date')"
      ],
      "execution_count": null,
      "outputs": []
    },
    {
      "cell_type": "code",
      "metadata": {
        "colab_type": "code",
        "id": "xgUr4tCaQ8ad",
        "colab": {}
      },
      "source": [
        "nb1 = pd.merge(nb_priv, nb_goods, on='Date')"
      ],
      "execution_count": null,
      "outputs": []
    },
    {
      "cell_type": "code",
      "metadata": {
        "colab_type": "code",
        "id": "ovw5r6y_Q8ai",
        "colab": {}
      },
      "source": [
        "neb = pd.merge(nb_gov, nb_nonfarm, on='Date')"
      ],
      "execution_count": null,
      "outputs": []
    },
    {
      "cell_type": "code",
      "metadata": {
        "colab_type": "code",
        "id": "wTCtT71kQ8ak",
        "colab": {}
      },
      "source": [
        "neb1 = pd.merge(neb, nb1, on='Date')"
      ],
      "execution_count": null,
      "outputs": []
    },
    {
      "cell_type": "code",
      "metadata": {
        "colab_type": "code",
        "id": "Z7JrLWo3Q8am",
        "colab": {}
      },
      "source": [
        "neb2 = pd.merge(neb1, nb2, on='Date')"
      ],
      "execution_count": null,
      "outputs": []
    },
    {
      "cell_type": "code",
      "metadata": {
        "colab_type": "code",
        "id": "GkGPWitIQ8ao",
        "colab": {}
      },
      "source": [
        "neb3 = pd.merge(neb2, nb3, on='Date')"
      ],
      "execution_count": null,
      "outputs": []
    },
    {
      "cell_type": "code",
      "metadata": {
        "colab_type": "code",
        "id": "zRwBdzmbQ8ar",
        "colab": {}
      },
      "source": [
        "neb4 = pd.merge(neb3, nb4, on='Date')"
      ],
      "execution_count": null,
      "outputs": []
    },
    {
      "cell_type": "code",
      "metadata": {
        "colab_type": "code",
        "id": "7uI6PWSNQ8ax",
        "colab": {}
      },
      "source": [
        "neb5 = pd.merge(neb4, nb_truck, on='Date')\n",
        "neb5"
      ],
      "execution_count": null,
      "outputs": []
    },
    {
      "cell_type": "markdown",
      "metadata": {
        "id": "8dAInld5Xts1",
        "colab_type": "text"
      },
      "source": [
        "# Montana"
      ]
    },
    {
      "cell_type": "code",
      "metadata": {
        "id": "fZMoyrzwX0K0",
        "colab_type": "code",
        "colab": {}
      },
      "source": [
        ""
      ],
      "execution_count": null,
      "outputs": []
    },
    {
      "cell_type": "code",
      "metadata": {
        "colab_type": "code",
        "id": "6cX6EdvwBDOI",
        "colab": {}
      },
      "source": [
        "#All Employees, In Thousands; Total Government Providing -Rhode Island \n",
        "mont_gov = quandl.get(\"BLSE/SMU30000009000000001\", start_date=\"2000-01-01\", end_date=\"2020-08-01\")\n",
        "mont_gov.columns= ['Total Government Value']"
      ],
      "execution_count": null,
      "outputs": []
    },
    {
      "cell_type": "code",
      "metadata": {
        "colab_type": "code",
        "id": "RI8drstvBDOa",
        "colab": {}
      },
      "source": [
        "#All Employees, In Thousands; Total Nonfarm Providing -Rhode Island\n",
        "mont_nonfarm = quandl.get(\"BLSE/SMU30000000000000001\", start_date=\"2000-01-01\", end_date=\"2020-08-01\")\n",
        "mont_nonfarm.columns= ['Total Nonfarm Provided Value']"
      ],
      "execution_count": null,
      "outputs": []
    },
    {
      "cell_type": "code",
      "metadata": {
        "colab_type": "code",
        "id": "yCHw4W3EBDOi",
        "colab": {}
      },
      "source": [
        "#All Employees, In Thousands; Total Private Providing -South Carolina\n",
        "mont_priv = quandl.get(\"BLSE/SMU30000000500000001\", start_date=\"2000-01-01\", end_date=\"2020-08-01\")\n",
        "mont_priv.columns= ['Total Private Industry Value']"
      ],
      "execution_count": null,
      "outputs": []
    },
    {
      "cell_type": "code",
      "metadata": {
        "colab_type": "code",
        "id": "fzEJ8p-WBDOn",
        "colab": {}
      },
      "source": [
        "#All Employees, In Thousands; Total Goods Producing Providing -South Carolina\n",
        "mont_goods = quandl.get(\"BLSE/SMU30000000600000001\", start_date=\"2000-01-01\", end_date=\"2020-08-01\")\n",
        "mont_goods.columns= ['Total Goods Produced Value']"
      ],
      "execution_count": null,
      "outputs": []
    },
    {
      "cell_type": "code",
      "metadata": {
        "colab_type": "code",
        "id": "l6-TkzS6BDOr",
        "colab": {}
      },
      "source": [
        "#All Employees, In Thousands; Total Service Providing -South Carolina\n",
        "mont_serv = quandl.get(\"BLSE/SMU30000000700000001\", start_date=\"2000-01-01\", end_date=\"2020-08-01\")\n",
        "mont_serv.columns= ['Total Service Provided Value']"
      ],
      "execution_count": null,
      "outputs": []
    },
    {
      "cell_type": "code",
      "metadata": {
        "colab_type": "code",
        "id": "Ug-WMQaMBDOv",
        "colab": {}
      },
      "source": [
        "#All Employees, In Thousands; Total Mining & Logging Providing -South Carolina\n",
        "mont_mine = quandl.get(\"BLSE/SMU30000001000000001\", start_date=\"2000-01-01\", end_date=\"2020-08-01\")\n",
        "mont_mine.columns= ['Total Mining & Logging Value']"
      ],
      "execution_count": null,
      "outputs": []
    },
    {
      "cell_type": "code",
      "metadata": {
        "colab_type": "code",
        "id": "hElSOeqABDOz",
        "colab": {}
      },
      "source": [
        "#All Employees, In Thousands; Total Manufacture Providing -South Carolina\n",
        "mont_manu = quandl.get(\"BLSE/SMU30000003000000001\", start_date=\"2000-01-01\", end_date=\"2020-08-01\")\n",
        "mont_manu.columns= ['Total Manufacture Value']"
      ],
      "execution_count": null,
      "outputs": []
    },
    {
      "cell_type": "code",
      "metadata": {
        "colab_type": "code",
        "id": "V0QsEhyqBDO5",
        "colab": {}
      },
      "source": [
        "#All Employees, In Thousands; Total Durable Goods Providing -South Carolina\n",
        "mont_durable = quandl.get(\"BLSE/SMU30000003000000001\", start_date=\"2000-01-01\", end_date=\"2020-08-01\")\n",
        "mont_durable.columns= ['Total Durable Goods Value']"
      ],
      "execution_count": null,
      "outputs": []
    },
    {
      "cell_type": "code",
      "metadata": {
        "colab_type": "code",
        "id": "4DbF4WjkBDO9",
        "colab": {}
      },
      "source": [
        "#All Employees, In Thousands; Total Wholesale Trade Providing -South Carolina\n",
        "mont_wholesale = quandl.get(\"BLSE/SMU30000004100000001\", start_date=\"2000-01-01\", end_date=\"2020-08-01\")\n",
        "mont_wholesale.columns= ['Wholesale Trade Value']"
      ],
      "execution_count": null,
      "outputs": []
    },
    {
      "cell_type": "code",
      "metadata": {
        "colab_type": "code",
        "id": "lIpflu_aBDPB",
        "colab": {}
      },
      "source": [
        "#All Employees, In Thousands; Total Transportation & Utilities Providing -South Carolina\n",
        "mont_transutil = quandl.get(\"BLSE/SMU30000004300000001\", start_date=\"2000-01-01\", end_date=\"2020-08-01\")\n",
        "mont_transutil.columns= ['Total Transportation & Utilities Value']"
      ],
      "execution_count": null,
      "outputs": []
    },
    {
      "cell_type": "code",
      "metadata": {
        "colab_type": "code",
        "id": "0LPIHte_BDPE",
        "colab": {}
      },
      "source": [
        "#All Employees, In Thousands; Total Truck Transportation Providing -South Carolina\n",
        "mont_truck = quandl.get(\"BLSE/SMU30000004348400001\", start_date=\"2000-01-01\", end_date=\"2020-08-01\")\n",
        "mont_truck.columns= ['Total Truck Transportation Provided Value']"
      ],
      "execution_count": null,
      "outputs": []
    },
    {
      "cell_type": "code",
      "metadata": {
        "colab_type": "code",
        "id": "LkRQsNQzBDPd",
        "colab": {}
      },
      "source": [
        "mont4 = pd.merge(mont_wholesale, mont_transutil, on='Date')"
      ],
      "execution_count": null,
      "outputs": []
    },
    {
      "cell_type": "code",
      "metadata": {
        "colab_type": "code",
        "id": "GqQ0gFxEBDPg",
        "colab": {}
      },
      "source": [
        "mont3 = pd.merge(mont_manu, mont_durable, on='Date')"
      ],
      "execution_count": null,
      "outputs": []
    },
    {
      "cell_type": "code",
      "metadata": {
        "colab_type": "code",
        "id": "azWiGeoDBDPk",
        "colab": {}
      },
      "source": [
        "mont2 = pd.merge(mont_serv, mont_mine, on='Date')"
      ],
      "execution_count": null,
      "outputs": []
    },
    {
      "cell_type": "code",
      "metadata": {
        "colab_type": "code",
        "id": "oyWnEHbRBDPo",
        "colab": {}
      },
      "source": [
        "mont1 = pd.merge(mont_priv, mont_goods, on='Date')"
      ],
      "execution_count": null,
      "outputs": []
    },
    {
      "cell_type": "code",
      "metadata": {
        "colab_type": "code",
        "id": "_-R81Oo5BDPr",
        "colab": {}
      },
      "source": [
        "montana = pd.merge(mont_gov, mont_nonfarm, on='Date')"
      ],
      "execution_count": null,
      "outputs": []
    },
    {
      "cell_type": "code",
      "metadata": {
        "colab_type": "code",
        "id": "HMMpBrLKBDPx",
        "colab": {}
      },
      "source": [
        "mont_1 = pd.merge(montana, mont1, on='Date')"
      ],
      "execution_count": null,
      "outputs": []
    },
    {
      "cell_type": "code",
      "metadata": {
        "colab_type": "code",
        "id": "F2sljfdnBDP0",
        "colab": {}
      },
      "source": [
        "mont_2 = pd.merge(mont_1, mont2, on='Date')"
      ],
      "execution_count": null,
      "outputs": []
    },
    {
      "cell_type": "code",
      "metadata": {
        "colab_type": "code",
        "id": "2PtM90mMBDP4",
        "colab": {}
      },
      "source": [
        "mont_3 = pd.merge(mont_2, mont3, on='Date')"
      ],
      "execution_count": null,
      "outputs": []
    },
    {
      "cell_type": "code",
      "metadata": {
        "colab_type": "code",
        "id": "cLP34Z2YBDP7",
        "colab": {}
      },
      "source": [
        "mont_4 = pd.merge(mont_3, mont4, on='Date')"
      ],
      "execution_count": null,
      "outputs": []
    },
    {
      "cell_type": "code",
      "metadata": {
        "colab_type": "code",
        "id": "Qw2kkOYPBDQA",
        "colab": {}
      },
      "source": [
        "mont_5 = pd.merge(mont_4, mont_truck, on='Date')\n",
        "mont_5"
      ],
      "execution_count": null,
      "outputs": []
    },
    {
      "cell_type": "code",
      "metadata": {
        "colab_type": "code",
        "id": "dRsQnqcaLP0B",
        "colab": {}
      },
      "source": [
        ""
      ],
      "execution_count": null,
      "outputs": []
    },
    {
      "cell_type": "markdown",
      "metadata": {
        "id": "6fiX6l3cDifX",
        "colab_type": "text"
      },
      "source": [
        "# Missouri"
      ]
    },
    {
      "cell_type": "code",
      "metadata": {
        "id": "2DV8tdJjDkpI",
        "colab_type": "code",
        "colab": {}
      },
      "source": [
        ""
      ],
      "execution_count": null,
      "outputs": []
    },
    {
      "cell_type": "code",
      "metadata": {
        "colab_type": "code",
        "id": "Wu6JAImiD3l8",
        "colab": {}
      },
      "source": [
        "#All Employees, In Thousands; Total Government Providing -Rhode Island \n",
        "mizzo_gov = quandl.get(\"BLSE/SMU29000009000000001\", start_date=\"2000-01-01\", end_date=\"2020-08-01\")\n",
        "mizzo_gov.columns= ['Total Government Value']"
      ],
      "execution_count": null,
      "outputs": []
    },
    {
      "cell_type": "code",
      "metadata": {
        "colab_type": "code",
        "id": "lCyZ-DM2D3mA",
        "colab": {}
      },
      "source": [
        "#All Employees, In Thousands; Total Nonfarm Providing -Rhode Island\n",
        "mizzo_nonfarm = quandl.get(\"BLSE/SMU29000000000000001\", start_date=\"2000-01-01\", end_date=\"2020-08-01\")\n",
        "mizzo_nonfarm.columns= ['Total Nonfarm Provided Value']"
      ],
      "execution_count": null,
      "outputs": []
    },
    {
      "cell_type": "code",
      "metadata": {
        "colab_type": "code",
        "id": "KGUqe3CuD3mD",
        "colab": {}
      },
      "source": [
        "#All Employees, In Thousands; Total Private Providing -South Carolina\n",
        "mizzo_priv = quandl.get(\"BLSE/SMU29000000500000001\", start_date=\"2000-01-01\", end_date=\"2020-08-01\")\n",
        "mizzo_priv.columns= ['Total Private Industry Value']"
      ],
      "execution_count": null,
      "outputs": []
    },
    {
      "cell_type": "code",
      "metadata": {
        "colab_type": "code",
        "id": "qMY8EOs4D3mG",
        "colab": {}
      },
      "source": [
        "#All Employees, In Thousands; Total Goods Producing Providing -South Carolina\n",
        "mizzo_goods = quandl.get(\"BLSE/SMU29000000600000001\", start_date=\"2000-01-01\", end_date=\"2020-08-01\")\n",
        "mizzo_goods.columns= ['Total Goods Produced Value']"
      ],
      "execution_count": null,
      "outputs": []
    },
    {
      "cell_type": "code",
      "metadata": {
        "colab_type": "code",
        "id": "2eWnn50gD3mJ",
        "colab": {}
      },
      "source": [
        "#All Employees, In Thousands; Total Service Providing -South Carolina\n",
        "mizzo_serv = quandl.get(\"BLSE/SMU29000000700000001\", start_date=\"2000-01-01\", end_date=\"2020-08-01\")\n",
        "mizzo_serv.columns= ['Total Service Provided Value']"
      ],
      "execution_count": null,
      "outputs": []
    },
    {
      "cell_type": "code",
      "metadata": {
        "colab_type": "code",
        "id": "wIELbcc4D3mM",
        "colab": {}
      },
      "source": [
        "#All Employees, In Thousands; Total Mining & Logging Providing -South Carolina\n",
        "mizzo_mine = quandl.get(\"BLSE/SMU29000001000000001\", start_date=\"2000-01-01\", end_date=\"2020-08-01\")\n",
        "mizzo_mine.columns= ['Total Mining & Logging Value']"
      ],
      "execution_count": null,
      "outputs": []
    },
    {
      "cell_type": "code",
      "metadata": {
        "colab_type": "code",
        "id": "SHLAdHwdD3mO",
        "colab": {}
      },
      "source": [
        "#All Employees, In Thousands; Total Manufacture Providing -South Carolina\n",
        "mizzo_manu = quandl.get(\"BLSE/SMU29000003000000001\", start_date=\"2000-01-01\", end_date=\"2020-08-01\")\n",
        "mizzo_manu.columns= ['Total Manufacture Value']"
      ],
      "execution_count": null,
      "outputs": []
    },
    {
      "cell_type": "code",
      "metadata": {
        "colab_type": "code",
        "id": "i6opD61WD3mQ",
        "colab": {}
      },
      "source": [
        "#All Employees, In Thousands; Total Durable Goods Providing -South Carolina\n",
        "mizzo_durable = quandl.get(\"BLSE/SMU29000003000000001\", start_date=\"2000-01-01\", end_date=\"2020-08-01\")\n",
        "mizzo_durable.columns= ['Total Durable Goods Value']"
      ],
      "execution_count": null,
      "outputs": []
    },
    {
      "cell_type": "code",
      "metadata": {
        "colab_type": "code",
        "id": "JeDb1Pd0D3mT",
        "colab": {}
      },
      "source": [
        "#All Employees, In Thousands; Total Wholesale Trade Providing -South Carolina\n",
        "mizzo_wholesale = quandl.get(\"BLSE/SMU29000004100000001\", start_date=\"2000-01-01\", end_date=\"2020-08-01\")\n",
        "mizzo_wholesale.columns= ['Wholesale Trade Value']"
      ],
      "execution_count": null,
      "outputs": []
    },
    {
      "cell_type": "code",
      "metadata": {
        "colab_type": "code",
        "id": "dLHBUd6hD3mW",
        "colab": {}
      },
      "source": [
        "#All Employees, In Thousands; Total Transportation & Utilities Providing -South Carolina\n",
        "mizzo_transutil = quandl.get(\"BLSE/SMU29000004300000001\", start_date=\"2000-01-01\", end_date=\"2020-08-01\")\n",
        "mizzo_transutil.columns= ['Total Transportation & Utilities Value']"
      ],
      "execution_count": null,
      "outputs": []
    },
    {
      "cell_type": "code",
      "metadata": {
        "colab_type": "code",
        "id": "_7mkpLNOD3ma",
        "colab": {}
      },
      "source": [
        "#All Employees, In Thousands; Total Truck Transportation Providing -South Carolina\n",
        "mizzo_truck = quandl.get(\"BLSE/SMU29000004348400001\", start_date=\"2000-01-01\", end_date=\"2020-08-01\")\n",
        "mizzo_truck.columns= ['Total Truck Transportation Provided Value']"
      ],
      "execution_count": null,
      "outputs": []
    },
    {
      "cell_type": "code",
      "metadata": {
        "colab_type": "code",
        "id": "AwKfao6YD3mc",
        "colab": {}
      },
      "source": [
        "#All Employees, In Thousands; Total Telecommunications Transportation Providing -South Carolina\n",
        "mizzo_telecom = quandl.get(\"BLSE/SMU29000005051700001\", start_date=\"2000-01-01\", end_date=\"2020-08-01\")\n",
        "mizzo_telecom.columns= ['Total Telecommunication Value']"
      ],
      "execution_count": null,
      "outputs": []
    },
    {
      "cell_type": "code",
      "metadata": {
        "colab_type": "code",
        "id": "tswbqvDuD3mk",
        "colab": {}
      },
      "source": [
        "mizzo5 = pd.merge(mizzo_truck, mizzo_telecom, on='Date')"
      ],
      "execution_count": null,
      "outputs": []
    },
    {
      "cell_type": "code",
      "metadata": {
        "colab_type": "code",
        "id": "PjksQZ1BD3mm",
        "colab": {}
      },
      "source": [
        "mizzo4 = pd.merge(mizzo_wholesale, mizzo_transutil, on='Date')"
      ],
      "execution_count": null,
      "outputs": []
    },
    {
      "cell_type": "code",
      "metadata": {
        "colab_type": "code",
        "id": "UjEzxtFvD3mp",
        "colab": {}
      },
      "source": [
        "mizzo3 = pd.merge(mizzo_manu, mizzo_durable, on='Date')"
      ],
      "execution_count": null,
      "outputs": []
    },
    {
      "cell_type": "code",
      "metadata": {
        "colab_type": "code",
        "id": "FZO6dnn3D3mr",
        "colab": {}
      },
      "source": [
        "mizzo2 = pd.merge(mizzo_serv, mizzo_mine, on='Date')"
      ],
      "execution_count": null,
      "outputs": []
    },
    {
      "cell_type": "code",
      "metadata": {
        "colab_type": "code",
        "id": "JzsQ7P23D3ms",
        "colab": {}
      },
      "source": [
        "mizzo1 = pd.merge(mizzo_priv, mizzo_goods, on='Date')"
      ],
      "execution_count": null,
      "outputs": []
    },
    {
      "cell_type": "code",
      "metadata": {
        "colab_type": "code",
        "id": "yvMfEigMD3mv",
        "colab": {}
      },
      "source": [
        "mizzo = pd.merge(mizzo_gov, mizzo_nonfarm, on='Date')"
      ],
      "execution_count": null,
      "outputs": []
    },
    {
      "cell_type": "code",
      "metadata": {
        "colab_type": "code",
        "id": "o9xoa3y0D3my",
        "colab": {}
      },
      "source": [
        "mizzo_j1 = pd.merge(mizzo, mizzo1, on='Date')"
      ],
      "execution_count": null,
      "outputs": []
    },
    {
      "cell_type": "code",
      "metadata": {
        "colab_type": "code",
        "id": "JQL7KLU9D3m0",
        "colab": {}
      },
      "source": [
        "mizzo_j2 = pd.merge(mizzo_j1, mizzo2, on='Date')"
      ],
      "execution_count": null,
      "outputs": []
    },
    {
      "cell_type": "code",
      "metadata": {
        "colab_type": "code",
        "id": "NBHNbgxXD3m1",
        "colab": {}
      },
      "source": [
        "mizzo_j3 = pd.merge(mizzo_j2, mizzo3, on='Date')"
      ],
      "execution_count": null,
      "outputs": []
    },
    {
      "cell_type": "code",
      "metadata": {
        "colab_type": "code",
        "id": "LNx60DjmD3m4",
        "colab": {}
      },
      "source": [
        "mizzo_j4 = pd.merge(mizzo_j3, mizzo4, on='Date')"
      ],
      "execution_count": null,
      "outputs": []
    },
    {
      "cell_type": "code",
      "metadata": {
        "colab_type": "code",
        "id": "rf1ejGDcD3m6",
        "colab": {}
      },
      "source": [
        "mizzo_j5 = pd.merge(mizzo_j4, mizzo5, on='Date')"
      ],
      "execution_count": null,
      "outputs": []
    },
    {
      "cell_type": "code",
      "metadata": {
        "colab_type": "code",
        "id": "5s3xd4VVD3m-",
        "colab": {}
      },
      "source": [
        "mizzo_j5"
      ],
      "execution_count": null,
      "outputs": []
    },
    {
      "cell_type": "markdown",
      "metadata": {
        "id": "2W2PCvC6GWYW",
        "colab_type": "text"
      },
      "source": [
        "# Mississippi"
      ]
    },
    {
      "cell_type": "code",
      "metadata": {
        "id": "kwyZFX5tHI94",
        "colab_type": "code",
        "colab": {}
      },
      "source": [
        ""
      ],
      "execution_count": null,
      "outputs": []
    },
    {
      "cell_type": "code",
      "metadata": {
        "colab_type": "code",
        "id": "aRqqNbjTHKBB",
        "colab": {}
      },
      "source": [
        ""
      ],
      "execution_count": null,
      "outputs": []
    },
    {
      "cell_type": "code",
      "metadata": {
        "colab_type": "code",
        "id": "UMUutDFlHKBE",
        "colab": {}
      },
      "source": [
        "#All Employees, In Thousands; Total Government Providing -Rhode Island \n",
        "missi_gov = quandl.get(\"BLSE/SMU28000009000000001\", start_date=\"2000-01-01\", end_date=\"2020-08-01\")\n",
        "missi_gov.columns= ['Total Government Value']"
      ],
      "execution_count": null,
      "outputs": []
    },
    {
      "cell_type": "code",
      "metadata": {
        "colab_type": "code",
        "id": "jnLboKpeHKBH",
        "colab": {}
      },
      "source": [
        "#All Employees, In Thousands; Total Nonfarm Providing -Rhode Island\n",
        "missi_nonfarm = quandl.get(\"BLSE/SMU28000000000000001\", start_date=\"2000-01-01\", end_date=\"2020-08-01\")\n",
        "missi_nonfarm.columns= ['Total Nonfarm Provided Value']"
      ],
      "execution_count": null,
      "outputs": []
    },
    {
      "cell_type": "code",
      "metadata": {
        "colab_type": "code",
        "id": "BZ7SSt10HKBK",
        "colab": {}
      },
      "source": [
        "#All Employees, In Thousands; Total Private Providing -South Carolina\n",
        "missi_priv = quandl.get(\"BLSE/SMU28000000500000001\", start_date=\"2000-01-01\", end_date=\"2020-08-01\")\n",
        "missi_priv.columns= ['Total Private Industry Value']"
      ],
      "execution_count": null,
      "outputs": []
    },
    {
      "cell_type": "code",
      "metadata": {
        "colab_type": "code",
        "id": "5NbZKD0XHKBN",
        "colab": {}
      },
      "source": [
        "#All Employees, In Thousands; Total Goods Producing Providing -South Carolina\n",
        "missi_goods = quandl.get(\"BLSE/SMU28000000600000001\", start_date=\"2000-01-01\", end_date=\"2020-08-01\")\n",
        "missi_goods.columns= ['Total Goods Produced Value']"
      ],
      "execution_count": null,
      "outputs": []
    },
    {
      "cell_type": "code",
      "metadata": {
        "colab_type": "code",
        "id": "-tfaAnXqHKBP",
        "colab": {}
      },
      "source": [
        "#All Employees, In Thousands; Total Service Providing -South Carolina\n",
        "missi_serv = quandl.get(\"BLSE/SMU28000000700000001\", start_date=\"2000-01-01\", end_date=\"2020-08-01\")\n",
        "missi_serv.columns= ['Total Service Provided Value']"
      ],
      "execution_count": null,
      "outputs": []
    },
    {
      "cell_type": "code",
      "metadata": {
        "colab_type": "code",
        "id": "avsU7Qk9HKBS",
        "colab": {}
      },
      "source": [
        "#All Employees, In Thousands; Total Mining & Logging Providing -South Carolina\n",
        "missi_mine = quandl.get(\"BLSE/SMU28000001000000001\", start_date=\"2000-01-01\", end_date=\"2020-08-01\")\n",
        "missi_mine.columns= ['Total Mining & Logging Value']"
      ],
      "execution_count": null,
      "outputs": []
    },
    {
      "cell_type": "code",
      "metadata": {
        "colab_type": "code",
        "id": "WHrBXzWSHKBU",
        "colab": {}
      },
      "source": [
        "#All Employees, In Thousands; Total Manufacture Providing -South Carolina\n",
        "missi_manu = quandl.get(\"BLSE/SMU28000003000000001\", start_date=\"2000-01-01\", end_date=\"2020-08-01\")\n",
        "missi_manu.columns= ['Total Manufacture Value']"
      ],
      "execution_count": null,
      "outputs": []
    },
    {
      "cell_type": "code",
      "metadata": {
        "colab_type": "code",
        "id": "0K5dlr9nHKBX",
        "colab": {}
      },
      "source": [
        "#All Employees, In Thousands; Total Durable Goods Providing -South Carolina\n",
        "missi_durable = quandl.get(\"BLSE/SMU28000003000000001\", start_date=\"2000-01-01\", end_date=\"2020-08-01\")\n",
        "missi_durable.columns= ['Total Durable Goods Value']"
      ],
      "execution_count": null,
      "outputs": []
    },
    {
      "cell_type": "code",
      "metadata": {
        "colab_type": "code",
        "id": "6JWeIbVnHKBb",
        "colab": {}
      },
      "source": [
        "#All Employees, In Thousands; Total Wholesale Trade Providing -South Carolina\n",
        "missi_wholesale = quandl.get(\"BLSE/SMU28000004100000001\", start_date=\"2000-01-01\", end_date=\"2020-08-01\")\n",
        "missi_wholesale.columns= ['Wholesale Trade Value']"
      ],
      "execution_count": null,
      "outputs": []
    },
    {
      "cell_type": "code",
      "metadata": {
        "colab_type": "code",
        "id": "tHf1zCk-HKBd",
        "colab": {}
      },
      "source": [
        "#All Employees, In Thousands; Total Transportation & Utilities Providing -South Carolina\n",
        "missi_transutil = quandl.get(\"BLSE/SMU28000004300000001\", start_date=\"2000-01-01\", end_date=\"2020-08-01\")\n",
        "missi_transutil.columns= ['Total Transportation & Utilities Value']"
      ],
      "execution_count": null,
      "outputs": []
    },
    {
      "cell_type": "code",
      "metadata": {
        "colab_type": "code",
        "id": "VmRz68QIHKBh",
        "colab": {}
      },
      "source": [
        "#All Employees, In Thousands; Total Telecommunications Transportation Providing -South Carolina\n",
        "missi_telecom = quandl.get(\"BLSE/SMU28000005051700001\", start_date=\"2000-01-01\", end_date=\"2020-08-01\")\n",
        "missi_telecom.columns= ['Total Telecommunication Value']"
      ],
      "execution_count": null,
      "outputs": []
    },
    {
      "cell_type": "code",
      "metadata": {
        "colab_type": "code",
        "id": "JgZZRCW6HKBl",
        "colab": {}
      },
      "source": [
        "missi4 = pd.merge(missi_wholesale, missi_transutil, on='Date')"
      ],
      "execution_count": null,
      "outputs": []
    },
    {
      "cell_type": "code",
      "metadata": {
        "colab_type": "code",
        "id": "BjpvYKaZHKBn",
        "colab": {}
      },
      "source": [
        "missi3 = pd.merge(missi_manu, missi_durable, on='Date')"
      ],
      "execution_count": null,
      "outputs": []
    },
    {
      "cell_type": "code",
      "metadata": {
        "colab_type": "code",
        "id": "mL8hLAQiHKBt",
        "colab": {}
      },
      "source": [
        "missi2 = pd.merge(missi_serv, missi_mine, on='Date')"
      ],
      "execution_count": null,
      "outputs": []
    },
    {
      "cell_type": "code",
      "metadata": {
        "colab_type": "code",
        "id": "bmFEOnneHKBx",
        "colab": {}
      },
      "source": [
        "missi1 = pd.merge(missi_priv, missi_goods, on='Date')"
      ],
      "execution_count": null,
      "outputs": []
    },
    {
      "cell_type": "code",
      "metadata": {
        "colab_type": "code",
        "id": "81-UzbzCHKBz",
        "colab": {}
      },
      "source": [
        "missi = pd.merge(missi_gov, missi_nonfarm, on='Date')"
      ],
      "execution_count": null,
      "outputs": []
    },
    {
      "cell_type": "code",
      "metadata": {
        "colab_type": "code",
        "id": "zL0NMKN2HKB4",
        "colab": {}
      },
      "source": [
        "missi_j1 = pd.merge(missi, missi1, on='Date')"
      ],
      "execution_count": null,
      "outputs": []
    },
    {
      "cell_type": "code",
      "metadata": {
        "colab_type": "code",
        "id": "eXCrExh1HKB8",
        "colab": {}
      },
      "source": [
        "missi_j2 = pd.merge(missi_j1, missi2, on='Date')"
      ],
      "execution_count": null,
      "outputs": []
    },
    {
      "cell_type": "code",
      "metadata": {
        "colab_type": "code",
        "id": "wvc4dvGuHKCF",
        "colab": {}
      },
      "source": [
        "missi_j3 = pd.merge(missi_j2, missi3, on='Date')"
      ],
      "execution_count": null,
      "outputs": []
    },
    {
      "cell_type": "code",
      "metadata": {
        "colab_type": "code",
        "id": "fO1SS_ijHKCJ",
        "colab": {}
      },
      "source": [
        "missi_j4 = pd.merge(missi_j3, missi4, on='Date')"
      ],
      "execution_count": null,
      "outputs": []
    },
    {
      "cell_type": "code",
      "metadata": {
        "colab_type": "code",
        "id": "RxeeMtOkHKCQ",
        "colab": {}
      },
      "source": [
        "missi_j5 = pd.merge(missi_j4, missi_telecom, on='Date')"
      ],
      "execution_count": null,
      "outputs": []
    },
    {
      "cell_type": "code",
      "metadata": {
        "colab_type": "code",
        "id": "O4fcdqx8HKCU",
        "colab": {}
      },
      "source": [
        "missi_j5"
      ],
      "execution_count": null,
      "outputs": []
    },
    {
      "cell_type": "markdown",
      "metadata": {
        "id": "_rZfuj3VKHAa",
        "colab_type": "text"
      },
      "source": [
        "# Minnesota"
      ]
    },
    {
      "cell_type": "code",
      "metadata": {
        "id": "AUw31b3ACsZP",
        "colab_type": "code",
        "colab": {}
      },
      "source": [
        ""
      ],
      "execution_count": null,
      "outputs": []
    },
    {
      "cell_type": "code",
      "metadata": {
        "colab_type": "code",
        "id": "lALn77IIKNBn",
        "colab": {}
      },
      "source": [
        "#All Employees, In Thousands; Total Government Providing -Rhode Island \n",
        "minn_gov = quandl.get(\"BLSE/SMU27000009000000001\", start_date=\"2000-01-01\", end_date=\"2020-08-01\")\n",
        "minn_gov.columns= ['Total Government Value']"
      ],
      "execution_count": null,
      "outputs": []
    },
    {
      "cell_type": "code",
      "metadata": {
        "colab_type": "code",
        "id": "gQmMxlgPKNBu",
        "colab": {}
      },
      "source": [
        "#All Employees, In Thousands; Total Nonfarm Providing -Rhode Island\n",
        "minn_nonfarm = quandl.get(\"BLSE/SMU27000000000000001\", start_date=\"2000-01-01\", end_date=\"2020-08-01\")\n",
        "minn_nonfarm.columns= ['Total Nonfarm Provided Value']"
      ],
      "execution_count": null,
      "outputs": []
    },
    {
      "cell_type": "code",
      "metadata": {
        "colab_type": "code",
        "id": "HmzLeb6tKNBw",
        "colab": {}
      },
      "source": [
        "#All Employees, In Thousands; Total Private Providing -South Carolina\n",
        "minn_priv = quandl.get(\"BLSE/SMU27000000500000001\", start_date=\"2000-01-01\", end_date=\"2020-08-01\")\n",
        "minn_priv.columns= ['Total Private Industry Value']"
      ],
      "execution_count": null,
      "outputs": []
    },
    {
      "cell_type": "code",
      "metadata": {
        "colab_type": "code",
        "id": "NyBsSKjNKNB0",
        "colab": {}
      },
      "source": [
        "#All Employees, In Thousands; Total Goods Producing Providing -South Carolina\n",
        "minn_goods = quandl.get(\"BLSE/SMU27000000600000001\", start_date=\"2000-01-01\", end_date=\"2020-08-01\")\n",
        "minn_goods.columns= ['Total Goods Produced Value']"
      ],
      "execution_count": null,
      "outputs": []
    },
    {
      "cell_type": "code",
      "metadata": {
        "colab_type": "code",
        "id": "HISamDJXKNB4",
        "colab": {}
      },
      "source": [
        "#All Employees, In Thousands; Total Service Providing -South Carolina\n",
        "minn_serv = quandl.get(\"BLSE/SMU27000000700000001\", start_date=\"2000-01-01\", end_date=\"2020-08-01\")\n",
        "minn_serv.columns= ['Total Service Provided Value']"
      ],
      "execution_count": null,
      "outputs": []
    },
    {
      "cell_type": "code",
      "metadata": {
        "colab_type": "code",
        "id": "kPV-9i7EKNB6",
        "colab": {}
      },
      "source": [
        "#All Employees, In Thousands; Total Mining & Logging Providing -South Carolina\n",
        "minn_mine = quandl.get(\"BLSE/SMU27000001000000001\", start_date=\"2000-01-01\", end_date=\"2020-08-01\")\n",
        "minn_mine.columns= ['Total Mining & Logging Value']"
      ],
      "execution_count": null,
      "outputs": []
    },
    {
      "cell_type": "code",
      "metadata": {
        "colab_type": "code",
        "id": "2C5rQ1YaKNB8",
        "colab": {}
      },
      "source": [
        "#All Employees, In Thousands; Total Manufacture Providing -South Carolina\n",
        "minn_manu = quandl.get(\"BLSE/SMU27000003000000001\", start_date=\"2000-01-01\", end_date=\"2020-08-01\")\n",
        "minn_manu.columns= ['Total Manufacture Value']"
      ],
      "execution_count": null,
      "outputs": []
    },
    {
      "cell_type": "code",
      "metadata": {
        "colab_type": "code",
        "id": "HQ-c1SZwKNB_",
        "colab": {}
      },
      "source": [
        "#All Employees, In Thousands; Total Durable Goods Providing -South Carolina\n",
        "minn_durable = quandl.get(\"BLSE/SMU27000003000000001\", start_date=\"2000-01-01\", end_date=\"2020-08-01\")\n",
        "minn_durable.columns= ['Total Durable Goods Value']"
      ],
      "execution_count": null,
      "outputs": []
    },
    {
      "cell_type": "code",
      "metadata": {
        "colab_type": "code",
        "id": "HL8cw1CaKNCD",
        "colab": {}
      },
      "source": [
        "#All Employees, In Thousands; Total Wholesale Trade Providing -South Carolina\n",
        "minn_wholesale = quandl.get(\"BLSE/SMU27000004100000001\", start_date=\"2000-01-01\", end_date=\"2020-08-01\")\n",
        "minn_wholesale.columns= ['Wholesale Trade Value']"
      ],
      "execution_count": null,
      "outputs": []
    },
    {
      "cell_type": "code",
      "metadata": {
        "colab_type": "code",
        "id": "1pwGRzC4KNCO",
        "colab": {}
      },
      "source": [
        "#All Employees, In Thousands; Total Transportation & Utilities Providing -South Carolina\n",
        "minn_transutil = quandl.get(\"BLSE/SMU27000004300000001\", start_date=\"2000-01-01\", end_date=\"2020-08-01\")\n",
        "minn_transutil.columns= ['Total Transportation & Utilities Value']"
      ],
      "execution_count": null,
      "outputs": []
    },
    {
      "cell_type": "code",
      "metadata": {
        "colab_type": "code",
        "id": "9mOYGgl_KNCT",
        "colab": {}
      },
      "source": [
        "#All Employees, In Thousands; Total Truck Transportation Providing -South Carolina\n",
        "minn_truck = quandl.get(\"BLSE/SMU27000004348400001\", start_date=\"2000-01-01\", end_date=\"2020-08-01\")\n",
        "minn_truck.columns= ['Total Truck Transportation Provided Value']"
      ],
      "execution_count": null,
      "outputs": []
    },
    {
      "cell_type": "code",
      "metadata": {
        "colab_type": "code",
        "id": "X4DABjmJKNCW",
        "colab": {}
      },
      "source": [
        "#All Employees, In Thousands; Total Telecommunications Transportation Providing -South Carolina\n",
        "minn_telecom = quandl.get(\"BLSE/SMU27000005051700001\", start_date=\"2000-01-01\", end_date=\"2020-08-01\")\n",
        "minn_telecom.columns= ['Total Telecommunication Value']"
      ],
      "execution_count": null,
      "outputs": []
    },
    {
      "cell_type": "code",
      "metadata": {
        "id": "XypVDtveLHOY",
        "colab_type": "code",
        "colab": {}
      },
      "source": [
        "#All Employees, In Thousands; Total Real Estate Transportation Providing -South Carolina\n",
        "minn_estate = quandl.get(\"BLSE/SMU27000005553100001\", start_date=\"2000-01-01\", end_date=\"2020-08-01\")\n",
        "minn_estate.columns= ['Total Real Estate Value']"
      ],
      "execution_count": null,
      "outputs": []
    },
    {
      "cell_type": "code",
      "metadata": {
        "colab_type": "code",
        "id": "rFnoSk2bKNCY",
        "colab": {}
      },
      "source": [
        "minn5 = pd.merge(minn_truck, minn_telecom, on='Date')"
      ],
      "execution_count": null,
      "outputs": []
    },
    {
      "cell_type": "code",
      "metadata": {
        "colab_type": "code",
        "id": "6DIB_QPIKNCb",
        "colab": {}
      },
      "source": [
        "minn4 = pd.merge(minn_wholesale, minn_transutil, on='Date')"
      ],
      "execution_count": null,
      "outputs": []
    },
    {
      "cell_type": "code",
      "metadata": {
        "colab_type": "code",
        "id": "bEPDiTKQKNCd",
        "colab": {}
      },
      "source": [
        "minn3 = pd.merge(minn_manu, minn_durable, on='Date')"
      ],
      "execution_count": null,
      "outputs": []
    },
    {
      "cell_type": "code",
      "metadata": {
        "colab_type": "code",
        "id": "KiyhjkqfKNCi",
        "colab": {}
      },
      "source": [
        "minn2 = pd.merge(minn_serv, minn_mine, on='Date')"
      ],
      "execution_count": null,
      "outputs": []
    },
    {
      "cell_type": "code",
      "metadata": {
        "colab_type": "code",
        "id": "Si80UO-TKNCn",
        "colab": {}
      },
      "source": [
        "minn1 = pd.merge(minn_priv, minn_goods, on='Date')"
      ],
      "execution_count": null,
      "outputs": []
    },
    {
      "cell_type": "code",
      "metadata": {
        "colab_type": "code",
        "id": "toUwg8_ZKNCq",
        "colab": {}
      },
      "source": [
        "minno = pd.merge(minn_gov, minn_nonfarm, on='Date')"
      ],
      "execution_count": null,
      "outputs": []
    },
    {
      "cell_type": "code",
      "metadata": {
        "colab_type": "code",
        "id": "Uqfu8sYnKNCx",
        "colab": {}
      },
      "source": [
        "minn_j1 = pd.merge(minno, minn1, on='Date')"
      ],
      "execution_count": null,
      "outputs": []
    },
    {
      "cell_type": "code",
      "metadata": {
        "colab_type": "code",
        "id": "aFfhDsP0KNC1",
        "colab": {}
      },
      "source": [
        "minn_j2 = pd.merge(minn_j1, minn2, on='Date')"
      ],
      "execution_count": null,
      "outputs": []
    },
    {
      "cell_type": "code",
      "metadata": {
        "colab_type": "code",
        "id": "jskfzaS6KNC6",
        "colab": {}
      },
      "source": [
        "minn_j3 = pd.merge(minn_j2, minn3, on='Date')"
      ],
      "execution_count": null,
      "outputs": []
    },
    {
      "cell_type": "code",
      "metadata": {
        "colab_type": "code",
        "id": "Awp0Ihy1KNC9",
        "colab": {}
      },
      "source": [
        "minn_j4 = pd.merge(minn_j3, minn4, on='Date')"
      ],
      "execution_count": null,
      "outputs": []
    },
    {
      "cell_type": "code",
      "metadata": {
        "colab_type": "code",
        "id": "d3j8vICFKNDA",
        "colab": {}
      },
      "source": [
        "minn_j5 = pd.merge(minn_j4, minn5, on='Date')"
      ],
      "execution_count": null,
      "outputs": []
    },
    {
      "cell_type": "code",
      "metadata": {
        "colab_type": "code",
        "id": "CY_BOwTgKNDD",
        "colab": {}
      },
      "source": [
        "minn_j6 = pd.merge(minn_j5, minn_estate, on='Date')\n",
        "minn_j6"
      ],
      "execution_count": null,
      "outputs": []
    },
    {
      "cell_type": "code",
      "metadata": {
        "id": "lTGDJnkEM90J",
        "colab_type": "code",
        "colab": {}
      },
      "source": [
        ""
      ],
      "execution_count": null,
      "outputs": []
    },
    {
      "cell_type": "markdown",
      "metadata": {
        "id": "juZUqQjDM5q7",
        "colab_type": "text"
      },
      "source": [
        "# Michigan"
      ]
    },
    {
      "cell_type": "code",
      "metadata": {
        "id": "8xsS10VaNBGd",
        "colab_type": "code",
        "colab": {}
      },
      "source": [
        ""
      ],
      "execution_count": null,
      "outputs": []
    },
    {
      "cell_type": "code",
      "metadata": {
        "colab_type": "code",
        "id": "VGZWsY5YNBzM",
        "colab": {}
      },
      "source": [
        "#All Employees, In Thousands; Total Government Providing -Rhode Island \n",
        "mich_gov = quandl.get(\"BLSE/SMU26000009000000001\", start_date=\"2000-01-01\", end_date=\"2020-08-01\")\n",
        "mich_gov.columns= ['Total Government Value']"
      ],
      "execution_count": null,
      "outputs": []
    },
    {
      "cell_type": "code",
      "metadata": {
        "colab_type": "code",
        "id": "BE5l0uWGNBzP",
        "colab": {}
      },
      "source": [
        "#All Employees, In Thousands; Total Nonfarm Providing -Rhode Island\n",
        "mich_nonfarm = quandl.get(\"BLSE/SMU26000000000000001\", start_date=\"2000-01-01\", end_date=\"2020-08-01\")\n",
        "mich_nonfarm.columns= ['Total Nonfarm Provided Value']"
      ],
      "execution_count": null,
      "outputs": []
    },
    {
      "cell_type": "code",
      "metadata": {
        "colab_type": "code",
        "id": "4pQb5M5PNBzT",
        "colab": {}
      },
      "source": [
        "#All Employees, In Thousands; Total Private Providing -South Carolina\n",
        "mich_priv = quandl.get(\"BLSE/SMU26000000500000001\", start_date=\"2000-01-01\", end_date=\"2020-08-01\")\n",
        "mich_priv.columns= ['Total Private Industry Value']"
      ],
      "execution_count": null,
      "outputs": []
    },
    {
      "cell_type": "code",
      "metadata": {
        "colab_type": "code",
        "id": "79dkGBbFNBzW",
        "colab": {}
      },
      "source": [
        "#All Employees, In Thousands; Total Goods Producing Providing -South Carolina\n",
        "mich_goods = quandl.get(\"BLSE/SMU26000000600000001\", start_date=\"2000-01-01\", end_date=\"2020-08-01\")\n",
        "mich_goods.columns= ['Total Goods Produced Value']"
      ],
      "execution_count": null,
      "outputs": []
    },
    {
      "cell_type": "code",
      "metadata": {
        "colab_type": "code",
        "id": "-ObZMjUxNBzb",
        "colab": {}
      },
      "source": [
        "#All Employees, In Thousands; Total Service Providing -South Carolina\n",
        "mich_serv = quandl.get(\"BLSE/SMU26000000700000001\", start_date=\"2000-01-01\", end_date=\"2020-08-01\")\n",
        "mich_serv.columns= ['Total Service Provided Value']"
      ],
      "execution_count": null,
      "outputs": []
    },
    {
      "cell_type": "code",
      "metadata": {
        "colab_type": "code",
        "id": "uVH43o05NBzd",
        "colab": {}
      },
      "source": [
        "#All Employees, In Thousands; Total Mining & Logging Providing -South Carolina\n",
        "mich_mine = quandl.get(\"BLSE/SMU26000001000000001\", start_date=\"2000-01-01\", end_date=\"2020-08-01\")\n",
        "mich_mine.columns= ['Total Mining & Logging Value']"
      ],
      "execution_count": null,
      "outputs": []
    },
    {
      "cell_type": "code",
      "metadata": {
        "colab_type": "code",
        "id": "56tDLfKENBzf",
        "colab": {}
      },
      "source": [
        "#All Employees, In Thousands; Total Manufacture Providing -South Carolina\n",
        "mich_manu = quandl.get(\"BLSE/SMU26000003000000001\", start_date=\"2000-01-01\", end_date=\"2020-08-01\")\n",
        "mich_manu.columns= ['Total Manufacture Value']"
      ],
      "execution_count": null,
      "outputs": []
    },
    {
      "cell_type": "code",
      "metadata": {
        "colab_type": "code",
        "id": "N09YR7bSNBzi",
        "colab": {}
      },
      "source": [
        "#All Employees, In Thousands; Total Durable Goods Providing -South Carolina\n",
        "mich_durable = quandl.get(\"BLSE/SMU26000003000000001\", start_date=\"2000-01-01\", end_date=\"2020-08-01\")\n",
        "mich_durable.columns= ['Total Durable Goods Value']"
      ],
      "execution_count": null,
      "outputs": []
    },
    {
      "cell_type": "code",
      "metadata": {
        "colab_type": "code",
        "id": "57O5480YNBzl",
        "colab": {}
      },
      "source": [
        "#All Employees, In Thousands; Total Wholesale Trade Providing -South Carolina\n",
        "mich_wholesale = quandl.get(\"BLSE/SMU26000004100000001\", start_date=\"2000-01-01\", end_date=\"2020-08-01\")\n",
        "mich_wholesale.columns= ['Wholesale Trade Value']"
      ],
      "execution_count": null,
      "outputs": []
    },
    {
      "cell_type": "code",
      "metadata": {
        "colab_type": "code",
        "id": "9urzNlLpNBzo",
        "colab": {}
      },
      "source": [
        "#All Employees, In Thousands; Total Transportation & Utilities Providing -South Carolina\n",
        "mich_transutil = quandl.get(\"BLSE/SMU26000004300000001\", start_date=\"2000-01-01\", end_date=\"2020-08-01\")\n",
        "mich_transutil.columns= ['Total Transportation & Utilities Value']"
      ],
      "execution_count": null,
      "outputs": []
    },
    {
      "cell_type": "code",
      "metadata": {
        "colab_type": "code",
        "id": "d0aSFL4LNBzr",
        "colab": {}
      },
      "source": [
        "#All Employees, In Thousands; Total Truck Transportation Providing -South Carolina\n",
        "mich_truck = quandl.get(\"BLSE/SMU26000004348400001\", start_date=\"2000-01-01\", end_date=\"2020-08-01\")\n",
        "mich_truck.columns= ['Total Truck Transportation Provided Value']"
      ],
      "execution_count": null,
      "outputs": []
    },
    {
      "cell_type": "code",
      "metadata": {
        "colab_type": "code",
        "id": "f3TdUcDwNBzx",
        "colab": {}
      },
      "source": [
        "#All Employees, In Thousands; Total Telecommunications Transportation Providing -South Carolina\n",
        "mich_telecom = quandl.get(\"BLSE/SMU26000005051700001\", start_date=\"2000-01-01\", end_date=\"2020-08-01\")\n",
        "mich_telecom.columns= ['Total Telecommunication Value']"
      ],
      "execution_count": null,
      "outputs": []
    },
    {
      "cell_type": "code",
      "metadata": {
        "colab_type": "code",
        "id": "VbsM5xLpNBz3",
        "colab": {}
      },
      "source": [
        "#All Employees, In Thousands; Total Real Estate Transportation Providing -South Carolina\n",
        "mich_estate = quandl.get(\"BLSE/SMU26000005553100001\", start_date=\"2000-01-01\", end_date=\"2020-08-01\")\n",
        "mich_estate.columns= ['Total Real Estate Value']"
      ],
      "execution_count": null,
      "outputs": []
    },
    {
      "cell_type": "code",
      "metadata": {
        "id": "OPT6cK9IOd_P",
        "colab_type": "code",
        "colab": {}
      },
      "source": [
        "#All Employees, In Thousands; Total Real Estate Transportation Providing -South Carolina\n",
        "mich_air = quandl.get(\"BLSE/SMU26000004348100001\", start_date=\"2000-01-01\", end_date=\"2020-08-01\")\n",
        "mich_air.columns= ['Total Air Transportation Value']"
      ],
      "execution_count": null,
      "outputs": []
    },
    {
      "cell_type": "code",
      "metadata": {
        "id": "x-IR9ZOqOqmz",
        "colab_type": "code",
        "colab": {}
      },
      "source": [
        "#All Employees, In Thousands; Total Real Estate Transportation Providing -South Carolina\n",
        "mich_rail = quandl.get(\"BLSE/SMU26000004348200001\", start_date=\"2000-01-01\", end_date=\"2020-08-01\")\n",
        "mich_rail.columns= ['Total Rail Transportation Value']"
      ],
      "execution_count": null,
      "outputs": []
    },
    {
      "cell_type": "code",
      "metadata": {
        "id": "cRT8LYUrPOFW",
        "colab_type": "code",
        "colab": {}
      },
      "source": [
        "mich6 = pd.merge(mich_estate, mich_air, on='Date')"
      ],
      "execution_count": null,
      "outputs": []
    },
    {
      "cell_type": "code",
      "metadata": {
        "colab_type": "code",
        "id": "EEdzcUm1NBz7",
        "colab": {}
      },
      "source": [
        "mich5 = pd.merge(mich_truck, mich_telecom, on='Date')"
      ],
      "execution_count": null,
      "outputs": []
    },
    {
      "cell_type": "code",
      "metadata": {
        "colab_type": "code",
        "id": "RqTHEOaSNBz_",
        "colab": {}
      },
      "source": [
        "mich4 = pd.merge(mich_wholesale, mich_transutil, on='Date')"
      ],
      "execution_count": null,
      "outputs": []
    },
    {
      "cell_type": "code",
      "metadata": {
        "colab_type": "code",
        "id": "VtodtwhwNB0B",
        "colab": {}
      },
      "source": [
        "mich3 = pd.merge(mich_manu, mich_durable, on='Date')"
      ],
      "execution_count": null,
      "outputs": []
    },
    {
      "cell_type": "code",
      "metadata": {
        "colab_type": "code",
        "id": "SiqYYXD-NB0D",
        "colab": {}
      },
      "source": [
        "mich2 = pd.merge(mich_serv, mich_mine, on='Date')"
      ],
      "execution_count": null,
      "outputs": []
    },
    {
      "cell_type": "code",
      "metadata": {
        "colab_type": "code",
        "id": "EW4aWk6WNB0F",
        "colab": {}
      },
      "source": [
        "mich1 = pd.merge(mich_priv, mich_goods, on='Date')"
      ],
      "execution_count": null,
      "outputs": []
    },
    {
      "cell_type": "code",
      "metadata": {
        "colab_type": "code",
        "id": "Ot-im9uSNB0K",
        "colab": {}
      },
      "source": [
        "mich = pd.merge(mich_gov, mich_nonfarm, on='Date')"
      ],
      "execution_count": null,
      "outputs": []
    },
    {
      "cell_type": "code",
      "metadata": {
        "colab_type": "code",
        "id": "t3GBclDpNB0P",
        "colab": {}
      },
      "source": [
        "mich_j1 = pd.merge(mich, mich1, on='Date')"
      ],
      "execution_count": null,
      "outputs": []
    },
    {
      "cell_type": "code",
      "metadata": {
        "colab_type": "code",
        "id": "FCGZ_1ReNB0S",
        "colab": {}
      },
      "source": [
        "mich_j2 = pd.merge(mich_j1, mich2, on='Date')"
      ],
      "execution_count": null,
      "outputs": []
    },
    {
      "cell_type": "code",
      "metadata": {
        "colab_type": "code",
        "id": "LhHBwMMxNB0W",
        "colab": {}
      },
      "source": [
        "mich_j3 = pd.merge(mich_j2, mich3, on='Date')"
      ],
      "execution_count": null,
      "outputs": []
    },
    {
      "cell_type": "code",
      "metadata": {
        "colab_type": "code",
        "id": "qGyb1OhuNB0Z",
        "colab": {}
      },
      "source": [
        "mich_j4 = pd.merge(mich_j3, mich4, on='Date')"
      ],
      "execution_count": null,
      "outputs": []
    },
    {
      "cell_type": "code",
      "metadata": {
        "colab_type": "code",
        "id": "FMRlLsFxNB0a",
        "colab": {}
      },
      "source": [
        "mich_j5 = pd.merge(mich_j4, mich5, on='Date')"
      ],
      "execution_count": null,
      "outputs": []
    },
    {
      "cell_type": "code",
      "metadata": {
        "colab_type": "code",
        "id": "DgivOnCBNB0g",
        "colab": {}
      },
      "source": [
        "mich_j6 = pd.merge(mich_j5, mich6, on='Date')\n"
      ],
      "execution_count": null,
      "outputs": []
    },
    {
      "cell_type": "code",
      "metadata": {
        "id": "j1U3WqVLQdpw",
        "colab_type": "code",
        "colab": {}
      },
      "source": [
        "mich_j7 = pd.merge(mich_j6, mich_rail, on='Date')\n",
        "mich_j7"
      ],
      "execution_count": null,
      "outputs": []
    },
    {
      "cell_type": "markdown",
      "metadata": {
        "id": "II7wYGu4QpDl",
        "colab_type": "text"
      },
      "source": [
        "# Massachusetts"
      ]
    },
    {
      "cell_type": "code",
      "metadata": {
        "id": "gv0fqFzTQvKJ",
        "colab_type": "code",
        "colab": {}
      },
      "source": [
        ""
      ],
      "execution_count": null,
      "outputs": []
    },
    {
      "cell_type": "code",
      "metadata": {
        "colab_type": "code",
        "id": "wIw6w2rLRBbK",
        "colab": {}
      },
      "source": [
        "#All Employees, In Thousands; Total Government Providing -Rhode Island \n",
        "mass_gov = quandl.get(\"BLSE/SMU25000009000000001\", start_date=\"2000-01-01\", end_date=\"2020-08-01\")\n",
        "mass_gov.columns= ['Total Government Value']"
      ],
      "execution_count": null,
      "outputs": []
    },
    {
      "cell_type": "code",
      "metadata": {
        "colab_type": "code",
        "id": "xfD_gBk6RBbP",
        "colab": {}
      },
      "source": [
        "#All Employees, In Thousands; Total Nonfarm Providing -Rhode Island\n",
        "mass_nonfarm = quandl.get(\"BLSE/SMU25000000000000001\", start_date=\"2000-01-01\", end_date=\"2020-08-01\")\n",
        "mass_nonfarm.columns= ['Total Nonfarm Provided Value']"
      ],
      "execution_count": null,
      "outputs": []
    },
    {
      "cell_type": "code",
      "metadata": {
        "colab_type": "code",
        "id": "QGMIKaXYRBbV",
        "colab": {}
      },
      "source": [
        "#All Employees, In Thousands; Total Private Providing -South Carolina\n",
        "mass_priv = quandl.get(\"BLSE/SMU25000000500000001\", start_date=\"2000-01-01\", end_date=\"2020-08-01\")\n",
        "mass_priv.columns= ['Total Private Industry Value']"
      ],
      "execution_count": null,
      "outputs": []
    },
    {
      "cell_type": "code",
      "metadata": {
        "colab_type": "code",
        "id": "UR0yY2XTRBbZ",
        "colab": {}
      },
      "source": [
        "#All Employees, In Thousands; Total Goods Producing Providing -South Carolina\n",
        "mass_goods = quandl.get(\"BLSE/SMU25000000600000001\", start_date=\"2000-01-01\", end_date=\"2020-08-01\")\n",
        "mass_goods.columns= ['Total Goods Produced Value']"
      ],
      "execution_count": null,
      "outputs": []
    },
    {
      "cell_type": "code",
      "metadata": {
        "colab_type": "code",
        "id": "YkF13zjVRBbc",
        "colab": {}
      },
      "source": [
        "#All Employees, In Thousands; Total Service Providing -South Carolina\n",
        "mass_serv = quandl.get(\"BLSE/SMU25000000700000001\", start_date=\"2000-01-01\", end_date=\"2020-08-01\")\n",
        "mass_serv.columns= ['Total Service Provided Value']"
      ],
      "execution_count": null,
      "outputs": []
    },
    {
      "cell_type": "code",
      "metadata": {
        "colab_type": "code",
        "id": "E-0n3Z8-RBbg",
        "colab": {}
      },
      "source": [
        "#All Employees, In Thousands; Total Mining & Logging Providing -South Carolina\n",
        "mass_mine = quandl.get(\"BLSE/SMU25000001000000001\", start_date=\"2000-01-01\", end_date=\"2020-08-01\")\n",
        "mass_mine.columns= ['Total Mining & Logging Value']"
      ],
      "execution_count": null,
      "outputs": []
    },
    {
      "cell_type": "code",
      "metadata": {
        "colab_type": "code",
        "id": "RY91wzllRBbk",
        "colab": {}
      },
      "source": [
        "#All Employees, In Thousands; Total Manufacture Providing -South Carolina\n",
        "mass_manu = quandl.get(\"BLSE/SMU25000003000000001\", start_date=\"2000-01-01\", end_date=\"2020-08-01\")\n",
        "mass_manu.columns= ['Total Manufacture Value']"
      ],
      "execution_count": null,
      "outputs": []
    },
    {
      "cell_type": "code",
      "metadata": {
        "colab_type": "code",
        "id": "rSy99p8ORBbn",
        "colab": {}
      },
      "source": [
        "#All Employees, In Thousands; Total Durable Goods Providing -South Carolina\n",
        "mass_durable = quandl.get(\"BLSE/SMU25000003000000001\", start_date=\"2000-01-01\", end_date=\"2020-08-01\")\n",
        "mass_durable.columns= ['Total Durable Goods Value']"
      ],
      "execution_count": null,
      "outputs": []
    },
    {
      "cell_type": "code",
      "metadata": {
        "colab_type": "code",
        "id": "jpIW4EkFRBbr",
        "colab": {}
      },
      "source": [
        "#All Employees, In Thousands; Total Wholesale Trade Providing -South Carolina\n",
        "mass_wholesale = quandl.get(\"BLSE/SMU25000004100000001\", start_date=\"2000-01-01\", end_date=\"2020-08-01\")\n",
        "mass_wholesale.columns= ['Wholesale Trade Value']"
      ],
      "execution_count": null,
      "outputs": []
    },
    {
      "cell_type": "code",
      "metadata": {
        "colab_type": "code",
        "id": "0oTLAU5VRBbv",
        "colab": {}
      },
      "source": [
        "#All Employees, In Thousands; Total Transportation & Utilities Providing -South Carolina\n",
        "mass_transutil = quandl.get(\"BLSE/SMU25000004300000001\", start_date=\"2000-01-01\", end_date=\"2020-08-01\")\n",
        "mass_transutil.columns= ['Total Transportation & Utilities Value']"
      ],
      "execution_count": null,
      "outputs": []
    },
    {
      "cell_type": "code",
      "metadata": {
        "colab_type": "code",
        "id": "L4yU5qhORBbx",
        "colab": {}
      },
      "source": [
        "#All Employees, In Thousands; Total Truck Transportation Providing -South Carolina\n",
        "mass_truck = quandl.get(\"BLSE/SMU25000004348400001\", start_date=\"2000-01-01\", end_date=\"2020-08-01\")\n",
        "mass_truck.columns= ['Total Truck Transportation Provided Value']"
      ],
      "execution_count": null,
      "outputs": []
    },
    {
      "cell_type": "code",
      "metadata": {
        "colab_type": "code",
        "id": "_hMPozOORBb0",
        "colab": {}
      },
      "source": [
        "#All Employees, In Thousands; Total Telecommunications Transportation Providing -South Carolina\n",
        "mass_telecom = quandl.get(\"BLSE/SMU25000005051700001\", start_date=\"2000-01-01\", end_date=\"2020-08-01\")\n",
        "mass_telecom.columns= ['Total Telecommunication Value']"
      ],
      "execution_count": null,
      "outputs": []
    },
    {
      "cell_type": "code",
      "metadata": {
        "colab_type": "code",
        "id": "42V5zvx9RBb3",
        "colab": {}
      },
      "source": [
        "#All Employees, In Thousands; Total Real Estate Transportation Providing -South Carolina\n",
        "mass_estate = quandl.get(\"BLSE/SMU25000005553100001\", start_date=\"2000-01-01\", end_date=\"2020-08-01\")\n",
        "mass_estate.columns= ['Total Real Estate Value']"
      ],
      "execution_count": null,
      "outputs": []
    },
    {
      "cell_type": "code",
      "metadata": {
        "colab_type": "code",
        "id": "vq_bi-xxRBb5",
        "colab": {}
      },
      "source": [
        "#All Employees, In Thousands; Total Real Estate Transportation Providing -South Carolina\n",
        "mass_air = quandl.get(\"BLSE/SMU25000004348100001\", start_date=\"2000-01-01\", end_date=\"2020-08-01\")\n",
        "mass_air.columns= ['Total Air Transportation Value']"
      ],
      "execution_count": null,
      "outputs": []
    },
    {
      "cell_type": "code",
      "metadata": {
        "colab_type": "code",
        "id": "nCi1dYE7RBb9",
        "colab": {}
      },
      "source": [
        "mass6 = pd.merge(mass_estate, mass_air, on='Date')"
      ],
      "execution_count": null,
      "outputs": []
    },
    {
      "cell_type": "code",
      "metadata": {
        "colab_type": "code",
        "id": "K3l3f1BPRBcA",
        "colab": {}
      },
      "source": [
        "mass5 = pd.merge(mass_truck, mass_telecom, on='Date')"
      ],
      "execution_count": null,
      "outputs": []
    },
    {
      "cell_type": "code",
      "metadata": {
        "colab_type": "code",
        "id": "JQiH6DjaRBcC",
        "colab": {}
      },
      "source": [
        "mass4 = pd.merge(mass_wholesale, mass_transutil, on='Date')"
      ],
      "execution_count": null,
      "outputs": []
    },
    {
      "cell_type": "code",
      "metadata": {
        "colab_type": "code",
        "id": "IQnhuXx4RBcD",
        "colab": {}
      },
      "source": [
        "mass3 = pd.merge(mass_manu, mass_durable, on='Date')"
      ],
      "execution_count": null,
      "outputs": []
    },
    {
      "cell_type": "code",
      "metadata": {
        "colab_type": "code",
        "id": "GlOoW8_mRBcH",
        "colab": {}
      },
      "source": [
        "mass2 = pd.merge(mass_serv, mass_mine, on='Date')"
      ],
      "execution_count": null,
      "outputs": []
    },
    {
      "cell_type": "code",
      "metadata": {
        "colab_type": "code",
        "id": "fGz5uVJURBcJ",
        "colab": {}
      },
      "source": [
        "mass1 = pd.merge(mass_priv, mass_goods, on='Date')"
      ],
      "execution_count": null,
      "outputs": []
    },
    {
      "cell_type": "code",
      "metadata": {
        "colab_type": "code",
        "id": "97GoheUERBcK",
        "colab": {}
      },
      "source": [
        "mass = pd.merge(mass_gov, mass_nonfarm, on='Date')"
      ],
      "execution_count": null,
      "outputs": []
    },
    {
      "cell_type": "code",
      "metadata": {
        "colab_type": "code",
        "id": "xqvEsOhgRBcM",
        "colab": {}
      },
      "source": [
        "mass_j1 = pd.merge(mass, mass1, on='Date')"
      ],
      "execution_count": null,
      "outputs": []
    },
    {
      "cell_type": "code",
      "metadata": {
        "colab_type": "code",
        "id": "VpxYJy48RBcP",
        "colab": {}
      },
      "source": [
        "mass_j2 = pd.merge(mass_j1, mass2, on='Date')"
      ],
      "execution_count": null,
      "outputs": []
    },
    {
      "cell_type": "code",
      "metadata": {
        "colab_type": "code",
        "id": "Dl83M6EkRBcR",
        "colab": {}
      },
      "source": [
        "mass_j3 = pd.merge(mass_j2, mass3, on='Date')"
      ],
      "execution_count": null,
      "outputs": []
    },
    {
      "cell_type": "code",
      "metadata": {
        "colab_type": "code",
        "id": "0TASazbNRBcT",
        "colab": {}
      },
      "source": [
        "mass_j4 = pd.merge(mass_j3, mass4, on='Date')"
      ],
      "execution_count": null,
      "outputs": []
    },
    {
      "cell_type": "code",
      "metadata": {
        "colab_type": "code",
        "id": "7-NPIA8GRBcV",
        "colab": {}
      },
      "source": [
        "mass_j5 = pd.merge(mass_j4, mass5, on='Date')"
      ],
      "execution_count": null,
      "outputs": []
    },
    {
      "cell_type": "code",
      "metadata": {
        "colab_type": "code",
        "id": "V-D0VA1yRBcW",
        "colab": {}
      },
      "source": [
        "mass_j6 = pd.merge(mass_j5, mass6, on='Date')\n",
        "mass_j6"
      ],
      "execution_count": null,
      "outputs": []
    },
    {
      "cell_type": "markdown",
      "metadata": {
        "id": "sL52vlKlS-nc",
        "colab_type": "text"
      },
      "source": [
        "# Maryland"
      ]
    },
    {
      "cell_type": "code",
      "metadata": {
        "id": "9qrKdWPWTCbw",
        "colab_type": "code",
        "colab": {}
      },
      "source": [
        ""
      ],
      "execution_count": null,
      "outputs": []
    },
    {
      "cell_type": "code",
      "metadata": {
        "colab_type": "code",
        "id": "0LkkBnqXTEWC",
        "colab": {}
      },
      "source": [
        ""
      ],
      "execution_count": null,
      "outputs": []
    },
    {
      "cell_type": "code",
      "metadata": {
        "colab_type": "code",
        "id": "MqhUQo7LTEWF",
        "colab": {}
      },
      "source": [
        "#All Employees, In Thousands; Total Government Providing -Rhode Island \n",
        "mary_gov = quandl.get(\"BLSE/SMU24000009000000001\", start_date=\"2000-01-01\", end_date=\"2020-08-01\")\n",
        "mary_gov.columns= ['Total Government Value']"
      ],
      "execution_count": null,
      "outputs": []
    },
    {
      "cell_type": "code",
      "metadata": {
        "colab_type": "code",
        "id": "TN2o_qzrTEWI",
        "colab": {}
      },
      "source": [
        "#All Employees, In Thousands; Total Nonfarm Providing -Rhode Island\n",
        "mary_nonfarm = quandl.get(\"BLSE/SMU24000000000000001\", start_date=\"2000-01-01\", end_date=\"2020-08-01\")\n",
        "mary_nonfarm.columns= ['Total Nonfarm Provided Value']"
      ],
      "execution_count": null,
      "outputs": []
    },
    {
      "cell_type": "code",
      "metadata": {
        "colab_type": "code",
        "id": "24v-pHBBTEWK",
        "colab": {}
      },
      "source": [
        "#All Employees, In Thousands; Total Private Providing -South Carolina\n",
        "mary_priv = quandl.get(\"BLSE/SMU24000000500000001\", start_date=\"2000-01-01\", end_date=\"2020-08-01\")\n",
        "mary_priv.columns= ['Total Private Industry Value']"
      ],
      "execution_count": null,
      "outputs": []
    },
    {
      "cell_type": "code",
      "metadata": {
        "colab_type": "code",
        "id": "2H9LOUmwTEWM",
        "colab": {}
      },
      "source": [
        "#All Employees, In Thousands; Total Goods Producing Providing -South Carolina\n",
        "mary_goods = quandl.get(\"BLSE/SMU24000000600000001\", start_date=\"2000-01-01\", end_date=\"2020-08-01\")\n",
        "mary_goods.columns= ['Total Goods Produced Value']"
      ],
      "execution_count": null,
      "outputs": []
    },
    {
      "cell_type": "code",
      "metadata": {
        "colab_type": "code",
        "id": "VEIbryfaTEWU",
        "colab": {}
      },
      "source": [
        "#All Employees, In Thousands; Total Service Providing -South Carolina\n",
        "mary_serv = quandl.get(\"BLSE/SMU24000000700000001\", start_date=\"2000-01-01\", end_date=\"2020-08-01\")\n",
        "mary_serv.columns= ['Total Service Provided Value']"
      ],
      "execution_count": null,
      "outputs": []
    },
    {
      "cell_type": "code",
      "metadata": {
        "colab_type": "code",
        "id": "KfEm6aGPTEWZ",
        "colab": {}
      },
      "source": [
        "#All Employees, In Thousands; Total Manufacture Providing -South Carolina\n",
        "mary_manu = quandl.get(\"BLSE/SMU24000003000000001\", start_date=\"2000-01-01\", end_date=\"2020-08-01\")\n",
        "mary_manu.columns= ['Total Manufacture Value']"
      ],
      "execution_count": null,
      "outputs": []
    },
    {
      "cell_type": "code",
      "metadata": {
        "colab_type": "code",
        "id": "RB0Mvlr7TEWb",
        "colab": {}
      },
      "source": [
        "#All Employees, In Thousands; Total Durable Goods Providing -South Carolina\n",
        "mary_durable = quandl.get(\"BLSE/SMU24000003000000001\", start_date=\"2000-01-01\", end_date=\"2020-08-01\")\n",
        "mary_durable.columns= ['Total Durable Goods Value']"
      ],
      "execution_count": null,
      "outputs": []
    },
    {
      "cell_type": "code",
      "metadata": {
        "colab_type": "code",
        "id": "SmXVVx3jTEWe",
        "colab": {}
      },
      "source": [
        "#All Employees, In Thousands; Total Wholesale Trade Providing -South Carolina\n",
        "mary_wholesale = quandl.get(\"BLSE/SMU24000004100000001\", start_date=\"2000-01-01\", end_date=\"2020-08-01\")\n",
        "mary_wholesale.columns= ['Wholesale Trade Value']"
      ],
      "execution_count": null,
      "outputs": []
    },
    {
      "cell_type": "code",
      "metadata": {
        "colab_type": "code",
        "id": "Yc02EQNUTEWh",
        "colab": {}
      },
      "source": [
        "#All Employees, In Thousands; Total Transportation & Utilities Providing -South Carolina\n",
        "mary_transutil = quandl.get(\"BLSE/SMU24000004300000001\", start_date=\"2000-01-01\", end_date=\"2020-08-01\")\n",
        "mary_transutil.columns= ['Total Transportation & Utilities Value']"
      ],
      "execution_count": null,
      "outputs": []
    },
    {
      "cell_type": "code",
      "metadata": {
        "colab_type": "code",
        "id": "r2kppjvcTEWn",
        "colab": {}
      },
      "source": [
        "#All Employees, In Thousands; Total Truck Transportation Providing -South Carolina\n",
        "mary_truck = quandl.get(\"BLSE/SMU24000004348400001\", start_date=\"2000-01-01\", end_date=\"2020-08-01\")\n",
        "mary_truck.columns= ['Total Truck Transportation Provided Value']"
      ],
      "execution_count": null,
      "outputs": []
    },
    {
      "cell_type": "code",
      "metadata": {
        "colab_type": "code",
        "id": "_tEKCv2TTEWs",
        "colab": {}
      },
      "source": [
        "#All Employees, In Thousands; Total Telecommunications Transportation Providing -South Carolina\n",
        "mary_telecom = quandl.get(\"BLSE/SMU24000005051700001\", start_date=\"2000-01-01\", end_date=\"2020-08-01\")\n",
        "mary_telecom.columns= ['Total Telecommunication Value']"
      ],
      "execution_count": null,
      "outputs": []
    },
    {
      "cell_type": "code",
      "metadata": {
        "colab_type": "code",
        "id": "PW4G4dzmTEW7",
        "colab": {}
      },
      "source": [
        "mary4 = pd.merge(mary_truck, mary_telecom, on='Date')"
      ],
      "execution_count": null,
      "outputs": []
    },
    {
      "cell_type": "code",
      "metadata": {
        "colab_type": "code",
        "id": "i1NGh3GCTEXD",
        "colab": {}
      },
      "source": [
        "mary3 = pd.merge(mary_wholesale, mary_transutil, on='Date')"
      ],
      "execution_count": null,
      "outputs": []
    },
    {
      "cell_type": "code",
      "metadata": {
        "colab_type": "code",
        "id": "hRZ_jq_2TEXK",
        "colab": {}
      },
      "source": [
        "mary2 = pd.merge(mary_manu, mary_durable, on='Date')"
      ],
      "execution_count": null,
      "outputs": []
    },
    {
      "cell_type": "code",
      "metadata": {
        "colab_type": "code",
        "id": "_t-YNt01TEXQ",
        "colab": {}
      },
      "source": [
        "mary1 = pd.merge(mary_priv, mary_goods, on='Date')"
      ],
      "execution_count": null,
      "outputs": []
    },
    {
      "cell_type": "code",
      "metadata": {
        "colab_type": "code",
        "id": "taBRwXUETEXT",
        "colab": {}
      },
      "source": [
        "mary = pd.merge(mary_gov, mary_nonfarm, on='Date')"
      ],
      "execution_count": null,
      "outputs": []
    },
    {
      "cell_type": "code",
      "metadata": {
        "colab_type": "code",
        "id": "ChT2jYMJTEXW",
        "colab": {}
      },
      "source": [
        "mary_j1 = pd.merge(mary, mary1, on='Date')"
      ],
      "execution_count": null,
      "outputs": []
    },
    {
      "cell_type": "code",
      "metadata": {
        "colab_type": "code",
        "id": "weHFXO6LTEXY",
        "colab": {}
      },
      "source": [
        "mary_j2 = pd.merge(mary_j1, mary2, on='Date')"
      ],
      "execution_count": null,
      "outputs": []
    },
    {
      "cell_type": "code",
      "metadata": {
        "colab_type": "code",
        "id": "n5gGo86tTEXZ",
        "colab": {}
      },
      "source": [
        "mary_j3 = pd.merge(mary_j2, mary3, on='Date')"
      ],
      "execution_count": null,
      "outputs": []
    },
    {
      "cell_type": "code",
      "metadata": {
        "colab_type": "code",
        "id": "BE1PpZsMTEXd",
        "colab": {}
      },
      "source": [
        "mary_j4 = pd.merge(mary_j3, mary4, on='Date')"
      ],
      "execution_count": null,
      "outputs": []
    },
    {
      "cell_type": "code",
      "metadata": {
        "colab_type": "code",
        "id": "Llas2YAWTEXf",
        "colab": {}
      },
      "source": [
        "mary_j5 = pd.merge(mary_j4, mary_serv, on='Date')\n",
        "mary_j5"
      ],
      "execution_count": null,
      "outputs": []
    },
    {
      "cell_type": "markdown",
      "metadata": {
        "id": "HBB4WXXrV3I3",
        "colab_type": "text"
      },
      "source": [
        "Maine"
      ]
    },
    {
      "cell_type": "code",
      "metadata": {
        "id": "9TCuTRnoV6-B",
        "colab_type": "code",
        "colab": {}
      },
      "source": [
        ""
      ],
      "execution_count": null,
      "outputs": []
    },
    {
      "cell_type": "code",
      "metadata": {
        "colab_type": "code",
        "id": "aLVcr70QV7mr",
        "colab": {}
      },
      "source": [
        "#All Employees, In Thousands; Total Government Providing -Rhode Island \n",
        "main_gov = quandl.get(\"BLSE/SMU23000009000000001\", start_date=\"2000-01-01\", end_date=\"2020-08-01\")\n",
        "main_gov.columns= ['Total Government Value']"
      ],
      "execution_count": null,
      "outputs": []
    },
    {
      "cell_type": "code",
      "metadata": {
        "colab_type": "code",
        "id": "oVWy1JTFV7mt",
        "colab": {}
      },
      "source": [
        "#All Employees, In Thousands; Total Nonfarm Providing -Rhode Island\n",
        "main_nonfarm = quandl.get(\"BLSE/SMU23000000000000001\", start_date=\"2000-01-01\", end_date=\"2020-08-01\")\n",
        "main_nonfarm.columns= ['Total Nonfarm Provided Value']"
      ],
      "execution_count": null,
      "outputs": []
    },
    {
      "cell_type": "code",
      "metadata": {
        "colab_type": "code",
        "id": "cKmvOHYFV7my",
        "colab": {}
      },
      "source": [
        "#All Employees, In Thousands; Total Private Providing -South Carolina\n",
        "main_priv = quandl.get(\"BLSE/SMU23000000500000001\", start_date=\"2000-01-01\", end_date=\"2020-08-01\")\n",
        "main_priv.columns= ['Total Private Industry Value']"
      ],
      "execution_count": null,
      "outputs": []
    },
    {
      "cell_type": "code",
      "metadata": {
        "colab_type": "code",
        "id": "Bh390dsJV7m5",
        "colab": {}
      },
      "source": [
        "#All Employees, In Thousands; Total Goods Producing Providing -South Carolina\n",
        "main_goods = quandl.get(\"BLSE/SMU23000000600000001\", start_date=\"2000-01-01\", end_date=\"2020-08-01\")\n",
        "main_goods.columns= ['Total Goods Produced Value']"
      ],
      "execution_count": null,
      "outputs": []
    },
    {
      "cell_type": "code",
      "metadata": {
        "colab_type": "code",
        "id": "Nr3V2y7CV7m6",
        "colab": {}
      },
      "source": [
        "#All Employees, In Thousands; Total Service Providing -South Carolina\n",
        "main_serv = quandl.get(\"BLSE/SMU23000000700000001\", start_date=\"2000-01-01\", end_date=\"2020-08-01\")\n",
        "main_serv.columns= ['Total Service Provided Value']"
      ],
      "execution_count": null,
      "outputs": []
    },
    {
      "cell_type": "code",
      "metadata": {
        "colab_type": "code",
        "id": "o9A2X1CJV7m9",
        "colab": {}
      },
      "source": [
        "#All Employees, In Thousands; Total Mining & Logging Providing -South Carolina\n",
        "main_mine = quandl.get(\"BLSE/SMU23000001000000001\", start_date=\"2000-01-01\", end_date=\"2020-08-01\")\n",
        "main_mine.columns= ['Total Mining & Logging Value']"
      ],
      "execution_count": null,
      "outputs": []
    },
    {
      "cell_type": "code",
      "metadata": {
        "colab_type": "code",
        "id": "TZN-8h16V7m_",
        "colab": {}
      },
      "source": [
        "#All Employees, In Thousands; Total Manufacture Providing -South Carolina\n",
        "main_manu = quandl.get(\"BLSE/SMU23000003000000001\", start_date=\"2000-01-01\", end_date=\"2020-08-01\")\n",
        "main_manu.columns= ['Total Manufacture Value']"
      ],
      "execution_count": null,
      "outputs": []
    },
    {
      "cell_type": "code",
      "metadata": {
        "colab_type": "code",
        "id": "N8-GG_AJV7nC",
        "colab": {}
      },
      "source": [
        "#All Employees, In Thousands; Total Durable Goods Providing -South Carolina\n",
        "main_durable = quandl.get(\"BLSE/SMU23000003000000001\", start_date=\"2000-01-01\", end_date=\"2020-08-01\")\n",
        "main_durable.columns= ['Total Durable Goods Value']"
      ],
      "execution_count": null,
      "outputs": []
    },
    {
      "cell_type": "code",
      "metadata": {
        "colab_type": "code",
        "id": "b950wQISV7nD",
        "colab": {}
      },
      "source": [
        "#All Employees, In Thousands; Total Wholesale Trade Providing -South Carolina\n",
        "main_wholesale = quandl.get(\"BLSE/SMU23000004100000001\", start_date=\"2000-01-01\", end_date=\"2020-08-01\")\n",
        "main_wholesale.columns= ['Wholesale Trade Value']"
      ],
      "execution_count": null,
      "outputs": []
    },
    {
      "cell_type": "code",
      "metadata": {
        "colab_type": "code",
        "id": "9jnnRYbeV7nF",
        "colab": {}
      },
      "source": [
        "#All Employees, In Thousands; Total Transportation & Utilities Providing -South Carolina\n",
        "main_transutil = quandl.get(\"BLSE/SMU23000004300000001\", start_date=\"2000-01-01\", end_date=\"2020-08-01\")\n",
        "main_transutil.columns= ['Total Transportation & Utilities Value']"
      ],
      "execution_count": null,
      "outputs": []
    },
    {
      "cell_type": "code",
      "metadata": {
        "colab_type": "code",
        "id": "BvZny-D3V7nW",
        "colab": {}
      },
      "source": [
        "main4 = pd.merge(main_wholesale, main_transutil, on='Date')"
      ],
      "execution_count": null,
      "outputs": []
    },
    {
      "cell_type": "code",
      "metadata": {
        "colab_type": "code",
        "id": "XoWIPEilV7nb",
        "colab": {}
      },
      "source": [
        "main3 = pd.merge(main_manu, main_durable, on='Date')"
      ],
      "execution_count": null,
      "outputs": []
    },
    {
      "cell_type": "code",
      "metadata": {
        "colab_type": "code",
        "id": "SAWuUy4MV7ng",
        "colab": {}
      },
      "source": [
        "main2 = pd.merge(main_serv, main_mine, on='Date')"
      ],
      "execution_count": null,
      "outputs": []
    },
    {
      "cell_type": "code",
      "metadata": {
        "colab_type": "code",
        "id": "crB-Pf7sV7nl",
        "colab": {}
      },
      "source": [
        "main1 = pd.merge(main_priv, main_goods, on='Date')"
      ],
      "execution_count": null,
      "outputs": []
    },
    {
      "cell_type": "code",
      "metadata": {
        "colab_type": "code",
        "id": "gi2cEm3DV7nn",
        "colab": {}
      },
      "source": [
        "main = pd.merge(main_gov, main_nonfarm, on='Date')"
      ],
      "execution_count": null,
      "outputs": []
    },
    {
      "cell_type": "code",
      "metadata": {
        "colab_type": "code",
        "id": "SfHuohvuV7nq",
        "colab": {}
      },
      "source": [
        "main_j1 = pd.merge(main, main1, on='Date')"
      ],
      "execution_count": null,
      "outputs": []
    },
    {
      "cell_type": "code",
      "metadata": {
        "colab_type": "code",
        "id": "okqM2liHV7nt",
        "colab": {}
      },
      "source": [
        "main_j2 = pd.merge(main_j1, main2, on='Date')"
      ],
      "execution_count": null,
      "outputs": []
    },
    {
      "cell_type": "code",
      "metadata": {
        "colab_type": "code",
        "id": "YPecBkfwV7nx",
        "colab": {}
      },
      "source": [
        "main_j3 = pd.merge(main_j2, main3, on='Date')"
      ],
      "execution_count": null,
      "outputs": []
    },
    {
      "cell_type": "code",
      "metadata": {
        "colab_type": "code",
        "id": "b5JcEwjIV7n3",
        "colab": {}
      },
      "source": [
        "main_j4 = pd.merge(main_j3, main4, on='Date')\n",
        "main_j4"
      ],
      "execution_count": null,
      "outputs": []
    },
    {
      "cell_type": "markdown",
      "metadata": {
        "id": "KRVT_aDwZGJQ",
        "colab_type": "text"
      },
      "source": [
        "# Louisana"
      ]
    },
    {
      "cell_type": "code",
      "metadata": {
        "id": "2s191OM6ZbD3",
        "colab_type": "code",
        "colab": {}
      },
      "source": [
        ""
      ],
      "execution_count": null,
      "outputs": []
    },
    {
      "cell_type": "code",
      "metadata": {
        "colab_type": "code",
        "id": "oufREre9Zb4w",
        "colab": {}
      },
      "source": [
        ""
      ],
      "execution_count": null,
      "outputs": []
    },
    {
      "cell_type": "code",
      "metadata": {
        "colab_type": "code",
        "id": "qI5OcwpQZb4z",
        "colab": {}
      },
      "source": [
        "#All Employees, In Thousands; Total Government Providing -Rhode Island \n",
        "lou_gov = quandl.get(\"BLSE/SMU22000009000000001\", start_date=\"2000-01-01\", end_date=\"2020-08-01\")\n",
        "lou_gov.columns= ['Total Government Value']"
      ],
      "execution_count": null,
      "outputs": []
    },
    {
      "cell_type": "code",
      "metadata": {
        "colab_type": "code",
        "id": "IeFuph-MZb41",
        "colab": {}
      },
      "source": [
        "#All Employees, In Thousands; Total Nonfarm Providing -Rhode Island\n",
        "lou_nonfarm = quandl.get(\"BLSE/SMU22000000000000001\", start_date=\"2000-01-01\", end_date=\"2020-08-01\")\n",
        "lou_nonfarm.columns= ['Total Nonfarm Provided Value']"
      ],
      "execution_count": null,
      "outputs": []
    },
    {
      "cell_type": "code",
      "metadata": {
        "colab_type": "code",
        "id": "_uN1gbGCZb45",
        "colab": {}
      },
      "source": [
        "#All Employees, In Thousands; Total Private Providing -South Carolina\n",
        "lou_priv = quandl.get(\"BLSE/SMU22000000500000001\", start_date=\"2000-01-01\", end_date=\"2020-08-01\")\n",
        "lou_priv.columns= ['Total Private Industry Value']"
      ],
      "execution_count": null,
      "outputs": []
    },
    {
      "cell_type": "code",
      "metadata": {
        "colab_type": "code",
        "id": "rvLhpC9nZb47",
        "colab": {}
      },
      "source": [
        "#All Employees, In Thousands; Total Goods Producing Providing -South Carolina\n",
        "lou_goods = quandl.get(\"BLSE/SMU22000000600000001\", start_date=\"2000-01-01\", end_date=\"2020-08-01\")\n",
        "lou_goods.columns= ['Total Goods Produced Value']"
      ],
      "execution_count": null,
      "outputs": []
    },
    {
      "cell_type": "code",
      "metadata": {
        "colab_type": "code",
        "id": "YQ2uA54cZb49",
        "colab": {}
      },
      "source": [
        "#All Employees, In Thousands; Total Service Providing -South Carolina\n",
        "lou_serv = quandl.get(\"BLSE/SMU22000000700000001\", start_date=\"2000-01-01\", end_date=\"2020-08-01\")\n",
        "lou_serv.columns= ['Total Service Provided Value']"
      ],
      "execution_count": null,
      "outputs": []
    },
    {
      "cell_type": "code",
      "metadata": {
        "colab_type": "code",
        "id": "9of8cxP1Zb4_",
        "colab": {}
      },
      "source": [
        "#All Employees, In Thousands; Total Mining & Logging Providing -South Carolina\n",
        "lou_mine = quandl.get(\"BLSE/SMU22000001000000001\", start_date=\"2000-01-01\", end_date=\"2020-08-01\")\n",
        "lou_mine.columns= ['Total Mining & Logging Value']"
      ],
      "execution_count": null,
      "outputs": []
    },
    {
      "cell_type": "code",
      "metadata": {
        "colab_type": "code",
        "id": "QJu5DyC_Zb5B",
        "colab": {}
      },
      "source": [
        "#All Employees, In Thousands; Total Manufacture Providing -South Carolina\n",
        "lou_manu = quandl.get(\"BLSE/SMU22000003000000001\", start_date=\"2000-01-01\", end_date=\"2020-08-01\")\n",
        "lou_manu.columns= ['Total Manufacture Value']"
      ],
      "execution_count": null,
      "outputs": []
    },
    {
      "cell_type": "code",
      "metadata": {
        "colab_type": "code",
        "id": "mtGyWWYsZb5D",
        "colab": {}
      },
      "source": [
        "#All Employees, In Thousands; Total Durable Goods Providing -South Carolina\n",
        "lou_durable = quandl.get(\"BLSE/SMU22000003000000001\", start_date=\"2000-01-01\", end_date=\"2020-08-01\")\n",
        "lou_durable.columns= ['Total Durable Goods Value']"
      ],
      "execution_count": null,
      "outputs": []
    },
    {
      "cell_type": "code",
      "metadata": {
        "colab_type": "code",
        "id": "EXGoWHrbZb5H",
        "colab": {}
      },
      "source": [
        "#All Employees, In Thousands; Total Wholesale Trade Providing -South Carolina\n",
        "lou_wholesale = quandl.get(\"BLSE/SMU22000004100000001\", start_date=\"2000-01-01\", end_date=\"2020-08-01\")\n",
        "lou_wholesale.columns= ['Wholesale Trade Value']"
      ],
      "execution_count": null,
      "outputs": []
    },
    {
      "cell_type": "code",
      "metadata": {
        "colab_type": "code",
        "id": "PQSuyHJqZb5K",
        "colab": {}
      },
      "source": [
        "#All Employees, In Thousands; Total Transportation & Utilities Providing -South Carolina\n",
        "lou_transutil = quandl.get(\"BLSE/SMU22000004300000001\", start_date=\"2000-01-01\", end_date=\"2020-08-01\")\n",
        "lou_transutil.columns= ['Total Transportation & Utilities Value']"
      ],
      "execution_count": null,
      "outputs": []
    },
    {
      "cell_type": "code",
      "metadata": {
        "colab_type": "code",
        "id": "LW3rYNMwZb5M",
        "colab": {}
      },
      "source": [
        "#All Employees, In Thousands; Total Truck Transportation Providing -South Carolina\n",
        "lou_truck = quandl.get(\"BLSE/SMU22000004348400001\", start_date=\"2000-01-01\", end_date=\"2020-08-01\")\n",
        "lou_truck.columns= ['Total Truck Transportation Provided Value']"
      ],
      "execution_count": null,
      "outputs": []
    },
    {
      "cell_type": "code",
      "metadata": {
        "colab_type": "code",
        "id": "DoKxIGNFZb5P",
        "colab": {}
      },
      "source": [
        "#All Employees, In Thousands; Total Telecommunications Transportation Providing -South Carolina\n",
        "lou_telecom = quandl.get(\"BLSE/SMU22000005051700001\", start_date=\"2000-01-01\", end_date=\"2020-08-01\")\n",
        "lou_telecom.columns= ['Total Telecommunication Value']"
      ],
      "execution_count": null,
      "outputs": []
    },
    {
      "cell_type": "code",
      "metadata": {
        "colab_type": "code",
        "id": "GaOPJhPbZb5e",
        "colab": {}
      },
      "source": [
        "lou5 = pd.merge(lou_truck, lou_telecom, on='Date')"
      ],
      "execution_count": null,
      "outputs": []
    },
    {
      "cell_type": "code",
      "metadata": {
        "colab_type": "code",
        "id": "nWjDVHi4Zb5h",
        "colab": {}
      },
      "source": [
        "lou4 = pd.merge(lou_wholesale, lou_transutil, on='Date')"
      ],
      "execution_count": null,
      "outputs": []
    },
    {
      "cell_type": "code",
      "metadata": {
        "colab_type": "code",
        "id": "Z6geN1-9Zb5j",
        "colab": {}
      },
      "source": [
        "lou3 = pd.merge(lou_manu, lou_durable, on='Date')"
      ],
      "execution_count": null,
      "outputs": []
    },
    {
      "cell_type": "code",
      "metadata": {
        "colab_type": "code",
        "id": "fEqwMGrOZb5m",
        "colab": {}
      },
      "source": [
        "lou2 = pd.merge(lou_serv, lou_mine, on='Date')"
      ],
      "execution_count": null,
      "outputs": []
    },
    {
      "cell_type": "code",
      "metadata": {
        "colab_type": "code",
        "id": "52ENzJzUZb5o",
        "colab": {}
      },
      "source": [
        "lou1 = pd.merge(lou_priv, lou_goods, on='Date')"
      ],
      "execution_count": null,
      "outputs": []
    },
    {
      "cell_type": "code",
      "metadata": {
        "colab_type": "code",
        "id": "81y_l_M5Zb5r",
        "colab": {}
      },
      "source": [
        "lou = pd.merge(lou_gov, lou_nonfarm, on='Date')"
      ],
      "execution_count": null,
      "outputs": []
    },
    {
      "cell_type": "code",
      "metadata": {
        "colab_type": "code",
        "id": "wJfo3w6hZb5v",
        "colab": {}
      },
      "source": [
        "lou_j1 = pd.merge(lou, lou1, on='Date')"
      ],
      "execution_count": null,
      "outputs": []
    },
    {
      "cell_type": "code",
      "metadata": {
        "colab_type": "code",
        "id": "0KwWGI1ZZb5z",
        "colab": {}
      },
      "source": [
        "lou_j2 = pd.merge(lou_j1, lou2, on='Date')"
      ],
      "execution_count": null,
      "outputs": []
    },
    {
      "cell_type": "code",
      "metadata": {
        "colab_type": "code",
        "id": "JxTG5l_eZb53",
        "colab": {}
      },
      "source": [
        "lou_j3 = pd.merge(lou_j2, lou3, on='Date')"
      ],
      "execution_count": null,
      "outputs": []
    },
    {
      "cell_type": "code",
      "metadata": {
        "colab_type": "code",
        "id": "pfDuL9T6Zb57",
        "colab": {}
      },
      "source": [
        "lou_j4 = pd.merge(lou_j3, lou4, on='Date')"
      ],
      "execution_count": null,
      "outputs": []
    },
    {
      "cell_type": "code",
      "metadata": {
        "colab_type": "code",
        "id": "8x7nZGYLZb5-",
        "colab": {}
      },
      "source": [
        "lou_j5 = pd.merge(lou_j4, lou5, on='Date')\n",
        "lou_j5"
      ],
      "execution_count": null,
      "outputs": []
    },
    {
      "cell_type": "markdown",
      "metadata": {
        "id": "ABnh-eoDc2el",
        "colab_type": "text"
      },
      "source": [
        "# Kentucky"
      ]
    },
    {
      "cell_type": "code",
      "metadata": {
        "id": "5lNj8cHYc6HQ",
        "colab_type": "code",
        "colab": {}
      },
      "source": [
        ""
      ],
      "execution_count": null,
      "outputs": []
    },
    {
      "cell_type": "code",
      "metadata": {
        "colab_type": "code",
        "id": "u4rMjoK-c7WB",
        "colab": {}
      },
      "source": [
        "#All Employees, In Thousands; Total Government Providing -Rhode Island \n",
        "ken_gov = quandl.get(\"BLSE/SMU21000009000000001\", start_date=\"2000-01-01\", end_date=\"2020-08-01\")\n",
        "ken_gov.columns= ['Total Government Value']"
      ],
      "execution_count": null,
      "outputs": []
    },
    {
      "cell_type": "code",
      "metadata": {
        "colab_type": "code",
        "id": "GtUNgkS0c7WD",
        "colab": {}
      },
      "source": [
        "#All Employees, In Thousands; Total Nonfarm Providing -Rhode Island\n",
        "ken_nonfarm = quandl.get(\"BLSE/SMU21000000000000001\", start_date=\"2000-01-01\", end_date=\"2020-08-01\")\n",
        "ken_nonfarm.columns= ['Total Nonfarm Provided Value']"
      ],
      "execution_count": null,
      "outputs": []
    },
    {
      "cell_type": "code",
      "metadata": {
        "colab_type": "code",
        "id": "olKYqhNxc7WF",
        "colab": {}
      },
      "source": [
        "#All Employees, In Thousands; Total Private Providing -South Carolina\n",
        "ken_priv = quandl.get(\"BLSE/SMU21000000500000001\", start_date=\"2000-01-01\", end_date=\"2020-08-01\")\n",
        "ken_priv.columns= ['Total Private Industry Value']"
      ],
      "execution_count": null,
      "outputs": []
    },
    {
      "cell_type": "code",
      "metadata": {
        "colab_type": "code",
        "id": "o4MnyHbDc7WH",
        "colab": {}
      },
      "source": [
        "#All Employees, In Thousands; Total Goods Producing Providing -South Carolina\n",
        "ken_goods = quandl.get(\"BLSE/SMU21000000600000001\", start_date=\"2000-01-01\", end_date=\"2020-08-01\")\n",
        "ken_goods.columns= ['Total Goods Produced Value']"
      ],
      "execution_count": null,
      "outputs": []
    },
    {
      "cell_type": "code",
      "metadata": {
        "colab_type": "code",
        "id": "RA341dM7c7WK",
        "colab": {}
      },
      "source": [
        "#All Employees, In Thousands; Total Service Providing -South Carolina\n",
        "ken_serv = quandl.get(\"BLSE/SMU21000000700000001\", start_date=\"2000-01-01\", end_date=\"2020-08-01\")\n",
        "ken_serv.columns= ['Total Service Provided Value']"
      ],
      "execution_count": null,
      "outputs": []
    },
    {
      "cell_type": "code",
      "metadata": {
        "colab_type": "code",
        "id": "dFq7Go-cc7WO",
        "colab": {}
      },
      "source": [
        "#All Employees, In Thousands; Total Mining & Logging Providing -South Carolina\n",
        "ken_mine = quandl.get(\"BLSE/SMU21000001000000001\", start_date=\"2000-01-01\", end_date=\"2020-08-01\")\n",
        "ken_mine.columns= ['Total Mining & Logging Value']"
      ],
      "execution_count": null,
      "outputs": []
    },
    {
      "cell_type": "code",
      "metadata": {
        "colab_type": "code",
        "id": "PJ1X3sqUc7WR",
        "colab": {}
      },
      "source": [
        "#All Employees, In Thousands; Total Manufacture Providing -South Carolina\n",
        "ken_manu = quandl.get(\"BLSE/SMU21000003000000001\", start_date=\"2000-01-01\", end_date=\"2020-08-01\")\n",
        "ken_manu.columns= ['Total Manufacture Value']"
      ],
      "execution_count": null,
      "outputs": []
    },
    {
      "cell_type": "code",
      "metadata": {
        "colab_type": "code",
        "id": "IfKhCGosc7WU",
        "colab": {}
      },
      "source": [
        "#All Employees, In Thousands; Total Durable Goods Providing -South Carolina\n",
        "ken_durable = quandl.get(\"BLSE/SMU21000003000000001\", start_date=\"2000-01-01\", end_date=\"2020-08-01\")\n",
        "ken_durable.columns= ['Total Durable Goods Value']"
      ],
      "execution_count": null,
      "outputs": []
    },
    {
      "cell_type": "code",
      "metadata": {
        "colab_type": "code",
        "id": "cKgUsyw0c7WW",
        "colab": {}
      },
      "source": [
        "#All Employees, In Thousands; Total Wholesale Trade Providing -South Carolina\n",
        "ken_wholesale = quandl.get(\"BLSE/SMU21000004100000001\", start_date=\"2000-01-01\", end_date=\"2020-08-01\")\n",
        "ken_wholesale.columns= ['Wholesale Trade Value']"
      ],
      "execution_count": null,
      "outputs": []
    },
    {
      "cell_type": "code",
      "metadata": {
        "colab_type": "code",
        "id": "X5dE_CZec7WY",
        "colab": {}
      },
      "source": [
        "#All Employees, In Thousands; Total Transportation & Utilities Providing -South Carolina\n",
        "ken_transutil = quandl.get(\"BLSE/SMU21000004300000001\", start_date=\"2000-01-01\", end_date=\"2020-08-01\")\n",
        "ken_transutil.columns= ['Total Transportation & Utilities Value']"
      ],
      "execution_count": null,
      "outputs": []
    },
    {
      "cell_type": "code",
      "metadata": {
        "colab_type": "code",
        "id": "n3viS4YSc7WZ",
        "colab": {}
      },
      "source": [
        "#All Employees, In Thousands; Total Truck Transportation Providing -South Carolina\n",
        "ken_truck = quandl.get(\"BLSE/SMU21000004348400001\", start_date=\"2000-01-01\", end_date=\"2020-08-01\")\n",
        "ken_truck.columns= ['Total Truck Transportation Provided Value']"
      ],
      "execution_count": null,
      "outputs": []
    },
    {
      "cell_type": "code",
      "metadata": {
        "colab_type": "code",
        "id": "Nmmr1mBBc7Wd",
        "colab": {}
      },
      "source": [
        "#All Employees, In Thousands; Total Telecommunications Transportation Providing -South Carolina\n",
        "ken_telecom = quandl.get(\"BLSE/SMU21000005051700001\", start_date=\"2000-01-01\", end_date=\"2020-08-01\")\n",
        "ken_telecom.columns= ['Total Telecommunication Value']"
      ],
      "execution_count": null,
      "outputs": []
    },
    {
      "cell_type": "code",
      "metadata": {
        "colab_type": "code",
        "id": "XgZgXS9Zc7Ws",
        "colab": {}
      },
      "source": [
        "ken5 = pd.merge(ken_truck, ken_telecom, on='Date')"
      ],
      "execution_count": null,
      "outputs": []
    },
    {
      "cell_type": "code",
      "metadata": {
        "colab_type": "code",
        "id": "HyyEkizac7Wt",
        "colab": {}
      },
      "source": [
        "ken4 = pd.merge(ken_wholesale, ken_transutil, on='Date')"
      ],
      "execution_count": null,
      "outputs": []
    },
    {
      "cell_type": "code",
      "metadata": {
        "colab_type": "code",
        "id": "vNZlUJfOc7Wv",
        "colab": {}
      },
      "source": [
        "ken3 = pd.merge(ken_manu, ken_durable, on='Date')"
      ],
      "execution_count": null,
      "outputs": []
    },
    {
      "cell_type": "code",
      "metadata": {
        "colab_type": "code",
        "id": "hnkoxGqDc7Wx",
        "colab": {}
      },
      "source": [
        "ken2 = pd.merge(ken_serv, ken_mine, on='Date')"
      ],
      "execution_count": null,
      "outputs": []
    },
    {
      "cell_type": "code",
      "metadata": {
        "colab_type": "code",
        "id": "L_iPLanMc7Wz",
        "colab": {}
      },
      "source": [
        "ken1 = pd.merge(ken_priv, ken_goods, on='Date')"
      ],
      "execution_count": null,
      "outputs": []
    },
    {
      "cell_type": "code",
      "metadata": {
        "colab_type": "code",
        "id": "FPb_y8XJc7W2",
        "colab": {}
      },
      "source": [
        "ken = pd.merge(ken_gov, ken_nonfarm, on='Date')"
      ],
      "execution_count": null,
      "outputs": []
    },
    {
      "cell_type": "code",
      "metadata": {
        "colab_type": "code",
        "id": "IPYNTc0Uc7W5",
        "colab": {}
      },
      "source": [
        "ken_j1 = pd.merge(ken, ken1, on='Date')"
      ],
      "execution_count": null,
      "outputs": []
    },
    {
      "cell_type": "code",
      "metadata": {
        "colab_type": "code",
        "id": "71TsJqJtc7W8",
        "colab": {}
      },
      "source": [
        "ken_j2 = pd.merge(ken_j1, ken2, on='Date')"
      ],
      "execution_count": null,
      "outputs": []
    },
    {
      "cell_type": "code",
      "metadata": {
        "colab_type": "code",
        "id": "xw0-1SdKc7W_",
        "colab": {}
      },
      "source": [
        "ken_j3 = pd.merge(ken_j2, ken3, on='Date')"
      ],
      "execution_count": null,
      "outputs": []
    },
    {
      "cell_type": "code",
      "metadata": {
        "colab_type": "code",
        "id": "8ssd9SwUc7XA",
        "colab": {}
      },
      "source": [
        "ken_j4 = pd.merge(ken_j3, ken4, on='Date')"
      ],
      "execution_count": null,
      "outputs": []
    },
    {
      "cell_type": "code",
      "metadata": {
        "colab_type": "code",
        "id": "5JbZNg3kc7XC",
        "colab": {}
      },
      "source": [
        "ken_j5 = pd.merge(ken_j4, ken5, on='Date')\n",
        "ken_j5"
      ],
      "execution_count": null,
      "outputs": []
    },
    {
      "cell_type": "markdown",
      "metadata": {
        "id": "yagiF4BtewsN",
        "colab_type": "text"
      },
      "source": [
        "# Kansas"
      ]
    },
    {
      "cell_type": "code",
      "metadata": {
        "id": "xOQfU0uGe40o",
        "colab_type": "code",
        "colab": {}
      },
      "source": [
        ""
      ],
      "execution_count": null,
      "outputs": []
    },
    {
      "cell_type": "code",
      "metadata": {
        "colab_type": "code",
        "id": "DnPbx5Gee5mO",
        "colab": {}
      },
      "source": [
        "#All Employees, In Thousands; Total Government Providing -Rhode Island \n",
        "kan_gov = quandl.get(\"BLSE/SMU20000009000000001\", start_date=\"2000-01-01\", end_date=\"2020-08-01\")\n",
        "kan_gov.columns= ['Total Government Value']"
      ],
      "execution_count": null,
      "outputs": []
    },
    {
      "cell_type": "code",
      "metadata": {
        "colab_type": "code",
        "id": "6BERZik9e5mW",
        "colab": {}
      },
      "source": [
        "#All Employees, In Thousands; Total Nonfarm Providing -Rhode Island\n",
        "kan_nonfarm = quandl.get(\"BLSE/SMU20000000000000001\", start_date=\"2000-01-01\", end_date=\"2020-08-01\")\n",
        "kan_nonfarm.columns= ['Total Nonfarm Provided Value']"
      ],
      "execution_count": null,
      "outputs": []
    },
    {
      "cell_type": "code",
      "metadata": {
        "colab_type": "code",
        "id": "3UmrWkQce5ma",
        "colab": {}
      },
      "source": [
        "#All Employees, In Thousands; Total Private Providing -South Carolina\n",
        "kan_priv = quandl.get(\"BLSE/SMU20000000500000001\", start_date=\"2000-01-01\", end_date=\"2020-08-01\")\n",
        "kan_priv.columns= ['Total Private Industry Value']"
      ],
      "execution_count": null,
      "outputs": []
    },
    {
      "cell_type": "code",
      "metadata": {
        "colab_type": "code",
        "id": "oO6eXsdDe5mf",
        "colab": {}
      },
      "source": [
        "#All Employees, In Thousands; Total Goods Producing Providing -South Carolina\n",
        "kan_goods = quandl.get(\"BLSE/SMU20000000600000001\", start_date=\"2000-01-01\", end_date=\"2020-08-01\")\n",
        "kan_goods.columns= ['Total Goods Produced Value']"
      ],
      "execution_count": null,
      "outputs": []
    },
    {
      "cell_type": "code",
      "metadata": {
        "colab_type": "code",
        "id": "ZqszUhywe5mk",
        "colab": {}
      },
      "source": [
        "#All Employees, In Thousands; Total Service Providing -South Carolina\n",
        "kan_serv = quandl.get(\"BLSE/SMU20000000700000001\", start_date=\"2000-01-01\", end_date=\"2020-08-01\")\n",
        "kan_serv.columns= ['Total Service Provided Value']"
      ],
      "execution_count": null,
      "outputs": []
    },
    {
      "cell_type": "code",
      "metadata": {
        "colab_type": "code",
        "id": "_Jv9JG9Re5mo",
        "colab": {}
      },
      "source": [
        "#All Employees, In Thousands; Total Mining & Logging Providing -South Carolina\n",
        "kan_mine = quandl.get(\"BLSE/SMU20000001000000001\", start_date=\"2000-01-01\", end_date=\"2020-08-01\")\n",
        "kan_mine.columns= ['Total Mining & Logging Value']"
      ],
      "execution_count": null,
      "outputs": []
    },
    {
      "cell_type": "code",
      "metadata": {
        "colab_type": "code",
        "id": "FVesEpbwe5mq",
        "colab": {}
      },
      "source": [
        "#All Employees, In Thousands; Total Manufacture Providing -South Carolina\n",
        "kan_manu = quandl.get(\"BLSE/SMU20000003000000001\", start_date=\"2000-01-01\", end_date=\"2020-08-01\")\n",
        "kan_manu.columns= ['Total Manufacture Value']"
      ],
      "execution_count": null,
      "outputs": []
    },
    {
      "cell_type": "code",
      "metadata": {
        "colab_type": "code",
        "id": "xks2OyLme5mt",
        "colab": {}
      },
      "source": [
        "#All Employees, In Thousands; Total Durable Goods Providing -South Carolina\n",
        "kan_durable = quandl.get(\"BLSE/SMU20000003000000001\", start_date=\"2000-01-01\", end_date=\"2020-08-01\")\n",
        "kan_durable.columns= ['Total Durable Goods Value']"
      ],
      "execution_count": null,
      "outputs": []
    },
    {
      "cell_type": "code",
      "metadata": {
        "colab_type": "code",
        "id": "18D1Zuree5mx",
        "colab": {}
      },
      "source": [
        "#All Employees, In Thousands; Total Wholesale Trade Providing -South Carolina\n",
        "kan_wholesale = quandl.get(\"BLSE/SMU20000004100000001\", start_date=\"2000-01-01\", end_date=\"2020-08-01\")\n",
        "kan_wholesale.columns= ['Wholesale Trade Value']"
      ],
      "execution_count": null,
      "outputs": []
    },
    {
      "cell_type": "code",
      "metadata": {
        "colab_type": "code",
        "id": "Y1DwDH5Ne5m0",
        "colab": {}
      },
      "source": [
        "#All Employees, In Thousands; Total Transportation & Utilities Providing -South Carolina\n",
        "kan_transutil = quandl.get(\"BLSE/SMU20000004300000001\", start_date=\"2000-01-01\", end_date=\"2020-08-01\")\n",
        "kan_transutil.columns= ['Total Transportation & Utilities Value']"
      ],
      "execution_count": null,
      "outputs": []
    },
    {
      "cell_type": "code",
      "metadata": {
        "colab_type": "code",
        "id": "MMGvuNrie5m2",
        "colab": {}
      },
      "source": [
        "#All Employees, In Thousands; Total Truck Transportation Providing -South Carolina\n",
        "kan_truck = quandl.get(\"BLSE/SMU20000004348400001\", start_date=\"2000-01-01\", end_date=\"2020-08-01\")\n",
        "kan_truck.columns= ['Total Truck Transportation Provided Value']"
      ],
      "execution_count": null,
      "outputs": []
    },
    {
      "cell_type": "code",
      "metadata": {
        "colab_type": "code",
        "id": "ggSv9LQwe5m5",
        "colab": {}
      },
      "source": [
        "#All Employees, In Thousands; Total Telecommunications Transportation Providing -South Carolina\n",
        "kan_telecom = quandl.get(\"BLSE/SMU20000005051700001\", start_date=\"2000-01-01\", end_date=\"2020-08-01\")\n",
        "kan_telecom.columns= ['Total Telecommunication Value']"
      ],
      "execution_count": null,
      "outputs": []
    },
    {
      "cell_type": "code",
      "metadata": {
        "colab_type": "code",
        "id": "zxt8S_79e5nC",
        "colab": {}
      },
      "source": [
        "kan5 = pd.merge(kan_truck, kan_telecom, on='Date')"
      ],
      "execution_count": null,
      "outputs": []
    },
    {
      "cell_type": "code",
      "metadata": {
        "colab_type": "code",
        "id": "Tnzjm4ZZe5nE",
        "colab": {}
      },
      "source": [
        "kan4 = pd.merge(kan_wholesale, kan_transutil, on='Date')"
      ],
      "execution_count": null,
      "outputs": []
    },
    {
      "cell_type": "code",
      "metadata": {
        "colab_type": "code",
        "id": "-pdEhm5Ae5nG",
        "colab": {}
      },
      "source": [
        "kan3 = pd.merge(kan_manu, kan_durable, on='Date')"
      ],
      "execution_count": null,
      "outputs": []
    },
    {
      "cell_type": "code",
      "metadata": {
        "colab_type": "code",
        "id": "quqHoK4Je5nH",
        "colab": {}
      },
      "source": [
        "kan2 = pd.merge(kan_serv, kan_mine, on='Date')"
      ],
      "execution_count": null,
      "outputs": []
    },
    {
      "cell_type": "code",
      "metadata": {
        "colab_type": "code",
        "id": "k_2lDxFSe5nJ",
        "colab": {}
      },
      "source": [
        "kan1 = pd.merge(kan_priv, kan_goods, on='Date')"
      ],
      "execution_count": null,
      "outputs": []
    },
    {
      "cell_type": "code",
      "metadata": {
        "colab_type": "code",
        "id": "4pHCJI6Pe5nL",
        "colab": {}
      },
      "source": [
        "kan = pd.merge(kan_gov, kan_nonfarm, on='Date')"
      ],
      "execution_count": null,
      "outputs": []
    },
    {
      "cell_type": "code",
      "metadata": {
        "colab_type": "code",
        "id": "XLagdYc-e5nO",
        "colab": {}
      },
      "source": [
        "kan_j1 = pd.merge(kan, kan1, on='Date')"
      ],
      "execution_count": null,
      "outputs": []
    },
    {
      "cell_type": "code",
      "metadata": {
        "colab_type": "code",
        "id": "l3Byq05Xe5nQ",
        "colab": {}
      },
      "source": [
        "kan_j2 = pd.merge(kan_j1, kan2, on='Date')"
      ],
      "execution_count": null,
      "outputs": []
    },
    {
      "cell_type": "code",
      "metadata": {
        "colab_type": "code",
        "id": "dIKU_HW0e5nR",
        "colab": {}
      },
      "source": [
        "kan_j3 = pd.merge(kan_j2, kan3, on='Date')"
      ],
      "execution_count": null,
      "outputs": []
    },
    {
      "cell_type": "code",
      "metadata": {
        "colab_type": "code",
        "id": "qVvhvxr0e5nT",
        "colab": {}
      },
      "source": [
        "kan_j4 = pd.merge(kan_j3, kan4, on='Date')"
      ],
      "execution_count": null,
      "outputs": []
    },
    {
      "cell_type": "code",
      "metadata": {
        "colab_type": "code",
        "id": "CaKAvKXoe5nV",
        "colab": {}
      },
      "source": [
        "kan_j5 = pd.merge(kan_j4, kan5, on='Date')\n",
        "kan_j5"
      ],
      "execution_count": null,
      "outputs": []
    },
    {
      "cell_type": "markdown",
      "metadata": {
        "id": "UwI5mJjShKXi",
        "colab_type": "text"
      },
      "source": [
        "# Iowa"
      ]
    },
    {
      "cell_type": "code",
      "metadata": {
        "id": "VHcIv8s_hNkK",
        "colab_type": "code",
        "colab": {}
      },
      "source": [
        ""
      ],
      "execution_count": null,
      "outputs": []
    },
    {
      "cell_type": "code",
      "metadata": {
        "colab_type": "code",
        "id": "RgVStOb-hObK",
        "colab": {}
      },
      "source": [
        ""
      ],
      "execution_count": null,
      "outputs": []
    },
    {
      "cell_type": "code",
      "metadata": {
        "colab_type": "code",
        "id": "xA-RGDGvhObQ",
        "colab": {}
      },
      "source": [
        "#All Employees, In Thousands; Total Government Providing -Rhode Island \n",
        "iow_gov = quandl.get(\"BLSE/SMU19000009000000001\", start_date=\"2000-01-01\", end_date=\"2020-08-01\")\n",
        "iow_gov.columns= ['Total Government Value']"
      ],
      "execution_count": null,
      "outputs": []
    },
    {
      "cell_type": "code",
      "metadata": {
        "colab_type": "code",
        "id": "vao3d6ZEhObX",
        "colab": {}
      },
      "source": [
        "#All Employees, In Thousands; Total Nonfarm Providing -Rhode Island\n",
        "iow_nonfarm = quandl.get(\"BLSE/SMU19000000000000001\", start_date=\"2000-01-01\", end_date=\"2020-08-01\")\n",
        "iow_nonfarm.columns= ['Total Nonfarm Provided Value']"
      ],
      "execution_count": null,
      "outputs": []
    },
    {
      "cell_type": "code",
      "metadata": {
        "colab_type": "code",
        "id": "loe-opY6hObb",
        "colab": {}
      },
      "source": [
        "#All Employees, In Thousands; Total Private Providing -South Carolina\n",
        "iow_priv = quandl.get(\"BLSE/SMU19000000500000001\", start_date=\"2000-01-01\", end_date=\"2020-08-01\")\n",
        "iow_priv.columns= ['Total Private Industry Value']"
      ],
      "execution_count": null,
      "outputs": []
    },
    {
      "cell_type": "code",
      "metadata": {
        "colab_type": "code",
        "id": "tyaASUz7hObi",
        "colab": {}
      },
      "source": [
        "#All Employees, In Thousands; Total Goods Producing Providing -South Carolina\n",
        "iow_goods = quandl.get(\"BLSE/SMU19000000600000001\", start_date=\"2000-01-01\", end_date=\"2020-08-01\")\n",
        "iow_goods.columns= ['Total Goods Produced Value']"
      ],
      "execution_count": null,
      "outputs": []
    },
    {
      "cell_type": "code",
      "metadata": {
        "colab_type": "code",
        "id": "fJop6mkAhObp",
        "colab": {}
      },
      "source": [
        "#All Employees, In Thousands; Total Service Providing -South Carolina\n",
        "iow_serv = quandl.get(\"BLSE/SMU19000000700000001\", start_date=\"2000-01-01\", end_date=\"2020-08-01\")\n",
        "iow_serv.columns= ['Total Service Provided Value']"
      ],
      "execution_count": null,
      "outputs": []
    },
    {
      "cell_type": "code",
      "metadata": {
        "colab_type": "code",
        "id": "qCnDEsWFhObs",
        "colab": {}
      },
      "source": [
        "#All Employees, In Thousands; Total Mining & Logging Providing -South Carolina\n",
        "iow_mine = quandl.get(\"BLSE/SMU19000001000000001\", start_date=\"2000-01-01\", end_date=\"2020-08-01\")\n",
        "iow_mine.columns= ['Total Mining & Logging Value']"
      ],
      "execution_count": null,
      "outputs": []
    },
    {
      "cell_type": "code",
      "metadata": {
        "colab_type": "code",
        "id": "DYBi700UhObw",
        "colab": {}
      },
      "source": [
        "#All Employees, In Thousands; Total Manufacture Providing -South Carolina\n",
        "iow_manu = quandl.get(\"BLSE/SMU19000003000000001\", start_date=\"2000-01-01\", end_date=\"2020-08-01\")\n",
        "iow_manu.columns= ['Total Manufacture Value']"
      ],
      "execution_count": null,
      "outputs": []
    },
    {
      "cell_type": "code",
      "metadata": {
        "colab_type": "code",
        "id": "nzdDbMCAhOb0",
        "colab": {}
      },
      "source": [
        "#All Employees, In Thousands; Total Durable Goods Providing -South Carolina\n",
        "iow_durable = quandl.get(\"BLSE/SMU19000003000000001\", start_date=\"2000-01-01\", end_date=\"2020-08-01\")\n",
        "iow_durable.columns= ['Total Durable Goods Value']"
      ],
      "execution_count": null,
      "outputs": []
    },
    {
      "cell_type": "code",
      "metadata": {
        "colab_type": "code",
        "id": "Lxx0gRdDhOb5",
        "colab": {}
      },
      "source": [
        "#All Employees, In Thousands; Total Wholesale Trade Providing -South Carolina\n",
        "iow_wholesale = quandl.get(\"BLSE/SMU19000004100000001\", start_date=\"2000-01-01\", end_date=\"2020-08-01\")\n",
        "iow_wholesale.columns= ['Wholesale Trade Value']"
      ],
      "execution_count": null,
      "outputs": []
    },
    {
      "cell_type": "code",
      "metadata": {
        "colab_type": "code",
        "id": "IR0ax0mzhOb7",
        "colab": {}
      },
      "source": [
        "#All Employees, In Thousands; Total Transportation & Utilities Providing -South Carolina\n",
        "iow_transutil = quandl.get(\"BLSE/SMU19000004300000001\", start_date=\"2000-01-01\", end_date=\"2020-08-01\")\n",
        "iow_transutil.columns= ['Total Transportation & Utilities Value']"
      ],
      "execution_count": null,
      "outputs": []
    },
    {
      "cell_type": "code",
      "metadata": {
        "colab_type": "code",
        "id": "dhwjbwNyhOb9",
        "colab": {}
      },
      "source": [
        "#All Employees, In Thousands; Total Truck Transportation Providing -South Carolina\n",
        "iow_truck = quandl.get(\"BLSE/SMU19000004348400001\", start_date=\"2000-01-01\", end_date=\"2020-08-01\")\n",
        "iow_truck.columns= ['Total Truck Transportation Provided Value']"
      ],
      "execution_count": null,
      "outputs": []
    },
    {
      "cell_type": "code",
      "metadata": {
        "colab_type": "code",
        "id": "RTiNg4bdhOcL",
        "colab": {}
      },
      "source": [
        "iow4 = pd.merge(iow_wholesale, iow_transutil, on='Date')"
      ],
      "execution_count": null,
      "outputs": []
    },
    {
      "cell_type": "code",
      "metadata": {
        "colab_type": "code",
        "id": "ssPITc4UhOcN",
        "colab": {}
      },
      "source": [
        "iow3 = pd.merge(iow_manu, iow_durable, on='Date')"
      ],
      "execution_count": null,
      "outputs": []
    },
    {
      "cell_type": "code",
      "metadata": {
        "colab_type": "code",
        "id": "-cxApYdChOcP",
        "colab": {}
      },
      "source": [
        "iow2 = pd.merge(iow_serv, iow_mine, on='Date')"
      ],
      "execution_count": null,
      "outputs": []
    },
    {
      "cell_type": "code",
      "metadata": {
        "colab_type": "code",
        "id": "JsrVNkkNhOcT",
        "colab": {}
      },
      "source": [
        "iow1 = pd.merge(iow_priv, iow_goods, on='Date')"
      ],
      "execution_count": null,
      "outputs": []
    },
    {
      "cell_type": "code",
      "metadata": {
        "colab_type": "code",
        "id": "mvuPuuAkhOcW",
        "colab": {}
      },
      "source": [
        "iowa = pd.merge(iow_gov, iow_nonfarm, on='Date')"
      ],
      "execution_count": null,
      "outputs": []
    },
    {
      "cell_type": "code",
      "metadata": {
        "colab_type": "code",
        "id": "7P8yYTQBhOca",
        "colab": {}
      },
      "source": [
        "iow_j1 = pd.merge(iowa, iow1, on='Date')"
      ],
      "execution_count": null,
      "outputs": []
    },
    {
      "cell_type": "code",
      "metadata": {
        "colab_type": "code",
        "id": "f0cKmolBhOcc",
        "colab": {}
      },
      "source": [
        "iow_j2 = pd.merge(iow_j1, iow2, on='Date')"
      ],
      "execution_count": null,
      "outputs": []
    },
    {
      "cell_type": "code",
      "metadata": {
        "colab_type": "code",
        "id": "dD_3Kof2hOcd",
        "colab": {}
      },
      "source": [
        "iow_j3 = pd.merge(iow_j2, iow3, on='Date')"
      ],
      "execution_count": null,
      "outputs": []
    },
    {
      "cell_type": "code",
      "metadata": {
        "colab_type": "code",
        "id": "eoWUqTLphOcf",
        "colab": {}
      },
      "source": [
        "iow_j4 = pd.merge(iow_j3, iow4, on='Date')"
      ],
      "execution_count": null,
      "outputs": []
    },
    {
      "cell_type": "code",
      "metadata": {
        "colab_type": "code",
        "id": "8CTwvkJ3hOci",
        "colab": {}
      },
      "source": [
        "iow_j5 = pd.merge(iow_j4, iow_truck, on='Date')\n",
        "iow_j5"
      ],
      "execution_count": null,
      "outputs": []
    },
    {
      "cell_type": "code",
      "metadata": {
        "id": "wUGEHP_mmHKN",
        "colab_type": "code",
        "colab": {}
      },
      "source": [
        ""
      ],
      "execution_count": null,
      "outputs": []
    },
    {
      "cell_type": "code",
      "metadata": {
        "colab_type": "code",
        "id": "ud-XpbVFmIAY",
        "colab": {}
      },
      "source": [
        ""
      ],
      "execution_count": null,
      "outputs": []
    },
    {
      "cell_type": "markdown",
      "metadata": {
        "id": "nlrs_fVrmMlh",
        "colab_type": "text"
      },
      "source": [
        "# Indiana"
      ]
    },
    {
      "cell_type": "code",
      "metadata": {
        "colab_type": "code",
        "id": "knNaOoi7mIAa",
        "colab": {}
      },
      "source": [
        "#All Employees, In Thousands; Total Government Providing -Rhode Island \n",
        "ind_gov = quandl.get(\"BLSE/SMU18000009000000001\", start_date=\"2000-01-01\", end_date=\"2020-08-01\")\n",
        "ind_gov.columns= ['Total Government Value']"
      ],
      "execution_count": null,
      "outputs": []
    },
    {
      "cell_type": "code",
      "metadata": {
        "colab_type": "code",
        "id": "d38U6_m3mIAc",
        "colab": {}
      },
      "source": [
        "#All Employees, In Thousands; Total Nonfarm Providing -Rhode Island\n",
        "ind_nonfarm = quandl.get(\"BLSE/SMU18000000000000001\", start_date=\"2000-01-01\", end_date=\"2020-08-01\")\n",
        "ind_nonfarm.columns= ['Total Nonfarm Provided Value']"
      ],
      "execution_count": null,
      "outputs": []
    },
    {
      "cell_type": "code",
      "metadata": {
        "colab_type": "code",
        "id": "0D3tiwdKmIAe",
        "colab": {}
      },
      "source": [
        "#All Employees, In Thousands; Total Private Providing -South Carolina\n",
        "ind_priv = quandl.get(\"BLSE/SMU18000000500000001\", start_date=\"2000-01-01\", end_date=\"2020-08-01\")\n",
        "ind_priv.columns= ['Total Private Industry Value']"
      ],
      "execution_count": null,
      "outputs": []
    },
    {
      "cell_type": "code",
      "metadata": {
        "colab_type": "code",
        "id": "ouPK56p8mIAh",
        "colab": {}
      },
      "source": [
        "#All Employees, In Thousands; Total Goods Producing Providing -South Carolina\n",
        "ind_goods = quandl.get(\"BLSE/SMU18000000600000001\", start_date=\"2000-01-01\", end_date=\"2020-08-01\")\n",
        "ind_goods.columns= ['Total Goods Produced Value']"
      ],
      "execution_count": null,
      "outputs": []
    },
    {
      "cell_type": "code",
      "metadata": {
        "colab_type": "code",
        "id": "uX3_s0IYmIAj",
        "colab": {}
      },
      "source": [
        "#All Employees, In Thousands; Total Service Providing -South Carolina\n",
        "ind_serv = quandl.get(\"BLSE/SMU18000000700000001\", start_date=\"2000-01-01\", end_date=\"2020-08-01\")\n",
        "ind_serv.columns= ['Total Service Provided Value']"
      ],
      "execution_count": null,
      "outputs": []
    },
    {
      "cell_type": "code",
      "metadata": {
        "colab_type": "code",
        "id": "i4asMquLmIAl",
        "colab": {}
      },
      "source": [
        "#All Employees, In Thousands; Total Mining & Logging Providing -South Carolina\n",
        "ind_mine = quandl.get(\"BLSE/SMU18000001000000001\", start_date=\"2000-01-01\", end_date=\"2020-08-01\")\n",
        "ind_mine.columns= ['Total Mining & Logging Value']"
      ],
      "execution_count": null,
      "outputs": []
    },
    {
      "cell_type": "code",
      "metadata": {
        "colab_type": "code",
        "id": "XHl6_b85mIAn",
        "colab": {}
      },
      "source": [
        "#All Employees, In Thousands; Total Manufacture Providing -South Carolina\n",
        "ind_manu = quandl.get(\"BLSE/SMU18000003000000001\", start_date=\"2000-01-01\", end_date=\"2020-08-01\")\n",
        "ind_manu.columns= ['Total Manufacture Value']"
      ],
      "execution_count": null,
      "outputs": []
    },
    {
      "cell_type": "code",
      "metadata": {
        "colab_type": "code",
        "id": "H2-k3vuPmIAp",
        "colab": {}
      },
      "source": [
        "#All Employees, In Thousands; Total Durable Goods Providing -South Carolina\n",
        "ind_durable = quandl.get(\"BLSE/SMU18000003000000001\", start_date=\"2000-01-01\", end_date=\"2020-08-01\")\n",
        "ind_durable.columns= ['Total Durable Goods Value']"
      ],
      "execution_count": null,
      "outputs": []
    },
    {
      "cell_type": "code",
      "metadata": {
        "colab_type": "code",
        "id": "fk-98kMcmIAr",
        "colab": {}
      },
      "source": [
        "#All Employees, In Thousands; Total Wholesale Trade Providing -South Carolina\n",
        "ind_wholesale = quandl.get(\"BLSE/SMU18000004100000001\", start_date=\"2000-01-01\", end_date=\"2020-08-01\")\n",
        "ind_wholesale.columns= ['Wholesale Trade Value']"
      ],
      "execution_count": null,
      "outputs": []
    },
    {
      "cell_type": "code",
      "metadata": {
        "colab_type": "code",
        "id": "XMsx800emIAt",
        "colab": {}
      },
      "source": [
        "#All Employees, In Thousands; Total Transportation & Utilities Providing -South Carolina\n",
        "ind_transutil = quandl.get(\"BLSE/SMU18000004300000001\", start_date=\"2000-01-01\", end_date=\"2020-08-01\")\n",
        "ind_transutil.columns= ['Total Transportation & Utilities Value']"
      ],
      "execution_count": null,
      "outputs": []
    },
    {
      "cell_type": "code",
      "metadata": {
        "colab_type": "code",
        "id": "l44jp-IdmIAz",
        "colab": {}
      },
      "source": [
        "#All Employees, In Thousands; Total Truck Transportation Providing -South Carolina\n",
        "ind_truck = quandl.get(\"BLSE/SMU18000004348400001\", start_date=\"2000-01-01\", end_date=\"2020-08-01\")\n",
        "ind_truck.columns= ['Total Truck Transportation Provided Value']"
      ],
      "execution_count": null,
      "outputs": []
    },
    {
      "cell_type": "code",
      "metadata": {
        "colab_type": "code",
        "id": "cY51uKyHmIA2",
        "colab": {}
      },
      "source": [
        "#All Employees, In Thousands; Total Telecommunications Transportation Providing -South Carolina\n",
        "ind_telecom = quandl.get(\"BLSE/SMU18000005051700001\", start_date=\"2000-01-01\", end_date=\"2020-08-01\")\n",
        "ind_telecom.columns= ['Total Telecommunication Value']"
      ],
      "execution_count": null,
      "outputs": []
    },
    {
      "cell_type": "code",
      "metadata": {
        "colab_type": "code",
        "id": "AtABxVV_mIA5",
        "colab": {}
      },
      "source": [
        "#All Employees, In Thousands; Total Real Estate Transportation Providing -South Carolina\n",
        "ind_estate = quandl.get(\"BLSE/SMU18000005553100001\", start_date=\"2000-01-01\", end_date=\"2020-08-01\")\n",
        "ind_estate.columns= ['Total Real Estate Value']"
      ],
      "execution_count": null,
      "outputs": []
    },
    {
      "cell_type": "code",
      "metadata": {
        "colab_type": "code",
        "id": "stMWoivxmIBE",
        "colab": {}
      },
      "source": [
        "ind5 = pd.merge(ind_truck, ind_telecom, on='Date')"
      ],
      "execution_count": null,
      "outputs": []
    },
    {
      "cell_type": "code",
      "metadata": {
        "colab_type": "code",
        "id": "AYJqMB5ymIBG",
        "colab": {}
      },
      "source": [
        "ind4 = pd.merge(ind_wholesale, ind_transutil, on='Date')"
      ],
      "execution_count": null,
      "outputs": []
    },
    {
      "cell_type": "code",
      "metadata": {
        "colab_type": "code",
        "id": "bwGh2fi1mIBI",
        "colab": {}
      },
      "source": [
        "ind3 = pd.merge(ind_manu, ind_durable, on='Date')"
      ],
      "execution_count": null,
      "outputs": []
    },
    {
      "cell_type": "code",
      "metadata": {
        "colab_type": "code",
        "id": "H7MLo7qQmIBK",
        "colab": {}
      },
      "source": [
        "ind2 = pd.merge(ind_serv, ind_mine, on='Date')"
      ],
      "execution_count": null,
      "outputs": []
    },
    {
      "cell_type": "code",
      "metadata": {
        "colab_type": "code",
        "id": "uKCoSs54mIBR",
        "colab": {}
      },
      "source": [
        "ind1 = pd.merge(ind_priv, ind_goods, on='Date')"
      ],
      "execution_count": null,
      "outputs": []
    },
    {
      "cell_type": "code",
      "metadata": {
        "colab_type": "code",
        "id": "eqZXRLAcmIBV",
        "colab": {}
      },
      "source": [
        "ind = pd.merge(ind_gov, ind_nonfarm, on='Date')"
      ],
      "execution_count": null,
      "outputs": []
    },
    {
      "cell_type": "code",
      "metadata": {
        "colab_type": "code",
        "id": "VYTmp3khmIBX",
        "colab": {}
      },
      "source": [
        "ind_j1 = pd.merge(ind, ind1, on='Date')"
      ],
      "execution_count": null,
      "outputs": []
    },
    {
      "cell_type": "code",
      "metadata": {
        "colab_type": "code",
        "id": "enIfyBtwmIBY",
        "colab": {}
      },
      "source": [
        "ind_j2 = pd.merge(ind_j1, ind2, on='Date')"
      ],
      "execution_count": null,
      "outputs": []
    },
    {
      "cell_type": "code",
      "metadata": {
        "colab_type": "code",
        "id": "7TxPzpmMmIBa",
        "colab": {}
      },
      "source": [
        "ind_j3 = pd.merge(ind_j2, ind3, on='Date')"
      ],
      "execution_count": null,
      "outputs": []
    },
    {
      "cell_type": "code",
      "metadata": {
        "colab_type": "code",
        "id": "LpFmhaRdmIBb",
        "colab": {}
      },
      "source": [
        "ind_j4 = pd.merge(ind_j3, ind4, on='Date')"
      ],
      "execution_count": null,
      "outputs": []
    },
    {
      "cell_type": "code",
      "metadata": {
        "colab_type": "code",
        "id": "OubbvvJ6mIBd",
        "colab": {}
      },
      "source": [
        "ind_j5 = pd.merge(ind_j4, ind5, on='Date')"
      ],
      "execution_count": null,
      "outputs": []
    },
    {
      "cell_type": "code",
      "metadata": {
        "colab_type": "code",
        "id": "salbcciDmIBe",
        "colab": {}
      },
      "source": [
        "ind_j6 = pd.merge(ind_j5, ind_estate, on='Date')\n",
        "ind_j6"
      ],
      "execution_count": null,
      "outputs": []
    },
    {
      "cell_type": "markdown",
      "metadata": {
        "id": "_RkafhvqoDEZ",
        "colab_type": "text"
      },
      "source": [
        "# Illinois"
      ]
    },
    {
      "cell_type": "code",
      "metadata": {
        "id": "6NhGOQIfoG3w",
        "colab_type": "code",
        "colab": {}
      },
      "source": [
        ""
      ],
      "execution_count": null,
      "outputs": []
    },
    {
      "cell_type": "code",
      "metadata": {
        "colab_type": "code",
        "id": "enNm8dmSoH0w",
        "colab": {}
      },
      "source": [
        ""
      ],
      "execution_count": null,
      "outputs": []
    },
    {
      "cell_type": "code",
      "metadata": {
        "colab_type": "code",
        "id": "xvDo13uxoH0z",
        "colab": {}
      },
      "source": [
        "#All Employees, In Thousands; Total Government Providing -Rhode Island \n",
        "ill_gov = quandl.get(\"BLSE/SMU17000009000000001\", start_date=\"2000-01-01\", end_date=\"2020-08-01\")\n",
        "ill_gov.columns= ['Total Government Value']"
      ],
      "execution_count": null,
      "outputs": []
    },
    {
      "cell_type": "code",
      "metadata": {
        "colab_type": "code",
        "id": "dkcegSQ1oH01",
        "colab": {}
      },
      "source": [
        "#All Employees, In Thousands; Total Nonfarm Providing -Rhode Island\n",
        "ill_nonfarm = quandl.get(\"BLSE/SMU17000000000000001\", start_date=\"2000-01-01\", end_date=\"2020-08-01\")\n",
        "ill_nonfarm.columns= ['Total Nonfarm Provided Value']"
      ],
      "execution_count": null,
      "outputs": []
    },
    {
      "cell_type": "code",
      "metadata": {
        "colab_type": "code",
        "id": "W8a03VaBoH05",
        "colab": {}
      },
      "source": [
        "#All Employees, In Thousands; Total Private Providing -South Carolina\n",
        "ill_priv = quandl.get(\"BLSE/SMU17000000500000001\", start_date=\"2000-01-01\", end_date=\"2020-08-01\")\n",
        "ill_priv.columns= ['Total Private Industry Value']"
      ],
      "execution_count": null,
      "outputs": []
    },
    {
      "cell_type": "code",
      "metadata": {
        "colab_type": "code",
        "id": "ogsSg8rnoH08",
        "colab": {}
      },
      "source": [
        "#All Employees, In Thousands; Total Goods Producing Providing -South Carolina\n",
        "ill_goods = quandl.get(\"BLSE/SMU17000000600000001\", start_date=\"2000-01-01\", end_date=\"2020-08-01\")\n",
        "ill_goods.columns= ['Total Goods Produced Value']"
      ],
      "execution_count": null,
      "outputs": []
    },
    {
      "cell_type": "code",
      "metadata": {
        "colab_type": "code",
        "id": "Jgsu7meuoH0_",
        "colab": {}
      },
      "source": [
        "#All Employees, In Thousands; Total Service Providing -South Carolina\n",
        "ill_serv = quandl.get(\"BLSE/SMU17000000700000001\", start_date=\"2000-01-01\", end_date=\"2020-08-01\")\n",
        "ill_serv.columns= ['Total Service Provided Value']"
      ],
      "execution_count": null,
      "outputs": []
    },
    {
      "cell_type": "code",
      "metadata": {
        "colab_type": "code",
        "id": "2V-2UEXBoH1C",
        "colab": {}
      },
      "source": [
        "#All Employees, In Thousands; Total Mining & Logging Providing -South Carolina\n",
        "ill_mine = quandl.get(\"BLSE/SMU17000001000000001\", start_date=\"2000-01-01\", end_date=\"2020-08-01\")\n",
        "ill_mine.columns= ['Total Mining & Logging Value']"
      ],
      "execution_count": null,
      "outputs": []
    },
    {
      "cell_type": "code",
      "metadata": {
        "colab_type": "code",
        "id": "2B8R7hy2oH1I",
        "colab": {}
      },
      "source": [
        "#All Employees, In Thousands; Total Manufacture Providing -South Carolina\n",
        "ill_manu = quandl.get(\"BLSE/SMU17000003000000001\", start_date=\"2000-01-01\", end_date=\"2020-08-01\")\n",
        "ill_manu.columns= ['Total Manufacture Value']"
      ],
      "execution_count": null,
      "outputs": []
    },
    {
      "cell_type": "code",
      "metadata": {
        "colab_type": "code",
        "id": "t9tbeWfNoH1K",
        "colab": {}
      },
      "source": [
        "#All Employees, In Thousands; Total Durable Goods Providing -South Carolina\n",
        "ill_durable = quandl.get(\"BLSE/SMU17000003000000001\", start_date=\"2000-01-01\", end_date=\"2020-08-01\")\n",
        "ill_durable.columns= ['Total Durable Goods Value']"
      ],
      "execution_count": null,
      "outputs": []
    },
    {
      "cell_type": "code",
      "metadata": {
        "colab_type": "code",
        "id": "_4u_ReCOoH1N",
        "colab": {}
      },
      "source": [
        "#All Employees, In Thousands; Total Wholesale Trade Providing -South Carolina\n",
        "ill_wholesale = quandl.get(\"BLSE/SMU17000004100000001\", start_date=\"2000-01-01\", end_date=\"2020-08-01\")\n",
        "ill_wholesale.columns= ['Wholesale Trade Value']"
      ],
      "execution_count": null,
      "outputs": []
    },
    {
      "cell_type": "code",
      "metadata": {
        "colab_type": "code",
        "id": "85wYnpIuoH1O",
        "colab": {}
      },
      "source": [
        "#All Employees, In Thousands; Total Transportation & Utilities Providing -South Carolina\n",
        "ill_transutil = quandl.get(\"BLSE/SMU17000004300000001\", start_date=\"2000-01-01\", end_date=\"2020-08-01\")\n",
        "ill_transutil.columns= ['Total Transportation & Utilities Value']"
      ],
      "execution_count": null,
      "outputs": []
    },
    {
      "cell_type": "code",
      "metadata": {
        "colab_type": "code",
        "id": "0Mm2owJnoH1Q",
        "colab": {}
      },
      "source": [
        "#All Employees, In Thousands; Total Truck Transportation Providing -South Carolina\n",
        "ill_truck = quandl.get(\"BLSE/SMU17000004348400001\", start_date=\"2000-01-01\", end_date=\"2020-08-01\")\n",
        "ill_truck.columns= ['Total Truck Transportation Provided Value']"
      ],
      "execution_count": null,
      "outputs": []
    },
    {
      "cell_type": "code",
      "metadata": {
        "colab_type": "code",
        "id": "2bwjHFWUoH1S",
        "colab": {}
      },
      "source": [
        "#All Employees, In Thousands; Total Telecommunications Transportation Providing -South Carolina\n",
        "ill_telecom = quandl.get(\"BLSE/SMU17000005051700001\", start_date=\"2000-01-01\", end_date=\"2020-08-01\")\n",
        "ill_telecom.columns= ['Total Telecommunication Value']"
      ],
      "execution_count": null,
      "outputs": []
    },
    {
      "cell_type": "code",
      "metadata": {
        "colab_type": "code",
        "id": "jlZH11m2oH1V",
        "colab": {}
      },
      "source": [
        "#All Employees, In Thousands; Total Real Estate Transportation Providing -South Carolina\n",
        "ill_estate = quandl.get(\"BLSE/SMU17000005553100001\", start_date=\"2000-01-01\", end_date=\"2020-08-01\")\n",
        "ill_estate.columns= ['Total Real Estate Value']"
      ],
      "execution_count": null,
      "outputs": []
    },
    {
      "cell_type": "code",
      "metadata": {
        "colab_type": "code",
        "id": "fkGxskftoH1X",
        "colab": {}
      },
      "source": [
        "#All Employees, In Thousands; Total Real Estate Transportation Providing -South Carolina\n",
        "ill_air = quandl.get(\"BLSE/SMU17000004348100001\", start_date=\"2000-01-01\", end_date=\"2020-08-01\")\n",
        "ill_air.columns= ['Total Air Transportation Value']"
      ],
      "execution_count": null,
      "outputs": []
    },
    {
      "cell_type": "code",
      "metadata": {
        "colab_type": "code",
        "id": "kgiHI6oIoH1b",
        "colab": {}
      },
      "source": [
        "ill6 = pd.merge(ill_estate, ill_air, on='Date')"
      ],
      "execution_count": null,
      "outputs": []
    },
    {
      "cell_type": "code",
      "metadata": {
        "colab_type": "code",
        "id": "cRGuXJLkoH1e",
        "colab": {}
      },
      "source": [
        "ill5 = pd.merge(ill_truck, ill_telecom, on='Date')"
      ],
      "execution_count": null,
      "outputs": []
    },
    {
      "cell_type": "code",
      "metadata": {
        "colab_type": "code",
        "id": "8gT_MtT7oH1f",
        "colab": {}
      },
      "source": [
        "ill4 = pd.merge(ill_wholesale, ill_transutil, on='Date')"
      ],
      "execution_count": null,
      "outputs": []
    },
    {
      "cell_type": "code",
      "metadata": {
        "colab_type": "code",
        "id": "4-ZB6dN4oH1h",
        "colab": {}
      },
      "source": [
        "ill3 = pd.merge(ill_manu, ill_durable, on='Date')"
      ],
      "execution_count": null,
      "outputs": []
    },
    {
      "cell_type": "code",
      "metadata": {
        "colab_type": "code",
        "id": "pN0H6l2koH1l",
        "colab": {}
      },
      "source": [
        "ill2 = pd.merge(ill_serv, ill_mine, on='Date')"
      ],
      "execution_count": null,
      "outputs": []
    },
    {
      "cell_type": "code",
      "metadata": {
        "colab_type": "code",
        "id": "Sz4uATrHoH1n",
        "colab": {}
      },
      "source": [
        "ill1 = pd.merge(ill_priv, ill_goods, on='Date')"
      ],
      "execution_count": null,
      "outputs": []
    },
    {
      "cell_type": "code",
      "metadata": {
        "colab_type": "code",
        "id": "2nUcLdkeoH1q",
        "colab": {}
      },
      "source": [
        "ill = pd.merge(ill_gov, ill_nonfarm, on='Date')"
      ],
      "execution_count": null,
      "outputs": []
    },
    {
      "cell_type": "code",
      "metadata": {
        "colab_type": "code",
        "id": "tkUQrQQToH1r",
        "colab": {}
      },
      "source": [
        "ill_j1 = pd.merge(ill, ill1, on='Date')"
      ],
      "execution_count": null,
      "outputs": []
    },
    {
      "cell_type": "code",
      "metadata": {
        "colab_type": "code",
        "id": "6nH6VoTzoH1u",
        "colab": {}
      },
      "source": [
        "ill_j2 = pd.merge(ill_j1, ill2, on='Date')"
      ],
      "execution_count": null,
      "outputs": []
    },
    {
      "cell_type": "code",
      "metadata": {
        "colab_type": "code",
        "id": "sn-zMJnxoH1w",
        "colab": {}
      },
      "source": [
        "ill_j3 = pd.merge(ill_j2, ill3, on='Date')"
      ],
      "execution_count": null,
      "outputs": []
    },
    {
      "cell_type": "code",
      "metadata": {
        "colab_type": "code",
        "id": "b-8WT5gAoH10",
        "colab": {}
      },
      "source": [
        "ill_j4 = pd.merge(ill_j3, ill4, on='Date')"
      ],
      "execution_count": null,
      "outputs": []
    },
    {
      "cell_type": "code",
      "metadata": {
        "colab_type": "code",
        "id": "vyL8ouphoH12",
        "colab": {}
      },
      "source": [
        "ill_j5 = pd.merge(ill_j4, ill5, on='Date')"
      ],
      "execution_count": null,
      "outputs": []
    },
    {
      "cell_type": "code",
      "metadata": {
        "colab_type": "code",
        "id": "FqmXjdzVoH13",
        "colab": {}
      },
      "source": [
        "ill_j6 = pd.merge(ill_j5, ill6, on='Date')\n",
        "ill_j6"
      ],
      "execution_count": null,
      "outputs": []
    },
    {
      "cell_type": "markdown",
      "metadata": {
        "id": "0KcHOnwSqZRa",
        "colab_type": "text"
      },
      "source": [
        "# Idaho"
      ]
    },
    {
      "cell_type": "code",
      "metadata": {
        "id": "4wywdZBNqfpZ",
        "colab_type": "code",
        "colab": {}
      },
      "source": [
        ""
      ],
      "execution_count": null,
      "outputs": []
    },
    {
      "cell_type": "code",
      "metadata": {
        "colab_type": "code",
        "id": "2bDD-pBKqgl2",
        "colab": {}
      },
      "source": [
        ""
      ],
      "execution_count": null,
      "outputs": []
    },
    {
      "cell_type": "code",
      "metadata": {
        "colab_type": "code",
        "id": "EmQt2AZ0qgl9",
        "colab": {}
      },
      "source": [
        "#All Employees, In Thousands; Total Government Providing -Rhode Island \n",
        "ida_gov = quandl.get(\"BLSE/SMU16000009000000001\", start_date=\"2000-01-01\", end_date=\"2020-08-01\")\n",
        "ida_gov.columns= ['Total Government Value']"
      ],
      "execution_count": null,
      "outputs": []
    },
    {
      "cell_type": "code",
      "metadata": {
        "colab_type": "code",
        "id": "AfBxhcv_qgl-",
        "colab": {}
      },
      "source": [
        "#All Employees, In Thousands; Total Nonfarm Providing -Rhode Island\n",
        "ida_nonfarm = quandl.get(\"BLSE/SMU16000000000000001\", start_date=\"2000-01-01\", end_date=\"2020-08-01\")\n",
        "ida_nonfarm.columns= ['Total Nonfarm Provided Value']"
      ],
      "execution_count": null,
      "outputs": []
    },
    {
      "cell_type": "code",
      "metadata": {
        "colab_type": "code",
        "id": "owt7feaWqgmA",
        "colab": {}
      },
      "source": [
        "#All Employees, In Thousands; Total Private Providing -South Carolina\n",
        "ida_priv = quandl.get(\"BLSE/SMU16000000500000001\", start_date=\"2000-01-01\", end_date=\"2020-08-01\")\n",
        "ida_priv.columns= ['Total Private Industry Value']"
      ],
      "execution_count": null,
      "outputs": []
    },
    {
      "cell_type": "code",
      "metadata": {
        "colab_type": "code",
        "id": "wyPaycyaqgmB",
        "colab": {}
      },
      "source": [
        "#All Employees, In Thousands; Total Goods Producing Providing -South Carolina\n",
        "ida_goods = quandl.get(\"BLSE/SMU16000000600000001\", start_date=\"2000-01-01\", end_date=\"2020-08-01\")\n",
        "ida_goods.columns= ['Total Goods Produced Value']"
      ],
      "execution_count": null,
      "outputs": []
    },
    {
      "cell_type": "code",
      "metadata": {
        "colab_type": "code",
        "id": "1svodOWvqgmE",
        "colab": {}
      },
      "source": [
        "#All Employees, In Thousands; Total Service Providing -South Carolina\n",
        "ida_serv = quandl.get(\"BLSE/SMU16000000700000001\", start_date=\"2000-01-01\", end_date=\"2020-08-01\")\n",
        "ida_serv.columns= ['Total Service Provided Value']"
      ],
      "execution_count": null,
      "outputs": []
    },
    {
      "cell_type": "code",
      "metadata": {
        "colab_type": "code",
        "id": "jC0BSfpTqgmF",
        "colab": {}
      },
      "source": [
        "#All Employees, In Thousands; Total Mining & Logging Providing -South Carolina\n",
        "ida_mine = quandl.get(\"BLSE/SMU16000001000000001\", start_date=\"2000-01-01\", end_date=\"2020-08-01\")\n",
        "ida_mine.columns= ['Total Mining & Logging Value']"
      ],
      "execution_count": null,
      "outputs": []
    },
    {
      "cell_type": "code",
      "metadata": {
        "colab_type": "code",
        "id": "QduoPRerqgmH",
        "colab": {}
      },
      "source": [
        "#All Employees, In Thousands; Total Manufacture Providing -South Carolina\n",
        "ida_manu = quandl.get(\"BLSE/SMU16000003000000001\", start_date=\"2000-01-01\", end_date=\"2020-08-01\")\n",
        "ida_manu.columns= ['Total Manufacture Value']"
      ],
      "execution_count": null,
      "outputs": []
    },
    {
      "cell_type": "code",
      "metadata": {
        "colab_type": "code",
        "id": "GlVg79TXqgmK",
        "colab": {}
      },
      "source": [
        "#All Employees, In Thousands; Total Durable Goods Providing -South Carolina\n",
        "ida_durable = quandl.get(\"BLSE/SMU16000003000000001\", start_date=\"2000-01-01\", end_date=\"2020-08-01\")\n",
        "ida_durable.columns= ['Total Durable Goods Value']"
      ],
      "execution_count": null,
      "outputs": []
    },
    {
      "cell_type": "code",
      "metadata": {
        "colab_type": "code",
        "id": "LXJPQ_2UqgmL",
        "colab": {}
      },
      "source": [
        "#All Employees, In Thousands; Total Wholesale Trade Providing -South Carolina\n",
        "ida_wholesale = quandl.get(\"BLSE/SMU16000004100000001\", start_date=\"2000-01-01\", end_date=\"2020-08-01\")\n",
        "ida_wholesale.columns= ['Wholesale Trade Value']"
      ],
      "execution_count": null,
      "outputs": []
    },
    {
      "cell_type": "code",
      "metadata": {
        "colab_type": "code",
        "id": "07HfRPlDqgmO",
        "colab": {}
      },
      "source": [
        "#All Employees, In Thousands; Total Transportation & Utilities Providing -South Carolina\n",
        "ida_transutil = quandl.get(\"BLSE/SMU16000004300000001\", start_date=\"2000-01-01\", end_date=\"2020-08-01\")\n",
        "ida_transutil.columns= ['Total Transportation & Utilities Value']"
      ],
      "execution_count": null,
      "outputs": []
    },
    {
      "cell_type": "code",
      "metadata": {
        "colab_type": "code",
        "id": "K0DR0NyhqgmP",
        "colab": {}
      },
      "source": [
        "#All Employees, In Thousands; Total Truck Transportation Providing -South Carolina\n",
        "ida_truck = quandl.get(\"BLSE/SMU16000004348400001\", start_date=\"2000-01-01\", end_date=\"2020-08-01\")\n",
        "ida_truck.columns= ['Total Truck Transportation Provided Value']"
      ],
      "execution_count": null,
      "outputs": []
    },
    {
      "cell_type": "code",
      "metadata": {
        "colab_type": "code",
        "id": "H9WMDXHfqgmQ",
        "colab": {}
      },
      "source": [
        "#All Employees, In Thousands; Total Telecommunications Transportation Providing -South Carolina\n",
        "ida_telecom = quandl.get(\"BLSE/SMU16000005051700001\", start_date=\"2000-01-01\", end_date=\"2020-08-01\")\n",
        "ida_telecom.columns= ['Total Telecommunication Value']"
      ],
      "execution_count": null,
      "outputs": []
    },
    {
      "cell_type": "code",
      "metadata": {
        "colab_type": "code",
        "id": "J_emWAoTqgmZ",
        "colab": {}
      },
      "source": [
        "ida5 = pd.merge(ida_truck, ida_telecom, on='Date')"
      ],
      "execution_count": null,
      "outputs": []
    },
    {
      "cell_type": "code",
      "metadata": {
        "colab_type": "code",
        "id": "tbhTl6Ezqgmb",
        "colab": {}
      },
      "source": [
        "ida4 = pd.merge(ida_wholesale, ida_transutil, on='Date')"
      ],
      "execution_count": null,
      "outputs": []
    },
    {
      "cell_type": "code",
      "metadata": {
        "colab_type": "code",
        "id": "_HclDzApqgmc",
        "colab": {}
      },
      "source": [
        "ida3 = pd.merge(ida_manu, ida_durable, on='Date')"
      ],
      "execution_count": null,
      "outputs": []
    },
    {
      "cell_type": "code",
      "metadata": {
        "colab_type": "code",
        "id": "jbcanMQYqgme",
        "colab": {}
      },
      "source": [
        "ida2 = pd.merge(ida_serv, ida_mine, on='Date')"
      ],
      "execution_count": null,
      "outputs": []
    },
    {
      "cell_type": "code",
      "metadata": {
        "colab_type": "code",
        "id": "5bG_DNlOqgmf",
        "colab": {}
      },
      "source": [
        "ida1 = pd.merge(ida_priv, ida_goods, on='Date')"
      ],
      "execution_count": null,
      "outputs": []
    },
    {
      "cell_type": "code",
      "metadata": {
        "colab_type": "code",
        "id": "6UTUIDshqgmi",
        "colab": {}
      },
      "source": [
        "ida = pd.merge(ida_gov, ida_nonfarm, on='Date')"
      ],
      "execution_count": null,
      "outputs": []
    },
    {
      "cell_type": "code",
      "metadata": {
        "colab_type": "code",
        "id": "UhGoBkMQqgml",
        "colab": {}
      },
      "source": [
        "ida_j1 = pd.merge(ida, ida1, on='Date')"
      ],
      "execution_count": null,
      "outputs": []
    },
    {
      "cell_type": "code",
      "metadata": {
        "colab_type": "code",
        "id": "LhqFPcfUqgnJ",
        "colab": {}
      },
      "source": [
        "ida_j2 = pd.merge(ida_j1, ida2, on='Date')"
      ],
      "execution_count": null,
      "outputs": []
    },
    {
      "cell_type": "code",
      "metadata": {
        "colab_type": "code",
        "id": "T0X6Ng-kqgnO",
        "colab": {}
      },
      "source": [
        "ida_j3 = pd.merge(ida_j2, ida3, on='Date')"
      ],
      "execution_count": null,
      "outputs": []
    },
    {
      "cell_type": "code",
      "metadata": {
        "colab_type": "code",
        "id": "YfgsjXOvqgnR",
        "colab": {}
      },
      "source": [
        "ida_j4 = pd.merge(ida_j3, ida4, on='Date')"
      ],
      "execution_count": null,
      "outputs": []
    },
    {
      "cell_type": "code",
      "metadata": {
        "colab_type": "code",
        "id": "_25Od8ESqgnV",
        "colab": {}
      },
      "source": [
        "ida_j5 = pd.merge(ida_j4, ida5, on='Date')\n",
        "ida_j5"
      ],
      "execution_count": null,
      "outputs": []
    },
    {
      "cell_type": "markdown",
      "metadata": {
        "id": "rNTplCy-2_NB",
        "colab_type": "text"
      },
      "source": [
        "# Hawaii"
      ]
    },
    {
      "cell_type": "code",
      "metadata": {
        "colab_type": "code",
        "id": "DRs6V2wq3Hd4",
        "colab": {}
      },
      "source": [
        "#All Employees, In Thousands; Total Government Providing -Rhode Island \n",
        "haw_gov = quandl.get(\"BLSE/SMU15000009000000001\", start_date=\"2000-01-01\", end_date=\"2020-08-01\")\n",
        "haw_gov.columns= ['Total Government Value']"
      ],
      "execution_count": 283,
      "outputs": []
    },
    {
      "cell_type": "code",
      "metadata": {
        "colab_type": "code",
        "id": "dcWwJPUW3Hd8",
        "colab": {}
      },
      "source": [
        "#All Employees, In Thousands; Total Nonfarm Providing -Rhode Island\n",
        "haw_nonfarm = quandl.get(\"BLSE/SMU15000000000000001\", start_date=\"2000-01-01\", end_date=\"2020-08-01\")\n",
        "haw_nonfarm.columns= ['Total Nonfarm Provided Value']"
      ],
      "execution_count": 284,
      "outputs": []
    },
    {
      "cell_type": "code",
      "metadata": {
        "colab_type": "code",
        "id": "745wCPNh3Hd-",
        "colab": {}
      },
      "source": [
        "#All Employees, In Thousands; Total Private Providing -South Carolina\n",
        "haw_priv = quandl.get(\"BLSE/SMU15000000500000001\", start_date=\"2000-01-01\", end_date=\"2020-08-01\")\n",
        "haw_priv.columns= ['Total Private Industry Value']"
      ],
      "execution_count": 285,
      "outputs": []
    },
    {
      "cell_type": "code",
      "metadata": {
        "colab_type": "code",
        "id": "KlWF5PBj3HeB",
        "colab": {}
      },
      "source": [
        "#All Employees, In Thousands; Total Goods Producing Providing -South Carolina\n",
        "haw_goods = quandl.get(\"BLSE/SMU15000000600000001\", start_date=\"2000-01-01\", end_date=\"2020-08-01\")\n",
        "haw_goods.columns= ['Total Goods Produced Value']"
      ],
      "execution_count": 286,
      "outputs": []
    },
    {
      "cell_type": "code",
      "metadata": {
        "colab_type": "code",
        "id": "IDMbfXI-3HeD",
        "colab": {}
      },
      "source": [
        "#All Employees, In Thousands; Total Service Providing -South Carolina\n",
        "haw_serv = quandl.get(\"BLSE/SMU15000000700000001\", start_date=\"2000-01-01\", end_date=\"2020-08-01\")\n",
        "haw_serv.columns= ['Total Service Provided Value']"
      ],
      "execution_count": 287,
      "outputs": []
    },
    {
      "cell_type": "code",
      "metadata": {
        "colab_type": "code",
        "id": "LQSJIxIO3HeI",
        "colab": {}
      },
      "source": [
        "#All Employees, In Thousands; Total Manufacture Providing -South Carolina\n",
        "haw_manu = quandl.get(\"BLSE/SMU15000003000000001\", start_date=\"2000-01-01\", end_date=\"2020-08-01\")\n",
        "haw_manu.columns= ['Total Manufacture Value']"
      ],
      "execution_count": 288,
      "outputs": []
    },
    {
      "cell_type": "code",
      "metadata": {
        "colab_type": "code",
        "id": "D82fugrj3HeK",
        "colab": {}
      },
      "source": [
        "#All Employees, In Thousands; Total Durable Goods Providing -South Carolina\n",
        "haw_durable = quandl.get(\"BLSE/SMU15000003000000001\", start_date=\"2000-01-01\", end_date=\"2020-08-01\")\n",
        "haw_durable.columns= ['Total Durable Goods Value']"
      ],
      "execution_count": 289,
      "outputs": []
    },
    {
      "cell_type": "code",
      "metadata": {
        "colab_type": "code",
        "id": "Pl_2wfBN3HeN",
        "colab": {}
      },
      "source": [
        "#All Employees, In Thousands; Total Wholesale Trade Providing -South Carolina\n",
        "haw_wholesale = quandl.get(\"BLSE/SMU15000004100000001\", start_date=\"2000-01-01\", end_date=\"2020-08-01\")\n",
        "haw_wholesale.columns= ['Wholesale Trade Value']"
      ],
      "execution_count": 290,
      "outputs": []
    },
    {
      "cell_type": "code",
      "metadata": {
        "colab_type": "code",
        "id": "-7jzKndh3HeQ",
        "colab": {}
      },
      "source": [
        "#All Employees, In Thousands; Total Transportation & Utilities Providing -South Carolina\n",
        "haw_transutil = quandl.get(\"BLSE/SMU15000004300000001\", start_date=\"2000-01-01\", end_date=\"2020-08-01\")\n",
        "haw_transutil.columns= ['Total Transportation & Utilities Value']"
      ],
      "execution_count": 291,
      "outputs": []
    },
    {
      "cell_type": "code",
      "metadata": {
        "colab_type": "code",
        "id": "umTd6osH3HeV",
        "colab": {}
      },
      "source": [
        "#All Employees, In Thousands; Total Telecommunications Transportation Providing -South Carolina\n",
        "haw_telecom = quandl.get(\"BLSE/SMU15000005051700001\", start_date=\"2000-01-01\", end_date=\"2020-08-01\")\n",
        "haw_telecom.columns= ['Total Telecommunication Value']"
      ],
      "execution_count": 292,
      "outputs": []
    },
    {
      "cell_type": "code",
      "metadata": {
        "colab_type": "code",
        "id": "_5MfRIQI3HeZ",
        "colab": {}
      },
      "source": [
        "#All Employees, In Thousands; Total Real Estate Transportation Providing -South Carolina\n",
        "haw_air = quandl.get(\"BLSE/SMU15000004348100001\", start_date=\"2000-01-01\", end_date=\"2020-08-01\")\n",
        "haw_air.columns= ['Total Air Transportation Value']"
      ],
      "execution_count": 293,
      "outputs": []
    },
    {
      "cell_type": "code",
      "metadata": {
        "colab_type": "code",
        "id": "X7byNe2k3Hee",
        "colab": {}
      },
      "source": [
        "haw4 = pd.merge(haw_air, haw_telecom, on='Date')"
      ],
      "execution_count": 294,
      "outputs": []
    },
    {
      "cell_type": "code",
      "metadata": {
        "colab_type": "code",
        "id": "j-xvDv-33Heh",
        "colab": {}
      },
      "source": [
        "haw3 = pd.merge(haw_wholesale, haw_transutil, on='Date')"
      ],
      "execution_count": 295,
      "outputs": []
    },
    {
      "cell_type": "code",
      "metadata": {
        "colab_type": "code",
        "id": "tIv2PEcm3Hem",
        "colab": {}
      },
      "source": [
        "haw2 = pd.merge(haw_manu, haw_durable, on='Date')"
      ],
      "execution_count": 296,
      "outputs": []
    },
    {
      "cell_type": "code",
      "metadata": {
        "colab_type": "code",
        "id": "GtTtYTWN3Her",
        "colab": {}
      },
      "source": [
        "haw1 = pd.merge(haw_priv, haw_goods, on='Date')"
      ],
      "execution_count": 297,
      "outputs": []
    },
    {
      "cell_type": "code",
      "metadata": {
        "colab_type": "code",
        "id": "4KHiWM2d3Hev",
        "colab": {}
      },
      "source": [
        "haw = pd.merge(haw_gov, haw_nonfarm, on='Date')"
      ],
      "execution_count": 298,
      "outputs": []
    },
    {
      "cell_type": "code",
      "metadata": {
        "colab_type": "code",
        "id": "MQcxTpLo3Hey",
        "colab": {}
      },
      "source": [
        "haw_j1 = pd.merge(haw, haw1, on='Date')"
      ],
      "execution_count": 299,
      "outputs": []
    },
    {
      "cell_type": "code",
      "metadata": {
        "colab_type": "code",
        "id": "sxK2eh0F3Hez",
        "colab": {}
      },
      "source": [
        "haw_j2 = pd.merge(haw_j1, haw2, on='Date')"
      ],
      "execution_count": 300,
      "outputs": []
    },
    {
      "cell_type": "code",
      "metadata": {
        "colab_type": "code",
        "id": "7-JmHX8H3He2",
        "colab": {}
      },
      "source": [
        "haw_j3 = pd.merge(haw_j2, haw3, on='Date')"
      ],
      "execution_count": 301,
      "outputs": []
    },
    {
      "cell_type": "code",
      "metadata": {
        "colab_type": "code",
        "id": "fnErH12D3He3",
        "colab": {}
      },
      "source": [
        "haw_j4 = pd.merge(haw_j3, haw4, on='Date')"
      ],
      "execution_count": 302,
      "outputs": []
    },
    {
      "cell_type": "code",
      "metadata": {
        "colab_type": "code",
        "id": "ndg-xVbI3He5",
        "colab": {}
      },
      "source": [
        "haw_j5 = pd.merge(haw_j4, haw_serv, on='Date')\n"
      ],
      "execution_count": 303,
      "outputs": []
    },
    {
      "cell_type": "code",
      "metadata": {
        "id": "eWdzXejRfRFu",
        "colab_type": "code",
        "colab": {
          "base_uri": "https://localhost:8080/",
          "height": 654
        },
        "outputId": "4af71430-17d0-4050-e813-64f59977a285"
      },
      "source": [
        "haw_j5['Postal Code'] = 'HI'\n",
        "haw_j5"
      ],
      "execution_count": 305,
      "outputs": [
        {
          "output_type": "execute_result",
          "data": {
            "text/html": [
              "<div>\n",
              "<style scoped>\n",
              "    .dataframe tbody tr th:only-of-type {\n",
              "        vertical-align: middle;\n",
              "    }\n",
              "\n",
              "    .dataframe tbody tr th {\n",
              "        vertical-align: top;\n",
              "    }\n",
              "\n",
              "    .dataframe thead th {\n",
              "        text-align: right;\n",
              "    }\n",
              "</style>\n",
              "<table border=\"1\" class=\"dataframe\">\n",
              "  <thead>\n",
              "    <tr style=\"text-align: right;\">\n",
              "      <th></th>\n",
              "      <th>Total Government Value</th>\n",
              "      <th>Total Nonfarm Provided Value</th>\n",
              "      <th>Total Private Industry Value</th>\n",
              "      <th>Total Goods Produced Value</th>\n",
              "      <th>Total Manufacture Value</th>\n",
              "      <th>Total Durable Goods Value</th>\n",
              "      <th>Wholesale Trade Value</th>\n",
              "      <th>Total Transportation &amp; Utilities Value</th>\n",
              "      <th>Total Air Transportation Value</th>\n",
              "      <th>Total Telecommunication Value</th>\n",
              "      <th>Total Service Provided Value</th>\n",
              "      <th>Postal Code</th>\n",
              "    </tr>\n",
              "    <tr>\n",
              "      <th>Date</th>\n",
              "      <th></th>\n",
              "      <th></th>\n",
              "      <th></th>\n",
              "      <th></th>\n",
              "      <th></th>\n",
              "      <th></th>\n",
              "      <th></th>\n",
              "      <th></th>\n",
              "      <th></th>\n",
              "      <th></th>\n",
              "      <th></th>\n",
              "      <th></th>\n",
              "    </tr>\n",
              "  </thead>\n",
              "  <tbody>\n",
              "    <tr>\n",
              "      <th>2006-01-31</th>\n",
              "      <td>115.7</td>\n",
              "      <td>601.0</td>\n",
              "      <td>485.3</td>\n",
              "      <td>50.2</td>\n",
              "      <td>15.2</td>\n",
              "      <td>15.2</td>\n",
              "      <td>17.9</td>\n",
              "      <td>31.6</td>\n",
              "      <td>10.0</td>\n",
              "      <td>4.0</td>\n",
              "      <td>550.8</td>\n",
              "      <td>HI</td>\n",
              "    </tr>\n",
              "    <tr>\n",
              "      <th>2006-02-28</th>\n",
              "      <td>121.9</td>\n",
              "      <td>611.8</td>\n",
              "      <td>489.9</td>\n",
              "      <td>50.5</td>\n",
              "      <td>15.3</td>\n",
              "      <td>15.3</td>\n",
              "      <td>17.9</td>\n",
              "      <td>31.8</td>\n",
              "      <td>9.9</td>\n",
              "      <td>4.0</td>\n",
              "      <td>561.3</td>\n",
              "      <td>HI</td>\n",
              "    </tr>\n",
              "    <tr>\n",
              "      <th>2006-03-31</th>\n",
              "      <td>122.9</td>\n",
              "      <td>616.1</td>\n",
              "      <td>493.2</td>\n",
              "      <td>50.8</td>\n",
              "      <td>15.4</td>\n",
              "      <td>15.4</td>\n",
              "      <td>17.9</td>\n",
              "      <td>32.4</td>\n",
              "      <td>10.2</td>\n",
              "      <td>4.1</td>\n",
              "      <td>565.3</td>\n",
              "      <td>HI</td>\n",
              "    </tr>\n",
              "    <tr>\n",
              "      <th>2006-04-30</th>\n",
              "      <td>122.2</td>\n",
              "      <td>613.5</td>\n",
              "      <td>491.3</td>\n",
              "      <td>50.8</td>\n",
              "      <td>15.3</td>\n",
              "      <td>15.3</td>\n",
              "      <td>18.0</td>\n",
              "      <td>32.7</td>\n",
              "      <td>10.0</td>\n",
              "      <td>4.2</td>\n",
              "      <td>562.7</td>\n",
              "      <td>HI</td>\n",
              "    </tr>\n",
              "    <tr>\n",
              "      <th>2006-05-31</th>\n",
              "      <td>123.9</td>\n",
              "      <td>618.8</td>\n",
              "      <td>494.9</td>\n",
              "      <td>51.6</td>\n",
              "      <td>15.4</td>\n",
              "      <td>15.4</td>\n",
              "      <td>18.1</td>\n",
              "      <td>33.0</td>\n",
              "      <td>10.1</td>\n",
              "      <td>4.2</td>\n",
              "      <td>567.2</td>\n",
              "      <td>HI</td>\n",
              "    </tr>\n",
              "    <tr>\n",
              "      <th>...</th>\n",
              "      <td>...</td>\n",
              "      <td>...</td>\n",
              "      <td>...</td>\n",
              "      <td>...</td>\n",
              "      <td>...</td>\n",
              "      <td>...</td>\n",
              "      <td>...</td>\n",
              "      <td>...</td>\n",
              "      <td>...</td>\n",
              "      <td>...</td>\n",
              "      <td>...</td>\n",
              "      <td>...</td>\n",
              "    </tr>\n",
              "    <tr>\n",
              "      <th>2020-03-31</th>\n",
              "      <td>129.8</td>\n",
              "      <td>656.7</td>\n",
              "      <td>526.9</td>\n",
              "      <td>51.9</td>\n",
              "      <td>13.9</td>\n",
              "      <td>13.9</td>\n",
              "      <td>18.0</td>\n",
              "      <td>34.3</td>\n",
              "      <td>10.3</td>\n",
              "      <td>3.5</td>\n",
              "      <td>604.8</td>\n",
              "      <td>HI</td>\n",
              "    </tr>\n",
              "    <tr>\n",
              "      <th>2020-04-30</th>\n",
              "      <td>116.4</td>\n",
              "      <td>528.6</td>\n",
              "      <td>412.2</td>\n",
              "      <td>46.8</td>\n",
              "      <td>10.5</td>\n",
              "      <td>10.5</td>\n",
              "      <td>15.9</td>\n",
              "      <td>26.5</td>\n",
              "      <td>7.6</td>\n",
              "      <td>3.3</td>\n",
              "      <td>481.8</td>\n",
              "      <td>HI</td>\n",
              "    </tr>\n",
              "    <tr>\n",
              "      <th>2020-05-31</th>\n",
              "      <td>115.3</td>\n",
              "      <td>528.0</td>\n",
              "      <td>412.7</td>\n",
              "      <td>49.1</td>\n",
              "      <td>11.6</td>\n",
              "      <td>11.6</td>\n",
              "      <td>15.6</td>\n",
              "      <td>24.9</td>\n",
              "      <td>6.4</td>\n",
              "      <td>3.1</td>\n",
              "      <td>478.9</td>\n",
              "      <td>HI</td>\n",
              "    </tr>\n",
              "    <tr>\n",
              "      <th>2020-06-30</th>\n",
              "      <td>116.2</td>\n",
              "      <td>548.8</td>\n",
              "      <td>432.6</td>\n",
              "      <td>49.6</td>\n",
              "      <td>11.6</td>\n",
              "      <td>11.6</td>\n",
              "      <td>15.6</td>\n",
              "      <td>24.7</td>\n",
              "      <td>6.2</td>\n",
              "      <td>3.1</td>\n",
              "      <td>499.2</td>\n",
              "      <td>HI</td>\n",
              "    </tr>\n",
              "    <tr>\n",
              "      <th>2020-07-31</th>\n",
              "      <td>116.2</td>\n",
              "      <td>541.2</td>\n",
              "      <td>425.0</td>\n",
              "      <td>48.7</td>\n",
              "      <td>11.3</td>\n",
              "      <td>11.3</td>\n",
              "      <td>15.4</td>\n",
              "      <td>24.3</td>\n",
              "      <td>6.5</td>\n",
              "      <td>3.1</td>\n",
              "      <td>492.5</td>\n",
              "      <td>HI</td>\n",
              "    </tr>\n",
              "  </tbody>\n",
              "</table>\n",
              "<p>175 rows × 12 columns</p>\n",
              "</div>"
            ],
            "text/plain": [
              "            Total Government Value  ...  Postal Code\n",
              "Date                                ...             \n",
              "2006-01-31                   115.7  ...           HI\n",
              "2006-02-28                   121.9  ...           HI\n",
              "2006-03-31                   122.9  ...           HI\n",
              "2006-04-30                   122.2  ...           HI\n",
              "2006-05-31                   123.9  ...           HI\n",
              "...                            ...  ...          ...\n",
              "2020-03-31                   129.8  ...           HI\n",
              "2020-04-30                   116.4  ...           HI\n",
              "2020-05-31                   115.3  ...           HI\n",
              "2020-06-30                   116.2  ...           HI\n",
              "2020-07-31                   116.2  ...           HI\n",
              "\n",
              "[175 rows x 12 columns]"
            ]
          },
          "metadata": {
            "tags": []
          },
          "execution_count": 305
        }
      ]
    },
    {
      "cell_type": "markdown",
      "metadata": {
        "id": "KUoKEXcR5gkj",
        "colab_type": "text"
      },
      "source": [
        "# Georgia"
      ]
    },
    {
      "cell_type": "code",
      "metadata": {
        "colab_type": "code",
        "id": "ONCoSbhU5nc9",
        "colab": {}
      },
      "source": [
        "#All Employees, In Thousands; Total Government Providing -Rhode Island \n",
        "geo_gov = quandl.get(\"BLSE/SMU13000009000000001\", start_date=\"2000-01-01\", end_date=\"2020-08-01\")\n",
        "geo_gov.columns= ['Total Government Value']"
      ],
      "execution_count": 255,
      "outputs": []
    },
    {
      "cell_type": "code",
      "metadata": {
        "colab_type": "code",
        "id": "FVGo9jSP5ndA",
        "colab": {}
      },
      "source": [
        "#All Employees, In Thousands; Total Nonfarm Providing -Rhode Island\n",
        "geo_nonfarm = quandl.get(\"BLSE/SMU13000000000000001\", start_date=\"2000-01-01\", end_date=\"2020-08-01\")\n",
        "geo_nonfarm.columns= ['Total Nonfarm Provided Value']"
      ],
      "execution_count": 256,
      "outputs": []
    },
    {
      "cell_type": "code",
      "metadata": {
        "colab_type": "code",
        "id": "QEVplzqY5ndD",
        "colab": {}
      },
      "source": [
        "#All Employees, In Thousands; Total Private Providing -South Carolina\n",
        "geo_priv = quandl.get(\"BLSE/SMU13000000500000001\", start_date=\"2000-01-01\", end_date=\"2020-08-01\")\n",
        "geo_priv.columns= ['Total Private Industry Value']"
      ],
      "execution_count": 257,
      "outputs": []
    },
    {
      "cell_type": "code",
      "metadata": {
        "colab_type": "code",
        "id": "VxiVDgTl5ndI",
        "colab": {}
      },
      "source": [
        "#All Employees, In Thousands; Total Goods Producing Providing -South Carolina\n",
        "geo_goods = quandl.get(\"BLSE/SMU13000000600000001\", start_date=\"2000-01-01\", end_date=\"2020-08-01\")\n",
        "geo_goods.columns= ['Total Goods Produced Value']"
      ],
      "execution_count": 258,
      "outputs": []
    },
    {
      "cell_type": "code",
      "metadata": {
        "colab_type": "code",
        "id": "Ne6yEVST5ndL",
        "colab": {}
      },
      "source": [
        "#All Employees, In Thousands; Total Service Providing -South Carolina\n",
        "geo_serv = quandl.get(\"BLSE/SMU13000000700000001\", start_date=\"2000-01-01\", end_date=\"2020-08-01\")\n",
        "geo_serv.columns= ['Total Service Provided Value']"
      ],
      "execution_count": 259,
      "outputs": []
    },
    {
      "cell_type": "code",
      "metadata": {
        "colab_type": "code",
        "id": "kQtZ2imo5ndO",
        "colab": {}
      },
      "source": [
        "#All Employees, In Thousands; Total Mining & Logging Providing -South Carolina\n",
        "geo_mine = quandl.get(\"BLSE/SMU13000001000000001\", start_date=\"2000-01-01\", end_date=\"2020-08-01\")\n",
        "geo_mine.columns= ['Total Mining & Logging Value']"
      ],
      "execution_count": 260,
      "outputs": []
    },
    {
      "cell_type": "code",
      "metadata": {
        "colab_type": "code",
        "id": "8GbytG6w5ndS",
        "colab": {}
      },
      "source": [
        "#All Employees, In Thousands; Total Manufacture Providing -South Carolina\n",
        "geo_manu = quandl.get(\"BLSE/SMU13000003000000001\", start_date=\"2000-01-01\", end_date=\"2020-08-01\")\n",
        "geo_manu.columns= ['Total Manufacture Value']"
      ],
      "execution_count": 261,
      "outputs": []
    },
    {
      "cell_type": "code",
      "metadata": {
        "colab_type": "code",
        "id": "EDozf8K95ndT",
        "colab": {}
      },
      "source": [
        "#All Employees, In Thousands; Total Durable Goods Providing -South Carolina\n",
        "geo_durable = quandl.get(\"BLSE/SMU13000003000000001\", start_date=\"2000-01-01\", end_date=\"2020-08-01\")\n",
        "geo_durable.columns= ['Total Durable Goods Value']"
      ],
      "execution_count": 262,
      "outputs": []
    },
    {
      "cell_type": "code",
      "metadata": {
        "colab_type": "code",
        "id": "kjJZ-ZVx5ndY",
        "colab": {}
      },
      "source": [
        "#All Employees, In Thousands; Total Wholesale Trade Providing -South Carolina\n",
        "geo_wholesale = quandl.get(\"BLSE/SMU13000004100000001\", start_date=\"2000-01-01\", end_date=\"2020-08-01\")\n",
        "geo_wholesale.columns= ['Wholesale Trade Value']"
      ],
      "execution_count": 263,
      "outputs": []
    },
    {
      "cell_type": "code",
      "metadata": {
        "colab_type": "code",
        "id": "whv8C2Li5nda",
        "colab": {}
      },
      "source": [
        "#All Employees, In Thousands; Total Transportation & Utilities Providing -South Carolina\n",
        "geo_transutil = quandl.get(\"BLSE/SMU13000004300000001\", start_date=\"2000-01-01\", end_date=\"2020-08-01\")\n",
        "geo_transutil.columns= ['Total Transportation & Utilities Value']"
      ],
      "execution_count": 264,
      "outputs": []
    },
    {
      "cell_type": "code",
      "metadata": {
        "colab_type": "code",
        "id": "wwyyB2Cv5ndb",
        "colab": {}
      },
      "source": [
        "#All Employees, In Thousands; Total Truck Transportation Providing -South Carolina\n",
        "geo_truck = quandl.get(\"BLSE/SMU13000004348400001\", start_date=\"2000-01-01\", end_date=\"2020-08-01\")\n",
        "geo_truck.columns= ['Total Truck Transportation Provided Value']"
      ],
      "execution_count": 265,
      "outputs": []
    },
    {
      "cell_type": "code",
      "metadata": {
        "colab_type": "code",
        "id": "2X47ZMrU5ndd",
        "colab": {}
      },
      "source": [
        "#All Employees, In Thousands; Total Telecommunications Transportation Providing -South Carolina\n",
        "geo_telecom = quandl.get(\"BLSE/SMU13000005051700001\", start_date=\"2000-01-01\", end_date=\"2020-08-01\")\n",
        "geo_telecom.columns= ['Total Telecommunication Value']"
      ],
      "execution_count": 266,
      "outputs": []
    },
    {
      "cell_type": "code",
      "metadata": {
        "colab_type": "code",
        "id": "qPYVWHl_5ndk",
        "colab": {}
      },
      "source": [
        "#All Employees, In Thousands; Total Real Estate Transportation Providing -South Carolina\n",
        "geo_air = quandl.get(\"BLSE/SMU13000004348100001\", start_date=\"2000-01-01\", end_date=\"2020-08-01\")\n",
        "geo_air.columns= ['Total Air Transportation Value']"
      ],
      "execution_count": 267,
      "outputs": []
    },
    {
      "cell_type": "code",
      "metadata": {
        "colab_type": "code",
        "id": "UhXVHbwf5ndq",
        "colab": {}
      },
      "source": [
        "geo5 = pd.merge(geo_truck, geo_telecom, on='Date')"
      ],
      "execution_count": 268,
      "outputs": []
    },
    {
      "cell_type": "code",
      "metadata": {
        "colab_type": "code",
        "id": "LVgIbGY55nds",
        "colab": {}
      },
      "source": [
        "geo4 = pd.merge(geo_wholesale, geo_transutil, on='Date')"
      ],
      "execution_count": 269,
      "outputs": []
    },
    {
      "cell_type": "code",
      "metadata": {
        "colab_type": "code",
        "id": "rNTM6DMj5ndt",
        "colab": {}
      },
      "source": [
        "geo3 = pd.merge(geo_manu, geo_durable, on='Date')"
      ],
      "execution_count": 270,
      "outputs": []
    },
    {
      "cell_type": "code",
      "metadata": {
        "colab_type": "code",
        "id": "5tpx5_SB5ndv",
        "colab": {}
      },
      "source": [
        "geo2 = pd.merge(geo_serv, geo_mine, on='Date')"
      ],
      "execution_count": 271,
      "outputs": []
    },
    {
      "cell_type": "code",
      "metadata": {
        "colab_type": "code",
        "id": "cpqUBY1w5ndy",
        "colab": {}
      },
      "source": [
        "geo1 = pd.merge(geo_priv, geo_goods, on='Date')"
      ],
      "execution_count": 272,
      "outputs": []
    },
    {
      "cell_type": "code",
      "metadata": {
        "colab_type": "code",
        "id": "G74uORu35nd1",
        "colab": {}
      },
      "source": [
        "geo = pd.merge(geo_gov, geo_nonfarm, on='Date')"
      ],
      "execution_count": 273,
      "outputs": []
    },
    {
      "cell_type": "code",
      "metadata": {
        "colab_type": "code",
        "id": "ysN7ZguS5nd4",
        "colab": {}
      },
      "source": [
        "geo_j1 = pd.merge(geo, geo1, on='Date')"
      ],
      "execution_count": 274,
      "outputs": []
    },
    {
      "cell_type": "code",
      "metadata": {
        "colab_type": "code",
        "id": "CRBnLJNs5nd6",
        "colab": {}
      },
      "source": [
        "geo_j2 = pd.merge(geo_j1, geo2, on='Date')"
      ],
      "execution_count": 275,
      "outputs": []
    },
    {
      "cell_type": "code",
      "metadata": {
        "colab_type": "code",
        "id": "7W_Yoymi5nd9",
        "colab": {}
      },
      "source": [
        "geo_j3 = pd.merge(geo_j2, geo3, on='Date')"
      ],
      "execution_count": 276,
      "outputs": []
    },
    {
      "cell_type": "code",
      "metadata": {
        "colab_type": "code",
        "id": "IrY52oUI5neA",
        "colab": {}
      },
      "source": [
        "geo_j4 = pd.merge(geo_j3, geo4, on='Date')"
      ],
      "execution_count": 277,
      "outputs": []
    },
    {
      "cell_type": "code",
      "metadata": {
        "colab_type": "code",
        "id": "VnyuhRjW5neE",
        "colab": {}
      },
      "source": [
        "geo_j5 = pd.merge(geo_j4, geo5, on='Date')"
      ],
      "execution_count": 278,
      "outputs": []
    },
    {
      "cell_type": "code",
      "metadata": {
        "colab_type": "code",
        "id": "1sXOyTpg5neG",
        "colab": {}
      },
      "source": [
        "geo_j6 = pd.merge(geo_j5, geo_air, on='Date')\n"
      ],
      "execution_count": 280,
      "outputs": []
    },
    {
      "cell_type": "code",
      "metadata": {
        "id": "3b8OtDI3eWS4",
        "colab_type": "code",
        "colab": {}
      },
      "source": [
        "geo_j6['Postal Code'] = 'GA'"
      ],
      "execution_count": 282,
      "outputs": []
    },
    {
      "cell_type": "markdown",
      "metadata": {
        "id": "8xu25ltz7oyW",
        "colab_type": "text"
      },
      "source": [
        "# Florida"
      ]
    },
    {
      "cell_type": "code",
      "metadata": {
        "colab_type": "code",
        "id": "N7qdtLtL7vEo",
        "colab": {}
      },
      "source": [
        "#All Employees, In Thousands; Total Government Providing -Rhode Island \n",
        "flo_gov = quandl.get(\"BLSE/SMU12000009000000001\", start_date=\"2000-01-01\", end_date=\"2020-08-01\")\n",
        "flo_gov.columns= ['Total Government Value']"
      ],
      "execution_count": 227,
      "outputs": []
    },
    {
      "cell_type": "code",
      "metadata": {
        "colab_type": "code",
        "id": "orYdbri97vEu",
        "colab": {}
      },
      "source": [
        "#All Employees, In Thousands; Total Nonfarm Providing -Rhode Island\n",
        "flo_nonfarm = quandl.get(\"BLSE/SMU12000000000000001\", start_date=\"2000-01-01\", end_date=\"2020-08-01\")\n",
        "flo_nonfarm.columns= ['Total Nonfarm Provided Value']"
      ],
      "execution_count": 228,
      "outputs": []
    },
    {
      "cell_type": "code",
      "metadata": {
        "colab_type": "code",
        "id": "vCiGskmX7vEw",
        "colab": {}
      },
      "source": [
        "#All Employees, In Thousands; Total Private Providing -South Carolina\n",
        "flo_priv = quandl.get(\"BLSE/SMU12000000500000001\", start_date=\"2000-01-01\", end_date=\"2020-08-01\")\n",
        "flo_priv.columns= ['Total Private Industry Value']"
      ],
      "execution_count": 229,
      "outputs": []
    },
    {
      "cell_type": "code",
      "metadata": {
        "colab_type": "code",
        "id": "c4cRiQuW7vEz",
        "colab": {}
      },
      "source": [
        "#All Employees, In Thousands; Total Goods Producing Providing -South Carolina\n",
        "flo_goods = quandl.get(\"BLSE/SMU12000000600000001\", start_date=\"2000-01-01\", end_date=\"2020-08-01\")\n",
        "flo_goods.columns= ['Total Goods Produced Value']"
      ],
      "execution_count": 230,
      "outputs": []
    },
    {
      "cell_type": "code",
      "metadata": {
        "colab_type": "code",
        "id": "qa0ku5jA7vE2",
        "colab": {}
      },
      "source": [
        "#All Employees, In Thousands; Total Service Providing -South Carolina\n",
        "flo_serv = quandl.get(\"BLSE/SMU12000000700000001\", start_date=\"2000-01-01\", end_date=\"2020-08-01\")\n",
        "flo_serv.columns= ['Total Service Provided Value']"
      ],
      "execution_count": 231,
      "outputs": []
    },
    {
      "cell_type": "code",
      "metadata": {
        "colab_type": "code",
        "id": "d4hMFOxm7vE5",
        "colab": {}
      },
      "source": [
        "#All Employees, In Thousands; Total Mining & Logging Providing -South Carolina\n",
        "flo_mine = quandl.get(\"BLSE/SMU12000001000000001\", start_date=\"2000-01-01\", end_date=\"2020-08-01\")\n",
        "flo_mine.columns= ['Total Mining & Logging Value']"
      ],
      "execution_count": 232,
      "outputs": []
    },
    {
      "cell_type": "code",
      "metadata": {
        "colab_type": "code",
        "id": "R46_Rsv67vE7",
        "colab": {}
      },
      "source": [
        "#All Employees, In Thousands; Total Manufacture Providing -South Carolina\n",
        "flo_manu = quandl.get(\"BLSE/SMU12000003000000001\", start_date=\"2000-01-01\", end_date=\"2020-08-01\")\n",
        "flo_manu.columns= ['Total Manufacture Value']"
      ],
      "execution_count": 233,
      "outputs": []
    },
    {
      "cell_type": "code",
      "metadata": {
        "colab_type": "code",
        "id": "mMHp5tBw7vE-",
        "colab": {}
      },
      "source": [
        "#All Employees, In Thousands; Total Durable Goods Providing -South Carolina\n",
        "flo_durable = quandl.get(\"BLSE/SMU12000003000000001\", start_date=\"2000-01-01\", end_date=\"2020-08-01\")\n",
        "flo_durable.columns= ['Total Durable Goods Value']"
      ],
      "execution_count": 234,
      "outputs": []
    },
    {
      "cell_type": "code",
      "metadata": {
        "colab_type": "code",
        "id": "KMiBM1uc7vFA",
        "colab": {}
      },
      "source": [
        "#All Employees, In Thousands; Total Wholesale Trade Providing -South Carolina\n",
        "flo_wholesale = quandl.get(\"BLSE/SMU12000004100000001\", start_date=\"2000-01-01\", end_date=\"2020-08-01\")\n",
        "flo_wholesale.columns= ['Wholesale Trade Value']"
      ],
      "execution_count": 235,
      "outputs": []
    },
    {
      "cell_type": "code",
      "metadata": {
        "colab_type": "code",
        "id": "lLr49bDe7vFG",
        "colab": {}
      },
      "source": [
        "#All Employees, In Thousands; Total Transportation & Utilities Providing -South Carolina\n",
        "flo_transutil = quandl.get(\"BLSE/SMU12000004300000001\", start_date=\"2000-01-01\", end_date=\"2020-08-01\")\n",
        "flo_transutil.columns= ['Total Transportation & Utilities Value']"
      ],
      "execution_count": 236,
      "outputs": []
    },
    {
      "cell_type": "code",
      "metadata": {
        "colab_type": "code",
        "id": "LFOpO8Tu7vFJ",
        "colab": {}
      },
      "source": [
        "#All Employees, In Thousands; Total Truck Transportation Providing -South Carolina\n",
        "flo_truck = quandl.get(\"BLSE/SMU12000004348400001\", start_date=\"2000-01-01\", end_date=\"2020-08-01\")\n",
        "flo_truck.columns= ['Total Truck Transportation Provided Value']"
      ],
      "execution_count": 237,
      "outputs": []
    },
    {
      "cell_type": "code",
      "metadata": {
        "colab_type": "code",
        "id": "RE_H23UD7vFL",
        "colab": {}
      },
      "source": [
        "#All Employees, In Thousands; Total Telecommunications Transportation Providing -South Carolina\n",
        "flo_telecom = quandl.get(\"BLSE/SMU12000005051700001\", start_date=\"2000-01-01\", end_date=\"2020-08-01\")\n",
        "flo_telecom.columns= ['Total Telecommunication Value']"
      ],
      "execution_count": 238,
      "outputs": []
    },
    {
      "cell_type": "code",
      "metadata": {
        "colab_type": "code",
        "id": "I7UhzVxA7vFN",
        "colab": {}
      },
      "source": [
        "#All Employees, In Thousands; Total Real Estate Transportation Providing -South Carolina\n",
        "flo_estate = quandl.get(\"BLSE/SMU12000005553100001\", start_date=\"2000-01-01\", end_date=\"2020-08-01\")\n",
        "flo_estate.columns= ['Total Real Estate Value']"
      ],
      "execution_count": 239,
      "outputs": []
    },
    {
      "cell_type": "code",
      "metadata": {
        "colab_type": "code",
        "id": "CExLMBox7vFP",
        "colab": {}
      },
      "source": [
        "#All Employees, In Thousands; Total Real Estate Transportation Providing -South Carolina\n",
        "flo_air = quandl.get(\"BLSE/SMU12000004348100001\", start_date=\"2000-01-01\", end_date=\"2020-08-01\")\n",
        "flo_air.columns= ['Total Air Transportation Value']"
      ],
      "execution_count": 240,
      "outputs": []
    },
    {
      "cell_type": "code",
      "metadata": {
        "colab_type": "code",
        "id": "AWn7RYVq7vFS",
        "colab": {}
      },
      "source": [
        "flo6 = pd.merge(flo_estate, flo_air, on='Date')"
      ],
      "execution_count": 241,
      "outputs": []
    },
    {
      "cell_type": "code",
      "metadata": {
        "colab_type": "code",
        "id": "TpKRoon67vFV",
        "colab": {}
      },
      "source": [
        "flo5 = pd.merge(flo_truck, flo_telecom, on='Date')"
      ],
      "execution_count": 242,
      "outputs": []
    },
    {
      "cell_type": "code",
      "metadata": {
        "colab_type": "code",
        "id": "bWV6nUds7vFX",
        "colab": {}
      },
      "source": [
        "flo4 = pd.merge(flo_wholesale, flo_transutil, on='Date')"
      ],
      "execution_count": 243,
      "outputs": []
    },
    {
      "cell_type": "code",
      "metadata": {
        "colab_type": "code",
        "id": "bqemLHo77vFZ",
        "colab": {}
      },
      "source": [
        "flo3 = pd.merge(flo_manu, flo_durable, on='Date')"
      ],
      "execution_count": 244,
      "outputs": []
    },
    {
      "cell_type": "code",
      "metadata": {
        "colab_type": "code",
        "id": "16V8YfU07vFa",
        "colab": {}
      },
      "source": [
        "flo2 = pd.merge(flo_serv, flo_mine, on='Date')"
      ],
      "execution_count": 245,
      "outputs": []
    },
    {
      "cell_type": "code",
      "metadata": {
        "colab_type": "code",
        "id": "1DksORDX7vFc",
        "colab": {}
      },
      "source": [
        "flo1 = pd.merge(flo_priv, flo_goods, on='Date')"
      ],
      "execution_count": 246,
      "outputs": []
    },
    {
      "cell_type": "code",
      "metadata": {
        "colab_type": "code",
        "id": "BByO315r7vFf",
        "colab": {}
      },
      "source": [
        "flo = pd.merge(flo_gov, flo_nonfarm, on='Date')"
      ],
      "execution_count": 247,
      "outputs": []
    },
    {
      "cell_type": "code",
      "metadata": {
        "colab_type": "code",
        "id": "j8M39aeg7vFh",
        "colab": {}
      },
      "source": [
        "flo_j1 = pd.merge(flo, flo1, on='Date')"
      ],
      "execution_count": 248,
      "outputs": []
    },
    {
      "cell_type": "code",
      "metadata": {
        "colab_type": "code",
        "id": "vzYgJ5Et7vFm",
        "colab": {}
      },
      "source": [
        "flo_j2 = pd.merge(flo_j1, flo2, on='Date')"
      ],
      "execution_count": 249,
      "outputs": []
    },
    {
      "cell_type": "code",
      "metadata": {
        "colab_type": "code",
        "id": "3B7zroa07vFo",
        "colab": {}
      },
      "source": [
        "flo_j3 = pd.merge(flo_j2, flo3, on='Date')"
      ],
      "execution_count": 250,
      "outputs": []
    },
    {
      "cell_type": "code",
      "metadata": {
        "colab_type": "code",
        "id": "4I4ptfyp7vFq",
        "colab": {}
      },
      "source": [
        "flo_j4 = pd.merge(flo_j3, flo4, on='Date')"
      ],
      "execution_count": 251,
      "outputs": []
    },
    {
      "cell_type": "code",
      "metadata": {
        "colab_type": "code",
        "id": "nndM-iwD7vFr",
        "colab": {}
      },
      "source": [
        "flo_j5 = pd.merge(flo_j4, flo5, on='Date')"
      ],
      "execution_count": 252,
      "outputs": []
    },
    {
      "cell_type": "code",
      "metadata": {
        "colab_type": "code",
        "id": "M7nH_hJz7vFt",
        "colab": {}
      },
      "source": [
        "flo_j6 = pd.merge(flo_j5, flo6, on='Date')\n",
        "# flo_j6"
      ],
      "execution_count": 253,
      "outputs": []
    },
    {
      "cell_type": "code",
      "metadata": {
        "id": "z9jzyJ1-bhd2",
        "colab_type": "code",
        "colab": {}
      },
      "source": [
        "flo_j6['Postal Code'] = 'FL'"
      ],
      "execution_count": 254,
      "outputs": []
    },
    {
      "cell_type": "markdown",
      "metadata": {
        "id": "AQxZYwEL9eeO",
        "colab_type": "text"
      },
      "source": [
        "# District of Columbia"
      ]
    },
    {
      "cell_type": "code",
      "metadata": {
        "colab_type": "code",
        "id": "VpTraESp9lSU",
        "colab": {}
      },
      "source": [
        "#All Employees, In Thousands; Total Government Providing -Rhode Island \n",
        "dc_gov = quandl.get(\"BLSE/SMU11000009000000001\", start_date=\"2000-01-01\", end_date=\"2020-08-01\")\n",
        "dc_gov.columns= ['Total Government Value']"
      ],
      "execution_count": 208,
      "outputs": []
    },
    {
      "cell_type": "code",
      "metadata": {
        "colab_type": "code",
        "id": "J8bRl5Ut9lSV",
        "colab": {}
      },
      "source": [
        "#All Employees, In Thousands; Total Nonfarm Providing -Rhode Island\n",
        "dc_nonfarm = quandl.get(\"BLSE/SMU11000000000000001\", start_date=\"2000-01-01\", end_date=\"2020-08-01\")\n",
        "dc_nonfarm.columns= ['Total Nonfarm Provided Value']"
      ],
      "execution_count": 209,
      "outputs": []
    },
    {
      "cell_type": "code",
      "metadata": {
        "colab_type": "code",
        "id": "yDtQ_V3Z9lSY",
        "colab": {}
      },
      "source": [
        "#All Employees, In Thousands; Total Private Providing -South Carolina\n",
        "dc_priv = quandl.get(\"BLSE/SMU11000000500000001\", start_date=\"2000-01-01\", end_date=\"2020-08-01\")\n",
        "dc_priv.columns= ['Total Private Industry Value']"
      ],
      "execution_count": 210,
      "outputs": []
    },
    {
      "cell_type": "code",
      "metadata": {
        "colab_type": "code",
        "id": "wQ7HLbUj9lSa",
        "colab": {}
      },
      "source": [
        "#All Employees, In Thousands; Total Goods Producing Providing -South Carolina\n",
        "dc_goods = quandl.get(\"BLSE/SMU11000000600000001\", start_date=\"2000-01-01\", end_date=\"2020-08-01\")\n",
        "dc_goods.columns= ['Total Goods Produced Value']"
      ],
      "execution_count": 211,
      "outputs": []
    },
    {
      "cell_type": "code",
      "metadata": {
        "colab_type": "code",
        "id": "9O4XT2rl9lSc",
        "colab": {}
      },
      "source": [
        "#All Employees, In Thousands; Total Service Providing -South Carolina\n",
        "dc_serv = quandl.get(\"BLSE/SMU11000000700000001\", start_date=\"2000-01-01\", end_date=\"2020-08-01\")\n",
        "dc_serv.columns= ['Total Service Provided Value']"
      ],
      "execution_count": 212,
      "outputs": []
    },
    {
      "cell_type": "code",
      "metadata": {
        "colab_type": "code",
        "id": "8LCJbTIF9lSf",
        "colab": {}
      },
      "source": [
        "#All Employees, In Thousands; Total Manufacture Providing -South Carolina\n",
        "dc_manu = quandl.get(\"BLSE/SMU11000003000000001\", start_date=\"2000-01-01\", end_date=\"2020-08-01\")\n",
        "dc_manu.columns= ['Total Manufacture Value']"
      ],
      "execution_count": 213,
      "outputs": []
    },
    {
      "cell_type": "code",
      "metadata": {
        "colab_type": "code",
        "id": "4t23WHz49lSj",
        "colab": {}
      },
      "source": [
        "#All Employees, In Thousands; Total Durable Goods Providing -South Carolina\n",
        "dc_durable = quandl.get(\"BLSE/SMU11000003000000001\", start_date=\"2000-01-01\", end_date=\"2020-08-01\")\n",
        "dc_durable.columns= ['Total Durable Goods Value']"
      ],
      "execution_count": 214,
      "outputs": []
    },
    {
      "cell_type": "code",
      "metadata": {
        "colab_type": "code",
        "id": "6u1W1mAZ9lSk",
        "colab": {}
      },
      "source": [
        "#All Employees, In Thousands; Total Wholesale Trade Providing -South Carolina\n",
        "dc_wholesale = quandl.get(\"BLSE/SMU11000004100000001\", start_date=\"2000-01-01\", end_date=\"2020-08-01\")\n",
        "dc_wholesale.columns= ['Wholesale Trade Value']"
      ],
      "execution_count": 215,
      "outputs": []
    },
    {
      "cell_type": "code",
      "metadata": {
        "colab_type": "code",
        "id": "pZjxiK1J9lSm",
        "colab": {}
      },
      "source": [
        "#All Employees, In Thousands; Total Transportation & Utilities Providing -South Carolina\n",
        "dc_transutil = quandl.get(\"BLSE/SMU11000004300000001\", start_date=\"2000-01-01\", end_date=\"2020-08-01\")\n",
        "dc_transutil.columns= ['Total Transportation & Utilities Value']"
      ],
      "execution_count": 216,
      "outputs": []
    },
    {
      "cell_type": "code",
      "metadata": {
        "colab_type": "code",
        "id": "_EyQa2zA9lS4",
        "colab": {}
      },
      "source": [
        "dc3 = pd.merge(dc_wholesale, dc_transutil, on='Date')"
      ],
      "execution_count": 217,
      "outputs": []
    },
    {
      "cell_type": "code",
      "metadata": {
        "colab_type": "code",
        "id": "ntO-vybl9lS5",
        "colab": {}
      },
      "source": [
        "dc2 = pd.merge(dc_manu, dc_durable, on='Date')"
      ],
      "execution_count": 218,
      "outputs": []
    },
    {
      "cell_type": "code",
      "metadata": {
        "colab_type": "code",
        "id": "MXJIp9Mq9lS8",
        "colab": {}
      },
      "source": [
        "dc1 = pd.merge(dc_priv, dc_goods, on='Date')"
      ],
      "execution_count": 219,
      "outputs": []
    },
    {
      "cell_type": "code",
      "metadata": {
        "colab_type": "code",
        "id": "5tqi0ujy9lTA",
        "colab": {}
      },
      "source": [
        "dc = pd.merge(dc_gov, dc_nonfarm, on='Date')"
      ],
      "execution_count": 220,
      "outputs": []
    },
    {
      "cell_type": "code",
      "metadata": {
        "colab_type": "code",
        "id": "IZvjfCko9lTD",
        "colab": {}
      },
      "source": [
        "dc_j1 = pd.merge(dc, dc1, on='Date')"
      ],
      "execution_count": 221,
      "outputs": []
    },
    {
      "cell_type": "code",
      "metadata": {
        "colab_type": "code",
        "id": "-7zHbBi99lTF",
        "colab": {}
      },
      "source": [
        "dc_j2 = pd.merge(dc_j1, dc2, on='Date')"
      ],
      "execution_count": 222,
      "outputs": []
    },
    {
      "cell_type": "code",
      "metadata": {
        "colab_type": "code",
        "id": "3cfrzJq39lTK",
        "colab": {}
      },
      "source": [
        "dc_j3 = pd.merge(dc_j2, dc3, on='Date')"
      ],
      "execution_count": 223,
      "outputs": []
    },
    {
      "cell_type": "code",
      "metadata": {
        "id": "8D1C0oEb-87p",
        "colab_type": "code",
        "colab": {}
      },
      "source": [
        "dc_j4 = pd.merge(dc_j3, dc_serv, on='Date')\n",
        "# dc_j4"
      ],
      "execution_count": 224,
      "outputs": []
    },
    {
      "cell_type": "code",
      "metadata": {
        "id": "R_PWvek9af5Y",
        "colab_type": "code",
        "colab": {}
      },
      "source": [
        "dc_j4['Postal Code'] = 'DC'"
      ],
      "execution_count": 226,
      "outputs": []
    },
    {
      "cell_type": "markdown",
      "metadata": {
        "id": "3blfVSkk_QTd",
        "colab_type": "text"
      },
      "source": [
        "# Delaware"
      ]
    },
    {
      "cell_type": "code",
      "metadata": {
        "colab_type": "code",
        "id": "zcH4aeqG_T5c",
        "colab": {}
      },
      "source": [
        "#All Employees, In Thousands; Total Government Providing -Rhode Island \n",
        "del_gov = quandl.get(\"BLSE/SMU10000009000000001\", start_date=\"2000-01-01\", end_date=\"2020-08-01\")\n",
        "del_gov.columns= ['Total Government Value']"
      ],
      "execution_count": 189,
      "outputs": []
    },
    {
      "cell_type": "code",
      "metadata": {
        "colab_type": "code",
        "id": "86WRLs6f_T5e",
        "colab": {}
      },
      "source": [
        "#All Employees, In Thousands; Total Nonfarm Providing -Rhode Island\n",
        "del_nonfarm = quandl.get(\"BLSE/SMU10000000000000001\", start_date=\"2000-01-01\", end_date=\"2020-08-01\")\n",
        "del_nonfarm.columns= ['Total Nonfarm Provided Value']"
      ],
      "execution_count": 190,
      "outputs": []
    },
    {
      "cell_type": "code",
      "metadata": {
        "colab_type": "code",
        "id": "GwKWt-1H_T5g",
        "colab": {}
      },
      "source": [
        "#All Employees, In Thousands; Total Private Providing -South Carolina\n",
        "del_priv = quandl.get(\"BLSE/SMU10000000500000001\", start_date=\"2000-01-01\", end_date=\"2020-08-01\")\n",
        "del_priv.columns= ['Total Private Industry Value']"
      ],
      "execution_count": 191,
      "outputs": []
    },
    {
      "cell_type": "code",
      "metadata": {
        "colab_type": "code",
        "id": "L6D7Ebmn_T5i",
        "colab": {}
      },
      "source": [
        "#All Employees, In Thousands; Total Goods Producing Providing -South Carolina\n",
        "del_goods = quandl.get(\"BLSE/SMU10000000600000001\", start_date=\"2000-01-01\", end_date=\"2020-08-01\")\n",
        "del_goods.columns= ['Total Goods Produced Value']"
      ],
      "execution_count": 192,
      "outputs": []
    },
    {
      "cell_type": "code",
      "metadata": {
        "colab_type": "code",
        "id": "K3Uw56JZ_T5k",
        "colab": {}
      },
      "source": [
        "#All Employees, In Thousands; Total Service Providing -South Carolina\n",
        "del_serv = quandl.get(\"BLSE/SMU10000000700000001\", start_date=\"2000-01-01\", end_date=\"2020-08-01\")\n",
        "del_serv.columns= ['Total Service Provided Value']"
      ],
      "execution_count": 193,
      "outputs": []
    },
    {
      "cell_type": "code",
      "metadata": {
        "colab_type": "code",
        "id": "CpyceUGE_T5q",
        "colab": {}
      },
      "source": [
        "#All Employees, In Thousands; Total Manufacture Providing -South Carolina\n",
        "del_manu = quandl.get(\"BLSE/SMU10000003000000001\", start_date=\"2000-01-01\", end_date=\"2020-08-01\")\n",
        "del_manu.columns= ['Total Manufacture Value']"
      ],
      "execution_count": 194,
      "outputs": []
    },
    {
      "cell_type": "code",
      "metadata": {
        "colab_type": "code",
        "id": "95dQ9g2F_T5r",
        "colab": {}
      },
      "source": [
        "#All Employees, In Thousands; Total Durable Goods Providing -South Carolina\n",
        "del_durable = quandl.get(\"BLSE/SMU10000003000000001\", start_date=\"2000-01-01\", end_date=\"2020-08-01\")\n",
        "del_durable.columns= ['Total Durable Goods Value']"
      ],
      "execution_count": 195,
      "outputs": []
    },
    {
      "cell_type": "code",
      "metadata": {
        "colab_type": "code",
        "id": "f34xT1zm_T5t",
        "colab": {}
      },
      "source": [
        "#All Employees, In Thousands; Total Wholesale Trade Providing -South Carolina\n",
        "del_wholesale = quandl.get(\"BLSE/SMU10000004100000001\", start_date=\"2000-01-01\", end_date=\"2020-08-01\")\n",
        "del_wholesale.columns= ['Wholesale Trade Value']"
      ],
      "execution_count": 196,
      "outputs": []
    },
    {
      "cell_type": "code",
      "metadata": {
        "colab_type": "code",
        "id": "F99caD1j_T5v",
        "colab": {}
      },
      "source": [
        "#All Employees, In Thousands; Total Transportation & Utilities Providing -South Carolina\n",
        "del_transutil = quandl.get(\"BLSE/SMU10000004300000001\", start_date=\"2000-01-01\", end_date=\"2020-08-01\")\n",
        "del_transutil.columns= ['Total Transportation & Utilities Value']"
      ],
      "execution_count": 198,
      "outputs": []
    },
    {
      "cell_type": "code",
      "metadata": {
        "colab_type": "code",
        "id": "26ywbNa2_T6E",
        "colab": {}
      },
      "source": [
        "del3 = pd.merge(del_wholesale, del_transutil, on='Date')"
      ],
      "execution_count": 199,
      "outputs": []
    },
    {
      "cell_type": "code",
      "metadata": {
        "colab_type": "code",
        "id": "V-cNxtcv_T6F",
        "colab": {}
      },
      "source": [
        "del2 = pd.merge(del_manu, del_durable, on='Date')"
      ],
      "execution_count": 200,
      "outputs": []
    },
    {
      "cell_type": "code",
      "metadata": {
        "colab_type": "code",
        "id": "tF7-6MkD_T6L",
        "colab": {}
      },
      "source": [
        "del1 = pd.merge(del_priv, del_goods, on='Date')"
      ],
      "execution_count": 201,
      "outputs": []
    },
    {
      "cell_type": "code",
      "metadata": {
        "colab_type": "code",
        "id": "sX_Tkciu_T6N",
        "colab": {}
      },
      "source": [
        "dela = pd.merge(del_gov, del_nonfarm, on='Date')"
      ],
      "execution_count": 202,
      "outputs": []
    },
    {
      "cell_type": "code",
      "metadata": {
        "colab_type": "code",
        "id": "pjGVUAQO_T6O",
        "colab": {}
      },
      "source": [
        "del_j1 = pd.merge(dela, del1, on='Date')"
      ],
      "execution_count": 203,
      "outputs": []
    },
    {
      "cell_type": "code",
      "metadata": {
        "colab_type": "code",
        "id": "4su5oyek_T6P",
        "colab": {}
      },
      "source": [
        "del_j2 = pd.merge(del_j1, del2, on='Date')"
      ],
      "execution_count": 204,
      "outputs": []
    },
    {
      "cell_type": "code",
      "metadata": {
        "colab_type": "code",
        "id": "5QsaGjYx_T6S",
        "colab": {}
      },
      "source": [
        "del_j3 = pd.merge(del_j2, del3, on='Date')"
      ],
      "execution_count": 205,
      "outputs": []
    },
    {
      "cell_type": "code",
      "metadata": {
        "colab_type": "code",
        "id": "o1P71qKz_T6U",
        "colab": {}
      },
      "source": [
        "del_j4 = pd.merge(del_j3, del_serv, on='Date')\n",
        "# del_j4"
      ],
      "execution_count": 206,
      "outputs": []
    },
    {
      "cell_type": "code",
      "metadata": {
        "id": "s1SrnCCiaJLc",
        "colab_type": "code",
        "colab": {}
      },
      "source": [
        "del_j4['Postal Code'] = 'DE'"
      ],
      "execution_count": 207,
      "outputs": []
    },
    {
      "cell_type": "markdown",
      "metadata": {
        "id": "ONJ49ysRBHSQ",
        "colab_type": "text"
      },
      "source": [
        "# Connecticut"
      ]
    },
    {
      "cell_type": "code",
      "metadata": {
        "id": "Q0_7_9Y8BMgi",
        "colab_type": "code",
        "colab": {}
      },
      "source": [
        ""
      ],
      "execution_count": null,
      "outputs": []
    },
    {
      "cell_type": "code",
      "metadata": {
        "colab_type": "code",
        "id": "j6_2x7x1BN7n",
        "colab": {}
      },
      "source": [
        "#All Employees, In Thousands; Total Government Providing -Rhode Island \n",
        "conn_gov = quandl.get(\"BLSE/SMU09000009000000001\", start_date=\"2000-01-01\", end_date=\"2020-08-01\")\n",
        "conn_gov.columns= ['Total Government Value']"
      ],
      "execution_count": 164,
      "outputs": []
    },
    {
      "cell_type": "code",
      "metadata": {
        "colab_type": "code",
        "id": "Be3tMEsSBN7u",
        "colab": {}
      },
      "source": [
        "#All Employees, In Thousands; Total Nonfarm Providing -Rhode Island\n",
        "conn_nonfarm = quandl.get(\"BLSE/SMU09000000000000001\", start_date=\"2000-01-01\", end_date=\"2020-08-01\")\n",
        "conn_nonfarm.columns= ['Total Nonfarm Provided Value']"
      ],
      "execution_count": 165,
      "outputs": []
    },
    {
      "cell_type": "code",
      "metadata": {
        "colab_type": "code",
        "id": "wakWTzadBN72",
        "colab": {}
      },
      "source": [
        "#All Employees, In Thousands; Total Private Providing -South Carolina\n",
        "conn_priv = quandl.get(\"BLSE/SMU09000000500000001\", start_date=\"2000-01-01\", end_date=\"2020-08-01\")\n",
        "conn_priv.columns= ['Total Private Industry Value']"
      ],
      "execution_count": 166,
      "outputs": []
    },
    {
      "cell_type": "code",
      "metadata": {
        "colab_type": "code",
        "id": "tv23NKyKBN8Q",
        "colab": {}
      },
      "source": [
        "#All Employees, In Thousands; Total Goods Producing Providing -South Carolina\n",
        "conn_goods = quandl.get(\"BLSE/SMU09000000600000001\", start_date=\"2000-01-01\", end_date=\"2020-08-01\")\n",
        "conn_goods.columns= ['Total Goods Produced Value']"
      ],
      "execution_count": 167,
      "outputs": []
    },
    {
      "cell_type": "code",
      "metadata": {
        "colab_type": "code",
        "id": "9VkmLGxxBN8X",
        "colab": {}
      },
      "source": [
        "#All Employees, In Thousands; Total Service Providing -South Carolina\n",
        "conn_serv = quandl.get(\"BLSE/SMU09000000700000001\", start_date=\"2000-01-01\", end_date=\"2020-08-01\")\n",
        "conn_serv.columns= ['Total Service Provided Value']"
      ],
      "execution_count": 168,
      "outputs": []
    },
    {
      "cell_type": "code",
      "metadata": {
        "colab_type": "code",
        "id": "225dLIiEBN9Y",
        "colab": {}
      },
      "source": [
        "#All Employees, In Thousands; Total Mining & Logging Providing -South Carolina\n",
        "conn_mine = quandl.get(\"BLSE/SMU09000001000000001\", start_date=\"2000-01-01\", end_date=\"2020-08-01\")\n",
        "conn_mine.columns= ['Total Mining & Logging Value']"
      ],
      "execution_count": 169,
      "outputs": []
    },
    {
      "cell_type": "code",
      "metadata": {
        "colab_type": "code",
        "id": "TMK5FanKBN9_",
        "colab": {}
      },
      "source": [
        "#All Employees, In Thousands; Total Manufacture Providing -South Carolina\n",
        "conn_manu = quandl.get(\"BLSE/SMU09000003000000001\", start_date=\"2000-01-01\", end_date=\"2020-08-01\")\n",
        "conn_manu.columns= ['Total Manufacture Value']"
      ],
      "execution_count": 170,
      "outputs": []
    },
    {
      "cell_type": "code",
      "metadata": {
        "colab_type": "code",
        "id": "5AcUk87eBN-K",
        "colab": {}
      },
      "source": [
        "#All Employees, In Thousands; Total Durable Goods Providing -South Carolina\n",
        "conn_durable = quandl.get(\"BLSE/SMU09000003000000001\", start_date=\"2000-01-01\", end_date=\"2020-08-01\")\n",
        "conn_durable.columns= ['Total Durable Goods Value']"
      ],
      "execution_count": 171,
      "outputs": []
    },
    {
      "cell_type": "code",
      "metadata": {
        "colab_type": "code",
        "id": "feALs5hpBN-W",
        "colab": {}
      },
      "source": [
        "#All Employees, In Thousands; Total Wholesale Trade Providing -South Carolina\n",
        "conn_wholesale = quandl.get(\"BLSE/SMU09000004100000001\", start_date=\"2000-01-01\", end_date=\"2020-08-01\")\n",
        "conn_wholesale.columns= ['Wholesale Trade Value']"
      ],
      "execution_count": 172,
      "outputs": []
    },
    {
      "cell_type": "code",
      "metadata": {
        "colab_type": "code",
        "id": "7jAAHUiRBN-e",
        "colab": {}
      },
      "source": [
        "#All Employees, In Thousands; Total Transportation & Utilities Providing -South Carolina\n",
        "conn_transutil = quandl.get(\"BLSE/SMU09000004300000001\", start_date=\"2000-01-01\", end_date=\"2020-08-01\")\n",
        "conn_transutil.columns= ['Total Transportation & Utilities Value']"
      ],
      "execution_count": 173,
      "outputs": []
    },
    {
      "cell_type": "code",
      "metadata": {
        "colab_type": "code",
        "id": "X9h_FaZaBN-o",
        "colab": {}
      },
      "source": [
        "#All Employees, In Thousands; Total Truck Transportation Providing -South Carolina\n",
        "conn_truck = quandl.get(\"BLSE/SMU09000004348400001\", start_date=\"2000-01-01\", end_date=\"2020-08-01\")\n",
        "conn_truck.columns= ['Total Truck Transportation Provided Value']"
      ],
      "execution_count": 174,
      "outputs": []
    },
    {
      "cell_type": "code",
      "metadata": {
        "colab_type": "code",
        "id": "eu8zX3-GBN-s",
        "colab": {}
      },
      "source": [
        "#All Employees, In Thousands; Total Telecommunications Transportation Providing -South Carolina\n",
        "conn_telecom = quandl.get(\"BLSE/SMU09000005051700001\", start_date=\"2000-01-01\", end_date=\"2020-08-01\")\n",
        "conn_telecom.columns= ['Total Telecommunication Value']"
      ],
      "execution_count": 175,
      "outputs": []
    },
    {
      "cell_type": "code",
      "metadata": {
        "colab_type": "code",
        "id": "_giIqUz-BOB_",
        "colab": {}
      },
      "source": [
        "conn5 = pd.merge(conn_truck, conn_telecom, on='Date')"
      ],
      "execution_count": 176,
      "outputs": []
    },
    {
      "cell_type": "code",
      "metadata": {
        "colab_type": "code",
        "id": "6l3raN_3BOCC",
        "colab": {}
      },
      "source": [
        "conn4 = pd.merge(conn_wholesale, conn_transutil, on='Date')"
      ],
      "execution_count": 177,
      "outputs": []
    },
    {
      "cell_type": "code",
      "metadata": {
        "colab_type": "code",
        "id": "DVe1254VBOCI",
        "colab": {}
      },
      "source": [
        "conn3 = pd.merge(conn_manu, conn_durable, on='Date')"
      ],
      "execution_count": 178,
      "outputs": []
    },
    {
      "cell_type": "code",
      "metadata": {
        "colab_type": "code",
        "id": "caKY7NADBOCP",
        "colab": {}
      },
      "source": [
        "conn2 = pd.merge(conn_serv, conn_mine, on='Date')"
      ],
      "execution_count": 179,
      "outputs": []
    },
    {
      "cell_type": "code",
      "metadata": {
        "colab_type": "code",
        "id": "8tdKnkxDBOEp",
        "colab": {}
      },
      "source": [
        "conn1 = pd.merge(conn_priv, conn_goods, on='Date')"
      ],
      "execution_count": 180,
      "outputs": []
    },
    {
      "cell_type": "code",
      "metadata": {
        "colab_type": "code",
        "id": "ZR3_1Vs7BOEv",
        "colab": {}
      },
      "source": [
        "conn = pd.merge(conn_gov, conn_nonfarm, on='Date')"
      ],
      "execution_count": 181,
      "outputs": []
    },
    {
      "cell_type": "code",
      "metadata": {
        "colab_type": "code",
        "id": "ke2kQqlkBOE1",
        "colab": {}
      },
      "source": [
        "conn_j1 = pd.merge(conn, conn1, on='Date')"
      ],
      "execution_count": 182,
      "outputs": []
    },
    {
      "cell_type": "code",
      "metadata": {
        "colab_type": "code",
        "id": "94NO_FW6BO8k",
        "colab": {}
      },
      "source": [
        "conn_j2 = pd.merge(conn_j1, conn2, on='Date')"
      ],
      "execution_count": 183,
      "outputs": []
    },
    {
      "cell_type": "code",
      "metadata": {
        "colab_type": "code",
        "id": "bpCOGZ4YBPAU",
        "colab": {}
      },
      "source": [
        "conn_j3 = pd.merge(conn_j2, conn3, on='Date')"
      ],
      "execution_count": 184,
      "outputs": []
    },
    {
      "cell_type": "code",
      "metadata": {
        "colab_type": "code",
        "id": "BjyvtLbuBPAk",
        "colab": {}
      },
      "source": [
        "conn_j4 = pd.merge(conn_j3, conn4, on='Date')"
      ],
      "execution_count": 185,
      "outputs": []
    },
    {
      "cell_type": "code",
      "metadata": {
        "colab_type": "code",
        "id": "bdF1927VBPAr",
        "colab": {}
      },
      "source": [
        "conn_j5 = pd.merge(conn_j4, conn5, on='Date')\n",
        "# conn_j5"
      ],
      "execution_count": 186,
      "outputs": []
    },
    {
      "cell_type": "code",
      "metadata": {
        "id": "2Q006ctkZo1x",
        "colab_type": "code",
        "colab": {}
      },
      "source": [
        "conn_j5['Postal Code'] = 'CT'\n",
        "conn_j5"
      ],
      "execution_count": null,
      "outputs": []
    },
    {
      "cell_type": "markdown",
      "metadata": {
        "id": "shMlk7yqFh6Z",
        "colab_type": "text"
      },
      "source": [
        "# Colorado"
      ]
    },
    {
      "cell_type": "code",
      "metadata": {
        "id": "ShRdYKT3FkPV",
        "colab_type": "code",
        "colab": {}
      },
      "source": [
        ""
      ],
      "execution_count": null,
      "outputs": []
    },
    {
      "cell_type": "code",
      "metadata": {
        "colab_type": "code",
        "id": "X1D16xrMFlGw",
        "colab": {}
      },
      "source": [
        "#All Employees, In Thousands; Total Government Providing -Rhode Island \n",
        "col_gov = quandl.get(\"BLSE/SMU08000009000000001\", start_date=\"2000-01-01\", end_date=\"2020-08-01\")\n",
        "col_gov.columns= ['Total Government Value']"
      ],
      "execution_count": 134,
      "outputs": []
    },
    {
      "cell_type": "code",
      "metadata": {
        "colab_type": "code",
        "id": "bmy64xV9FlGy",
        "colab": {}
      },
      "source": [
        "#All Employees, In Thousands; Total Nonfarm Providing -Rhode Island\n",
        "col_nonfarm = quandl.get(\"BLSE/SMU08000000000000001\", start_date=\"2000-01-01\", end_date=\"2020-08-01\")\n",
        "col_nonfarm.columns= ['Total Nonfarm Provided Value']"
      ],
      "execution_count": 135,
      "outputs": []
    },
    {
      "cell_type": "code",
      "metadata": {
        "colab_type": "code",
        "id": "DvRbcCEVFlG0",
        "colab": {}
      },
      "source": [
        "#All Employees, In Thousands; Total Private Providing -South Carolina\n",
        "col_priv = quandl.get(\"BLSE/SMU08000000500000001\", start_date=\"2000-01-01\", end_date=\"2020-08-01\")\n",
        "col_priv.columns= ['Total Private Industry Value']"
      ],
      "execution_count": 136,
      "outputs": []
    },
    {
      "cell_type": "code",
      "metadata": {
        "colab_type": "code",
        "id": "u2LleMH9FlG5",
        "colab": {}
      },
      "source": [
        "#All Employees, In Thousands; Total Goods Producing Providing -South Carolina\n",
        "col_goods = quandl.get(\"BLSE/SMU08000000600000001\", start_date=\"2000-01-01\", end_date=\"2020-08-01\")\n",
        "col_goods.columns= ['Total Goods Produced Value']"
      ],
      "execution_count": 137,
      "outputs": []
    },
    {
      "cell_type": "code",
      "metadata": {
        "colab_type": "code",
        "id": "x1CrjSeTFlG7",
        "colab": {}
      },
      "source": [
        "#All Employees, In Thousands; Total Service Providing -South Carolina\n",
        "col_serv = quandl.get(\"BLSE/SMU08000000700000001\", start_date=\"2000-01-01\", end_date=\"2020-08-01\")\n",
        "col_serv.columns= ['Total Service Provided Value']"
      ],
      "execution_count": 138,
      "outputs": []
    },
    {
      "cell_type": "code",
      "metadata": {
        "colab_type": "code",
        "id": "hhbctD7VFlG9",
        "colab": {}
      },
      "source": [
        "#All Employees, In Thousands; Total Mining & Logging Providing -South Carolina\n",
        "col_mine = quandl.get(\"BLSE/SMU08000001000000001\", start_date=\"2000-01-01\", end_date=\"2020-08-01\")\n",
        "col_mine.columns= ['Total Mining & Logging Value']"
      ],
      "execution_count": 139,
      "outputs": []
    },
    {
      "cell_type": "code",
      "metadata": {
        "colab_type": "code",
        "id": "J8qT0uccFlG_",
        "colab": {}
      },
      "source": [
        "#All Employees, In Thousands; Total Manufacture Providing -South Carolina\n",
        "col_manu = quandl.get(\"BLSE/SMU08000003000000001\", start_date=\"2000-01-01\", end_date=\"2020-08-01\")\n",
        "col_manu.columns= ['Total Manufacture Value']"
      ],
      "execution_count": 140,
      "outputs": []
    },
    {
      "cell_type": "code",
      "metadata": {
        "colab_type": "code",
        "id": "7ssghMuuFlHC",
        "colab": {}
      },
      "source": [
        "#All Employees, In Thousands; Total Durable Goods Providing -South Carolina\n",
        "col_durable = quandl.get(\"BLSE/SMU08000003000000001\", start_date=\"2000-01-01\", end_date=\"2020-08-01\")\n",
        "col_durable.columns= ['Total Durable Goods Value']"
      ],
      "execution_count": 141,
      "outputs": []
    },
    {
      "cell_type": "code",
      "metadata": {
        "colab_type": "code",
        "id": "9NGZDzgvFlHE",
        "colab": {}
      },
      "source": [
        "#All Employees, In Thousands; Total Wholesale Trade Providing -South Carolina\n",
        "col_wholesale = quandl.get(\"BLSE/SMU08000004100000001\", start_date=\"2000-01-01\", end_date=\"2020-08-01\")\n",
        "col_wholesale.columns= ['Wholesale Trade Value']"
      ],
      "execution_count": 142,
      "outputs": []
    },
    {
      "cell_type": "code",
      "metadata": {
        "colab_type": "code",
        "id": "ZVevhmhfFlHG",
        "colab": {}
      },
      "source": [
        "#All Employees, In Thousands; Total Transportation & Utilities Providing -South Carolina\n",
        "col_transutil = quandl.get(\"BLSE/SMU08000004300000001\", start_date=\"2000-01-01\", end_date=\"2020-08-01\")\n",
        "col_transutil.columns= ['Total Transportation & Utilities Value']"
      ],
      "execution_count": 143,
      "outputs": []
    },
    {
      "cell_type": "code",
      "metadata": {
        "colab_type": "code",
        "id": "oKxpT-1xFlHL",
        "colab": {}
      },
      "source": [
        "#All Employees, In Thousands; Total Truck Transportation Providing -South Carolina\n",
        "col_truck = quandl.get(\"BLSE/SMU08000004348400001\", start_date=\"2000-01-01\", end_date=\"2020-08-01\")\n",
        "col_truck.columns= ['Total Truck Transportation Provided Value']"
      ],
      "execution_count": 144,
      "outputs": []
    },
    {
      "cell_type": "code",
      "metadata": {
        "colab_type": "code",
        "id": "kIM9M1F1FlHO",
        "colab": {}
      },
      "source": [
        "#All Employees, In Thousands; Total Telecommunications Transportation Providing -South Carolina\n",
        "col_telecom = quandl.get(\"BLSE/SMU08000005051700001\", start_date=\"2000-01-01\", end_date=\"2020-08-01\")\n",
        "col_telecom.columns= ['Total Telecommunication Value']"
      ],
      "execution_count": 145,
      "outputs": []
    },
    {
      "cell_type": "code",
      "metadata": {
        "colab_type": "code",
        "id": "sVBOa8aaFlHR",
        "colab": {}
      },
      "source": [
        "#All Employees, In Thousands; Total Real Estate Transportation Providing -South Carolina\n",
        "col_estate = quandl.get(\"BLSE/SMU08000005553100001\", start_date=\"2000-01-01\", end_date=\"2020-08-01\")\n",
        "col_estate.columns= ['Total Real Estate Value']"
      ],
      "execution_count": 146,
      "outputs": []
    },
    {
      "cell_type": "code",
      "metadata": {
        "colab_type": "code",
        "id": "4ZlPcHroFlHS",
        "colab": {}
      },
      "source": [
        "#All Employees, In Thousands; Total Real Estate Transportation Providing -South Carolina\n",
        "col_air = quandl.get(\"BLSE/SMU08000004348100001\", start_date=\"2000-01-01\", end_date=\"2020-08-01\")\n",
        "col_air.columns= ['Total Air Transportation Value']"
      ],
      "execution_count": 147,
      "outputs": []
    },
    {
      "cell_type": "code",
      "metadata": {
        "colab_type": "code",
        "id": "jR8-TKDwFlHU",
        "colab": {}
      },
      "source": [
        "col6 = pd.merge(col_estate, col_air, on='Date')"
      ],
      "execution_count": 148,
      "outputs": []
    },
    {
      "cell_type": "code",
      "metadata": {
        "colab_type": "code",
        "id": "EoF6tWxbFlHW",
        "colab": {}
      },
      "source": [
        "col5 = pd.merge(col_truck, col_telecom, on='Date')"
      ],
      "execution_count": 149,
      "outputs": []
    },
    {
      "cell_type": "code",
      "metadata": {
        "colab_type": "code",
        "id": "efe97CU5FlHX",
        "colab": {}
      },
      "source": [
        "col4 = pd.merge(col_wholesale, col_transutil, on='Date')"
      ],
      "execution_count": 150,
      "outputs": []
    },
    {
      "cell_type": "code",
      "metadata": {
        "colab_type": "code",
        "id": "v8cliMaOFlHb",
        "colab": {}
      },
      "source": [
        "col3 = pd.merge(col_manu, col_durable, on='Date')"
      ],
      "execution_count": 151,
      "outputs": []
    },
    {
      "cell_type": "code",
      "metadata": {
        "colab_type": "code",
        "id": "DjI1uhhnFlHc",
        "colab": {}
      },
      "source": [
        "col2 = pd.merge(col_serv, col_mine, on='Date')"
      ],
      "execution_count": 152,
      "outputs": []
    },
    {
      "cell_type": "code",
      "metadata": {
        "colab_type": "code",
        "id": "6fSsm-tKFlHe",
        "colab": {}
      },
      "source": [
        "col1 = pd.merge(col_priv, col_goods, on='Date')"
      ],
      "execution_count": 153,
      "outputs": []
    },
    {
      "cell_type": "code",
      "metadata": {
        "colab_type": "code",
        "id": "TD4FvV1qFlHf",
        "colab": {}
      },
      "source": [
        "col = pd.merge(col_gov, col_nonfarm, on='Date')"
      ],
      "execution_count": 155,
      "outputs": []
    },
    {
      "cell_type": "code",
      "metadata": {
        "colab_type": "code",
        "id": "4Sq_AeCjFlHh",
        "colab": {}
      },
      "source": [
        "col_j1 = pd.merge(col, col1, on='Date')"
      ],
      "execution_count": 156,
      "outputs": []
    },
    {
      "cell_type": "code",
      "metadata": {
        "colab_type": "code",
        "id": "GcZRS-znFlHk",
        "colab": {}
      },
      "source": [
        "col_j2 = pd.merge(col_j1, col2, on='Date')"
      ],
      "execution_count": 157,
      "outputs": []
    },
    {
      "cell_type": "code",
      "metadata": {
        "colab_type": "code",
        "id": "deAMEc7nFlHm",
        "colab": {}
      },
      "source": [
        "col_j3 = pd.merge(col_j2, col3, on='Date')"
      ],
      "execution_count": 158,
      "outputs": []
    },
    {
      "cell_type": "code",
      "metadata": {
        "colab_type": "code",
        "id": "YJKQJ4CpFlHo",
        "colab": {}
      },
      "source": [
        "col_j4 = pd.merge(col_j3, col4, on='Date')"
      ],
      "execution_count": 159,
      "outputs": []
    },
    {
      "cell_type": "code",
      "metadata": {
        "colab_type": "code",
        "id": "yT49HGVhFlHq",
        "colab": {}
      },
      "source": [
        "col_j5 = pd.merge(col_j4, col5, on='Date')"
      ],
      "execution_count": 160,
      "outputs": []
    },
    {
      "cell_type": "code",
      "metadata": {
        "colab_type": "code",
        "id": "-2LOuwj6FlHs",
        "colab": {}
      },
      "source": [
        "col_j6 = pd.merge(col_j5, col6, on='Date')\n",
        "# col_j6"
      ],
      "execution_count": 161,
      "outputs": []
    },
    {
      "cell_type": "code",
      "metadata": {
        "id": "7fo_DCukYol3",
        "colab_type": "code",
        "colab": {}
      },
      "source": [
        "col_j6['Postal Code'] = 'CO'\n",
        "col_j6"
      ],
      "execution_count": null,
      "outputs": []
    },
    {
      "cell_type": "markdown",
      "metadata": {
        "id": "6KAqGJbTHKV5",
        "colab_type": "text"
      },
      "source": [
        "# California"
      ]
    },
    {
      "cell_type": "code",
      "metadata": {
        "id": "bRfrqn-cHM0m",
        "colab_type": "code",
        "colab": {}
      },
      "source": [
        ""
      ],
      "execution_count": null,
      "outputs": []
    },
    {
      "cell_type": "code",
      "metadata": {
        "colab_type": "code",
        "id": "48ifVf8BHNpq",
        "colab": {}
      },
      "source": [
        "#All Employees, In Thousands; Total Government Providing -Rhode Island \n",
        "cal_gov = quandl.get(\"BLSE/SMU06000009000000001\", start_date=\"2000-01-01\", end_date=\"2020-08-01\")\n",
        "cal_gov.columns= ['Total Government Value']"
      ],
      "execution_count": 106,
      "outputs": []
    },
    {
      "cell_type": "code",
      "metadata": {
        "colab_type": "code",
        "id": "EVlaoxBGHNps",
        "colab": {}
      },
      "source": [
        "#All Employees, In Thousands; Total Nonfarm Providing -Rhode Island\n",
        "cal_nonfarm = quandl.get(\"BLSE/SMU06000000000000001\", start_date=\"2000-01-01\", end_date=\"2020-08-01\")\n",
        "cal_nonfarm.columns= ['Total Nonfarm Provided Value']"
      ],
      "execution_count": 107,
      "outputs": []
    },
    {
      "cell_type": "code",
      "metadata": {
        "colab_type": "code",
        "id": "SZS9wzziHNpu",
        "colab": {}
      },
      "source": [
        "#All Employees, In Thousands; Total Private Providing -South Carolina\n",
        "cal_priv = quandl.get(\"BLSE/SMU06000000500000001\", start_date=\"2000-01-01\", end_date=\"2020-08-01\")\n",
        "cal_priv.columns= ['Total Private Industry Value']"
      ],
      "execution_count": 108,
      "outputs": []
    },
    {
      "cell_type": "code",
      "metadata": {
        "colab_type": "code",
        "id": "xZpNOPdLHNpx",
        "colab": {}
      },
      "source": [
        "#All Employees, In Thousands; Total Goods Producing Providing -South Carolina\n",
        "cal_goods = quandl.get(\"BLSE/SMU06000000600000001\", start_date=\"2000-01-01\", end_date=\"2020-08-01\")\n",
        "cal_goods.columns= ['Total Goods Produced Value']"
      ],
      "execution_count": 109,
      "outputs": []
    },
    {
      "cell_type": "code",
      "metadata": {
        "colab_type": "code",
        "id": "mTnsdKyCHNp0",
        "colab": {}
      },
      "source": [
        "#All Employees, In Thousands; Total Service Providing -South Carolina\n",
        "cal_serv = quandl.get(\"BLSE/SMU06000000700000001\", start_date=\"2000-01-01\", end_date=\"2020-08-01\")\n",
        "cal_serv.columns= ['Total Service Provided Value']"
      ],
      "execution_count": 110,
      "outputs": []
    },
    {
      "cell_type": "code",
      "metadata": {
        "colab_type": "code",
        "id": "xABqCdFqHNp2",
        "colab": {}
      },
      "source": [
        "#All Employees, In Thousands; Total Mining & Logging Providing -South Carolina\n",
        "cal_mine = quandl.get(\"BLSE/SMU06000001000000001\", start_date=\"2000-01-01\", end_date=\"2020-08-01\")\n",
        "cal_mine.columns= ['Total Mining & Logging Value']"
      ],
      "execution_count": 111,
      "outputs": []
    },
    {
      "cell_type": "code",
      "metadata": {
        "colab_type": "code",
        "id": "GDQkj9gHHNp4",
        "colab": {}
      },
      "source": [
        "#All Employees, In Thousands; Total Manufacture Providing -South Carolina\n",
        "cal_manu = quandl.get(\"BLSE/SMU06000003000000001\", start_date=\"2000-01-01\", end_date=\"2020-08-01\")\n",
        "cal_manu.columns= ['Total Manufacture Value']"
      ],
      "execution_count": 112,
      "outputs": []
    },
    {
      "cell_type": "code",
      "metadata": {
        "colab_type": "code",
        "id": "HAHMZDF5HNp6",
        "colab": {}
      },
      "source": [
        "#All Employees, In Thousands; Total Durable Goods Providing -South Carolina\n",
        "cal_durable = quandl.get(\"BLSE/SMU06000003000000001\", start_date=\"2000-01-01\", end_date=\"2020-08-01\")\n",
        "cal_durable.columns= ['Total Durable Goods Value']"
      ],
      "execution_count": 113,
      "outputs": []
    },
    {
      "cell_type": "code",
      "metadata": {
        "colab_type": "code",
        "id": "OKYp3dT0HNp8",
        "colab": {}
      },
      "source": [
        "#All Employees, In Thousands; Total Wholesale Trade Providing -South Carolina\n",
        "cal_wholesale = quandl.get(\"BLSE/SMU06000004100000001\", start_date=\"2000-01-01\", end_date=\"2020-08-01\")\n",
        "cal_wholesale.columns= ['Wholesale Trade Value']"
      ],
      "execution_count": 114,
      "outputs": []
    },
    {
      "cell_type": "code",
      "metadata": {
        "colab_type": "code",
        "id": "ZQ9uxq56HNp9",
        "colab": {}
      },
      "source": [
        "#All Employees, In Thousands; Total Transportation & Utilities Providing -South Carolina\n",
        "cal_transutil = quandl.get(\"BLSE/SMU06000004300000001\", start_date=\"2000-01-01\", end_date=\"2020-08-01\")\n",
        "cal_transutil.columns= ['Total Transportation & Utilities Value']"
      ],
      "execution_count": 115,
      "outputs": []
    },
    {
      "cell_type": "code",
      "metadata": {
        "colab_type": "code",
        "id": "IgmnCspcHNqA",
        "colab": {}
      },
      "source": [
        "#All Employees, In Thousands; Total Truck Transportation Providing -South Carolina\n",
        "cal_truck = quandl.get(\"BLSE/SMU06000004348400001\", start_date=\"2000-01-01\", end_date=\"2020-08-01\")\n",
        "cal_truck.columns= ['Total Truck Transportation Provided Value']"
      ],
      "execution_count": 116,
      "outputs": []
    },
    {
      "cell_type": "code",
      "metadata": {
        "colab_type": "code",
        "id": "94GX1HfnHNqC",
        "colab": {}
      },
      "source": [
        "#All Employees, In Thousands; Total Telecommunications Transportation Providing -South Carolina\n",
        "cal_telecom = quandl.get(\"BLSE/SMU06000005051700001\", start_date=\"2000-01-01\", end_date=\"2020-08-01\")\n",
        "cal_telecom.columns= ['Total Telecommunication Value']"
      ],
      "execution_count": 117,
      "outputs": []
    },
    {
      "cell_type": "code",
      "metadata": {
        "colab_type": "code",
        "id": "iaxgkRpUHNqE",
        "colab": {}
      },
      "source": [
        "#All Employees, In Thousands; Total Real Estate Transportation Providing -South Carolina\n",
        "cal_estate = quandl.get(\"BLSE/SMU06000005553100001\", start_date=\"2000-01-01\", end_date=\"2020-08-01\")\n",
        "cal_estate.columns= ['Total Real Estate Value']"
      ],
      "execution_count": 118,
      "outputs": []
    },
    {
      "cell_type": "code",
      "metadata": {
        "colab_type": "code",
        "id": "nrT3DKG8HNqI",
        "colab": {}
      },
      "source": [
        "#All Employees, In Thousands; Total Real Estate Transportation Providing -South Carolina\n",
        "cal_air = quandl.get(\"BLSE/SMU06000004348100001\", start_date=\"2000-01-01\", end_date=\"2020-08-01\")\n",
        "cal_air.columns= ['Total Air Transportation Value']"
      ],
      "execution_count": 119,
      "outputs": []
    },
    {
      "cell_type": "code",
      "metadata": {
        "colab_type": "code",
        "id": "9lst_5OAHNqK",
        "colab": {}
      },
      "source": [
        "cal6 = pd.merge(cal_estate, cal_air, on='Date')"
      ],
      "execution_count": 120,
      "outputs": []
    },
    {
      "cell_type": "code",
      "metadata": {
        "colab_type": "code",
        "id": "lg-FTXB_HNqM",
        "colab": {}
      },
      "source": [
        "cal5 = pd.merge(cal_truck, cal_telecom, on='Date')"
      ],
      "execution_count": 121,
      "outputs": []
    },
    {
      "cell_type": "code",
      "metadata": {
        "colab_type": "code",
        "id": "lbD7FwjZHNqP",
        "colab": {}
      },
      "source": [
        "cal4 = pd.merge(cal_wholesale, cal_transutil, on='Date')"
      ],
      "execution_count": 122,
      "outputs": []
    },
    {
      "cell_type": "code",
      "metadata": {
        "colab_type": "code",
        "id": "3peuxDt9HNqR",
        "colab": {}
      },
      "source": [
        "cal3 = pd.merge(cal_manu, cal_durable, on='Date')"
      ],
      "execution_count": 123,
      "outputs": []
    },
    {
      "cell_type": "code",
      "metadata": {
        "colab_type": "code",
        "id": "26uXl55eHNqT",
        "colab": {}
      },
      "source": [
        "cal2 = pd.merge(cal_serv, cal_mine, on='Date')"
      ],
      "execution_count": 124,
      "outputs": []
    },
    {
      "cell_type": "code",
      "metadata": {
        "colab_type": "code",
        "id": "c7ZGiIm2HNqV",
        "colab": {}
      },
      "source": [
        "cal1 = pd.merge(cal_priv, cal_goods, on='Date')"
      ],
      "execution_count": 125,
      "outputs": []
    },
    {
      "cell_type": "code",
      "metadata": {
        "colab_type": "code",
        "id": "H3GpgJSXHNqX",
        "colab": {}
      },
      "source": [
        "cal = pd.merge(cal_gov, cal_nonfarm, on='Date')"
      ],
      "execution_count": 126,
      "outputs": []
    },
    {
      "cell_type": "code",
      "metadata": {
        "colab_type": "code",
        "id": "yhOgSpLEHNqZ",
        "colab": {}
      },
      "source": [
        "cal_j1 = pd.merge(cal, cal1, on='Date')"
      ],
      "execution_count": 127,
      "outputs": []
    },
    {
      "cell_type": "code",
      "metadata": {
        "colab_type": "code",
        "id": "5ICcLfSRHNqb",
        "colab": {}
      },
      "source": [
        "cal_j2 = pd.merge(cal_j1, cal2, on='Date')"
      ],
      "execution_count": 128,
      "outputs": []
    },
    {
      "cell_type": "code",
      "metadata": {
        "colab_type": "code",
        "id": "TWaZRLplHNqc",
        "colab": {}
      },
      "source": [
        "cal_j3 = pd.merge(cal_j2, cal3, on='Date')"
      ],
      "execution_count": 129,
      "outputs": []
    },
    {
      "cell_type": "code",
      "metadata": {
        "colab_type": "code",
        "id": "CAty6bvSHNqf",
        "colab": {}
      },
      "source": [
        "cal_j4 = pd.merge(cal_j3, cal4, on='Date')"
      ],
      "execution_count": 130,
      "outputs": []
    },
    {
      "cell_type": "code",
      "metadata": {
        "colab_type": "code",
        "id": "vN2IP8lpHNqi",
        "colab": {}
      },
      "source": [
        "cal_j5 = pd.merge(cal_j4, cal5, on='Date')"
      ],
      "execution_count": 131,
      "outputs": []
    },
    {
      "cell_type": "code",
      "metadata": {
        "colab_type": "code",
        "id": "BhjKdIh_HNqj",
        "colab": {}
      },
      "source": [
        "cal_j6 = pd.merge(cal_j5, cal6, on='Date')\n",
        "# cal_j6"
      ],
      "execution_count": 132,
      "outputs": []
    },
    {
      "cell_type": "code",
      "metadata": {
        "id": "Z3iEZh9sXhC5",
        "colab_type": "code",
        "colab": {}
      },
      "source": [
        "cal_j6['Postal Code'] = 'CA'"
      ],
      "execution_count": 133,
      "outputs": []
    },
    {
      "cell_type": "markdown",
      "metadata": {
        "id": "xgjsg-HwI2dV",
        "colab_type": "text"
      },
      "source": [
        "# Arkansas"
      ]
    },
    {
      "cell_type": "code",
      "metadata": {
        "colab_type": "code",
        "id": "P4TUbuiHI6FZ",
        "colab": {}
      },
      "source": [
        "#All Employees, In Thousands; Total Government Providing -Rhode Island \n",
        "ar_gov = quandl.get(\"BLSE/SMU05000009000000001\", start_date=\"2000-01-01\", end_date=\"2020-08-01\")\n",
        "ar_gov.columns= ['Total Government Value']"
      ],
      "execution_count": 86,
      "outputs": []
    },
    {
      "cell_type": "code",
      "metadata": {
        "colab_type": "code",
        "id": "a1p4qsChI6Fc",
        "colab": {}
      },
      "source": [
        "#All Employees, In Thousands; Total Nonfarm Providing -Rhode Island\n",
        "ar_nonfarm = quandl.get(\"BLSE/SMU05000000000000001\", start_date=\"2000-01-01\", end_date=\"2020-08-01\")\n",
        "ar_nonfarm.columns= ['Total Nonfarm Provided Value']"
      ],
      "execution_count": 87,
      "outputs": []
    },
    {
      "cell_type": "code",
      "metadata": {
        "colab_type": "code",
        "id": "glJcPzA7I6Fe",
        "colab": {}
      },
      "source": [
        "#All Employees, In Thousands; Total Private Providing -South Carolina\n",
        "ar_priv = quandl.get(\"BLSE/SMU05000000500000001\", start_date=\"2000-01-01\", end_date=\"2020-08-01\")\n",
        "ar_priv.columns= ['Total Private Industry Value']"
      ],
      "execution_count": 88,
      "outputs": []
    },
    {
      "cell_type": "code",
      "metadata": {
        "colab_type": "code",
        "id": "-U15hfARI6Fh",
        "colab": {}
      },
      "source": [
        "#All Employees, In Thousands; Total Goods Producing Providing -South Carolina\n",
        "ar_goods = quandl.get(\"BLSE/SMU05000000600000001\", start_date=\"2000-01-01\", end_date=\"2020-08-01\")\n",
        "ar_goods.columns= ['Total Goods Produced Value']"
      ],
      "execution_count": 89,
      "outputs": []
    },
    {
      "cell_type": "code",
      "metadata": {
        "colab_type": "code",
        "id": "KylRYtNyI6Fk",
        "colab": {}
      },
      "source": [
        "#All Employees, In Thousands; Total Service Providing -South Carolina\n",
        "ar_serv = quandl.get(\"BLSE/SMU05000000700000001\", start_date=\"2000-01-01\", end_date=\"2020-08-01\")\n",
        "ar_serv.columns= ['Total Service Provided Value']"
      ],
      "execution_count": 90,
      "outputs": []
    },
    {
      "cell_type": "code",
      "metadata": {
        "colab_type": "code",
        "id": "WZLWGM3sI6Fm",
        "colab": {}
      },
      "source": [
        "#All Employees, In Thousands; Total Mining & Logging Providing -South Carolina\n",
        "ar_mine = quandl.get(\"BLSE/SMU05000001000000001\", start_date=\"2000-01-01\", end_date=\"2020-08-01\")\n",
        "ar_mine.columns= ['Total Mining & Logging Value']"
      ],
      "execution_count": 91,
      "outputs": []
    },
    {
      "cell_type": "code",
      "metadata": {
        "colab_type": "code",
        "id": "sXRniewmI6Fo",
        "colab": {}
      },
      "source": [
        "#All Employees, In Thousands; Total Manufacture Providing -South Carolina\n",
        "ar_manu = quandl.get(\"BLSE/SMU05000003000000001\", start_date=\"2000-01-01\", end_date=\"2020-08-01\")\n",
        "ar_manu.columns= ['Total Manufacture Value']"
      ],
      "execution_count": 92,
      "outputs": []
    },
    {
      "cell_type": "code",
      "metadata": {
        "colab_type": "code",
        "id": "paAuqLLQI6Fq",
        "colab": {}
      },
      "source": [
        "#All Employees, In Thousands; Total Durable Goods Providing -South Carolina\n",
        "ar_durable = quandl.get(\"BLSE/SMU05000003000000001\", start_date=\"2000-01-01\", end_date=\"2020-08-01\")\n",
        "ar_durable.columns= ['Total Durable Goods Value']"
      ],
      "execution_count": 93,
      "outputs": []
    },
    {
      "cell_type": "code",
      "metadata": {
        "colab_type": "code",
        "id": "8VIGZNLcI6Fs",
        "colab": {}
      },
      "source": [
        "#All Employees, In Thousands; Total Wholesale Trade Providing -South Carolina\n",
        "ar_wholesale = quandl.get(\"BLSE/SMU05000004100000001\", start_date=\"2000-01-01\", end_date=\"2020-08-01\")\n",
        "ar_wholesale.columns= ['Wholesale Trade Value']"
      ],
      "execution_count": 94,
      "outputs": []
    },
    {
      "cell_type": "code",
      "metadata": {
        "colab_type": "code",
        "id": "ch7to8YqI6Fv",
        "colab": {}
      },
      "source": [
        "#All Employees, In Thousands; Total Transportation & Utilities Providing -South Carolina\n",
        "ar_transutil = quandl.get(\"BLSE/SMU05000004300000001\", start_date=\"2000-01-01\", end_date=\"2020-08-01\")\n",
        "ar_transutil.columns= ['Total Transportation & Utilities Value']"
      ],
      "execution_count": 95,
      "outputs": []
    },
    {
      "cell_type": "code",
      "metadata": {
        "colab_type": "code",
        "id": "VmoxL1PdI6GC",
        "colab": {}
      },
      "source": [
        "ar4 = pd.merge(ar_wholesale, ar_transutil, on='Date')"
      ],
      "execution_count": 96,
      "outputs": []
    },
    {
      "cell_type": "code",
      "metadata": {
        "colab_type": "code",
        "id": "BwhQaRyhI6GE",
        "colab": {}
      },
      "source": [
        "ar3 = pd.merge(ar_manu, ar_durable, on='Date')"
      ],
      "execution_count": 97,
      "outputs": []
    },
    {
      "cell_type": "code",
      "metadata": {
        "colab_type": "code",
        "id": "x4-bVHorI6GG",
        "colab": {}
      },
      "source": [
        "ar2 = pd.merge(ar_serv, ar_mine, on='Date')"
      ],
      "execution_count": 98,
      "outputs": []
    },
    {
      "cell_type": "code",
      "metadata": {
        "colab_type": "code",
        "id": "4KD9fUTGI6GH",
        "colab": {}
      },
      "source": [
        "ar1 = pd.merge(ar_priv, ar_goods, on='Date')"
      ],
      "execution_count": 99,
      "outputs": []
    },
    {
      "cell_type": "code",
      "metadata": {
        "colab_type": "code",
        "id": "7CyfiabJI6GK",
        "colab": {}
      },
      "source": [
        "ar = pd.merge(ar_gov, ar_nonfarm, on='Date')"
      ],
      "execution_count": 100,
      "outputs": []
    },
    {
      "cell_type": "code",
      "metadata": {
        "colab_type": "code",
        "id": "4YrNz9jwI6GN",
        "colab": {}
      },
      "source": [
        "ar_j1 = pd.merge(ar, ar1, on='Date')"
      ],
      "execution_count": 101,
      "outputs": []
    },
    {
      "cell_type": "code",
      "metadata": {
        "colab_type": "code",
        "id": "OD46m2cmI6GP",
        "colab": {}
      },
      "source": [
        "ar_j2 = pd.merge(ar_j1, ar2, on='Date')"
      ],
      "execution_count": 102,
      "outputs": []
    },
    {
      "cell_type": "code",
      "metadata": {
        "colab_type": "code",
        "id": "aJmFUWbMI6GS",
        "colab": {}
      },
      "source": [
        "ar_j3 = pd.merge(ar_j2, ar3, on='Date')"
      ],
      "execution_count": 103,
      "outputs": []
    },
    {
      "cell_type": "code",
      "metadata": {
        "colab_type": "code",
        "id": "crB3We0TI6GX",
        "colab": {}
      },
      "source": [
        "ar_j4 = pd.merge(ar_j3, ar4, on='Date')\n",
        "# ar_j4"
      ],
      "execution_count": null,
      "outputs": []
    },
    {
      "cell_type": "code",
      "metadata": {
        "id": "6_KrgF09XAuH",
        "colab_type": "code",
        "colab": {}
      },
      "source": [
        "ar_j4['Postal Code'] = 'AR'"
      ],
      "execution_count": 105,
      "outputs": []
    },
    {
      "cell_type": "markdown",
      "metadata": {
        "id": "wBqc4exVKvyD",
        "colab_type": "text"
      },
      "source": [
        "# Arizona"
      ]
    },
    {
      "cell_type": "code",
      "metadata": {
        "colab_type": "code",
        "id": "-fv-VkzSK0Fv",
        "colab": {}
      },
      "source": [
        "#All Employees, In Thousands; Total Government Providing -Rhode Island \n",
        "ari_gov = quandl.get(\"BLSE/SMU04000009000000001\", start_date=\"2000-01-01\", end_date=\"2020-08-01\")\n",
        "ari_gov.columns= ['Total Government Value']"
      ],
      "execution_count": 58,
      "outputs": []
    },
    {
      "cell_type": "code",
      "metadata": {
        "colab_type": "code",
        "id": "uULoZMefK0Fx",
        "colab": {}
      },
      "source": [
        "#All Employees, In Thousands; Total Nonfarm Providing -Rhode Island\n",
        "ari_nonfarm = quandl.get(\"BLSE/SMU04000000000000001\", start_date=\"2000-01-01\", end_date=\"2020-08-01\")\n",
        "ari_nonfarm.columns= ['Total Nonfarm Provided Value']"
      ],
      "execution_count": 59,
      "outputs": []
    },
    {
      "cell_type": "code",
      "metadata": {
        "colab_type": "code",
        "id": "H7AvdmLbK0Fz",
        "colab": {}
      },
      "source": [
        "#All Employees, In Thousands; Total Private Providing -South Carolina\n",
        "ari_priv = quandl.get(\"BLSE/SMU04000000500000001\", start_date=\"2000-01-01\", end_date=\"2020-08-01\")\n",
        "ari_priv.columns= ['Total Private Industry Value']"
      ],
      "execution_count": 60,
      "outputs": []
    },
    {
      "cell_type": "code",
      "metadata": {
        "colab_type": "code",
        "id": "U9cBcYkoK0F0",
        "colab": {}
      },
      "source": [
        "#All Employees, In Thousands; Total Goods Producing Providing -South Carolina\n",
        "ari_goods = quandl.get(\"BLSE/SMU04000000600000001\", start_date=\"2000-01-01\", end_date=\"2020-08-01\")\n",
        "ari_goods.columns= ['Total Goods Produced Value']"
      ],
      "execution_count": 61,
      "outputs": []
    },
    {
      "cell_type": "code",
      "metadata": {
        "colab_type": "code",
        "id": "JIYy39GqK0F3",
        "colab": {}
      },
      "source": [
        "#All Employees, In Thousands; Total Service Providing -South Carolina\n",
        "ari_serv = quandl.get(\"BLSE/SMU04000000700000001\", start_date=\"2000-01-01\", end_date=\"2020-08-01\")\n",
        "ari_serv.columns= ['Total Service Provided Value']"
      ],
      "execution_count": 62,
      "outputs": []
    },
    {
      "cell_type": "code",
      "metadata": {
        "colab_type": "code",
        "id": "bhrnSaFrK0F8",
        "colab": {}
      },
      "source": [
        "#All Employees, In Thousands; Total Mining & Logging Providing -South Carolina\n",
        "ari_mine = quandl.get(\"BLSE/SMU04000001000000001\", start_date=\"2000-01-01\", end_date=\"2020-08-01\")\n",
        "ari_mine.columns= ['Total Mining & Logging Value']"
      ],
      "execution_count": 63,
      "outputs": []
    },
    {
      "cell_type": "code",
      "metadata": {
        "colab_type": "code",
        "id": "8EwUgfFcK0F-",
        "colab": {}
      },
      "source": [
        "#All Employees, In Thousands; Total Manufacture Providing -South Carolina\n",
        "ari_manu = quandl.get(\"BLSE/SMU04000003000000001\", start_date=\"2000-01-01\", end_date=\"2020-08-01\")\n",
        "ari_manu.columns= ['Total Manufacture Value']"
      ],
      "execution_count": 64,
      "outputs": []
    },
    {
      "cell_type": "code",
      "metadata": {
        "colab_type": "code",
        "id": "ULpnox8rK0GB",
        "colab": {}
      },
      "source": [
        "#All Employees, In Thousands; Total Durable Goods Providing -South Carolina\n",
        "ari_durable = quandl.get(\"BLSE/SMU04000003000000001\", start_date=\"2000-01-01\", end_date=\"2020-08-01\")\n",
        "ari_durable.columns= ['Total Durable Goods Value']"
      ],
      "execution_count": 65,
      "outputs": []
    },
    {
      "cell_type": "code",
      "metadata": {
        "colab_type": "code",
        "id": "mZXvWt3rK0GD",
        "colab": {}
      },
      "source": [
        "#All Employees, In Thousands; Total Wholesale Trade Providing -South Carolina\n",
        "ari_wholesale = quandl.get(\"BLSE/SMU04000004100000001\", start_date=\"2000-01-01\", end_date=\"2020-08-01\")\n",
        "ari_wholesale.columns= ['Wholesale Trade Value']"
      ],
      "execution_count": 66,
      "outputs": []
    },
    {
      "cell_type": "code",
      "metadata": {
        "colab_type": "code",
        "id": "T6mGe3IVK0GG",
        "colab": {}
      },
      "source": [
        "#All Employees, In Thousands; Total Transportation & Utilities Providing -South Carolina\n",
        "ari_transutil = quandl.get(\"BLSE/SMU04000004300000001\", start_date=\"2000-01-01\", end_date=\"2020-08-01\")\n",
        "ari_transutil.columns= ['Total Transportation & Utilities Value']"
      ],
      "execution_count": 67,
      "outputs": []
    },
    {
      "cell_type": "code",
      "metadata": {
        "colab_type": "code",
        "id": "Rln5YJt5K0GJ",
        "colab": {}
      },
      "source": [
        "#All Employees, In Thousands; Total Truck Transportation Providing -South Carolina\n",
        "ari_truck = quandl.get(\"BLSE/SMU04000004348400001\", start_date=\"2000-01-01\", end_date=\"2020-08-01\")\n",
        "ari_truck.columns= ['Total Truck Transportation Provided Value']"
      ],
      "execution_count": 68,
      "outputs": []
    },
    {
      "cell_type": "code",
      "metadata": {
        "colab_type": "code",
        "id": "PcBx85ILK0GN",
        "colab": {}
      },
      "source": [
        "#All Employees, In Thousands; Total Telecommunications Transportation Providing -South Carolina\n",
        "ari_telecom = quandl.get(\"BLSE/SMU04000005051700001\", start_date=\"2000-01-01\", end_date=\"2020-08-01\")\n",
        "ari_telecom.columns= ['Total Telecommunication Value']"
      ],
      "execution_count": 69,
      "outputs": []
    },
    {
      "cell_type": "code",
      "metadata": {
        "colab_type": "code",
        "id": "H61xT94NK0GR",
        "colab": {}
      },
      "source": [
        "#All Employees, In Thousands; Total Real Estate Transportation Providing -South Carolina\n",
        "ari_air = quandl.get(\"BLSE/SMU04000004348100001\", start_date=\"2000-01-01\", end_date=\"2020-08-01\")\n",
        "ari_air.columns= ['Total Air Transportation Value']"
      ],
      "execution_count": 70,
      "outputs": []
    },
    {
      "cell_type": "code",
      "metadata": {
        "colab_type": "code",
        "id": "lFq-6IiaK0GT",
        "colab": {}
      },
      "source": [
        "ari5 = pd.merge(ari_truck, ari_telecom, on='Date')"
      ],
      "execution_count": 71,
      "outputs": []
    },
    {
      "cell_type": "code",
      "metadata": {
        "colab_type": "code",
        "id": "-oWB5MOZK0GV",
        "colab": {}
      },
      "source": [
        "ari4 = pd.merge(ari_wholesale, ari_transutil, on='Date')"
      ],
      "execution_count": 72,
      "outputs": []
    },
    {
      "cell_type": "code",
      "metadata": {
        "colab_type": "code",
        "id": "eBnCprziK0GX",
        "colab": {}
      },
      "source": [
        "ari3 = pd.merge(ari_manu, ari_durable, on='Date')"
      ],
      "execution_count": 73,
      "outputs": []
    },
    {
      "cell_type": "code",
      "metadata": {
        "colab_type": "code",
        "id": "lXNNca6aK0Ga",
        "colab": {}
      },
      "source": [
        "ari2 = pd.merge(ari_serv, ari_mine, on='Date')"
      ],
      "execution_count": 74,
      "outputs": []
    },
    {
      "cell_type": "code",
      "metadata": {
        "colab_type": "code",
        "id": "R58qnJvIK0Gc",
        "colab": {}
      },
      "source": [
        "ari1 = pd.merge(ari_priv, ari_goods, on='Date')"
      ],
      "execution_count": 75,
      "outputs": []
    },
    {
      "cell_type": "code",
      "metadata": {
        "colab_type": "code",
        "id": "Fm9Yj3hnK0Gd",
        "colab": {}
      },
      "source": [
        "ari = pd.merge(ari_gov, ari_nonfarm, on='Date')"
      ],
      "execution_count": 76,
      "outputs": []
    },
    {
      "cell_type": "code",
      "metadata": {
        "colab_type": "code",
        "id": "FRqfQIPbK0Ge",
        "colab": {}
      },
      "source": [
        "ari_j1 = pd.merge(ari, ari1, on='Date')"
      ],
      "execution_count": 77,
      "outputs": []
    },
    {
      "cell_type": "code",
      "metadata": {
        "colab_type": "code",
        "id": "wTU2k1uuK0Gg",
        "colab": {}
      },
      "source": [
        "ari_j2 = pd.merge(ari_j1, ari2, on='Date')"
      ],
      "execution_count": 78,
      "outputs": []
    },
    {
      "cell_type": "code",
      "metadata": {
        "colab_type": "code",
        "id": "BPbMOCyQK0Gi",
        "colab": {}
      },
      "source": [
        "ari_j3 = pd.merge(ari_j2, ari3, on='Date')"
      ],
      "execution_count": 79,
      "outputs": []
    },
    {
      "cell_type": "code",
      "metadata": {
        "colab_type": "code",
        "id": "8c1URpo2K0Gm",
        "colab": {}
      },
      "source": [
        "ari_j4 = pd.merge(ari_j3, ari4, on='Date')"
      ],
      "execution_count": 80,
      "outputs": []
    },
    {
      "cell_type": "code",
      "metadata": {
        "colab_type": "code",
        "id": "QgCBUsmvK0Gq",
        "colab": {}
      },
      "source": [
        "ari_j5 = pd.merge(ari_j4, ari5, on='Date')"
      ],
      "execution_count": 81,
      "outputs": []
    },
    {
      "cell_type": "code",
      "metadata": {
        "colab_type": "code",
        "id": "K1OA2VXnK0Gs",
        "colab": {}
      },
      "source": [
        "ari_j6 = pd.merge(ari_j5, ari_air, on='Date')\n",
        "# ari_j6"
      ],
      "execution_count": 82,
      "outputs": []
    },
    {
      "cell_type": "code",
      "metadata": {
        "id": "pnW30EImWhtM",
        "colab_type": "code",
        "colab": {}
      },
      "source": [
        "ari_j6['Postal Code'] = 'AZ'\n",
        "ari_j6"
      ],
      "execution_count": null,
      "outputs": []
    },
    {
      "cell_type": "markdown",
      "metadata": {
        "id": "dBR95geVMwe4",
        "colab_type": "text"
      },
      "source": [
        "# Alaska "
      ]
    },
    {
      "cell_type": "code",
      "metadata": {
        "id": "FqTu7GIFM1pj",
        "colab_type": "code",
        "colab": {}
      },
      "source": [
        ""
      ],
      "execution_count": null,
      "outputs": []
    },
    {
      "cell_type": "code",
      "metadata": {
        "colab_type": "code",
        "id": "ISk-n6B7M3ue",
        "colab": {}
      },
      "source": [
        "#All Employees, In Thousands; Total Government Providing -Rhode Island \n",
        "al_gov = quandl.get(\"BLSE/SMU02000009000000001\", start_date=\"2000-01-01\", end_date=\"2020-08-01\")\n",
        "al_gov.columns= ['Total Government Value']"
      ],
      "execution_count": 32,
      "outputs": []
    },
    {
      "cell_type": "code",
      "metadata": {
        "colab_type": "code",
        "id": "By6of4DLM3ul",
        "colab": {}
      },
      "source": [
        "#All Employees, In Thousands; Total Nonfarm Providing -Rhode Island\n",
        "al_nonfarm = quandl.get(\"BLSE/SMU02000000000000001\", start_date=\"2000-01-01\", end_date=\"2020-08-01\")\n",
        "al_nonfarm.columns= ['Total Nonfarm Provided Value']"
      ],
      "execution_count": 33,
      "outputs": []
    },
    {
      "cell_type": "code",
      "metadata": {
        "colab_type": "code",
        "id": "b7B8-SM_M3uq",
        "colab": {}
      },
      "source": [
        "#All Employees, In Thousands; Total Private Providing -South Carolina\n",
        "al_priv = quandl.get(\"BLSE/SMU02000000500000001\", start_date=\"2000-01-01\", end_date=\"2020-08-01\")\n",
        "al_priv.columns= ['Total Private Industry Value']"
      ],
      "execution_count": 34,
      "outputs": []
    },
    {
      "cell_type": "code",
      "metadata": {
        "colab_type": "code",
        "id": "44il3IokM3uy",
        "colab": {}
      },
      "source": [
        "#All Employees, In Thousands; Total Goods Producing Providing -South Carolina\n",
        "al_goods = quandl.get(\"BLSE/SMU02000000600000001\", start_date=\"2000-01-01\", end_date=\"2020-08-01\")\n",
        "al_goods.columns= ['Total Goods Produced Value']"
      ],
      "execution_count": 35,
      "outputs": []
    },
    {
      "cell_type": "code",
      "metadata": {
        "colab_type": "code",
        "id": "B9cqVd7SM3u2",
        "colab": {}
      },
      "source": [
        "#All Employees, In Thousands; Total Service Providing -South Carolina\n",
        "al_serv = quandl.get(\"BLSE/SMU02000000700000001\", start_date=\"2000-01-01\", end_date=\"2020-08-01\")\n",
        "al_serv.columns= ['Total Service Provided Value']"
      ],
      "execution_count": 36,
      "outputs": []
    },
    {
      "cell_type": "code",
      "metadata": {
        "colab_type": "code",
        "id": "D0Rully0M3u9",
        "colab": {}
      },
      "source": [
        "#All Employees, In Thousands; Total Mining & Logging Providing -South Carolina\n",
        "al_mine = quandl.get(\"BLSE/SMU02000001000000001\", start_date=\"2000-01-01\", end_date=\"2020-08-01\")\n",
        "al_mine.columns= ['Total Mining & Logging Value']"
      ],
      "execution_count": 37,
      "outputs": []
    },
    {
      "cell_type": "code",
      "metadata": {
        "colab_type": "code",
        "id": "jhtME9y3M3vE",
        "colab": {}
      },
      "source": [
        "#All Employees, In Thousands; Total Manufacture Providing -South Carolina\n",
        "al_manu = quandl.get(\"BLSE/SMU02000003000000001\", start_date=\"2000-01-01\", end_date=\"2020-08-01\")\n",
        "al_manu.columns= ['Total Manufacture Value']"
      ],
      "execution_count": 38,
      "outputs": []
    },
    {
      "cell_type": "code",
      "metadata": {
        "colab_type": "code",
        "id": "0QN6Sy0YM3vI",
        "colab": {}
      },
      "source": [
        "#All Employees, In Thousands; Total Durable Goods Providing -South Carolina\n",
        "al_durable = quandl.get(\"BLSE/SMU02000003000000001\", start_date=\"2000-01-01\", end_date=\"2020-08-01\")\n",
        "al_durable.columns= ['Total Durable Goods Value']"
      ],
      "execution_count": 39,
      "outputs": []
    },
    {
      "cell_type": "code",
      "metadata": {
        "colab_type": "code",
        "id": "Z8QN8j_sM3vO",
        "colab": {}
      },
      "source": [
        "#All Employees, In Thousands; Total Wholesale Trade Providing -South Carolina\n",
        "al_wholesale = quandl.get(\"BLSE/SMU02000004100000001\", start_date=\"2000-01-01\", end_date=\"2020-08-01\")\n",
        "al_wholesale.columns= ['Wholesale Trade Value']"
      ],
      "execution_count": 40,
      "outputs": []
    },
    {
      "cell_type": "code",
      "metadata": {
        "colab_type": "code",
        "id": "WtZGYO89M3vS",
        "colab": {}
      },
      "source": [
        "#All Employees, In Thousands; Total Transportation & Utilities Providing -South Carolina\n",
        "al_transutil = quandl.get(\"BLSE/SMU02000004300000001\", start_date=\"2000-01-01\", end_date=\"2020-08-01\")\n",
        "al_transutil.columns= ['Total Transportation & Utilities Value']"
      ],
      "execution_count": 41,
      "outputs": []
    },
    {
      "cell_type": "code",
      "metadata": {
        "colab_type": "code",
        "id": "CvFZ_pn2M3vY",
        "colab": {}
      },
      "source": [
        "#All Employees, In Thousands; Total Telecommunications Transportation Providing -South Carolina\n",
        "al_telecom = quandl.get(\"BLSE/SMU02000005051700001\", start_date=\"2000-01-01\", end_date=\"2020-08-01\")\n",
        "al_telecom.columns= ['Total Telecommunication Value']"
      ],
      "execution_count": 42,
      "outputs": []
    },
    {
      "cell_type": "code",
      "metadata": {
        "colab_type": "code",
        "id": "GlOVsGi4M3vd",
        "colab": {}
      },
      "source": [
        "#All Employees, In Thousands; Total Real Estate Transportation Providing -South Carolina\n",
        "al_air = quandl.get(\"BLSE/SMU02000004348100001\", start_date=\"2000-01-01\", end_date=\"2020-08-01\")\n",
        "al_air.columns= ['Total Air Transportation Value']"
      ],
      "execution_count": 43,
      "outputs": []
    },
    {
      "cell_type": "code",
      "metadata": {
        "colab_type": "code",
        "id": "mxaKvQ4fM3vg",
        "colab": {}
      },
      "source": [
        "al5 = pd.merge(al_air, al_telecom, on='Date')"
      ],
      "execution_count": 44,
      "outputs": []
    },
    {
      "cell_type": "code",
      "metadata": {
        "colab_type": "code",
        "id": "aSPM3bw5M3vi",
        "colab": {}
      },
      "source": [
        "al4 = pd.merge(al_wholesale, al_transutil, on='Date')"
      ],
      "execution_count": 45,
      "outputs": []
    },
    {
      "cell_type": "code",
      "metadata": {
        "colab_type": "code",
        "id": "4lugq4KaM3vk",
        "colab": {}
      },
      "source": [
        "al3 = pd.merge(al_manu, al_durable, on='Date')"
      ],
      "execution_count": 46,
      "outputs": []
    },
    {
      "cell_type": "code",
      "metadata": {
        "colab_type": "code",
        "id": "i5SoF8C3M3vn",
        "colab": {}
      },
      "source": [
        "al2 = pd.merge(al_serv, al_mine, on='Date')"
      ],
      "execution_count": 47,
      "outputs": []
    },
    {
      "cell_type": "code",
      "metadata": {
        "colab_type": "code",
        "id": "APgJdQeyM3vp",
        "colab": {}
      },
      "source": [
        "al1 = pd.merge(al_priv, al_goods, on='Date')"
      ],
      "execution_count": 48,
      "outputs": []
    },
    {
      "cell_type": "code",
      "metadata": {
        "colab_type": "code",
        "id": "aAs_ENkgM3vr",
        "colab": {}
      },
      "source": [
        "al = pd.merge(al_gov, al_nonfarm, on='Date')"
      ],
      "execution_count": 49,
      "outputs": []
    },
    {
      "cell_type": "code",
      "metadata": {
        "colab_type": "code",
        "id": "yxqNdEooM3vt",
        "colab": {}
      },
      "source": [
        "al_j1 = pd.merge(al, al1, on='Date')"
      ],
      "execution_count": 51,
      "outputs": []
    },
    {
      "cell_type": "code",
      "metadata": {
        "colab_type": "code",
        "id": "kJBvQVmWM3vx",
        "colab": {}
      },
      "source": [
        "al_j2 = pd.merge(al_j1, al2, on='Date')"
      ],
      "execution_count": 52,
      "outputs": []
    },
    {
      "cell_type": "code",
      "metadata": {
        "colab_type": "code",
        "id": "V3aEQLbHM3v2",
        "colab": {}
      },
      "source": [
        "al_j3 = pd.merge(al_j2, al3, on='Date')"
      ],
      "execution_count": 53,
      "outputs": []
    },
    {
      "cell_type": "code",
      "metadata": {
        "colab_type": "code",
        "id": "Ifk9kPOAM3v5",
        "colab": {}
      },
      "source": [
        "al_j4 = pd.merge(al_j3, al4, on='Date')"
      ],
      "execution_count": 54,
      "outputs": []
    },
    {
      "cell_type": "code",
      "metadata": {
        "colab_type": "code",
        "id": "9VSBPtf5M3v6",
        "colab": {}
      },
      "source": [
        "al_j5 = pd.merge(al_j4, al5, on='Date')\n",
        "# al_j5"
      ],
      "execution_count": 55,
      "outputs": []
    },
    {
      "cell_type": "code",
      "metadata": {
        "id": "b5vDWD3oVc3F",
        "colab_type": "code",
        "colab": {}
      },
      "source": [
        "al_j5['Postal Code'] = 'AK'\n",
        "al_j5"
      ],
      "execution_count": null,
      "outputs": []
    },
    {
      "cell_type": "markdown",
      "metadata": {
        "id": "yqRvMfV_OcXk",
        "colab_type": "text"
      },
      "source": [
        "# Alabama"
      ]
    },
    {
      "cell_type": "code",
      "metadata": {
        "id": "xaG-UA97OfBX",
        "colab_type": "code",
        "colab": {}
      },
      "source": [
        ""
      ],
      "execution_count": null,
      "outputs": []
    },
    {
      "cell_type": "code",
      "metadata": {
        "colab_type": "code",
        "id": "S5wAMwYVOgDs",
        "colab": {}
      },
      "source": [
        "#All Employees, In Thousands; Total Government Providing -Rhode Island \n",
        "ala_gov = quandl.get(\"BLSE/SMU01000009000000001\", start_date=\"2000-01-01\", end_date=\"2020-08-01\")\n",
        "ala_gov.columns= ['Total Government Value']"
      ],
      "execution_count": 5,
      "outputs": []
    },
    {
      "cell_type": "code",
      "metadata": {
        "colab_type": "code",
        "id": "WbuPUs0xOgDx",
        "colab": {}
      },
      "source": [
        "#All Employees, In Thousands; Total Nonfarm Providing -Rhode Island\n",
        "ala_nonfarm = quandl.get(\"BLSE/SMU01000000000000001\", start_date=\"2000-01-01\", end_date=\"2020-08-01\")\n",
        "ala_nonfarm.columns= ['Total Nonfarm Provided Value']"
      ],
      "execution_count": 6,
      "outputs": []
    },
    {
      "cell_type": "code",
      "metadata": {
        "colab_type": "code",
        "id": "6-Fb3HNQOgD2",
        "colab": {}
      },
      "source": [
        "#All Employees, In Thousands; Total Private Providing -South Carolina\n",
        "ala_priv = quandl.get(\"BLSE/SMU01000000500000001\", start_date=\"2000-01-01\", end_date=\"2020-08-01\")\n",
        "ala_priv.columns= ['Total Private Industry Value']"
      ],
      "execution_count": 7,
      "outputs": []
    },
    {
      "cell_type": "code",
      "metadata": {
        "colab_type": "code",
        "id": "PcP069siOgD7",
        "colab": {}
      },
      "source": [
        "#All Employees, In Thousands; Total Goods Producing Providing -South Carolina\n",
        "ala_goods = quandl.get(\"BLSE/SMU01000000600000001\", start_date=\"2000-01-01\", end_date=\"2020-08-01\")\n",
        "ala_goods.columns= ['Total Goods Produced Value']"
      ],
      "execution_count": 8,
      "outputs": []
    },
    {
      "cell_type": "code",
      "metadata": {
        "colab_type": "code",
        "id": "vEWPLpAeOgEA",
        "colab": {}
      },
      "source": [
        "#All Employees, In Thousands; Total Service Providing -South Carolina\n",
        "ala_serv = quandl.get(\"BLSE/SMU01000000700000001\", start_date=\"2000-01-01\", end_date=\"2020-08-01\")\n",
        "ala_serv.columns= ['Total Service Provided Value']"
      ],
      "execution_count": 9,
      "outputs": []
    },
    {
      "cell_type": "code",
      "metadata": {
        "colab_type": "code",
        "id": "Xe_uislHOgEE",
        "colab": {}
      },
      "source": [
        "#All Employees, In Thousands; Total Mining & Logging Providing -South Carolina\n",
        "ala_mine = quandl.get(\"BLSE/SMU01000001000000001\", start_date=\"2000-01-01\", end_date=\"2020-08-01\")\n",
        "ala_mine.columns= ['Total Mining & Logging Value']"
      ],
      "execution_count": 10,
      "outputs": []
    },
    {
      "cell_type": "code",
      "metadata": {
        "colab_type": "code",
        "id": "ViRXrBY6OgEN",
        "colab": {}
      },
      "source": [
        "#All Employees, In Thousands; Total Manufacture Providing -South Carolina\n",
        "ala_manu = quandl.get(\"BLSE/SMU01000003000000001\", start_date=\"2000-01-01\", end_date=\"2020-08-01\")\n",
        "ala_manu.columns= ['Total Manufacture Value']"
      ],
      "execution_count": 11,
      "outputs": []
    },
    {
      "cell_type": "code",
      "metadata": {
        "colab_type": "code",
        "id": "mp8Dh4IMOgEU",
        "colab": {}
      },
      "source": [
        "#All Employees, In Thousands; Total Durable Goods Providing -South Carolina\n",
        "ala_durable = quandl.get(\"BLSE/SMU01000003000000001\", start_date=\"2000-01-01\", end_date=\"2020-08-01\")\n",
        "ala_durable.columns= ['Total Durable Goods Value']"
      ],
      "execution_count": 12,
      "outputs": []
    },
    {
      "cell_type": "code",
      "metadata": {
        "colab_type": "code",
        "id": "o6HvX_YcOgEb",
        "colab": {}
      },
      "source": [
        "#All Employees, In Thousands; Total Wholesale Trade Providing -South Carolina\n",
        "ala_wholesale = quandl.get(\"BLSE/SMU01000004100000001\", start_date=\"2000-01-01\", end_date=\"2020-08-01\")\n",
        "ala_wholesale.columns= ['Wholesale Trade Value']"
      ],
      "execution_count": 13,
      "outputs": []
    },
    {
      "cell_type": "code",
      "metadata": {
        "colab_type": "code",
        "id": "CZo8BLLCOgEg",
        "colab": {}
      },
      "source": [
        "#All Employees, In Thousands; Total Transportation & Utilities Providing -South Carolina\n",
        "ala_transutil = quandl.get(\"BLSE/SMU01000004300000001\", start_date=\"2000-01-01\", end_date=\"2020-08-01\")\n",
        "ala_transutil.columns= ['Total Transportation & Utilities Value']"
      ],
      "execution_count": 14,
      "outputs": []
    },
    {
      "cell_type": "code",
      "metadata": {
        "colab_type": "code",
        "id": "xjSh_fcGOgEn",
        "colab": {}
      },
      "source": [
        "#All Employees, In Thousands; Total Truck Transportation Providing -South Carolina\n",
        "ala_truck = quandl.get(\"BLSE/SMU01000004348400001\", start_date=\"2000-01-01\", end_date=\"2020-08-01\")\n",
        "ala_truck.columns= ['Total Truck Transportation Provided Value']"
      ],
      "execution_count": 15,
      "outputs": []
    },
    {
      "cell_type": "code",
      "metadata": {
        "colab_type": "code",
        "id": "Zhghno3lOgEs",
        "colab": {}
      },
      "source": [
        "#All Employees, In Thousands; Total Telecommunications Transportation Providing -South Carolina\n",
        "ala_telecom = quandl.get(\"BLSE/SMU01000005051700001\", start_date=\"2000-01-01\", end_date=\"2020-08-01\")\n",
        "ala_telecom.columns= ['Total Telecommunication Value']"
      ],
      "execution_count": 16,
      "outputs": []
    },
    {
      "cell_type": "code",
      "metadata": {
        "colab_type": "code",
        "id": "heL-1J1lOgE6",
        "colab": {}
      },
      "source": [
        "ala5 = pd.merge(ala_truck, ala_telecom, on='Date')"
      ],
      "execution_count": 17,
      "outputs": []
    },
    {
      "cell_type": "code",
      "metadata": {
        "colab_type": "code",
        "id": "wVO-h4beOgE9",
        "colab": {}
      },
      "source": [
        "ala4 = pd.merge(ala_wholesale, ala_transutil, on='Date')"
      ],
      "execution_count": 18,
      "outputs": []
    },
    {
      "cell_type": "code",
      "metadata": {
        "colab_type": "code",
        "id": "tk07JIOUOgFA",
        "colab": {}
      },
      "source": [
        "ala3 = pd.merge(ala_manu, ala_durable, on='Date')"
      ],
      "execution_count": 19,
      "outputs": []
    },
    {
      "cell_type": "code",
      "metadata": {
        "colab_type": "code",
        "id": "MMKlYELLOgFC",
        "colab": {}
      },
      "source": [
        "ala2 = pd.merge(ala_serv, ala_mine, on='Date')"
      ],
      "execution_count": 20,
      "outputs": []
    },
    {
      "cell_type": "code",
      "metadata": {
        "colab_type": "code",
        "id": "DNTgEF1pOgFF",
        "colab": {}
      },
      "source": [
        "ala1 = pd.merge(ala_priv, ala_goods, on='Date')"
      ],
      "execution_count": 21,
      "outputs": []
    },
    {
      "cell_type": "code",
      "metadata": {
        "colab_type": "code",
        "id": "_NvobruaOgFI",
        "colab": {}
      },
      "source": [
        "ala = pd.merge(ala_gov, ala_nonfarm, on='Date')"
      ],
      "execution_count": 22,
      "outputs": []
    },
    {
      "cell_type": "code",
      "metadata": {
        "colab_type": "code",
        "id": "jMPy0FgaOgFK",
        "colab": {}
      },
      "source": [
        "ala_j1 = pd.merge(ala, ala1, on='Date')"
      ],
      "execution_count": 23,
      "outputs": []
    },
    {
      "cell_type": "code",
      "metadata": {
        "colab_type": "code",
        "id": "0SJreDDGOgFO",
        "colab": {}
      },
      "source": [
        "ala_j2 = pd.merge(ala_j1, ala2, on='Date')"
      ],
      "execution_count": 24,
      "outputs": []
    },
    {
      "cell_type": "code",
      "metadata": {
        "colab_type": "code",
        "id": "1EN9D3i2OgFQ",
        "colab": {}
      },
      "source": [
        "ala_j3 = pd.merge(ala_j2, ala3, on='Date')"
      ],
      "execution_count": 25,
      "outputs": []
    },
    {
      "cell_type": "code",
      "metadata": {
        "colab_type": "code",
        "id": "TwcKZ-gcOgFV",
        "colab": {}
      },
      "source": [
        "ala_j4 = pd.merge(ala_j3, ala4, on='Date')"
      ],
      "execution_count": 26,
      "outputs": []
    },
    {
      "cell_type": "code",
      "metadata": {
        "colab_type": "code",
        "id": "TvLrIgSaOgFX",
        "colab": {}
      },
      "source": [
        "ala_j5 = pd.merge(ala_j4, ala5, on='Date')\n",
        "# ala_j5"
      ],
      "execution_count": 30,
      "outputs": []
    },
    {
      "cell_type": "code",
      "metadata": {
        "id": "2sfHlONWQwe3",
        "colab_type": "code",
        "colab": {}
      },
      "source": [
        "ala_j5['Postal Code'] = 'AL'"
      ],
      "execution_count": 28,
      "outputs": []
    },
    {
      "cell_type": "code",
      "metadata": {
        "id": "bIeYZaDSRPQd",
        "colab_type": "code",
        "colab": {
          "base_uri": "https://localhost:8080/",
          "height": 671
        },
        "outputId": "b9d5777c-7286-4355-fbe4-f8aae28de996"
      },
      "source": [
        "ala_j5"
      ],
      "execution_count": 29,
      "outputs": [
        {
          "output_type": "execute_result",
          "data": {
            "text/html": [
              "<div>\n",
              "<style scoped>\n",
              "    .dataframe tbody tr th:only-of-type {\n",
              "        vertical-align: middle;\n",
              "    }\n",
              "\n",
              "    .dataframe tbody tr th {\n",
              "        vertical-align: top;\n",
              "    }\n",
              "\n",
              "    .dataframe thead th {\n",
              "        text-align: right;\n",
              "    }\n",
              "</style>\n",
              "<table border=\"1\" class=\"dataframe\">\n",
              "  <thead>\n",
              "    <tr style=\"text-align: right;\">\n",
              "      <th></th>\n",
              "      <th>Total Government Value</th>\n",
              "      <th>Total Nonfarm Provided Value</th>\n",
              "      <th>Total Private Industry Value</th>\n",
              "      <th>Total Goods Produced Value</th>\n",
              "      <th>Total Service Provided Value</th>\n",
              "      <th>Total Mining &amp; Logging Value</th>\n",
              "      <th>Total Manufacture Value</th>\n",
              "      <th>Total Durable Goods Value</th>\n",
              "      <th>Wholesale Trade Value</th>\n",
              "      <th>Total Transportation &amp; Utilities Value</th>\n",
              "      <th>Total Truck Transportation Provided Value</th>\n",
              "      <th>Total Telecommunication Value</th>\n",
              "      <th>Postal Code</th>\n",
              "    </tr>\n",
              "    <tr>\n",
              "      <th>Date</th>\n",
              "      <th></th>\n",
              "      <th></th>\n",
              "      <th></th>\n",
              "      <th></th>\n",
              "      <th></th>\n",
              "      <th></th>\n",
              "      <th></th>\n",
              "      <th></th>\n",
              "      <th></th>\n",
              "      <th></th>\n",
              "      <th></th>\n",
              "      <th></th>\n",
              "      <th></th>\n",
              "    </tr>\n",
              "  </thead>\n",
              "  <tbody>\n",
              "    <tr>\n",
              "      <th>2006-01-31</th>\n",
              "      <td>369.4</td>\n",
              "      <td>1960.8</td>\n",
              "      <td>1591.4</td>\n",
              "      <td>421.7</td>\n",
              "      <td>1539.1</td>\n",
              "      <td>13.0</td>\n",
              "      <td>303.6</td>\n",
              "      <td>303.6</td>\n",
              "      <td>79.6</td>\n",
              "      <td>68.5</td>\n",
              "      <td>29.1</td>\n",
              "      <td>13.5</td>\n",
              "      <td>AL</td>\n",
              "    </tr>\n",
              "    <tr>\n",
              "      <th>2006-02-28</th>\n",
              "      <td>372.6</td>\n",
              "      <td>1972.7</td>\n",
              "      <td>1600.1</td>\n",
              "      <td>423.8</td>\n",
              "      <td>1548.9</td>\n",
              "      <td>13.1</td>\n",
              "      <td>304.5</td>\n",
              "      <td>304.5</td>\n",
              "      <td>80.0</td>\n",
              "      <td>68.5</td>\n",
              "      <td>29.1</td>\n",
              "      <td>13.5</td>\n",
              "      <td>AL</td>\n",
              "    </tr>\n",
              "    <tr>\n",
              "      <th>2006-03-31</th>\n",
              "      <td>374.2</td>\n",
              "      <td>1991.6</td>\n",
              "      <td>1617.4</td>\n",
              "      <td>427.7</td>\n",
              "      <td>1563.9</td>\n",
              "      <td>13.1</td>\n",
              "      <td>305.1</td>\n",
              "      <td>305.1</td>\n",
              "      <td>80.7</td>\n",
              "      <td>69.2</td>\n",
              "      <td>29.3</td>\n",
              "      <td>13.5</td>\n",
              "      <td>AL</td>\n",
              "    </tr>\n",
              "    <tr>\n",
              "      <th>2006-04-30</th>\n",
              "      <td>375.1</td>\n",
              "      <td>1994.9</td>\n",
              "      <td>1619.8</td>\n",
              "      <td>428.0</td>\n",
              "      <td>1566.9</td>\n",
              "      <td>13.0</td>\n",
              "      <td>304.8</td>\n",
              "      <td>304.8</td>\n",
              "      <td>80.7</td>\n",
              "      <td>69.5</td>\n",
              "      <td>29.4</td>\n",
              "      <td>13.3</td>\n",
              "      <td>AL</td>\n",
              "    </tr>\n",
              "    <tr>\n",
              "      <th>2006-05-31</th>\n",
              "      <td>375.9</td>\n",
              "      <td>2000.5</td>\n",
              "      <td>1624.6</td>\n",
              "      <td>428.1</td>\n",
              "      <td>1572.4</td>\n",
              "      <td>13.0</td>\n",
              "      <td>304.9</td>\n",
              "      <td>304.9</td>\n",
              "      <td>81.2</td>\n",
              "      <td>69.8</td>\n",
              "      <td>29.6</td>\n",
              "      <td>13.2</td>\n",
              "      <td>AL</td>\n",
              "    </tr>\n",
              "    <tr>\n",
              "      <th>...</th>\n",
              "      <td>...</td>\n",
              "      <td>...</td>\n",
              "      <td>...</td>\n",
              "      <td>...</td>\n",
              "      <td>...</td>\n",
              "      <td>...</td>\n",
              "      <td>...</td>\n",
              "      <td>...</td>\n",
              "      <td>...</td>\n",
              "      <td>...</td>\n",
              "      <td>...</td>\n",
              "      <td>...</td>\n",
              "      <td>...</td>\n",
              "    </tr>\n",
              "    <tr>\n",
              "      <th>2020-03-31</th>\n",
              "      <td>400.1</td>\n",
              "      <td>2073.8</td>\n",
              "      <td>1673.7</td>\n",
              "      <td>375.7</td>\n",
              "      <td>1698.1</td>\n",
              "      <td>9.8</td>\n",
              "      <td>272.6</td>\n",
              "      <td>272.6</td>\n",
              "      <td>74.3</td>\n",
              "      <td>77.5</td>\n",
              "      <td>26.8</td>\n",
              "      <td>7.6</td>\n",
              "      <td>AL</td>\n",
              "    </tr>\n",
              "    <tr>\n",
              "      <th>2020-04-30</th>\n",
              "      <td>391.5</td>\n",
              "      <td>1871.9</td>\n",
              "      <td>1480.4</td>\n",
              "      <td>348.7</td>\n",
              "      <td>1523.2</td>\n",
              "      <td>9.8</td>\n",
              "      <td>248.5</td>\n",
              "      <td>248.5</td>\n",
              "      <td>72.6</td>\n",
              "      <td>75.8</td>\n",
              "      <td>26.1</td>\n",
              "      <td>7.6</td>\n",
              "      <td>AL</td>\n",
              "    </tr>\n",
              "    <tr>\n",
              "      <th>2020-05-31</th>\n",
              "      <td>378.9</td>\n",
              "      <td>1914.9</td>\n",
              "      <td>1536.0</td>\n",
              "      <td>357.1</td>\n",
              "      <td>1557.8</td>\n",
              "      <td>9.9</td>\n",
              "      <td>253.4</td>\n",
              "      <td>253.4</td>\n",
              "      <td>72.0</td>\n",
              "      <td>79.0</td>\n",
              "      <td>27.2</td>\n",
              "      <td>7.6</td>\n",
              "      <td>AL</td>\n",
              "    </tr>\n",
              "    <tr>\n",
              "      <th>2020-06-30</th>\n",
              "      <td>369.8</td>\n",
              "      <td>1956.5</td>\n",
              "      <td>1586.7</td>\n",
              "      <td>364.2</td>\n",
              "      <td>1592.3</td>\n",
              "      <td>9.9</td>\n",
              "      <td>258.7</td>\n",
              "      <td>258.7</td>\n",
              "      <td>72.5</td>\n",
              "      <td>79.7</td>\n",
              "      <td>26.9</td>\n",
              "      <td>7.5</td>\n",
              "      <td>AL</td>\n",
              "    </tr>\n",
              "    <tr>\n",
              "      <th>2020-07-31</th>\n",
              "      <td>369.2</td>\n",
              "      <td>1967.4</td>\n",
              "      <td>1598.2</td>\n",
              "      <td>368.4</td>\n",
              "      <td>1599.0</td>\n",
              "      <td>10.0</td>\n",
              "      <td>263.0</td>\n",
              "      <td>263.0</td>\n",
              "      <td>70.4</td>\n",
              "      <td>78.9</td>\n",
              "      <td>26.3</td>\n",
              "      <td>7.5</td>\n",
              "      <td>AL</td>\n",
              "    </tr>\n",
              "  </tbody>\n",
              "</table>\n",
              "<p>175 rows × 13 columns</p>\n",
              "</div>"
            ],
            "text/plain": [
              "            Total Government Value  ...  Postal Code\n",
              "Date                                ...             \n",
              "2006-01-31                   369.4  ...           AL\n",
              "2006-02-28                   372.6  ...           AL\n",
              "2006-03-31                   374.2  ...           AL\n",
              "2006-04-30                   375.1  ...           AL\n",
              "2006-05-31                   375.9  ...           AL\n",
              "...                            ...  ...          ...\n",
              "2020-03-31                   400.1  ...           AL\n",
              "2020-04-30                   391.5  ...           AL\n",
              "2020-05-31                   378.9  ...           AL\n",
              "2020-06-30                   369.8  ...           AL\n",
              "2020-07-31                   369.2  ...           AL\n",
              "\n",
              "[175 rows x 13 columns]"
            ]
          },
          "metadata": {
            "tags": []
          },
          "execution_count": 29
        }
      ]
    }
  ]
}